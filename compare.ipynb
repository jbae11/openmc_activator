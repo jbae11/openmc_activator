{
 "cells": [
  {
   "cell_type": "markdown",
   "metadata": {},
   "source": [
    "# Simulate depletion\n",
    "\n",
    "This notebook process the CoNDERC data that contains both experimental and simulation.\n",
    "\n",
    "Running this notebook also performs OpenMC depletion simulations for every experiment.\n",
    "\n",
    "This can take over an hour on a typical laptop but is needed for production of all the results."
   ]
  },
  {
   "cell_type": "code",
   "execution_count": 7,
   "metadata": {},
   "outputs": [],
   "source": [
    "import copy\n",
    "from pathlib import Path\n",
    "\n",
    "import numpy as np\n",
    "import matplotlib.pyplot as plt\n",
    "import openmc\n",
    "import pypact as pp  # needs latest version which can be installed with pip install git+https://github.com/fispact/pypact\n",
    "from urllib.parse import urlparse\n",
    "from urllib.request import urlopen, Request\n",
    "import shutil\n",
    "import tarfile\n",
    "from zipfile import ZipFile\n",
    "import os\n",
    "\n",
    "from openmc_activator import OpenmcActivator"
   ]
  },
  {
   "cell_type": "markdown",
   "metadata": {},
   "source": [
    "This downloads and extracts the CoNDERC data. This contains the FNS experimental data and FISPACT inputs and outputs."
   ]
  },
  {
   "cell_type": "code",
   "execution_count": null,
   "metadata": {},
   "outputs": [
    {
     "name": "stdout",
     "output_type": "stream",
     "text": [
      "completed download\n",
      "Unzipped\n"
     ]
    }
   ],
   "source": [
    "# download zip file\n",
    "conderc_url = 'https://nds.iaea.org/conderc/fusion/files/fns.zip'\n",
    "p = Request(conderc_url, headers={'User-Agent': 'Mozilla/5.0'})\n",
    "with urlopen(p) as response, open('fns.zip', 'wb') as out_file:\n",
    "    shutil.copyfileobj(response, out_file)\n",
    "\n",
    "# unzip\n",
    "with ZipFile('fns.zip', 'r') as f:\n",
    "    f.extractall('.')"
   ]
  },
  {
   "cell_type": "markdown",
   "metadata": {},
   "source": [
    "Read all the experiments from unzipped fns folder."
   ]
  },
  {
   "cell_type": "code",
   "execution_count": null,
   "metadata": {},
   "outputs": [],
   "source": [
    "here = Path('./fns')\n",
    "assert(here.exists()), 'fns folder does not seem to exist. Run `download_fns_fusion_decay.py` first to download and unzip FNS benchmark files.'\n",
    "experiments = {}\n",
    "files = [q for q in here.glob('*') if q.is_dir()]\n",
    "for f in files:\n",
    "    if '_' in f.name: continue\n",
    "    l = list(f.glob('*fluxes*'))\n",
    "    experiments[f.name] = []\n",
    "    for name in l:\n",
    "        x = name.name.replace('_fluxes', '')\n",
    "        experiments[f.name].append(x)"
   ]
  },
  {
   "cell_type": "markdown",
   "metadata": {},
   "source": [
    "Reads the Fispact fluxes file that contains the neutron spectra"
   ]
  },
  {
   "cell_type": "code",
   "execution_count": null,
   "metadata": {},
   "outputs": [],
   "source": [
    "# read flux data\n",
    "flux_dict = {}\n",
    "for k,l in experiments.items():\n",
    "    flux_dict[k] = {}\n",
    "    for exp in l:\n",
    "        ff = pp.FluxesFile()\n",
    "        pp.from_file(ff, here / k / (exp+'_fluxes'))\n",
    "        assert(len(ff.values) == 709)\n",
    "        ebins = ff.boundaries\n",
    "        flux_dict[k][exp] = ff.values"
   ]
  },
  {
   "cell_type": "markdown",
   "metadata": {},
   "source": [
    "Plot and example irradiation neutron spectra.\n",
    "\n",
    "This example plots the neutron spectra used to irradiate silver (Ag) in the 2000 experimental campaign for 5 minutes of irradiation."
   ]
  },
  {
   "cell_type": "code",
   "execution_count": null,
   "metadata": {},
   "outputs": [],
   "source": [
    "# in this case we plot the silver Ag experiment spectrum but you could plot others\n",
    "plt.stairs(values=flux_dict['Ag']['2000exp_5min'], edges=ebins)\n",
    "plt.yscale('log')\n",
    "plt.xscale('log')\n",
    "plt.xlabel('Energy [eV]')  #TODO check these units\n",
    "plt.ylabel('Flux [n/cm$^2$/s]')  #TODO check these units\n",
    "plt.close()"
   ]
  },
  {
   "cell_type": "markdown",
   "metadata": {},
   "source": [
    "Next we read in the experimental data so that it is in a more accessible form.\n",
    "The times, data and uncertainties are read in."
   ]
  },
  {
   "cell_type": "code",
   "execution_count": null,
   "metadata": {},
   "outputs": [],
   "source": [
    "def read_experimental_data(exp_file):\n",
    "    lines = open(exp_file).readlines()\n",
    "    minutes = [q.strip().split()[0] for q in lines]\n",
    "    # it's not always days actually, check other file\n",
    "    vals = [q.strip().split()[1] for q in lines]\n",
    "    unc = [q.strip().split()[2] for q in lines]\n",
    "    return np.array(minutes, dtype=float), np.array(vals, dtype=float), np.array(unc, dtype=float)\n",
    "\n",
    "# TODO consider replacing with pypact\n",
    "def is_days(input_file):\n",
    "    lines = open(input_file, 'r').readlines()\n",
    "    lines = [q for q in lines if 'TIME' in lines]\n",
    "    day_cnt = 0\n",
    "    for line in lines:\n",
    "        if 'DAYS' in line: day_cnt += 1\n",
    "    if day_cnt == len(lines):\n",
    "        return True\n",
    "    elif day_cnt == 0:\n",
    "        return False\n",
    "    else:\n",
    "        raise ValueError('Something is not right')\n",
    "\n",
    "exp_data_dict = {'minutes': {}, 'data': {}, 'unc': {}}\n",
    "for k,l in experiments.items():\n",
    "    for k_ in exp_data_dict:\n",
    "        exp_data_dict[k_][k] = {}\n",
    "    for exp in l:\n",
    "        exp_path = here / k / (exp+'.exp')\n",
    "        exp_path = str(exp_path.absolute())\n",
    "        input_path = here / k / ('TENDL-2017_' + exp + '.i')\n",
    "        input_path = str(input_path.absolute())\n",
    "        is_day = is_days(input_path)\n",
    "        mins, vals, uncs = read_experimental_data(exp_path)\n",
    "        if is_day:\n",
    "            exp_data_dict['minutes'][k][exp] = mins * 60 * 24\n",
    "        else:\n",
    "            exp_data_dict['minutes'][k][exp] = mins\n",
    "        exp_data_dict['data'][k][exp] = vals\n",
    "        exp_data_dict['unc'][k][exp] = uncs\n",
    "        assert(len(mins) == len(vals))"
   ]
  },
  {
   "cell_type": "markdown",
   "metadata": {},
   "source": [
    "Now we get the irradiation setup including the flux and timesteps"
   ]
  },
  {
   "cell_type": "code",
   "execution_count": null,
   "metadata": {},
   "outputs": [],
   "source": [
    "def read_irr_setup(filepath):\n",
    "    ff = pp.InputData()\n",
    "    pp.from_file(ff, filepath)\n",
    "    cleaned_irradschedule = [item for item in ff._irradschedule if item != (0.0, 0.0)]\n",
    "    flux_mag_list = [val[1] for val in cleaned_irradschedule] + [0.0] * len(ff._coolingschedule)\n",
    "    days_list = np.cumsum([val[0] for val in cleaned_irradschedule] + ff._coolingschedule)/ (24*60*60)\n",
    "    return days_list, flux_mag_list\n",
    "\n",
    "def read_mat_setup(filepath):\n",
    "    ff = pp.InputData()\n",
    "    pp.from_file(ff, filepath)\n",
    "    return ff._inventorymass.entries\n",
    "\n",
    "def read_density(filepath):\n",
    "    ff = pp.InputData()\n",
    "    pp.from_file(ff, filepath)\n",
    "    return ff._density\n",
    "\n",
    "setup_dict = {'days': {}, 'flux_mag': {}, 'mass': {}, 'density': {}}\n",
    "for k,l in experiments.items():\n",
    "    for k_ in setup_dict:\n",
    "        setup_dict[k_][k] = {}\n",
    "    for exp in l:\n",
    "        input_path = here / k / ('TENDL-2017_' + exp + '.i')\n",
    "        input_path = str(input_path.absolute())\n",
    "        days, flux_mag = read_irr_setup(input_path)\n",
    "        mass_dict = {k:v/100 for k,v in read_mat_setup(input_path)}\n",
    "        setup_dict['days'][k][exp] = days\n",
    "        setup_dict['flux_mag'][k][exp] = flux_mag\n",
    "        setup_dict['mass'][k][exp] = mass_dict\n",
    "        setup_dict['density'][k][exp] = read_density(input_path)\n",
    "        assert(len(days) == len(flux_mag))\n",
    "        assert(isinstance(mass_dict, dict))\n",
    "    \n",
    "            \n",
    "setup_dict['mg_flux'] = flux_dict\n",
    "setup_dict['ebins'] = ebins"
   ]
  },
  {
   "cell_type": "markdown",
   "metadata": {},
   "source": [
    "Now we can carry out depletion simulations in OpenMC\n",
    "\n",
    "Set the chain file and cross sections to let OpenMC know where to find the data.\n",
    "\n",
    "The nuclear data used can have an impact on how closely the results match.\n",
    "\n",
    "To make this a fair comparison we recommend using the same nuclear data as the original Fispact simulations (Tendl 2017) and the chain file provided within the repository."
   ]
  },
  {
   "cell_type": "code",
   "execution_count": null,
   "metadata": {},
   "outputs": [],
   "source": [
    "# Setting the cross section path to the location used by the CI.\n",
    "# If you are running this locally you will have to change this path to your local cross section path.\n",
    "openmc.config['cross_sections'] = Path.home() / 'nuclear_data' / 'cross_sections.xml'\n",
    "\n",
    "# Setting the chain file to the relative path of the chain file included in the repository.\n",
    "# Also resolving the chain file to the absolute path which is needed till the next release of OpenMC.\n",
    "openmc.config['chain_file'] = Path('./fns_spectrum.chain.xml').resolve()"
   ]
  },
  {
   "cell_type": "markdown",
   "metadata": {},
   "source": [
    "Next we use the experiment descriptions to make OpenMC simulations\n",
    "\n",
    "The irradiation duration, spectra, flux, material and mass are found from the IAEA Conderc benchmarks and passed to OpenMC functions to perform simulations of the experimental setup."
   ]
  },
  {
   "cell_type": "code",
   "execution_count": null,
   "metadata": {},
   "outputs": [
    {
     "name": "stdout",
     "output_type": "stream",
     "text": [
      "Running OpenMC for Os ['2000exp_5min']\n",
      "Running OpenMC for Cd ['2000exp_5min']\n",
      "Running OpenMC for NiCr ['1996exp_7hour', '1996exp_5min', '2000exp_5min']\n",
      "Running OpenMC for Rb ['2000exp_5min']\n"
     ]
    }
   ],
   "source": [
    "openmc_result_dict = {}\n",
    "all_activation_data = []\n",
    "element_exp_names = []\n",
    "for k, l in experiments.items():\n",
    "    \n",
    "    # this loop currently just simulates the Ag irradiation but can be easily\n",
    "    # changed to do every nuclide in the benchmark suit by commenting the\n",
    "    # line below.\n",
    "    # if k != 'Ag': continue\n",
    "    if k not in ['Cd', 'NiCr']: continue\n",
    "\n",
    "    print(f'Running OpenMC for {k} {l}')\n",
    "    \n",
    "    if k not in openmc_result_dict:\n",
    "        openmc_result_dict[k] = {}\n",
    "    for exp in l:\n",
    "        if exp in openmc_result_dict[k]:\n",
    "            continue\n",
    "        ccfe_flux = flux_dict[k][exp]\n",
    "        # ebins is ccfs 709 flux bins\n",
    "        # low to high\n",
    "        # create new chain file\n",
    "\n",
    "        # mass in grams\n",
    "        mass_dict = setup_dict['mass'][k][exp]\n",
    "        days_list = setup_dict['days'][k][exp]\n",
    "        # days are cumulative, so we gotta provide diffs\n",
    "        days_list = np.append(days_list[0], np.diff(days_list))\n",
    "        flux_mag_list = setup_dict['flux_mag'][k][exp]\n",
    "\n",
    "        # make openmc material\n",
    "        mat = openmc.Material()\n",
    "        for el, md in mass_dict.items():\n",
    "            el = el.lower().capitalize()\n",
    "            mat.add_element(el, md, percent_type='wo')\n",
    "        mat.set_density('g/cm3', setup_dict['density'][k][exp])\n",
    "        mat.depletable = True\n",
    "        mat.temperature = 294\n",
    "        tot_mass = sum(mass_dict.values())\n",
    "        mat.volume = tot_mass / mat.density\n",
    "\n",
    "        activation_data = {\n",
    "            'materials': mat,\n",
    "            'multigroup_flux': ccfe_flux,\n",
    "            'energy': ebins,\n",
    "            'source_rate': flux_mag_list,\n",
    "            'timesteps': days_list\n",
    "        }\n",
    "        element_exp_names.append((k,exp))\n",
    "        all_activation_data.append(activation_data)"
   ]
  },
  {
   "cell_type": "code",
   "execution_count": null,
   "metadata": {},
   "outputs": [
    {
     "name": "stderr",
     "output_type": "stream",
     "text": [
      " WARNING: Negative value(s) found on probability table for nuclide Na22 at 294K\n",
      " WARNING: Negative value(s) found on probability table for nuclide Ar36 at 294K\n",
      " WARNING: Negative value(s) found on probability table for nuclide Se79 at 294K\n",
      " WARNING: Negative value(s) found on probability table for nuclide Zr96 at 294K\n",
      " WARNING: Negative value(s) found on probability table for nuclide Nb94 at 294K\n",
      " WARNING: Negative value(s) found on probability table for nuclide Nb95 at 294K\n",
      " WARNING: Negative value(s) found on probability table for nuclide Mo99 at 294K\n",
      " WARNING: Negative value(s) found on probability table for nuclide Ag118_m1 at\n",
      "          294K\n",
      " WARNING: Negative value(s) found on probability table for nuclide Cd106 at 294K\n",
      " WARNING: Negative value(s) found on probability table for nuclide Sn123 at 294K\n",
      " WARNING: Negative value(s) found on probability table for nuclide I131 at 294K\n",
      " WARNING: Negative value(s) found on probability table for nuclide Cs136 at 294K\n",
      " WARNING: Negative value(s) found on probability table for nuclide Eu156 at 294K\n",
      " WARNING: Negative value(s) found on probability table for nuclide Yb168 at 294K\n",
      " WARNING: Negative value(s) found on probability table for nuclide Yb170 at 294K\n",
      " WARNING: Negative value(s) found on probability table for nuclide Yb171 at 294K\n",
      " WARNING: Negative value(s) found on probability table for nuclide Yb172 at 294K\n",
      " WARNING: Negative value(s) found on probability table for nuclide Yb173 at 294K\n",
      " WARNING: Negative value(s) found on probability table for nuclide Yb174 at 294K\n",
      " WARNING: Negative value(s) found on probability table for nuclide Yb176 at 294K\n",
      " WARNING: Negative value(s) found on probability table for nuclide Hf181 at 294K\n",
      " WARNING: Negative value(s) found on probability table for nuclide Hf182 at 294K\n",
      " WARNING: Negative value(s) found on probability table for nuclide Cf250 at 294K\n"
     ]
    },
    {
     "name": "stdout",
     "output_type": "stream",
     "text": [
      "[openmc.deplete] t=0.0 s, dt=300.0 s, source=11160000000.0\n",
      "[openmc.deplete] t=300.0 s, dt=35.000000000000014 s, source=0.0\n"
     ]
    },
    {
     "name": "stderr",
     "output_type": "stream",
     "text": [
      "/home/jon/.neutronicsworkshop2/lib/python3.11/site-packages/uncertainties/core.py:1024: UserWarning: Using UFloat objects with std_dev==0 may give unexpected results.\n",
      "  warn(\"Using UFloat objects with std_dev==0 may give unexpected results.\")\n"
     ]
    },
    {
     "name": "stdout",
     "output_type": "stream",
     "text": [
      "[openmc.deplete] t=335.0 s, dt=16.000000000000014 s, source=0.0\n",
      "[openmc.deplete] t=351.0 s, dt=15.000000000000021 s, source=0.0\n",
      "[openmc.deplete] t=366.0 s, dt=14.999999999999947 s, source=0.0\n",
      "[openmc.deplete] t=380.99999999999994 s, dt=15.000000000000021 s, source=0.0\n",
      "[openmc.deplete] t=395.99999999999994 s, dt=25.999999999999993 s, source=0.0\n",
      "[openmc.deplete] t=421.99999999999994 s, dt=36.00000000000001 s, source=0.0\n",
      "[openmc.deplete] t=457.99999999999994 s, dt=36.00000000000001 s, source=0.0\n",
      "[openmc.deplete] t=493.99999999999994 s, dt=51.999999999999986 s, source=0.0\n",
      "[openmc.deplete] t=545.9999999999999 s, dt=65.99999999999997 s, source=0.0\n",
      "[openmc.deplete] t=611.9999999999999 s, dt=66.00000000000006 s, source=0.0\n",
      "[openmc.deplete] t=678.0 s, dt=93.99999999999996 s, source=0.0\n",
      "[openmc.deplete] t=772.0 s, dt=127.00000000000001 s, source=0.0\n",
      "[openmc.deplete] t=899.0 s, dt=126.00000000000006 s, source=0.0\n",
      "[openmc.deplete] t=1025.0 s, dt=186.99999999999994 s, source=0.0\n",
      "[openmc.deplete] t=1212.0 s, dt=246.00000000000009 s, source=0.0\n",
      "[openmc.deplete] t=1458.0 s, dt=247.00000000000003 s, source=0.0\n",
      "[openmc.deplete] t=1705.0 s, dt=245.99999999999977 s, source=0.0\n",
      "[openmc.deplete] t=1950.9999999999998 s, dt=424.0000000000001 s, source=0.0\n",
      "[openmc.deplete] t=2375.0 s, dt=606.9999999999997 s, source=0.0\n",
      "[openmc.deplete] t=2981.9999999999995 s, dt=606.0 s, source=0.0\n",
      "[openmc.deplete] t=3587.9999999999995 (final operator evaluation)\n"
     ]
    },
    {
     "name": "stderr",
     "output_type": "stream",
     "text": [
      "/home/jon/.neutronicsworkshop2/lib/python3.11/site-packages/openmc/deplete/results.py:94: FutureWarning: The ResultsList.from_hdf5(...) method is no longer necessary and will be removed in a future version of OpenMC. Use Results(...) instead.\n",
      "  warn(\n"
     ]
    },
    {
     "name": "stdout",
     "output_type": "stream",
     "text": [
      "[openmc.deplete] t=0.0 s, dt=300.0 s, source=11160000000.0\n",
      "[openmc.deplete] t=300.0 s, dt=20.00000000000003 s, source=0.0\n"
     ]
    },
    {
     "name": "stderr",
     "output_type": "stream",
     "text": [
      "/home/jon/.neutronicsworkshop2/lib/python3.11/site-packages/uncertainties/core.py:1024: UserWarning: Using UFloat objects with std_dev==0 may give unexpected results.\n",
      "  warn(\"Using UFloat objects with std_dev==0 may give unexpected results.\")\n"
     ]
    },
    {
     "name": "stdout",
     "output_type": "stream",
     "text": [
      "[openmc.deplete] t=320.0 s, dt=14.999999999999984 s, source=0.0\n",
      "[openmc.deplete] t=335.0 s, dt=14.999999999999984 s, source=0.0\n",
      "[openmc.deplete] t=350.0 s, dt=16.000000000000053 s, source=0.0\n",
      "[openmc.deplete] t=366.00000000000006 s, dt=14.999999999999947 s, source=0.0\n",
      "[openmc.deplete] t=381.0 s, dt=15.000000000000021 s, source=0.0\n",
      "[openmc.deplete] t=396.0 s, dt=24.99999999999996 s, source=0.0\n",
      "[openmc.deplete] t=420.99999999999994 s, dt=37.000000000000036 s, source=0.0\n",
      "[openmc.deplete] t=458.0 s, dt=36.00000000000001 s, source=0.0\n",
      "[openmc.deplete] t=494.0 s, dt=48.999999999999964 s, source=0.0\n",
      "[openmc.deplete] t=543.0 s, dt=66.00000000000006 s, source=0.0\n",
      "[openmc.deplete] t=609.0 s, dt=65.99999999999997 s, source=0.0\n",
      "[openmc.deplete] t=675.0 s, dt=93.99999999999996 s, source=0.0\n",
      "[openmc.deplete] t=769.0 s, dt=126.00000000000006 s, source=0.0\n",
      "[openmc.deplete] t=895.0 s, dt=123.00000000000004 s, source=0.0\n",
      "[openmc.deplete] t=1018.0 s, dt=183.99999999999994 s, source=0.0\n",
      "[openmc.deplete] t=1202.0 s, dt=245.99999999999994 s, source=0.0\n",
      "[openmc.deplete] t=1448.0 s, dt=247.00000000000003 s, source=0.0\n",
      "[openmc.deplete] t=1695.0 s, dt=246.00000000000009 s, source=0.0\n",
      "[openmc.deplete] t=1941.0 s, dt=427.0 s, source=0.0\n",
      "[openmc.deplete] t=2368.0 s, dt=606.0 s, source=0.0\n",
      "[openmc.deplete] t=2974.0 s, dt=607.0 s, source=0.0\n",
      "[openmc.deplete] t=3581.0 (final operator evaluation)\n"
     ]
    },
    {
     "name": "stderr",
     "output_type": "stream",
     "text": [
      "/home/jon/.neutronicsworkshop2/lib/python3.11/site-packages/openmc/deplete/results.py:94: FutureWarning: The ResultsList.from_hdf5(...) method is no longer necessary and will be removed in a future version of OpenMC. Use Results(...) instead.\n",
      "  warn(\n"
     ]
    }
   ],
   "source": [
    "obj = OpenmcActivator(\n",
    "    activation_data=all_activation_data,\n",
    "    timestep_units='d',\n",
    "    chain_file='fns_spectrum.chain.xml',\n",
    ")\n",
    "\n",
    "all_metric_dict = obj.activate(metric_list=['mass', 'decay_heat'])"
   ]
  },
  {
   "cell_type": "code",
   "execution_count": null,
   "metadata": {},
   "outputs": [],
   "source": [
    "for entry, (k,exp) in zip(all_metric_dict, element_exp_names):\n",
    "\n",
    "    openmc_result_dict[k][exp] = entry"
   ]
  },
  {
   "cell_type": "markdown",
   "metadata": {},
   "source": [
    "Next we process the Fispact simulations results from the IAEA Conderc benchmarks so that they are ready to plot next to the OpenMC simulation results and the experimental benchmark results."
   ]
  },
  {
   "cell_type": "code",
   "execution_count": null,
   "metadata": {},
   "outputs": [],
   "source": [
    "def read_fispact_output(filepath):\n",
    "    lines = open(filepath).readlines()\n",
    "    # don't read empty lines\n",
    "    read = False\n",
    "\n",
    "    lines = [q for q in lines if q.strip()]\n",
    "    step = 0\n",
    "    # get header\n",
    "    # usually the last # line\n",
    "    for indx, line in enumerate(lines):\n",
    "        if read:\n",
    "            spl = line.strip().split()\n",
    "            now_step = int(spl[0])\n",
    "            assert(step +1 == now_step)\n",
    "            step = now_step\n",
    "            assert(len(spl) == len(col_names)), print(len(spl), len(col_names), '\\n', col_names)\n",
    "            for indx, val in enumerate(spl):\n",
    "                key = col_names[indx]\n",
    "                if key == 'step':\n",
    "                    d[key].append(int(val))\n",
    "                else:\n",
    "                    d[key].append(float(val))\n",
    "            continue\n",
    "        if line[0] == '#' and lines[indx+1][0] != '#':\n",
    "            # this line with the column names\n",
    "            # terrible\n",
    "            l = line.strip().split()[1:]\n",
    "            indx = 0\n",
    "            new_l = []\n",
    "            while True:\n",
    "                if indx >= len(l):\n",
    "                    break\n",
    "                if l[indx].isalpha():\n",
    "                    if l[indx+1][-1] == 'm': # metastable\n",
    "                        if l[indx+1][:-1].isnumeric():\n",
    "                            new_l.append(l[indx]+l[indx+1])\n",
    "                            indx += 2\n",
    "                        else:\n",
    "                            new_l.append(l[indx])\n",
    "                            indx += 1\n",
    "                    else:\n",
    "                        if l[indx+1].isnumeric(): # metastable\n",
    "                            new_l.append(l[indx]+l[indx+1])\n",
    "                            indx += 2\n",
    "                        else:\n",
    "                            new_l.append(l[indx])\n",
    "                            indx += 1\n",
    "                else:\n",
    "                    new_l.append(l[indx])\n",
    "                    indx += 1\n",
    "            d = {k:[] for k in new_l}\n",
    "            read = True\n",
    "            col_names = copy.deepcopy(new_l)\n",
    "            continue\n",
    "    return d\n",
    "\n",
    "\n",
    "fispact_result_dict = {}\n",
    "for k,l in experiments.items():\n",
    "    fispact_result_dict[k] = {}\n",
    "    for exp in l:\n",
    "        output_path = here / k / f'TENDL-2017_{exp}.nuclides'\n",
    "        fispact_result_dict[k][exp] = read_fispact_output(output_path.resolve())"
   ]
  },
  {
   "cell_type": "markdown",
   "metadata": {},
   "source": [
    "We combine the Fispact results (which are per nuclide) so that we have the total values for decay heat."
   ]
  },
  {
   "cell_type": "code",
   "execution_count": null,
   "metadata": {},
   "outputs": [],
   "source": [
    "fispact_imp_nuclides = {}\n",
    "for k,l in experiments.items():\n",
    "    fispact_imp_nuclides[k] = {}\n",
    "    for exp in l:\n",
    "        tot = fispact_result_dict[k][exp]['Total']\n",
    "        indices = [1, len(tot)//2, -1]\n",
    "        fispact_imp_nuclides[k][exp] = {}\n",
    "        for i in indices:\n",
    "            td = {k:v[i] for k,v in fispact_result_dict[k][exp].items() if k not in ['step', 'time', 'uncert', 'Total']}\n",
    "            td = {k:v for k,v in sorted(td.items(), key=lambda item:item[1], reverse=True)}\n",
    "            fispact_imp_nuclides[k][exp][i] = td"
   ]
  },
  {
   "cell_type": "markdown",
   "metadata": {},
   "source": [
    "We now have the OpenMC outputs, Fispact and experimental results in a convenient form  ready for plotting.\n",
    "\n",
    "The next code block plots the results so that they can be compared."
   ]
  },
  {
   "cell_type": "code",
   "execution_count": null,
   "metadata": {},
   "outputs": [
    {
     "name": "stdout",
     "output_type": "stream",
     "text": [
      "1 {'Re190': 2.65578e-09, 'Os192m': 6.99874e-10, 'Os191m': 5.97163e-10, 'Os189m': 4.29433e-10, 'W189': 7.5656e-11, 'Ir191m': 6.12702e-11, 'W185m': 3.74919e-11, 'Re188m': 2.69445e-11, 'Re191': 2.3879e-11, 'Os193': 1.54939e-11, 'Re190m': 1.48351e-11, 'Os191': 1.34387e-11, 'Re189': 7.4046e-12, 'Re188': 7.15575e-12, 'Os183': 4.38552e-12, 'W187': 3.32054e-12, 'Os185': 3.21157e-12, 'Os183m': 2.71664e-12, 'Re186': 1.22243e-13}\n",
      "11 {'Re190': 7.47928e-10, 'Os191m': 5.94161e-10, 'Os189m': 4.2458e-10, 'Ir191m': 6.15163e-11, 'W189': 5.36045e-11, 'Re188m': 2.17745e-11, 'Re191': 1.5871e-11, 'Os193': 1.546e-11, 'Re190m': 1.45315e-11, 'Os191': 1.34905e-11, 'Re188': 7.63402e-12, 'Re189': 7.41704e-12, 'Os183': 4.3647e-12, 'W185m': 3.48857e-12, 'W187': 3.31135e-12, 'Os185': 3.21147e-12, 'Os183m': 2.69855e-12, 'Re186': 1.22153e-13, 'Os192m': 0.0}\n",
      "-1 {'Os191m': 5.69284e-10, 'Os189m': 3.85553e-10, 'Ir191m': 6.34643e-11, 'Os193': 1.51749e-11, 'Os191': 1.39176e-11, 'Re190m': 1.21937e-11, 'Re190': 9.48276e-12, 'Re188': 9.13425e-12, 'Re189': 7.3217e-12, 'Os183': 4.19188e-12, 'Re188m': 3.5709e-12, 'W187': 3.23447e-12, 'Os185': 3.21067e-12, 'W189': 2.88214e-12, 'Os183m': 2.54991e-12, 'Re191': 4.97243e-13, 'Re186': 1.21395e-13, 'W185m': 0.0, 'Os192m': 0.0}\n",
      "1 {'Cd111m': 4.03247e-08, 'Ag110': 1.58526e-08, 'Cd105': 8.55528e-09, 'Ag113m': 5.55352e-09, 'Ag116': 2.45607e-09, 'Ag114': 1.62407e-09, 'Ag112': 1.40449e-09, 'Ag111m': 1.38613e-09, 'Ag108': 1.07966e-09, 'Ag106': 1.04896e-09, 'Ag116m': 5.48245e-10, 'Pd107m': 5.24374e-10, 'Ag109m': 4.1391e-10, 'Pd109m': 3.58024e-10, 'Pd113': 2.84472e-10, 'Pd111': 2.49235e-10, 'Cd115': 2.37476e-10, 'Ag107m': 2.1341e-10, 'Ag113': 1.35938e-10, 'Ag105m': 1.17149e-10, 'Cd117': 4.74346e-11, 'Cd117m': 3.96844e-11, 'Cd107': 2.34807e-11, 'Cd115m': 2.10214e-11, 'Ag115': 9.59073e-12, 'Pd109': 6.90225e-12, 'Pd111m': 5.08965e-12, 'Ag106m': 5.07077e-12, 'Ag111': 3.70614e-12, 'In115m': 1.13607e-12, 'In117': 8.58659e-13, 'In117m': 2.56179e-13}\n",
      "11 {'Cd111m': 3.76549e-08, 'Cd105': 8.0558e-09, 'Ag112': 1.37974e-09, 'Ag106': 9.12737e-10, 'Ag116': 7.07283e-10, 'Ag113m': 3.19433e-10, 'Ag108': 2.68625e-10, 'Cd115': 2.37234e-10, 'Pd111': 2.16871e-10, 'Pd109m': 1.75692e-10, 'Ag113': 1.57686e-10, 'Ag107m': 7.93307e-11, 'Ag111m': 7.84353e-11, 'Ag105m': 7.38226e-11, 'Cd117': 4.63863e-11, 'Cd117m': 3.90326e-11, 'Pd113': 3.14836e-11, 'Cd107': 2.32812e-11, 'Cd115m': 2.10203e-11, 'Pd109': 8.87483e-12, 'Ag115': 8.27812e-12, 'Ag109m': 5.40567e-12, 'Ag106m': 5.06938e-12, 'Pd111m': 5.03841e-12, 'Ag111': 4.52215e-12, 'In115m': 3.0489e-12, 'In117': 2.24192e-12, 'In117m': 6.75922e-13, 'Pd107m': 0.0, 'Ag116m': 0.0, 'Ag114': 0.0, 'Ag110': 0.0}\n",
      "-1 {'Cd111m': 1.86162e-08, 'Cd105': 4.33952e-09, 'Ag112': 1.14921e-09, 'Cd115': 2.34721e-10, 'Ag106': 2.18299e-10, 'Ag113': 1.43057e-10, 'Ag107m': 7.13182e-11, 'Pd111': 5.41921e-11, 'Cd117': 3.68624e-11, 'Cd117m': 3.29203e-11, 'Cd107': 2.1325e-11, 'In115m': 2.12919e-11, 'Cd115m': 2.10091e-11, 'In117': 1.16397e-11, 'Pd109': 1.03742e-11, 'Ag106m': 5.05512e-12, 'Ag111': 4.71401e-12, 'Pd111m': 4.54055e-12, 'Ag111m': 4.12244e-12, 'In117m': 3.89234e-12, 'Ag109m': 3.18592e-12, 'Ag115': 1.48724e-12, 'Ag105m': 6.39409e-13, 'Pd109m': 1.16234e-13, 'Pd113': 0.0, 'Pd107m': 0.0, 'Ag116m': 0.0, 'Ag108': 0.0, 'Ag114': 0.0, 'Ag116': 0.0, 'Ag113m': 0.0, 'Ag110': 0.0}\n",
      "1 {'Ag108': 1.09653e-06, 'Ag106': 5.65171e-07, 'Ag110': 1.87006e-07, 'Ag107m': 5.66618e-08, 'Ag109m': 4.56189e-08, 'Rh104': 3.4799e-08, 'Rh106': 5.32129e-09, 'Pd109m': 3.1127e-09, 'Rh104m': 2.80227e-09, 'Ag106m': 2.09887e-09, 'Pd107m': 1.55064e-09, 'Rh106m': 9.91648e-10, 'Pd109': 8.62904e-11}\n",
      "10 {'Ag106': 4.8286e-07, 'Ag108': 2.27213e-07, 'Rh104': 1.06202e-08, 'Ag106m': 2.09822e-09, 'Pd109m': 1.391e-09, 'Rh104m': 1.17351e-09, 'Rh106m': 9.63671e-10, 'Ag107m': 3.39797e-10, 'Ag109m': 1.76068e-10, 'Pd109': 1.04779e-10, 'Ag110': 1.83549e-11, 'Pd107m': 0.0, 'Rh106': 0.0}\n",
      "-1 {'Ag106': 1.19558e-07, 'Ag106m': 2.09246e-09, 'Rh106m': 7.47658e-10, 'Pd109': 1.15353e-10, 'Ag109m': 2.8106e-11, 'Rh104': 4.68759e-12, 'Pd109m': 1.09772e-12, 'Rh104m': 5.20174e-13, 'Pd107m': 0.0, 'Rh106': 0.0, 'Ag107m': 0.0, 'Ag110': 0.0, 'Ag108': 0.0}\n"
     ]
    }
   ],
   "source": [
    "for k,l in openmc_result_dict.items():\n",
    "    for exp in l:\n",
    "        fispact = fispact_result_dict[k][exp] # results in watts per gram\n",
    "        t_fispact = np.array(fispact['time']) * 365.25 * 60 * 24 # minutes\n",
    "        fispact_microwatt_gram = np.array(fispact['Total']) * 1e6\n",
    "        fispact_uncert = np.array(fispact['uncert'])  * 1e6\n",
    "\n",
    "        # openmc \n",
    "        t_openmc = openmc_result_dict[k][exp]['mass']['meta_time_d']\n",
    "        # t_openmc = np.diff(t_openmc)\n",
    "        decay_indx = 1\n",
    "        t0 = t_openmc[decay_indx]\n",
    "        t_openmc = t_openmc[decay_indx:] - t0\n",
    "        openmc = openmc_result_dict[k][exp]['decay_heat']['meta_total']\n",
    "        mass = openmc_result_dict[k][exp]['mass']['meta_total']\n",
    "        openmc = np.array(openmc) / np.array(mass)\n",
    "        openmc = openmc[decay_indx:] * 1e6 # watts to microwatts\n",
    "        # days to minutes\n",
    "        t_openmc = t_openmc * (60*24)\n",
    "        # add on 0\n",
    "        plt.plot(t_openmc, openmc, label='OPENMC', marker='x', alpha=0.5)\n",
    "\n",
    "        measured = exp_data_dict['data'][k][exp]\n",
    "        t_measured = exp_data_dict['minutes'][k][exp]\n",
    "        unc_measured = exp_data_dict['unc'][k][exp]\n",
    "        # add irradiation time to t_measured\n",
    "        t_measured = np.array(t_measured)\n",
    "\n",
    "        for index,sorted_dict in fispact_imp_nuclides[k][exp].items():\n",
    "            print(index, sorted_dict)\n",
    "\n",
    "        if 'hour' not in exp:\n",
    "            t_measured = t_measured / (60*24)\n",
    "        # plt.errorbar(t_measured, measured, unc_measured, label='Measured', linestyle='--', marker='x')\n",
    "        plt.fill_between(t_measured, measured-(3*unc_measured), measured+(3*unc_measured),\n",
    "                         alpha=0.4, label='Measured')\n",
    "        plt.errorbar(t_fispact, fispact_microwatt_gram, fispact_uncert, label='FISPACT', marker='o', alpha=0.5)\n",
    "        # plt.plot(t_origen, origen, label='ORIGEN', marker='1', alpha=0.5)\n",
    "        plt.yscale('log')\n",
    "        plt.xlabel('Minutes')\n",
    "        plt.ylabel(r'Specific heat [$\\frac{\\mu W}{g}$]')\n",
    "        plt.legend()\n",
    "        plt.grid()\n",
    "        plt.title(k + ' (%s)' %(exp))\n",
    "        plt.savefig(Path('docs') / f'{k}_{exp}.png')\n",
    "        plt.close()"
   ]
  },
  {
   "cell_type": "code",
   "execution_count": null,
   "metadata": {},
   "outputs": [],
   "source": []
  }
 ],
 "metadata": {
  "kernelspec": {
   "display_name": ".neutronicsworkshop",
   "language": "python",
   "name": "python3"
  },
  "language_info": {
   "codemirror_mode": {
    "name": "ipython",
    "version": 3
   },
   "file_extension": ".py",
   "mimetype": "text/x-python",
   "name": "python",
   "nbconvert_exporter": "python",
   "pygments_lexer": "ipython3",
   "version": "3.11.10"
  }
 },
 "nbformat": 4,
 "nbformat_minor": 4
}
