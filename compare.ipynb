{
 "cells": [
  {
   "cell_type": "markdown",
   "metadata": {},
   "source": [
    "# Simulate depletion\n",
    "\n",
    "This notebook process the CoNDERC data that contains both experimental and simulation.\n",
    "\n",
    "Running this notebook also performs OpenMC depletion simulations for every experiment.\n",
    "\n",
    "This can take over an hour on a typical laptop but is needed for production of all the results."
   ]
  },
  {
   "cell_type": "code",
   "execution_count": null,
   "metadata": {
    "execution": {
     "iopub.execute_input": "2025-07-01T09:58:28.990058Z",
     "iopub.status.busy": "2025-07-01T09:58:28.989753Z",
     "iopub.status.idle": "2025-07-01T09:58:29.914612Z",
     "shell.execute_reply": "2025-07-01T09:58:29.914209Z"
    }
   },
   "outputs": [],
   "source": [
    "import copy\n",
    "import shutil\n",
    "\n",
    "from pathlib import Path\n",
    "\n",
    "import numpy as np\n",
    "import matplotlib.pyplot as plt\n",
    "\n",
    "from urllib.request import urlopen, Request\n",
    "from zipfile import ZipFile\n",
    "\n",
    "import openmc\n",
    "import pypact as pp  # needs latest version which can be installed with pip install git+https://github.com/fispact/pypact\n",
    "\n",
    "# allows notebook rendering of plotly plots in the HTML made by jupyter-book\n",
    "import plotly.graph_objects as go\n",
    "import plotly.offline as pyo\n",
    "pyo.init_notebook_mode(connected=True)\n",
    "\n",
    "from openmc_activator import OpenmcActivator, write_markdown_file, read_experimental_data"
   ]
  },
  {
   "cell_type": "markdown",
   "metadata": {},
   "source": [
    "This downloads and extracts the CoNDERC data. This contains the FNS experimental data and FISPACT inputs and outputs."
   ]
  },
  {
   "cell_type": "code",
   "execution_count": null,
   "metadata": {
    "execution": {
     "iopub.execute_input": "2025-07-01T09:58:29.916526Z",
     "iopub.status.busy": "2025-07-01T09:58:29.916414Z",
     "iopub.status.idle": "2025-07-01T09:58:30.529255Z",
     "shell.execute_reply": "2025-07-01T09:58:30.528755Z"
    }
   },
   "outputs": [],
   "source": [
    "# download zip file\n",
    "conderc_url = 'https://nds.iaea.org/conderc/fusion/files/fns.zip'\n",
    "p = Request(conderc_url, headers={'User-Agent': 'Mozilla/5.0'})\n",
    "with urlopen(p) as response, open('fns.zip', 'wb') as out_file:\n",
    "    shutil.copyfileobj(response, out_file)\n",
    "\n",
    "# unzip\n",
    "with ZipFile('fns.zip', 'r') as f:\n",
    "    f.extractall('.')"
   ]
  },
  {
   "cell_type": "markdown",
   "metadata": {},
   "source": [
    "Read all the experiments from unzipped fns folder."
   ]
  },
  {
   "cell_type": "code",
   "execution_count": null,
   "metadata": {
    "execution": {
     "iopub.execute_input": "2025-07-01T09:58:30.531367Z",
     "iopub.status.busy": "2025-07-01T09:58:30.531251Z",
     "iopub.status.idle": "2025-07-01T09:58:30.536403Z",
     "shell.execute_reply": "2025-07-01T09:58:30.535972Z"
    }
   },
   "outputs": [],
   "source": [
    "here = Path('./fns')\n",
    "assert(here.exists()), 'fns folder does not seem to exist. Run `download_fns_fusion_decay.py` first to download and unzip FNS benchmark files.'\n",
    "experiments = {}\n",
    "files = [q for q in here.glob('*') if q.is_dir()]\n",
    "for f in files:\n",
    "    if '_' in f.name: continue\n",
    "    l = list(f.glob('*fluxes*'))\n",
    "    experiments[f.name] = []\n",
    "    for name in l:\n",
    "        x = name.name.replace('_fluxes', '')\n",
    "        experiments[f.name].append(x)"
   ]
  },
  {
   "cell_type": "markdown",
   "metadata": {},
   "source": [
    "Reads the Fispact fluxes file that contains the neutron spectra"
   ]
  },
  {
   "cell_type": "code",
   "execution_count": null,
   "metadata": {
    "execution": {
     "iopub.execute_input": "2025-07-01T09:58:30.538091Z",
     "iopub.status.busy": "2025-07-01T09:58:30.537904Z",
     "iopub.status.idle": "2025-07-01T09:58:30.580251Z",
     "shell.execute_reply": "2025-07-01T09:58:30.579769Z"
    }
   },
   "outputs": [],
   "source": [
    "# read flux data\n",
    "flux_dict = {}\n",
    "for k,l in experiments.items():\n",
    "    flux_dict[k] = {}\n",
    "    for exp in l:\n",
    "        ff = pp.FluxesFile()\n",
    "        pp.from_file(ff, here / k / (exp+'_fluxes'))\n",
    "        assert(len(ff.values) == 709)\n",
    "        ebins = ff.boundaries\n",
    "        flux_dict[k][exp] = ff.values"
   ]
  },
  {
   "cell_type": "markdown",
   "metadata": {},
   "source": [
    "Plot and example irradiation neutron spectra.\n",
    "\n",
    "This example plots the neutron spectra used to irradiate silver (Ag) in the 2000 experimental campaign for 5 minutes of irradiation."
   ]
  },
  {
   "cell_type": "code",
   "execution_count": null,
   "metadata": {
    "execution": {
     "iopub.execute_input": "2025-07-01T09:58:30.582014Z",
     "iopub.status.busy": "2025-07-01T09:58:30.581902Z",
     "iopub.status.idle": "2025-07-01T09:58:30.608773Z",
     "shell.execute_reply": "2025-07-01T09:58:30.608207Z"
    }
   },
   "outputs": [],
   "source": [
    "# in this case we plot the silver Ag experiment spectrum but you could plot others\n",
    "plt.stairs(values=flux_dict['Ag']['2000exp_5min'], edges=ebins)\n",
    "plt.yscale('log')\n",
    "plt.xscale('log')\n",
    "plt.xlabel('Energy [eV]')  #TODO check these units\n",
    "plt.ylabel('Flux [n/cm$^2$/s]')  #TODO check these units\n",
    "plt.close()"
   ]
  },
  {
   "cell_type": "markdown",
   "metadata": {},
   "source": [
    "Next we read in the experimental data so that it is in a more accessible form.\n",
    "The times, data and uncertainties are read in."
   ]
  },
  {
   "cell_type": "code",
   "execution_count": null,
   "metadata": {
    "execution": {
     "iopub.execute_input": "2025-07-01T09:58:30.610609Z",
     "iopub.status.busy": "2025-07-01T09:58:30.610492Z",
     "iopub.status.idle": "2025-07-01T09:58:30.624778Z",
     "shell.execute_reply": "2025-07-01T09:58:30.624364Z"
    }
   },
   "outputs": [],
   "source": [
    "# TODO consider replacing with pypact\n",
    "def is_days(input_file):\n",
    "    lines = open(input_file, 'r').readlines()\n",
    "    lines = [q for q in lines if 'TIME' in lines]\n",
    "    day_cnt = 0\n",
    "    for line in lines:\n",
    "        if 'DAYS' in line: day_cnt += 1\n",
    "    if day_cnt == len(lines):\n",
    "        return True\n",
    "    elif day_cnt == 0:\n",
    "        return False\n",
    "    else:\n",
    "        raise ValueError('Something is not right')\n",
    "\n",
    "exp_data_dict = {'time': {}, 'data': {}, 'uncert': {}}\n",
    "for k,l in experiments.items():\n",
    "    for k_ in exp_data_dict:\n",
    "        exp_data_dict[k_][k] = {}\n",
    "    for exp in l:\n",
    "        exp_path = here / k / (exp+'.exp')\n",
    "        exp_path = str(exp_path.absolute())\n",
    "        input_path = here / k / ('TENDL-2017_' + exp + '.i')\n",
    "        input_path = str(input_path.absolute())\n",
    "        mins, vals, uncs = read_experimental_data(exp_path)\n",
    "        if is_days(input_path):\n",
    "            exp_data_dict['time'][k][exp] = (np.array(mins) * 60 * 24).tolist()\n",
    "        else:\n",
    "            exp_data_dict['time'][k][exp] = mins\n",
    "        exp_data_dict['data'][k][exp] = vals # could convert to micro watts (np.array(vals) * 1e6).tolist()\n",
    "        exp_data_dict['uncert'][k][exp] = uncs\n",
    "        assert(len(mins) == len(vals))"
   ]
  },
  {
   "cell_type": "markdown",
   "metadata": {},
   "source": [
    "Now we get the irradiation setup including the flux and timesteps"
   ]
  },
  {
   "cell_type": "code",
   "execution_count": null,
   "metadata": {
    "execution": {
     "iopub.execute_input": "2025-07-01T09:58:30.626339Z",
     "iopub.status.busy": "2025-07-01T09:58:30.626231Z",
     "iopub.status.idle": "2025-07-01T09:58:30.655591Z",
     "shell.execute_reply": "2025-07-01T09:58:30.655147Z"
    }
   },
   "outputs": [],
   "source": [
    "def read_irr_setup(filepath):\n",
    "    ff = pp.InputData()\n",
    "    pp.from_file(ff, filepath)\n",
    "    cleaned_irradschedule = [item for item in ff._irradschedule if item != (0.0, 0.0)]\n",
    "    flux_mag_list = [val[1] for val in cleaned_irradschedule] + [0.0] * len(ff._coolingschedule)\n",
    "    days_list = np.cumsum([val[0] for val in cleaned_irradschedule] + ff._coolingschedule)/ (24*60*60)\n",
    "    return days_list.tolist(), flux_mag_list\n",
    "\n",
    "def read_mat_setup(filepath):\n",
    "    ff = pp.InputData()\n",
    "    pp.from_file(ff, filepath)\n",
    "    return ff._inventorymass.entries\n",
    "\n",
    "def read_density(filepath):\n",
    "    ff = pp.InputData()\n",
    "    pp.from_file(ff, filepath)\n",
    "    return ff._density\n",
    "\n",
    "setup_dict = {'days': {}, 'flux_mag': {}, 'mass': {}, 'density': {}}\n",
    "for k,l in experiments.items():\n",
    "    for k_ in setup_dict:\n",
    "        setup_dict[k_][k] = {}\n",
    "    for exp in l:\n",
    "        input_path = here / k / ('TENDL-2017_' + exp + '.i')\n",
    "        input_path = str(input_path.absolute())\n",
    "        days, flux_mag = read_irr_setup(input_path)\n",
    "        mass_dict = {k:v/100 for k,v in read_mat_setup(input_path)}\n",
    "        setup_dict['days'][k][exp] = days\n",
    "        setup_dict['flux_mag'][k][exp] = flux_mag\n",
    "        setup_dict['mass'][k][exp] = mass_dict\n",
    "        setup_dict['density'][k][exp] = read_density(input_path)\n",
    "        assert(len(days) == len(flux_mag))\n",
    "        assert(isinstance(mass_dict, dict))\n",
    "    \n",
    "            \n",
    "setup_dict['mg_flux'] = flux_dict\n",
    "setup_dict['ebins'] = ebins"
   ]
  },
  {
   "cell_type": "markdown",
   "metadata": {},
   "source": [
    "Now we can carry out depletion simulations in OpenMC\n",
    "\n",
    "Set the chain file and cross sections to let OpenMC know where to find the data.\n",
    "\n",
    "The nuclear data used can have an impact on how closely the results match.\n",
    "\n",
    "To make this a fair comparison we recommend using the same nuclear data as the original Fispact simulations (Tendl 2017) and the chain file provided within the repository."
   ]
  },
  {
   "cell_type": "code",
   "execution_count": null,
   "metadata": {
    "execution": {
     "iopub.execute_input": "2025-07-01T09:58:30.657275Z",
     "iopub.status.busy": "2025-07-01T09:58:30.657162Z",
     "iopub.status.idle": "2025-07-01T09:58:30.659766Z",
     "shell.execute_reply": "2025-07-01T09:58:30.659306Z"
    }
   },
   "outputs": [],
   "source": [
    "# Setting the cross section path to the location used by the CI.\n",
    "# If you are running this locally you will have to change this path to your local cross section path.\n",
    "openmc.config['cross_sections'] = Path.home() / 'nuclear_data' / 'cross_sections.xml'\n",
    "\n",
    "# Setting the chain file to the relative path of the chain file included in the repository.\n",
    "# Also resolving the chain file to the absolute path which is needed till the next release of OpenMC.\n",
    "openmc.config['chain_file'] = Path('./fns_spectrum.chain.xml').resolve()"
   ]
  },
  {
   "cell_type": "markdown",
   "metadata": {},
   "source": [
    "Next we use the experiment descriptions to make OpenMC simulations\n",
    "\n",
    "The irradiation duration, spectra, flux, material and mass are found from the IAEA Conderc benchmarks and passed to OpenMC functions to perform simulations of the experimental setup."
   ]
  },
  {
   "cell_type": "code",
   "execution_count": null,
   "metadata": {
    "execution": {
     "iopub.execute_input": "2025-07-01T09:58:30.661514Z",
     "iopub.status.busy": "2025-07-01T09:58:30.661413Z",
     "iopub.status.idle": "2025-07-01T09:58:30.966457Z",
     "shell.execute_reply": "2025-07-01T09:58:30.965566Z"
    }
   },
   "outputs": [],
   "source": [
    "openmc_result_dict = {}\n",
    "all_activation_data = []\n",
    "element_exp_names = []\n",
    "for k, l in experiments.items():\n",
    "\n",
    "    # this loop currently just simulates the all materials in the benchmark suite\n",
    "    # it can be changed to simulate a single material by commenting the line below.\n",
    "    # if k != 'Ag': continue\n",
    "    # or it it can be changed to simulate a two materials by commenting the line below.\n",
    "    # if k not in ['Ag', 'Al']: continue\n",
    "\n",
    "    print(f'Running OpenMC for {k} {l}')\n",
    "    \n",
    "    if k not in openmc_result_dict:\n",
    "        openmc_result_dict[k] = {}\n",
    "    for exp in l:\n",
    "        if exp in openmc_result_dict[k]:\n",
    "            continue\n",
    "        ccfe_flux = flux_dict[k][exp]\n",
    "        # ebins is ccfs 709 flux bins\n",
    "        # low to high\n",
    "        # create new chain file\n",
    "\n",
    "        # mass in grams\n",
    "        mass_dict = setup_dict['mass'][k][exp]\n",
    "        days_list = setup_dict['days'][k][exp]\n",
    "        # days are cumulative, so we gotta provide diffs\n",
    "        days_list = np.append(days_list[0], np.diff(days_list))\n",
    "        flux_mag_list = setup_dict['flux_mag'][k][exp]\n",
    "\n",
    "        # make openmc material\n",
    "        mat = openmc.Material()\n",
    "        for el, md in mass_dict.items():\n",
    "            el = el.lower().capitalize()\n",
    "            mat.add_element(el, md, percent_type='wo')\n",
    "        mat.set_density('g/cm3', setup_dict['density'][k][exp])\n",
    "        mat.depletable = True\n",
    "        mat.temperature = 294\n",
    "        tot_mass = sum(mass_dict.values())\n",
    "        mat.volume = tot_mass / mat.density\n",
    "\n",
    "        activation_data = {\n",
    "            'materials': mat,\n",
    "            'multigroup_flux': ccfe_flux,\n",
    "            'energy': ebins,\n",
    "            'source_rate': flux_mag_list,\n",
    "            'timesteps': days_list.tolist()\n",
    "        }\n",
    "        element_exp_names.append((k,exp))\n",
    "        all_activation_data.append(activation_data)"
   ]
  },
  {
   "cell_type": "code",
   "execution_count": null,
   "metadata": {
    "execution": {
     "iopub.execute_input": "2025-07-01T09:58:30.968264Z",
     "iopub.status.busy": "2025-07-01T09:58:30.968149Z",
     "iopub.status.idle": "2025-07-01T10:36:06.589811Z",
     "shell.execute_reply": "2025-07-01T10:36:06.589312Z"
    }
   },
   "outputs": [],
   "source": [
    "obj = OpenmcActivator(\n",
    "    activation_data=all_activation_data,\n",
    "    timestep_units='d',\n",
    "    chain_file=openmc.config['chain_file'],\n",
    ")\n",
    "\n",
    "all_metric_dict = obj.activate(metric_list=['mass', 'decay_heat'])"
   ]
  },
  {
   "cell_type": "code",
   "execution_count": null,
   "metadata": {
    "execution": {
     "iopub.execute_input": "2025-07-01T10:36:06.591832Z",
     "iopub.status.busy": "2025-07-01T10:36:06.591698Z",
     "iopub.status.idle": "2025-07-01T10:36:06.607983Z",
     "shell.execute_reply": "2025-07-01T10:36:06.607400Z"
    }
   },
   "outputs": [],
   "source": [
    "for entry, (k,exp) in zip(all_metric_dict, element_exp_names):\n",
    "\n",
    "    openmc_result_dict[k][exp] = entry"
   ]
  },
  {
   "cell_type": "markdown",
   "metadata": {},
   "source": [
    "Next we process the Fispact simulations results from the IAEA Conderc benchmarks so that they are ready to plot next to the OpenMC simulation results and the experimental benchmark results."
   ]
  },
  {
   "cell_type": "code",
   "execution_count": null,
   "metadata": {
    "execution": {
     "iopub.execute_input": "2025-07-01T10:36:06.609562Z",
     "iopub.status.busy": "2025-07-01T10:36:06.609444Z",
     "iopub.status.idle": "2025-07-01T10:36:06.629943Z",
     "shell.execute_reply": "2025-07-01T10:36:06.629508Z"
    }
   },
   "outputs": [],
   "source": [
    "def read_fispact_output(filepath):\n",
    "    lines = open(filepath).readlines()\n",
    "    # don't read empty lines\n",
    "    read = False\n",
    "\n",
    "    lines = [q for q in lines if q.strip()]\n",
    "    step = 0\n",
    "    # get header\n",
    "    # usually the last # line\n",
    "    for indx, line in enumerate(lines):\n",
    "        if read:\n",
    "            spl = line.strip().split()\n",
    "            now_step = int(spl[0])\n",
    "            assert(step +1 == now_step)\n",
    "            step = now_step\n",
    "            assert(len(spl) == len(col_names)), print(len(spl), len(col_names), '\\n', col_names)\n",
    "            for indx, val in enumerate(spl):\n",
    "                key = col_names[indx]\n",
    "                if key == 'step':\n",
    "                    d[key].append(int(val))\n",
    "                else:\n",
    "                    d[key].append(float(val))\n",
    "            continue\n",
    "        if line[0] == '#' and lines[indx+1][0] != '#':\n",
    "            # this line with the column names\n",
    "            # terrible\n",
    "            l = line.strip().split()[1:]\n",
    "            indx = 0\n",
    "            new_l = []\n",
    "            while True:\n",
    "                if indx >= len(l):\n",
    "                    break\n",
    "                if l[indx].isalpha():\n",
    "                    if l[indx+1][-1] == 'm': # metastable\n",
    "                        if l[indx+1][:-1].isnumeric():\n",
    "                            new_l.append(l[indx]+l[indx+1])\n",
    "                            indx += 2\n",
    "                        else:\n",
    "                            new_l.append(l[indx])\n",
    "                            indx += 1\n",
    "                    else:\n",
    "                        if l[indx+1].isnumeric(): # metastable\n",
    "                            new_l.append(l[indx]+l[indx+1])\n",
    "                            indx += 2\n",
    "                        else:\n",
    "                            new_l.append(l[indx])\n",
    "                            indx += 1\n",
    "                else:\n",
    "                    new_l.append(l[indx])\n",
    "                    indx += 1\n",
    "            d = {k:[] for k in new_l}\n",
    "            read = True\n",
    "            col_names = copy.deepcopy(new_l)\n",
    "            continue\n",
    "    # rename total to decay heat for consistence with OpenMC and experimental results dictionaries\n",
    "    d['decay_heat'] = d.pop('Total')\n",
    "    d['time'] = (np.array(d['time']) * 365.25 * 60 * 24).tolist() # years to minutes\n",
    "    return d\n",
    "\n",
    "\n",
    "fispact_result_dict = {}\n",
    "for k,l in experiments.items():\n",
    "    fispact_result_dict[k] = {}\n",
    "    for exp in l:\n",
    "        output_path = here / k / f'TENDL-2017_{exp}.nuclides'\n",
    "        fispact_result_dict[k][exp] = read_fispact_output(output_path.resolve())"
   ]
  },
  {
   "cell_type": "markdown",
   "metadata": {},
   "source": [
    "We combine the Fispact results (which are per nuclide) so that we have the total values for decay heat."
   ]
  },
  {
   "cell_type": "code",
   "execution_count": null,
   "metadata": {
    "execution": {
     "iopub.execute_input": "2025-07-01T10:36:06.631862Z",
     "iopub.status.busy": "2025-07-01T10:36:06.631719Z",
     "iopub.status.idle": "2025-07-01T10:36:06.636312Z",
     "shell.execute_reply": "2025-07-01T10:36:06.635752Z"
    }
   },
   "outputs": [],
   "source": [
    "fispact_imp_nuclides = {}\n",
    "for k,l in experiments.items():\n",
    "    fispact_imp_nuclides[k] = {}\n",
    "    for exp in l:\n",
    "        tot = fispact_result_dict[k][exp]['decay_heat']\n",
    "        indices = [1, len(tot)//2, -1]\n",
    "        fispact_imp_nuclides[k][exp] = {}\n",
    "        for i in indices:\n",
    "            td = {k:v[i] for k,v in fispact_result_dict[k][exp].items() if k not in ['step', 'time', 'uncert', 'decay_heat']}\n",
    "            td = {k:v for k,v in sorted(td.items(), key=lambda item:item[1], reverse=True)}\n",
    "            fispact_imp_nuclides[k][exp][i] = td"
   ]
  },
  {
   "cell_type": "markdown",
   "metadata": {},
   "source": [
    "We define some plotting functions that will be used later"
   ]
  },
  {
   "cell_type": "code",
   "execution_count": null,
   "metadata": {
    "execution": {
     "iopub.execute_input": "2025-07-01T10:36:06.638035Z",
     "iopub.status.busy": "2025-07-01T10:36:06.637889Z",
     "iopub.status.idle": "2025-07-01T10:36:06.644018Z",
     "shell.execute_reply": "2025-07-01T10:36:06.643547Z"
    }
   },
   "outputs": [],
   "source": [
    "def plot_with_matplotlib(\n",
    "    fispact_time,\n",
    "    fispact_results,\n",
    "    fispact_uncert,\n",
    "    openmc_time,\n",
    "    openmc_results,\n",
    "    measured_time,\n",
    "    measured_results,   \n",
    "    measured_uncert\n",
    "):\n",
    "        # plt.errorbar(measured_time, measured, measured_uncert, label='Measured', linestyle='--', marker='x')\n",
    "        plt.fill_between(\n",
    "            measured_time,\n",
    "            measured_results-(3*measured_uncert),\n",
    "            measured_results+(3*measured_uncert),\n",
    "            alpha=0.4,\n",
    "            label='Measured',\n",
    "            color=(200/255, 200/255, 200/255)\n",
    "        )\n",
    "        plt.plot(\n",
    "            openmc_time,\n",
    "            openmc_results*1e6,\n",
    "            label='OpenMC 0.15.3-dev',\n",
    "            marker='x',\n",
    "            alpha=0.5,\n",
    "            color='red'\n",
    "        )\n",
    "        plt.errorbar(\n",
    "            fispact_time,\n",
    "            fispact_results*1e6,\n",
    "            fispact_uncert,\n",
    "            label='FISPACT II',\n",
    "            marker='o',\n",
    "            alpha=0.5,\n",
    "            color='blue'\n",
    "        )\n",
    "\n",
    "        plt.yscale('log')\n",
    "        plt.xlabel('Minutes')\n",
    "        plt.ylabel(r'Specific heat [$\\frac{\\mu W}{g}$]')\n",
    "        plt.legend()\n",
    "        plt.grid()\n",
    "        plt.title(f'{k} {exp}')\n",
    "        plt.savefig(Path('docs') / f'{k}_{exp}.png')\n",
    "        plt.close()\n",
    "\n",
    "def plot_with_plotly(\n",
    "    fispact_time,\n",
    "    fispact_results,\n",
    "    fispact_uncert,\n",
    "    openmc_time,\n",
    "    openmc_results,\n",
    "    measured_time,\n",
    "    measured_results,\n",
    "    measured_uncert,\n",
    "    openmc_contributions,\n",
    "):\n",
    "    fig = go.Figure()\n",
    "\n",
    "    # Measured data uncertainty band (3 sigma)\n",
    "    fig.add_traces([\n",
    "        go.Scatter(\n",
    "            x=measured_time,\n",
    "            y=measured_results - 3 * measured_uncert,\n",
    "            mode='lines',\n",
    "            line=dict(width=0),\n",
    "            showlegend=False,\n",
    "            hoverinfo='skip'\n",
    "        ),\n",
    "        go.Scatter(\n",
    "            x=measured_time,\n",
    "            y=measured_results + 3 * measured_uncert,\n",
    "            mode='lines',\n",
    "            fill='tonexty',\n",
    "            fillcolor='rgba(200,200,200,0.4)',\n",
    "            name='Measured (3σ band)',\n",
    "            line=dict(width=0),\n",
    "            hoverinfo='skip'\n",
    "        )\n",
    "    ])\n",
    "\n",
    "    # OpenMC results\n",
    "    fig.add_trace(go.Scatter(\n",
    "        x=openmc_time,\n",
    "        y=openmc_results*1e6,\n",
    "        mode='lines+markers',\n",
    "        name='OpenMC 0.15.3-dev',\n",
    "        marker=dict(symbol='x'),\n",
    "        line=dict(dash='solid', color='red'),\n",
    "        opacity=0.7,\n",
    "    ))\n",
    "\n",
    "    for key, value in openmc_contributions.items():\n",
    "        if key.startswith('meta_'):\n",
    "            continue\n",
    "        fig.add_trace(go.Scatter(\n",
    "            x=openmc_time,\n",
    "            y=np.array(value)*1e6,\n",
    "            mode='lines',\n",
    "            name=f'OpenMC {key}',\n",
    "            line=dict(dash='dash'),\n",
    "            opacity=0.5,\n",
    "            visible='legendonly'\n",
    "        ))\n",
    "\n",
    "    # FISPACT II results with error bars\n",
    "    fig.add_trace(go.Scatter(\n",
    "        x=fispact_time,\n",
    "        y=fispact_results*1e6,\n",
    "        mode='markers+lines',\n",
    "        name='FISPACT II',\n",
    "        error_y=dict(\n",
    "            type='data',\n",
    "            array=fispact_uncert,\n",
    "            visible=True\n",
    "        ),\n",
    "        line=dict(dash='solid', color='blue'),\n",
    "        marker=dict(symbol='circle'),\n",
    "        opacity=0.7\n",
    "    ))\n",
    "\n",
    "    fig.update_layout(\n",
    "        yaxis_type=\"log\",\n",
    "        xaxis_title=\"Minutes\",\n",
    "        yaxis_title=r\"Specific heat [μW/g]\",\n",
    "        legend=dict(title=None),\n",
    "        title=f\"{k} {exp}\" if k and exp else \"\",\n",
    "        template=\"plotly_white\"\n",
    "    )\n",
    "    Path('plotly_files').mkdir(exist_ok=True, parents=True)\n",
    "    fig.write_html(Path('plotly_files') / f'{k}_{exp}.html')"
   ]
  },
  {
   "cell_type": "markdown",
   "metadata": {},
   "source": [
    "We now have the OpenMC outputs, Fispact and experimental results in a convenient form  ready for plotting.\n",
    "\n",
    "The next code block plots the results so that they can be compared."
   ]
  },
  {
   "cell_type": "code",
   "execution_count": null,
   "metadata": {
    "execution": {
     "iopub.execute_input": "2025-07-01T10:36:06.645645Z",
     "iopub.status.busy": "2025-07-01T10:36:06.645532Z",
     "iopub.status.idle": "2025-07-01T10:36:28.875726Z",
     "shell.execute_reply": "2025-07-01T10:36:28.874925Z"
    }
   },
   "outputs": [],
   "source": [
    "for k,l in openmc_result_dict.items():\n",
    "    for exp in l:\n",
    "        fispact_time = np.array(fispact_result_dict[k][exp]['time'])\n",
    "        fispact_uncert = np.array(fispact_result_dict[k][exp]['uncert'])\n",
    "        fispact_results = np.array(fispact_result_dict[k][exp]['decay_heat'])\n",
    "\n",
    "        # openmc \n",
    "        openmc_time = openmc_result_dict[k][exp]['mass']['meta_time_d']\n",
    "        decay_indx = 1\n",
    "        t0 = openmc_time[decay_indx]\n",
    "        openmc_time = np.array(openmc_time[decay_indx:]) - t0\n",
    "        openmc_time = openmc_time * (60*24) # days to minutes\n",
    "        openmc_results = openmc_result_dict[k][exp]['decay_heat']['meta_total']\n",
    "        mass = openmc_result_dict[k][exp]['mass']['meta_total']\n",
    "        openmc_results = np.array(openmc_results) / np.array(mass)\n",
    "        openmc_results = openmc_results[decay_indx:]\n",
    "\n",
    "        measured = np.array(exp_data_dict['data'][k][exp])\n",
    "        measured_time = np.array(exp_data_dict['time'][k][exp])\n",
    "        measured_uncert = np.array(exp_data_dict['uncert'][k][exp])\n",
    "        # add irradiation time to measured_time\n",
    "\n",
    "        for index,sorted_dict in fispact_imp_nuclides[k][exp].items():\n",
    "            print(index, sorted_dict)\n",
    "\n",
    "        if 'hour' not in exp:\n",
    "            measured_time = measured_time / (60*24)\n",
    "\n",
    "        plot_with_plotly(\n",
    "            fispact_time,\n",
    "            fispact_results,\n",
    "            fispact_uncert,\n",
    "            openmc_time,\n",
    "            openmc_results,\n",
    "            measured_time,\n",
    "            measured,   \n",
    "            measured_uncert,\n",
    "            openmc_contributions=openmc_result_dict[k][exp]['decay_heat']\n",
    "        )\n",
    "        plot_with_matplotlib(\n",
    "            fispact_time,\n",
    "            fispact_results,\n",
    "            fispact_uncert,\n",
    "            openmc_time,\n",
    "            openmc_results,\n",
    "            measured_time,\n",
    "            measured,   \n",
    "            measured_uncert\n",
    "        )\n",
    "    # uncomment to write markdown files for each material, needed for local rendering of the jupyter book\n",
    "    write_markdown_file(\n",
    "        experiment_names=l,\n",
    "        material_name=k\n",
    "    )\n"
   ]
  },
  {
   "cell_type": "code",
   "execution_count": null,
   "metadata": {
    "execution": {
     "iopub.execute_input": "2025-07-01T10:36:28.877651Z",
     "iopub.status.busy": "2025-07-01T10:36:28.877518Z",
     "iopub.status.idle": "2025-07-01T10:36:29.438981Z",
     "shell.execute_reply": "2025-07-01T10:36:29.438337Z"
    }
   },
   "outputs": [],
   "source": [
    "import json\n",
    "with open('openmc_result_dict.json', 'w') as f:\n",
    "    json.dump(openmc_result_dict, f, indent=2)\n",
    "with open('exp_data_dict.json', 'w') as f:\n",
    "    json.dump(exp_data_dict, f, indent=2)\n",
    "with open('fispact_result_dict.json', 'w') as f:\n",
    "    json.dump(fispact_result_dict, f, indent=2)"
   ]
  }
 ],
 "metadata": {
  "kernelspec": {
   "display_name": ".new_env",
   "language": "python",
   "name": "python3"
  },
  "language_info": {
   "codemirror_mode": {
    "name": "ipython",
    "version": 3
   },
   "file_extension": ".py",
   "mimetype": "text/x-python",
   "name": "python",
   "nbconvert_exporter": "python",
   "pygments_lexer": "ipython3",
   "version": "3.12.0"
  }
 },
 "nbformat": 4,
 "nbformat_minor": 4
}
