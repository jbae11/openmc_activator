{
 "cells": [
  {
   "cell_type": "markdown",
   "metadata": {},
   "source": [
    "# Compare OpenMC deplete with FNS experiment results and Fispact simulations.\n",
    "\n",
    "First import all the Python packages that we will need"
   ]
  },
  {
   "cell_type": "code",
   "execution_count": 18,
   "metadata": {},
   "outputs": [],
   "source": [
    "import copy\n",
    "from pathlib import Path\n",
    "\n",
    "import numpy as np\n",
    "import matplotlib.pyplot as plt\n",
    "import openmc\n",
    "import openmc.deplete\n",
    "\n",
    "from openmc_activator import OpenmcActivator"
   ]
  },
  {
   "cell_type": "markdown",
   "metadata": {},
   "source": [
    "Read all the experiments from unzipped fns folder."
   ]
  },
  {
   "cell_type": "code",
   "execution_count": 19,
   "metadata": {},
   "outputs": [],
   "source": [
    "\n",
    "here = Path('./fns')\n",
    "assert(here.exists()), 'fns folder does not seem to exist. Run `download_fns_fusion_decay.py` first to download and unzip FNS benchmark files.'\n",
    "experiments = {}\n",
    "files = [q for q in here.glob('*') if q.is_dir()]\n",
    "for f in files:\n",
    "    if '_' in f.name: continue\n",
    "    l = list(f.glob('*fluxes*'))\n",
    "    experiments[f.name] = []\n",
    "    for name in l:\n",
    "        x = name.name.replace('_fluxes', '')\n",
    "        experiments[f.name].append(x)"
   ]
  },
  {
   "cell_type": "markdown",
   "metadata": {},
   "source": [
    "Reads the Fispact fluxes file that contains the neutron spectra"
   ]
  },
  {
   "cell_type": "code",
   "execution_count": 20,
   "metadata": {},
   "outputs": [],
   "source": [
    "# TODO consider replacing with pypact\n",
    "def read_flux(flux_file):\n",
    "    lines = open(flux_file).readlines()\n",
    "    # this can't be right\n",
    "    lines = lines[:-2]\n",
    "    lines = [q.strip() for q in lines]\n",
    "    fluxes = ' '.join(lines).split()\n",
    "    fluxes = np.array(fluxes, dtype=float)\n",
    "    return fluxes\n",
    "\n",
    "# read flux data\n",
    "flux_dict = {}\n",
    "for k,l in experiments.items():\n",
    "    flux_dict[k] = {}\n",
    "    for exp in l:\n",
    "        flux_path = here / k / (exp+'_fluxes')\n",
    "        flux_path = str(flux_path.absolute())\n",
    "        fluxes = read_flux(flux_path)\n",
    "        assert(len(fluxes) == 709)\n",
    "        flux_dict[k][exp] = fluxes"
   ]
  },
  {
   "cell_type": "markdown",
   "metadata": {},
   "source": [
    "Plot and example irradiation neutron spectra.\n",
    "\n",
    "This example plots the neutron spectra used to irradiate silver (Ag) in the 2000 experimental campaign for 5 minutes of irradiation."
   ]
  },
  {
   "cell_type": "code",
   "execution_count": 21,
   "metadata": {},
   "outputs": [
    {
     "data": {
      "image/png": "[encoded data removed]",
      "text/plain": [
       "<Figure size 640x480 with 1 Axes>"
      ]
     },
     "metadata": {},
     "output_type": "display_data"
    }
   ],
   "source": [
    "ebins = openmc.mgxs.GROUP_STRUCTURES['CCFE-709']\n",
    "# Fispact make use of energy in the reverse order (high to low).\n",
    "ebins = np.array(ebins[::-1])\n",
    "\n",
    "# in this case we plot the silver Ag experiment spectrum but you could plot others\n",
    "plt.stairs(values=flux_dict['Ag']['2000exp_5min'], edges=ebins)\n",
    "plt.yscale('log')\n",
    "plt.xscale('log')\n"
   ]
  },
  {
   "cell_type": "markdown",
   "metadata": {},
   "source": [
    "Next we read in the experimental data so that it is in a more accessible form.\n",
    "The times, data and uncertainties are read in."
   ]
  },
  {
   "cell_type": "code",
   "execution_count": 22,
   "metadata": {},
   "outputs": [],
   "source": [
    "def read_experimental_data(exp_file):\n",
    "    lines = open(exp_file).readlines()\n",
    "    minutes = [q.strip().split()[0] for q in lines]\n",
    "    # it's not always days actually, check other file\n",
    "    vals = [q.strip().split()[1] for q in lines]\n",
    "    unc = [q.strip().split()[2] for q in lines]\n",
    "    return np.array(minutes, dtype=float), np.array(vals, dtype=float), np.array(unc, dtype=float)\n",
    "\n",
    "# TODO consider replacing with pypact\n",
    "def is_days(input_file):\n",
    "    lines = open(input_file, 'r').readlines()\n",
    "    lines = [q for q in lines if 'TIME' in lines]\n",
    "    day_cnt = 0\n",
    "    for line in lines:\n",
    "        if 'DAYS' in line: day_cnt += 1\n",
    "    if day_cnt == len(lines):\n",
    "        return True\n",
    "    elif day_cnt == 0:\n",
    "        return False\n",
    "    else:\n",
    "        raise ValueError('Something is not right')\n",
    "\n",
    "exp_data_dict = {'minutes': {}, 'data': {}, 'unc': {}}\n",
    "for k,l in experiments.items():\n",
    "    for k_ in exp_data_dict:\n",
    "        exp_data_dict[k_][k] = {}\n",
    "    for exp in l:\n",
    "        exp_path = here / k / (exp+'.exp')\n",
    "        exp_path = str(exp_path.absolute())\n",
    "        input_path = here / k / ('TENDL-2017_' + exp + '.i')\n",
    "        input_path = str(input_path.absolute())\n",
    "        is_day = is_days(input_path)\n",
    "        mins, vals, uncs = read_experimental_data(exp_path)\n",
    "        if is_day:\n",
    "            exp_data_dict['minutes'][k][exp] = mins * 60 * 24\n",
    "        else:\n",
    "            exp_data_dict['minutes'][k][exp] = mins\n",
    "        exp_data_dict['data'][k][exp] = vals\n",
    "        exp_data_dict['unc'][k][exp] = uncs\n",
    "        assert(len(mins) == len(vals))"
   ]
  },
  {
   "cell_type": "markdown",
   "metadata": {},
   "source": [
    "Now we get the irradiation setup including the flux and timesteps"
   ]
  },
  {
   "cell_type": "code",
   "execution_count": 23,
   "metadata": {},
   "outputs": [],
   "source": [
    "# TODO consider replacing with pypact\n",
    "def read_irr_setup(filepath):\n",
    "    lines = open(filepath).readlines()\n",
    "    days_list = []\n",
    "    flux_mag_list = []\n",
    "    for line in lines:\n",
    "        spl = line.strip().split()\n",
    "        if 'FLUX' in line:\n",
    "            assert(len(spl) == 2)\n",
    "            flux_mag = float(spl[1])\n",
    "        if 'TIME' in line:\n",
    "            time_indx = spl.index('TIME')\n",
    "            time_num = float(spl[time_indx+1])\n",
    "            unit = spl[time_indx+2]\n",
    "            if unit == 'ATOMS':\n",
    "                time_num = time_num / (3600*24)\n",
    "            elif unit == 'MINS':\n",
    "                time_num = time_num / (60*24)\n",
    "            elif unit == 'HOURS':\n",
    "                time_num = time_num / (24)\n",
    "            elif unit == 'DAYS':\n",
    "                time_num = time_num\n",
    "            elif unit == 'YEARS':\n",
    "                time_num = time_num * 365.25\n",
    "            else:\n",
    "                raise ValueError('Unrecognized unit [%s]' %unit)\n",
    "            \n",
    "            days_list.append(time_num)\n",
    "            flux_mag_list.append(flux_mag)\n",
    "    return days_list, flux_mag_list\n",
    "\n",
    "# TODO consider replacing with pypact\n",
    "def read_mat_setup(filepath):\n",
    "    lines = open(filepath).readlines()\n",
    "    for indx, line in enumerate(lines):\n",
    "        spl = line.strip().split()\n",
    "        if 'MASS' in line:\n",
    "            assert(len(spl) == 3)\n",
    "            assert(spl[0] == 'MASS')\n",
    "            mass = float(spl[1]) # kg\n",
    "            num_entry = int(spl[2])\n",
    "            break\n",
    "    comp_dict = {}\n",
    "    for i in range(num_entry):\n",
    "        line = lines[indx+i+1]\n",
    "        spl = line.strip().split()\n",
    "        assert(len(spl) == 2)\n",
    "        comp_dict[spl[0]] = float(spl[1])\n",
    "    tot = sum(comp_dict.values())\n",
    "    mass_dict = {k:v/tot * mass for k,v in comp_dict.items()}\n",
    "    return mass_dict\n",
    "\n",
    "# TODO consider replacing with pypact\n",
    "def read_density(filepath):\n",
    "    lines = open(filepath).readlines()\n",
    "    for line in lines:\n",
    "        spl = line.strip().split()\n",
    "        if 'DENSITY' in line:\n",
    "            assert('DENSITY' == spl[0])\n",
    "            return float(spl[1])\n",
    "    raise ValueError('Density not found')\n",
    "\n",
    "\n",
    "setup_dict = {'days': {}, 'flux_mag': {}, 'mass': {}, 'density': {}}\n",
    "for k,l in experiments.items():\n",
    "    for k_ in setup_dict:\n",
    "        setup_dict[k_][k] = {}\n",
    "    for exp in l:\n",
    "        input_path = here / k / ('TENDL-2017_' + exp + '.i')\n",
    "        input_path = str(input_path.absolute())\n",
    "        days, flux_mag = read_irr_setup(input_path)\n",
    "        days = np.cumsum(days)\n",
    "        # kg to grams\n",
    "        mass_dict = {k:v*1e3 for k,v in read_mat_setup(input_path).items()}\n",
    "        setup_dict['days'][k][exp] = days\n",
    "        setup_dict['flux_mag'][k][exp] = flux_mag\n",
    "        setup_dict['mass'][k][exp] = mass_dict\n",
    "        setup_dict['density'][k][exp] = read_density(input_path)\n",
    "        assert(len(days) == len(flux_mag))\n",
    "        assert(isinstance(mass_dict, dict))\n",
    "\n",
    "setup_dict['mg_flux'] = flux_dict\n",
    "setup_dict['ebins'] = ebins"
   ]
  },
  {
   "cell_type": "markdown",
   "metadata": {},
   "source": [
    "Now we can carry out depletion simulations in OpenMC\n",
    "\n",
    "Set the chain file and cross sections to let OpenMC know where to find the data.\n",
    "\n",
    "The nuclear data used can have an impact on how closely the results match.\n",
    "\n",
    "To make this a fair comparison we recommend using the same nuclear data as the original Fispact simulations (Tendl 2017) and the chain file provided within the repository."
   ]
  },
  {
   "cell_type": "code",
   "execution_count": null,
   "metadata": {},
   "outputs": [],
   "source": [
    "# Setting the cross section path to the location used by the CI.\n",
    "# If you are running this locally you will have to change this path to your local cross section path.\n",
    "openmc.config['cross_sections'] = Path.home() / 'nuclear_data' / 'endfb-viii.0-hdf5' / 'cross_sections.xml'\n",
    "\n",
    "# Setting the chain file to the relative path of the chain file included in the repository.\n",
    "# Also resolving the chain file to the absolute path which is needed till the next release of OpenMC.\n",
    "openmc.config['chain_file'] = Path('fns_spectrum.chain.xml').resolve()"
   ]
  },
  {
   "cell_type": "markdown",
   "metadata": {},
   "source": [
    "Next we use the experiment descriptions to make OpenMC simulations\n",
    "\n",
    "The irradiation duration, spectra, flux, material and mass are found from the IAEA Conderc benchmarks and passed to OpenMC functions to perform simulations of the experimental setup."
   ]
  },
  {
   "cell_type": "code",
   "execution_count": 25,
   "metadata": {},
   "outputs": [
    {
     "name": "stdout",
     "output_type": "stream",
     "text": [
      "Running OpenMC for Ag ['2000exp_5min']\n"
     ]
    },
    {
     "name": "stderr",
     "output_type": "stream",
     "text": [
      " WARNING: Negative value(s) found on probability table for nuclide Na22 at 294K\n",
      " WARNING: Negative value(s) found on probability table for nuclide Ar36 at 294K\n",
      " WARNING: Negative value(s) found on probability table for nuclide Se79 at 294K\n",
      " WARNING: Negative value(s) found on probability table for nuclide Zr96 at 294K\n",
      " WARNING: Negative value(s) found on probability table for nuclide Nb94 at 294K\n",
      " WARNING: Negative value(s) found on probability table for nuclide Nb95 at 294K\n",
      " WARNING: Negative value(s) found on probability table for nuclide Mo99 at 294K\n",
      " WARNING: Negative value(s) found on probability table for nuclide Ag118_m1 at\n",
      "          294K\n",
      " WARNING: Negative value(s) found on probability table for nuclide Cd106 at 294K\n",
      " WARNING: Negative value(s) found on probability table for nuclide Sn123 at 294K\n",
      " WARNING: Negative value(s) found on probability table for nuclide I131 at 294K\n",
      " WARNING: Negative value(s) found on probability table for nuclide Cs136 at 294K\n",
      " WARNING: Negative value(s) found on probability table for nuclide Eu156 at 294K\n",
      " WARNING: Negative value(s) found on probability table for nuclide Yb168 at 294K\n",
      " WARNING: Negative value(s) found on probability table for nuclide Yb170 at 294K\n",
      " WARNING: Negative value(s) found on probability table for nuclide Yb171 at 294K\n",
      " WARNING: Negative value(s) found on probability table for nuclide Yb172 at 294K\n",
      " WARNING: Negative value(s) found on probability table for nuclide Yb173 at 294K\n",
      " WARNING: Negative value(s) found on probability table for nuclide Yb174 at 294K\n",
      " WARNING: Negative value(s) found on probability table for nuclide Yb176 at 294K\n",
      " WARNING: Negative value(s) found on probability table for nuclide Hf181 at 294K\n",
      " WARNING: Negative value(s) found on probability table for nuclide Hf182 at 294K\n",
      " WARNING: Negative value(s) found on probability table for nuclide Cf250 at 294K\n",
      "/home/jon/.neutronicsworkshop2/lib/python3.11/site-packages/uncertainties/core.py:1024: UserWarning: Using UFloat objects with std_dev==0 may give unexpected results.\n",
      "  warn(\"Using UFloat objects with std_dev==0 may give unexpected results.\")\n",
      "/home/jon/.neutronicsworkshop2/lib/python3.11/site-packages/openmc/deplete/results.py:94: FutureWarning: The ResultsList.from_hdf5(...) method is no longer necessary and will be removed in a future version of OpenMC. Use Results(...) instead.\n",
      "  warn(\n"
     ]
    }
   ],
   "source": [
    "openmc_result_dict = {}\n",
    "for k, l in experiments.items():\n",
    "    \n",
    "    # this loop currently just simulates the Ag irradiation but can be easily\n",
    "    # changed to do every nuclide in the benchmark suit by commenting the\n",
    "    # line below.\n",
    "    if k != 'Ag': continue\n",
    "    \n",
    "    print(f'Running OpenMC for {k} {l}')\n",
    "    \n",
    "    if k not in openmc_result_dict:\n",
    "        openmc_result_dict[k] = {}\n",
    "    for exp in l:\n",
    "        if exp in openmc_result_dict[k]:\n",
    "            continue\n",
    "        ccfe_flux = flux_dict[k][exp]\n",
    "        # ebins is ccfs 709 flux bins\n",
    "        # low to high\n",
    "        # create new chain file\n",
    "        obj = OpenmcActivator(ebins[::-1], ccfe_flux[::-1])\n",
    "\n",
    "        # mass in grams\n",
    "        mass_dict = setup_dict['mass'][k][exp]\n",
    "        days_list = setup_dict['days'][k][exp]\n",
    "        # days are cumulative, so we gotta provide diffs\n",
    "        days_list = np.append(days_list[0], np.diff(days_list))\n",
    "        flux_mag_list = setup_dict['flux_mag'][k][exp]\n",
    "\n",
    "        # make openmc material\n",
    "        mat = openmc.Material()\n",
    "        for el, md in mass_dict.items():\n",
    "            el = el.lower().capitalize()\n",
    "            mat.add_element(el, md, percent_type='wo')\n",
    "        mat.set_density('g/cm3', setup_dict['density'][k][exp])\n",
    "        mat.depletable = True\n",
    "        tot_mass = sum(mass_dict.values())\n",
    "        mat.volume = tot_mass / mat.density\n",
    "\n",
    "        # activate\n",
    "        metric_dict = obj.activate(mat,\n",
    "                                flux_mag_list,\n",
    "                                days_list,\n",
    "                                # split_irr=n_split,\n",
    "                                metric_list=['mass', 'decay_heat'])\n",
    "        openmc_result_dict[k][exp] = copy.deepcopy(metric_dict)\n"
   ]
  },
  {
   "cell_type": "markdown",
   "metadata": {},
   "source": [
    "Next we process the Fispact simulations results from the IAEA Conderc benchmarks so that they are ready to plot next to the OpenMC simulation results and the experimental benchmark results."
   ]
  },
  {
   "cell_type": "code",
   "execution_count": 26,
   "metadata": {},
   "outputs": [],
   "source": [
    "\n",
    "def read_fispact_output(filepath):\n",
    "    lines = open(filepath).readlines()\n",
    "    # don't read empty lines\n",
    "    read = False\n",
    "\n",
    "    lines = [q for q in lines if q.strip()]\n",
    "    step = 0\n",
    "    # get header\n",
    "    # usually the last # line\n",
    "    for indx, line in enumerate(lines):\n",
    "        if read:\n",
    "            spl = line.strip().split()\n",
    "            now_step = int(spl[0])\n",
    "            assert(step +1 == now_step)\n",
    "            step = now_step\n",
    "            assert(len(spl) == len(col_names)), print(len(spl), len(col_names), '\\n', col_names)\n",
    "            for indx, val in enumerate(spl):\n",
    "                key = col_names[indx]\n",
    "                if key == 'step':\n",
    "                    d[key].append(int(val))\n",
    "                else:\n",
    "                    d[key].append(float(val))\n",
    "            continue\n",
    "        if line[0] == '#' and lines[indx+1][0] != '#':\n",
    "            # this line with the column names\n",
    "            # terrible\n",
    "            l = line.strip().split()[1:]\n",
    "            indx = 0\n",
    "            new_l = []\n",
    "            while True:\n",
    "                if indx >= len(l):\n",
    "                    break\n",
    "                if l[indx].isalpha():\n",
    "                    if l[indx+1][-1] == 'm': # metastable\n",
    "                        if l[indx+1][:-1].isnumeric():\n",
    "                            new_l.append(l[indx]+l[indx+1])\n",
    "                            indx += 2\n",
    "                        else:\n",
    "                            new_l.append(l[indx])\n",
    "                            indx += 1\n",
    "                    else:\n",
    "                        if l[indx+1].isnumeric(): # metastable\n",
    "                            new_l.append(l[indx]+l[indx+1])\n",
    "                            indx += 2\n",
    "                        else:\n",
    "                            new_l.append(l[indx])\n",
    "                            indx += 1\n",
    "                else:\n",
    "                    new_l.append(l[indx])\n",
    "                    indx += 1\n",
    "            d = {k:[] for k in new_l}\n",
    "            read = True\n",
    "            col_names = copy.deepcopy(new_l)\n",
    "            continue\n",
    "    return d\n",
    "\n",
    "\n",
    "fispact_result_dict = {}\n",
    "for k,l in experiments.items():\n",
    "    fispact_result_dict[k] = {}\n",
    "    for exp in l:\n",
    "        output_path = here / k / f'TENDL-2017_{exp}.nuclides'\n",
    "        fispact_result_dict[k][exp] = read_fispact_output(output_path.resolve())"
   ]
  },
  {
   "cell_type": "markdown",
   "metadata": {},
   "source": [
    "We combine the Fispact results (which are per nuclide) so that we have the total values for decay heat."
   ]
  },
  {
   "cell_type": "code",
   "execution_count": 27,
   "metadata": {},
   "outputs": [],
   "source": [
    "fispact_imp_nuclides = {}\n",
    "for k,l in experiments.items():\n",
    "    fispact_imp_nuclides[k] = {}\n",
    "    for exp in l:\n",
    "        tot = fispact_result_dict[k][exp]['Total']\n",
    "        indices = [1, len(tot)//2, -1]\n",
    "        fispact_imp_nuclides[k][exp] = {}\n",
    "        for i in indices:\n",
    "            td = {k:v[i] for k,v in fispact_result_dict[k][exp].items() if k not in ['step', 'time', 'uncert', 'Total']}\n",
    "            td = {k:v for k,v in sorted(td.items(), key=lambda item:item[1], reverse=True)}\n",
    "            fispact_imp_nuclides[k][exp][i] = td\n"
   ]
  },
  {
   "cell_type": "markdown",
   "metadata": {},
   "source": [
    "We now have the OpenMC outputs, Fispact and experimental results in a convenient form  ready for plotting.\n",
    "\n",
    "The next code block plots the results so that they can be compared."
   ]
  },
  {
   "cell_type": "code",
   "execution_count": 28,
   "metadata": {},
   "outputs": [
    {
     "name": "stdout",
     "output_type": "stream",
     "text": [
      "1 {'Ag108': 1.09653e-06, 'Ag106': 5.65171e-07, 'Ag110': 1.87006e-07, 'Ag107m': 5.66618e-08, 'Ag109m': 4.56189e-08, 'Rh104': 3.4799e-08, 'Rh106': 5.32129e-09, 'Pd109m': 3.1127e-09, 'Rh104m': 2.80227e-09, 'Ag106m': 2.09887e-09, 'Pd107m': 1.55064e-09, 'Rh106m': 9.91648e-10, 'Pd109': 8.62904e-11}\n",
      "10 {'Ag106': 4.8286e-07, 'Ag108': 2.27213e-07, 'Rh104': 1.06202e-08, 'Ag106m': 2.09822e-09, 'Pd109m': 1.391e-09, 'Rh104m': 1.17351e-09, 'Rh106m': 9.63671e-10, 'Ag107m': 3.39797e-10, 'Ag109m': 1.76068e-10, 'Pd109': 1.04779e-10, 'Ag110': 1.83549e-11, 'Pd107m': 0.0, 'Rh106': 0.0}\n",
      "-1 {'Ag106': 1.19558e-07, 'Ag106m': 2.09246e-09, 'Rh106m': 7.47658e-10, 'Pd109': 1.15353e-10, 'Ag109m': 2.8106e-11, 'Rh104': 4.68759e-12, 'Pd109m': 1.09772e-12, 'Rh104m': 5.20174e-13, 'Pd107m': 0.0, 'Rh106': 0.0, 'Ag107m': 0.0, 'Ag110': 0.0, 'Ag108': 0.0}\n"
     ]
    },
    {
     "data": {
      "image/png": "[encoded data removed]",
      "text/plain": [
       "<Figure size 640x480 with 1 Axes>"
      ]
     },
     "metadata": {},
     "output_type": "display_data"
    }
   ],
   "source": [
    "for k,l in openmc_result_dict.items():\n",
    "    for exp in l:\n",
    "        fispact = fispact_result_dict[k][exp] # results in watts per gram\n",
    "        t_fispact = np.array(fispact['time']) * 365.25 * 60 * 24 # minutes\n",
    "        fispact_microwatt_gram = np.array(fispact['Total']) * 1e6\n",
    "        fispact_uncert = np.array(fispact['uncert'])  * 1e6\n",
    "\n",
    "\n",
    "        # openmc \n",
    "        t_openmc = openmc_result_dict[k][exp]['mass']['meta_time_d']\n",
    "        # t_openmc = np.diff(t_openmc)\n",
    "        decay_indx = 1\n",
    "        t0 = t_openmc[decay_indx]\n",
    "        t_openmc = t_openmc[decay_indx:] - t0\n",
    "        openmc = openmc_result_dict[k][exp]['decay_heat']['meta_total']\n",
    "        mass = openmc_result_dict[k][exp]['mass']['meta_total']\n",
    "        openmc = np.array(openmc) / np.array(mass)\n",
    "        openmc = openmc[decay_indx:] * 1e6 # watts to microwatts\n",
    "        # days to minutes\n",
    "        t_openmc = t_openmc * (60*24)\n",
    "        # add on 0\n",
    "        plt.plot(t_openmc, openmc, label='OPENMC', marker='x', alpha=0.5)\n",
    "\n",
    "\n",
    "\n",
    "        measured = exp_data_dict['data'][k][exp]\n",
    "        t_measured = exp_data_dict['minutes'][k][exp]\n",
    "        unc_measured = exp_data_dict['unc'][k][exp]\n",
    "        # add irradiation time to t_measured\n",
    "        t_measured = np.array(t_measured)\n",
    "\n",
    "        for index,sorted_dict in fispact_imp_nuclides[k][exp].items():\n",
    "            print(index, sorted_dict)\n",
    "\n",
    "        if 'hour' not in exp:\n",
    "            t_measured = t_measured / (60*24)\n",
    "        # plt.errorbar(t_measured, measured, unc_measured, label='Measured', linestyle='--', marker='x')\n",
    "        plt.fill_between(t_measured, measured-(3*unc_measured), measured+(3*unc_measured),\n",
    "                         alpha=0.4, label='Measured')\n",
    "        plt.errorbar(t_fispact, fispact_microwatt_gram, fispact_uncert, label='FISPACT', marker='o', alpha=0.5)\n",
    "        # plt.plot(t_origen, origen, label='ORIGEN', marker='1', alpha=0.5)\n",
    "        plt.yscale('log')\n",
    "        plt.xlabel('Minutes')\n",
    "        plt.ylabel(r'Specific heat [$\\frac{\\mu W}{g}$]')\n",
    "        plt.legend()\n",
    "        plt.grid()\n",
    "        plt.title(k + ' (%s)' %(exp))\n",
    "        plt.show()\n",
    "        plt.close()\n"
   ]
  }
 ],
 "metadata": {
  "kernelspec": {
   "display_name": ".neutronicsworkshop2",
   "language": "python",
   "name": "python3"
  },
  "language_info": {
   "codemirror_mode": {
    "name": "ipython",
    "version": 3
   },
   "file_extension": ".py",
   "mimetype": "text/x-python",
   "name": "python",
   "nbconvert_exporter": "python",
   "pygments_lexer": "ipython3",
   "version": "3.11.0rc1"
  }
 },
 "nbformat": 4,
 "nbformat_minor": 2
}
