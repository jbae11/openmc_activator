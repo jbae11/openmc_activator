{
 "cells": [
  {
   "cell_type": "markdown",
   "metadata": {},
   "source": [
    "# Simulate depletion\n",
    "\n",
    "This notebook process the CoNDERC data that contains both experimental and simulation.\n",
    "\n",
    "Running this notebook also performs OpenMC depletion simulations for every experiment.\n",
    "\n",
    "This can take over an hour on a typical laptop but is needed for production of all the results."
   ]
  },
  {
   "cell_type": "code",
   "execution_count": null,
   "metadata": {
    "execution": {
     "iopub.execute_input": "2025-06-14T21:05:50.695928Z",
     "iopub.status.busy": "2025-06-14T21:05:50.695606Z",
     "iopub.status.idle": "2025-06-14T21:05:52.539205Z",
     "shell.execute_reply": "2025-06-14T21:05:52.538063Z"
    }
   },
   "outputs": [],
   "source": [
    "import copy\n",
    "import shutil\n",
    "\n",
    "from pathlib import Path\n",
    "from zipfile import ZipFile\n",
    "from urllib.request import urlopen, Request\n",
    "\n",
    "import numpy as np\n",
    "import matplotlib.pyplot as plt\n",
    "import openmc\n",
    "import pypact as pp  # needs latest pypact which can be installed with pip install git+https://github.com/fispact/pypact\n",
    "\n",
    "from openmc_activator import OpenmcActivator"
   ]
  },
  {
   "cell_type": "markdown",
   "metadata": {},
   "source": [
    "This downloads and extracts the CoNDERC data. This contains the FNS experimental data and FISPACT inputs and outputs."
   ]
  },
  {
   "cell_type": "code",
   "execution_count": 2,
   "metadata": {
    "execution": {
     "iopub.execute_input": "2025-06-14T21:05:52.543524Z",
     "iopub.status.busy": "2025-06-14T21:05:52.543044Z",
     "iopub.status.idle": "2025-06-14T21:05:54.327137Z",
     "shell.execute_reply": "2025-06-14T21:05:54.325127Z"
    }
   },
   "outputs": [],
   "source": [
    "# download zip file\n",
    "conderc_url = 'https://nds.iaea.org/conderc/fusion/files/fns.zip'\n",
    "p = Request(conderc_url, headers={'User-Agent': 'Mozilla/5.0'})\n",
    "with urlopen(p) as response, open('fns.zip', 'wb') as out_file:\n",
    "    shutil.copyfileobj(response, out_file)\n",
    "\n",
    "# unzip\n",
    "with ZipFile('fns.zip', 'r') as f:\n",
    "    f.extractall('.')"
   ]
  },
  {
   "cell_type": "markdown",
   "metadata": {},
   "source": [
    "Read all the experiments from unzipped fns folder."
   ]
  },
  {
   "cell_type": "code",
   "execution_count": 3,
   "metadata": {
    "execution": {
     "iopub.execute_input": "2025-06-14T21:05:54.332944Z",
     "iopub.status.busy": "2025-06-14T21:05:54.332595Z",
     "iopub.status.idle": "2025-06-14T21:05:54.349883Z",
     "shell.execute_reply": "2025-06-14T21:05:54.348250Z"
    }
   },
   "outputs": [],
   "source": [
    "here = Path('./fns')\n",
    "assert(here.exists()), 'fns folder does not seem to exist. Run `download_fns_fusion_decay.py` first to download and unzip FNS benchmark files.'\n",
    "experiments = {}\n",
    "files = [q for q in here.glob('*') if q.is_dir()]\n",
    "for f in files:\n",
    "    if '_' in f.name: continue\n",
    "    l = list(f.glob('*fluxes*'))\n",
    "    experiments[f.name] = []\n",
    "    for name in l:\n",
    "        x = name.name.replace('_fluxes', '')\n",
    "        experiments[f.name].append(x)"
   ]
  },
  {
   "cell_type": "markdown",
   "metadata": {},
   "source": [
    "Reads the Fispact fluxes file that contains the neutron spectra"
   ]
  },
  {
   "cell_type": "code",
   "execution_count": 4,
   "metadata": {
    "execution": {
     "iopub.execute_input": "2025-06-14T21:05:54.357529Z",
     "iopub.status.busy": "2025-06-14T21:05:54.356939Z",
     "iopub.status.idle": "2025-06-14T21:05:54.523609Z",
     "shell.execute_reply": "2025-06-14T21:05:54.522100Z"
    }
   },
   "outputs": [],
   "source": [
    "# read flux data\n",
    "flux_dict = {}\n",
    "for k,l in experiments.items():\n",
    "    flux_dict[k] = {}\n",
    "    for exp in l:\n",
    "        ff = pp.FluxesFile()\n",
    "        pp.from_file(ff, here / k / (exp+'_fluxes'))\n",
    "        assert(len(ff.values) == 709)\n",
    "        ebins = ff.boundaries\n",
    "        flux_dict[k][exp] = ff.values"
   ]
  },
  {
   "cell_type": "markdown",
   "metadata": {},
   "source": [
    "Plot and example irradiation neutron spectra.\n",
    "\n",
    "This example plots the neutron spectra used to irradiate silver (Ag) in the 2000 experimental campaign for 5 minutes of irradiation."
   ]
  },
  {
   "cell_type": "code",
   "execution_count": 5,
   "metadata": {
    "execution": {
     "iopub.execute_input": "2025-06-14T21:05:54.528804Z",
     "iopub.status.busy": "2025-06-14T21:05:54.528378Z",
     "iopub.status.idle": "2025-06-14T21:05:54.629503Z",
     "shell.execute_reply": "2025-06-14T21:05:54.628443Z"
    }
   },
   "outputs": [],
   "source": [
    "# in this case we plot the silver Ag experiment spectrum but you could plot others\n",
    "plt.stairs(values=flux_dict['Ag']['2000exp_5min'], edges=ebins)\n",
    "plt.yscale('log')\n",
    "plt.xscale('log')\n",
    "plt.xlabel('Energy [eV]')  #TODO check these units\n",
    "plt.ylabel('Flux [n/cm$^2$/s]')  #TODO check these units\n",
    "plt.close()"
   ]
  },
  {
   "cell_type": "markdown",
   "metadata": {},
   "source": [
    "Next we read in the experimental data so that it is in a more accessible form.\n",
    "The times, data and uncertainties are read in."
   ]
  },
  {
   "cell_type": "code",
   "execution_count": 6,
   "metadata": {
    "execution": {
     "iopub.execute_input": "2025-06-14T21:05:54.635334Z",
     "iopub.status.busy": "2025-06-14T21:05:54.634655Z",
     "iopub.status.idle": "2025-06-14T21:05:54.694324Z",
     "shell.execute_reply": "2025-06-14T21:05:54.692453Z"
    }
   },
   "outputs": [],
   "source": [
    "def read_experimental_data(exp_file):\n",
    "    lines = open(exp_file).readlines()\n",
    "    minutes = [q.strip().split()[0] for q in lines]\n",
    "    # it's not always days actually, check other file\n",
    "    vals = [q.strip().split()[1] for q in lines]\n",
    "    unc = [q.strip().split()[2] for q in lines]\n",
    "    return np.array(minutes, dtype=float), np.array(vals, dtype=float), np.array(unc, dtype=float)\n",
    "\n",
    "# TODO consider replacing with pypact\n",
    "def is_days(input_file):\n",
    "    lines = open(input_file, 'r').readlines()\n",
    "    lines = [q for q in lines if 'TIME' in lines]\n",
    "    day_cnt = 0\n",
    "    for line in lines:\n",
    "        if 'DAYS' in line: day_cnt += 1\n",
    "    if day_cnt == len(lines):\n",
    "        return True\n",
    "    elif day_cnt == 0:\n",
    "        return False\n",
    "    else:\n",
    "        raise ValueError('Something is not right')\n",
    "\n",
    "exp_data_dict = {'minutes': {}, 'data': {}, 'unc': {}}\n",
    "for k,l in experiments.items():\n",
    "    for k_ in exp_data_dict:\n",
    "        exp_data_dict[k_][k] = {}\n",
    "    for exp in l:\n",
    "        exp_path = here / k / (exp+'.exp')\n",
    "        exp_path = str(exp_path.absolute())\n",
    "        input_path = here / k / ('TENDL-2017_' + exp + '.i')\n",
    "        input_path = str(input_path.absolute())\n",
    "        is_day = is_days(input_path)\n",
    "        mins, vals, uncs = read_experimental_data(exp_path)\n",
    "        if is_day:\n",
    "            exp_data_dict['minutes'][k][exp] = mins * 60 * 24\n",
    "        else:\n",
    "            exp_data_dict['minutes'][k][exp] = mins\n",
    "        exp_data_dict['data'][k][exp] = vals\n",
    "        exp_data_dict['unc'][k][exp] = uncs\n",
    "        assert(len(mins) == len(vals))"
   ]
  },
  {
   "cell_type": "markdown",
   "metadata": {},
   "source": [
    "Now we get the irradiation setup including the flux and timesteps"
   ]
  },
  {
   "cell_type": "code",
   "execution_count": null,
   "metadata": {
    "execution": {
     "iopub.execute_input": "2025-06-14T21:05:54.701222Z",
     "iopub.status.busy": "2025-06-14T21:05:54.700061Z",
     "iopub.status.idle": "2025-06-14T21:05:54.795071Z",
     "shell.execute_reply": "2025-06-14T21:05:54.793595Z"
    }
   },
   "outputs": [],
   "source": [
    "def read_irr_setup(filepath):\n",
    "    ff = pp.InputData()\n",
    "    pp.from_file(ff, filepath)\n",
    "    cleaned_irradschedule = [item for item in ff._irradschedule if item != (0.0, 0.0)]\n",
    "    flux_mag_list = [val[1] for val in cleaned_irradschedule] + [0.0] * len(ff._coolingschedule)\n",
    "    days_list = np.cumsum([val[0] for val in cleaned_irradschedule] + ff._coolingschedule)/ (24*60*60)\n",
    "    return days_list, flux_mag_list\n",
    "\n",
    "def read_mat_setup(filepath):\n",
    "    ff = pp.InputData()\n",
    "    pp.from_file(ff, filepath)\n",
    "    return ff._inventorymass.entries\n",
    "\n",
    "def read_density(filepath):\n",
    "    ff = pp.InputData()\n",
    "    pp.from_file(ff, filepath)\n",
    "    return ff._density\n",
    "\n",
    "setup_dict = {'days': {}, 'flux_mag': {}, 'mass': {}, 'density': {}}\n",
    "for k,l in experiments.items():\n",
    "    for k_ in setup_dict:\n",
    "        setup_dict[k_][k] = {}\n",
    "    for exp in l:\n",
    "        input_path = here / k / ('TENDL-2017_' + exp + '.i')\n",
    "        input_path = str(input_path.absolute())\n",
    "        days, flux_mag = read_irr_setup(input_path)\n",
    "        mass_dict = {k:v/100 for k,v in read_mat_setup(input_path)}\n",
    "        setup_dict['days'][k][exp] = days\n",
    "        setup_dict['flux_mag'][k][exp] = flux_mag\n",
    "        setup_dict['mass'][k][exp] = mass_dict\n",
    "        setup_dict['density'][k][exp] = read_density(input_path)\n",
    "        assert(len(days) == len(flux_mag))\n",
    "        assert(isinstance(mass_dict, dict))\n",
    "\n",
    "setup_dict['mg_flux'] = flux_dict\n",
    "setup_dict['ebins'] = ebins"
   ]
  },
  {
   "cell_type": "markdown",
   "metadata": {},
   "source": [
    "Now we can carry out depletion simulations in OpenMC\n",
    "\n",
    "Set the chain file and cross sections to let OpenMC know where to find the data.\n",
    "\n",
    "The nuclear data used can have an impact on how closely the results match.\n",
    "\n",
    "To make this a fair comparison we recommend using the same nuclear data as the original Fispact simulations (Tendl 2017) and the chain file provided within the repository."
   ]
  },
  {
   "cell_type": "code",
   "execution_count": 8,
   "metadata": {
    "execution": {
     "iopub.execute_input": "2025-06-14T21:05:54.799511Z",
     "iopub.status.busy": "2025-06-14T21:05:54.799185Z",
     "iopub.status.idle": "2025-06-14T21:05:54.805097Z",
     "shell.execute_reply": "2025-06-14T21:05:54.803828Z"
    }
   },
   "outputs": [],
   "source": [
    "# Setting the cross section path to the location used by the CI.\n",
    "# If you are running this locally you will have to change this path to your local cross section path.\n",
    "openmc.config['cross_sections'] = Path.home() / 'nuclear_data' / 'cross_sections.xml'\n",
    "\n",
    "# Setting the chain file to the relative path of the chain file included in the repository.\n",
    "# Also resolving the chain file to the absolute path which is needed till the next release of OpenMC.\n",
    "openmc.config['chain_file'] = Path('./fns_spectrum.chain.xml').resolve()"
   ]
  },
  {
   "cell_type": "markdown",
   "metadata": {},
   "source": [
    "Next we use the experiment descriptions to make OpenMC simulations\n",
    "\n",
    "The irradiation duration, spectra, flux, material and mass are found from the IAEA Conderc benchmarks and passed to OpenMC functions to perform simulations of the experimental setup."
   ]
  },
  {
   "cell_type": "code",
   "execution_count": null,
   "metadata": {
    "execution": {
     "iopub.execute_input": "2025-06-14T21:05:54.808628Z",
     "iopub.status.busy": "2025-06-14T21:05:54.808275Z",
     "iopub.status.idle": "2025-06-14T21:05:55.878543Z",
     "shell.execute_reply": "2025-06-14T21:05:55.876087Z"
    }
   },
   "outputs": [
    {
     "name": "stdout",
     "output_type": "stream",
     "text": [
      "Running OpenMC for Tl ['2000exp_5min']\n",
      "Running OpenMC for Rh ['2000exp_5min']\n",
      "Running OpenMC for Na ['2000exp_5min', '1996exp_7hour', '1996exp_5min']\n",
      "Running OpenMC for Pb ['2000exp_5min', '1996exp_7hour', '1996exp_5min']\n",
      "Running OpenMC for V ['2000exp_5min', '1996exp_7hour', '1996exp_5min']\n",
      "Running OpenMC for Sr ['2000exp_5min', '1996exp_7hour', '1996exp_5min']\n"
     ]
    },
    {
     "name": "stdout",
     "output_type": "stream",
     "text": [
      "Running OpenMC for Ta ['2000exp_5min', '1996exp_7hour', '1996exp_5min']\n",
      "Running OpenMC for Eu ['2000exp_5min']\n",
      "Running OpenMC for Sn ['2000exp_5min', '1996exp_7hour', '1996exp_5min']\n",
      "Running OpenMC for As ['2000exp_5min']\n",
      "Running OpenMC for Cs ['2000exp_5min']\n",
      "Running OpenMC for Gd ['2000exp_5min']\n",
      "Running OpenMC for F ['2000exp_5min', '1996exp_5min']\n",
      "Running OpenMC for W ['2000exp_5min', '1996exp_7hour', '1996exp_5min']\n",
      "Running OpenMC for Mg ['2000exp_5min']\n",
      "Running OpenMC for Rb ['2000exp_5min']\n",
      "Running OpenMC for Ge ['2000exp_5min']\n",
      "Running OpenMC for S ['2000exp_5min', '1996exp_7hour', '1996exp_5min']\n",
      "Running OpenMC for Zn ['2000exp_5min']\n",
      "Running OpenMC for Ho ['2000exp_5min']\n",
      "Running OpenMC for Pr ['2000exp_5min']\n",
      "Running OpenMC for Bi ['2000exp_5min', '1996exp_7hour', '1996exp_5min']\n",
      "Running OpenMC for Sb ['2000exp_5min']\n",
      "Running OpenMC for Ni ['2000exp_5min', '1996exp_7hour', '1996exp_5min']\n",
      "Running OpenMC for Sc ['2000exp_5min']\n",
      "Running OpenMC for Ag ['2000exp_5min']\n",
      "Running OpenMC for Lu ['2000exp_5min']\n",
      "Running OpenMC for NiCr ['2000exp_5min', '1996exp_7hour', '1996exp_5min']\n",
      "Running OpenMC for Sm ['2000exp_5min']\n",
      "Running OpenMC for P ['2000exp_5min']\n",
      "Running OpenMC for Pt ['2000exp_5min']\n",
      "Running OpenMC for K ['2000exp_5min', '1996exp_7hour', '1996exp_5min']\n"
     ]
    },
    {
     "name": "stdout",
     "output_type": "stream",
     "text": [
      "Running OpenMC for Ba ['2000exp_5min', '1996exp_7hour', '1996exp_5min']\n",
      "Running OpenMC for Mn ['2000exp_5min', '1996exp_7hour', '1996exp_5min']\n",
      "Running OpenMC for Re ['2000exp_5min', '1996exp_7hour', '1996exp_5min']\n",
      "Running OpenMC for Au ['2000exp_5min']\n",
      "Running OpenMC for Hf ['2000exp_5min']\n",
      "Running OpenMC for Cu ['2000exp_5min', '1996exp_7hour', '1996exp_5min']\n",
      "Running OpenMC for SS316 ['2000exp_5min', '1996exp_7hour', '1996exp_5min']\n",
      "Running OpenMC for Al ['2000exp_5min', '1996exp_7hour', '1996exp_5min']\n",
      "Running OpenMC for Cr ['2000exp_5min', '1996exp_7hour', '1996exp_5min']\n",
      "Running OpenMC for Ru ['2000exp_5min']\n",
      "Running OpenMC for Si ['2000exp_5min']\n",
      "Running OpenMC for Hg ['2000exp_5min']\n",
      "Running OpenMC for Dy ['2000exp_5min']\n",
      "Running OpenMC for Fe ['2000exp_5min', '1996exp_7hour', '1996exp_5min']\n",
      "Running OpenMC for Ce ['2000exp_5min']\n",
      "Running OpenMC for Cd ['2000exp_5min']\n",
      "Running OpenMC for Co ['2000exp_5min', '1996exp_7hour', '1996exp_5min']\n",
      "Running OpenMC for SS304 ['2000exp_5min', '1996exp_7hour', '1996exp_5min']\n"
     ]
    },
    {
     "name": "stdout",
     "output_type": "stream",
     "text": [
      "Running OpenMC for Os ['2000exp_5min']\n",
      "Running OpenMC for Br ['2000exp_5min']\n",
      "Running OpenMC for Se ['2000exp_5min']\n",
      "Running OpenMC for Nb ['2000exp_5min', '1996exp_7hour', '1996exp_5min']\n",
      "Running OpenMC for Mo ['2000exp_5min', '1996exp_7hour', '1996exp_5min']\n",
      "Running OpenMC for Tm ['2000exp_5min']\n",
      "Running OpenMC for La ['2000exp_5min']\n",
      "Running OpenMC for Y ['2000exp_5min', '1996exp_7hour', '1996exp_5min']\n",
      "Running OpenMC for Ga ['2000exp_5min']\n",
      "Running OpenMC for Inc600 ['2000exp_5min', '1996exp_7hour', '1996exp_5min']\n",
      "Running OpenMC for Yb ['2000exp_5min']\n"
     ]
    },
    {
     "name": "stdout",
     "output_type": "stream",
     "text": [
      "Running OpenMC for Ir ['2000exp_5min']\n",
      "Running OpenMC for Ca ['2000exp_5min', '1996exp_7hour', '1996exp_5min']\n",
      "Running OpenMC for Pd ['2000exp_5min']\n",
      "Running OpenMC for Nd ['2000exp_5min']\n",
      "Running OpenMC for In ['2000exp_5min']\n",
      "Running OpenMC for Er ['2000exp_5min']\n",
      "Running OpenMC for Zr ['2000exp_5min', '1996exp_7hour', '1996exp_5min']\n",
      "Running OpenMC for Tb ['2000exp_5min']\n",
      "Running OpenMC for Ti ['2000exp_5min', '1996exp_7hour', '1996exp_5min']\n",
      "Running OpenMC for I ['2000exp_5min']\n",
      "Running OpenMC for Te ['2000exp_5min']\n",
      "Running OpenMC for Cl ['2000exp_5min']\n"
     ]
    }
   ],
   "source": [
    "openmc_result_dict = {}\n",
    "all_activation_data = []\n",
    "element_exp_names = []\n",
    "for k, l in experiments.items():\n",
    "    \n",
    "    # this loop currently just simulates the all materials in the benchmark suite\n",
    "    # it can be changed to simulate a single material by commenting the line below.\n",
    "    # if k != 'Ag': continue\n",
    "    # or it it can be changed to simulate a two materials by commenting the line below.\n",
    "    # if k not in ['Cd', 'NiCr']: continue\n",
    "\n",
    "    print(f'Running OpenMC for {k} {l}')\n",
    "    \n",
    "    if k not in openmc_result_dict:\n",
    "        openmc_result_dict[k] = {}\n",
    "    for exp in l:\n",
    "        if exp in openmc_result_dict[k]:\n",
    "            continue\n",
    "        ccfe_flux = flux_dict[k][exp]\n",
    "        # ebins is ccfs 709 flux bins\n",
    "        # low to high\n",
    "        # create new chain file\n",
    "\n",
    "        # mass in grams\n",
    "        mass_dict = setup_dict['mass'][k][exp]\n",
    "        days_list = setup_dict['days'][k][exp]\n",
    "        # days are cumulative, so we gotta provide diffs\n",
    "        days_list = np.append(days_list[0], np.diff(days_list))\n",
    "        flux_mag_list = setup_dict['flux_mag'][k][exp]\n",
    "\n",
    "        # make openmc material\n",
    "        mat = openmc.Material()\n",
    "        for el, md in mass_dict.items():\n",
    "            el = el.lower().capitalize()\n",
    "            mat.add_element(el, md, percent_type='wo')\n",
    "        mat.set_density('g/cm3', setup_dict['density'][k][exp])\n",
    "        mat.depletable = True\n",
    "        mat.temperature = 294\n",
    "        tot_mass = sum(mass_dict.values())\n",
    "        mat.volume = tot_mass / mat.density\n",
    "\n",
    "        activation_data = {\n",
    "            'materials': mat,\n",
    "            'multigroup_flux': ccfe_flux,\n",
    "            'energy': ebins,\n",
    "            'source_rate': flux_mag_list,\n",
    "            'timesteps': days_list\n",
    "        }\n",
    "        element_exp_names.append((k,exp))\n",
    "        all_activation_data.append(activation_data)"
   ]
  },
  {
   "cell_type": "code",
   "execution_count": 10,
   "metadata": {
    "execution": {
     "iopub.execute_input": "2025-06-14T21:05:55.885170Z",
     "iopub.status.busy": "2025-06-14T21:05:55.884508Z",
     "iopub.status.idle": "2025-06-14T22:33:58.936328Z",
     "shell.execute_reply": "2025-06-14T22:33:58.935179Z"
    }
   },
   "outputs": [
    {
     "name": "stderr",
     "output_type": "stream",
     "text": [
      " WARNING: Negative value(s) found on probability table for nuclide Na22 at 294K\n"
     ]
    },
    {
     "name": "stderr",
     "output_type": "stream",
     "text": [
      " WARNING: Negative value(s) found on probability table for nuclide Ar36 at 294K\n"
     ]
    },
    {
     "name": "stderr",
     "output_type": "stream",
     "text": [
      " WARNING: Negative value(s) found on probability table for nuclide Se79 at 294K\n"
     ]
    },
    {
     "name": "stderr",
     "output_type": "stream",
     "text": [
      " WARNING: Negative value(s) found on probability table for nuclide Zr96 at 294K\n",
      " WARNING: Negative value(s) found on probability table for nuclide Nb94 at 294K\n",
      " WARNING: Negative value(s) found on probability table for nuclide Nb95 at 294K\n"
     ]
    },
    {
     "name": "stderr",
     "output_type": "stream",
     "text": [
      " WARNING: Negative value(s) found on probability table for nuclide Mo99 at 294K\n"
     ]
    },
    {
     "name": "stderr",
     "output_type": "stream",
     "text": [
      " WARNING: Negative value(s) found on probability table for nuclide Ag118_m1 at\n",
      "          294K\n",
      " WARNING: Negative value(s) found on probability table for nuclide Cd106 at 294K\n"
     ]
    },
    {
     "name": "stderr",
     "output_type": "stream",
     "text": [
      " WARNING: Negative value(s) found on probability table for nuclide Sn123 at 294K\n"
     ]
    },
    {
     "name": "stderr",
     "output_type": "stream",
     "text": [
      " WARNING: Negative value(s) found on probability table for nuclide I131 at 294K\n"
     ]
    },
    {
     "name": "stderr",
     "output_type": "stream",
     "text": [
      " WARNING: Negative value(s) found on probability table for nuclide Cs136 at 294K\n"
     ]
    },
    {
     "name": "stderr",
     "output_type": "stream",
     "text": [
      " WARNING: Negative value(s) found on probability table for nuclide Eu156 at 294K\n"
     ]
    },
    {
     "name": "stderr",
     "output_type": "stream",
     "text": [
      " WARNING: Negative value(s) found on probability table for nuclide Yb168 at 294K\n"
     ]
    },
    {
     "name": "stderr",
     "output_type": "stream",
     "text": [
      " WARNING: Negative value(s) found on probability table for nuclide Yb170 at 294K\n",
      " WARNING: Negative value(s) found on probability table for nuclide Yb171 at 294K\n",
      " WARNING: Negative value(s) found on probability table for nuclide Yb172 at 294K\n",
      " WARNING: Negative value(s) found on probability table for nuclide Yb173 at 294K\n"
     ]
    },
    {
     "name": "stderr",
     "output_type": "stream",
     "text": [
      " WARNING: Negative value(s) found on probability table for nuclide Yb174 at 294K\n"
     ]
    },
    {
     "name": "stderr",
     "output_type": "stream",
     "text": [
      " WARNING: Negative value(s) found on probability table for nuclide Yb176 at 294K\n"
     ]
    },
    {
     "name": "stderr",
     "output_type": "stream",
     "text": [
      " WARNING: Negative value(s) found on probability table for nuclide Hf181 at 294K\n",
      " WARNING: Negative value(s) found on probability table for nuclide Hf182 at 294K\n"
     ]
    },
    {
     "name": "stderr",
     "output_type": "stream",
     "text": [
      " WARNING: Negative value(s) found on probability table for nuclide Cf250 at 294K\n"
     ]
    },
    {
     "name": "stdout",
     "output_type": "stream",
     "text": [
      "[openmc.deplete] t=0.0 s, dt=300.0 s, source=11160000000.0\n"
     ]
    },
    {
     "name": "stdout",
     "output_type": "stream",
     "text": [
      "[openmc.deplete] t=300.0 s, dt=51.00000000000003 s, source=0.0\n"
     ]
    },
    {
     "name": "stderr",
     "output_type": "stream",
     "text": [
      "/home/jon/.neutronicsworkshop_3.12/lib/python3.12/site-packages/uncertainties/core.py:1024: UserWarning: Using UFloat objects with std_dev==0 may give unexpected results.\n",
      "  warn(\"Using UFloat objects with std_dev==0 may give unexpected results.\")\n"
     ]
    },
    {
     "name": "stdout",
     "output_type": "stream",
     "text": [
      "[openmc.deplete] t=351.0 s, dt=15.000000000000021 s, source=0.0\n"
     ]
    },
    {
     "name": "stdout",
     "output_type": "stream",
     "text": [
      "[openmc.deplete] t=366.0 s, dt=14.999999999999947 s, source=0.0\n"
     ]
    },
    {
     "name": "stdout",
     "output_type": "stream",
     "text": [
      "[openmc.deplete] t=380.99999999999994 s, dt=15.000000000000021 s, source=0.0\n"
     ]
    },
    {
     "name": "stdout",
     "output_type": "stream",
     "text": [
      "[openmc.deplete] t=395.99999999999994 s, dt=25.999999999999993 s, source=0.0\n"
     ]
    },
    {
     "name": "stdout",
     "output_type": "stream",
     "text": [
      "[openmc.deplete] t=421.99999999999994 s, dt=36.00000000000001 s, source=0.0\n"
     ]
    },
    {
     "name": "stdout",
     "output_type": "stream",
     "text": [
      "[openmc.deplete] t=457.99999999999994 s, dt=36.00000000000001 s, source=0.0\n"
     ]
    },
    {
     "name": "stdout",
     "output_type": "stream",
     "text": [
      "[openmc.deplete] t=493.99999999999994 s, dt=53.000000000000014 s, source=0.0\n"
     ]
    },
    {
     "name": "stdout",
     "output_type": "stream",
     "text": [
      "[openmc.deplete] t=547.0 s, dt=65.99999999999997 s, source=0.0\n"
     ]
    },
    {
     "name": "stdout",
     "output_type": "stream",
     "text": [
      "[openmc.deplete] t=613.0 s, dt=65.99999999999997 s, source=0.0\n"
     ]
    },
    {
     "name": "stdout",
     "output_type": "stream",
     "text": [
      "[openmc.deplete] t=679.0 s, dt=96.99999999999997 s, source=0.0\n"
     ]
    },
    {
     "name": "stdout",
     "output_type": "stream",
     "text": [
      "[openmc.deplete] t=776.0 s, dt=123.00000000000004 s, source=0.0\n"
     ]
    },
    {
     "name": "stdout",
     "output_type": "stream",
     "text": [
      "[openmc.deplete] t=899.0 s, dt=124.0 s, source=0.0\n"
     ]
    },
    {
     "name": "stdout",
     "output_type": "stream",
     "text": [
      "[openmc.deplete] t=1023.0 s, dt=183.99999999999994 s, source=0.0\n"
     ]
    },
    {
     "name": "stdout",
     "output_type": "stream",
     "text": [
      "[openmc.deplete] t=1207.0 s, dt=246.00000000000009 s, source=0.0\n"
     ]
    },
    {
     "name": "stdout",
     "output_type": "stream",
     "text": [
      "[openmc.deplete] t=1453.0 s, dt=246.00000000000009 s, source=0.0\n"
     ]
    },
    {
     "name": "stdout",
     "output_type": "stream",
     "text": [
      "[openmc.deplete] t=1699.0 s, dt=247.00000000000003 s, source=0.0\n"
     ]
    },
    {
     "name": "stdout",
     "output_type": "stream",
     "text": [
      "[openmc.deplete] t=1946.0 s, dt=427.0 s, source=0.0\n"
     ]
    },
    {
     "name": "stdout",
     "output_type": "stream",
     "text": [
      "[openmc.deplete] t=2373.0 s, dt=606.9999999999997 s, source=0.0\n"
     ]
    },
    {
     "name": "stdout",
     "output_type": "stream",
     "text": [
      "[openmc.deplete] t=2979.9999999999995 s, dt=606.0 s, source=0.0\n"
     ]
    },
    {
     "name": "stdout",
     "output_type": "stream",
     "text": [
      "[openmc.deplete] t=3585.9999999999995 (final operator evaluation)\n"
     ]
    },
    {
     "name": "stderr",
     "output_type": "stream",
     "text": [
      "/home/jon/.neutronicsworkshop_3.12/lib/python3.12/site-packages/openmc/deplete/results.py:94: FutureWarning: The ResultsList.from_hdf5(...) method is no longer necessary and will be removed in a future version of OpenMC. Use Results(...) instead.\n",
      "  warn(\n"
     ]
    },
    {
     "name": "stdout",
     "output_type": "stream",
     "text": [
      "[openmc.deplete] t=0.0 s, dt=300.0 s, source=11160000000.0\n"
     ]
    },
    {
     "name": "stdout",
     "output_type": "stream",
     "text": [
      "[openmc.deplete] t=300.0 s, dt=36.00000000000001 s, source=0.0\n"
     ]
    },
    {
     "name": "stderr",
     "output_type": "stream",
     "text": [
      "/home/jon/.neutronicsworkshop_3.12/lib/python3.12/site-packages/uncertainties/core.py:1024: UserWarning: Using UFloat objects with std_dev==0 may give unexpected results.\n",
      "  warn(\"Using UFloat objects with std_dev==0 may give unexpected results.\")\n"
     ]
    },
    {
     "name": "stdout",
     "output_type": "stream",
     "text": [
      "[openmc.deplete] t=336.0 s, dt=15.000000000000021 s, source=0.0\n"
     ]
    },
    {
     "name": "stdout",
     "output_type": "stream",
     "text": [
      "[openmc.deplete] t=351.0 s, dt=15.999999999999979 s, source=0.0\n"
     ]
    },
    {
     "name": "stdout",
     "output_type": "stream",
     "text": [
      "[openmc.deplete] t=367.0 s, dt=15.000000000000021 s, source=0.0\n"
     ]
    },
    {
     "name": "stdout",
     "output_type": "stream",
     "text": [
      "[openmc.deplete] t=382.0 s, dt=15.999999999999979 s, source=0.0\n"
     ]
    },
    {
     "name": "stdout",
     "output_type": "stream",
     "text": [
      "[openmc.deplete] t=398.0 s, dt=25.999999999999993 s, source=0.0\n"
     ]
    },
    {
     "name": "stdout",
     "output_type": "stream",
     "text": [
      "[openmc.deplete] t=424.0 s, dt=37.000000000000036 s, source=0.0\n"
     ]
    },
    {
     "name": "stdout",
     "output_type": "stream",
     "text": [
      "[openmc.deplete] t=461.00000000000006 s, dt=36.00000000000001 s, source=0.0\n"
     ]
    },
    {
     "name": "stdout",
     "output_type": "stream",
     "text": [
      "[openmc.deplete] t=497.00000000000006 s, dt=51.999999999999986 s, source=0.0\n"
     ]
    },
    {
     "name": "stdout",
     "output_type": "stream",
     "text": [
      "[openmc.deplete] t=549.0 s, dt=67.0 s, source=0.0\n"
     ]
    },
    {
     "name": "stdout",
     "output_type": "stream",
     "text": [
      "[openmc.deplete] t=616.0 s, dt=65.99999999999997 s, source=0.0\n"
     ]
    },
    {
     "name": "stdout",
     "output_type": "stream",
     "text": [
      "[openmc.deplete] t=682.0 s, dt=96.99999999999997 s, source=0.0\n"
     ]
    },
    {
     "name": "stdout",
     "output_type": "stream",
     "text": [
      "[openmc.deplete] t=779.0 s, dt=127.00000000000001 s, source=0.0\n"
     ]
    },
    {
     "name": "stdout",
     "output_type": "stream",
     "text": [
      "[openmc.deplete] t=906.0 s, dt=124.0 s, source=0.0\n"
     ]
    },
    {
     "name": "stdout",
     "output_type": "stream",
     "text": [
      "[openmc.deplete] t=1030.0 s, dt=186.99999999999994 s, source=0.0\n"
     ]
    },
    {
     "name": "stdout",
     "output_type": "stream",
     "text": [
      "[openmc.deplete] t=1217.0 s, dt=247.0000000000002 s, source=0.0\n"
     ]
    },
    {
     "name": "stdout",
     "output_type": "stream",
     "text": [
      "[openmc.deplete] t=1464.0000000000002 s, dt=245.99999999999977 s, source=0.0\n"
     ]
    },
    {
     "name": "stdout",
     "output_type": "stream",
     "text": [
      "[openmc.deplete] t=1710.0 s, dt=247.00000000000003 s, source=0.0\n"
     ]
    },
    {
     "name": "stdout",
     "output_type": "stream",
     "text": [
      "[openmc.deplete] t=1957.0 s, dt=427.99999999999994 s, source=0.0\n"
     ]
    },
    {
     "name": "stdout",
     "output_type": "stream",
     "text": [
      "[openmc.deplete] t=2385.0 (final operator evaluation)\n"
     ]
    },
    {
     "name": "stderr",
     "output_type": "stream",
     "text": [
      "/home/jon/.neutronicsworkshop_3.12/lib/python3.12/site-packages/openmc/deplete/results.py:94: FutureWarning: The ResultsList.from_hdf5(...) method is no longer necessary and will be removed in a future version of OpenMC. Use Results(...) instead.\n",
      "  warn(\n"
     ]
    },
    {
     "name": "stdout",
     "output_type": "stream",
     "text": [
      "[openmc.deplete] t=0.0 s, dt=300.0 s, source=11160000000.0\n"
     ]
    },
    {
     "name": "stdout",
     "output_type": "stream",
     "text": [
      "[openmc.deplete] t=300.0 s, dt=20.00000000000003 s, source=0.0\n"
     ]
    },
    {
     "name": "stderr",
     "output_type": "stream",
     "text": [
      "/home/jon/.neutronicsworkshop_3.12/lib/python3.12/site-packages/uncertainties/core.py:1024: UserWarning: Using UFloat objects with std_dev==0 may give unexpected results.\n",
      "  warn(\"Using UFloat objects with std_dev==0 may give unexpected results.\")\n"
     ]
    },
    {
     "name": "stdout",
     "output_type": "stream",
     "text": [
      "[openmc.deplete] t=320.0 s, dt=15.999999999999979 s, source=0.0\n"
     ]
    },
    {
     "name": "stdout",
     "output_type": "stream",
     "text": [
      "[openmc.deplete] t=336.0 s, dt=15.000000000000021 s, source=0.0\n"
     ]
    },
    {
     "name": "stdout",
     "output_type": "stream",
     "text": [
      "[openmc.deplete] t=351.0 s, dt=15.000000000000021 s, source=0.0\n"
     ]
    },
    {
     "name": "stdout",
     "output_type": "stream",
     "text": [
      "[openmc.deplete] t=366.0 s, dt=15.999999999999979 s, source=0.0\n"
     ]
    },
    {
     "name": "stdout",
     "output_type": "stream",
     "text": [
      "[openmc.deplete] t=382.0 s, dt=15.000000000000021 s, source=0.0\n"
     ]
    },
    {
     "name": "stdout",
     "output_type": "stream",
     "text": [
      "[openmc.deplete] t=397.0 s, dt=25.999999999999993 s, source=0.0\n"
     ]
    },
    {
     "name": "stdout",
     "output_type": "stream",
     "text": [
      "[openmc.deplete] t=423.0 s, dt=36.00000000000001 s, source=0.0\n"
     ]
    },
    {
     "name": "stdout",
     "output_type": "stream",
     "text": [
      "[openmc.deplete] t=459.0 s, dt=36.999999999999964 s, source=0.0\n"
     ]
    },
    {
     "name": "stdout",
     "output_type": "stream",
     "text": [
      "[openmc.deplete] t=495.99999999999994 s, dt=51.999999999999986 s, source=0.0\n"
     ]
    },
    {
     "name": "stdout",
     "output_type": "stream",
     "text": [
      "[openmc.deplete] t=547.9999999999999 s, dt=66.00000000000006 s, source=0.0\n"
     ]
    },
    {
     "name": "stdout",
     "output_type": "stream",
     "text": [
      "[openmc.deplete] t=614.0 s, dt=65.9999999999999 s, source=0.0\n"
     ]
    },
    {
     "name": "stdout",
     "output_type": "stream",
     "text": [
      "[openmc.deplete] t=679.9999999999999 s, dt=97.00000000000013 s, source=0.0\n"
     ]
    },
    {
     "name": "stdout",
     "output_type": "stream",
     "text": [
      "[openmc.deplete] t=777.0 s, dt=126.99999999999987 s, source=0.0\n"
     ]
    },
    {
     "name": "stdout",
     "output_type": "stream",
     "text": [
      "[openmc.deplete] t=903.9999999999999 s, dt=126.00000000000006 s, source=0.0\n"
     ]
    },
    {
     "name": "stdout",
     "output_type": "stream",
     "text": [
      "[openmc.deplete] t=1030.0 s, dt=188.00000000000006 s, source=0.0\n"
     ]
    },
    {
     "name": "stdout",
     "output_type": "stream",
     "text": [
      "[openmc.deplete] t=1218.0 s, dt=246.00000000000009 s, source=0.0\n"
     ]
    },
    {
     "name": "stdout",
     "output_type": "stream",
     "text": [
      "[openmc.deplete] t=1464.0 s, dt=246.99999999999974 s, source=0.0\n"
     ]
    },
    {
     "name": "stdout",
     "output_type": "stream",
     "text": [
      "[openmc.deplete] t=1710.9999999999998 s, dt=246.00000000000009 s, source=0.0\n"
     ]
    },
    {
     "name": "stdout",
     "output_type": "stream",
     "text": [
      "[openmc.deplete] t=1956.9999999999998 s, dt=427.99999999999994 s, source=0.0\n"
     ]
    },
    {
     "name": "stdout",
     "output_type": "stream",
     "text": [
      "[openmc.deplete] t=2384.9999999999995 s, dt=607.0 s, source=0.0\n"
     ]
    },
    {
     "name": "stdout",
     "output_type": "stream",
     "text": [
      "[openmc.deplete] t=2991.9999999999995 s, dt=606.0 s, source=0.0\n"
     ]
    },
    {
     "name": "stdout",
     "output_type": "stream",
     "text": [
      "[openmc.deplete] t=3597.9999999999995 (final operator evaluation)\n"
     ]
    },
    {
     "name": "stderr",
     "output_type": "stream",
     "text": [
      "/home/jon/.neutronicsworkshop_3.12/lib/python3.12/site-packages/openmc/deplete/results.py:94: FutureWarning: The ResultsList.from_hdf5(...) method is no longer necessary and will be removed in a future version of OpenMC. Use Results(...) instead.\n",
      "  warn(\n"
     ]
    },
    {
     "name": "stdout",
     "output_type": "stream",
     "text": [
      "[openmc.deplete] t=0.0 s, dt=25799.039999999997 s, source=10500000000.0\n"
     ]
    },
    {
     "name": "stdout",
     "output_type": "stream",
     "text": [
      "[openmc.deplete] t=25799.039999999997 s, dt=57628.8 s, source=0.0\n"
     ]
    },
    {
     "name": "stderr",
     "output_type": "stream",
     "text": [
      "/home/jon/.neutronicsworkshop_3.12/lib/python3.12/site-packages/uncertainties/core.py:1024: UserWarning: Using UFloat objects with std_dev==0 may give unexpected results.\n",
      "  warn(\"Using UFloat objects with std_dev==0 may give unexpected results.\")\n"
     ]
    },
    {
     "name": "stdout",
     "output_type": "stream",
     "text": [
      "[openmc.deplete] t=83427.84 s, dt=90979.19999999998 s, source=0.0\n"
     ]
    },
    {
     "name": "stdout",
     "output_type": "stream",
     "text": [
      "[openmc.deplete] t=174407.03999999998 s, dt=186105.60000000003 s, source=0.0\n"
     ]
    },
    {
     "name": "stdout",
     "output_type": "stream",
     "text": [
      "[openmc.deplete] t=360512.64 s, dt=247536.00000000003 s, source=0.0\n"
     ]
    },
    {
     "name": "stdout",
     "output_type": "stream",
     "text": [
      "[openmc.deplete] t=608048.64 s, dt=470966.39999999997 s, source=0.0\n"
     ]
    },
    {
     "name": "stdout",
     "output_type": "stream",
     "text": [
      "[openmc.deplete] t=1079015.04 s, dt=1037577.6000000002 s, source=0.0\n"
     ]
    },
    {
     "name": "stdout",
     "output_type": "stream",
     "text": [
      "[openmc.deplete] t=2116592.64 s, dt=2224627.1999999993 s, source=0.0\n"
     ]
    },
    {
     "name": "stdout",
     "output_type": "stream",
     "text": [
      "[openmc.deplete] t=4341219.84 s, dt=4331923.199999999 s, source=0.0\n"
     ]
    },
    {
     "name": "stdout",
     "output_type": "stream",
     "text": [
      "[openmc.deplete] t=8673143.04 s, dt=8455968.0 s, source=0.0\n"
     ]
    },
    {
     "name": "stdout",
     "output_type": "stream",
     "text": [
      "[openmc.deplete] t=17129111.04 s, dt=17643744.0 s, source=0.0\n"
     ]
    },
    {
     "name": "stdout",
     "output_type": "stream",
     "text": [
      "[openmc.deplete] t=34772855.04 (final operator evaluation)\n"
     ]
    },
    {
     "name": "stderr",
     "output_type": "stream",
     "text": [
      "/home/jon/.neutronicsworkshop_3.12/lib/python3.12/site-packages/openmc/deplete/results.py:94: FutureWarning: The ResultsList.from_hdf5(...) method is no longer necessary and will be removed in a future version of OpenMC. Use Results(...) instead.\n",
      "  warn(\n"
     ]
    },
    {
     "name": "stdout",
     "output_type": "stream",
     "text": [
      "[openmc.deplete] t=0.0 s, dt=300.0 s, source=11160000000.0\n"
     ]
    },
    {
     "name": "stdout",
     "output_type": "stream",
     "text": [
      "[openmc.deplete] t=300.0 s, dt=72.00000000000001 s, source=0.0\n"
     ]
    },
    {
     "name": "stderr",
     "output_type": "stream",
     "text": [
      "/home/jon/.neutronicsworkshop_3.12/lib/python3.12/site-packages/uncertainties/core.py:1024: UserWarning: Using UFloat objects with std_dev==0 may give unexpected results.\n",
      "  warn(\"Using UFloat objects with std_dev==0 may give unexpected results.\")\n"
     ]
    },
    {
     "name": "stdout",
     "output_type": "stream",
     "text": [
      "[openmc.deplete] t=372.0 s, dt=15.999999999999979 s, source=0.0\n"
     ]
    },
    {
     "name": "stdout",
     "output_type": "stream",
     "text": [
      "[openmc.deplete] t=388.0 s, dt=16.000000000000053 s, source=0.0\n"
     ]
    },
    {
     "name": "stdout",
     "output_type": "stream",
     "text": [
      "[openmc.deplete] t=404.00000000000006 s, dt=26.99999999999995 s, source=0.0\n"
     ]
    },
    {
     "name": "stdout",
     "output_type": "stream",
     "text": [
      "[openmc.deplete] t=431.0 s, dt=37.000000000000036 s, source=0.0\n"
     ]
    },
    {
     "name": "stdout",
     "output_type": "stream",
     "text": [
      "[openmc.deplete] t=468.00000000000006 s, dt=36.999999999999964 s, source=0.0\n"
     ]
    },
    {
     "name": "stdout",
     "output_type": "stream",
     "text": [
      "[openmc.deplete] t=505.0 s, dt=53.000000000000014 s, source=0.0\n"
     ]
    },
    {
     "name": "stdout",
     "output_type": "stream",
     "text": [
      "[openmc.deplete] t=558.0 s, dt=67.0 s, source=0.0\n"
     ]
    },
    {
     "name": "stdout",
     "output_type": "stream",
     "text": [
      "[openmc.deplete] t=625.0 s, dt=63.999999999999986 s, source=0.0\n"
     ]
    },
    {
     "name": "stdout",
     "output_type": "stream",
     "text": [
      "[openmc.deplete] t=689.0 s, dt=98.00000000000009 s, source=0.0\n"
     ]
    },
    {
     "name": "stdout",
     "output_type": "stream",
     "text": [
      "[openmc.deplete] t=787.0000000000001 s, dt=126.99999999999987 s, source=0.0\n"
     ]
    },
    {
     "name": "stdout",
     "output_type": "stream",
     "text": [
      "[openmc.deplete] t=914.0 s, dt=128.0000000000001 s, source=0.0\n"
     ]
    },
    {
     "name": "stdout",
     "output_type": "stream",
     "text": [
      "[openmc.deplete] t=1042.0 s, dt=125.99999999999991 s, source=0.0\n"
     ]
    },
    {
     "name": "stdout",
     "output_type": "stream",
     "text": [
      "[openmc.deplete] t=1168.0 s, dt=188.00000000000006 s, source=0.0\n"
     ]
    },
    {
     "name": "stdout",
     "output_type": "stream",
     "text": [
      "[openmc.deplete] t=1356.0 s, dt=244.99999999999983 s, source=0.0\n"
     ]
    },
    {
     "name": "stdout",
     "output_type": "stream",
     "text": [
      "[openmc.deplete] t=1600.9999999999998 s, dt=247.00000000000003 s, source=0.0\n"
     ]
    },
    {
     "name": "stdout",
     "output_type": "stream",
     "text": [
      "[openmc.deplete] t=1847.9999999999998 s, dt=244.00000000000017 s, source=0.0\n"
     ]
    },
    {
     "name": "stdout",
     "output_type": "stream",
     "text": [
      "[openmc.deplete] t=2092.0 s, dt=427.99999999999994 s, source=0.0\n"
     ]
    },
    {
     "name": "stdout",
     "output_type": "stream",
     "text": [
      "[openmc.deplete] t=2520.0 s, dt=607.9999999999999 s, source=0.0\n"
     ]
    },
    {
     "name": "stdout",
     "output_type": "stream",
     "text": [
      "[openmc.deplete] t=3128.0 s, dt=607.0 s, source=0.0\n"
     ]
    },
    {
     "name": "stdout",
     "output_type": "stream",
     "text": [
      "[openmc.deplete] t=3735.0 (final operator evaluation)\n"
     ]
    },
    {
     "name": "stderr",
     "output_type": "stream",
     "text": [
      "/home/jon/.neutronicsworkshop_3.12/lib/python3.12/site-packages/openmc/deplete/results.py:94: FutureWarning: The ResultsList.from_hdf5(...) method is no longer necessary and will be removed in a future version of OpenMC. Use Results(...) instead.\n",
      "  warn(\n"
     ]
    },
    {
     "name": "stdout",
     "output_type": "stream",
     "text": [
      "[openmc.deplete] t=0.0 s, dt=300.0 s, source=11160000000.0\n"
     ]
    },
    {
     "name": "stdout",
     "output_type": "stream",
     "text": [
      "[openmc.deplete] t=300.0 s, dt=51.00000000000003 s, source=0.0\n"
     ]
    },
    {
     "name": "stderr",
     "output_type": "stream",
     "text": [
      "/home/jon/.neutronicsworkshop_3.12/lib/python3.12/site-packages/uncertainties/core.py:1024: UserWarning: Using UFloat objects with std_dev==0 may give unexpected results.\n",
      "  warn(\"Using UFloat objects with std_dev==0 may give unexpected results.\")\n"
     ]
    },
    {
     "name": "stdout",
     "output_type": "stream",
     "text": [
      "[openmc.deplete] t=351.0 s, dt=15.999999999999979 s, source=0.0\n"
     ]
    },
    {
     "name": "stdout",
     "output_type": "stream",
     "text": [
      "[openmc.deplete] t=367.0 s, dt=15.000000000000021 s, source=0.0\n"
     ]
    },
    {
     "name": "stdout",
     "output_type": "stream",
     "text": [
      "[openmc.deplete] t=382.0 s, dt=15.000000000000021 s, source=0.0\n"
     ]
    },
    {
     "name": "stdout",
     "output_type": "stream",
     "text": [
      "[openmc.deplete] t=397.0 s, dt=25.999999999999993 s, source=0.0\n"
     ]
    },
    {
     "name": "stdout",
     "output_type": "stream",
     "text": [
      "[openmc.deplete] t=423.0 s, dt=36.999999999999964 s, source=0.0\n"
     ]
    },
    {
     "name": "stdout",
     "output_type": "stream",
     "text": [
      "[openmc.deplete] t=459.99999999999994 s, dt=36.00000000000001 s, source=0.0\n"
     ]
    },
    {
     "name": "stdout",
     "output_type": "stream",
     "text": [
      "[openmc.deplete] t=495.99999999999994 s, dt=51.999999999999986 s, source=0.0\n"
     ]
    },
    {
     "name": "stdout",
     "output_type": "stream",
     "text": [
      "[openmc.deplete] t=547.9999999999999 s, dt=66.00000000000006 s, source=0.0\n"
     ]
    },
    {
     "name": "stdout",
     "output_type": "stream",
     "text": [
      "[openmc.deplete] t=614.0 s, dt=67.0 s, source=0.0\n"
     ]
    },
    {
     "name": "stdout",
     "output_type": "stream",
     "text": [
      "[openmc.deplete] t=681.0 s, dt=96.99999999999997 s, source=0.0\n"
     ]
    },
    {
     "name": "stdout",
     "output_type": "stream",
     "text": [
      "[openmc.deplete] t=778.0 s, dt=125.99999999999991 s, source=0.0\n"
     ]
    },
    {
     "name": "stdout",
     "output_type": "stream",
     "text": [
      "[openmc.deplete] t=903.9999999999999 s, dt=127.00000000000001 s, source=0.0\n"
     ]
    },
    {
     "name": "stdout",
     "output_type": "stream",
     "text": [
      "[openmc.deplete] t=1031.0 s, dt=187.0000000000001 s, source=0.0\n"
     ]
    },
    {
     "name": "stdout",
     "output_type": "stream",
     "text": [
      "[openmc.deplete] t=1218.0 s, dt=246.00000000000009 s, source=0.0\n"
     ]
    },
    {
     "name": "stdout",
     "output_type": "stream",
     "text": [
      "[openmc.deplete] t=1464.0 s, dt=246.99999999999974 s, source=0.0\n"
     ]
    },
    {
     "name": "stdout",
     "output_type": "stream",
     "text": [
      "[openmc.deplete] t=1710.9999999999998 s, dt=247.00000000000003 s, source=0.0\n"
     ]
    },
    {
     "name": "stdout",
     "output_type": "stream",
     "text": [
      "[openmc.deplete] t=1957.9999999999998 s, dt=427.0 s, source=0.0\n"
     ]
    },
    {
     "name": "stdout",
     "output_type": "stream",
     "text": [
      "[openmc.deplete] t=2385.0 s, dt=607.0 s, source=0.0\n"
     ]
    },
    {
     "name": "stdout",
     "output_type": "stream",
     "text": [
      "[openmc.deplete] t=2992.0 s, dt=606.0 s, source=0.0\n"
     ]
    },
    {
     "name": "stdout",
     "output_type": "stream",
     "text": [
      "[openmc.deplete] t=3598.0 (final operator evaluation)\n"
     ]
    },
    {
     "name": "stderr",
     "output_type": "stream",
     "text": [
      "/home/jon/.neutronicsworkshop_3.12/lib/python3.12/site-packages/openmc/deplete/results.py:94: FutureWarning: The ResultsList.from_hdf5(...) method is no longer necessary and will be removed in a future version of OpenMC. Use Results(...) instead.\n",
      "  warn(\n"
     ]
    },
    {
     "name": "stdout",
     "output_type": "stream",
     "text": [
      "[openmc.deplete] t=0.0 s, dt=27267.84 s, source=10500000000.0\n"
     ]
    },
    {
     "name": "stdout",
     "output_type": "stream",
     "text": [
      "[openmc.deplete] t=27267.84 s, dt=53136.0 s, source=0.0\n"
     ]
    },
    {
     "name": "stderr",
     "output_type": "stream",
     "text": [
      "/home/jon/.neutronicsworkshop_3.12/lib/python3.12/site-packages/uncertainties/core.py:1024: UserWarning: Using UFloat objects with std_dev==0 may give unexpected results.\n",
      "  warn(\"Using UFloat objects with std_dev==0 may give unexpected results.\")\n"
     ]
    },
    {
     "name": "stdout",
     "output_type": "stream",
     "text": [
      "[openmc.deplete] t=80403.84 s, dt=61689.600000000006 s, source=0.0\n"
     ]
    },
    {
     "name": "stdout",
     "output_type": "stream",
     "text": [
      "[openmc.deplete] t=142093.44 s, dt=136512.0 s, source=0.0\n"
     ]
    },
    {
     "name": "stdout",
     "output_type": "stream",
     "text": [
      "[openmc.deplete] t=278605.44 s, dt=342748.8 s, source=0.0\n"
     ]
    },
    {
     "name": "stdout",
     "output_type": "stream",
     "text": [
      "[openmc.deplete] t=621354.24 s, dt=517968.0 s, source=0.0\n"
     ]
    },
    {
     "name": "stdout",
     "output_type": "stream",
     "text": [
      "[openmc.deplete] t=1139322.24 s, dt=951350.3999999998 s, source=0.0\n"
     ]
    },
    {
     "name": "stdout",
     "output_type": "stream",
     "text": [
      "[openmc.deplete] t=2090672.6399999997 s, dt=2232921.6000000006 s, source=0.0\n"
     ]
    },
    {
     "name": "stdout",
     "output_type": "stream",
     "text": [
      "[openmc.deplete] t=4323594.24 (final operator evaluation)\n"
     ]
    },
    {
     "name": "stderr",
     "output_type": "stream",
     "text": [
      "/home/jon/.neutronicsworkshop_3.12/lib/python3.12/site-packages/openmc/deplete/results.py:94: FutureWarning: The ResultsList.from_hdf5(...) method is no longer necessary and will be removed in a future version of OpenMC. Use Results(...) instead.\n",
      "  warn(\n"
     ]
    },
    {
     "name": "stdout",
     "output_type": "stream",
     "text": [
      "[openmc.deplete] t=0.0 s, dt=300.0 s, source=11160000000.0\n"
     ]
    },
    {
     "name": "stdout",
     "output_type": "stream",
     "text": [
      "[openmc.deplete] t=300.0 s, dt=66.00000000000006 s, source=0.0\n"
     ]
    },
    {
     "name": "stderr",
     "output_type": "stream",
     "text": [
      "/home/jon/.neutronicsworkshop_3.12/lib/python3.12/site-packages/uncertainties/core.py:1024: UserWarning: Using UFloat objects with std_dev==0 may give unexpected results.\n",
      "  warn(\"Using UFloat objects with std_dev==0 may give unexpected results.\")\n"
     ]
    },
    {
     "name": "stdout",
     "output_type": "stream",
     "text": [
      "[openmc.deplete] t=366.00000000000006 s, dt=14.999999999999947 s, source=0.0\n"
     ]
    },
    {
     "name": "stdout",
     "output_type": "stream",
     "text": [
      "[openmc.deplete] t=381.0 s, dt=17.00000000000001 s, source=0.0\n"
     ]
    },
    {
     "name": "stdout",
     "output_type": "stream",
     "text": [
      "[openmc.deplete] t=398.0 s, dt=27.000000000000025 s, source=0.0\n"
     ]
    },
    {
     "name": "stdout",
     "output_type": "stream",
     "text": [
      "[openmc.deplete] t=425.0 s, dt=36.999999999999964 s, source=0.0\n"
     ]
    },
    {
     "name": "stdout",
     "output_type": "stream",
     "text": [
      "[openmc.deplete] t=461.99999999999994 s, dt=37.000000000000036 s, source=0.0\n"
     ]
    },
    {
     "name": "stdout",
     "output_type": "stream",
     "text": [
      "[openmc.deplete] t=499.0 s, dt=53.000000000000014 s, source=0.0\n"
     ]
    },
    {
     "name": "stdout",
     "output_type": "stream",
     "text": [
      "[openmc.deplete] t=552.0 s, dt=63.999999999999986 s, source=0.0\n"
     ]
    },
    {
     "name": "stdout",
     "output_type": "stream",
     "text": [
      "[openmc.deplete] t=616.0 s, dt=66.99999999999993 s, source=0.0\n"
     ]
    },
    {
     "name": "stdout",
     "output_type": "stream",
     "text": [
      "[openmc.deplete] t=682.9999999999999 s, dt=98.00000000000009 s, source=0.0\n"
     ]
    },
    {
     "name": "stdout",
     "output_type": "stream",
     "text": [
      "[openmc.deplete] t=781.0 s, dt=124.0 s, source=0.0\n"
     ]
    },
    {
     "name": "stdout",
     "output_type": "stream",
     "text": [
      "[openmc.deplete] t=905.0 s, dt=127.00000000000001 s, source=0.0\n"
     ]
    },
    {
     "name": "stdout",
     "output_type": "stream",
     "text": [
      "[openmc.deplete] t=1032.0 s, dt=127.00000000000001 s, source=0.0\n"
     ]
    },
    {
     "name": "stdout",
     "output_type": "stream",
     "text": [
      "[openmc.deplete] t=1159.0 s, dt=187.99999999999991 s, source=0.0\n"
     ]
    },
    {
     "name": "stdout",
     "output_type": "stream",
     "text": [
      "[openmc.deplete] t=1347.0 s, dt=244.00000000000003 s, source=0.0\n"
     ]
    },
    {
     "name": "stdout",
     "output_type": "stream",
     "text": [
      "[openmc.deplete] t=1591.0 s, dt=247.00000000000003 s, source=0.0\n"
     ]
    },
    {
     "name": "stdout",
     "output_type": "stream",
     "text": [
      "[openmc.deplete] t=1838.0 s, dt=248.0 s, source=0.0\n"
     ]
    },
    {
     "name": "stdout",
     "output_type": "stream",
     "text": [
      "[openmc.deplete] t=2086.0 s, dt=425.0000000000001 s, source=0.0\n"
     ]
    },
    {
     "name": "stdout",
     "output_type": "stream",
     "text": [
      "[openmc.deplete] t=2511.0 s, dt=607.9999999999997 s, source=0.0\n"
     ]
    },
    {
     "name": "stdout",
     "output_type": "stream",
     "text": [
      "[openmc.deplete] t=3118.9999999999995 s, dt=605.0 s, source=0.0\n"
     ]
    },
    {
     "name": "stdout",
     "output_type": "stream",
     "text": [
      "[openmc.deplete] t=3723.9999999999995 (final operator evaluation)\n"
     ]
    },
    {
     "name": "stderr",
     "output_type": "stream",
     "text": [
      "/home/jon/.neutronicsworkshop_3.12/lib/python3.12/site-packages/openmc/deplete/results.py:94: FutureWarning: The ResultsList.from_hdf5(...) method is no longer necessary and will be removed in a future version of OpenMC. Use Results(...) instead.\n",
      "  warn(\n"
     ]
    },
    {
     "name": "stdout",
     "output_type": "stream",
     "text": [
      "[openmc.deplete] t=0.0 s, dt=300.0 s, source=11160000000.0\n"
     ]
    },
    {
     "name": "stdout",
     "output_type": "stream",
     "text": [
      "[openmc.deplete] t=300.0 s, dt=36.00000000000001 s, source=0.0\n"
     ]
    },
    {
     "name": "stderr",
     "output_type": "stream",
     "text": [
      "/home/jon/.neutronicsworkshop_3.12/lib/python3.12/site-packages/uncertainties/core.py:1024: UserWarning: Using UFloat objects with std_dev==0 may give unexpected results.\n",
      "  warn(\"Using UFloat objects with std_dev==0 may give unexpected results.\")\n"
     ]
    },
    {
     "name": "stdout",
     "output_type": "stream",
     "text": [
      "[openmc.deplete] t=336.0 s, dt=15.000000000000021 s, source=0.0\n"
     ]
    },
    {
     "name": "stdout",
     "output_type": "stream",
     "text": [
      "[openmc.deplete] t=351.0 s, dt=15.000000000000021 s, source=0.0\n"
     ]
    },
    {
     "name": "stdout",
     "output_type": "stream",
     "text": [
      "[openmc.deplete] t=366.0 s, dt=14.999999999999947 s, source=0.0\n"
     ]
    },
    {
     "name": "stdout",
     "output_type": "stream",
     "text": [
      "[openmc.deplete] t=380.99999999999994 s, dt=15.000000000000021 s, source=0.0\n"
     ]
    },
    {
     "name": "stdout",
     "output_type": "stream",
     "text": [
      "[openmc.deplete] t=395.99999999999994 s, dt=25.999999999999993 s, source=0.0\n"
     ]
    },
    {
     "name": "stdout",
     "output_type": "stream",
     "text": [
      "[openmc.deplete] t=421.99999999999994 s, dt=37.000000000000036 s, source=0.0\n"
     ]
    },
    {
     "name": "stdout",
     "output_type": "stream",
     "text": [
      "[openmc.deplete] t=459.0 s, dt=35.99999999999993 s, source=0.0\n"
     ]
    },
    {
     "name": "stdout",
     "output_type": "stream",
     "text": [
      "[openmc.deplete] t=494.99999999999994 s, dt=52.00000000000006 s, source=0.0\n"
     ]
    },
    {
     "name": "stdout",
     "output_type": "stream",
     "text": [
      "[openmc.deplete] t=547.0 s, dt=65.99999999999997 s, source=0.0\n"
     ]
    },
    {
     "name": "stdout",
     "output_type": "stream",
     "text": [
      "[openmc.deplete] t=613.0 s, dt=65.99999999999997 s, source=0.0\n"
     ]
    },
    {
     "name": "stdout",
     "output_type": "stream",
     "text": [
      "[openmc.deplete] t=679.0 s, dt=96.99999999999997 s, source=0.0\n"
     ]
    },
    {
     "name": "stdout",
     "output_type": "stream",
     "text": [
      "[openmc.deplete] t=776.0 s, dt=127.00000000000001 s, source=0.0\n"
     ]
    },
    {
     "name": "stdout",
     "output_type": "stream",
     "text": [
      "[openmc.deplete] t=903.0 s, dt=126.00000000000006 s, source=0.0\n"
     ]
    },
    {
     "name": "stdout",
     "output_type": "stream",
     "text": [
      "[openmc.deplete] t=1029.0 s, dt=186.99999999999994 s, source=0.0\n"
     ]
    },
    {
     "name": "stdout",
     "output_type": "stream",
     "text": [
      "[openmc.deplete] t=1216.0 s, dt=246.9999999999999 s, source=0.0\n"
     ]
    },
    {
     "name": "stdout",
     "output_type": "stream",
     "text": [
      "[openmc.deplete] t=1463.0 s, dt=246.00000000000009 s, source=0.0\n"
     ]
    },
    {
     "name": "stdout",
     "output_type": "stream",
     "text": [
      "[openmc.deplete] t=1709.0 s, dt=246.00000000000009 s, source=0.0\n"
     ]
    },
    {
     "name": "stdout",
     "output_type": "stream",
     "text": [
      "[openmc.deplete] t=1955.0 s, dt=427.99999999999994 s, source=0.0\n"
     ]
    },
    {
     "name": "stdout",
     "output_type": "stream",
     "text": [
      "[openmc.deplete] t=2383.0 s, dt=606.0 s, source=0.0\n"
     ]
    },
    {
     "name": "stdout",
     "output_type": "stream",
     "text": [
      "[openmc.deplete] t=2989.0 s, dt=603.0000000000001 s, source=0.0\n"
     ]
    },
    {
     "name": "stdout",
     "output_type": "stream",
     "text": [
      "[openmc.deplete] t=3592.0 (final operator evaluation)\n"
     ]
    },
    {
     "name": "stderr",
     "output_type": "stream",
     "text": [
      "/home/jon/.neutronicsworkshop_3.12/lib/python3.12/site-packages/openmc/deplete/results.py:94: FutureWarning: The ResultsList.from_hdf5(...) method is no longer necessary and will be removed in a future version of OpenMC. Use Results(...) instead.\n",
      "  warn(\n"
     ]
    },
    {
     "name": "stdout",
     "output_type": "stream",
     "text": [
      "[openmc.deplete] t=0.0 s, dt=27267.84 s, source=10500000000.0\n"
     ]
    },
    {
     "name": "stdout",
     "output_type": "stream",
     "text": [
      "[openmc.deplete] t=27267.84 s, dt=56246.4 s, source=0.0\n"
     ]
    },
    {
     "name": "stderr",
     "output_type": "stream",
     "text": [
      "/home/jon/.neutronicsworkshop_3.12/lib/python3.12/site-packages/uncertainties/core.py:1024: UserWarning: Using UFloat objects with std_dev==0 may give unexpected results.\n",
      "  warn(\"Using UFloat objects with std_dev==0 may give unexpected results.\")\n"
     ]
    },
    {
     "name": "stdout",
     "output_type": "stream",
     "text": [
      "[openmc.deplete] t=83514.24 s, dt=57974.400000000016 s, source=0.0\n"
     ]
    },
    {
     "name": "stdout",
     "output_type": "stream",
     "text": [
      "[openmc.deplete] t=141488.64 s, dt=136512.0 s, source=0.0\n"
     ]
    },
    {
     "name": "stdout",
     "output_type": "stream",
     "text": [
      "[openmc.deplete] t=278000.64 s, dt=342921.60000000003 s, source=0.0\n"
     ]
    },
    {
     "name": "stdout",
     "output_type": "stream",
     "text": [
      "[openmc.deplete] t=620922.24 s, dt=517881.5999999998 s, source=0.0\n"
     ]
    },
    {
     "name": "stdout",
     "output_type": "stream",
     "text": [
      "[openmc.deplete] t=1138803.8399999999 s, dt=950313.6000000002 s, source=0.0\n"
     ]
    },
    {
     "name": "stdout",
     "output_type": "stream",
     "text": [
      "[openmc.deplete] t=2089117.44 s, dt=2235081.6 s, source=0.0\n"
     ]
    },
    {
     "name": "stdout",
     "output_type": "stream",
     "text": [
      "[openmc.deplete] t=4324199.04 (final operator evaluation)\n"
     ]
    },
    {
     "name": "stderr",
     "output_type": "stream",
     "text": [
      "/home/jon/.neutronicsworkshop_3.12/lib/python3.12/site-packages/openmc/deplete/results.py:94: FutureWarning: The ResultsList.from_hdf5(...) method is no longer necessary and will be removed in a future version of OpenMC. Use Results(...) instead.\n",
      "  warn(\n"
     ]
    },
    {
     "name": "stdout",
     "output_type": "stream",
     "text": [
      "[openmc.deplete] t=0.0 s, dt=300.0 s, source=11350000000.0\n"
     ]
    },
    {
     "name": "stdout",
     "output_type": "stream",
     "text": [
      "[openmc.deplete] t=300.0 s, dt=81.0 s, source=0.0\n"
     ]
    },
    {
     "name": "stderr",
     "output_type": "stream",
     "text": [
      "/home/jon/.neutronicsworkshop_3.12/lib/python3.12/site-packages/uncertainties/core.py:1024: UserWarning: Using UFloat objects with std_dev==0 may give unexpected results.\n",
      "  warn(\"Using UFloat objects with std_dev==0 may give unexpected results.\")\n"
     ]
    },
    {
     "name": "stdout",
     "output_type": "stream",
     "text": [
      "[openmc.deplete] t=381.0 s, dt=16.000000000000053 s, source=0.0\n"
     ]
    },
    {
     "name": "stdout",
     "output_type": "stream",
     "text": [
      "[openmc.deplete] t=397.00000000000006 s, dt=15.999999999999979 s, source=0.0\n"
     ]
    },
    {
     "name": "stdout",
     "output_type": "stream",
     "text": [
      "[openmc.deplete] t=413.00000000000006 s, dt=27.000000000000025 s, source=0.0\n"
     ]
    },
    {
     "name": "stdout",
     "output_type": "stream",
     "text": [
      "[openmc.deplete] t=440.00000000000006 s, dt=36.999999999999964 s, source=0.0\n"
     ]
    },
    {
     "name": "stdout",
     "output_type": "stream",
     "text": [
      "[openmc.deplete] t=477.0 s, dt=37.000000000000036 s, source=0.0\n"
     ]
    },
    {
     "name": "stdout",
     "output_type": "stream",
     "text": [
      "[openmc.deplete] t=514.0 s, dt=52.99999999999994 s, source=0.0\n"
     ]
    },
    {
     "name": "stdout",
     "output_type": "stream",
     "text": [
      "[openmc.deplete] t=567.0 s, dt=67.0 s, source=0.0\n"
     ]
    },
    {
     "name": "stdout",
     "output_type": "stream",
     "text": [
      "[openmc.deplete] t=634.0 s, dt=67.00000000000009 s, source=0.0\n"
     ]
    },
    {
     "name": "stdout",
     "output_type": "stream",
     "text": [
      "[openmc.deplete] t=701.0000000000001 s, dt=97.99999999999993 s, source=0.0\n"
     ]
    },
    {
     "name": "stdout",
     "output_type": "stream",
     "text": [
      "[openmc.deplete] t=799.0 s, dt=126.00000000000006 s, source=0.0\n"
     ]
    },
    {
     "name": "stdout",
     "output_type": "stream",
     "text": [
      "[openmc.deplete] t=925.0 s, dt=127.99999999999997 s, source=0.0\n"
     ]
    },
    {
     "name": "stdout",
     "output_type": "stream",
     "text": [
      "[openmc.deplete] t=1053.0 s, dt=127.00000000000001 s, source=0.0\n"
     ]
    },
    {
     "name": "stdout",
     "output_type": "stream",
     "text": [
      "[openmc.deplete] t=1180.0 s, dt=184.9999999999999 s, source=0.0\n"
     ]
    },
    {
     "name": "stdout",
     "output_type": "stream",
     "text": [
      "[openmc.deplete] t=1365.0 s, dt=247.00000000000003 s, source=0.0\n"
     ]
    },
    {
     "name": "stdout",
     "output_type": "stream",
     "text": [
      "[openmc.deplete] t=1612.0 s, dt=247.00000000000003 s, source=0.0\n"
     ]
    },
    {
     "name": "stdout",
     "output_type": "stream",
     "text": [
      "[openmc.deplete] t=1859.0 s, dt=247.00000000000003 s, source=0.0\n"
     ]
    },
    {
     "name": "stdout",
     "output_type": "stream",
     "text": [
      "[openmc.deplete] t=2106.0 s, dt=424.9999999999998 s, source=0.0\n"
     ]
    },
    {
     "name": "stdout",
     "output_type": "stream",
     "text": [
      "[openmc.deplete] t=2531.0 s, dt=604.0000000000003 s, source=0.0\n"
     ]
    },
    {
     "name": "stdout",
     "output_type": "stream",
     "text": [
      "[openmc.deplete] t=3135.0000000000005 s, dt=607.9999999999999 s, source=0.0\n"
     ]
    },
    {
     "name": "stdout",
     "output_type": "stream",
     "text": [
      "[openmc.deplete] t=3743.0000000000005 (final operator evaluation)\n"
     ]
    },
    {
     "name": "stderr",
     "output_type": "stream",
     "text": [
      "/home/jon/.neutronicsworkshop_3.12/lib/python3.12/site-packages/openmc/deplete/results.py:94: FutureWarning: The ResultsList.from_hdf5(...) method is no longer necessary and will be removed in a future version of OpenMC. Use Results(...) instead.\n",
      "  warn(\n"
     ]
    },
    {
     "name": "stdout",
     "output_type": "stream",
     "text": [
      "[openmc.deplete] t=0.0 s, dt=300.0 s, source=11160000000.0\n"
     ]
    },
    {
     "name": "stdout",
     "output_type": "stream",
     "text": [
      "[openmc.deplete] t=300.0 s, dt=37.0 s, source=0.0\n"
     ]
    },
    {
     "name": "stderr",
     "output_type": "stream",
     "text": [
      "/home/jon/.neutronicsworkshop_3.12/lib/python3.12/site-packages/uncertainties/core.py:1024: UserWarning: Using UFloat objects with std_dev==0 may give unexpected results.\n",
      "  warn(\"Using UFloat objects with std_dev==0 may give unexpected results.\")\n"
     ]
    },
    {
     "name": "stdout",
     "output_type": "stream",
     "text": [
      "[openmc.deplete] t=337.0 s, dt=14.999999999999984 s, source=0.0\n"
     ]
    },
    {
     "name": "stdout",
     "output_type": "stream",
     "text": [
      "[openmc.deplete] t=352.0 s, dt=16.000000000000053 s, source=0.0\n"
     ]
    },
    {
     "name": "stdout",
     "output_type": "stream",
     "text": [
      "[openmc.deplete] t=368.00000000000006 s, dt=15.999999999999979 s, source=0.0\n"
     ]
    },
    {
     "name": "stdout",
     "output_type": "stream",
     "text": [
      "[openmc.deplete] t=384.00000000000006 s, dt=15.999999999999979 s, source=0.0\n"
     ]
    },
    {
     "name": "stdout",
     "output_type": "stream",
     "text": [
      "[openmc.deplete] t=400.00000000000006 s, dt=25.999999999999993 s, source=0.0\n"
     ]
    },
    {
     "name": "stdout",
     "output_type": "stream",
     "text": [
      "[openmc.deplete] t=426.00000000000006 s, dt=37.000000000000036 s, source=0.0\n"
     ]
    },
    {
     "name": "stdout",
     "output_type": "stream",
     "text": [
      "[openmc.deplete] t=463.0000000000001 s, dt=36.999999999999964 s, source=0.0\n"
     ]
    },
    {
     "name": "stdout",
     "output_type": "stream",
     "text": [
      "[openmc.deplete] t=500.00000000000006 s, dt=53.000000000000014 s, source=0.0\n"
     ]
    },
    {
     "name": "stdout",
     "output_type": "stream",
     "text": [
      "[openmc.deplete] t=553.0000000000001 s, dt=65.99999999999997 s, source=0.0\n"
     ]
    },
    {
     "name": "stdout",
     "output_type": "stream",
     "text": [
      "[openmc.deplete] t=619.0000000000001 s, dt=67.0 s, source=0.0\n"
     ]
    },
    {
     "name": "stdout",
     "output_type": "stream",
     "text": [
      "[openmc.deplete] t=686.0000000000001 s, dt=93.99999999999996 s, source=0.0\n"
     ]
    },
    {
     "name": "stdout",
     "output_type": "stream",
     "text": [
      "[openmc.deplete] t=780.0000000000001 s, dt=127.00000000000001 s, source=0.0\n"
     ]
    },
    {
     "name": "stdout",
     "output_type": "stream",
     "text": [
      "[openmc.deplete] t=907.0000000000001 s, dt=126.00000000000006 s, source=0.0\n"
     ]
    },
    {
     "name": "stdout",
     "output_type": "stream",
     "text": [
      "[openmc.deplete] t=1033.0000000000002 s, dt=188.00000000000006 s, source=0.0\n"
     ]
    },
    {
     "name": "stdout",
     "output_type": "stream",
     "text": [
      "[openmc.deplete] t=1221.0000000000002 s, dt=245.99999999999994 s, source=0.0\n"
     ]
    },
    {
     "name": "stdout",
     "output_type": "stream",
     "text": [
      "[openmc.deplete] t=1467.0000000000002 s, dt=247.00000000000003 s, source=0.0\n"
     ]
    },
    {
     "name": "stdout",
     "output_type": "stream",
     "text": [
      "[openmc.deplete] t=1714.0000000000002 s, dt=247.00000000000003 s, source=0.0\n"
     ]
    },
    {
     "name": "stdout",
     "output_type": "stream",
     "text": [
      "[openmc.deplete] t=1961.0000000000002 s, dt=427.0 s, source=0.0\n"
     ]
    },
    {
     "name": "stdout",
     "output_type": "stream",
     "text": [
      "[openmc.deplete] t=2388.0 s, dt=603.9999999999998 s, source=0.0\n"
     ]
    },
    {
     "name": "stdout",
     "output_type": "stream",
     "text": [
      "[openmc.deplete] t=2992.0 s, dt=607.0 s, source=0.0\n"
     ]
    },
    {
     "name": "stdout",
     "output_type": "stream",
     "text": [
      "[openmc.deplete] t=3599.0 (final operator evaluation)\n"
     ]
    },
    {
     "name": "stderr",
     "output_type": "stream",
     "text": [
      "/home/jon/.neutronicsworkshop_3.12/lib/python3.12/site-packages/openmc/deplete/results.py:94: FutureWarning: The ResultsList.from_hdf5(...) method is no longer necessary and will be removed in a future version of OpenMC. Use Results(...) instead.\n",
      "  warn(\n"
     ]
    },
    {
     "name": "stdout",
     "output_type": "stream",
     "text": [
      "[openmc.deplete] t=0.0 s, dt=25799.039999999997 s, source=10500000000.0\n"
     ]
    },
    {
     "name": "stdout",
     "output_type": "stream",
     "text": [
      "[openmc.deplete] t=25799.039999999997 s, dt=58147.200000000004 s, source=0.0\n"
     ]
    },
    {
     "name": "stderr",
     "output_type": "stream",
     "text": [
      "/home/jon/.neutronicsworkshop_3.12/lib/python3.12/site-packages/uncertainties/core.py:1024: UserWarning: Using UFloat objects with std_dev==0 may give unexpected results.\n",
      "  warn(\"Using UFloat objects with std_dev==0 may give unexpected results.\")\n"
     ]
    },
    {
     "name": "stdout",
     "output_type": "stream",
     "text": [
      "[openmc.deplete] t=83946.24 s, dt=91151.99999999997 s, source=0.0\n"
     ]
    },
    {
     "name": "stdout",
     "output_type": "stream",
     "text": [
      "[openmc.deplete] t=175098.24 s, dt=185760.0 s, source=0.0\n"
     ]
    },
    {
     "name": "stdout",
     "output_type": "stream",
     "text": [
      "[openmc.deplete] t=360858.24 s, dt=247881.59999999998 s, source=0.0\n"
     ]
    },
    {
     "name": "stdout",
     "output_type": "stream",
     "text": [
      "[openmc.deplete] t=608739.84 s, dt=470534.4000000001 s, source=0.0\n"
     ]
    },
    {
     "name": "stdout",
     "output_type": "stream",
     "text": [
      "[openmc.deplete] t=1079274.24 s, dt=1037577.5999999999 s, source=0.0\n"
     ]
    },
    {
     "name": "stdout",
     "output_type": "stream",
     "text": [
      "[openmc.deplete] t=2116851.84 s, dt=2224886.4000000004 s, source=0.0\n"
     ]
    },
    {
     "name": "stdout",
     "output_type": "stream",
     "text": [
      "[openmc.deplete] t=4341738.24 s, dt=4331059.2 s, source=0.0\n"
     ]
    },
    {
     "name": "stdout",
     "output_type": "stream",
     "text": [
      "[openmc.deplete] t=8672797.440000001 s, dt=8455968.0 s, source=0.0\n"
     ]
    },
    {
     "name": "stdout",
     "output_type": "stream",
     "text": [
      "[openmc.deplete] t=17128765.44 s, dt=17642879.999999996 s, source=0.0\n"
     ]
    },
    {
     "name": "stdout",
     "output_type": "stream",
     "text": [
      "[openmc.deplete] t=34771645.44 (final operator evaluation)\n"
     ]
    },
    {
     "name": "stderr",
     "output_type": "stream",
     "text": [
      "/home/jon/.neutronicsworkshop_3.12/lib/python3.12/site-packages/openmc/deplete/results.py:94: FutureWarning: The ResultsList.from_hdf5(...) method is no longer necessary and will be removed in a future version of OpenMC. Use Results(...) instead.\n",
      "  warn(\n"
     ]
    },
    {
     "name": "stdout",
     "output_type": "stream",
     "text": [
      "[openmc.deplete] t=0.0 s, dt=300.0 s, source=11160000000.0\n"
     ]
    },
    {
     "name": "stdout",
     "output_type": "stream",
     "text": [
      "[openmc.deplete] t=300.0 s, dt=66.00000000000006 s, source=0.0\n"
     ]
    },
    {
     "name": "stderr",
     "output_type": "stream",
     "text": [
      "/home/jon/.neutronicsworkshop_3.12/lib/python3.12/site-packages/uncertainties/core.py:1024: UserWarning: Using UFloat objects with std_dev==0 may give unexpected results.\n",
      "  warn(\"Using UFloat objects with std_dev==0 may give unexpected results.\")\n"
     ]
    },
    {
     "name": "stdout",
     "output_type": "stream",
     "text": [
      "[openmc.deplete] t=366.00000000000006 s, dt=15.999999999999979 s, source=0.0\n"
     ]
    },
    {
     "name": "stdout",
     "output_type": "stream",
     "text": [
      "[openmc.deplete] t=382.00000000000006 s, dt=15.999999999999979 s, source=0.0\n"
     ]
    },
    {
     "name": "stdout",
     "output_type": "stream",
     "text": [
      "[openmc.deplete] t=398.00000000000006 s, dt=25.999999999999993 s, source=0.0\n"
     ]
    },
    {
     "name": "stdout",
     "output_type": "stream",
     "text": [
      "[openmc.deplete] t=424.00000000000006 s, dt=34.00000000000002 s, source=0.0\n"
     ]
    },
    {
     "name": "stdout",
     "output_type": "stream",
     "text": [
      "[openmc.deplete] t=458.00000000000006 s, dt=36.999999999999964 s, source=0.0\n"
     ]
    },
    {
     "name": "stdout",
     "output_type": "stream",
     "text": [
      "[openmc.deplete] t=495.0 s, dt=50.00000000000007 s, source=0.0\n"
     ]
    },
    {
     "name": "stdout",
     "output_type": "stream",
     "text": [
      "[openmc.deplete] t=545.0000000000001 s, dt=63.999999999999986 s, source=0.0\n"
     ]
    },
    {
     "name": "stdout",
     "output_type": "stream",
     "text": [
      "[openmc.deplete] t=609.0000000000001 s, dt=66.99999999999993 s, source=0.0\n"
     ]
    },
    {
     "name": "stdout",
     "output_type": "stream",
     "text": [
      "[openmc.deplete] t=676.0 s, dt=98.00000000000009 s, source=0.0\n"
     ]
    },
    {
     "name": "stdout",
     "output_type": "stream",
     "text": [
      "[openmc.deplete] t=774.0000000000001 s, dt=127.99999999999997 s, source=0.0\n"
     ]
    },
    {
     "name": "stdout",
     "output_type": "stream",
     "text": [
      "[openmc.deplete] t=902.0000000000001 s, dt=127.00000000000001 s, source=0.0\n"
     ]
    },
    {
     "name": "stdout",
     "output_type": "stream",
     "text": [
      "[openmc.deplete] t=1029.0000000000002 s, dt=124.0 s, source=0.0\n"
     ]
    },
    {
     "name": "stdout",
     "output_type": "stream",
     "text": [
      "[openmc.deplete] t=1153.0000000000002 s, dt=187.99999999999991 s, source=0.0\n"
     ]
    },
    {
     "name": "stdout",
     "output_type": "stream",
     "text": [
      "[openmc.deplete] t=1341.0000000000002 s, dt=247.0000000000002 s, source=0.0\n"
     ]
    },
    {
     "name": "stdout",
     "output_type": "stream",
     "text": [
      "[openmc.deplete] t=1588.0000000000005 s, dt=248.0 s, source=0.0\n"
     ]
    },
    {
     "name": "stdout",
     "output_type": "stream",
     "text": [
      "[openmc.deplete] t=1836.0000000000005 s, dt=246.99999999999974 s, source=0.0\n"
     ]
    },
    {
     "name": "stdout",
     "output_type": "stream",
     "text": [
      "[openmc.deplete] t=2083.0 s, dt=426.00000000000006 s, source=0.0\n"
     ]
    },
    {
     "name": "stdout",
     "output_type": "stream",
     "text": [
      "[openmc.deplete] t=2509.0 s, dt=604.0000000000001 s, source=0.0\n"
     ]
    },
    {
     "name": "stdout",
     "output_type": "stream",
     "text": [
      "[openmc.deplete] t=3113.0 s, dt=605.0 s, source=0.0\n"
     ]
    },
    {
     "name": "stdout",
     "output_type": "stream",
     "text": [
      "[openmc.deplete] t=3718.0 (final operator evaluation)\n"
     ]
    },
    {
     "name": "stderr",
     "output_type": "stream",
     "text": [
      "/home/jon/.neutronicsworkshop_3.12/lib/python3.12/site-packages/openmc/deplete/results.py:94: FutureWarning: The ResultsList.from_hdf5(...) method is no longer necessary and will be removed in a future version of OpenMC. Use Results(...) instead.\n",
      "  warn(\n"
     ]
    },
    {
     "name": "stdout",
     "output_type": "stream",
     "text": [
      "[openmc.deplete] t=0.0 s, dt=300.0 s, source=11160000000.0\n"
     ]
    },
    {
     "name": "stdout",
     "output_type": "stream",
     "text": [
      "[openmc.deplete] t=300.0 s, dt=36.00000000000001 s, source=0.0\n"
     ]
    },
    {
     "name": "stderr",
     "output_type": "stream",
     "text": [
      "/home/jon/.neutronicsworkshop_3.12/lib/python3.12/site-packages/uncertainties/core.py:1024: UserWarning: Using UFloat objects with std_dev==0 may give unexpected results.\n",
      "  warn(\"Using UFloat objects with std_dev==0 may give unexpected results.\")\n"
     ]
    },
    {
     "name": "stdout",
     "output_type": "stream",
     "text": [
      "[openmc.deplete] t=336.0 s, dt=15.000000000000021 s, source=0.0\n"
     ]
    },
    {
     "name": "stdout",
     "output_type": "stream",
     "text": [
      "[openmc.deplete] t=351.0 s, dt=15.000000000000021 s, source=0.0\n"
     ]
    },
    {
     "name": "stdout",
     "output_type": "stream",
     "text": [
      "[openmc.deplete] t=366.0 s, dt=15.999999999999979 s, source=0.0\n"
     ]
    },
    {
     "name": "stdout",
     "output_type": "stream",
     "text": [
      "[openmc.deplete] t=382.0 s, dt=15.000000000000021 s, source=0.0\n"
     ]
    },
    {
     "name": "stdout",
     "output_type": "stream",
     "text": [
      "[openmc.deplete] t=397.0 s, dt=25.999999999999993 s, source=0.0\n"
     ]
    },
    {
     "name": "stdout",
     "output_type": "stream",
     "text": [
      "[openmc.deplete] t=423.0 s, dt=36.00000000000001 s, source=0.0\n"
     ]
    },
    {
     "name": "stdout",
     "output_type": "stream",
     "text": [
      "[openmc.deplete] t=459.0 s, dt=35.99999999999993 s, source=0.0\n"
     ]
    },
    {
     "name": "stdout",
     "output_type": "stream",
     "text": [
      "[openmc.deplete] t=494.99999999999994 s, dt=52.00000000000006 s, source=0.0\n"
     ]
    },
    {
     "name": "stdout",
     "output_type": "stream",
     "text": [
      "[openmc.deplete] t=547.0 s, dt=67.0 s, source=0.0\n"
     ]
    },
    {
     "name": "stdout",
     "output_type": "stream",
     "text": [
      "[openmc.deplete] t=614.0 s, dt=65.9999999999999 s, source=0.0\n"
     ]
    },
    {
     "name": "stdout",
     "output_type": "stream",
     "text": [
      "[openmc.deplete] t=679.9999999999999 s, dt=97.00000000000013 s, source=0.0\n"
     ]
    },
    {
     "name": "stdout",
     "output_type": "stream",
     "text": [
      "[openmc.deplete] t=777.0 s, dt=125.99999999999991 s, source=0.0\n"
     ]
    },
    {
     "name": "stdout",
     "output_type": "stream",
     "text": [
      "[openmc.deplete] t=902.9999999999999 s, dt=127.00000000000001 s, source=0.0\n"
     ]
    },
    {
     "name": "stdout",
     "output_type": "stream",
     "text": [
      "[openmc.deplete] t=1030.0 s, dt=186.99999999999994 s, source=0.0\n"
     ]
    },
    {
     "name": "stdout",
     "output_type": "stream",
     "text": [
      "[openmc.deplete] t=1217.0 s, dt=243.00000000000006 s, source=0.0\n"
     ]
    },
    {
     "name": "stdout",
     "output_type": "stream",
     "text": [
      "[openmc.deplete] t=1460.0 s, dt=246.00000000000009 s, source=0.0\n"
     ]
    },
    {
     "name": "stdout",
     "output_type": "stream",
     "text": [
      "[openmc.deplete] t=1706.0 s, dt=247.00000000000003 s, source=0.0\n"
     ]
    },
    {
     "name": "stdout",
     "output_type": "stream",
     "text": [
      "[openmc.deplete] t=1953.0 s, dt=423.99999999999983 s, source=0.0\n"
     ]
    },
    {
     "name": "stdout",
     "output_type": "stream",
     "text": [
      "[openmc.deplete] t=2377.0 s, dt=602.9999999999999 s, source=0.0\n"
     ]
    },
    {
     "name": "stdout",
     "output_type": "stream",
     "text": [
      "[openmc.deplete] t=2980.0 s, dt=607.0 s, source=0.0\n"
     ]
    },
    {
     "name": "stdout",
     "output_type": "stream",
     "text": [
      "[openmc.deplete] t=3587.0 (final operator evaluation)\n"
     ]
    },
    {
     "name": "stderr",
     "output_type": "stream",
     "text": [
      "/home/jon/.neutronicsworkshop_3.12/lib/python3.12/site-packages/openmc/deplete/results.py:94: FutureWarning: The ResultsList.from_hdf5(...) method is no longer necessary and will be removed in a future version of OpenMC. Use Results(...) instead.\n",
      "  warn(\n"
     ]
    },
    {
     "name": "stdout",
     "output_type": "stream",
     "text": [
      "[openmc.deplete] t=0.0 s, dt=27267.84 s, source=10500000000.0\n"
     ]
    },
    {
     "name": "stdout",
     "output_type": "stream",
     "text": [
      "[openmc.deplete] t=27267.84 s, dt=52012.799999999996 s, source=0.0\n"
     ]
    },
    {
     "name": "stderr",
     "output_type": "stream",
     "text": [
      "/home/jon/.neutronicsworkshop_3.12/lib/python3.12/site-packages/uncertainties/core.py:1024: UserWarning: Using UFloat objects with std_dev==0 may give unexpected results.\n",
      "  warn(\"Using UFloat objects with std_dev==0 may give unexpected results.\")\n"
     ]
    },
    {
     "name": "stdout",
     "output_type": "stream",
     "text": [
      "[openmc.deplete] t=79280.64 s, dt=63244.799999999996 s, source=0.0\n"
     ]
    },
    {
     "name": "stdout",
     "output_type": "stream",
     "text": [
      "[openmc.deplete] t=142525.44 s, dt=136512.0 s, source=0.0\n"
     ]
    },
    {
     "name": "stdout",
     "output_type": "stream",
     "text": [
      "[openmc.deplete] t=279037.44 s, dt=343094.4 s, source=0.0\n"
     ]
    },
    {
     "name": "stdout",
     "output_type": "stream",
     "text": [
      "[openmc.deplete] t=622131.8400000001 s, dt=517968.0 s, source=0.0\n"
     ]
    },
    {
     "name": "stdout",
     "output_type": "stream",
     "text": [
      "[openmc.deplete] t=1140099.84 s, dt=950140.8000000002 s, source=0.0\n"
     ]
    },
    {
     "name": "stdout",
     "output_type": "stream",
     "text": [
      "[openmc.deplete] t=2090240.6400000001 s, dt=2232489.6 s, source=0.0\n"
     ]
    },
    {
     "name": "stdout",
     "output_type": "stream",
     "text": [
      "[openmc.deplete] t=4322730.24 s, dt=4336588.799999999 s, source=0.0\n"
     ]
    },
    {
     "name": "stdout",
     "output_type": "stream",
     "text": [
      "[openmc.deplete] t=8659319.04 s, dt=8659008.000000002 s, source=0.0\n"
     ]
    },
    {
     "name": "stdout",
     "output_type": "stream",
     "text": [
      "[openmc.deplete] t=17318327.04 s, dt=17698175.999999996 s, source=0.0\n"
     ]
    },
    {
     "name": "stdout",
     "output_type": "stream",
     "text": [
      "[openmc.deplete] t=35016503.03999999 (final operator evaluation)\n"
     ]
    },
    {
     "name": "stderr",
     "output_type": "stream",
     "text": [
      "/home/jon/.neutronicsworkshop_3.12/lib/python3.12/site-packages/openmc/deplete/results.py:94: FutureWarning: The ResultsList.from_hdf5(...) method is no longer necessary and will be removed in a future version of OpenMC. Use Results(...) instead.\n",
      "  warn(\n"
     ]
    },
    {
     "name": "stdout",
     "output_type": "stream",
     "text": [
      "[openmc.deplete] t=0.0 s, dt=300.0 s, source=11160000000.0\n"
     ]
    },
    {
     "name": "stdout",
     "output_type": "stream",
     "text": [
      "[openmc.deplete] t=300.0 s, dt=65.00000000000001 s, source=0.0\n"
     ]
    },
    {
     "name": "stderr",
     "output_type": "stream",
     "text": [
      "/home/jon/.neutronicsworkshop_3.12/lib/python3.12/site-packages/uncertainties/core.py:1024: UserWarning: Using UFloat objects with std_dev==0 may give unexpected results.\n",
      "  warn(\"Using UFloat objects with std_dev==0 may give unexpected results.\")\n"
     ]
    },
    {
     "name": "stdout",
     "output_type": "stream",
     "text": [
      "[openmc.deplete] t=365.0 s, dt=15.999999999999979 s, source=0.0\n"
     ]
    },
    {
     "name": "stdout",
     "output_type": "stream",
     "text": [
      "[openmc.deplete] t=381.0 s, dt=16.000000000000053 s, source=0.0\n"
     ]
    },
    {
     "name": "stdout",
     "output_type": "stream",
     "text": [
      "[openmc.deplete] t=397.00000000000006 s, dt=26.99999999999995 s, source=0.0\n"
     ]
    },
    {
     "name": "stdout",
     "output_type": "stream",
     "text": [
      "[openmc.deplete] t=424.0 s, dt=37.000000000000036 s, source=0.0\n"
     ]
    },
    {
     "name": "stdout",
     "output_type": "stream",
     "text": [
      "[openmc.deplete] t=461.00000000000006 s, dt=36.00000000000001 s, source=0.0\n"
     ]
    },
    {
     "name": "stdout",
     "output_type": "stream",
     "text": [
      "[openmc.deplete] t=497.00000000000006 s, dt=52.99999999999994 s, source=0.0\n"
     ]
    },
    {
     "name": "stdout",
     "output_type": "stream",
     "text": [
      "[openmc.deplete] t=550.0 s, dt=67.0 s, source=0.0\n"
     ]
    },
    {
     "name": "stdout",
     "output_type": "stream",
     "text": [
      "[openmc.deplete] t=617.0 s, dt=67.00000000000009 s, source=0.0\n"
     ]
    },
    {
     "name": "stdout",
     "output_type": "stream",
     "text": [
      "[openmc.deplete] t=684.0000000000001 s, dt=97.99999999999993 s, source=0.0\n"
     ]
    },
    {
     "name": "stdout",
     "output_type": "stream",
     "text": [
      "[openmc.deplete] t=782.0 s, dt=126.00000000000006 s, source=0.0\n"
     ]
    },
    {
     "name": "stdout",
     "output_type": "stream",
     "text": [
      "[openmc.deplete] t=908.0 s, dt=124.0 s, source=0.0\n"
     ]
    },
    {
     "name": "stdout",
     "output_type": "stream",
     "text": [
      "[openmc.deplete] t=1032.0 s, dt=127.00000000000001 s, source=0.0\n"
     ]
    },
    {
     "name": "stdout",
     "output_type": "stream",
     "text": [
      "[openmc.deplete] t=1159.0 s, dt=184.9999999999999 s, source=0.0\n"
     ]
    },
    {
     "name": "stdout",
     "output_type": "stream",
     "text": [
      "[openmc.deplete] t=1344.0 s, dt=245.00000000000014 s, source=0.0\n"
     ]
    },
    {
     "name": "stdout",
     "output_type": "stream",
     "text": [
      "[openmc.deplete] t=1589.0000000000002 s, dt=247.00000000000003 s, source=0.0\n"
     ]
    },
    {
     "name": "stdout",
     "output_type": "stream",
     "text": [
      "[openmc.deplete] t=1836.0000000000002 s, dt=246.99999999999974 s, source=0.0\n"
     ]
    },
    {
     "name": "stdout",
     "output_type": "stream",
     "text": [
      "[openmc.deplete] t=2083.0 s, dt=428.0000000000003 s, source=0.0\n"
     ]
    },
    {
     "name": "stdout",
     "output_type": "stream",
     "text": [
      "[openmc.deplete] t=2511.0000000000005 s, dt=604.9999999999998 s, source=0.0\n"
     ]
    },
    {
     "name": "stdout",
     "output_type": "stream",
     "text": [
      "[openmc.deplete] t=3116.0 s, dt=607.0 s, source=0.0\n"
     ]
    },
    {
     "name": "stdout",
     "output_type": "stream",
     "text": [
      "[openmc.deplete] t=3723.0 (final operator evaluation)\n"
     ]
    },
    {
     "name": "stderr",
     "output_type": "stream",
     "text": [
      "/home/jon/.neutronicsworkshop_3.12/lib/python3.12/site-packages/openmc/deplete/results.py:94: FutureWarning: The ResultsList.from_hdf5(...) method is no longer necessary and will be removed in a future version of OpenMC. Use Results(...) instead.\n",
      "  warn(\n"
     ]
    },
    {
     "name": "stdout",
     "output_type": "stream",
     "text": [
      "[openmc.deplete] t=0.0 s, dt=300.0 s, source=11160000000.0\n"
     ]
    },
    {
     "name": "stdout",
     "output_type": "stream",
     "text": [
      "[openmc.deplete] t=300.0 s, dt=51.00000000000003 s, source=0.0\n"
     ]
    },
    {
     "name": "stderr",
     "output_type": "stream",
     "text": [
      "/home/jon/.neutronicsworkshop_3.12/lib/python3.12/site-packages/uncertainties/core.py:1024: UserWarning: Using UFloat objects with std_dev==0 may give unexpected results.\n",
      "  warn(\"Using UFloat objects with std_dev==0 may give unexpected results.\")\n"
     ]
    },
    {
     "name": "stdout",
     "output_type": "stream",
     "text": [
      "[openmc.deplete] t=351.0 s, dt=15.999999999999979 s, source=0.0\n"
     ]
    },
    {
     "name": "stdout",
     "output_type": "stream",
     "text": [
      "[openmc.deplete] t=367.0 s, dt=15.000000000000021 s, source=0.0\n"
     ]
    },
    {
     "name": "stdout",
     "output_type": "stream",
     "text": [
      "[openmc.deplete] t=382.0 s, dt=15.000000000000021 s, source=0.0\n"
     ]
    },
    {
     "name": "stdout",
     "output_type": "stream",
     "text": [
      "[openmc.deplete] t=397.0 s, dt=26.99999999999995 s, source=0.0\n"
     ]
    },
    {
     "name": "stdout",
     "output_type": "stream",
     "text": [
      "[openmc.deplete] t=423.99999999999994 s, dt=34.00000000000002 s, source=0.0\n"
     ]
    },
    {
     "name": "stdout",
     "output_type": "stream",
     "text": [
      "[openmc.deplete] t=457.99999999999994 s, dt=36.00000000000001 s, source=0.0\n"
     ]
    },
    {
     "name": "stdout",
     "output_type": "stream",
     "text": [
      "[openmc.deplete] t=493.99999999999994 s, dt=51.999999999999986 s, source=0.0\n"
     ]
    },
    {
     "name": "stdout",
     "output_type": "stream",
     "text": [
      "[openmc.deplete] t=545.9999999999999 s, dt=67.0 s, source=0.0\n"
     ]
    },
    {
     "name": "stdout",
     "output_type": "stream",
     "text": [
      "[openmc.deplete] t=612.9999999999999 s, dt=62.99999999999996 s, source=0.0\n"
     ]
    },
    {
     "name": "stdout",
     "output_type": "stream",
     "text": [
      "[openmc.deplete] t=675.9999999999999 s, dt=98.00000000000009 s, source=0.0\n"
     ]
    },
    {
     "name": "stdout",
     "output_type": "stream",
     "text": [
      "[openmc.deplete] t=774.0 s, dt=125.99999999999991 s, source=0.0\n"
     ]
    },
    {
     "name": "stdout",
     "output_type": "stream",
     "text": [
      "[openmc.deplete] t=899.9999999999999 s, dt=124.0 s, source=0.0\n"
     ]
    },
    {
     "name": "stdout",
     "output_type": "stream",
     "text": [
      "[openmc.deplete] t=1023.9999999999999 s, dt=184.00000000000009 s, source=0.0\n"
     ]
    },
    {
     "name": "stdout",
     "output_type": "stream",
     "text": [
      "[openmc.deplete] t=1208.0 s, dt=244.00000000000003 s, source=0.0\n"
     ]
    },
    {
     "name": "stdout",
     "output_type": "stream",
     "text": [
      "[openmc.deplete] t=1452.0 s, dt=246.00000000000009 s, source=0.0\n"
     ]
    },
    {
     "name": "stdout",
     "output_type": "stream",
     "text": [
      "[openmc.deplete] t=1698.0 s, dt=246.99999999999974 s, source=0.0\n"
     ]
    },
    {
     "name": "stdout",
     "output_type": "stream",
     "text": [
      "[openmc.deplete] t=1944.9999999999998 s, dt=428.0000000000003 s, source=0.0\n"
     ]
    },
    {
     "name": "stdout",
     "output_type": "stream",
     "text": [
      "[openmc.deplete] t=2373.0 s, dt=603.9999999999998 s, source=0.0\n"
     ]
    },
    {
     "name": "stdout",
     "output_type": "stream",
     "text": [
      "[openmc.deplete] t=2977.0 s, dt=606.0 s, source=0.0\n"
     ]
    },
    {
     "name": "stdout",
     "output_type": "stream",
     "text": [
      "[openmc.deplete] t=3583.0 (final operator evaluation)\n"
     ]
    },
    {
     "name": "stderr",
     "output_type": "stream",
     "text": [
      "/home/jon/.neutronicsworkshop_3.12/lib/python3.12/site-packages/openmc/deplete/results.py:94: FutureWarning: The ResultsList.from_hdf5(...) method is no longer necessary and will be removed in a future version of OpenMC. Use Results(...) instead.\n",
      "  warn(\n"
     ]
    },
    {
     "name": "stdout",
     "output_type": "stream",
     "text": [
      "[openmc.deplete] t=0.0 s, dt=300.0 s, source=11160000000.0\n"
     ]
    },
    {
     "name": "stdout",
     "output_type": "stream",
     "text": [
      "[openmc.deplete] t=300.0 s, dt=36.00000000000001 s, source=0.0\n"
     ]
    },
    {
     "name": "stderr",
     "output_type": "stream",
     "text": [
      "/home/jon/.neutronicsworkshop_3.12/lib/python3.12/site-packages/uncertainties/core.py:1024: UserWarning: Using UFloat objects with std_dev==0 may give unexpected results.\n",
      "  warn(\"Using UFloat objects with std_dev==0 may give unexpected results.\")\n"
     ]
    },
    {
     "name": "stdout",
     "output_type": "stream",
     "text": [
      "[openmc.deplete] t=336.0 s, dt=15.000000000000021 s, source=0.0\n"
     ]
    },
    {
     "name": "stdout",
     "output_type": "stream",
     "text": [
      "[openmc.deplete] t=351.0 s, dt=15.000000000000021 s, source=0.0\n"
     ]
    },
    {
     "name": "stdout",
     "output_type": "stream",
     "text": [
      "[openmc.deplete] t=366.0 s, dt=15.999999999999979 s, source=0.0\n"
     ]
    },
    {
     "name": "stdout",
     "output_type": "stream",
     "text": [
      "[openmc.deplete] t=382.0 s, dt=15.000000000000021 s, source=0.0\n"
     ]
    },
    {
     "name": "stdout",
     "output_type": "stream",
     "text": [
      "[openmc.deplete] t=397.0 s, dt=26.99999999999995 s, source=0.0\n"
     ]
    },
    {
     "name": "stdout",
     "output_type": "stream",
     "text": [
      "[openmc.deplete] t=423.99999999999994 s, dt=36.00000000000001 s, source=0.0\n"
     ]
    },
    {
     "name": "stdout",
     "output_type": "stream",
     "text": [
      "[openmc.deplete] t=459.99999999999994 s, dt=37.000000000000036 s, source=0.0\n"
     ]
    },
    {
     "name": "stdout",
     "output_type": "stream",
     "text": [
      "[openmc.deplete] t=497.0 s, dt=51.999999999999986 s, source=0.0\n"
     ]
    },
    {
     "name": "stdout",
     "output_type": "stream",
     "text": [
      "[openmc.deplete] t=549.0 s, dt=65.99999999999997 s, source=0.0\n"
     ]
    },
    {
     "name": "stdout",
     "output_type": "stream",
     "text": [
      "[openmc.deplete] t=615.0 s, dt=63.999999999999986 s, source=0.0\n"
     ]
    },
    {
     "name": "stdout",
     "output_type": "stream",
     "text": [
      "[openmc.deplete] t=679.0 s, dt=96.99999999999997 s, source=0.0\n"
     ]
    },
    {
     "name": "stdout",
     "output_type": "stream",
     "text": [
      "[openmc.deplete] t=776.0 s, dt=126.00000000000006 s, source=0.0\n"
     ]
    },
    {
     "name": "stdout",
     "output_type": "stream",
     "text": [
      "[openmc.deplete] t=902.0 s, dt=127.00000000000001 s, source=0.0\n"
     ]
    },
    {
     "name": "stdout",
     "output_type": "stream",
     "text": [
      "[openmc.deplete] t=1029.0 s, dt=186.99999999999994 s, source=0.0\n"
     ]
    },
    {
     "name": "stdout",
     "output_type": "stream",
     "text": [
      "[openmc.deplete] t=1216.0 s, dt=246.9999999999999 s, source=0.0\n"
     ]
    },
    {
     "name": "stdout",
     "output_type": "stream",
     "text": [
      "[openmc.deplete] t=1463.0 s, dt=246.00000000000009 s, source=0.0\n"
     ]
    },
    {
     "name": "stdout",
     "output_type": "stream",
     "text": [
      "[openmc.deplete] t=1709.0 s, dt=247.00000000000003 s, source=0.0\n"
     ]
    },
    {
     "name": "stdout",
     "output_type": "stream",
     "text": [
      "[openmc.deplete] t=1956.0 s, dt=427.99999999999994 s, source=0.0\n"
     ]
    },
    {
     "name": "stdout",
     "output_type": "stream",
     "text": [
      "[openmc.deplete] t=2384.0 s, dt=603.0000000000001 s, source=0.0\n"
     ]
    },
    {
     "name": "stdout",
     "output_type": "stream",
     "text": [
      "[openmc.deplete] t=2987.0 s, dt=607.0 s, source=0.0\n"
     ]
    },
    {
     "name": "stdout",
     "output_type": "stream",
     "text": [
      "[openmc.deplete] t=3594.0 (final operator evaluation)\n"
     ]
    },
    {
     "name": "stderr",
     "output_type": "stream",
     "text": [
      "/home/jon/.neutronicsworkshop_3.12/lib/python3.12/site-packages/openmc/deplete/results.py:94: FutureWarning: The ResultsList.from_hdf5(...) method is no longer necessary and will be removed in a future version of OpenMC. Use Results(...) instead.\n",
      "  warn(\n"
     ]
    },
    {
     "name": "stdout",
     "output_type": "stream",
     "text": [
      "[openmc.deplete] t=0.0 s, dt=25799.039999999997 s, source=10500000000.0\n"
     ]
    },
    {
     "name": "stdout",
     "output_type": "stream",
     "text": [
      "[openmc.deplete] t=25799.039999999997 s, dt=58838.4 s, source=0.0\n"
     ]
    },
    {
     "name": "stderr",
     "output_type": "stream",
     "text": [
      "/home/jon/.neutronicsworkshop_3.12/lib/python3.12/site-packages/uncertainties/core.py:1024: UserWarning: Using UFloat objects with std_dev==0 may give unexpected results.\n",
      "  warn(\"Using UFloat objects with std_dev==0 may give unexpected results.\")\n"
     ]
    },
    {
     "name": "stdout",
     "output_type": "stream",
     "text": [
      "[openmc.deplete] t=84637.44 s, dt=90288.0 s, source=0.0\n",
      "WARNING: nuclide In118_m1 in material20 is negative (density = -1.033241872037245e-19 atom/b-cm)\n",
      "WARNING: nuclide In118_m2 in material20 is negative (density = -3.495140858577225e-21 atom/b-cm)\n"
     ]
    },
    {
     "name": "stdout",
     "output_type": "stream",
     "text": [
      "[openmc.deplete] t=174925.44 s, dt=186451.19999999998 s, source=0.0\n"
     ]
    },
    {
     "name": "stdout",
     "output_type": "stream",
     "text": [
      "[openmc.deplete] t=361376.64 s, dt=247622.40000000005 s, source=0.0\n",
      "WARNING: nuclide In118_m1 in material20 is negative (density = -4.4269960378688634e-20 atom/b-cm)\n",
      "WARNING: nuclide In118_m2 in material20 is negative (density = -1.400142846878279e-21 atom/b-cm)\n"
     ]
    },
    {
     "name": "stdout",
     "output_type": "stream",
     "text": [
      "[openmc.deplete] t=608999.04 s, dt=470534.39999999997 s, source=0.0\n"
     ]
    },
    {
     "name": "stdout",
     "output_type": "stream",
     "text": [
      "[openmc.deplete] t=1079533.44 s, dt=1037577.5999999999 s, source=0.0\n",
      "WARNING: nuclide In118_m1 in material20 is negative (density = -2.370420382755806e-20 atom/b-cm)\n"
     ]
    },
    {
     "name": "stdout",
     "output_type": "stream",
     "text": [
      "[openmc.deplete] t=2117111.04 s, dt=2224368.0000000005 s, source=0.0\n",
      "WARNING: nuclide In118_m1 in material20 is negative (density = -5.243083154899727e-21 atom/b-cm)\n"
     ]
    },
    {
     "name": "stdout",
     "output_type": "stream",
     "text": [
      "[openmc.deplete] t=4341479.040000001 s, dt=4330972.799999999 s, source=0.0\n",
      "WARNING: nuclide In118_m1 in material20 is negative (density = -2.888774115258825e-21 atom/b-cm)\n"
     ]
    },
    {
     "name": "stdout",
     "output_type": "stream",
     "text": [
      "[openmc.deplete] t=8672451.84 s, dt=8454240.0 s, source=0.0\n",
      "WARNING: nuclide In118_m1 in material20 is negative (density = -2.6105766609440508e-21 atom/b-cm)\n"
     ]
    },
    {
     "name": "stdout",
     "output_type": "stream",
     "text": [
      "[openmc.deplete] t=17126691.84 s, dt=17642880.000000004 s, source=0.0\n"
     ]
    },
    {
     "name": "stdout",
     "output_type": "stream",
     "text": [
      "[openmc.deplete] t=34769571.84 (final operator evaluation)\n"
     ]
    },
    {
     "name": "stderr",
     "output_type": "stream",
     "text": [
      "/home/jon/.neutronicsworkshop_3.12/lib/python3.12/site-packages/openmc/deplete/results.py:94: FutureWarning: The ResultsList.from_hdf5(...) method is no longer necessary and will be removed in a future version of OpenMC. Use Results(...) instead.\n",
      "  warn(\n"
     ]
    },
    {
     "name": "stdout",
     "output_type": "stream",
     "text": [
      "[openmc.deplete] t=0.0 s, dt=300.0 s, source=11160000000.0\n"
     ]
    },
    {
     "name": "stdout",
     "output_type": "stream",
     "text": [
      "[openmc.deplete] t=300.0 s, dt=66.00000000000006 s, source=0.0\n"
     ]
    },
    {
     "name": "stderr",
     "output_type": "stream",
     "text": [
      "/home/jon/.neutronicsworkshop_3.12/lib/python3.12/site-packages/uncertainties/core.py:1024: UserWarning: Using UFloat objects with std_dev==0 may give unexpected results.\n",
      "  warn(\"Using UFloat objects with std_dev==0 may give unexpected results.\")\n"
     ]
    },
    {
     "name": "stdout",
     "output_type": "stream",
     "text": [
      "[openmc.deplete] t=366.00000000000006 s, dt=15.999999999999979 s, source=0.0\n"
     ]
    },
    {
     "name": "stdout",
     "output_type": "stream",
     "text": [
      "[openmc.deplete] t=382.00000000000006 s, dt=15.999999999999979 s, source=0.0\n"
     ]
    },
    {
     "name": "stdout",
     "output_type": "stream",
     "text": [
      "[openmc.deplete] t=398.00000000000006 s, dt=27.000000000000025 s, source=0.0\n"
     ]
    },
    {
     "name": "stdout",
     "output_type": "stream",
     "text": [
      "[openmc.deplete] t=425.00000000000006 s, dt=36.999999999999964 s, source=0.0\n"
     ]
    },
    {
     "name": "stdout",
     "output_type": "stream",
     "text": [
      "[openmc.deplete] t=462.0 s, dt=37.000000000000036 s, source=0.0\n"
     ]
    },
    {
     "name": "stdout",
     "output_type": "stream",
     "text": [
      "[openmc.deplete] t=499.00000000000006 s, dt=53.99999999999997 s, source=0.0\n"
     ]
    },
    {
     "name": "stdout",
     "output_type": "stream",
     "text": [
      "[openmc.deplete] t=553.0 s, dt=67.0 s, source=0.0\n"
     ]
    },
    {
     "name": "stdout",
     "output_type": "stream",
     "text": [
      "[openmc.deplete] t=620.0 s, dt=66.99999999999993 s, source=0.0\n"
     ]
    },
    {
     "name": "stdout",
     "output_type": "stream",
     "text": [
      "[openmc.deplete] t=686.9999999999999 s, dt=98.00000000000009 s, source=0.0\n"
     ]
    },
    {
     "name": "stdout",
     "output_type": "stream",
     "text": [
      "[openmc.deplete] t=785.0 s, dt=127.99999999999997 s, source=0.0\n"
     ]
    },
    {
     "name": "stdout",
     "output_type": "stream",
     "text": [
      "[openmc.deplete] t=913.0 s, dt=127.00000000000001 s, source=0.0\n"
     ]
    },
    {
     "name": "stdout",
     "output_type": "stream",
     "text": [
      "[openmc.deplete] t=1040.0 s, dt=127.00000000000001 s, source=0.0\n"
     ]
    },
    {
     "name": "stdout",
     "output_type": "stream",
     "text": [
      "[openmc.deplete] t=1167.0 s, dt=188.00000000000006 s, source=0.0\n"
     ]
    },
    {
     "name": "stdout",
     "output_type": "stream",
     "text": [
      "[openmc.deplete] t=1355.0 s, dt=244.99999999999983 s, source=0.0\n"
     ]
    },
    {
     "name": "stdout",
     "output_type": "stream",
     "text": [
      "[openmc.deplete] t=1599.9999999999998 s, dt=247.00000000000003 s, source=0.0\n"
     ]
    },
    {
     "name": "stdout",
     "output_type": "stream",
     "text": [
      "[openmc.deplete] t=1846.9999999999998 s, dt=245.00000000000014 s, source=0.0\n"
     ]
    },
    {
     "name": "stdout",
     "output_type": "stream",
     "text": [
      "[openmc.deplete] t=2092.0 s, dt=424.9999999999998 s, source=0.0\n"
     ]
    },
    {
     "name": "stdout",
     "output_type": "stream",
     "text": [
      "[openmc.deplete] t=2517.0 s, dt=604.0000000000003 s, source=0.0\n"
     ]
    },
    {
     "name": "stdout",
     "output_type": "stream",
     "text": [
      "[openmc.deplete] t=3121.0000000000005 s, dt=607.9999999999999 s, source=0.0\n"
     ]
    },
    {
     "name": "stdout",
     "output_type": "stream",
     "text": [
      "[openmc.deplete] t=3729.0000000000005 (final operator evaluation)\n"
     ]
    },
    {
     "name": "stderr",
     "output_type": "stream",
     "text": [
      "/home/jon/.neutronicsworkshop_3.12/lib/python3.12/site-packages/openmc/deplete/results.py:94: FutureWarning: The ResultsList.from_hdf5(...) method is no longer necessary and will be removed in a future version of OpenMC. Use Results(...) instead.\n",
      "  warn(\n"
     ]
    },
    {
     "name": "stdout",
     "output_type": "stream",
     "text": [
      "[openmc.deplete] t=0.0 s, dt=300.0 s, source=11160000000.0\n"
     ]
    },
    {
     "name": "stdout",
     "output_type": "stream",
     "text": [
      "[openmc.deplete] t=300.0 s, dt=36.00000000000001 s, source=0.0\n"
     ]
    },
    {
     "name": "stderr",
     "output_type": "stream",
     "text": [
      "/home/jon/.neutronicsworkshop_3.12/lib/python3.12/site-packages/uncertainties/core.py:1024: UserWarning: Using UFloat objects with std_dev==0 may give unexpected results.\n",
      "  warn(\"Using UFloat objects with std_dev==0 may give unexpected results.\")\n"
     ]
    },
    {
     "name": "stdout",
     "output_type": "stream",
     "text": [
      "[openmc.deplete] t=336.0 s, dt=15.999999999999979 s, source=0.0\n"
     ]
    },
    {
     "name": "stdout",
     "output_type": "stream",
     "text": [
      "[openmc.deplete] t=352.0 s, dt=16.000000000000053 s, source=0.0\n"
     ]
    },
    {
     "name": "stdout",
     "output_type": "stream",
     "text": [
      "[openmc.deplete] t=368.00000000000006 s, dt=15.999999999999979 s, source=0.0\n"
     ]
    },
    {
     "name": "stdout",
     "output_type": "stream",
     "text": [
      "[openmc.deplete] t=384.00000000000006 s, dt=15.999999999999979 s, source=0.0\n"
     ]
    },
    {
     "name": "stdout",
     "output_type": "stream",
     "text": [
      "[openmc.deplete] t=400.00000000000006 s, dt=27.000000000000025 s, source=0.0\n"
     ]
    },
    {
     "name": "stdout",
     "output_type": "stream",
     "text": [
      "[openmc.deplete] t=427.00000000000006 s, dt=34.00000000000002 s, source=0.0\n"
     ]
    },
    {
     "name": "stdout",
     "output_type": "stream",
     "text": [
      "[openmc.deplete] t=461.00000000000006 s, dt=36.999999999999964 s, source=0.0\n"
     ]
    },
    {
     "name": "stdout",
     "output_type": "stream",
     "text": [
      "[openmc.deplete] t=498.0 s, dt=53.000000000000014 s, source=0.0\n"
     ]
    },
    {
     "name": "stdout",
     "output_type": "stream",
     "text": [
      "[openmc.deplete] t=551.0 s, dt=63.999999999999986 s, source=0.0\n"
     ]
    },
    {
     "name": "stdout",
     "output_type": "stream",
     "text": [
      "[openmc.deplete] t=615.0 s, dt=67.0 s, source=0.0\n"
     ]
    },
    {
     "name": "stdout",
     "output_type": "stream",
     "text": [
      "[openmc.deplete] t=682.0 s, dt=97.99999999999993 s, source=0.0\n"
     ]
    },
    {
     "name": "stdout",
     "output_type": "stream",
     "text": [
      "[openmc.deplete] t=779.9999999999999 s, dt=124.0 s, source=0.0\n"
     ]
    },
    {
     "name": "stdout",
     "output_type": "stream",
     "text": [
      "[openmc.deplete] t=903.9999999999999 s, dt=127.00000000000001 s, source=0.0\n"
     ]
    },
    {
     "name": "stdout",
     "output_type": "stream",
     "text": [
      "[openmc.deplete] t=1031.0 s, dt=188.00000000000006 s, source=0.0\n"
     ]
    },
    {
     "name": "stdout",
     "output_type": "stream",
     "text": [
      "[openmc.deplete] t=1219.0 s, dt=246.00000000000009 s, source=0.0\n"
     ]
    },
    {
     "name": "stdout",
     "output_type": "stream",
     "text": [
      "[openmc.deplete] t=1465.0 s, dt=248.0 s, source=0.0\n"
     ]
    },
    {
     "name": "stdout",
     "output_type": "stream",
     "text": [
      "[openmc.deplete] t=1713.0 s, dt=243.9999999999999 s, source=0.0\n"
     ]
    },
    {
     "name": "stdout",
     "output_type": "stream",
     "text": [
      "[openmc.deplete] t=1957.0 s, dt=427.99999999999994 s, source=0.0\n"
     ]
    },
    {
     "name": "stdout",
     "output_type": "stream",
     "text": [
      "[openmc.deplete] t=2385.0 s, dt=607.0 s, source=0.0\n"
     ]
    },
    {
     "name": "stdout",
     "output_type": "stream",
     "text": [
      "[openmc.deplete] t=2992.0 s, dt=607.0 s, source=0.0\n"
     ]
    },
    {
     "name": "stdout",
     "output_type": "stream",
     "text": [
      "[openmc.deplete] t=3599.0 (final operator evaluation)\n"
     ]
    },
    {
     "name": "stderr",
     "output_type": "stream",
     "text": [
      "/home/jon/.neutronicsworkshop_3.12/lib/python3.12/site-packages/openmc/deplete/results.py:94: FutureWarning: The ResultsList.from_hdf5(...) method is no longer necessary and will be removed in a future version of OpenMC. Use Results(...) instead.\n",
      "  warn(\n"
     ]
    },
    {
     "name": "stdout",
     "output_type": "stream",
     "text": [
      "[openmc.deplete] t=0.0 s, dt=300.0 s, source=11160000000.0\n"
     ]
    },
    {
     "name": "stdout",
     "output_type": "stream",
     "text": [
      "[openmc.deplete] t=300.0 s, dt=35.000000000000014 s, source=0.0\n"
     ]
    },
    {
     "name": "stderr",
     "output_type": "stream",
     "text": [
      "/home/jon/.neutronicsworkshop_3.12/lib/python3.12/site-packages/uncertainties/core.py:1024: UserWarning: Using UFloat objects with std_dev==0 may give unexpected results.\n",
      "  warn(\"Using UFloat objects with std_dev==0 may give unexpected results.\")\n"
     ]
    },
    {
     "name": "stdout",
     "output_type": "stream",
     "text": [
      "[openmc.deplete] t=335.0 s, dt=16.000000000000014 s, source=0.0\n"
     ]
    },
    {
     "name": "stdout",
     "output_type": "stream",
     "text": [
      "[openmc.deplete] t=351.0 s, dt=15.000000000000021 s, source=0.0\n"
     ]
    },
    {
     "name": "stdout",
     "output_type": "stream",
     "text": [
      "[openmc.deplete] t=366.0 s, dt=15.999999999999979 s, source=0.0\n"
     ]
    },
    {
     "name": "stdout",
     "output_type": "stream",
     "text": [
      "[openmc.deplete] t=382.0 s, dt=15.000000000000021 s, source=0.0\n"
     ]
    },
    {
     "name": "stdout",
     "output_type": "stream",
     "text": [
      "[openmc.deplete] t=397.0 s, dt=25.999999999999993 s, source=0.0\n"
     ]
    },
    {
     "name": "stdout",
     "output_type": "stream",
     "text": [
      "[openmc.deplete] t=423.0 s, dt=33.99999999999994 s, source=0.0\n"
     ]
    },
    {
     "name": "stdout",
     "output_type": "stream",
     "text": [
      "[openmc.deplete] t=456.99999999999994 s, dt=36.00000000000001 s, source=0.0\n"
     ]
    },
    {
     "name": "stdout",
     "output_type": "stream",
     "text": [
      "[openmc.deplete] t=492.99999999999994 s, dt=52.00000000000006 s, source=0.0\n"
     ]
    },
    {
     "name": "stdout",
     "output_type": "stream",
     "text": [
      "[openmc.deplete] t=545.0 s, dt=63.999999999999986 s, source=0.0\n"
     ]
    },
    {
     "name": "stdout",
     "output_type": "stream",
     "text": [
      "[openmc.deplete] t=609.0 s, dt=65.99999999999997 s, source=0.0\n"
     ]
    },
    {
     "name": "stdout",
     "output_type": "stream",
     "text": [
      "[openmc.deplete] t=675.0 s, dt=96.99999999999997 s, source=0.0\n"
     ]
    },
    {
     "name": "stdout",
     "output_type": "stream",
     "text": [
      "[openmc.deplete] t=772.0 s, dt=127.00000000000001 s, source=0.0\n"
     ]
    },
    {
     "name": "stdout",
     "output_type": "stream",
     "text": [
      "[openmc.deplete] t=899.0 s, dt=127.00000000000001 s, source=0.0\n"
     ]
    },
    {
     "name": "stdout",
     "output_type": "stream",
     "text": [
      "[openmc.deplete] t=1026.0 s, dt=186.99999999999994 s, source=0.0\n"
     ]
    },
    {
     "name": "stdout",
     "output_type": "stream",
     "text": [
      "[openmc.deplete] t=1213.0 s, dt=246.00000000000009 s, source=0.0\n"
     ]
    },
    {
     "name": "stdout",
     "output_type": "stream",
     "text": [
      "[openmc.deplete] t=1459.0 s, dt=247.00000000000003 s, source=0.0\n"
     ]
    },
    {
     "name": "stdout",
     "output_type": "stream",
     "text": [
      "[openmc.deplete] t=1706.0 s, dt=245.99999999999977 s, source=0.0\n"
     ]
    },
    {
     "name": "stdout",
     "output_type": "stream",
     "text": [
      "[openmc.deplete] t=1951.9999999999998 s, dt=428.0000000000003 s, source=0.0\n"
     ]
    },
    {
     "name": "stdout",
     "output_type": "stream",
     "text": [
      "[openmc.deplete] t=2380.0 s, dt=607.0 s, source=0.0\n"
     ]
    },
    {
     "name": "stdout",
     "output_type": "stream",
     "text": [
      "[openmc.deplete] t=2987.0 s, dt=606.0 s, source=0.0\n"
     ]
    },
    {
     "name": "stdout",
     "output_type": "stream",
     "text": [
      "[openmc.deplete] t=3593.0 (final operator evaluation)\n"
     ]
    },
    {
     "name": "stderr",
     "output_type": "stream",
     "text": [
      "/home/jon/.neutronicsworkshop_3.12/lib/python3.12/site-packages/openmc/deplete/results.py:94: FutureWarning: The ResultsList.from_hdf5(...) method is no longer necessary and will be removed in a future version of OpenMC. Use Results(...) instead.\n",
      "  warn(\n"
     ]
    },
    {
     "name": "stdout",
     "output_type": "stream",
     "text": [
      "[openmc.deplete] t=0.0 s, dt=300.0 s, source=11160000000.0\n"
     ]
    },
    {
     "name": "stdout",
     "output_type": "stream",
     "text": [
      "[openmc.deplete] t=300.0 s, dt=36.00000000000001 s, source=0.0\n"
     ]
    },
    {
     "name": "stderr",
     "output_type": "stream",
     "text": [
      "/home/jon/.neutronicsworkshop_3.12/lib/python3.12/site-packages/uncertainties/core.py:1024: UserWarning: Using UFloat objects with std_dev==0 may give unexpected results.\n",
      "  warn(\"Using UFloat objects with std_dev==0 may give unexpected results.\")\n"
     ]
    },
    {
     "name": "stdout",
     "output_type": "stream",
     "text": [
      "[openmc.deplete] t=336.0 s, dt=15.999999999999979 s, source=0.0\n"
     ]
    },
    {
     "name": "stdout",
     "output_type": "stream",
     "text": [
      "[openmc.deplete] t=352.0 s, dt=16.000000000000053 s, source=0.0\n"
     ]
    },
    {
     "name": "stdout",
     "output_type": "stream",
     "text": [
      "[openmc.deplete] t=368.00000000000006 s, dt=15.999999999999979 s, source=0.0\n"
     ]
    },
    {
     "name": "stdout",
     "output_type": "stream",
     "text": [
      "[openmc.deplete] t=384.00000000000006 s, dt=15.000000000000021 s, source=0.0\n"
     ]
    },
    {
     "name": "stdout",
     "output_type": "stream",
     "text": [
      "[openmc.deplete] t=399.00000000000006 s, dt=26.99999999999995 s, source=0.0\n"
     ]
    },
    {
     "name": "stdout",
     "output_type": "stream",
     "text": [
      "[openmc.deplete] t=426.0 s, dt=36.00000000000001 s, source=0.0\n"
     ]
    },
    {
     "name": "stdout",
     "output_type": "stream",
     "text": [
      "[openmc.deplete] t=462.0 s, dt=37.000000000000036 s, source=0.0\n"
     ]
    },
    {
     "name": "stdout",
     "output_type": "stream",
     "text": [
      "[openmc.deplete] t=499.00000000000006 s, dt=53.000000000000014 s, source=0.0\n"
     ]
    },
    {
     "name": "stdout",
     "output_type": "stream",
     "text": [
      "[openmc.deplete] t=552.0000000000001 s, dt=66.99999999999993 s, source=0.0\n"
     ]
    },
    {
     "name": "stdout",
     "output_type": "stream",
     "text": [
      "[openmc.deplete] t=619.0 s, dt=67.0 s, source=0.0\n"
     ]
    },
    {
     "name": "stdout",
     "output_type": "stream",
     "text": [
      "[openmc.deplete] t=686.0 s, dt=96.99999999999997 s, source=0.0\n"
     ]
    },
    {
     "name": "stdout",
     "output_type": "stream",
     "text": [
      "[openmc.deplete] t=783.0 s, dt=127.00000000000001 s, source=0.0\n"
     ]
    },
    {
     "name": "stdout",
     "output_type": "stream",
     "text": [
      "[openmc.deplete] t=910.0 s, dt=126.00000000000006 s, source=0.0\n"
     ]
    },
    {
     "name": "stdout",
     "output_type": "stream",
     "text": [
      "[openmc.deplete] t=1036.0 s, dt=185.00000000000003 s, source=0.0\n"
     ]
    },
    {
     "name": "stdout",
     "output_type": "stream",
     "text": [
      "[openmc.deplete] t=1221.0 s, dt=246.9999999999999 s, source=0.0\n"
     ]
    },
    {
     "name": "stdout",
     "output_type": "stream",
     "text": [
      "[openmc.deplete] t=1468.0 s, dt=247.00000000000003 s, source=0.0\n"
     ]
    },
    {
     "name": "stdout",
     "output_type": "stream",
     "text": [
      "[openmc.deplete] t=1715.0 s, dt=248.0 s, source=0.0\n"
     ]
    },
    {
     "name": "stdout",
     "output_type": "stream",
     "text": [
      "[openmc.deplete] t=1963.0 s, dt=427.0 s, source=0.0\n"
     ]
    },
    {
     "name": "stdout",
     "output_type": "stream",
     "text": [
      "[openmc.deplete] t=2390.0 s, dt=607.0000000000002 s, source=0.0\n"
     ]
    },
    {
     "name": "stdout",
     "output_type": "stream",
     "text": [
      "[openmc.deplete] t=2997.0 s, dt=603.9999999999995 s, source=0.0\n"
     ]
    },
    {
     "name": "stdout",
     "output_type": "stream",
     "text": [
      "[openmc.deplete] t=3600.9999999999995 (final operator evaluation)\n"
     ]
    },
    {
     "name": "stderr",
     "output_type": "stream",
     "text": [
      "/home/jon/.neutronicsworkshop_3.12/lib/python3.12/site-packages/openmc/deplete/results.py:94: FutureWarning: The ResultsList.from_hdf5(...) method is no longer necessary and will be removed in a future version of OpenMC. Use Results(...) instead.\n",
      "  warn(\n"
     ]
    },
    {
     "name": "stdout",
     "output_type": "stream",
     "text": [
      "[openmc.deplete] t=0.0 s, dt=300.0 s, source=11160000000.0\n"
     ]
    },
    {
     "name": "stdout",
     "output_type": "stream",
     "text": [
      "[openmc.deplete] t=300.0 s, dt=35.000000000000014 s, source=0.0\n"
     ]
    },
    {
     "name": "stderr",
     "output_type": "stream",
     "text": [
      "/home/jon/.neutronicsworkshop_3.12/lib/python3.12/site-packages/uncertainties/core.py:1024: UserWarning: Using UFloat objects with std_dev==0 may give unexpected results.\n",
      "  warn(\"Using UFloat objects with std_dev==0 may give unexpected results.\")\n"
     ]
    },
    {
     "name": "stdout",
     "output_type": "stream",
     "text": [
      "[openmc.deplete] t=335.0 s, dt=14.999999999999984 s, source=0.0\n"
     ]
    },
    {
     "name": "stdout",
     "output_type": "stream",
     "text": [
      "[openmc.deplete] t=350.0 s, dt=16.000000000000053 s, source=0.0\n"
     ]
    },
    {
     "name": "stdout",
     "output_type": "stream",
     "text": [
      "[openmc.deplete] t=366.00000000000006 s, dt=14.999999999999947 s, source=0.0\n"
     ]
    },
    {
     "name": "stdout",
     "output_type": "stream",
     "text": [
      "[openmc.deplete] t=381.0 s, dt=15.000000000000021 s, source=0.0\n"
     ]
    },
    {
     "name": "stdout",
     "output_type": "stream",
     "text": [
      "[openmc.deplete] t=396.0 s, dt=25.999999999999993 s, source=0.0\n"
     ]
    },
    {
     "name": "stdout",
     "output_type": "stream",
     "text": [
      "[openmc.deplete] t=422.0 s, dt=37.000000000000036 s, source=0.0\n"
     ]
    },
    {
     "name": "stdout",
     "output_type": "stream",
     "text": [
      "[openmc.deplete] t=459.00000000000006 s, dt=35.99999999999993 s, source=0.0\n"
     ]
    },
    {
     "name": "stdout",
     "output_type": "stream",
     "text": [
      "[openmc.deplete] t=495.0 s, dt=52.00000000000006 s, source=0.0\n"
     ]
    },
    {
     "name": "stdout",
     "output_type": "stream",
     "text": [
      "[openmc.deplete] t=547.0 s, dt=65.99999999999997 s, source=0.0\n"
     ]
    },
    {
     "name": "stdout",
     "output_type": "stream",
     "text": [
      "[openmc.deplete] t=613.0 s, dt=62.99999999999996 s, source=0.0\n"
     ]
    },
    {
     "name": "stdout",
     "output_type": "stream",
     "text": [
      "[openmc.deplete] t=676.0 s, dt=96.99999999999997 s, source=0.0\n"
     ]
    },
    {
     "name": "stdout",
     "output_type": "stream",
     "text": [
      "[openmc.deplete] t=773.0 s, dt=126.00000000000006 s, source=0.0\n"
     ]
    },
    {
     "name": "stdout",
     "output_type": "stream",
     "text": [
      "[openmc.deplete] t=899.0 s, dt=127.00000000000001 s, source=0.0\n"
     ]
    },
    {
     "name": "stdout",
     "output_type": "stream",
     "text": [
      "[openmc.deplete] t=1026.0 s, dt=186.99999999999994 s, source=0.0\n"
     ]
    },
    {
     "name": "stdout",
     "output_type": "stream",
     "text": [
      "[openmc.deplete] t=1213.0 s, dt=246.00000000000009 s, source=0.0\n"
     ]
    },
    {
     "name": "stdout",
     "output_type": "stream",
     "text": [
      "[openmc.deplete] t=1459.0 s, dt=243.9999999999999 s, source=0.0\n"
     ]
    },
    {
     "name": "stdout",
     "output_type": "stream",
     "text": [
      "[openmc.deplete] t=1703.0 s, dt=247.00000000000003 s, source=0.0\n"
     ]
    },
    {
     "name": "stdout",
     "output_type": "stream",
     "text": [
      "[openmc.deplete] t=1950.0 s, dt=427.0 s, source=0.0\n"
     ]
    },
    {
     "name": "stdout",
     "output_type": "stream",
     "text": [
      "[openmc.deplete] t=2377.0 s, dt=606.0000000000003 s, source=0.0\n"
     ]
    },
    {
     "name": "stdout",
     "output_type": "stream",
     "text": [
      "[openmc.deplete] t=2983.0000000000005 s, dt=606.0 s, source=0.0\n"
     ]
    },
    {
     "name": "stdout",
     "output_type": "stream",
     "text": [
      "[openmc.deplete] t=3589.0000000000005 (final operator evaluation)\n"
     ]
    },
    {
     "name": "stderr",
     "output_type": "stream",
     "text": [
      "/home/jon/.neutronicsworkshop_3.12/lib/python3.12/site-packages/openmc/deplete/results.py:94: FutureWarning: The ResultsList.from_hdf5(...) method is no longer necessary and will be removed in a future version of OpenMC. Use Results(...) instead.\n",
      "  warn(\n"
     ]
    },
    {
     "name": "stdout",
     "output_type": "stream",
     "text": [
      "[openmc.deplete] t=0.0 s, dt=300.0 s, source=11160000000.0\n"
     ]
    },
    {
     "name": "stdout",
     "output_type": "stream",
     "text": [
      "[openmc.deplete] t=300.0 s, dt=67.0 s, source=0.0\n"
     ]
    },
    {
     "name": "stderr",
     "output_type": "stream",
     "text": [
      "/home/jon/.neutronicsworkshop_3.12/lib/python3.12/site-packages/uncertainties/core.py:1024: UserWarning: Using UFloat objects with std_dev==0 may give unexpected results.\n",
      "  warn(\"Using UFloat objects with std_dev==0 may give unexpected results.\")\n"
     ]
    },
    {
     "name": "stdout",
     "output_type": "stream",
     "text": [
      "[openmc.deplete] t=367.0 s, dt=15.999999999999979 s, source=0.0\n"
     ]
    },
    {
     "name": "stdout",
     "output_type": "stream",
     "text": [
      "[openmc.deplete] t=383.0 s, dt=16.000000000000053 s, source=0.0\n"
     ]
    },
    {
     "name": "stdout",
     "output_type": "stream",
     "text": [
      "[openmc.deplete] t=399.00000000000006 s, dt=25.999999999999993 s, source=0.0\n"
     ]
    },
    {
     "name": "stdout",
     "output_type": "stream",
     "text": [
      "[openmc.deplete] t=425.00000000000006 s, dt=36.999999999999964 s, source=0.0\n"
     ]
    },
    {
     "name": "stdout",
     "output_type": "stream",
     "text": [
      "[openmc.deplete] t=462.0 s, dt=37.000000000000036 s, source=0.0\n"
     ]
    },
    {
     "name": "stdout",
     "output_type": "stream",
     "text": [
      "[openmc.deplete] t=499.00000000000006 s, dt=53.000000000000014 s, source=0.0\n"
     ]
    },
    {
     "name": "stdout",
     "output_type": "stream",
     "text": [
      "[openmc.deplete] t=552.0000000000001 s, dt=66.99999999999993 s, source=0.0\n"
     ]
    },
    {
     "name": "stdout",
     "output_type": "stream",
     "text": [
      "[openmc.deplete] t=619.0 s, dt=67.0 s, source=0.0\n"
     ]
    },
    {
     "name": "stdout",
     "output_type": "stream",
     "text": [
      "[openmc.deplete] t=686.0 s, dt=98.00000000000009 s, source=0.0\n"
     ]
    },
    {
     "name": "stdout",
     "output_type": "stream",
     "text": [
      "[openmc.deplete] t=784.0000000000001 s, dt=127.00000000000001 s, source=0.0\n"
     ]
    },
    {
     "name": "stdout",
     "output_type": "stream",
     "text": [
      "[openmc.deplete] t=911.0000000000001 s, dt=126.99999999999987 s, source=0.0\n"
     ]
    },
    {
     "name": "stdout",
     "output_type": "stream",
     "text": [
      "[openmc.deplete] t=1038.0 s, dt=128.0000000000001 s, source=0.0\n"
     ]
    },
    {
     "name": "stdout",
     "output_type": "stream",
     "text": [
      "[openmc.deplete] t=1166.0 s, dt=188.00000000000006 s, source=0.0\n"
     ]
    },
    {
     "name": "stdout",
     "output_type": "stream",
     "text": [
      "[openmc.deplete] t=1354.0 s, dt=243.9999999999999 s, source=0.0\n"
     ]
    },
    {
     "name": "stdout",
     "output_type": "stream",
     "text": [
      "[openmc.deplete] t=1598.0 s, dt=247.00000000000003 s, source=0.0\n"
     ]
    },
    {
     "name": "stdout",
     "output_type": "stream",
     "text": [
      "[openmc.deplete] t=1845.0 s, dt=247.00000000000003 s, source=0.0\n"
     ]
    },
    {
     "name": "stdout",
     "output_type": "stream",
     "text": [
      "[openmc.deplete] t=2092.0 s, dt=424.9999999999998 s, source=0.0\n"
     ]
    },
    {
     "name": "stdout",
     "output_type": "stream",
     "text": [
      "[openmc.deplete] t=2517.0 s, dt=605.0000000000003 s, source=0.0\n"
     ]
    },
    {
     "name": "stdout",
     "output_type": "stream",
     "text": [
      "[openmc.deplete] t=3122.0000000000005 s, dt=607.0 s, source=0.0\n"
     ]
    },
    {
     "name": "stdout",
     "output_type": "stream",
     "text": [
      "[openmc.deplete] t=3729.0000000000005 (final operator evaluation)\n"
     ]
    },
    {
     "name": "stderr",
     "output_type": "stream",
     "text": [
      "/home/jon/.neutronicsworkshop_3.12/lib/python3.12/site-packages/openmc/deplete/results.py:94: FutureWarning: The ResultsList.from_hdf5(...) method is no longer necessary and will be removed in a future version of OpenMC. Use Results(...) instead.\n",
      "  warn(\n"
     ]
    },
    {
     "name": "stdout",
     "output_type": "stream",
     "text": [
      "[openmc.deplete] t=0.0 s, dt=300.0 s, source=11160000000.0\n"
     ]
    },
    {
     "name": "stdout",
     "output_type": "stream",
     "text": [
      "[openmc.deplete] t=300.0 s, dt=50.0 s, source=0.0\n"
     ]
    },
    {
     "name": "stderr",
     "output_type": "stream",
     "text": [
      "/home/jon/.neutronicsworkshop_3.12/lib/python3.12/site-packages/uncertainties/core.py:1024: UserWarning: Using UFloat objects with std_dev==0 may give unexpected results.\n",
      "  warn(\"Using UFloat objects with std_dev==0 may give unexpected results.\")\n"
     ]
    },
    {
     "name": "stdout",
     "output_type": "stream",
     "text": [
      "[openmc.deplete] t=350.0 s, dt=15.000000000000021 s, source=0.0\n"
     ]
    },
    {
     "name": "stdout",
     "output_type": "stream",
     "text": [
      "[openmc.deplete] t=365.0 s, dt=15.000000000000021 s, source=0.0\n"
     ]
    },
    {
     "name": "stdout",
     "output_type": "stream",
     "text": [
      "[openmc.deplete] t=380.0 s, dt=14.999999999999947 s, source=0.0\n"
     ]
    },
    {
     "name": "stdout",
     "output_type": "stream",
     "text": [
      "[openmc.deplete] t=394.99999999999994 s, dt=25.999999999999993 s, source=0.0\n"
     ]
    },
    {
     "name": "stdout",
     "output_type": "stream",
     "text": [
      "[openmc.deplete] t=420.99999999999994 s, dt=36.00000000000001 s, source=0.0\n"
     ]
    },
    {
     "name": "stdout",
     "output_type": "stream",
     "text": [
      "[openmc.deplete] t=456.99999999999994 s, dt=37.000000000000036 s, source=0.0\n"
     ]
    },
    {
     "name": "stdout",
     "output_type": "stream",
     "text": [
      "[openmc.deplete] t=494.0 s, dt=51.00000000000003 s, source=0.0\n"
     ]
    },
    {
     "name": "stdout",
     "output_type": "stream",
     "text": [
      "[openmc.deplete] t=545.0 s, dt=66.99999999999993 s, source=0.0\n"
     ]
    },
    {
     "name": "stdout",
     "output_type": "stream",
     "text": [
      "[openmc.deplete] t=611.9999999999999 s, dt=66.00000000000006 s, source=0.0\n"
     ]
    },
    {
     "name": "stdout",
     "output_type": "stream",
     "text": [
      "[openmc.deplete] t=678.0 s, dt=96.99999999999997 s, source=0.0\n"
     ]
    },
    {
     "name": "stdout",
     "output_type": "stream",
     "text": [
      "[openmc.deplete] t=775.0 s, dt=126.00000000000006 s, source=0.0\n"
     ]
    },
    {
     "name": "stdout",
     "output_type": "stream",
     "text": [
      "[openmc.deplete] t=901.0 s, dt=127.00000000000001 s, source=0.0\n"
     ]
    },
    {
     "name": "stdout",
     "output_type": "stream",
     "text": [
      "[openmc.deplete] t=1028.0 s, dt=183.99999999999994 s, source=0.0\n"
     ]
    },
    {
     "name": "stdout",
     "output_type": "stream",
     "text": [
      "[openmc.deplete] t=1212.0 s, dt=246.00000000000009 s, source=0.0\n"
     ]
    },
    {
     "name": "stdout",
     "output_type": "stream",
     "text": [
      "[openmc.deplete] t=1458.0 s, dt=245.99999999999977 s, source=0.0\n"
     ]
    },
    {
     "name": "stdout",
     "output_type": "stream",
     "text": [
      "[openmc.deplete] t=1703.9999999999998 s, dt=247.00000000000003 s, source=0.0\n"
     ]
    },
    {
     "name": "stdout",
     "output_type": "stream",
     "text": [
      "[openmc.deplete] t=1950.9999999999998 s, dt=427.0 s, source=0.0\n"
     ]
    },
    {
     "name": "stdout",
     "output_type": "stream",
     "text": [
      "[openmc.deplete] t=2378.0 s, dt=606.0000000000003 s, source=0.0\n"
     ]
    },
    {
     "name": "stdout",
     "output_type": "stream",
     "text": [
      "[openmc.deplete] t=2984.0000000000005 s, dt=607.0 s, source=0.0\n"
     ]
    },
    {
     "name": "stdout",
     "output_type": "stream",
     "text": [
      "[openmc.deplete] t=3591.0000000000005 (final operator evaluation)\n"
     ]
    },
    {
     "name": "stderr",
     "output_type": "stream",
     "text": [
      "/home/jon/.neutronicsworkshop_3.12/lib/python3.12/site-packages/openmc/deplete/results.py:94: FutureWarning: The ResultsList.from_hdf5(...) method is no longer necessary and will be removed in a future version of OpenMC. Use Results(...) instead.\n",
      "  warn(\n"
     ]
    },
    {
     "name": "stdout",
     "output_type": "stream",
     "text": [
      "[openmc.deplete] t=0.0 s, dt=27267.84 s, source=10500000000.0\n"
     ]
    },
    {
     "name": "stdout",
     "output_type": "stream",
     "text": [
      "[openmc.deplete] t=27267.84 s, dt=52444.799999999996 s, source=0.0\n"
     ]
    },
    {
     "name": "stderr",
     "output_type": "stream",
     "text": [
      "/home/jon/.neutronicsworkshop_3.12/lib/python3.12/site-packages/uncertainties/core.py:1024: UserWarning: Using UFloat objects with std_dev==0 may give unexpected results.\n",
      "  warn(\"Using UFloat objects with std_dev==0 may give unexpected results.\")\n"
     ]
    },
    {
     "name": "stdout",
     "output_type": "stream",
     "text": [
      "[openmc.deplete] t=79712.64 s, dt=62208.00000000001 s, source=0.0\n"
     ]
    },
    {
     "name": "stdout",
     "output_type": "stream",
     "text": [
      "[openmc.deplete] t=141920.64 s, dt=136512.00000000003 s, source=0.0\n"
     ]
    },
    {
     "name": "stdout",
     "output_type": "stream",
     "text": [
      "[openmc.deplete] t=278432.64 s, dt=343180.79999999993 s, source=0.0\n"
     ]
    },
    {
     "name": "stdout",
     "output_type": "stream",
     "text": [
      "[openmc.deplete] t=621613.44 s, dt=517967.99999999994 s, source=0.0\n"
     ]
    },
    {
     "name": "stdout",
     "output_type": "stream",
     "text": [
      "[openmc.deplete] t=1139581.44 s, dt=950400.0 s, source=0.0\n"
     ]
    },
    {
     "name": "stdout",
     "output_type": "stream",
     "text": [
      "[openmc.deplete] t=2089981.44 s, dt=2231971.1999999997 s, source=0.0\n"
     ]
    },
    {
     "name": "stdout",
     "output_type": "stream",
     "text": [
      "[openmc.deplete] t=4321952.64 s, dt=4336416.000000001 s, source=0.0\n"
     ]
    },
    {
     "name": "stdout",
     "output_type": "stream",
     "text": [
      "[openmc.deplete] t=8658368.64 s, dt=8659008.0 s, source=0.0\n"
     ]
    },
    {
     "name": "stdout",
     "output_type": "stream",
     "text": [
      "[openmc.deplete] t=17317376.64 s, dt=17697312.0 s, source=0.0\n"
     ]
    },
    {
     "name": "stdout",
     "output_type": "stream",
     "text": [
      "[openmc.deplete] t=35014688.64 (final operator evaluation)\n"
     ]
    },
    {
     "name": "stderr",
     "output_type": "stream",
     "text": [
      "/home/jon/.neutronicsworkshop_3.12/lib/python3.12/site-packages/openmc/deplete/results.py:94: FutureWarning: The ResultsList.from_hdf5(...) method is no longer necessary and will be removed in a future version of OpenMC. Use Results(...) instead.\n",
      "  warn(\n"
     ]
    },
    {
     "name": "stdout",
     "output_type": "stream",
     "text": [
      "[openmc.deplete] t=0.0 s, dt=300.0 s, source=11160000000.0\n"
     ]
    },
    {
     "name": "stdout",
     "output_type": "stream",
     "text": [
      "[openmc.deplete] t=300.0 s, dt=67.0 s, source=0.0\n"
     ]
    },
    {
     "name": "stderr",
     "output_type": "stream",
     "text": [
      "/home/jon/.neutronicsworkshop_3.12/lib/python3.12/site-packages/uncertainties/core.py:1024: UserWarning: Using UFloat objects with std_dev==0 may give unexpected results.\n",
      "  warn(\"Using UFloat objects with std_dev==0 may give unexpected results.\")\n"
     ]
    },
    {
     "name": "stdout",
     "output_type": "stream",
     "text": [
      "[openmc.deplete] t=367.0 s, dt=24.000000000000004 s, source=0.0\n"
     ]
    },
    {
     "name": "stdout",
     "output_type": "stream",
     "text": [
      "[openmc.deplete] t=391.0 s, dt=15.999999999999979 s, source=0.0\n"
     ]
    },
    {
     "name": "stdout",
     "output_type": "stream",
     "text": [
      "[openmc.deplete] t=407.0 s, dt=27.000000000000025 s, source=0.0\n"
     ]
    },
    {
     "name": "stdout",
     "output_type": "stream",
     "text": [
      "[openmc.deplete] t=434.0 s, dt=36.00000000000001 s, source=0.0\n"
     ]
    },
    {
     "name": "stdout",
     "output_type": "stream",
     "text": [
      "[openmc.deplete] t=470.0 s, dt=34.00000000000002 s, source=0.0\n"
     ]
    },
    {
     "name": "stdout",
     "output_type": "stream",
     "text": [
      "[openmc.deplete] t=504.0 s, dt=52.99999999999994 s, source=0.0\n"
     ]
    },
    {
     "name": "stdout",
     "output_type": "stream",
     "text": [
      "[openmc.deplete] t=557.0 s, dt=66.00000000000006 s, source=0.0\n"
     ]
    },
    {
     "name": "stdout",
     "output_type": "stream",
     "text": [
      "[openmc.deplete] t=623.0 s, dt=66.99999999999993 s, source=0.0\n"
     ]
    },
    {
     "name": "stdout",
     "output_type": "stream",
     "text": [
      "[openmc.deplete] t=689.9999999999999 s, dt=98.00000000000009 s, source=0.0\n"
     ]
    },
    {
     "name": "stdout",
     "output_type": "stream",
     "text": [
      "[openmc.deplete] t=788.0 s, dt=127.00000000000001 s, source=0.0\n"
     ]
    },
    {
     "name": "stdout",
     "output_type": "stream",
     "text": [
      "[openmc.deplete] t=915.0 s, dt=127.00000000000001 s, source=0.0\n"
     ]
    },
    {
     "name": "stdout",
     "output_type": "stream",
     "text": [
      "[openmc.deplete] t=1042.0 s, dt=124.0 s, source=0.0\n"
     ]
    },
    {
     "name": "stdout",
     "output_type": "stream",
     "text": [
      "[openmc.deplete] t=1166.0 s, dt=184.9999999999999 s, source=0.0\n"
     ]
    },
    {
     "name": "stdout",
     "output_type": "stream",
     "text": [
      "[openmc.deplete] t=1351.0 s, dt=242.99999999999991 s, source=0.0\n"
     ]
    },
    {
     "name": "stdout",
     "output_type": "stream",
     "text": [
      "[openmc.deplete] t=1594.0 s, dt=247.00000000000003 s, source=0.0\n"
     ]
    },
    {
     "name": "stdout",
     "output_type": "stream",
     "text": [
      "[openmc.deplete] t=1841.0 s, dt=247.00000000000003 s, source=0.0\n"
     ]
    },
    {
     "name": "stdout",
     "output_type": "stream",
     "text": [
      "[openmc.deplete] t=2088.0 s, dt=427.99999999999994 s, source=0.0\n"
     ]
    },
    {
     "name": "stdout",
     "output_type": "stream",
     "text": [
      "[openmc.deplete] t=2516.0 s, dt=605.0000000000003 s, source=0.0\n"
     ]
    },
    {
     "name": "stdout",
     "output_type": "stream",
     "text": [
      "[openmc.deplete] t=3121.0000000000005 s, dt=603.9999999999995 s, source=0.0\n"
     ]
    },
    {
     "name": "stdout",
     "output_type": "stream",
     "text": [
      "[openmc.deplete] t=3725.0 (final operator evaluation)\n"
     ]
    },
    {
     "name": "stderr",
     "output_type": "stream",
     "text": [
      "/home/jon/.neutronicsworkshop_3.12/lib/python3.12/site-packages/openmc/deplete/results.py:94: FutureWarning: The ResultsList.from_hdf5(...) method is no longer necessary and will be removed in a future version of OpenMC. Use Results(...) instead.\n",
      "  warn(\n"
     ]
    },
    {
     "name": "stdout",
     "output_type": "stream",
     "text": [
      "[openmc.deplete] t=0.0 s, dt=300.0 s, source=11160000000.0\n"
     ]
    },
    {
     "name": "stdout",
     "output_type": "stream",
     "text": [
      "[openmc.deplete] t=300.0 s, dt=67.0 s, source=0.0\n"
     ]
    },
    {
     "name": "stderr",
     "output_type": "stream",
     "text": [
      "/home/jon/.neutronicsworkshop_3.12/lib/python3.12/site-packages/uncertainties/core.py:1024: UserWarning: Using UFloat objects with std_dev==0 may give unexpected results.\n",
      "  warn(\"Using UFloat objects with std_dev==0 may give unexpected results.\")\n"
     ]
    },
    {
     "name": "stdout",
     "output_type": "stream",
     "text": [
      "[openmc.deplete] t=367.0 s, dt=15.000000000000021 s, source=0.0\n"
     ]
    },
    {
     "name": "stdout",
     "output_type": "stream",
     "text": [
      "[openmc.deplete] t=382.0 s, dt=15.000000000000021 s, source=0.0\n"
     ]
    },
    {
     "name": "stdout",
     "output_type": "stream",
     "text": [
      "[openmc.deplete] t=397.0 s, dt=26.99999999999995 s, source=0.0\n"
     ]
    },
    {
     "name": "stdout",
     "output_type": "stream",
     "text": [
      "[openmc.deplete] t=423.99999999999994 s, dt=36.00000000000001 s, source=0.0\n"
     ]
    },
    {
     "name": "stdout",
     "output_type": "stream",
     "text": [
      "[openmc.deplete] t=459.99999999999994 s, dt=37.000000000000036 s, source=0.0\n"
     ]
    },
    {
     "name": "stdout",
     "output_type": "stream",
     "text": [
      "[openmc.deplete] t=497.0 s, dt=51.999999999999986 s, source=0.0\n"
     ]
    },
    {
     "name": "stdout",
     "output_type": "stream",
     "text": [
      "[openmc.deplete] t=549.0 s, dt=65.99999999999997 s, source=0.0\n"
     ]
    },
    {
     "name": "stdout",
     "output_type": "stream",
     "text": [
      "[openmc.deplete] t=615.0 s, dt=66.00000000000006 s, source=0.0\n"
     ]
    },
    {
     "name": "stdout",
     "output_type": "stream",
     "text": [
      "[openmc.deplete] t=681.0 s, dt=96.99999999999997 s, source=0.0\n"
     ]
    },
    {
     "name": "stdout",
     "output_type": "stream",
     "text": [
      "[openmc.deplete] t=778.0 s, dt=127.00000000000001 s, source=0.0\n"
     ]
    },
    {
     "name": "stdout",
     "output_type": "stream",
     "text": [
      "[openmc.deplete] t=905.0 s, dt=125.99999999999991 s, source=0.0\n"
     ]
    },
    {
     "name": "stdout",
     "output_type": "stream",
     "text": [
      "[openmc.deplete] t=1031.0 s, dt=184.00000000000009 s, source=0.0\n"
     ]
    },
    {
     "name": "stdout",
     "output_type": "stream",
     "text": [
      "[openmc.deplete] t=1215.0 s, dt=243.00000000000006 s, source=0.0\n"
     ]
    },
    {
     "name": "stdout",
     "output_type": "stream",
     "text": [
      "[openmc.deplete] t=1458.0 s, dt=245.99999999999977 s, source=0.0\n"
     ]
    },
    {
     "name": "stdout",
     "output_type": "stream",
     "text": [
      "[openmc.deplete] t=1703.9999999999998 s, dt=247.00000000000003 s, source=0.0\n"
     ]
    },
    {
     "name": "stdout",
     "output_type": "stream",
     "text": [
      "[openmc.deplete] t=1950.9999999999998 s, dt=427.0 s, source=0.0\n"
     ]
    },
    {
     "name": "stdout",
     "output_type": "stream",
     "text": [
      "[openmc.deplete] t=2378.0 s, dt=602.9999999999999 s, source=0.0\n"
     ]
    },
    {
     "name": "stdout",
     "output_type": "stream",
     "text": [
      "[openmc.deplete] t=2981.0 s, dt=606.0 s, source=0.0\n"
     ]
    },
    {
     "name": "stdout",
     "output_type": "stream",
     "text": [
      "[openmc.deplete] t=3587.0 (final operator evaluation)\n"
     ]
    },
    {
     "name": "stderr",
     "output_type": "stream",
     "text": [
      "/home/jon/.neutronicsworkshop_3.12/lib/python3.12/site-packages/openmc/deplete/results.py:94: FutureWarning: The ResultsList.from_hdf5(...) method is no longer necessary and will be removed in a future version of OpenMC. Use Results(...) instead.\n",
      "  warn(\n"
     ]
    },
    {
     "name": "stdout",
     "output_type": "stream",
     "text": [
      "[openmc.deplete] t=0.0 s, dt=300.0 s, source=11160000000.0\n"
     ]
    },
    {
     "name": "stdout",
     "output_type": "stream",
     "text": [
      "[openmc.deplete] t=300.0 s, dt=36.00000000000001 s, source=0.0\n"
     ]
    },
    {
     "name": "stderr",
     "output_type": "stream",
     "text": [
      "/home/jon/.neutronicsworkshop_3.12/lib/python3.12/site-packages/uncertainties/core.py:1024: UserWarning: Using UFloat objects with std_dev==0 may give unexpected results.\n",
      "  warn(\"Using UFloat objects with std_dev==0 may give unexpected results.\")\n"
     ]
    },
    {
     "name": "stdout",
     "output_type": "stream",
     "text": [
      "[openmc.deplete] t=336.0 s, dt=15.999999999999979 s, source=0.0\n"
     ]
    },
    {
     "name": "stdout",
     "output_type": "stream",
     "text": [
      "[openmc.deplete] t=352.0 s, dt=16.000000000000053 s, source=0.0\n"
     ]
    },
    {
     "name": "stdout",
     "output_type": "stream",
     "text": [
      "[openmc.deplete] t=368.00000000000006 s, dt=14.999999999999947 s, source=0.0\n"
     ]
    },
    {
     "name": "stdout",
     "output_type": "stream",
     "text": [
      "[openmc.deplete] t=383.0 s, dt=16.000000000000053 s, source=0.0\n"
     ]
    },
    {
     "name": "stdout",
     "output_type": "stream",
     "text": [
      "[openmc.deplete] t=399.00000000000006 s, dt=25.999999999999993 s, source=0.0\n"
     ]
    },
    {
     "name": "stdout",
     "output_type": "stream",
     "text": [
      "[openmc.deplete] t=425.00000000000006 s, dt=36.999999999999964 s, source=0.0\n"
     ]
    },
    {
     "name": "stdout",
     "output_type": "stream",
     "text": [
      "[openmc.deplete] t=462.0 s, dt=37.000000000000036 s, source=0.0\n"
     ]
    },
    {
     "name": "stdout",
     "output_type": "stream",
     "text": [
      "[openmc.deplete] t=499.00000000000006 s, dt=50.0 s, source=0.0\n"
     ]
    },
    {
     "name": "stdout",
     "output_type": "stream",
     "text": [
      "[openmc.deplete] t=549.0 s, dt=63.999999999999986 s, source=0.0\n"
     ]
    },
    {
     "name": "stdout",
     "output_type": "stream",
     "text": [
      "[openmc.deplete] t=613.0 s, dt=66.99999999999993 s, source=0.0\n"
     ]
    },
    {
     "name": "stdout",
     "output_type": "stream",
     "text": [
      "[openmc.deplete] t=679.9999999999999 s, dt=97.00000000000013 s, source=0.0\n"
     ]
    },
    {
     "name": "stdout",
     "output_type": "stream",
     "text": [
      "[openmc.deplete] t=777.0 s, dt=124.0 s, source=0.0\n"
     ]
    },
    {
     "name": "stdout",
     "output_type": "stream",
     "text": [
      "[openmc.deplete] t=901.0 s, dt=127.00000000000001 s, source=0.0\n"
     ]
    },
    {
     "name": "stdout",
     "output_type": "stream",
     "text": [
      "[openmc.deplete] t=1028.0 s, dt=183.99999999999994 s, source=0.0\n"
     ]
    },
    {
     "name": "stdout",
     "output_type": "stream",
     "text": [
      "[openmc.deplete] t=1212.0 s, dt=247.00000000000003 s, source=0.0\n"
     ]
    },
    {
     "name": "stdout",
     "output_type": "stream",
     "text": [
      "[openmc.deplete] t=1459.0 s, dt=246.00000000000009 s, source=0.0\n"
     ]
    },
    {
     "name": "stdout",
     "output_type": "stream",
     "text": [
      "[openmc.deplete] t=1705.0 s, dt=246.99999999999974 s, source=0.0\n"
     ]
    },
    {
     "name": "stdout",
     "output_type": "stream",
     "text": [
      "[openmc.deplete] t=1951.9999999999998 s, dt=427.0 s, source=0.0\n"
     ]
    },
    {
     "name": "stdout",
     "output_type": "stream",
     "text": [
      "[openmc.deplete] t=2379.0 s, dt=607.0000000000002 s, source=0.0\n"
     ]
    },
    {
     "name": "stdout",
     "output_type": "stream",
     "text": [
      "[openmc.deplete] t=2986.0 s, dt=603.0000000000001 s, source=0.0\n"
     ]
    },
    {
     "name": "stdout",
     "output_type": "stream",
     "text": [
      "[openmc.deplete] t=3589.0 (final operator evaluation)\n"
     ]
    },
    {
     "name": "stderr",
     "output_type": "stream",
     "text": [
      "/home/jon/.neutronicsworkshop_3.12/lib/python3.12/site-packages/openmc/deplete/results.py:94: FutureWarning: The ResultsList.from_hdf5(...) method is no longer necessary and will be removed in a future version of OpenMC. Use Results(...) instead.\n",
      "  warn(\n"
     ]
    },
    {
     "name": "stdout",
     "output_type": "stream",
     "text": [
      "[openmc.deplete] t=0.0 s, dt=300.0 s, source=11160000000.0\n"
     ]
    },
    {
     "name": "stdout",
     "output_type": "stream",
     "text": [
      "[openmc.deplete] t=300.0 s, dt=20.00000000000003 s, source=0.0\n"
     ]
    },
    {
     "name": "stderr",
     "output_type": "stream",
     "text": [
      "/home/jon/.neutronicsworkshop_3.12/lib/python3.12/site-packages/uncertainties/core.py:1024: UserWarning: Using UFloat objects with std_dev==0 may give unexpected results.\n",
      "  warn(\"Using UFloat objects with std_dev==0 may give unexpected results.\")\n"
     ]
    },
    {
     "name": "stdout",
     "output_type": "stream",
     "text": [
      "[openmc.deplete] t=320.0 s, dt=14.999999999999984 s, source=0.0\n"
     ]
    },
    {
     "name": "stdout",
     "output_type": "stream",
     "text": [
      "[openmc.deplete] t=335.0 s, dt=14.999999999999984 s, source=0.0\n"
     ]
    },
    {
     "name": "stdout",
     "output_type": "stream",
     "text": [
      "[openmc.deplete] t=350.0 s, dt=16.000000000000053 s, source=0.0\n"
     ]
    },
    {
     "name": "stdout",
     "output_type": "stream",
     "text": [
      "[openmc.deplete] t=366.00000000000006 s, dt=14.999999999999947 s, source=0.0\n"
     ]
    },
    {
     "name": "stdout",
     "output_type": "stream",
     "text": [
      "[openmc.deplete] t=381.0 s, dt=15.000000000000021 s, source=0.0\n"
     ]
    },
    {
     "name": "stdout",
     "output_type": "stream",
     "text": [
      "[openmc.deplete] t=396.0 s, dt=27.000000000000025 s, source=0.0\n"
     ]
    },
    {
     "name": "stdout",
     "output_type": "stream",
     "text": [
      "[openmc.deplete] t=423.0 s, dt=36.00000000000001 s, source=0.0\n"
     ]
    },
    {
     "name": "stdout",
     "output_type": "stream",
     "text": [
      "[openmc.deplete] t=459.0 s, dt=35.99999999999993 s, source=0.0\n"
     ]
    },
    {
     "name": "stdout",
     "output_type": "stream",
     "text": [
      "[openmc.deplete] t=494.99999999999994 s, dt=53.000000000000014 s, source=0.0\n"
     ]
    },
    {
     "name": "stdout",
     "output_type": "stream",
     "text": [
      "[openmc.deplete] t=548.0 s, dt=66.00000000000006 s, source=0.0\n"
     ]
    },
    {
     "name": "stdout",
     "output_type": "stream",
     "text": [
      "[openmc.deplete] t=614.0 s, dt=65.9999999999999 s, source=0.0\n"
     ]
    },
    {
     "name": "stdout",
     "output_type": "stream",
     "text": [
      "[openmc.deplete] t=679.9999999999999 s, dt=98.00000000000009 s, source=0.0\n"
     ]
    },
    {
     "name": "stdout",
     "output_type": "stream",
     "text": [
      "[openmc.deplete] t=778.0 s, dt=125.99999999999991 s, source=0.0\n"
     ]
    },
    {
     "name": "stdout",
     "output_type": "stream",
     "text": [
      "[openmc.deplete] t=903.9999999999999 s, dt=126.00000000000006 s, source=0.0\n"
     ]
    },
    {
     "name": "stdout",
     "output_type": "stream",
     "text": [
      "[openmc.deplete] t=1030.0 s, dt=188.00000000000006 s, source=0.0\n"
     ]
    },
    {
     "name": "stdout",
     "output_type": "stream",
     "text": [
      "[openmc.deplete] t=1218.0 s, dt=246.00000000000009 s, source=0.0\n"
     ]
    },
    {
     "name": "stdout",
     "output_type": "stream",
     "text": [
      "[openmc.deplete] t=1464.0 s, dt=245.99999999999977 s, source=0.0\n"
     ]
    },
    {
     "name": "stdout",
     "output_type": "stream",
     "text": [
      "[openmc.deplete] t=1709.9999999999998 s, dt=247.00000000000003 s, source=0.0\n"
     ]
    },
    {
     "name": "stdout",
     "output_type": "stream",
     "text": [
      "[openmc.deplete] t=1956.9999999999998 s, dt=427.99999999999994 s, source=0.0\n"
     ]
    },
    {
     "name": "stdout",
     "output_type": "stream",
     "text": [
      "[openmc.deplete] t=2384.9999999999995 s, dt=606.0 s, source=0.0\n"
     ]
    },
    {
     "name": "stdout",
     "output_type": "stream",
     "text": [
      "[openmc.deplete] t=2990.9999999999995 s, dt=604.0000000000001 s, source=0.0\n"
     ]
    },
    {
     "name": "stdout",
     "output_type": "stream",
     "text": [
      "[openmc.deplete] t=3594.9999999999995 (final operator evaluation)\n"
     ]
    },
    {
     "name": "stderr",
     "output_type": "stream",
     "text": [
      "/home/jon/.neutronicsworkshop_3.12/lib/python3.12/site-packages/openmc/deplete/results.py:94: FutureWarning: The ResultsList.from_hdf5(...) method is no longer necessary and will be removed in a future version of OpenMC. Use Results(...) instead.\n",
      "  warn(\n"
     ]
    },
    {
     "name": "stdout",
     "output_type": "stream",
     "text": [
      "[openmc.deplete] t=0.0 s, dt=300.0 s, source=11160000000.0\n"
     ]
    },
    {
     "name": "stdout",
     "output_type": "stream",
     "text": [
      "[openmc.deplete] t=300.0 s, dt=67.0 s, source=0.0\n"
     ]
    },
    {
     "name": "stderr",
     "output_type": "stream",
     "text": [
      "/home/jon/.neutronicsworkshop_3.12/lib/python3.12/site-packages/uncertainties/core.py:1024: UserWarning: Using UFloat objects with std_dev==0 may give unexpected results.\n",
      "  warn(\"Using UFloat objects with std_dev==0 may give unexpected results.\")\n"
     ]
    },
    {
     "name": "stdout",
     "output_type": "stream",
     "text": [
      "[openmc.deplete] t=367.0 s, dt=15.999999999999979 s, source=0.0\n"
     ]
    },
    {
     "name": "stdout",
     "output_type": "stream",
     "text": [
      "[openmc.deplete] t=383.0 s, dt=15.000000000000021 s, source=0.0\n"
     ]
    },
    {
     "name": "stdout",
     "output_type": "stream",
     "text": [
      "[openmc.deplete] t=398.0 s, dt=27.000000000000025 s, source=0.0\n"
     ]
    },
    {
     "name": "stdout",
     "output_type": "stream",
     "text": [
      "[openmc.deplete] t=425.0 s, dt=36.00000000000001 s, source=0.0\n"
     ]
    },
    {
     "name": "stdout",
     "output_type": "stream",
     "text": [
      "[openmc.deplete] t=461.0 s, dt=36.999999999999964 s, source=0.0\n"
     ]
    },
    {
     "name": "stdout",
     "output_type": "stream",
     "text": [
      "[openmc.deplete] t=497.99999999999994 s, dt=49.00000000000004 s, source=0.0\n"
     ]
    },
    {
     "name": "stdout",
     "output_type": "stream",
     "text": [
      "[openmc.deplete] t=547.0 s, dt=63.999999999999986 s, source=0.0\n"
     ]
    },
    {
     "name": "stdout",
     "output_type": "stream",
     "text": [
      "[openmc.deplete] t=611.0 s, dt=67.0 s, source=0.0\n"
     ]
    },
    {
     "name": "stdout",
     "output_type": "stream",
     "text": [
      "[openmc.deplete] t=678.0 s, dt=96.99999999999997 s, source=0.0\n"
     ]
    },
    {
     "name": "stdout",
     "output_type": "stream",
     "text": [
      "[openmc.deplete] t=775.0 s, dt=127.00000000000001 s, source=0.0\n"
     ]
    },
    {
     "name": "stdout",
     "output_type": "stream",
     "text": [
      "[openmc.deplete] t=902.0 s, dt=123.00000000000004 s, source=0.0\n"
     ]
    },
    {
     "name": "stdout",
     "output_type": "stream",
     "text": [
      "[openmc.deplete] t=1025.0 s, dt=187.99999999999991 s, source=0.0\n"
     ]
    },
    {
     "name": "stdout",
     "output_type": "stream",
     "text": [
      "[openmc.deplete] t=1213.0 s, dt=246.00000000000009 s, source=0.0\n"
     ]
    },
    {
     "name": "stdout",
     "output_type": "stream",
     "text": [
      "[openmc.deplete] t=1459.0 s, dt=247.00000000000003 s, source=0.0\n"
     ]
    },
    {
     "name": "stdout",
     "output_type": "stream",
     "text": [
      "[openmc.deplete] t=1706.0 s, dt=245.99999999999977 s, source=0.0\n"
     ]
    },
    {
     "name": "stdout",
     "output_type": "stream",
     "text": [
      "[openmc.deplete] t=1951.9999999999998 s, dt=425.0000000000001 s, source=0.0\n"
     ]
    },
    {
     "name": "stdout",
     "output_type": "stream",
     "text": [
      "[openmc.deplete] t=2377.0 s, dt=603.9999999999998 s, source=0.0\n"
     ]
    },
    {
     "name": "stdout",
     "output_type": "stream",
     "text": [
      "[openmc.deplete] t=2981.0 s, dt=607.0 s, source=0.0\n"
     ]
    },
    {
     "name": "stdout",
     "output_type": "stream",
     "text": [
      "[openmc.deplete] t=3588.0 (final operator evaluation)\n"
     ]
    },
    {
     "name": "stderr",
     "output_type": "stream",
     "text": [
      "/home/jon/.neutronicsworkshop_3.12/lib/python3.12/site-packages/openmc/deplete/results.py:94: FutureWarning: The ResultsList.from_hdf5(...) method is no longer necessary and will be removed in a future version of OpenMC. Use Results(...) instead.\n",
      "  warn(\n"
     ]
    },
    {
     "name": "stdout",
     "output_type": "stream",
     "text": [
      "[openmc.deplete] t=0.0 s, dt=25799.039999999997 s, source=10500000000.0\n"
     ]
    },
    {
     "name": "stdout",
     "output_type": "stream",
     "text": [
      "[openmc.deplete] t=25799.039999999997 s, dt=59011.200000000004 s, source=0.0\n"
     ]
    },
    {
     "name": "stderr",
     "output_type": "stream",
     "text": [
      "/home/jon/.neutronicsworkshop_3.12/lib/python3.12/site-packages/uncertainties/core.py:1024: UserWarning: Using UFloat objects with std_dev==0 may give unexpected results.\n",
      "  warn(\"Using UFloat objects with std_dev==0 may give unexpected results.\")\n"
     ]
    },
    {
     "name": "stdout",
     "output_type": "stream",
     "text": [
      "[openmc.deplete] t=84810.24 s, dt=91238.40000000002 s, source=0.0\n"
     ]
    },
    {
     "name": "stdout",
     "output_type": "stream",
     "text": [
      "[openmc.deplete] t=176048.64 s, dt=186105.6 s, source=0.0\n"
     ]
    },
    {
     "name": "stdout",
     "output_type": "stream",
     "text": [
      "[openmc.deplete] t=362154.24 s, dt=247622.39999999997 s, source=0.0\n"
     ]
    },
    {
     "name": "stdout",
     "output_type": "stream",
     "text": [
      "[openmc.deplete] t=609776.6399999999 s, dt=470534.4000000001 s, source=0.0\n"
     ]
    },
    {
     "name": "stdout",
     "output_type": "stream",
     "text": [
      "[openmc.deplete] t=1080311.04 s, dt=1037577.6000000002 s, source=0.0\n"
     ]
    },
    {
     "name": "stdout",
     "output_type": "stream",
     "text": [
      "[openmc.deplete] t=2117888.64 s, dt=2224886.4 s, source=0.0\n"
     ]
    },
    {
     "name": "stdout",
     "output_type": "stream",
     "text": [
      "[openmc.deplete] t=4342775.04 s, dt=4330627.2 s, source=0.0\n"
     ]
    },
    {
     "name": "stdout",
     "output_type": "stream",
     "text": [
      "[openmc.deplete] t=8673402.24 s, dt=8454240.000000004 s, source=0.0\n"
     ]
    },
    {
     "name": "stdout",
     "output_type": "stream",
     "text": [
      "[openmc.deplete] t=17127642.240000002 (final operator evaluation)\n"
     ]
    },
    {
     "name": "stderr",
     "output_type": "stream",
     "text": [
      "/home/jon/.neutronicsworkshop_3.12/lib/python3.12/site-packages/openmc/deplete/results.py:94: FutureWarning: The ResultsList.from_hdf5(...) method is no longer necessary and will be removed in a future version of OpenMC. Use Results(...) instead.\n",
      "  warn(\n"
     ]
    },
    {
     "name": "stdout",
     "output_type": "stream",
     "text": [
      "[openmc.deplete] t=0.0 s, dt=300.0 s, source=11160000000.0\n"
     ]
    },
    {
     "name": "stdout",
     "output_type": "stream",
     "text": [
      "[openmc.deplete] t=300.0 s, dt=66.00000000000006 s, source=0.0\n"
     ]
    },
    {
     "name": "stderr",
     "output_type": "stream",
     "text": [
      "/home/jon/.neutronicsworkshop_3.12/lib/python3.12/site-packages/uncertainties/core.py:1024: UserWarning: Using UFloat objects with std_dev==0 may give unexpected results.\n",
      "  warn(\"Using UFloat objects with std_dev==0 may give unexpected results.\")\n"
     ]
    },
    {
     "name": "stdout",
     "output_type": "stream",
     "text": [
      "[openmc.deplete] t=366.00000000000006 s, dt=14.999999999999947 s, source=0.0\n"
     ]
    },
    {
     "name": "stdout",
     "output_type": "stream",
     "text": [
      "[openmc.deplete] t=381.0 s, dt=16.000000000000053 s, source=0.0\n"
     ]
    },
    {
     "name": "stdout",
     "output_type": "stream",
     "text": [
      "[openmc.deplete] t=397.00000000000006 s, dt=26.99999999999995 s, source=0.0\n"
     ]
    },
    {
     "name": "stdout",
     "output_type": "stream",
     "text": [
      "[openmc.deplete] t=424.0 s, dt=37.000000000000036 s, source=0.0\n"
     ]
    },
    {
     "name": "stdout",
     "output_type": "stream",
     "text": [
      "[openmc.deplete] t=461.00000000000006 s, dt=36.999999999999964 s, source=0.0\n"
     ]
    },
    {
     "name": "stdout",
     "output_type": "stream",
     "text": [
      "[openmc.deplete] t=498.0 s, dt=50.0 s, source=0.0\n"
     ]
    },
    {
     "name": "stdout",
     "output_type": "stream",
     "text": [
      "[openmc.deplete] t=548.0 s, dt=67.0 s, source=0.0\n"
     ]
    },
    {
     "name": "stdout",
     "output_type": "stream",
     "text": [
      "[openmc.deplete] t=615.0 s, dt=67.0 s, source=0.0\n"
     ]
    },
    {
     "name": "stdout",
     "output_type": "stream",
     "text": [
      "[openmc.deplete] t=682.0 s, dt=97.99999999999993 s, source=0.0\n"
     ]
    },
    {
     "name": "stdout",
     "output_type": "stream",
     "text": [
      "[openmc.deplete] t=779.9999999999999 s, dt=127.00000000000001 s, source=0.0\n"
     ]
    },
    {
     "name": "stdout",
     "output_type": "stream",
     "text": [
      "[openmc.deplete] t=906.9999999999999 s, dt=127.00000000000001 s, source=0.0\n"
     ]
    },
    {
     "name": "stdout",
     "output_type": "stream",
     "text": [
      "[openmc.deplete] t=1034.0 s, dt=127.00000000000001 s, source=0.0\n"
     ]
    },
    {
     "name": "stdout",
     "output_type": "stream",
     "text": [
      "[openmc.deplete] t=1161.0 s, dt=185.00000000000003 s, source=0.0\n"
     ]
    },
    {
     "name": "stdout",
     "output_type": "stream",
     "text": [
      "[openmc.deplete] t=1346.0 s, dt=244.00000000000003 s, source=0.0\n"
     ]
    },
    {
     "name": "stdout",
     "output_type": "stream",
     "text": [
      "[openmc.deplete] t=1590.0 s, dt=247.00000000000003 s, source=0.0\n"
     ]
    },
    {
     "name": "stdout",
     "output_type": "stream",
     "text": [
      "[openmc.deplete] t=1837.0 s, dt=247.00000000000003 s, source=0.0\n"
     ]
    },
    {
     "name": "stdout",
     "output_type": "stream",
     "text": [
      "[openmc.deplete] t=2084.0 s, dt=425.9999999999998 s, source=0.0\n"
     ]
    },
    {
     "name": "stdout",
     "output_type": "stream",
     "text": [
      "[openmc.deplete] t=2510.0 s, dt=604.0000000000001 s, source=0.0\n"
     ]
    },
    {
     "name": "stdout",
     "output_type": "stream",
     "text": [
      "[openmc.deplete] t=3114.0 s, dt=607.9999999999999 s, source=0.0\n"
     ]
    },
    {
     "name": "stdout",
     "output_type": "stream",
     "text": [
      "[openmc.deplete] t=3722.0 (final operator evaluation)\n"
     ]
    },
    {
     "name": "stderr",
     "output_type": "stream",
     "text": [
      "/home/jon/.neutronicsworkshop_3.12/lib/python3.12/site-packages/openmc/deplete/results.py:94: FutureWarning: The ResultsList.from_hdf5(...) method is no longer necessary and will be removed in a future version of OpenMC. Use Results(...) instead.\n",
      "  warn(\n"
     ]
    },
    {
     "name": "stdout",
     "output_type": "stream",
     "text": [
      "[openmc.deplete] t=0.0 s, dt=300.0 s, source=11160000000.0\n"
     ]
    },
    {
     "name": "stdout",
     "output_type": "stream",
     "text": [
      "[openmc.deplete] t=300.0 s, dt=36.00000000000001 s, source=0.0\n"
     ]
    },
    {
     "name": "stderr",
     "output_type": "stream",
     "text": [
      "/home/jon/.neutronicsworkshop_3.12/lib/python3.12/site-packages/uncertainties/core.py:1024: UserWarning: Using UFloat objects with std_dev==0 may give unexpected results.\n",
      "  warn(\"Using UFloat objects with std_dev==0 may give unexpected results.\")\n"
     ]
    },
    {
     "name": "stdout",
     "output_type": "stream",
     "text": [
      "[openmc.deplete] t=336.0 s, dt=15.000000000000021 s, source=0.0\n"
     ]
    },
    {
     "name": "stdout",
     "output_type": "stream",
     "text": [
      "[openmc.deplete] t=351.0 s, dt=15.000000000000021 s, source=0.0\n"
     ]
    },
    {
     "name": "stdout",
     "output_type": "stream",
     "text": [
      "[openmc.deplete] t=366.0 s, dt=14.999999999999947 s, source=0.0\n"
     ]
    },
    {
     "name": "stdout",
     "output_type": "stream",
     "text": [
      "[openmc.deplete] t=380.99999999999994 s, dt=15.000000000000021 s, source=0.0\n"
     ]
    },
    {
     "name": "stdout",
     "output_type": "stream",
     "text": [
      "[openmc.deplete] t=395.99999999999994 s, dt=24.99999999999996 s, source=0.0\n"
     ]
    },
    {
     "name": "stdout",
     "output_type": "stream",
     "text": [
      "[openmc.deplete] t=420.9999999999999 s, dt=36.00000000000001 s, source=0.0\n"
     ]
    },
    {
     "name": "stdout",
     "output_type": "stream",
     "text": [
      "[openmc.deplete] t=456.9999999999999 s, dt=36.00000000000001 s, source=0.0\n"
     ]
    },
    {
     "name": "stdout",
     "output_type": "stream",
     "text": [
      "[openmc.deplete] t=492.9999999999999 s, dt=52.00000000000006 s, source=0.0\n"
     ]
    },
    {
     "name": "stdout",
     "output_type": "stream",
     "text": [
      "[openmc.deplete] t=545.0 s, dt=65.99999999999997 s, source=0.0\n"
     ]
    },
    {
     "name": "stdout",
     "output_type": "stream",
     "text": [
      "[openmc.deplete] t=611.0 s, dt=62.99999999999996 s, source=0.0\n"
     ]
    },
    {
     "name": "stdout",
     "output_type": "stream",
     "text": [
      "[openmc.deplete] t=674.0 s, dt=97.00000000000006 s, source=0.0\n"
     ]
    },
    {
     "name": "stdout",
     "output_type": "stream",
     "text": [
      "[openmc.deplete] t=771.0 s, dt=125.99999999999991 s, source=0.0\n"
     ]
    },
    {
     "name": "stdout",
     "output_type": "stream",
     "text": [
      "[openmc.deplete] t=896.9999999999999 s, dt=126.00000000000006 s, source=0.0\n"
     ]
    },
    {
     "name": "stdout",
     "output_type": "stream",
     "text": [
      "[openmc.deplete] t=1023.0 s, dt=186.99999999999994 s, source=0.0\n"
     ]
    },
    {
     "name": "stdout",
     "output_type": "stream",
     "text": [
      "[openmc.deplete] t=1210.0 s, dt=245.99999999999994 s, source=0.0\n"
     ]
    },
    {
     "name": "stdout",
     "output_type": "stream",
     "text": [
      "[openmc.deplete] t=1456.0 s, dt=246.00000000000009 s, source=0.0\n"
     ]
    },
    {
     "name": "stdout",
     "output_type": "stream",
     "text": [
      "[openmc.deplete] t=1702.0 s, dt=246.00000000000009 s, source=0.0\n"
     ]
    },
    {
     "name": "stdout",
     "output_type": "stream",
     "text": [
      "[openmc.deplete] t=1948.0 s, dt=423.99999999999983 s, source=0.0\n"
     ]
    },
    {
     "name": "stdout",
     "output_type": "stream",
     "text": [
      "[openmc.deplete] t=2372.0 s, dt=606.0 s, source=0.0\n"
     ]
    },
    {
     "name": "stdout",
     "output_type": "stream",
     "text": [
      "[openmc.deplete] t=2978.0 s, dt=607.0 s, source=0.0\n"
     ]
    },
    {
     "name": "stdout",
     "output_type": "stream",
     "text": [
      "[openmc.deplete] t=3585.0 (final operator evaluation)\n"
     ]
    },
    {
     "name": "stderr",
     "output_type": "stream",
     "text": [
      "/home/jon/.neutronicsworkshop_3.12/lib/python3.12/site-packages/openmc/deplete/results.py:94: FutureWarning: The ResultsList.from_hdf5(...) method is no longer necessary and will be removed in a future version of OpenMC. Use Results(...) instead.\n",
      "  warn(\n"
     ]
    },
    {
     "name": "stdout",
     "output_type": "stream",
     "text": [
      "[openmc.deplete] t=0.0 s, dt=300.0 s, source=11160000000.0\n"
     ]
    },
    {
     "name": "stdout",
     "output_type": "stream",
     "text": [
      "[openmc.deplete] t=300.0 s, dt=35.000000000000014 s, source=0.0\n"
     ]
    },
    {
     "name": "stderr",
     "output_type": "stream",
     "text": [
      "/home/jon/.neutronicsworkshop_3.12/lib/python3.12/site-packages/uncertainties/core.py:1024: UserWarning: Using UFloat objects with std_dev==0 may give unexpected results.\n",
      "  warn(\"Using UFloat objects with std_dev==0 may give unexpected results.\")\n"
     ]
    },
    {
     "name": "stdout",
     "output_type": "stream",
     "text": [
      "[openmc.deplete] t=335.0 s, dt=16.000000000000014 s, source=0.0\n"
     ]
    },
    {
     "name": "stdout",
     "output_type": "stream",
     "text": [
      "[openmc.deplete] t=351.0 s, dt=15.999999999999979 s, source=0.0\n"
     ]
    },
    {
     "name": "stdout",
     "output_type": "stream",
     "text": [
      "[openmc.deplete] t=367.0 s, dt=15.000000000000021 s, source=0.0\n"
     ]
    },
    {
     "name": "stdout",
     "output_type": "stream",
     "text": [
      "[openmc.deplete] t=382.0 s, dt=15.000000000000021 s, source=0.0\n"
     ]
    },
    {
     "name": "stdout",
     "output_type": "stream",
     "text": [
      "[openmc.deplete] t=397.0 s, dt=26.99999999999995 s, source=0.0\n"
     ]
    },
    {
     "name": "stdout",
     "output_type": "stream",
     "text": [
      "[openmc.deplete] t=423.99999999999994 s, dt=37.000000000000036 s, source=0.0\n"
     ]
    },
    {
     "name": "stdout",
     "output_type": "stream",
     "text": [
      "[openmc.deplete] t=461.0 s, dt=36.00000000000001 s, source=0.0\n"
     ]
    },
    {
     "name": "stdout",
     "output_type": "stream",
     "text": [
      "[openmc.deplete] t=497.0 s, dt=51.999999999999986 s, source=0.0\n"
     ]
    },
    {
     "name": "stdout",
     "output_type": "stream",
     "text": [
      "[openmc.deplete] t=549.0 s, dt=67.0 s, source=0.0\n"
     ]
    },
    {
     "name": "stdout",
     "output_type": "stream",
     "text": [
      "[openmc.deplete] t=616.0 s, dt=65.99999999999997 s, source=0.0\n"
     ]
    },
    {
     "name": "stdout",
     "output_type": "stream",
     "text": [
      "[openmc.deplete] t=682.0 s, dt=97.99999999999993 s, source=0.0\n"
     ]
    },
    {
     "name": "stdout",
     "output_type": "stream",
     "text": [
      "[openmc.deplete] t=779.9999999999999 s, dt=126.00000000000006 s, source=0.0\n"
     ]
    },
    {
     "name": "stdout",
     "output_type": "stream",
     "text": [
      "[openmc.deplete] t=906.0 s, dt=124.99999999999996 s, source=0.0\n"
     ]
    },
    {
     "name": "stdout",
     "output_type": "stream",
     "text": [
      "[openmc.deplete] t=1031.0 s, dt=187.0000000000001 s, source=0.0\n"
     ]
    },
    {
     "name": "stdout",
     "output_type": "stream",
     "text": [
      "[openmc.deplete] t=1218.0 s, dt=247.00000000000003 s, source=0.0\n"
     ]
    },
    {
     "name": "stdout",
     "output_type": "stream",
     "text": [
      "[openmc.deplete] t=1465.0 s, dt=245.99999999999977 s, source=0.0\n"
     ]
    },
    {
     "name": "stdout",
     "output_type": "stream",
     "text": [
      "[openmc.deplete] t=1710.9999999999998 s, dt=246.00000000000009 s, source=0.0\n"
     ]
    },
    {
     "name": "stdout",
     "output_type": "stream",
     "text": [
      "[openmc.deplete] t=1956.9999999999998 s, dt=427.99999999999994 s, source=0.0\n"
     ]
    },
    {
     "name": "stdout",
     "output_type": "stream",
     "text": [
      "[openmc.deplete] t=2384.9999999999995 s, dt=604.0000000000001 s, source=0.0\n"
     ]
    },
    {
     "name": "stdout",
     "output_type": "stream",
     "text": [
      "[openmc.deplete] t=2988.9999999999995 s, dt=604.0000000000001 s, source=0.0\n"
     ]
    },
    {
     "name": "stdout",
     "output_type": "stream",
     "text": [
      "[openmc.deplete] t=3592.9999999999995 (final operator evaluation)\n"
     ]
    },
    {
     "name": "stderr",
     "output_type": "stream",
     "text": [
      "/home/jon/.neutronicsworkshop_3.12/lib/python3.12/site-packages/openmc/deplete/results.py:94: FutureWarning: The ResultsList.from_hdf5(...) method is no longer necessary and will be removed in a future version of OpenMC. Use Results(...) instead.\n",
      "  warn(\n"
     ]
    },
    {
     "name": "stdout",
     "output_type": "stream",
     "text": [
      "[openmc.deplete] t=0.0 s, dt=300.0 s, source=11160000000.0\n"
     ]
    },
    {
     "name": "stdout",
     "output_type": "stream",
     "text": [
      "[openmc.deplete] t=300.0 s, dt=36.00000000000001 s, source=0.0\n"
     ]
    },
    {
     "name": "stderr",
     "output_type": "stream",
     "text": [
      "/home/jon/.neutronicsworkshop_3.12/lib/python3.12/site-packages/uncertainties/core.py:1024: UserWarning: Using UFloat objects with std_dev==0 may give unexpected results.\n",
      "  warn(\"Using UFloat objects with std_dev==0 may give unexpected results.\")\n"
     ]
    },
    {
     "name": "stdout",
     "output_type": "stream",
     "text": [
      "[openmc.deplete] t=336.0 s, dt=15.999999999999979 s, source=0.0\n"
     ]
    },
    {
     "name": "stdout",
     "output_type": "stream",
     "text": [
      "[openmc.deplete] t=352.0 s, dt=15.000000000000021 s, source=0.0\n"
     ]
    },
    {
     "name": "stdout",
     "output_type": "stream",
     "text": [
      "[openmc.deplete] t=367.0 s, dt=15.999999999999979 s, source=0.0\n"
     ]
    },
    {
     "name": "stdout",
     "output_type": "stream",
     "text": [
      "[openmc.deplete] t=383.0 s, dt=15.000000000000021 s, source=0.0\n"
     ]
    },
    {
     "name": "stdout",
     "output_type": "stream",
     "text": [
      "[openmc.deplete] t=398.0 s, dt=27.000000000000025 s, source=0.0\n"
     ]
    },
    {
     "name": "stdout",
     "output_type": "stream",
     "text": [
      "[openmc.deplete] t=425.0 s, dt=36.00000000000001 s, source=0.0\n"
     ]
    },
    {
     "name": "stdout",
     "output_type": "stream",
     "text": [
      "[openmc.deplete] t=461.0 s, dt=36.00000000000001 s, source=0.0\n"
     ]
    },
    {
     "name": "stdout",
     "output_type": "stream",
     "text": [
      "[openmc.deplete] t=497.0 s, dt=52.99999999999994 s, source=0.0\n"
     ]
    },
    {
     "name": "stdout",
     "output_type": "stream",
     "text": [
      "[openmc.deplete] t=550.0 s, dt=66.00000000000006 s, source=0.0\n"
     ]
    },
    {
     "name": "stdout",
     "output_type": "stream",
     "text": [
      "[openmc.deplete] t=616.0 s, dt=65.99999999999997 s, source=0.0\n"
     ]
    },
    {
     "name": "stdout",
     "output_type": "stream",
     "text": [
      "[openmc.deplete] t=682.0 s, dt=99.00000000000004 s, source=0.0\n"
     ]
    },
    {
     "name": "stdout",
     "output_type": "stream",
     "text": [
      "[openmc.deplete] t=781.0 s, dt=125.99999999999991 s, source=0.0\n"
     ]
    },
    {
     "name": "stdout",
     "output_type": "stream",
     "text": [
      "[openmc.deplete] t=906.9999999999999 s, dt=127.00000000000001 s, source=0.0\n"
     ]
    },
    {
     "name": "stdout",
     "output_type": "stream",
     "text": [
      "[openmc.deplete] t=1034.0 s, dt=187.0000000000001 s, source=0.0\n"
     ]
    },
    {
     "name": "stdout",
     "output_type": "stream",
     "text": [
      "[openmc.deplete] t=1221.0 s, dt=246.9999999999999 s, source=0.0\n"
     ]
    },
    {
     "name": "stdout",
     "output_type": "stream",
     "text": [
      "[openmc.deplete] t=1468.0 s, dt=247.00000000000003 s, source=0.0\n"
     ]
    },
    {
     "name": "stdout",
     "output_type": "stream",
     "text": [
      "[openmc.deplete] t=1715.0 s, dt=247.00000000000003 s, source=0.0\n"
     ]
    },
    {
     "name": "stdout",
     "output_type": "stream",
     "text": [
      "[openmc.deplete] t=1962.0 s, dt=425.0000000000001 s, source=0.0\n"
     ]
    },
    {
     "name": "stdout",
     "output_type": "stream",
     "text": [
      "[openmc.deplete] t=2387.0 s, dt=605.9999999999997 s, source=0.0\n"
     ]
    },
    {
     "name": "stdout",
     "output_type": "stream",
     "text": [
      "[openmc.deplete] t=2992.9999999999995 s, dt=604.0000000000001 s, source=0.0\n"
     ]
    },
    {
     "name": "stdout",
     "output_type": "stream",
     "text": [
      "[openmc.deplete] t=3596.9999999999995 (final operator evaluation)\n"
     ]
    },
    {
     "name": "stderr",
     "output_type": "stream",
     "text": [
      "/home/jon/.neutronicsworkshop_3.12/lib/python3.12/site-packages/openmc/deplete/results.py:94: FutureWarning: The ResultsList.from_hdf5(...) method is no longer necessary and will be removed in a future version of OpenMC. Use Results(...) instead.\n",
      "  warn(\n"
     ]
    },
    {
     "name": "stdout",
     "output_type": "stream",
     "text": [
      "[openmc.deplete] t=0.0 s, dt=300.0 s, source=11160000000.0\n"
     ]
    },
    {
     "name": "stdout",
     "output_type": "stream",
     "text": [
      "[openmc.deplete] t=300.0 s, dt=51.00000000000003 s, source=0.0\n"
     ]
    },
    {
     "name": "stderr",
     "output_type": "stream",
     "text": [
      "/home/jon/.neutronicsworkshop_3.12/lib/python3.12/site-packages/uncertainties/core.py:1024: UserWarning: Using UFloat objects with std_dev==0 may give unexpected results.\n",
      "  warn(\"Using UFloat objects with std_dev==0 may give unexpected results.\")\n"
     ]
    },
    {
     "name": "stdout",
     "output_type": "stream",
     "text": [
      "[openmc.deplete] t=351.0 s, dt=15.000000000000021 s, source=0.0\n"
     ]
    },
    {
     "name": "stdout",
     "output_type": "stream",
     "text": [
      "[openmc.deplete] t=366.0 s, dt=14.999999999999947 s, source=0.0\n"
     ]
    },
    {
     "name": "stdout",
     "output_type": "stream",
     "text": [
      "[openmc.deplete] t=380.99999999999994 s, dt=15.000000000000021 s, source=0.0\n"
     ]
    },
    {
     "name": "stdout",
     "output_type": "stream",
     "text": [
      "[openmc.deplete] t=395.99999999999994 s, dt=25.999999999999993 s, source=0.0\n"
     ]
    },
    {
     "name": "stdout",
     "output_type": "stream",
     "text": [
      "[openmc.deplete] t=421.99999999999994 s, dt=37.000000000000036 s, source=0.0\n"
     ]
    },
    {
     "name": "stdout",
     "output_type": "stream",
     "text": [
      "[openmc.deplete] t=459.0 s, dt=35.99999999999993 s, source=0.0\n"
     ]
    },
    {
     "name": "stdout",
     "output_type": "stream",
     "text": [
      "[openmc.deplete] t=494.99999999999994 s, dt=51.00000000000003 s, source=0.0\n"
     ]
    },
    {
     "name": "stdout",
     "output_type": "stream",
     "text": [
      "[openmc.deplete] t=546.0 s, dt=67.0 s, source=0.0\n"
     ]
    },
    {
     "name": "stdout",
     "output_type": "stream",
     "text": [
      "[openmc.deplete] t=613.0 s, dt=62.99999999999996 s, source=0.0\n"
     ]
    },
    {
     "name": "stdout",
     "output_type": "stream",
     "text": [
      "[openmc.deplete] t=676.0 s, dt=96.99999999999997 s, source=0.0\n"
     ]
    },
    {
     "name": "stdout",
     "output_type": "stream",
     "text": [
      "[openmc.deplete] t=773.0 s, dt=126.00000000000006 s, source=0.0\n"
     ]
    },
    {
     "name": "stdout",
     "output_type": "stream",
     "text": [
      "[openmc.deplete] t=899.0 s, dt=126.00000000000006 s, source=0.0\n"
     ]
    },
    {
     "name": "stdout",
     "output_type": "stream",
     "text": [
      "[openmc.deplete] t=1025.0 s, dt=184.9999999999999 s, source=0.0\n"
     ]
    },
    {
     "name": "stdout",
     "output_type": "stream",
     "text": [
      "[openmc.deplete] t=1210.0 s, dt=245.99999999999994 s, source=0.0\n"
     ]
    },
    {
     "name": "stdout",
     "output_type": "stream",
     "text": [
      "[openmc.deplete] t=1456.0 s, dt=246.00000000000009 s, source=0.0\n"
     ]
    },
    {
     "name": "stdout",
     "output_type": "stream",
     "text": [
      "[openmc.deplete] t=1702.0 s, dt=247.00000000000003 s, source=0.0\n"
     ]
    },
    {
     "name": "stdout",
     "output_type": "stream",
     "text": [
      "[openmc.deplete] t=1949.0 s, dt=427.0 s, source=0.0\n"
     ]
    },
    {
     "name": "stdout",
     "output_type": "stream",
     "text": [
      "[openmc.deplete] t=2376.0 s, dt=605.9999999999997 s, source=0.0\n"
     ]
    },
    {
     "name": "stdout",
     "output_type": "stream",
     "text": [
      "[openmc.deplete] t=2981.9999999999995 s, dt=607.0000000000006 s, source=0.0\n"
     ]
    },
    {
     "name": "stdout",
     "output_type": "stream",
     "text": [
      "[openmc.deplete] t=3589.0 (final operator evaluation)\n"
     ]
    },
    {
     "name": "stderr",
     "output_type": "stream",
     "text": [
      "/home/jon/.neutronicsworkshop_3.12/lib/python3.12/site-packages/openmc/deplete/results.py:94: FutureWarning: The ResultsList.from_hdf5(...) method is no longer necessary and will be removed in a future version of OpenMC. Use Results(...) instead.\n",
      "  warn(\n"
     ]
    },
    {
     "name": "stdout",
     "output_type": "stream",
     "text": [
      "[openmc.deplete] t=0.0 s, dt=25799.039999999997 s, source=10500000000.0\n"
     ]
    },
    {
     "name": "stdout",
     "output_type": "stream",
     "text": [
      "[openmc.deplete] t=25799.039999999997 s, dt=56678.4 s, source=0.0\n"
     ]
    },
    {
     "name": "stderr",
     "output_type": "stream",
     "text": [
      "/home/jon/.neutronicsworkshop_3.12/lib/python3.12/site-packages/uncertainties/core.py:1024: UserWarning: Using UFloat objects with std_dev==0 may give unexpected results.\n",
      "  warn(\"Using UFloat objects with std_dev==0 may give unexpected results.\")\n"
     ]
    },
    {
     "name": "stdout",
     "output_type": "stream",
     "text": [
      "[openmc.deplete] t=82477.44 s, dt=90460.79999999997 s, source=0.0\n"
     ]
    },
    {
     "name": "stdout",
     "output_type": "stream",
     "text": [
      "[openmc.deplete] t=172938.24 s, dt=185673.6 s, source=0.0\n"
     ]
    },
    {
     "name": "stdout",
     "output_type": "stream",
     "text": [
      "[openmc.deplete] t=358611.83999999997 s, dt=248313.59999999998 s, source=0.0\n"
     ]
    },
    {
     "name": "stdout",
     "output_type": "stream",
     "text": [
      "[openmc.deplete] t=606925.44 s, dt=470620.8000000001 s, source=0.0\n"
     ]
    },
    {
     "name": "stdout",
     "output_type": "stream",
     "text": [
      "[openmc.deplete] t=1077546.24 (final operator evaluation)\n"
     ]
    },
    {
     "name": "stderr",
     "output_type": "stream",
     "text": [
      "/home/jon/.neutronicsworkshop_3.12/lib/python3.12/site-packages/openmc/deplete/results.py:94: FutureWarning: The ResultsList.from_hdf5(...) method is no longer necessary and will be removed in a future version of OpenMC. Use Results(...) instead.\n",
      "  warn(\n"
     ]
    },
    {
     "name": "stdout",
     "output_type": "stream",
     "text": [
      "[openmc.deplete] t=0.0 s, dt=300.0 s, source=11160000000.0\n"
     ]
    },
    {
     "name": "stdout",
     "output_type": "stream",
     "text": [
      "[openmc.deplete] t=300.0 s, dt=66.00000000000006 s, source=0.0\n"
     ]
    },
    {
     "name": "stderr",
     "output_type": "stream",
     "text": [
      "/home/jon/.neutronicsworkshop_3.12/lib/python3.12/site-packages/uncertainties/core.py:1024: UserWarning: Using UFloat objects with std_dev==0 may give unexpected results.\n",
      "  warn(\"Using UFloat objects with std_dev==0 may give unexpected results.\")\n"
     ]
    },
    {
     "name": "stdout",
     "output_type": "stream",
     "text": [
      "[openmc.deplete] t=366.00000000000006 s, dt=15.999999999999979 s, source=0.0\n"
     ]
    },
    {
     "name": "stdout",
     "output_type": "stream",
     "text": [
      "[openmc.deplete] t=382.00000000000006 s, dt=15.999999999999979 s, source=0.0\n"
     ]
    },
    {
     "name": "stdout",
     "output_type": "stream",
     "text": [
      "[openmc.deplete] t=398.00000000000006 s, dt=27.000000000000025 s, source=0.0\n"
     ]
    },
    {
     "name": "stdout",
     "output_type": "stream",
     "text": [
      "[openmc.deplete] t=425.00000000000006 s, dt=36.999999999999964 s, source=0.0\n"
     ]
    },
    {
     "name": "stdout",
     "output_type": "stream",
     "text": [
      "[openmc.deplete] t=462.0 s, dt=37.000000000000036 s, source=0.0\n"
     ]
    },
    {
     "name": "stdout",
     "output_type": "stream",
     "text": [
      "[openmc.deplete] t=499.00000000000006 s, dt=53.000000000000014 s, source=0.0\n"
     ]
    },
    {
     "name": "stdout",
     "output_type": "stream",
     "text": [
      "[openmc.deplete] t=552.0000000000001 s, dt=66.99999999999993 s, source=0.0\n"
     ]
    },
    {
     "name": "stdout",
     "output_type": "stream",
     "text": [
      "[openmc.deplete] t=619.0 s, dt=65.0000000000001 s, source=0.0\n"
     ]
    },
    {
     "name": "stdout",
     "output_type": "stream",
     "text": [
      "[openmc.deplete] t=684.0000000000001 s, dt=97.99999999999993 s, source=0.0\n"
     ]
    },
    {
     "name": "stdout",
     "output_type": "stream",
     "text": [
      "[openmc.deplete] t=782.0 s, dt=127.00000000000001 s, source=0.0\n"
     ]
    },
    {
     "name": "stdout",
     "output_type": "stream",
     "text": [
      "[openmc.deplete] t=909.0 s, dt=124.0 s, source=0.0\n"
     ]
    },
    {
     "name": "stdout",
     "output_type": "stream",
     "text": [
      "[openmc.deplete] t=1033.0 s, dt=127.00000000000001 s, source=0.0\n"
     ]
    },
    {
     "name": "stdout",
     "output_type": "stream",
     "text": [
      "[openmc.deplete] t=1160.0 s, dt=185.00000000000003 s, source=0.0\n"
     ]
    },
    {
     "name": "stdout",
     "output_type": "stream",
     "text": [
      "[openmc.deplete] t=1345.0 s, dt=246.9999999999999 s, source=0.0\n"
     ]
    },
    {
     "name": "stdout",
     "output_type": "stream",
     "text": [
      "[openmc.deplete] t=1592.0 s, dt=248.0 s, source=0.0\n"
     ]
    },
    {
     "name": "stdout",
     "output_type": "stream",
     "text": [
      "[openmc.deplete] t=1840.0 s, dt=247.00000000000003 s, source=0.0\n"
     ]
    },
    {
     "name": "stdout",
     "output_type": "stream",
     "text": [
      "[openmc.deplete] t=2087.0 s, dt=426.00000000000006 s, source=0.0\n"
     ]
    },
    {
     "name": "stdout",
     "output_type": "stream",
     "text": [
      "[openmc.deplete] t=2513.0 s, dt=604.9999999999998 s, source=0.0\n"
     ]
    },
    {
     "name": "stdout",
     "output_type": "stream",
     "text": [
      "[openmc.deplete] t=3118.0 s, dt=605.0 s, source=0.0\n"
     ]
    },
    {
     "name": "stdout",
     "output_type": "stream",
     "text": [
      "[openmc.deplete] t=3723.0 (final operator evaluation)\n"
     ]
    },
    {
     "name": "stderr",
     "output_type": "stream",
     "text": [
      "/home/jon/.neutronicsworkshop_3.12/lib/python3.12/site-packages/openmc/deplete/results.py:94: FutureWarning: The ResultsList.from_hdf5(...) method is no longer necessary and will be removed in a future version of OpenMC. Use Results(...) instead.\n",
      "  warn(\n"
     ]
    },
    {
     "name": "stdout",
     "output_type": "stream",
     "text": [
      "[openmc.deplete] t=0.0 s, dt=300.0 s, source=11160000000.0\n"
     ]
    },
    {
     "name": "stdout",
     "output_type": "stream",
     "text": [
      "[openmc.deplete] t=300.0 s, dt=35.000000000000014 s, source=0.0\n"
     ]
    },
    {
     "name": "stderr",
     "output_type": "stream",
     "text": [
      "/home/jon/.neutronicsworkshop_3.12/lib/python3.12/site-packages/uncertainties/core.py:1024: UserWarning: Using UFloat objects with std_dev==0 may give unexpected results.\n",
      "  warn(\"Using UFloat objects with std_dev==0 may give unexpected results.\")\n"
     ]
    },
    {
     "name": "stdout",
     "output_type": "stream",
     "text": [
      "[openmc.deplete] t=335.0 s, dt=14.999999999999984 s, source=0.0\n"
     ]
    },
    {
     "name": "stdout",
     "output_type": "stream",
     "text": [
      "[openmc.deplete] t=350.0 s, dt=15.000000000000021 s, source=0.0\n"
     ]
    },
    {
     "name": "stdout",
     "output_type": "stream",
     "text": [
      "[openmc.deplete] t=365.0 s, dt=15.000000000000021 s, source=0.0\n"
     ]
    },
    {
     "name": "stdout",
     "output_type": "stream",
     "text": [
      "[openmc.deplete] t=380.0 s, dt=15.999999999999979 s, source=0.0\n"
     ]
    },
    {
     "name": "stdout",
     "output_type": "stream",
     "text": [
      "[openmc.deplete] t=396.0 s, dt=25.999999999999993 s, source=0.0\n"
     ]
    },
    {
     "name": "stdout",
     "output_type": "stream",
     "text": [
      "[openmc.deplete] t=422.0 s, dt=32.999999999999986 s, source=0.0\n"
     ]
    },
    {
     "name": "stdout",
     "output_type": "stream",
     "text": [
      "[openmc.deplete] t=455.0 s, dt=36.00000000000001 s, source=0.0\n"
     ]
    },
    {
     "name": "stdout",
     "output_type": "stream",
     "text": [
      "[openmc.deplete] t=491.0 s, dt=51.999999999999986 s, source=0.0\n"
     ]
    },
    {
     "name": "stdout",
     "output_type": "stream",
     "text": [
      "[openmc.deplete] t=543.0 s, dt=66.00000000000006 s, source=0.0\n"
     ]
    },
    {
     "name": "stdout",
     "output_type": "stream",
     "text": [
      "[openmc.deplete] t=609.0 s, dt=65.99999999999997 s, source=0.0\n"
     ]
    },
    {
     "name": "stdout",
     "output_type": "stream",
     "text": [
      "[openmc.deplete] t=675.0 s, dt=96.99999999999997 s, source=0.0\n"
     ]
    },
    {
     "name": "stdout",
     "output_type": "stream",
     "text": [
      "[openmc.deplete] t=772.0 s, dt=127.00000000000001 s, source=0.0\n"
     ]
    },
    {
     "name": "stdout",
     "output_type": "stream",
     "text": [
      "[openmc.deplete] t=899.0 s, dt=126.00000000000006 s, source=0.0\n"
     ]
    },
    {
     "name": "stdout",
     "output_type": "stream",
     "text": [
      "[openmc.deplete] t=1025.0 s, dt=183.99999999999994 s, source=0.0\n"
     ]
    },
    {
     "name": "stdout",
     "output_type": "stream",
     "text": [
      "[openmc.deplete] t=1209.0 s, dt=245.99999999999994 s, source=0.0\n"
     ]
    },
    {
     "name": "stdout",
     "output_type": "stream",
     "text": [
      "[openmc.deplete] t=1455.0 s, dt=246.00000000000009 s, source=0.0\n"
     ]
    },
    {
     "name": "stdout",
     "output_type": "stream",
     "text": [
      "[openmc.deplete] t=1701.0 s, dt=243.9999999999999 s, source=0.0\n"
     ]
    },
    {
     "name": "stdout",
     "output_type": "stream",
     "text": [
      "[openmc.deplete] t=1945.0 s, dt=427.0 s, source=0.0\n"
     ]
    },
    {
     "name": "stdout",
     "output_type": "stream",
     "text": [
      "[openmc.deplete] t=2372.0 s, dt=603.0000000000001 s, source=0.0\n"
     ]
    },
    {
     "name": "stdout",
     "output_type": "stream",
     "text": [
      "[openmc.deplete] t=2975.0 s, dt=604.0000000000001 s, source=0.0\n"
     ]
    },
    {
     "name": "stdout",
     "output_type": "stream",
     "text": [
      "[openmc.deplete] t=3579.0 (final operator evaluation)\n"
     ]
    },
    {
     "name": "stderr",
     "output_type": "stream",
     "text": [
      "/home/jon/.neutronicsworkshop_3.12/lib/python3.12/site-packages/openmc/deplete/results.py:94: FutureWarning: The ResultsList.from_hdf5(...) method is no longer necessary and will be removed in a future version of OpenMC. Use Results(...) instead.\n",
      "  warn(\n"
     ]
    },
    {
     "name": "stdout",
     "output_type": "stream",
     "text": [
      "[openmc.deplete] t=0.0 s, dt=300.0 s, source=11160000000.0\n"
     ]
    },
    {
     "name": "stdout",
     "output_type": "stream",
     "text": [
      "[openmc.deplete] t=300.0 s, dt=35.000000000000014 s, source=0.0\n"
     ]
    },
    {
     "name": "stderr",
     "output_type": "stream",
     "text": [
      "/home/jon/.neutronicsworkshop_3.12/lib/python3.12/site-packages/uncertainties/core.py:1024: UserWarning: Using UFloat objects with std_dev==0 may give unexpected results.\n",
      "  warn(\"Using UFloat objects with std_dev==0 may give unexpected results.\")\n"
     ]
    },
    {
     "name": "stdout",
     "output_type": "stream",
     "text": [
      "[openmc.deplete] t=335.0 s, dt=14.999999999999984 s, source=0.0\n"
     ]
    },
    {
     "name": "stdout",
     "output_type": "stream",
     "text": [
      "[openmc.deplete] t=350.0 s, dt=15.000000000000021 s, source=0.0\n"
     ]
    },
    {
     "name": "stdout",
     "output_type": "stream",
     "text": [
      "[openmc.deplete] t=365.0 s, dt=15.000000000000021 s, source=0.0\n"
     ]
    },
    {
     "name": "stdout",
     "output_type": "stream",
     "text": [
      "[openmc.deplete] t=380.0 s, dt=14.999999999999947 s, source=0.0\n"
     ]
    },
    {
     "name": "stdout",
     "output_type": "stream",
     "text": [
      "[openmc.deplete] t=394.99999999999994 s, dt=25.999999999999993 s, source=0.0\n"
     ]
    },
    {
     "name": "stdout",
     "output_type": "stream",
     "text": [
      "[openmc.deplete] t=420.99999999999994 s, dt=36.00000000000001 s, source=0.0\n"
     ]
    },
    {
     "name": "stdout",
     "output_type": "stream",
     "text": [
      "[openmc.deplete] t=456.99999999999994 s, dt=36.00000000000001 s, source=0.0\n"
     ]
    },
    {
     "name": "stdout",
     "output_type": "stream",
     "text": [
      "[openmc.deplete] t=492.99999999999994 s, dt=51.00000000000003 s, source=0.0\n"
     ]
    },
    {
     "name": "stdout",
     "output_type": "stream",
     "text": [
      "[openmc.deplete] t=544.0 s, dt=65.99999999999997 s, source=0.0\n"
     ]
    },
    {
     "name": "stdout",
     "output_type": "stream",
     "text": [
      "[openmc.deplete] t=610.0 s, dt=65.99999999999997 s, source=0.0\n"
     ]
    },
    {
     "name": "stdout",
     "output_type": "stream",
     "text": [
      "[openmc.deplete] t=676.0 s, dt=96.99999999999997 s, source=0.0\n"
     ]
    },
    {
     "name": "stdout",
     "output_type": "stream",
     "text": [
      "[openmc.deplete] t=773.0 s, dt=124.0 s, source=0.0\n"
     ]
    },
    {
     "name": "stdout",
     "output_type": "stream",
     "text": [
      "[openmc.deplete] t=897.0 s, dt=126.00000000000006 s, source=0.0\n"
     ]
    },
    {
     "name": "stdout",
     "output_type": "stream",
     "text": [
      "[openmc.deplete] t=1023.0 s, dt=186.0 s, source=0.0\n"
     ]
    },
    {
     "name": "stdout",
     "output_type": "stream",
     "text": [
      "[openmc.deplete] t=1209.0 s, dt=245.99999999999994 s, source=0.0\n"
     ]
    },
    {
     "name": "stdout",
     "output_type": "stream",
     "text": [
      "[openmc.deplete] t=1455.0 s, dt=244.00000000000017 s, source=0.0\n"
     ]
    },
    {
     "name": "stdout",
     "output_type": "stream",
     "text": [
      "[openmc.deplete] t=1699.0000000000002 s, dt=245.99999999999977 s, source=0.0\n"
     ]
    },
    {
     "name": "stdout",
     "output_type": "stream",
     "text": [
      "[openmc.deplete] t=1945.0 s, dt=424.0000000000001 s, source=0.0\n"
     ]
    },
    {
     "name": "stdout",
     "output_type": "stream",
     "text": [
      "[openmc.deplete] t=2369.0 s, dt=606.0 s, source=0.0\n"
     ]
    },
    {
     "name": "stdout",
     "output_type": "stream",
     "text": [
      "[openmc.deplete] t=2975.0 s, dt=606.0 s, source=0.0\n"
     ]
    },
    {
     "name": "stdout",
     "output_type": "stream",
     "text": [
      "[openmc.deplete] t=3581.0 (final operator evaluation)\n"
     ]
    },
    {
     "name": "stderr",
     "output_type": "stream",
     "text": [
      "/home/jon/.neutronicsworkshop_3.12/lib/python3.12/site-packages/openmc/deplete/results.py:94: FutureWarning: The ResultsList.from_hdf5(...) method is no longer necessary and will be removed in a future version of OpenMC. Use Results(...) instead.\n",
      "  warn(\n"
     ]
    },
    {
     "name": "stdout",
     "output_type": "stream",
     "text": [
      "[openmc.deplete] t=0.0 s, dt=27267.84 s, source=10500000000.0\n"
     ]
    },
    {
     "name": "stdout",
     "output_type": "stream",
     "text": [
      "[openmc.deplete] t=27267.84 s, dt=51667.2 s, source=0.0\n"
     ]
    },
    {
     "name": "stderr",
     "output_type": "stream",
     "text": [
      "/home/jon/.neutronicsworkshop_3.12/lib/python3.12/site-packages/uncertainties/core.py:1024: UserWarning: Using UFloat objects with std_dev==0 may give unexpected results.\n",
      "  warn(\"Using UFloat objects with std_dev==0 may give unexpected results.\")\n"
     ]
    },
    {
     "name": "stdout",
     "output_type": "stream",
     "text": [
      "[openmc.deplete] t=78935.04 s, dt=61430.40000000001 s, source=0.0\n"
     ]
    },
    {
     "name": "stdout",
     "output_type": "stream",
     "text": [
      "[openmc.deplete] t=140365.44 s, dt=136684.8 s, source=0.0\n"
     ]
    },
    {
     "name": "stdout",
     "output_type": "stream",
     "text": [
      "[openmc.deplete] t=277050.24 s, dt=342748.80000000005 s, source=0.0\n"
     ]
    },
    {
     "name": "stdout",
     "output_type": "stream",
     "text": [
      "[openmc.deplete] t=619799.04 s, dt=517967.99999999994 s, source=0.0\n"
     ]
    },
    {
     "name": "stdout",
     "output_type": "stream",
     "text": [
      "[openmc.deplete] t=1137767.04 s, dt=949795.2000000003 s, source=0.0\n"
     ]
    },
    {
     "name": "stdout",
     "output_type": "stream",
     "text": [
      "[openmc.deplete] t=2087562.2400000002 s, dt=2233785.5999999996 s, source=0.0\n"
     ]
    },
    {
     "name": "stdout",
     "output_type": "stream",
     "text": [
      "[openmc.deplete] t=4321347.84 s, dt=4336416.0 s, source=0.0\n"
     ]
    },
    {
     "name": "stdout",
     "output_type": "stream",
     "text": [
      "[openmc.deplete] t=8657763.84 s, dt=8659008.0 s, source=0.0\n"
     ]
    },
    {
     "name": "stdout",
     "output_type": "stream",
     "text": [
      "[openmc.deplete] t=17316771.84 s, dt=17697312.0 s, source=0.0\n"
     ]
    },
    {
     "name": "stdout",
     "output_type": "stream",
     "text": [
      "[openmc.deplete] t=35014083.84 (final operator evaluation)\n"
     ]
    },
    {
     "name": "stderr",
     "output_type": "stream",
     "text": [
      "/home/jon/.neutronicsworkshop_3.12/lib/python3.12/site-packages/openmc/deplete/results.py:94: FutureWarning: The ResultsList.from_hdf5(...) method is no longer necessary and will be removed in a future version of OpenMC. Use Results(...) instead.\n",
      "  warn(\n"
     ]
    },
    {
     "name": "stdout",
     "output_type": "stream",
     "text": [
      "[openmc.deplete] t=0.0 s, dt=300.0 s, source=11160000000.0\n"
     ]
    },
    {
     "name": "stdout",
     "output_type": "stream",
     "text": [
      "[openmc.deplete] t=300.0 s, dt=66.00000000000006 s, source=0.0\n"
     ]
    },
    {
     "name": "stderr",
     "output_type": "stream",
     "text": [
      "/home/jon/.neutronicsworkshop_3.12/lib/python3.12/site-packages/uncertainties/core.py:1024: UserWarning: Using UFloat objects with std_dev==0 may give unexpected results.\n",
      "  warn(\"Using UFloat objects with std_dev==0 may give unexpected results.\")\n"
     ]
    },
    {
     "name": "stdout",
     "output_type": "stream",
     "text": [
      "[openmc.deplete] t=366.00000000000006 s, dt=14.999999999999947 s, source=0.0\n"
     ]
    },
    {
     "name": "stdout",
     "output_type": "stream",
     "text": [
      "[openmc.deplete] t=381.0 s, dt=16.000000000000053 s, source=0.0\n"
     ]
    },
    {
     "name": "stdout",
     "output_type": "stream",
     "text": [
      "[openmc.deplete] t=397.00000000000006 s, dt=26.99999999999995 s, source=0.0\n"
     ]
    },
    {
     "name": "stdout",
     "output_type": "stream",
     "text": [
      "[openmc.deplete] t=424.0 s, dt=37.000000000000036 s, source=0.0\n"
     ]
    },
    {
     "name": "stdout",
     "output_type": "stream",
     "text": [
      "[openmc.deplete] t=461.00000000000006 s, dt=36.00000000000001 s, source=0.0\n"
     ]
    },
    {
     "name": "stdout",
     "output_type": "stream",
     "text": [
      "[openmc.deplete] t=497.00000000000006 s, dt=52.99999999999994 s, source=0.0\n"
     ]
    },
    {
     "name": "stdout",
     "output_type": "stream",
     "text": [
      "[openmc.deplete] t=550.0 s, dt=67.0 s, source=0.0\n"
     ]
    },
    {
     "name": "stdout",
     "output_type": "stream",
     "text": [
      "[openmc.deplete] t=617.0 s, dt=67.00000000000009 s, source=0.0\n"
     ]
    },
    {
     "name": "stdout",
     "output_type": "stream",
     "text": [
      "[openmc.deplete] t=684.0000000000001 s, dt=97.99999999999993 s, source=0.0\n"
     ]
    },
    {
     "name": "stdout",
     "output_type": "stream",
     "text": [
      "[openmc.deplete] t=782.0 s, dt=127.00000000000001 s, source=0.0\n"
     ]
    },
    {
     "name": "stdout",
     "output_type": "stream",
     "text": [
      "[openmc.deplete] t=909.0 s, dt=127.00000000000001 s, source=0.0\n"
     ]
    },
    {
     "name": "stdout",
     "output_type": "stream",
     "text": [
      "[openmc.deplete] t=1036.0 s, dt=127.99999999999997 s, source=0.0\n"
     ]
    },
    {
     "name": "stdout",
     "output_type": "stream",
     "text": [
      "[openmc.deplete] t=1164.0 s, dt=185.00000000000003 s, source=0.0\n"
     ]
    },
    {
     "name": "stdout",
     "output_type": "stream",
     "text": [
      "[openmc.deplete] t=1349.0 s, dt=243.9999999999999 s, source=0.0\n"
     ]
    },
    {
     "name": "stdout",
     "output_type": "stream",
     "text": [
      "[openmc.deplete] t=1593.0 s, dt=246.00000000000009 s, source=0.0\n"
     ]
    },
    {
     "name": "stdout",
     "output_type": "stream",
     "text": [
      "[openmc.deplete] t=1839.0 s, dt=248.0 s, source=0.0\n"
     ]
    },
    {
     "name": "stdout",
     "output_type": "stream",
     "text": [
      "[openmc.deplete] t=2087.0 s, dt=427.99999999999994 s, source=0.0\n"
     ]
    },
    {
     "name": "stdout",
     "output_type": "stream",
     "text": [
      "[openmc.deplete] t=2515.0 s, dt=603.9999999999998 s, source=0.0\n"
     ]
    },
    {
     "name": "stdout",
     "output_type": "stream",
     "text": [
      "[openmc.deplete] t=3119.0 s, dt=607.0 s, source=0.0\n"
     ]
    },
    {
     "name": "stdout",
     "output_type": "stream",
     "text": [
      "[openmc.deplete] t=3726.0 (final operator evaluation)\n"
     ]
    },
    {
     "name": "stderr",
     "output_type": "stream",
     "text": [
      "/home/jon/.neutronicsworkshop_3.12/lib/python3.12/site-packages/openmc/deplete/results.py:94: FutureWarning: The ResultsList.from_hdf5(...) method is no longer necessary and will be removed in a future version of OpenMC. Use Results(...) instead.\n",
      "  warn(\n"
     ]
    },
    {
     "name": "stdout",
     "output_type": "stream",
     "text": [
      "[openmc.deplete] t=0.0 s, dt=300.0 s, source=11160000000.0\n"
     ]
    },
    {
     "name": "stdout",
     "output_type": "stream",
     "text": [
      "[openmc.deplete] t=300.0 s, dt=35.000000000000014 s, source=0.0\n"
     ]
    },
    {
     "name": "stderr",
     "output_type": "stream",
     "text": [
      "/home/jon/.neutronicsworkshop_3.12/lib/python3.12/site-packages/uncertainties/core.py:1024: UserWarning: Using UFloat objects with std_dev==0 may give unexpected results.\n",
      "  warn(\"Using UFloat objects with std_dev==0 may give unexpected results.\")\n"
     ]
    },
    {
     "name": "stdout",
     "output_type": "stream",
     "text": [
      "[openmc.deplete] t=335.0 s, dt=16.000000000000014 s, source=0.0\n"
     ]
    },
    {
     "name": "stdout",
     "output_type": "stream",
     "text": [
      "[openmc.deplete] t=351.0 s, dt=15.000000000000021 s, source=0.0\n"
     ]
    },
    {
     "name": "stdout",
     "output_type": "stream",
     "text": [
      "[openmc.deplete] t=366.0 s, dt=14.999999999999947 s, source=0.0\n"
     ]
    },
    {
     "name": "stdout",
     "output_type": "stream",
     "text": [
      "[openmc.deplete] t=380.99999999999994 s, dt=15.000000000000021 s, source=0.0\n"
     ]
    },
    {
     "name": "stdout",
     "output_type": "stream",
     "text": [
      "[openmc.deplete] t=395.99999999999994 s, dt=27.000000000000025 s, source=0.0\n"
     ]
    },
    {
     "name": "stdout",
     "output_type": "stream",
     "text": [
      "[openmc.deplete] t=422.99999999999994 s, dt=36.00000000000001 s, source=0.0\n"
     ]
    },
    {
     "name": "stdout",
     "output_type": "stream",
     "text": [
      "[openmc.deplete] t=458.99999999999994 s, dt=36.999999999999964 s, source=0.0\n"
     ]
    },
    {
     "name": "stdout",
     "output_type": "stream",
     "text": [
      "[openmc.deplete] t=495.9999999999999 s, dt=51.999999999999986 s, source=0.0\n"
     ]
    },
    {
     "name": "stdout",
     "output_type": "stream",
     "text": [
      "[openmc.deplete] t=547.9999999999999 s, dt=66.00000000000006 s, source=0.0\n"
     ]
    },
    {
     "name": "stdout",
     "output_type": "stream",
     "text": [
      "[openmc.deplete] t=614.0 s, dt=67.0 s, source=0.0\n"
     ]
    },
    {
     "name": "stdout",
     "output_type": "stream",
     "text": [
      "[openmc.deplete] t=681.0 s, dt=96.99999999999997 s, source=0.0\n"
     ]
    },
    {
     "name": "stdout",
     "output_type": "stream",
     "text": [
      "[openmc.deplete] t=778.0 s, dt=127.00000000000001 s, source=0.0\n"
     ]
    },
    {
     "name": "stdout",
     "output_type": "stream",
     "text": [
      "[openmc.deplete] t=905.0 s, dt=125.99999999999991 s, source=0.0\n"
     ]
    },
    {
     "name": "stdout",
     "output_type": "stream",
     "text": [
      "[openmc.deplete] t=1031.0 s, dt=188.00000000000006 s, source=0.0\n"
     ]
    },
    {
     "name": "stdout",
     "output_type": "stream",
     "text": [
      "[openmc.deplete] t=1219.0 s, dt=246.00000000000009 s, source=0.0\n"
     ]
    },
    {
     "name": "stdout",
     "output_type": "stream",
     "text": [
      "[openmc.deplete] t=1465.0 s, dt=247.00000000000003 s, source=0.0\n"
     ]
    },
    {
     "name": "stdout",
     "output_type": "stream",
     "text": [
      "[openmc.deplete] t=1712.0 s, dt=245.99999999999977 s, source=0.0\n"
     ]
    },
    {
     "name": "stdout",
     "output_type": "stream",
     "text": [
      "[openmc.deplete] t=1957.9999999999998 s, dt=427.0 s, source=0.0\n"
     ]
    },
    {
     "name": "stdout",
     "output_type": "stream",
     "text": [
      "[openmc.deplete] t=2385.0 s, dt=607.0 s, source=0.0\n"
     ]
    },
    {
     "name": "stdout",
     "output_type": "stream",
     "text": [
      "[openmc.deplete] t=2992.0 s, dt=604.0000000000001 s, source=0.0\n"
     ]
    },
    {
     "name": "stdout",
     "output_type": "stream",
     "text": [
      "[openmc.deplete] t=3596.0 (final operator evaluation)\n"
     ]
    },
    {
     "name": "stderr",
     "output_type": "stream",
     "text": [
      "/home/jon/.neutronicsworkshop_3.12/lib/python3.12/site-packages/openmc/deplete/results.py:94: FutureWarning: The ResultsList.from_hdf5(...) method is no longer necessary and will be removed in a future version of OpenMC. Use Results(...) instead.\n",
      "  warn(\n"
     ]
    },
    {
     "name": "stdout",
     "output_type": "stream",
     "text": [
      "[openmc.deplete] t=0.0 s, dt=300.0 s, source=11160000000.0\n"
     ]
    },
    {
     "name": "stdout",
     "output_type": "stream",
     "text": [
      "[openmc.deplete] t=300.0 s, dt=50.0 s, source=0.0\n"
     ]
    },
    {
     "name": "stderr",
     "output_type": "stream",
     "text": [
      "/home/jon/.neutronicsworkshop_3.12/lib/python3.12/site-packages/uncertainties/core.py:1024: UserWarning: Using UFloat objects with std_dev==0 may give unexpected results.\n",
      "  warn(\"Using UFloat objects with std_dev==0 may give unexpected results.\")\n"
     ]
    },
    {
     "name": "stdout",
     "output_type": "stream",
     "text": [
      "[openmc.deplete] t=350.0 s, dt=15.000000000000021 s, source=0.0\n"
     ]
    },
    {
     "name": "stdout",
     "output_type": "stream",
     "text": [
      "[openmc.deplete] t=365.0 s, dt=15.000000000000021 s, source=0.0\n"
     ]
    },
    {
     "name": "stdout",
     "output_type": "stream",
     "text": [
      "[openmc.deplete] t=380.0 s, dt=14.999999999999947 s, source=0.0\n"
     ]
    },
    {
     "name": "stdout",
     "output_type": "stream",
     "text": [
      "[openmc.deplete] t=394.99999999999994 s, dt=25.999999999999993 s, source=0.0\n"
     ]
    },
    {
     "name": "stdout",
     "output_type": "stream",
     "text": [
      "[openmc.deplete] t=420.99999999999994 s, dt=36.00000000000001 s, source=0.0\n"
     ]
    },
    {
     "name": "stdout",
     "output_type": "stream",
     "text": [
      "[openmc.deplete] t=456.99999999999994 s, dt=36.00000000000001 s, source=0.0\n"
     ]
    },
    {
     "name": "stdout",
     "output_type": "stream",
     "text": [
      "[openmc.deplete] t=492.99999999999994 s, dt=52.00000000000006 s, source=0.0\n"
     ]
    },
    {
     "name": "stdout",
     "output_type": "stream",
     "text": [
      "[openmc.deplete] t=545.0 s, dt=65.99999999999997 s, source=0.0\n"
     ]
    },
    {
     "name": "stdout",
     "output_type": "stream",
     "text": [
      "[openmc.deplete] t=611.0 s, dt=66.00000000000006 s, source=0.0\n"
     ]
    },
    {
     "name": "stdout",
     "output_type": "stream",
     "text": [
      "[openmc.deplete] t=677.0 s, dt=93.99999999999996 s, source=0.0\n"
     ]
    },
    {
     "name": "stdout",
     "output_type": "stream",
     "text": [
      "[openmc.deplete] t=771.0 s, dt=127.00000000000001 s, source=0.0\n"
     ]
    },
    {
     "name": "stdout",
     "output_type": "stream",
     "text": [
      "[openmc.deplete] t=898.0 s, dt=122.99999999999989 s, source=0.0\n"
     ]
    },
    {
     "name": "stdout",
     "output_type": "stream",
     "text": [
      "[openmc.deplete] t=1020.9999999999999 s, dt=187.0000000000001 s, source=0.0\n"
     ]
    },
    {
     "name": "stdout",
     "output_type": "stream",
     "text": [
      "[openmc.deplete] t=1208.0 s, dt=243.00000000000006 s, source=0.0\n"
     ]
    },
    {
     "name": "stdout",
     "output_type": "stream",
     "text": [
      "[openmc.deplete] t=1451.0 s, dt=245.99999999999977 s, source=0.0\n"
     ]
    },
    {
     "name": "stdout",
     "output_type": "stream",
     "text": [
      "[openmc.deplete] t=1696.9999999999998 s, dt=243.00000000000023 s, source=0.0\n"
     ]
    },
    {
     "name": "stdout",
     "output_type": "stream",
     "text": [
      "[openmc.deplete] t=1940.0 s, dt=427.0 s, source=0.0\n"
     ]
    },
    {
     "name": "stdout",
     "output_type": "stream",
     "text": [
      "[openmc.deplete] t=2367.0 s, dt=607.0 s, source=0.0\n"
     ]
    },
    {
     "name": "stdout",
     "output_type": "stream",
     "text": [
      "[openmc.deplete] t=2974.0 s, dt=603.0000000000001 s, source=0.0\n"
     ]
    },
    {
     "name": "stdout",
     "output_type": "stream",
     "text": [
      "[openmc.deplete] t=3577.0 (final operator evaluation)\n"
     ]
    },
    {
     "name": "stderr",
     "output_type": "stream",
     "text": [
      "/home/jon/.neutronicsworkshop_3.12/lib/python3.12/site-packages/openmc/deplete/results.py:94: FutureWarning: The ResultsList.from_hdf5(...) method is no longer necessary and will be removed in a future version of OpenMC. Use Results(...) instead.\n",
      "  warn(\n"
     ]
    },
    {
     "name": "stdout",
     "output_type": "stream",
     "text": [
      "[openmc.deplete] t=0.0 s, dt=300.0 s, source=11160000000.0\n"
     ]
    },
    {
     "name": "stdout",
     "output_type": "stream",
     "text": [
      "[openmc.deplete] t=300.0 s, dt=35.000000000000014 s, source=0.0\n"
     ]
    },
    {
     "name": "stderr",
     "output_type": "stream",
     "text": [
      "/home/jon/.neutronicsworkshop_3.12/lib/python3.12/site-packages/uncertainties/core.py:1024: UserWarning: Using UFloat objects with std_dev==0 may give unexpected results.\n",
      "  warn(\"Using UFloat objects with std_dev==0 may give unexpected results.\")\n"
     ]
    },
    {
     "name": "stdout",
     "output_type": "stream",
     "text": [
      "[openmc.deplete] t=335.0 s, dt=16.000000000000014 s, source=0.0\n"
     ]
    },
    {
     "name": "stdout",
     "output_type": "stream",
     "text": [
      "[openmc.deplete] t=351.0 s, dt=15.999999999999979 s, source=0.0\n"
     ]
    },
    {
     "name": "stdout",
     "output_type": "stream",
     "text": [
      "[openmc.deplete] t=367.0 s, dt=15.000000000000021 s, source=0.0\n"
     ]
    },
    {
     "name": "stdout",
     "output_type": "stream",
     "text": [
      "[openmc.deplete] t=382.0 s, dt=15.999999999999979 s, source=0.0\n"
     ]
    },
    {
     "name": "stdout",
     "output_type": "stream",
     "text": [
      "[openmc.deplete] t=398.0 s, dt=25.999999999999993 s, source=0.0\n"
     ]
    },
    {
     "name": "stdout",
     "output_type": "stream",
     "text": [
      "[openmc.deplete] t=424.0 s, dt=37.000000000000036 s, source=0.0\n"
     ]
    },
    {
     "name": "stdout",
     "output_type": "stream",
     "text": [
      "[openmc.deplete] t=461.00000000000006 s, dt=36.999999999999964 s, source=0.0\n"
     ]
    },
    {
     "name": "stdout",
     "output_type": "stream",
     "text": [
      "[openmc.deplete] t=498.0 s, dt=51.999999999999986 s, source=0.0\n"
     ]
    },
    {
     "name": "stdout",
     "output_type": "stream",
     "text": [
      "[openmc.deplete] t=550.0 s, dt=67.0 s, source=0.0\n"
     ]
    },
    {
     "name": "stdout",
     "output_type": "stream",
     "text": [
      "[openmc.deplete] t=617.0 s, dt=65.99999999999997 s, source=0.0\n"
     ]
    },
    {
     "name": "stdout",
     "output_type": "stream",
     "text": [
      "[openmc.deplete] t=683.0 s, dt=96.99999999999997 s, source=0.0\n"
     ]
    },
    {
     "name": "stdout",
     "output_type": "stream",
     "text": [
      "[openmc.deplete] t=780.0 s, dt=127.00000000000001 s, source=0.0\n"
     ]
    },
    {
     "name": "stdout",
     "output_type": "stream",
     "text": [
      "[openmc.deplete] t=907.0 s, dt=126.00000000000006 s, source=0.0\n"
     ]
    },
    {
     "name": "stdout",
     "output_type": "stream",
     "text": [
      "[openmc.deplete] t=1033.0 s, dt=185.00000000000003 s, source=0.0\n"
     ]
    },
    {
     "name": "stdout",
     "output_type": "stream",
     "text": [
      "[openmc.deplete] t=1218.0 s, dt=247.00000000000003 s, source=0.0\n"
     ]
    },
    {
     "name": "stdout",
     "output_type": "stream",
     "text": [
      "[openmc.deplete] t=1465.0 s, dt=247.00000000000003 s, source=0.0\n"
     ]
    },
    {
     "name": "stdout",
     "output_type": "stream",
     "text": [
      "[openmc.deplete] t=1712.0 s, dt=245.99999999999977 s, source=0.0\n"
     ]
    },
    {
     "name": "stdout",
     "output_type": "stream",
     "text": [
      "[openmc.deplete] t=1957.9999999999998 s, dt=427.99999999999994 s, source=0.0\n"
     ]
    },
    {
     "name": "stdout",
     "output_type": "stream",
     "text": [
      "[openmc.deplete] t=2385.9999999999995 s, dt=604.0000000000001 s, source=0.0\n"
     ]
    },
    {
     "name": "stdout",
     "output_type": "stream",
     "text": [
      "[openmc.deplete] t=2989.9999999999995 s, dt=607.0 s, source=0.0\n"
     ]
    },
    {
     "name": "stdout",
     "output_type": "stream",
     "text": [
      "[openmc.deplete] t=3596.9999999999995 (final operator evaluation)\n"
     ]
    },
    {
     "name": "stderr",
     "output_type": "stream",
     "text": [
      "/home/jon/.neutronicsworkshop_3.12/lib/python3.12/site-packages/openmc/deplete/results.py:94: FutureWarning: The ResultsList.from_hdf5(...) method is no longer necessary and will be removed in a future version of OpenMC. Use Results(...) instead.\n",
      "  warn(\n"
     ]
    },
    {
     "name": "stdout",
     "output_type": "stream",
     "text": [
      "[openmc.deplete] t=0.0 s, dt=300.0 s, source=11160000000.0\n"
     ]
    },
    {
     "name": "stdout",
     "output_type": "stream",
     "text": [
      "[openmc.deplete] t=300.0 s, dt=36.00000000000001 s, source=0.0\n"
     ]
    },
    {
     "name": "stderr",
     "output_type": "stream",
     "text": [
      "/home/jon/.neutronicsworkshop_3.12/lib/python3.12/site-packages/uncertainties/core.py:1024: UserWarning: Using UFloat objects with std_dev==0 may give unexpected results.\n",
      "  warn(\"Using UFloat objects with std_dev==0 may give unexpected results.\")\n"
     ]
    },
    {
     "name": "stdout",
     "output_type": "stream",
     "text": [
      "[openmc.deplete] t=336.0 s, dt=15.000000000000021 s, source=0.0\n"
     ]
    },
    {
     "name": "stdout",
     "output_type": "stream",
     "text": [
      "[openmc.deplete] t=351.0 s, dt=15.999999999999979 s, source=0.0\n"
     ]
    },
    {
     "name": "stdout",
     "output_type": "stream",
     "text": [
      "[openmc.deplete] t=367.0 s, dt=15.000000000000021 s, source=0.0\n"
     ]
    },
    {
     "name": "stdout",
     "output_type": "stream",
     "text": [
      "[openmc.deplete] t=382.0 s, dt=15.000000000000021 s, source=0.0\n"
     ]
    },
    {
     "name": "stdout",
     "output_type": "stream",
     "text": [
      "[openmc.deplete] t=397.0 s, dt=25.999999999999993 s, source=0.0\n"
     ]
    },
    {
     "name": "stdout",
     "output_type": "stream",
     "text": [
      "[openmc.deplete] t=423.0 s, dt=36.999999999999964 s, source=0.0\n"
     ]
    },
    {
     "name": "stdout",
     "output_type": "stream",
     "text": [
      "[openmc.deplete] t=459.99999999999994 s, dt=36.00000000000001 s, source=0.0\n"
     ]
    },
    {
     "name": "stdout",
     "output_type": "stream",
     "text": [
      "[openmc.deplete] t=495.99999999999994 s, dt=53.000000000000014 s, source=0.0\n"
     ]
    },
    {
     "name": "stdout",
     "output_type": "stream",
     "text": [
      "[openmc.deplete] t=549.0 s, dt=65.99999999999997 s, source=0.0\n"
     ]
    },
    {
     "name": "stdout",
     "output_type": "stream",
     "text": [
      "[openmc.deplete] t=615.0 s, dt=66.00000000000006 s, source=0.0\n"
     ]
    },
    {
     "name": "stdout",
     "output_type": "stream",
     "text": [
      "[openmc.deplete] t=681.0 s, dt=97.99999999999993 s, source=0.0\n"
     ]
    },
    {
     "name": "stdout",
     "output_type": "stream",
     "text": [
      "[openmc.deplete] t=778.9999999999999 s, dt=127.00000000000001 s, source=0.0\n"
     ]
    },
    {
     "name": "stdout",
     "output_type": "stream",
     "text": [
      "[openmc.deplete] t=905.9999999999999 s, dt=123.00000000000004 s, source=0.0\n"
     ]
    },
    {
     "name": "stdout",
     "output_type": "stream",
     "text": [
      "[openmc.deplete] t=1029.0 s, dt=183.99999999999994 s, source=0.0\n"
     ]
    },
    {
     "name": "stdout",
     "output_type": "stream",
     "text": [
      "[openmc.deplete] t=1213.0 s, dt=247.00000000000003 s, source=0.0\n"
     ]
    },
    {
     "name": "stdout",
     "output_type": "stream",
     "text": [
      "[openmc.deplete] t=1460.0 s, dt=246.00000000000009 s, source=0.0\n"
     ]
    },
    {
     "name": "stdout",
     "output_type": "stream",
     "text": [
      "[openmc.deplete] t=1706.0 s, dt=247.00000000000003 s, source=0.0\n"
     ]
    },
    {
     "name": "stdout",
     "output_type": "stream",
     "text": [
      "[openmc.deplete] t=1953.0 s, dt=427.99999999999994 s, source=0.0\n"
     ]
    },
    {
     "name": "stdout",
     "output_type": "stream",
     "text": [
      "[openmc.deplete] t=2381.0 s, dt=603.0000000000001 s, source=0.0\n"
     ]
    },
    {
     "name": "stdout",
     "output_type": "stream",
     "text": [
      "[openmc.deplete] t=2984.0 s, dt=607.0 s, source=0.0\n"
     ]
    },
    {
     "name": "stdout",
     "output_type": "stream",
     "text": [
      "[openmc.deplete] t=3591.0 (final operator evaluation)\n"
     ]
    },
    {
     "name": "stderr",
     "output_type": "stream",
     "text": [
      "/home/jon/.neutronicsworkshop_3.12/lib/python3.12/site-packages/openmc/deplete/results.py:94: FutureWarning: The ResultsList.from_hdf5(...) method is no longer necessary and will be removed in a future version of OpenMC. Use Results(...) instead.\n",
      "  warn(\n"
     ]
    },
    {
     "name": "stdout",
     "output_type": "stream",
     "text": [
      "[openmc.deplete] t=0.0 s, dt=27267.84 s, source=10500000000.0\n"
     ]
    },
    {
     "name": "stdout",
     "output_type": "stream",
     "text": [
      "[openmc.deplete] t=27267.84 s, dt=55209.6 s, source=0.0\n"
     ]
    },
    {
     "name": "stderr",
     "output_type": "stream",
     "text": [
      "/home/jon/.neutronicsworkshop_3.12/lib/python3.12/site-packages/uncertainties/core.py:1024: UserWarning: Using UFloat objects with std_dev==0 may give unexpected results.\n",
      "  warn(\"Using UFloat objects with std_dev==0 may give unexpected results.\")\n"
     ]
    },
    {
     "name": "stdout",
     "output_type": "stream",
     "text": [
      "[openmc.deplete] t=82477.44 s, dt=57196.79999999998 s, source=0.0\n"
     ]
    },
    {
     "name": "stdout",
     "output_type": "stream",
     "text": [
      "[openmc.deplete] t=139674.24 s, dt=136598.40000000002 s, source=0.0\n"
     ]
    },
    {
     "name": "stdout",
     "output_type": "stream",
     "text": [
      "[openmc.deplete] t=276272.64 s, dt=343094.4 s, source=0.0\n"
     ]
    },
    {
     "name": "stdout",
     "output_type": "stream",
     "text": [
      "[openmc.deplete] t=619367.04 s, dt=517881.60000000003 s, source=0.0\n"
     ]
    },
    {
     "name": "stdout",
     "output_type": "stream",
     "text": [
      "[openmc.deplete] t=1137248.6400000001 s, dt=950486.3999999998 s, source=0.0\n"
     ]
    },
    {
     "name": "stdout",
     "output_type": "stream",
     "text": [
      "[openmc.deplete] t=2087735.04 s, dt=2233699.2000000007 s, source=0.0\n"
     ]
    },
    {
     "name": "stdout",
     "output_type": "stream",
     "text": [
      "[openmc.deplete] t=4321434.24 s, dt=4336329.6 s, source=0.0\n"
     ]
    },
    {
     "name": "stdout",
     "output_type": "stream",
     "text": [
      "[openmc.deplete] t=8657763.84 s, dt=8659872.0 s, source=0.0\n"
     ]
    },
    {
     "name": "stdout",
     "output_type": "stream",
     "text": [
      "[openmc.deplete] t=17317635.84 s, dt=17696448.000000004 s, source=0.0\n"
     ]
    },
    {
     "name": "stdout",
     "output_type": "stream",
     "text": [
      "[openmc.deplete] t=35014083.84 (final operator evaluation)\n"
     ]
    },
    {
     "name": "stderr",
     "output_type": "stream",
     "text": [
      "/home/jon/.neutronicsworkshop_3.12/lib/python3.12/site-packages/openmc/deplete/results.py:94: FutureWarning: The ResultsList.from_hdf5(...) method is no longer necessary and will be removed in a future version of OpenMC. Use Results(...) instead.\n",
      "  warn(\n"
     ]
    },
    {
     "name": "stdout",
     "output_type": "stream",
     "text": [
      "[openmc.deplete] t=0.0 s, dt=300.0 s, source=11350000000.0\n"
     ]
    },
    {
     "name": "stdout",
     "output_type": "stream",
     "text": [
      "[openmc.deplete] t=300.0 s, dt=66.00000000000006 s, source=0.0\n"
     ]
    },
    {
     "name": "stderr",
     "output_type": "stream",
     "text": [
      "/home/jon/.neutronicsworkshop_3.12/lib/python3.12/site-packages/uncertainties/core.py:1024: UserWarning: Using UFloat objects with std_dev==0 may give unexpected results.\n",
      "  warn(\"Using UFloat objects with std_dev==0 may give unexpected results.\")\n"
     ]
    },
    {
     "name": "stdout",
     "output_type": "stream",
     "text": [
      "[openmc.deplete] t=366.00000000000006 s, dt=15.999999999999979 s, source=0.0\n"
     ]
    },
    {
     "name": "stdout",
     "output_type": "stream",
     "text": [
      "[openmc.deplete] t=382.00000000000006 s, dt=15.999999999999979 s, source=0.0\n"
     ]
    },
    {
     "name": "stdout",
     "output_type": "stream",
     "text": [
      "[openmc.deplete] t=398.00000000000006 s, dt=27.000000000000025 s, source=0.0\n"
     ]
    },
    {
     "name": "stdout",
     "output_type": "stream",
     "text": [
      "[openmc.deplete] t=425.00000000000006 s, dt=37.99999999999999 s, source=0.0\n"
     ]
    },
    {
     "name": "stdout",
     "output_type": "stream",
     "text": [
      "[openmc.deplete] t=463.00000000000006 s, dt=36.999999999999964 s, source=0.0\n"
     ]
    },
    {
     "name": "stdout",
     "output_type": "stream",
     "text": [
      "[openmc.deplete] t=500.0 s, dt=53.000000000000014 s, source=0.0\n"
     ]
    },
    {
     "name": "stdout",
     "output_type": "stream",
     "text": [
      "[openmc.deplete] t=553.0 s, dt=63.999999999999986 s, source=0.0\n"
     ]
    },
    {
     "name": "stdout",
     "output_type": "stream",
     "text": [
      "[openmc.deplete] t=617.0 s, dt=67.00000000000009 s, source=0.0\n"
     ]
    },
    {
     "name": "stdout",
     "output_type": "stream",
     "text": [
      "[openmc.deplete] t=684.0000000000001 s, dt=94.99999999999991 s, source=0.0\n"
     ]
    },
    {
     "name": "stdout",
     "output_type": "stream",
     "text": [
      "[openmc.deplete] t=779.0 s, dt=127.00000000000001 s, source=0.0\n"
     ]
    },
    {
     "name": "stdout",
     "output_type": "stream",
     "text": [
      "[openmc.deplete] t=906.0 s, dt=127.00000000000001 s, source=0.0\n"
     ]
    },
    {
     "name": "stdout",
     "output_type": "stream",
     "text": [
      "[openmc.deplete] t=1033.0 s, dt=127.99999999999997 s, source=0.0\n"
     ]
    },
    {
     "name": "stdout",
     "output_type": "stream",
     "text": [
      "[openmc.deplete] t=1161.0 s, dt=188.00000000000006 s, source=0.0\n"
     ]
    },
    {
     "name": "stdout",
     "output_type": "stream",
     "text": [
      "[openmc.deplete] t=1349.0 s, dt=247.00000000000003 s, source=0.0\n"
     ]
    },
    {
     "name": "stdout",
     "output_type": "stream",
     "text": [
      "[openmc.deplete] t=1596.0 s, dt=247.00000000000003 s, source=0.0\n"
     ]
    },
    {
     "name": "stdout",
     "output_type": "stream",
     "text": [
      "[openmc.deplete] t=1843.0 s, dt=246.99999999999974 s, source=0.0\n"
     ]
    },
    {
     "name": "stdout",
     "output_type": "stream",
     "text": [
      "[openmc.deplete] t=2089.9999999999995 s, dt=428.0000000000003 s, source=0.0\n"
     ]
    },
    {
     "name": "stdout",
     "output_type": "stream",
     "text": [
      "[openmc.deplete] t=2518.0 s, dt=607.9999999999999 s, source=0.0\n"
     ]
    },
    {
     "name": "stdout",
     "output_type": "stream",
     "text": [
      "[openmc.deplete] t=3126.0 s, dt=607.0 s, source=0.0\n"
     ]
    },
    {
     "name": "stdout",
     "output_type": "stream",
     "text": [
      "[openmc.deplete] t=3733.0 (final operator evaluation)\n"
     ]
    },
    {
     "name": "stderr",
     "output_type": "stream",
     "text": [
      "/home/jon/.neutronicsworkshop_3.12/lib/python3.12/site-packages/openmc/deplete/results.py:94: FutureWarning: The ResultsList.from_hdf5(...) method is no longer necessary and will be removed in a future version of OpenMC. Use Results(...) instead.\n",
      "  warn(\n"
     ]
    },
    {
     "name": "stdout",
     "output_type": "stream",
     "text": [
      "[openmc.deplete] t=0.0 s, dt=300.0 s, source=11160000000.0\n"
     ]
    },
    {
     "name": "stdout",
     "output_type": "stream",
     "text": [
      "[openmc.deplete] t=300.0 s, dt=51.00000000000003 s, source=0.0\n"
     ]
    },
    {
     "name": "stderr",
     "output_type": "stream",
     "text": [
      "/home/jon/.neutronicsworkshop_3.12/lib/python3.12/site-packages/uncertainties/core.py:1024: UserWarning: Using UFloat objects with std_dev==0 may give unexpected results.\n",
      "  warn(\"Using UFloat objects with std_dev==0 may give unexpected results.\")\n"
     ]
    },
    {
     "name": "stdout",
     "output_type": "stream",
     "text": [
      "[openmc.deplete] t=351.0 s, dt=15.999999999999979 s, source=0.0\n"
     ]
    },
    {
     "name": "stdout",
     "output_type": "stream",
     "text": [
      "[openmc.deplete] t=367.0 s, dt=15.000000000000021 s, source=0.0\n"
     ]
    },
    {
     "name": "stdout",
     "output_type": "stream",
     "text": [
      "[openmc.deplete] t=382.0 s, dt=15.999999999999979 s, source=0.0\n"
     ]
    },
    {
     "name": "stdout",
     "output_type": "stream",
     "text": [
      "[openmc.deplete] t=398.0 s, dt=25.999999999999993 s, source=0.0\n"
     ]
    },
    {
     "name": "stdout",
     "output_type": "stream",
     "text": [
      "[openmc.deplete] t=424.0 s, dt=37.000000000000036 s, source=0.0\n"
     ]
    },
    {
     "name": "stdout",
     "output_type": "stream",
     "text": [
      "[openmc.deplete] t=461.00000000000006 s, dt=36.00000000000001 s, source=0.0\n"
     ]
    },
    {
     "name": "stdout",
     "output_type": "stream",
     "text": [
      "[openmc.deplete] t=497.00000000000006 s, dt=52.99999999999994 s, source=0.0\n"
     ]
    },
    {
     "name": "stdout",
     "output_type": "stream",
     "text": [
      "[openmc.deplete] t=550.0 s, dt=67.0 s, source=0.0\n"
     ]
    },
    {
     "name": "stdout",
     "output_type": "stream",
     "text": [
      "[openmc.deplete] t=617.0 s, dt=65.99999999999997 s, source=0.0\n"
     ]
    },
    {
     "name": "stdout",
     "output_type": "stream",
     "text": [
      "[openmc.deplete] t=683.0 s, dt=98.00000000000009 s, source=0.0\n"
     ]
    },
    {
     "name": "stdout",
     "output_type": "stream",
     "text": [
      "[openmc.deplete] t=781.0000000000001 s, dt=125.99999999999991 s, source=0.0\n"
     ]
    },
    {
     "name": "stdout",
     "output_type": "stream",
     "text": [
      "[openmc.deplete] t=907.0 s, dt=127.00000000000001 s, source=0.0\n"
     ]
    },
    {
     "name": "stdout",
     "output_type": "stream",
     "text": [
      "[openmc.deplete] t=1034.0 s, dt=188.00000000000006 s, source=0.0\n"
     ]
    },
    {
     "name": "stdout",
     "output_type": "stream",
     "text": [
      "[openmc.deplete] t=1222.0 s, dt=243.00000000000006 s, source=0.0\n"
     ]
    },
    {
     "name": "stdout",
     "output_type": "stream",
     "text": [
      "[openmc.deplete] t=1465.0 s, dt=243.9999999999999 s, source=0.0\n"
     ]
    },
    {
     "name": "stdout",
     "output_type": "stream",
     "text": [
      "[openmc.deplete] t=1709.0 s, dt=247.00000000000003 s, source=0.0\n"
     ]
    },
    {
     "name": "stdout",
     "output_type": "stream",
     "text": [
      "[openmc.deplete] t=1956.0 s, dt=427.99999999999994 s, source=0.0\n"
     ]
    },
    {
     "name": "stdout",
     "output_type": "stream",
     "text": [
      "[openmc.deplete] t=2384.0 s, dt=607.0 s, source=0.0\n"
     ]
    },
    {
     "name": "stdout",
     "output_type": "stream",
     "text": [
      "[openmc.deplete] t=2991.0 s, dt=604.0000000000001 s, source=0.0\n"
     ]
    },
    {
     "name": "stdout",
     "output_type": "stream",
     "text": [
      "[openmc.deplete] t=3595.0 (final operator evaluation)\n"
     ]
    },
    {
     "name": "stderr",
     "output_type": "stream",
     "text": [
      "/home/jon/.neutronicsworkshop_3.12/lib/python3.12/site-packages/openmc/deplete/results.py:94: FutureWarning: The ResultsList.from_hdf5(...) method is no longer necessary and will be removed in a future version of OpenMC. Use Results(...) instead.\n",
      "  warn(\n"
     ]
    },
    {
     "name": "stdout",
     "output_type": "stream",
     "text": [
      "[openmc.deplete] t=0.0 s, dt=300.0 s, source=11160000000.0\n"
     ]
    },
    {
     "name": "stdout",
     "output_type": "stream",
     "text": [
      "[openmc.deplete] t=300.0 s, dt=51.999999999999986 s, source=0.0\n"
     ]
    },
    {
     "name": "stderr",
     "output_type": "stream",
     "text": [
      "/home/jon/.neutronicsworkshop_3.12/lib/python3.12/site-packages/uncertainties/core.py:1024: UserWarning: Using UFloat objects with std_dev==0 may give unexpected results.\n",
      "  warn(\"Using UFloat objects with std_dev==0 may give unexpected results.\")\n"
     ]
    },
    {
     "name": "stdout",
     "output_type": "stream",
     "text": [
      "[openmc.deplete] t=352.0 s, dt=15.000000000000021 s, source=0.0\n"
     ]
    },
    {
     "name": "stdout",
     "output_type": "stream",
     "text": [
      "[openmc.deplete] t=367.0 s, dt=15.999999999999979 s, source=0.0\n"
     ]
    },
    {
     "name": "stdout",
     "output_type": "stream",
     "text": [
      "[openmc.deplete] t=383.0 s, dt=15.000000000000021 s, source=0.0\n"
     ]
    },
    {
     "name": "stdout",
     "output_type": "stream",
     "text": [
      "[openmc.deplete] t=398.0 s, dt=27.000000000000025 s, source=0.0\n"
     ]
    },
    {
     "name": "stdout",
     "output_type": "stream",
     "text": [
      "[openmc.deplete] t=425.0 s, dt=36.00000000000001 s, source=0.0\n"
     ]
    },
    {
     "name": "stdout",
     "output_type": "stream",
     "text": [
      "[openmc.deplete] t=461.0 s, dt=36.00000000000001 s, source=0.0\n"
     ]
    },
    {
     "name": "stdout",
     "output_type": "stream",
     "text": [
      "[openmc.deplete] t=497.0 s, dt=52.99999999999994 s, source=0.0\n"
     ]
    },
    {
     "name": "stdout",
     "output_type": "stream",
     "text": [
      "[openmc.deplete] t=550.0 s, dt=66.00000000000006 s, source=0.0\n"
     ]
    },
    {
     "name": "stdout",
     "output_type": "stream",
     "text": [
      "[openmc.deplete] t=616.0 s, dt=65.99999999999997 s, source=0.0\n"
     ]
    },
    {
     "name": "stdout",
     "output_type": "stream",
     "text": [
      "[openmc.deplete] t=682.0 s, dt=97.99999999999993 s, source=0.0\n"
     ]
    },
    {
     "name": "stdout",
     "output_type": "stream",
     "text": [
      "[openmc.deplete] t=779.9999999999999 s, dt=127.00000000000001 s, source=0.0\n"
     ]
    },
    {
     "name": "stdout",
     "output_type": "stream",
     "text": [
      "[openmc.deplete] t=906.9999999999999 s, dt=126.00000000000006 s, source=0.0\n"
     ]
    },
    {
     "name": "stdout",
     "output_type": "stream",
     "text": [
      "[openmc.deplete] t=1033.0 s, dt=188.00000000000006 s, source=0.0\n"
     ]
    },
    {
     "name": "stdout",
     "output_type": "stream",
     "text": [
      "[openmc.deplete] t=1221.0 s, dt=245.99999999999994 s, source=0.0\n"
     ]
    },
    {
     "name": "stdout",
     "output_type": "stream",
     "text": [
      "[openmc.deplete] t=1467.0 s, dt=243.9999999999999 s, source=0.0\n"
     ]
    },
    {
     "name": "stdout",
     "output_type": "stream",
     "text": [
      "[openmc.deplete] t=1711.0 s, dt=246.00000000000009 s, source=0.0\n"
     ]
    },
    {
     "name": "stdout",
     "output_type": "stream",
     "text": [
      "[openmc.deplete] t=1957.0 s, dt=427.99999999999994 s, source=0.0\n"
     ]
    },
    {
     "name": "stdout",
     "output_type": "stream",
     "text": [
      "[openmc.deplete] t=2385.0 s, dt=606.0 s, source=0.0\n"
     ]
    },
    {
     "name": "stdout",
     "output_type": "stream",
     "text": [
      "[openmc.deplete] t=2991.0 s, dt=604.0000000000001 s, source=0.0\n"
     ]
    },
    {
     "name": "stdout",
     "output_type": "stream",
     "text": [
      "[openmc.deplete] t=3595.0 (final operator evaluation)\n"
     ]
    },
    {
     "name": "stderr",
     "output_type": "stream",
     "text": [
      "/home/jon/.neutronicsworkshop_3.12/lib/python3.12/site-packages/openmc/deplete/results.py:94: FutureWarning: The ResultsList.from_hdf5(...) method is no longer necessary and will be removed in a future version of OpenMC. Use Results(...) instead.\n",
      "  warn(\n"
     ]
    },
    {
     "name": "stdout",
     "output_type": "stream",
     "text": [
      "[openmc.deplete] t=0.0 s, dt=300.0 s, source=11160000000.0\n"
     ]
    },
    {
     "name": "stdout",
     "output_type": "stream",
     "text": [
      "[openmc.deplete] t=300.0 s, dt=51.00000000000003 s, source=0.0\n"
     ]
    },
    {
     "name": "stderr",
     "output_type": "stream",
     "text": [
      "/home/jon/.neutronicsworkshop_3.12/lib/python3.12/site-packages/uncertainties/core.py:1024: UserWarning: Using UFloat objects with std_dev==0 may give unexpected results.\n",
      "  warn(\"Using UFloat objects with std_dev==0 may give unexpected results.\")\n"
     ]
    },
    {
     "name": "stdout",
     "output_type": "stream",
     "text": [
      "[openmc.deplete] t=351.0 s, dt=15.999999999999979 s, source=0.0\n"
     ]
    },
    {
     "name": "stdout",
     "output_type": "stream",
     "text": [
      "[openmc.deplete] t=367.0 s, dt=15.000000000000021 s, source=0.0\n"
     ]
    },
    {
     "name": "stdout",
     "output_type": "stream",
     "text": [
      "[openmc.deplete] t=382.0 s, dt=15.000000000000021 s, source=0.0\n"
     ]
    },
    {
     "name": "stdout",
     "output_type": "stream",
     "text": [
      "[openmc.deplete] t=397.0 s, dt=25.999999999999993 s, source=0.0\n"
     ]
    },
    {
     "name": "stdout",
     "output_type": "stream",
     "text": [
      "[openmc.deplete] t=423.0 s, dt=36.00000000000001 s, source=0.0\n"
     ]
    },
    {
     "name": "stdout",
     "output_type": "stream",
     "text": [
      "[openmc.deplete] t=459.0 s, dt=36.999999999999964 s, source=0.0\n"
     ]
    },
    {
     "name": "stdout",
     "output_type": "stream",
     "text": [
      "[openmc.deplete] t=495.99999999999994 s, dt=51.999999999999986 s, source=0.0\n"
     ]
    },
    {
     "name": "stdout",
     "output_type": "stream",
     "text": [
      "[openmc.deplete] t=547.9999999999999 s, dt=66.00000000000006 s, source=0.0\n"
     ]
    },
    {
     "name": "stdout",
     "output_type": "stream",
     "text": [
      "[openmc.deplete] t=614.0 s, dt=65.9999999999999 s, source=0.0\n"
     ]
    },
    {
     "name": "stdout",
     "output_type": "stream",
     "text": [
      "[openmc.deplete] t=679.9999999999999 s, dt=94.0000000000001 s, source=0.0\n"
     ]
    },
    {
     "name": "stdout",
     "output_type": "stream",
     "text": [
      "[openmc.deplete] t=774.0 s, dt=125.99999999999991 s, source=0.0\n"
     ]
    },
    {
     "name": "stdout",
     "output_type": "stream",
     "text": [
      "[openmc.deplete] t=899.9999999999999 s, dt=127.00000000000001 s, source=0.0\n"
     ]
    },
    {
     "name": "stdout",
     "output_type": "stream",
     "text": [
      "[openmc.deplete] t=1027.0 s, dt=187.0000000000001 s, source=0.0\n"
     ]
    },
    {
     "name": "stdout",
     "output_type": "stream",
     "text": [
      "[openmc.deplete] t=1214.0 s, dt=245.99999999999994 s, source=0.0\n"
     ]
    },
    {
     "name": "stdout",
     "output_type": "stream",
     "text": [
      "[openmc.deplete] t=1460.0 s, dt=247.00000000000003 s, source=0.0\n"
     ]
    },
    {
     "name": "stdout",
     "output_type": "stream",
     "text": [
      "[openmc.deplete] t=1707.0 s, dt=246.00000000000009 s, source=0.0\n"
     ]
    },
    {
     "name": "stdout",
     "output_type": "stream",
     "text": [
      "[openmc.deplete] t=1953.0 s, dt=427.99999999999994 s, source=0.0\n"
     ]
    },
    {
     "name": "stdout",
     "output_type": "stream",
     "text": [
      "[openmc.deplete] t=2381.0 s, dt=606.0 s, source=0.0\n"
     ]
    },
    {
     "name": "stdout",
     "output_type": "stream",
     "text": [
      "[openmc.deplete] t=2987.0 s, dt=607.0 s, source=0.0\n"
     ]
    },
    {
     "name": "stdout",
     "output_type": "stream",
     "text": [
      "[openmc.deplete] t=3594.0 (final operator evaluation)\n"
     ]
    },
    {
     "name": "stderr",
     "output_type": "stream",
     "text": [
      "/home/jon/.neutronicsworkshop_3.12/lib/python3.12/site-packages/openmc/deplete/results.py:94: FutureWarning: The ResultsList.from_hdf5(...) method is no longer necessary and will be removed in a future version of OpenMC. Use Results(...) instead.\n",
      "  warn(\n"
     ]
    },
    {
     "name": "stdout",
     "output_type": "stream",
     "text": [
      "[openmc.deplete] t=0.0 s, dt=300.0 s, source=11160000000.0\n"
     ]
    },
    {
     "name": "stdout",
     "output_type": "stream",
     "text": [
      "[openmc.deplete] t=300.0 s, dt=35.000000000000014 s, source=0.0\n"
     ]
    },
    {
     "name": "stderr",
     "output_type": "stream",
     "text": [
      "/home/jon/.neutronicsworkshop_3.12/lib/python3.12/site-packages/uncertainties/core.py:1024: UserWarning: Using UFloat objects with std_dev==0 may give unexpected results.\n",
      "  warn(\"Using UFloat objects with std_dev==0 may give unexpected results.\")\n"
     ]
    },
    {
     "name": "stdout",
     "output_type": "stream",
     "text": [
      "[openmc.deplete] t=335.0 s, dt=14.999999999999984 s, source=0.0\n"
     ]
    },
    {
     "name": "stdout",
     "output_type": "stream",
     "text": [
      "[openmc.deplete] t=350.0 s, dt=16.000000000000053 s, source=0.0\n"
     ]
    },
    {
     "name": "stdout",
     "output_type": "stream",
     "text": [
      "[openmc.deplete] t=366.00000000000006 s, dt=14.999999999999947 s, source=0.0\n"
     ]
    },
    {
     "name": "stdout",
     "output_type": "stream",
     "text": [
      "[openmc.deplete] t=381.0 s, dt=15.000000000000021 s, source=0.0\n"
     ]
    },
    {
     "name": "stdout",
     "output_type": "stream",
     "text": [
      "[openmc.deplete] t=396.0 s, dt=25.999999999999993 s, source=0.0\n"
     ]
    },
    {
     "name": "stdout",
     "output_type": "stream",
     "text": [
      "[openmc.deplete] t=422.0 s, dt=36.00000000000001 s, source=0.0\n"
     ]
    },
    {
     "name": "stdout",
     "output_type": "stream",
     "text": [
      "[openmc.deplete] t=458.0 s, dt=36.999999999999964 s, source=0.0\n"
     ]
    },
    {
     "name": "stdout",
     "output_type": "stream",
     "text": [
      "[openmc.deplete] t=494.99999999999994 s, dt=52.00000000000006 s, source=0.0\n"
     ]
    },
    {
     "name": "stdout",
     "output_type": "stream",
     "text": [
      "[openmc.deplete] t=547.0 s, dt=65.99999999999997 s, source=0.0\n"
     ]
    },
    {
     "name": "stdout",
     "output_type": "stream",
     "text": [
      "[openmc.deplete] t=613.0 s, dt=66.99999999999993 s, source=0.0\n"
     ]
    },
    {
     "name": "stdout",
     "output_type": "stream",
     "text": [
      "[openmc.deplete] t=679.9999999999999 s, dt=97.00000000000013 s, source=0.0\n"
     ]
    },
    {
     "name": "stdout",
     "output_type": "stream",
     "text": [
      "[openmc.deplete] t=777.0 s, dt=125.99999999999991 s, source=0.0\n"
     ]
    },
    {
     "name": "stdout",
     "output_type": "stream",
     "text": [
      "[openmc.deplete] t=902.9999999999999 s, dt=127.00000000000001 s, source=0.0\n"
     ]
    },
    {
     "name": "stdout",
     "output_type": "stream",
     "text": [
      "[openmc.deplete] t=1030.0 s, dt=186.99999999999994 s, source=0.0\n"
     ]
    },
    {
     "name": "stdout",
     "output_type": "stream",
     "text": [
      "[openmc.deplete] t=1217.0 s, dt=245.99999999999994 s, source=0.0\n"
     ]
    },
    {
     "name": "stdout",
     "output_type": "stream",
     "text": [
      "[openmc.deplete] t=1463.0 s, dt=247.00000000000003 s, source=0.0\n"
     ]
    },
    {
     "name": "stdout",
     "output_type": "stream",
     "text": [
      "[openmc.deplete] t=1710.0 s, dt=246.00000000000009 s, source=0.0\n"
     ]
    },
    {
     "name": "stdout",
     "output_type": "stream",
     "text": [
      "[openmc.deplete] t=1956.0 s, dt=425.0000000000001 s, source=0.0\n"
     ]
    },
    {
     "name": "stdout",
     "output_type": "stream",
     "text": [
      "[openmc.deplete] t=2381.0 s, dt=604.0000000000001 s, source=0.0\n"
     ]
    },
    {
     "name": "stdout",
     "output_type": "stream",
     "text": [
      "[openmc.deplete] t=2985.0 s, dt=606.0 s, source=0.0\n"
     ]
    },
    {
     "name": "stdout",
     "output_type": "stream",
     "text": [
      "[openmc.deplete] t=3591.0 (final operator evaluation)\n"
     ]
    },
    {
     "name": "stderr",
     "output_type": "stream",
     "text": [
      "/home/jon/.neutronicsworkshop_3.12/lib/python3.12/site-packages/openmc/deplete/results.py:94: FutureWarning: The ResultsList.from_hdf5(...) method is no longer necessary and will be removed in a future version of OpenMC. Use Results(...) instead.\n",
      "  warn(\n"
     ]
    },
    {
     "name": "stdout",
     "output_type": "stream",
     "text": [
      "[openmc.deplete] t=0.0 s, dt=25799.039999999997 s, source=10500000000.0\n"
     ]
    },
    {
     "name": "stdout",
     "output_type": "stream",
     "text": [
      "[openmc.deplete] t=25799.039999999997 s, dt=56246.4 s, source=0.0\n"
     ]
    },
    {
     "name": "stderr",
     "output_type": "stream",
     "text": [
      "/home/jon/.neutronicsworkshop_3.12/lib/python3.12/site-packages/uncertainties/core.py:1024: UserWarning: Using UFloat objects with std_dev==0 may give unexpected results.\n",
      "  warn(\"Using UFloat objects with std_dev==0 may give unexpected results.\")\n"
     ]
    },
    {
     "name": "stdout",
     "output_type": "stream",
     "text": [
      "[openmc.deplete] t=82045.44 s, dt=91583.99999999999 s, source=0.0\n"
     ]
    },
    {
     "name": "stdout",
     "output_type": "stream",
     "text": [
      "[openmc.deplete] t=173629.44 s, dt=186105.60000000006 s, source=0.0\n"
     ]
    },
    {
     "name": "stdout",
     "output_type": "stream",
     "text": [
      "[openmc.deplete] t=359735.04000000004 s, dt=247536.00000000003 s, source=0.0\n"
     ]
    },
    {
     "name": "stdout",
     "output_type": "stream",
     "text": [
      "[openmc.deplete] t=607271.04 s, dt=470620.8000000001 s, source=0.0\n"
     ]
    },
    {
     "name": "stdout",
     "output_type": "stream",
     "text": [
      "[openmc.deplete] t=1077891.84 s, dt=1038268.8000000002 s, source=0.0\n"
     ]
    },
    {
     "name": "stdout",
     "output_type": "stream",
     "text": [
      "[openmc.deplete] t=2116160.64 s, dt=2224627.1999999997 s, source=0.0\n"
     ]
    },
    {
     "name": "stdout",
     "output_type": "stream",
     "text": [
      "[openmc.deplete] t=4340787.84 s, dt=4330972.800000001 s, source=0.0\n"
     ]
    },
    {
     "name": "stdout",
     "output_type": "stream",
     "text": [
      "[openmc.deplete] t=8671760.64 (final operator evaluation)\n"
     ]
    },
    {
     "name": "stderr",
     "output_type": "stream",
     "text": [
      "/home/jon/.neutronicsworkshop_3.12/lib/python3.12/site-packages/openmc/deplete/results.py:94: FutureWarning: The ResultsList.from_hdf5(...) method is no longer necessary and will be removed in a future version of OpenMC. Use Results(...) instead.\n",
      "  warn(\n"
     ]
    },
    {
     "name": "stdout",
     "output_type": "stream",
     "text": [
      "[openmc.deplete] t=0.0 s, dt=300.0 s, source=11160000000.0\n"
     ]
    },
    {
     "name": "stdout",
     "output_type": "stream",
     "text": [
      "[openmc.deplete] t=300.0 s, dt=66.00000000000006 s, source=0.0\n"
     ]
    },
    {
     "name": "stderr",
     "output_type": "stream",
     "text": [
      "/home/jon/.neutronicsworkshop_3.12/lib/python3.12/site-packages/uncertainties/core.py:1024: UserWarning: Using UFloat objects with std_dev==0 may give unexpected results.\n",
      "  warn(\"Using UFloat objects with std_dev==0 may give unexpected results.\")\n"
     ]
    },
    {
     "name": "stdout",
     "output_type": "stream",
     "text": [
      "[openmc.deplete] t=366.00000000000006 s, dt=15.999999999999979 s, source=0.0\n"
     ]
    },
    {
     "name": "stdout",
     "output_type": "stream",
     "text": [
      "[openmc.deplete] t=382.00000000000006 s, dt=15.999999999999979 s, source=0.0\n"
     ]
    },
    {
     "name": "stdout",
     "output_type": "stream",
     "text": [
      "[openmc.deplete] t=398.00000000000006 s, dt=27.000000000000025 s, source=0.0\n"
     ]
    },
    {
     "name": "stdout",
     "output_type": "stream",
     "text": [
      "[openmc.deplete] t=425.00000000000006 s, dt=36.999999999999964 s, source=0.0\n"
     ]
    },
    {
     "name": "stdout",
     "output_type": "stream",
     "text": [
      "[openmc.deplete] t=462.0 s, dt=36.00000000000001 s, source=0.0\n"
     ]
    },
    {
     "name": "stdout",
     "output_type": "stream",
     "text": [
      "[openmc.deplete] t=498.0 s, dt=50.0 s, source=0.0\n"
     ]
    },
    {
     "name": "stdout",
     "output_type": "stream",
     "text": [
      "[openmc.deplete] t=548.0 s, dt=67.0 s, source=0.0\n"
     ]
    },
    {
     "name": "stdout",
     "output_type": "stream",
     "text": [
      "[openmc.deplete] t=615.0 s, dt=67.0 s, source=0.0\n"
     ]
    },
    {
     "name": "stdout",
     "output_type": "stream",
     "text": [
      "[openmc.deplete] t=682.0 s, dt=97.99999999999993 s, source=0.0\n"
     ]
    },
    {
     "name": "stdout",
     "output_type": "stream",
     "text": [
      "[openmc.deplete] t=779.9999999999999 s, dt=127.00000000000001 s, source=0.0\n"
     ]
    },
    {
     "name": "stdout",
     "output_type": "stream",
     "text": [
      "[openmc.deplete] t=906.9999999999999 s, dt=124.0 s, source=0.0\n"
     ]
    },
    {
     "name": "stdout",
     "output_type": "stream",
     "text": [
      "[openmc.deplete] t=1031.0 s, dt=128.0000000000001 s, source=0.0\n"
     ]
    },
    {
     "name": "stdout",
     "output_type": "stream",
     "text": [
      "[openmc.deplete] t=1159.0 s, dt=187.99999999999991 s, source=0.0\n"
     ]
    },
    {
     "name": "stdout",
     "output_type": "stream",
     "text": [
      "[openmc.deplete] t=1347.0 s, dt=246.9999999999999 s, source=0.0\n"
     ]
    },
    {
     "name": "stdout",
     "output_type": "stream",
     "text": [
      "[openmc.deplete] t=1594.0 s, dt=247.00000000000003 s, source=0.0\n"
     ]
    },
    {
     "name": "stdout",
     "output_type": "stream",
     "text": [
      "[openmc.deplete] t=1841.0 s, dt=247.00000000000003 s, source=0.0\n"
     ]
    },
    {
     "name": "stdout",
     "output_type": "stream",
     "text": [
      "[openmc.deplete] t=2088.0 s, dt=428.9999999999999 s, source=0.0\n"
     ]
    },
    {
     "name": "stdout",
     "output_type": "stream",
     "text": [
      "[openmc.deplete] t=2517.0 s, dt=607.0000000000002 s, source=0.0\n"
     ]
    },
    {
     "name": "stdout",
     "output_type": "stream",
     "text": [
      "[openmc.deplete] t=3124.0 s, dt=607.0 s, source=0.0\n"
     ]
    },
    {
     "name": "stdout",
     "output_type": "stream",
     "text": [
      "[openmc.deplete] t=3731.0 (final operator evaluation)\n"
     ]
    },
    {
     "name": "stderr",
     "output_type": "stream",
     "text": [
      "/home/jon/.neutronicsworkshop_3.12/lib/python3.12/site-packages/openmc/deplete/results.py:94: FutureWarning: The ResultsList.from_hdf5(...) method is no longer necessary and will be removed in a future version of OpenMC. Use Results(...) instead.\n",
      "  warn(\n"
     ]
    },
    {
     "name": "stdout",
     "output_type": "stream",
     "text": [
      "[openmc.deplete] t=0.0 s, dt=300.0 s, source=11160000000.0\n"
     ]
    },
    {
     "name": "stdout",
     "output_type": "stream",
     "text": [
      "[openmc.deplete] t=300.0 s, dt=21.00000000000002 s, source=0.0\n"
     ]
    },
    {
     "name": "stderr",
     "output_type": "stream",
     "text": [
      "/home/jon/.neutronicsworkshop_3.12/lib/python3.12/site-packages/uncertainties/core.py:1024: UserWarning: Using UFloat objects with std_dev==0 may give unexpected results.\n",
      "  warn(\"Using UFloat objects with std_dev==0 may give unexpected results.\")\n"
     ]
    },
    {
     "name": "stdout",
     "output_type": "stream",
     "text": [
      "[openmc.deplete] t=321.0 s, dt=14.999999999999984 s, source=0.0\n"
     ]
    },
    {
     "name": "stdout",
     "output_type": "stream",
     "text": [
      "[openmc.deplete] t=336.0 s, dt=15.999999999999979 s, source=0.0\n"
     ]
    },
    {
     "name": "stdout",
     "output_type": "stream",
     "text": [
      "[openmc.deplete] t=352.0 s, dt=15.000000000000021 s, source=0.0\n"
     ]
    },
    {
     "name": "stdout",
     "output_type": "stream",
     "text": [
      "[openmc.deplete] t=367.0 s, dt=15.999999999999979 s, source=0.0\n"
     ]
    },
    {
     "name": "stdout",
     "output_type": "stream",
     "text": [
      "[openmc.deplete] t=383.0 s, dt=15.000000000000021 s, source=0.0\n"
     ]
    },
    {
     "name": "stdout",
     "output_type": "stream",
     "text": [
      "[openmc.deplete] t=398.0 s, dt=27.000000000000025 s, source=0.0\n"
     ]
    },
    {
     "name": "stdout",
     "output_type": "stream",
     "text": [
      "[openmc.deplete] t=425.0 s, dt=36.00000000000001 s, source=0.0\n"
     ]
    },
    {
     "name": "stdout",
     "output_type": "stream",
     "text": [
      "[openmc.deplete] t=461.0 s, dt=36.00000000000001 s, source=0.0\n"
     ]
    },
    {
     "name": "stdout",
     "output_type": "stream",
     "text": [
      "[openmc.deplete] t=497.0 s, dt=52.99999999999994 s, source=0.0\n"
     ]
    },
    {
     "name": "stdout",
     "output_type": "stream",
     "text": [
      "[openmc.deplete] t=550.0 s, dt=66.00000000000006 s, source=0.0\n"
     ]
    },
    {
     "name": "stdout",
     "output_type": "stream",
     "text": [
      "[openmc.deplete] t=616.0 s, dt=66.99999999999993 s, source=0.0\n"
     ]
    },
    {
     "name": "stdout",
     "output_type": "stream",
     "text": [
      "[openmc.deplete] t=682.9999999999999 s, dt=96.99999999999997 s, source=0.0\n"
     ]
    },
    {
     "name": "stdout",
     "output_type": "stream",
     "text": [
      "[openmc.deplete] t=779.9999999999999 s, dt=126.00000000000006 s, source=0.0\n"
     ]
    },
    {
     "name": "stdout",
     "output_type": "stream",
     "text": [
      "[openmc.deplete] t=906.0 s, dt=127.00000000000001 s, source=0.0\n"
     ]
    },
    {
     "name": "stdout",
     "output_type": "stream",
     "text": [
      "[openmc.deplete] t=1033.0 s, dt=186.99999999999994 s, source=0.0\n"
     ]
    },
    {
     "name": "stdout",
     "output_type": "stream",
     "text": [
      "[openmc.deplete] t=1220.0 s, dt=247.00000000000003 s, source=0.0\n"
     ]
    },
    {
     "name": "stdout",
     "output_type": "stream",
     "text": [
      "[openmc.deplete] t=1467.0 s, dt=246.00000000000009 s, source=0.0\n"
     ]
    },
    {
     "name": "stdout",
     "output_type": "stream",
     "text": [
      "[openmc.deplete] t=1713.0 s, dt=247.00000000000003 s, source=0.0\n"
     ]
    },
    {
     "name": "stdout",
     "output_type": "stream",
     "text": [
      "[openmc.deplete] t=1960.0 s, dt=427.0 s, source=0.0\n"
     ]
    },
    {
     "name": "stdout",
     "output_type": "stream",
     "text": [
      "[openmc.deplete] t=2387.0 s, dt=603.9999999999998 s, source=0.0\n"
     ]
    },
    {
     "name": "stdout",
     "output_type": "stream",
     "text": [
      "[openmc.deplete] t=2991.0 s, dt=607.0 s, source=0.0\n"
     ]
    },
    {
     "name": "stdout",
     "output_type": "stream",
     "text": [
      "[openmc.deplete] t=3598.0 (final operator evaluation)\n"
     ]
    },
    {
     "name": "stderr",
     "output_type": "stream",
     "text": [
      "/home/jon/.neutronicsworkshop_3.12/lib/python3.12/site-packages/openmc/deplete/results.py:94: FutureWarning: The ResultsList.from_hdf5(...) method is no longer necessary and will be removed in a future version of OpenMC. Use Results(...) instead.\n",
      "  warn(\n"
     ]
    },
    {
     "name": "stdout",
     "output_type": "stream",
     "text": [
      "[openmc.deplete] t=0.0 s, dt=25799.039999999997 s, source=10500000000.0\n"
     ]
    },
    {
     "name": "stdout",
     "output_type": "stream",
     "text": [
      "[openmc.deplete] t=25799.039999999997 s, dt=57974.4 s, source=0.0\n"
     ]
    },
    {
     "name": "stderr",
     "output_type": "stream",
     "text": [
      "/home/jon/.neutronicsworkshop_3.12/lib/python3.12/site-packages/uncertainties/core.py:1024: UserWarning: Using UFloat objects with std_dev==0 may give unexpected results.\n",
      "  warn(\"Using UFloat objects with std_dev==0 may give unexpected results.\")\n"
     ]
    },
    {
     "name": "stdout",
     "output_type": "stream",
     "text": [
      "[openmc.deplete] t=83773.44 s, dt=90806.4 s, source=0.0\n"
     ]
    },
    {
     "name": "stdout",
     "output_type": "stream",
     "text": [
      "[openmc.deplete] t=174579.84 s, dt=186451.19999999995 s, source=0.0\n"
     ]
    },
    {
     "name": "stdout",
     "output_type": "stream",
     "text": [
      "[openmc.deplete] t=361031.0399999999 s, dt=247276.80000000002 s, source=0.0\n"
     ]
    },
    {
     "name": "stdout",
     "output_type": "stream",
     "text": [
      "[openmc.deplete] t=608307.84 s, dt=470188.8 s, source=0.0\n"
     ]
    },
    {
     "name": "stdout",
     "output_type": "stream",
     "text": [
      "[openmc.deplete] t=1078496.64 s, dt=1036281.5999999999 s, source=0.0\n"
     ]
    },
    {
     "name": "stdout",
     "output_type": "stream",
     "text": [
      "[openmc.deplete] t=2114778.2399999998 (final operator evaluation)\n",
      "WARNING: nuclide Cs138 in material59 is negative (density = -9.547581425665684e-20 atom/b-cm)\n",
      "WARNING: nuclide Cs138_m1 in material59 is negative (density = -1.0510502646627258e-20 atom/b-cm)\n"
     ]
    },
    {
     "name": "stderr",
     "output_type": "stream",
     "text": [
      "/home/jon/.neutronicsworkshop_3.12/lib/python3.12/site-packages/openmc/deplete/results.py:94: FutureWarning: The ResultsList.from_hdf5(...) method is no longer necessary and will be removed in a future version of OpenMC. Use Results(...) instead.\n",
      "  warn(\n"
     ]
    },
    {
     "name": "stdout",
     "output_type": "stream",
     "text": [
      "[openmc.deplete] t=0.0 s, dt=300.0 s, source=11160000000.0\n"
     ]
    },
    {
     "name": "stdout",
     "output_type": "stream",
     "text": [
      "[openmc.deplete] t=300.0 s, dt=66.00000000000006 s, source=0.0\n"
     ]
    },
    {
     "name": "stderr",
     "output_type": "stream",
     "text": [
      "/home/jon/.neutronicsworkshop_3.12/lib/python3.12/site-packages/uncertainties/core.py:1024: UserWarning: Using UFloat objects with std_dev==0 may give unexpected results.\n",
      "  warn(\"Using UFloat objects with std_dev==0 may give unexpected results.\")\n"
     ]
    },
    {
     "name": "stdout",
     "output_type": "stream",
     "text": [
      "[openmc.deplete] t=366.00000000000006 s, dt=15.999999999999979 s, source=0.0\n"
     ]
    },
    {
     "name": "stdout",
     "output_type": "stream",
     "text": [
      "[openmc.deplete] t=382.00000000000006 s, dt=15.999999999999979 s, source=0.0\n"
     ]
    },
    {
     "name": "stdout",
     "output_type": "stream",
     "text": [
      "[openmc.deplete] t=398.00000000000006 s, dt=27.99999999999998 s, source=0.0\n"
     ]
    },
    {
     "name": "stdout",
     "output_type": "stream",
     "text": [
      "[openmc.deplete] t=426.00000000000006 s, dt=34.00000000000002 s, source=0.0\n"
     ]
    },
    {
     "name": "stdout",
     "output_type": "stream",
     "text": [
      "[openmc.deplete] t=460.00000000000006 s, dt=37.000000000000036 s, source=0.0\n"
     ]
    },
    {
     "name": "stdout",
     "output_type": "stream",
     "text": [
      "[openmc.deplete] t=497.0000000000001 s, dt=53.99999999999997 s, source=0.0\n"
     ]
    },
    {
     "name": "stdout",
     "output_type": "stream",
     "text": [
      "[openmc.deplete] t=551.0000000000001 s, dt=67.0 s, source=0.0\n"
     ]
    },
    {
     "name": "stdout",
     "output_type": "stream",
     "text": [
      "[openmc.deplete] t=618.0000000000001 s, dt=67.0 s, source=0.0\n"
     ]
    },
    {
     "name": "stdout",
     "output_type": "stream",
     "text": [
      "[openmc.deplete] t=685.0000000000001 s, dt=97.99999999999993 s, source=0.0\n"
     ]
    },
    {
     "name": "stdout",
     "output_type": "stream",
     "text": [
      "[openmc.deplete] t=783.0 s, dt=128.0000000000001 s, source=0.0\n"
     ]
    },
    {
     "name": "stdout",
     "output_type": "stream",
     "text": [
      "[openmc.deplete] t=911.0000000000001 s, dt=124.0 s, source=0.0\n"
     ]
    },
    {
     "name": "stdout",
     "output_type": "stream",
     "text": [
      "[openmc.deplete] t=1035.0 s, dt=127.99999999999997 s, source=0.0\n"
     ]
    },
    {
     "name": "stdout",
     "output_type": "stream",
     "text": [
      "[openmc.deplete] t=1163.0 s, dt=188.99999999999986 s, source=0.0\n"
     ]
    },
    {
     "name": "stdout",
     "output_type": "stream",
     "text": [
      "[openmc.deplete] t=1351.9999999999998 s, dt=247.00000000000003 s, source=0.0\n"
     ]
    },
    {
     "name": "stdout",
     "output_type": "stream",
     "text": [
      "[openmc.deplete] t=1598.9999999999998 s, dt=244.00000000000017 s, source=0.0\n"
     ]
    },
    {
     "name": "stdout",
     "output_type": "stream",
     "text": [
      "[openmc.deplete] t=1843.0 s, dt=248.0 s, source=0.0\n"
     ]
    },
    {
     "name": "stdout",
     "output_type": "stream",
     "text": [
      "[openmc.deplete] t=2091.0 s, dt=424.9999999999998 s, source=0.0\n"
     ]
    },
    {
     "name": "stdout",
     "output_type": "stream",
     "text": [
      "[openmc.deplete] t=2516.0 s, dt=606.0000000000003 s, source=0.0\n"
     ]
    },
    {
     "name": "stdout",
     "output_type": "stream",
     "text": [
      "[openmc.deplete] t=3122.0000000000005 s, dt=607.0 s, source=0.0\n"
     ]
    },
    {
     "name": "stdout",
     "output_type": "stream",
     "text": [
      "[openmc.deplete] t=3729.0000000000005 (final operator evaluation)\n"
     ]
    },
    {
     "name": "stderr",
     "output_type": "stream",
     "text": [
      "/home/jon/.neutronicsworkshop_3.12/lib/python3.12/site-packages/openmc/deplete/results.py:94: FutureWarning: The ResultsList.from_hdf5(...) method is no longer necessary and will be removed in a future version of OpenMC. Use Results(...) instead.\n",
      "  warn(\n"
     ]
    },
    {
     "name": "stdout",
     "output_type": "stream",
     "text": [
      "[openmc.deplete] t=0.0 s, dt=300.0 s, source=11160000000.0\n"
     ]
    },
    {
     "name": "stdout",
     "output_type": "stream",
     "text": [
      "[openmc.deplete] t=300.0 s, dt=20.00000000000003 s, source=0.0\n"
     ]
    },
    {
     "name": "stderr",
     "output_type": "stream",
     "text": [
      "/home/jon/.neutronicsworkshop_3.12/lib/python3.12/site-packages/uncertainties/core.py:1024: UserWarning: Using UFloat objects with std_dev==0 may give unexpected results.\n",
      "  warn(\"Using UFloat objects with std_dev==0 may give unexpected results.\")\n"
     ]
    },
    {
     "name": "stdout",
     "output_type": "stream",
     "text": [
      "[openmc.deplete] t=320.0 s, dt=15.999999999999979 s, source=0.0\n"
     ]
    },
    {
     "name": "stdout",
     "output_type": "stream",
     "text": [
      "[openmc.deplete] t=336.0 s, dt=15.000000000000021 s, source=0.0\n"
     ]
    },
    {
     "name": "stdout",
     "output_type": "stream",
     "text": [
      "[openmc.deplete] t=351.0 s, dt=15.999999999999979 s, source=0.0\n"
     ]
    },
    {
     "name": "stdout",
     "output_type": "stream",
     "text": [
      "[openmc.deplete] t=367.0 s, dt=15.000000000000021 s, source=0.0\n"
     ]
    },
    {
     "name": "stdout",
     "output_type": "stream",
     "text": [
      "[openmc.deplete] t=382.0 s, dt=15.999999999999979 s, source=0.0\n"
     ]
    },
    {
     "name": "stdout",
     "output_type": "stream",
     "text": [
      "[openmc.deplete] t=398.0 s, dt=25.999999999999993 s, source=0.0\n"
     ]
    },
    {
     "name": "stdout",
     "output_type": "stream",
     "text": [
      "[openmc.deplete] t=424.0 s, dt=37.000000000000036 s, source=0.0\n"
     ]
    },
    {
     "name": "stdout",
     "output_type": "stream",
     "text": [
      "[openmc.deplete] t=461.00000000000006 s, dt=36.00000000000001 s, source=0.0\n"
     ]
    },
    {
     "name": "stdout",
     "output_type": "stream",
     "text": [
      "[openmc.deplete] t=497.00000000000006 s, dt=51.999999999999986 s, source=0.0\n"
     ]
    },
    {
     "name": "stdout",
     "output_type": "stream",
     "text": [
      "[openmc.deplete] t=549.0 s, dt=63.999999999999986 s, source=0.0\n"
     ]
    },
    {
     "name": "stdout",
     "output_type": "stream",
     "text": [
      "[openmc.deplete] t=613.0 s, dt=66.99999999999993 s, source=0.0\n"
     ]
    },
    {
     "name": "stdout",
     "output_type": "stream",
     "text": [
      "[openmc.deplete] t=679.9999999999999 s, dt=97.00000000000013 s, source=0.0\n"
     ]
    },
    {
     "name": "stdout",
     "output_type": "stream",
     "text": [
      "[openmc.deplete] t=777.0 s, dt=125.99999999999991 s, source=0.0\n"
     ]
    },
    {
     "name": "stdout",
     "output_type": "stream",
     "text": [
      "[openmc.deplete] t=902.9999999999999 s, dt=124.0 s, source=0.0\n"
     ]
    },
    {
     "name": "stdout",
     "output_type": "stream",
     "text": [
      "[openmc.deplete] t=1027.0 s, dt=188.00000000000006 s, source=0.0\n"
     ]
    },
    {
     "name": "stdout",
     "output_type": "stream",
     "text": [
      "[openmc.deplete] t=1215.0 s, dt=245.99999999999994 s, source=0.0\n"
     ]
    },
    {
     "name": "stdout",
     "output_type": "stream",
     "text": [
      "[openmc.deplete] t=1461.0 s, dt=246.00000000000009 s, source=0.0\n"
     ]
    },
    {
     "name": "stdout",
     "output_type": "stream",
     "text": [
      "[openmc.deplete] t=1707.0 s, dt=247.00000000000003 s, source=0.0\n"
     ]
    },
    {
     "name": "stdout",
     "output_type": "stream",
     "text": [
      "[openmc.deplete] t=1954.0 s, dt=427.0 s, source=0.0\n"
     ]
    },
    {
     "name": "stdout",
     "output_type": "stream",
     "text": [
      "[openmc.deplete] t=2381.0 s, dt=607.0 s, source=0.0\n"
     ]
    },
    {
     "name": "stdout",
     "output_type": "stream",
     "text": [
      "[openmc.deplete] t=2988.0 s, dt=607.0 s, source=0.0\n"
     ]
    },
    {
     "name": "stdout",
     "output_type": "stream",
     "text": [
      "[openmc.deplete] t=3595.0 (final operator evaluation)\n"
     ]
    },
    {
     "name": "stderr",
     "output_type": "stream",
     "text": [
      "/home/jon/.neutronicsworkshop_3.12/lib/python3.12/site-packages/openmc/deplete/results.py:94: FutureWarning: The ResultsList.from_hdf5(...) method is no longer necessary and will be removed in a future version of OpenMC. Use Results(...) instead.\n",
      "  warn(\n"
     ]
    },
    {
     "name": "stdout",
     "output_type": "stream",
     "text": [
      "[openmc.deplete] t=0.0 s, dt=25799.039999999997 s, source=10500000000.0\n"
     ]
    },
    {
     "name": "stdout",
     "output_type": "stream",
     "text": [
      "[openmc.deplete] t=25799.039999999997 s, dt=58579.200000000004 s, source=0.0\n"
     ]
    },
    {
     "name": "stderr",
     "output_type": "stream",
     "text": [
      "/home/jon/.neutronicsworkshop_3.12/lib/python3.12/site-packages/uncertainties/core.py:1024: UserWarning: Using UFloat objects with std_dev==0 may give unexpected results.\n",
      "  warn(\"Using UFloat objects with std_dev==0 may give unexpected results.\")\n"
     ]
    },
    {
     "name": "stdout",
     "output_type": "stream",
     "text": [
      "[openmc.deplete] t=84378.24 s, dt=90979.2 s, source=0.0\n"
     ]
    },
    {
     "name": "stdout",
     "output_type": "stream",
     "text": [
      "[openmc.deplete] t=175357.44 s, dt=186278.40000000002 s, source=0.0\n"
     ]
    },
    {
     "name": "stdout",
     "output_type": "stream",
     "text": [
      "[openmc.deplete] t=361635.84 s, dt=247622.39999999997 s, source=0.0\n"
     ]
    },
    {
     "name": "stdout",
     "output_type": "stream",
     "text": [
      "[openmc.deplete] t=609258.24 s, dt=470707.19999999995 s, source=0.0\n"
     ]
    },
    {
     "name": "stdout",
     "output_type": "stream",
     "text": [
      "[openmc.deplete] t=1079965.44 s, dt=1037577.6000000002 s, source=0.0\n"
     ]
    },
    {
     "name": "stdout",
     "output_type": "stream",
     "text": [
      "[openmc.deplete] t=2117543.04 s, dt=2225059.2 s, source=0.0\n"
     ]
    },
    {
     "name": "stdout",
     "output_type": "stream",
     "text": [
      "[openmc.deplete] t=4342602.24 s, dt=4331577.6 s, source=0.0\n"
     ]
    },
    {
     "name": "stdout",
     "output_type": "stream",
     "text": [
      "[openmc.deplete] t=8674179.84 s, dt=8455968.0 s, source=0.0\n"
     ]
    },
    {
     "name": "stdout",
     "output_type": "stream",
     "text": [
      "[openmc.deplete] t=17130147.84 s, dt=17643744.000000004 s, source=0.0\n"
     ]
    },
    {
     "name": "stdout",
     "output_type": "stream",
     "text": [
      "[openmc.deplete] t=34773891.84 (final operator evaluation)\n"
     ]
    },
    {
     "name": "stderr",
     "output_type": "stream",
     "text": [
      "/home/jon/.neutronicsworkshop_3.12/lib/python3.12/site-packages/openmc/deplete/results.py:94: FutureWarning: The ResultsList.from_hdf5(...) method is no longer necessary and will be removed in a future version of OpenMC. Use Results(...) instead.\n",
      "  warn(\n"
     ]
    },
    {
     "name": "stdout",
     "output_type": "stream",
     "text": [
      "[openmc.deplete] t=0.0 s, dt=300.0 s, source=11160000000.0\n"
     ]
    },
    {
     "name": "stdout",
     "output_type": "stream",
     "text": [
      "[openmc.deplete] t=300.0 s, dt=66.00000000000006 s, source=0.0\n"
     ]
    },
    {
     "name": "stderr",
     "output_type": "stream",
     "text": [
      "/home/jon/.neutronicsworkshop_3.12/lib/python3.12/site-packages/uncertainties/core.py:1024: UserWarning: Using UFloat objects with std_dev==0 may give unexpected results.\n",
      "  warn(\"Using UFloat objects with std_dev==0 may give unexpected results.\")\n"
     ]
    },
    {
     "name": "stdout",
     "output_type": "stream",
     "text": [
      "[openmc.deplete] t=366.00000000000006 s, dt=15.999999999999979 s, source=0.0\n"
     ]
    },
    {
     "name": "stdout",
     "output_type": "stream",
     "text": [
      "[openmc.deplete] t=382.00000000000006 s, dt=15.999999999999979 s, source=0.0\n"
     ]
    },
    {
     "name": "stdout",
     "output_type": "stream",
     "text": [
      "[openmc.deplete] t=398.00000000000006 s, dt=27.000000000000025 s, source=0.0\n"
     ]
    },
    {
     "name": "stdout",
     "output_type": "stream",
     "text": [
      "[openmc.deplete] t=425.00000000000006 s, dt=36.999999999999964 s, source=0.0\n"
     ]
    },
    {
     "name": "stdout",
     "output_type": "stream",
     "text": [
      "[openmc.deplete] t=462.0 s, dt=37.000000000000036 s, source=0.0\n"
     ]
    },
    {
     "name": "stdout",
     "output_type": "stream",
     "text": [
      "[openmc.deplete] t=499.00000000000006 s, dt=53.99999999999997 s, source=0.0\n"
     ]
    },
    {
     "name": "stdout",
     "output_type": "stream",
     "text": [
      "[openmc.deplete] t=553.0 s, dt=67.0 s, source=0.0\n"
     ]
    },
    {
     "name": "stdout",
     "output_type": "stream",
     "text": [
      "[openmc.deplete] t=620.0 s, dt=66.99999999999993 s, source=0.0\n"
     ]
    },
    {
     "name": "stdout",
     "output_type": "stream",
     "text": [
      "[openmc.deplete] t=686.9999999999999 s, dt=98.00000000000009 s, source=0.0\n"
     ]
    },
    {
     "name": "stdout",
     "output_type": "stream",
     "text": [
      "[openmc.deplete] t=785.0 s, dt=126.00000000000006 s, source=0.0\n"
     ]
    },
    {
     "name": "stdout",
     "output_type": "stream",
     "text": [
      "[openmc.deplete] t=911.0 s, dt=127.99999999999997 s, source=0.0\n"
     ]
    },
    {
     "name": "stdout",
     "output_type": "stream",
     "text": [
      "[openmc.deplete] t=1039.0 s, dt=127.99999999999997 s, source=0.0\n"
     ]
    },
    {
     "name": "stdout",
     "output_type": "stream",
     "text": [
      "[openmc.deplete] t=1167.0 s, dt=188.00000000000006 s, source=0.0\n"
     ]
    },
    {
     "name": "stdout",
     "output_type": "stream",
     "text": [
      "[openmc.deplete] t=1355.0 s, dt=247.00000000000003 s, source=0.0\n"
     ]
    },
    {
     "name": "stdout",
     "output_type": "stream",
     "text": [
      "[openmc.deplete] t=1602.0 s, dt=248.0 s, source=0.0\n"
     ]
    },
    {
     "name": "stdout",
     "output_type": "stream",
     "text": [
      "[openmc.deplete] t=1850.0 s, dt=243.9999999999999 s, source=0.0\n"
     ]
    },
    {
     "name": "stdout",
     "output_type": "stream",
     "text": [
      "[openmc.deplete] t=2094.0 s, dt=427.99999999999994 s, source=0.0\n"
     ]
    },
    {
     "name": "stdout",
     "output_type": "stream",
     "text": [
      "[openmc.deplete] t=2522.0 s, dt=607.9999999999999 s, source=0.0\n"
     ]
    },
    {
     "name": "stdout",
     "output_type": "stream",
     "text": [
      "[openmc.deplete] t=3130.0 s, dt=607.0 s, source=0.0\n"
     ]
    },
    {
     "name": "stdout",
     "output_type": "stream",
     "text": [
      "[openmc.deplete] t=3737.0 (final operator evaluation)\n"
     ]
    },
    {
     "name": "stderr",
     "output_type": "stream",
     "text": [
      "/home/jon/.neutronicsworkshop_3.12/lib/python3.12/site-packages/openmc/deplete/results.py:94: FutureWarning: The ResultsList.from_hdf5(...) method is no longer necessary and will be removed in a future version of OpenMC. Use Results(...) instead.\n",
      "  warn(\n"
     ]
    },
    {
     "name": "stdout",
     "output_type": "stream",
     "text": [
      "[openmc.deplete] t=0.0 s, dt=300.0 s, source=11160000000.0\n"
     ]
    },
    {
     "name": "stdout",
     "output_type": "stream",
     "text": [
      "[openmc.deplete] t=300.0 s, dt=51.00000000000003 s, source=0.0\n"
     ]
    },
    {
     "name": "stderr",
     "output_type": "stream",
     "text": [
      "/home/jon/.neutronicsworkshop_3.12/lib/python3.12/site-packages/uncertainties/core.py:1024: UserWarning: Using UFloat objects with std_dev==0 may give unexpected results.\n",
      "  warn(\"Using UFloat objects with std_dev==0 may give unexpected results.\")\n"
     ]
    },
    {
     "name": "stdout",
     "output_type": "stream",
     "text": [
      "[openmc.deplete] t=351.0 s, dt=15.000000000000021 s, source=0.0\n"
     ]
    },
    {
     "name": "stdout",
     "output_type": "stream",
     "text": [
      "[openmc.deplete] t=366.0 s, dt=14.999999999999947 s, source=0.0\n"
     ]
    },
    {
     "name": "stdout",
     "output_type": "stream",
     "text": [
      "[openmc.deplete] t=380.99999999999994 s, dt=15.000000000000021 s, source=0.0\n"
     ]
    },
    {
     "name": "stdout",
     "output_type": "stream",
     "text": [
      "[openmc.deplete] t=395.99999999999994 s, dt=25.999999999999993 s, source=0.0\n"
     ]
    },
    {
     "name": "stdout",
     "output_type": "stream",
     "text": [
      "[openmc.deplete] t=421.99999999999994 s, dt=36.00000000000001 s, source=0.0\n"
     ]
    },
    {
     "name": "stdout",
     "output_type": "stream",
     "text": [
      "[openmc.deplete] t=457.99999999999994 s, dt=32.999999999999986 s, source=0.0\n"
     ]
    },
    {
     "name": "stdout",
     "output_type": "stream",
     "text": [
      "[openmc.deplete] t=490.99999999999994 s, dt=51.999999999999986 s, source=0.0\n"
     ]
    },
    {
     "name": "stdout",
     "output_type": "stream",
     "text": [
      "[openmc.deplete] t=542.9999999999999 s, dt=66.00000000000006 s, source=0.0\n"
     ]
    },
    {
     "name": "stdout",
     "output_type": "stream",
     "text": [
      "[openmc.deplete] t=609.0 s, dt=66.99999999999993 s, source=0.0\n"
     ]
    },
    {
     "name": "stdout",
     "output_type": "stream",
     "text": [
      "[openmc.deplete] t=675.9999999999999 s, dt=94.0000000000001 s, source=0.0\n"
     ]
    },
    {
     "name": "stdout",
     "output_type": "stream",
     "text": [
      "[openmc.deplete] t=770.0 s, dt=125.99999999999991 s, source=0.0\n"
     ]
    },
    {
     "name": "stdout",
     "output_type": "stream",
     "text": [
      "[openmc.deplete] t=895.9999999999999 s, dt=123.00000000000004 s, source=0.0\n"
     ]
    },
    {
     "name": "stdout",
     "output_type": "stream",
     "text": [
      "[openmc.deplete] t=1018.9999999999999 s, dt=186.99999999999994 s, source=0.0\n"
     ]
    },
    {
     "name": "stdout",
     "output_type": "stream",
     "text": [
      "[openmc.deplete] t=1205.9999999999998 s, dt=244.00000000000017 s, source=0.0\n"
     ]
    },
    {
     "name": "stdout",
     "output_type": "stream",
     "text": [
      "[openmc.deplete] t=1450.0 s, dt=245.99999999999977 s, source=0.0\n"
     ]
    },
    {
     "name": "stdout",
     "output_type": "stream",
     "text": [
      "[openmc.deplete] t=1695.9999999999998 s, dt=247.00000000000003 s, source=0.0\n"
     ]
    },
    {
     "name": "stdout",
     "output_type": "stream",
     "text": [
      "[openmc.deplete] t=1942.9999999999998 s, dt=424.0000000000001 s, source=0.0\n"
     ]
    },
    {
     "name": "stdout",
     "output_type": "stream",
     "text": [
      "[openmc.deplete] t=2367.0 s, dt=606.0 s, source=0.0\n"
     ]
    },
    {
     "name": "stdout",
     "output_type": "stream",
     "text": [
      "[openmc.deplete] t=2973.0 s, dt=607.0 s, source=0.0\n"
     ]
    },
    {
     "name": "stdout",
     "output_type": "stream",
     "text": [
      "[openmc.deplete] t=3580.0 (final operator evaluation)\n"
     ]
    },
    {
     "name": "stderr",
     "output_type": "stream",
     "text": [
      "/home/jon/.neutronicsworkshop_3.12/lib/python3.12/site-packages/openmc/deplete/results.py:94: FutureWarning: The ResultsList.from_hdf5(...) method is no longer necessary and will be removed in a future version of OpenMC. Use Results(...) instead.\n",
      "  warn(\n"
     ]
    },
    {
     "name": "stdout",
     "output_type": "stream",
     "text": [
      "[openmc.deplete] t=0.0 s, dt=25799.039999999997 s, source=10500000000.0\n"
     ]
    },
    {
     "name": "stdout",
     "output_type": "stream",
     "text": [
      "[openmc.deplete] t=25799.039999999997 s, dt=59184.000000000015 s, source=0.0\n"
     ]
    },
    {
     "name": "stderr",
     "output_type": "stream",
     "text": [
      "/home/jon/.neutronicsworkshop_3.12/lib/python3.12/site-packages/uncertainties/core.py:1024: UserWarning: Using UFloat objects with std_dev==0 may give unexpected results.\n",
      "  warn(\"Using UFloat objects with std_dev==0 may give unexpected results.\")\n"
     ]
    },
    {
     "name": "stdout",
     "output_type": "stream",
     "text": [
      "[openmc.deplete] t=84983.04000000001 s, dt=91238.40000000001 s, source=0.0\n"
     ]
    },
    {
     "name": "stdout",
     "output_type": "stream",
     "text": [
      "[openmc.deplete] t=176221.44 s, dt=186105.6 s, source=0.0\n"
     ]
    },
    {
     "name": "stdout",
     "output_type": "stream",
     "text": [
      "[openmc.deplete] t=362327.04000000004 s, dt=247536.00000000003 s, source=0.0\n"
     ]
    },
    {
     "name": "stdout",
     "output_type": "stream",
     "text": [
      "[openmc.deplete] t=609863.04 s, dt=470880.0000000001 s, source=0.0\n"
     ]
    },
    {
     "name": "stdout",
     "output_type": "stream",
     "text": [
      "[openmc.deplete] t=1080743.04 s, dt=1037231.9999999999 s, source=0.0\n"
     ]
    },
    {
     "name": "stdout",
     "output_type": "stream",
     "text": [
      "[openmc.deplete] t=2117975.04 s, dt=2224972.8 s, source=0.0\n"
     ]
    },
    {
     "name": "stdout",
     "output_type": "stream",
     "text": [
      "[openmc.deplete] t=4342947.84 s, dt=4331318.4 s, source=0.0\n"
     ]
    },
    {
     "name": "stdout",
     "output_type": "stream",
     "text": [
      "[openmc.deplete] t=8674266.24 s, dt=8455104.000000002 s, source=0.0\n"
     ]
    },
    {
     "name": "stdout",
     "output_type": "stream",
     "text": [
      "[openmc.deplete] t=17129370.240000002 s, dt=17643744.0 s, source=0.0\n"
     ]
    },
    {
     "name": "stdout",
     "output_type": "stream",
     "text": [
      "[openmc.deplete] t=34773114.24 (final operator evaluation)\n"
     ]
    },
    {
     "name": "stderr",
     "output_type": "stream",
     "text": [
      "/home/jon/.neutronicsworkshop_3.12/lib/python3.12/site-packages/openmc/deplete/results.py:94: FutureWarning: The ResultsList.from_hdf5(...) method is no longer necessary and will be removed in a future version of OpenMC. Use Results(...) instead.\n",
      "  warn(\n"
     ]
    },
    {
     "name": "stdout",
     "output_type": "stream",
     "text": [
      "[openmc.deplete] t=0.0 s, dt=300.0 s, source=11160000000.0\n"
     ]
    },
    {
     "name": "stdout",
     "output_type": "stream",
     "text": [
      "[openmc.deplete] t=300.0 s, dt=66.00000000000006 s, source=0.0\n"
     ]
    },
    {
     "name": "stderr",
     "output_type": "stream",
     "text": [
      "/home/jon/.neutronicsworkshop_3.12/lib/python3.12/site-packages/uncertainties/core.py:1024: UserWarning: Using UFloat objects with std_dev==0 may give unexpected results.\n",
      "  warn(\"Using UFloat objects with std_dev==0 may give unexpected results.\")\n"
     ]
    },
    {
     "name": "stdout",
     "output_type": "stream",
     "text": [
      "[openmc.deplete] t=366.00000000000006 s, dt=15.999999999999979 s, source=0.0\n"
     ]
    },
    {
     "name": "stdout",
     "output_type": "stream",
     "text": [
      "[openmc.deplete] t=382.00000000000006 s, dt=15.999999999999979 s, source=0.0\n"
     ]
    },
    {
     "name": "stdout",
     "output_type": "stream",
     "text": [
      "[openmc.deplete] t=398.00000000000006 s, dt=27.000000000000025 s, source=0.0\n"
     ]
    },
    {
     "name": "stdout",
     "output_type": "stream",
     "text": [
      "[openmc.deplete] t=425.00000000000006 s, dt=32.999999999999986 s, source=0.0\n"
     ]
    },
    {
     "name": "stdout",
     "output_type": "stream",
     "text": [
      "[openmc.deplete] t=458.00000000000006 s, dt=37.99999999999999 s, source=0.0\n"
     ]
    },
    {
     "name": "stdout",
     "output_type": "stream",
     "text": [
      "[openmc.deplete] t=496.00000000000006 s, dt=53.000000000000014 s, source=0.0\n"
     ]
    },
    {
     "name": "stdout",
     "output_type": "stream",
     "text": [
      "[openmc.deplete] t=549.0000000000001 s, dt=67.0 s, source=0.0\n"
     ]
    },
    {
     "name": "stdout",
     "output_type": "stream",
     "text": [
      "[openmc.deplete] t=616.0000000000001 s, dt=68.00000000000004 s, source=0.0\n"
     ]
    },
    {
     "name": "stdout",
     "output_type": "stream",
     "text": [
      "[openmc.deplete] t=684.0000000000001 s, dt=97.99999999999993 s, source=0.0\n"
     ]
    },
    {
     "name": "stdout",
     "output_type": "stream",
     "text": [
      "[openmc.deplete] t=782.0 s, dt=124.0 s, source=0.0\n"
     ]
    },
    {
     "name": "stdout",
     "output_type": "stream",
     "text": [
      "[openmc.deplete] t=906.0 s, dt=127.00000000000001 s, source=0.0\n"
     ]
    },
    {
     "name": "stdout",
     "output_type": "stream",
     "text": [
      "[openmc.deplete] t=1033.0 s, dt=124.99999999999996 s, source=0.0\n"
     ]
    },
    {
     "name": "stdout",
     "output_type": "stream",
     "text": [
      "[openmc.deplete] t=1158.0 s, dt=188.00000000000006 s, source=0.0\n"
     ]
    },
    {
     "name": "stdout",
     "output_type": "stream",
     "text": [
      "[openmc.deplete] t=1346.0 s, dt=246.9999999999999 s, source=0.0\n"
     ]
    },
    {
     "name": "stdout",
     "output_type": "stream",
     "text": [
      "[openmc.deplete] t=1593.0 s, dt=248.0 s, source=0.0\n"
     ]
    },
    {
     "name": "stdout",
     "output_type": "stream",
     "text": [
      "[openmc.deplete] t=1841.0 s, dt=247.00000000000003 s, source=0.0\n"
     ]
    },
    {
     "name": "stdout",
     "output_type": "stream",
     "text": [
      "[openmc.deplete] t=2088.0 s, dt=426.00000000000006 s, source=0.0\n"
     ]
    },
    {
     "name": "stdout",
     "output_type": "stream",
     "text": [
      "[openmc.deplete] t=2514.0 s, dt=604.9999999999998 s, source=0.0\n"
     ]
    },
    {
     "name": "stdout",
     "output_type": "stream",
     "text": [
      "[openmc.deplete] t=3119.0 s, dt=604.0000000000001 s, source=0.0\n"
     ]
    },
    {
     "name": "stdout",
     "output_type": "stream",
     "text": [
      "[openmc.deplete] t=3723.0 (final operator evaluation)\n"
     ]
    },
    {
     "name": "stderr",
     "output_type": "stream",
     "text": [
      "/home/jon/.neutronicsworkshop_3.12/lib/python3.12/site-packages/openmc/deplete/results.py:94: FutureWarning: The ResultsList.from_hdf5(...) method is no longer necessary and will be removed in a future version of OpenMC. Use Results(...) instead.\n",
      "  warn(\n"
     ]
    },
    {
     "name": "stdout",
     "output_type": "stream",
     "text": [
      "[openmc.deplete] t=0.0 s, dt=300.0 s, source=11160000000.0\n"
     ]
    },
    {
     "name": "stdout",
     "output_type": "stream",
     "text": [
      "[openmc.deplete] t=300.0 s, dt=35.000000000000014 s, source=0.0\n"
     ]
    },
    {
     "name": "stderr",
     "output_type": "stream",
     "text": [
      "/home/jon/.neutronicsworkshop_3.12/lib/python3.12/site-packages/uncertainties/core.py:1024: UserWarning: Using UFloat objects with std_dev==0 may give unexpected results.\n",
      "  warn(\"Using UFloat objects with std_dev==0 may give unexpected results.\")\n"
     ]
    },
    {
     "name": "stdout",
     "output_type": "stream",
     "text": [
      "[openmc.deplete] t=335.0 s, dt=14.999999999999984 s, source=0.0\n"
     ]
    },
    {
     "name": "stdout",
     "output_type": "stream",
     "text": [
      "[openmc.deplete] t=350.0 s, dt=16.000000000000053 s, source=0.0\n"
     ]
    },
    {
     "name": "stdout",
     "output_type": "stream",
     "text": [
      "[openmc.deplete] t=366.00000000000006 s, dt=14.999999999999947 s, source=0.0\n"
     ]
    },
    {
     "name": "stdout",
     "output_type": "stream",
     "text": [
      "[openmc.deplete] t=381.0 s, dt=15.000000000000021 s, source=0.0\n"
     ]
    },
    {
     "name": "stdout",
     "output_type": "stream",
     "text": [
      "[openmc.deplete] t=396.0 s, dt=24.99999999999996 s, source=0.0\n"
     ]
    },
    {
     "name": "stdout",
     "output_type": "stream",
     "text": [
      "[openmc.deplete] t=420.99999999999994 s, dt=36.00000000000001 s, source=0.0\n"
     ]
    },
    {
     "name": "stdout",
     "output_type": "stream",
     "text": [
      "[openmc.deplete] t=456.99999999999994 s, dt=36.00000000000001 s, source=0.0\n"
     ]
    },
    {
     "name": "stdout",
     "output_type": "stream",
     "text": [
      "[openmc.deplete] t=492.99999999999994 s, dt=53.000000000000014 s, source=0.0\n"
     ]
    },
    {
     "name": "stdout",
     "output_type": "stream",
     "text": [
      "[openmc.deplete] t=546.0 s, dt=65.99999999999997 s, source=0.0\n"
     ]
    },
    {
     "name": "stdout",
     "output_type": "stream",
     "text": [
      "[openmc.deplete] t=612.0 s, dt=66.00000000000006 s, source=0.0\n"
     ]
    },
    {
     "name": "stdout",
     "output_type": "stream",
     "text": [
      "[openmc.deplete] t=678.0 s, dt=96.99999999999997 s, source=0.0\n"
     ]
    },
    {
     "name": "stdout",
     "output_type": "stream",
     "text": [
      "[openmc.deplete] t=775.0 s, dt=127.00000000000001 s, source=0.0\n"
     ]
    },
    {
     "name": "stdout",
     "output_type": "stream",
     "text": [
      "[openmc.deplete] t=902.0 s, dt=126.00000000000006 s, source=0.0\n"
     ]
    },
    {
     "name": "stdout",
     "output_type": "stream",
     "text": [
      "[openmc.deplete] t=1028.0 s, dt=186.0 s, source=0.0\n"
     ]
    },
    {
     "name": "stdout",
     "output_type": "stream",
     "text": [
      "[openmc.deplete] t=1214.0 s, dt=246.9999999999999 s, source=0.0\n"
     ]
    },
    {
     "name": "stdout",
     "output_type": "stream",
     "text": [
      "[openmc.deplete] t=1461.0 s, dt=246.00000000000009 s, source=0.0\n"
     ]
    },
    {
     "name": "stdout",
     "output_type": "stream",
     "text": [
      "[openmc.deplete] t=1707.0 s, dt=246.00000000000009 s, source=0.0\n"
     ]
    },
    {
     "name": "stdout",
     "output_type": "stream",
     "text": [
      "[openmc.deplete] t=1953.0 s, dt=424.9999999999998 s, source=0.0\n"
     ]
    },
    {
     "name": "stdout",
     "output_type": "stream",
     "text": [
      "[openmc.deplete] t=2378.0 s, dt=606.0000000000003 s, source=0.0\n"
     ]
    },
    {
     "name": "stdout",
     "output_type": "stream",
     "text": [
      "[openmc.deplete] t=2984.0000000000005 s, dt=606.0 s, source=0.0\n"
     ]
    },
    {
     "name": "stdout",
     "output_type": "stream",
     "text": [
      "[openmc.deplete] t=3590.0000000000005 (final operator evaluation)\n"
     ]
    },
    {
     "name": "stderr",
     "output_type": "stream",
     "text": [
      "/home/jon/.neutronicsworkshop_3.12/lib/python3.12/site-packages/openmc/deplete/results.py:94: FutureWarning: The ResultsList.from_hdf5(...) method is no longer necessary and will be removed in a future version of OpenMC. Use Results(...) instead.\n",
      "  warn(\n"
     ]
    },
    {
     "name": "stdout",
     "output_type": "stream",
     "text": [
      "[openmc.deplete] t=0.0 s, dt=300.0 s, source=11160000000.0\n"
     ]
    },
    {
     "name": "stdout",
     "output_type": "stream",
     "text": [
      "[openmc.deplete] t=300.0 s, dt=51.00000000000003 s, source=0.0\n"
     ]
    },
    {
     "name": "stderr",
     "output_type": "stream",
     "text": [
      "/home/jon/.neutronicsworkshop_3.12/lib/python3.12/site-packages/uncertainties/core.py:1024: UserWarning: Using UFloat objects with std_dev==0 may give unexpected results.\n",
      "  warn(\"Using UFloat objects with std_dev==0 may give unexpected results.\")\n"
     ]
    },
    {
     "name": "stdout",
     "output_type": "stream",
     "text": [
      "[openmc.deplete] t=351.0 s, dt=15.000000000000021 s, source=0.0\n"
     ]
    },
    {
     "name": "stdout",
     "output_type": "stream",
     "text": [
      "[openmc.deplete] t=366.0 s, dt=15.999999999999979 s, source=0.0\n"
     ]
    },
    {
     "name": "stdout",
     "output_type": "stream",
     "text": [
      "[openmc.deplete] t=382.0 s, dt=15.000000000000021 s, source=0.0\n"
     ]
    },
    {
     "name": "stdout",
     "output_type": "stream",
     "text": [
      "[openmc.deplete] t=397.0 s, dt=25.999999999999993 s, source=0.0\n"
     ]
    },
    {
     "name": "stdout",
     "output_type": "stream",
     "text": [
      "[openmc.deplete] t=423.0 s, dt=36.999999999999964 s, source=0.0\n"
     ]
    },
    {
     "name": "stdout",
     "output_type": "stream",
     "text": [
      "[openmc.deplete] t=459.99999999999994 s, dt=36.00000000000001 s, source=0.0\n"
     ]
    },
    {
     "name": "stdout",
     "output_type": "stream",
     "text": [
      "[openmc.deplete] t=495.99999999999994 s, dt=53.000000000000014 s, source=0.0\n"
     ]
    },
    {
     "name": "stdout",
     "output_type": "stream",
     "text": [
      "[openmc.deplete] t=549.0 s, dt=65.99999999999997 s, source=0.0\n"
     ]
    },
    {
     "name": "stdout",
     "output_type": "stream",
     "text": [
      "[openmc.deplete] t=615.0 s, dt=66.00000000000006 s, source=0.0\n"
     ]
    },
    {
     "name": "stdout",
     "output_type": "stream",
     "text": [
      "[openmc.deplete] t=681.0 s, dt=97.99999999999993 s, source=0.0\n"
     ]
    },
    {
     "name": "stdout",
     "output_type": "stream",
     "text": [
      "[openmc.deplete] t=778.9999999999999 s, dt=126.00000000000006 s, source=0.0\n"
     ]
    },
    {
     "name": "stdout",
     "output_type": "stream",
     "text": [
      "[openmc.deplete] t=905.0 s, dt=124.0 s, source=0.0\n"
     ]
    },
    {
     "name": "stdout",
     "output_type": "stream",
     "text": [
      "[openmc.deplete] t=1029.0 s, dt=186.99999999999994 s, source=0.0\n"
     ]
    },
    {
     "name": "stdout",
     "output_type": "stream",
     "text": [
      "[openmc.deplete] t=1216.0 s, dt=245.99999999999994 s, source=0.0\n"
     ]
    },
    {
     "name": "stdout",
     "output_type": "stream",
     "text": [
      "[openmc.deplete] t=1462.0 s, dt=247.00000000000003 s, source=0.0\n"
     ]
    },
    {
     "name": "stdout",
     "output_type": "stream",
     "text": [
      "[openmc.deplete] t=1709.0 s, dt=246.00000000000009 s, source=0.0\n"
     ]
    },
    {
     "name": "stdout",
     "output_type": "stream",
     "text": [
      "[openmc.deplete] t=1955.0 s, dt=427.99999999999994 s, source=0.0\n"
     ]
    },
    {
     "name": "stdout",
     "output_type": "stream",
     "text": [
      "[openmc.deplete] t=2383.0 s, dt=607.0 s, source=0.0\n"
     ]
    },
    {
     "name": "stdout",
     "output_type": "stream",
     "text": [
      "[openmc.deplete] t=2990.0 s, dt=607.0 s, source=0.0\n"
     ]
    },
    {
     "name": "stdout",
     "output_type": "stream",
     "text": [
      "[openmc.deplete] t=3597.0 (final operator evaluation)\n"
     ]
    },
    {
     "name": "stderr",
     "output_type": "stream",
     "text": [
      "/home/jon/.neutronicsworkshop_3.12/lib/python3.12/site-packages/openmc/deplete/results.py:94: FutureWarning: The ResultsList.from_hdf5(...) method is no longer necessary and will be removed in a future version of OpenMC. Use Results(...) instead.\n",
      "  warn(\n"
     ]
    },
    {
     "name": "stdout",
     "output_type": "stream",
     "text": [
      "[openmc.deplete] t=0.0 s, dt=300.0 s, source=11160000000.0\n"
     ]
    },
    {
     "name": "stdout",
     "output_type": "stream",
     "text": [
      "[openmc.deplete] t=300.0 s, dt=35.000000000000014 s, source=0.0\n"
     ]
    },
    {
     "name": "stderr",
     "output_type": "stream",
     "text": [
      "/home/jon/.neutronicsworkshop_3.12/lib/python3.12/site-packages/uncertainties/core.py:1024: UserWarning: Using UFloat objects with std_dev==0 may give unexpected results.\n",
      "  warn(\"Using UFloat objects with std_dev==0 may give unexpected results.\")\n"
     ]
    },
    {
     "name": "stdout",
     "output_type": "stream",
     "text": [
      "[openmc.deplete] t=335.0 s, dt=14.999999999999984 s, source=0.0\n"
     ]
    },
    {
     "name": "stdout",
     "output_type": "stream",
     "text": [
      "[openmc.deplete] t=350.0 s, dt=15.000000000000021 s, source=0.0\n"
     ]
    },
    {
     "name": "stdout",
     "output_type": "stream",
     "text": [
      "[openmc.deplete] t=365.0 s, dt=15.000000000000021 s, source=0.0\n"
     ]
    },
    {
     "name": "stdout",
     "output_type": "stream",
     "text": [
      "[openmc.deplete] t=380.0 s, dt=15.999999999999979 s, source=0.0\n"
     ]
    },
    {
     "name": "stdout",
     "output_type": "stream",
     "text": [
      "[openmc.deplete] t=396.0 s, dt=24.99999999999996 s, source=0.0\n"
     ]
    },
    {
     "name": "stdout",
     "output_type": "stream",
     "text": [
      "[openmc.deplete] t=420.99999999999994 s, dt=37.000000000000036 s, source=0.0\n"
     ]
    },
    {
     "name": "stdout",
     "output_type": "stream",
     "text": [
      "[openmc.deplete] t=458.0 s, dt=32.999999999999986 s, source=0.0\n"
     ]
    },
    {
     "name": "stdout",
     "output_type": "stream",
     "text": [
      "[openmc.deplete] t=491.0 s, dt=51.00000000000003 s, source=0.0\n"
     ]
    },
    {
     "name": "stdout",
     "output_type": "stream",
     "text": [
      "[openmc.deplete] t=542.0 s, dt=67.0 s, source=0.0\n"
     ]
    },
    {
     "name": "stdout",
     "output_type": "stream",
     "text": [
      "[openmc.deplete] t=609.0 s, dt=65.99999999999997 s, source=0.0\n"
     ]
    },
    {
     "name": "stdout",
     "output_type": "stream",
     "text": [
      "[openmc.deplete] t=675.0 s, dt=93.99999999999996 s, source=0.0\n"
     ]
    },
    {
     "name": "stdout",
     "output_type": "stream",
     "text": [
      "[openmc.deplete] t=769.0 s, dt=126.00000000000006 s, source=0.0\n"
     ]
    },
    {
     "name": "stdout",
     "output_type": "stream",
     "text": [
      "[openmc.deplete] t=895.0 s, dt=125.99999999999991 s, source=0.0\n"
     ]
    },
    {
     "name": "stdout",
     "output_type": "stream",
     "text": [
      "[openmc.deplete] t=1020.9999999999999 s, dt=187.0000000000001 s, source=0.0\n"
     ]
    },
    {
     "name": "stdout",
     "output_type": "stream",
     "text": [
      "[openmc.deplete] t=1208.0 s, dt=245.99999999999994 s, source=0.0\n"
     ]
    },
    {
     "name": "stdout",
     "output_type": "stream",
     "text": [
      "[openmc.deplete] t=1454.0 s, dt=242.99999999999991 s, source=0.0\n"
     ]
    },
    {
     "name": "stdout",
     "output_type": "stream",
     "text": [
      "[openmc.deplete] t=1697.0 s, dt=246.00000000000009 s, source=0.0\n"
     ]
    },
    {
     "name": "stdout",
     "output_type": "stream",
     "text": [
      "[openmc.deplete] t=1943.0 s, dt=427.0 s, source=0.0\n"
     ]
    },
    {
     "name": "stdout",
     "output_type": "stream",
     "text": [
      "[openmc.deplete] t=2370.0 s, dt=603.0000000000001 s, source=0.0\n"
     ]
    },
    {
     "name": "stdout",
     "output_type": "stream",
     "text": [
      "[openmc.deplete] t=2973.0 s, dt=606.0 s, source=0.0\n"
     ]
    },
    {
     "name": "stdout",
     "output_type": "stream",
     "text": [
      "[openmc.deplete] t=3579.0 (final operator evaluation)\n"
     ]
    },
    {
     "name": "stderr",
     "output_type": "stream",
     "text": [
      "/home/jon/.neutronicsworkshop_3.12/lib/python3.12/site-packages/openmc/deplete/results.py:94: FutureWarning: The ResultsList.from_hdf5(...) method is no longer necessary and will be removed in a future version of OpenMC. Use Results(...) instead.\n",
      "  warn(\n"
     ]
    },
    {
     "name": "stdout",
     "output_type": "stream",
     "text": [
      "[openmc.deplete] t=0.0 s, dt=27267.84 s, source=10500000000.0\n"
     ]
    },
    {
     "name": "stdout",
     "output_type": "stream",
     "text": [
      "[openmc.deplete] t=27267.84 s, dt=55814.4 s, source=0.0\n"
     ]
    },
    {
     "name": "stderr",
     "output_type": "stream",
     "text": [
      "/home/jon/.neutronicsworkshop_3.12/lib/python3.12/site-packages/uncertainties/core.py:1024: UserWarning: Using UFloat objects with std_dev==0 may give unexpected results.\n",
      "  warn(\"Using UFloat objects with std_dev==0 may give unexpected results.\")\n"
     ]
    },
    {
     "name": "stdout",
     "output_type": "stream",
     "text": [
      "[openmc.deplete] t=83082.24 s, dt=58147.200000000004 s, source=0.0\n"
     ]
    },
    {
     "name": "stdout",
     "output_type": "stream",
     "text": [
      "[openmc.deplete] t=141229.44 s, dt=136598.39999999997 s, source=0.0\n"
     ]
    },
    {
     "name": "stdout",
     "output_type": "stream",
     "text": [
      "[openmc.deplete] t=277827.83999999997 s, dt=342748.79999999993 s, source=0.0\n"
     ]
    },
    {
     "name": "stdout",
     "output_type": "stream",
     "text": [
      "[openmc.deplete] t=620576.6399999999 s, dt=519955.1999999999 s, source=0.0\n"
     ]
    },
    {
     "name": "stdout",
     "output_type": "stream",
     "text": [
      "[openmc.deplete] t=1140531.8399999999 s, dt=951264.0000000001 s, source=0.0\n"
     ]
    },
    {
     "name": "stdout",
     "output_type": "stream",
     "text": [
      "[openmc.deplete] t=2091795.8399999999 s, dt=2231366.4 s, source=0.0\n"
     ]
    },
    {
     "name": "stdout",
     "output_type": "stream",
     "text": [
      "[openmc.deplete] t=4323162.24 s, dt=4336848.0 s, source=0.0\n"
     ]
    },
    {
     "name": "stdout",
     "output_type": "stream",
     "text": [
      "[openmc.deplete] t=8660010.24 s, dt=8659008.000000002 s, source=0.0\n"
     ]
    },
    {
     "name": "stdout",
     "output_type": "stream",
     "text": [
      "[openmc.deplete] t=17319018.240000002 s, dt=17697312.0 s, source=0.0\n"
     ]
    },
    {
     "name": "stdout",
     "output_type": "stream",
     "text": [
      "[openmc.deplete] t=35016330.24 (final operator evaluation)\n"
     ]
    },
    {
     "name": "stderr",
     "output_type": "stream",
     "text": [
      "/home/jon/.neutronicsworkshop_3.12/lib/python3.12/site-packages/openmc/deplete/results.py:94: FutureWarning: The ResultsList.from_hdf5(...) method is no longer necessary and will be removed in a future version of OpenMC. Use Results(...) instead.\n",
      "  warn(\n"
     ]
    },
    {
     "name": "stdout",
     "output_type": "stream",
     "text": [
      "[openmc.deplete] t=0.0 s, dt=300.0 s, source=11350000000.0\n"
     ]
    },
    {
     "name": "stdout",
     "output_type": "stream",
     "text": [
      "[openmc.deplete] t=300.0 s, dt=66.00000000000006 s, source=0.0\n"
     ]
    },
    {
     "name": "stderr",
     "output_type": "stream",
     "text": [
      "/home/jon/.neutronicsworkshop_3.12/lib/python3.12/site-packages/uncertainties/core.py:1024: UserWarning: Using UFloat objects with std_dev==0 may give unexpected results.\n",
      "  warn(\"Using UFloat objects with std_dev==0 may give unexpected results.\")\n"
     ]
    },
    {
     "name": "stdout",
     "output_type": "stream",
     "text": [
      "[openmc.deplete] t=366.00000000000006 s, dt=15.999999999999979 s, source=0.0\n"
     ]
    },
    {
     "name": "stdout",
     "output_type": "stream",
     "text": [
      "[openmc.deplete] t=382.00000000000006 s, dt=15.999999999999979 s, source=0.0\n"
     ]
    },
    {
     "name": "stdout",
     "output_type": "stream",
     "text": [
      "[openmc.deplete] t=398.00000000000006 s, dt=27.000000000000025 s, source=0.0\n"
     ]
    },
    {
     "name": "stdout",
     "output_type": "stream",
     "text": [
      "[openmc.deplete] t=425.00000000000006 s, dt=36.999999999999964 s, source=0.0\n"
     ]
    },
    {
     "name": "stdout",
     "output_type": "stream",
     "text": [
      "[openmc.deplete] t=462.0 s, dt=37.000000000000036 s, source=0.0\n"
     ]
    },
    {
     "name": "stdout",
     "output_type": "stream",
     "text": [
      "[openmc.deplete] t=499.00000000000006 s, dt=53.000000000000014 s, source=0.0\n"
     ]
    },
    {
     "name": "stdout",
     "output_type": "stream",
     "text": [
      "[openmc.deplete] t=552.0000000000001 s, dt=63.999999999999986 s, source=0.0\n"
     ]
    },
    {
     "name": "stdout",
     "output_type": "stream",
     "text": [
      "[openmc.deplete] t=616.0000000000001 s, dt=65.99999999999997 s, source=0.0\n"
     ]
    },
    {
     "name": "stdout",
     "output_type": "stream",
     "text": [
      "[openmc.deplete] t=682.0000000000001 s, dt=97.99999999999993 s, source=0.0\n"
     ]
    },
    {
     "name": "stdout",
     "output_type": "stream",
     "text": [
      "[openmc.deplete] t=780.0 s, dt=127.00000000000001 s, source=0.0\n"
     ]
    },
    {
     "name": "stdout",
     "output_type": "stream",
     "text": [
      "[openmc.deplete] t=907.0 s, dt=127.00000000000001 s, source=0.0\n"
     ]
    },
    {
     "name": "stdout",
     "output_type": "stream",
     "text": [
      "[openmc.deplete] t=1034.0 s, dt=127.00000000000001 s, source=0.0\n"
     ]
    },
    {
     "name": "stdout",
     "output_type": "stream",
     "text": [
      "[openmc.deplete] t=1161.0 s, dt=186.99999999999994 s, source=0.0\n"
     ]
    },
    {
     "name": "stdout",
     "output_type": "stream",
     "text": [
      "[openmc.deplete] t=1348.0 s, dt=244.00000000000003 s, source=0.0\n"
     ]
    },
    {
     "name": "stdout",
     "output_type": "stream",
     "text": [
      "[openmc.deplete] t=1592.0 s, dt=247.00000000000003 s, source=0.0\n"
     ]
    },
    {
     "name": "stdout",
     "output_type": "stream",
     "text": [
      "[openmc.deplete] t=1839.0 s, dt=247.00000000000003 s, source=0.0\n"
     ]
    },
    {
     "name": "stdout",
     "output_type": "stream",
     "text": [
      "[openmc.deplete] t=2086.0 s, dt=427.99999999999994 s, source=0.0\n"
     ]
    },
    {
     "name": "stdout",
     "output_type": "stream",
     "text": [
      "[openmc.deplete] t=2514.0 s, dt=603.9999999999998 s, source=0.0\n"
     ]
    },
    {
     "name": "stdout",
     "output_type": "stream",
     "text": [
      "[openmc.deplete] t=3118.0 s, dt=607.9999999999999 s, source=0.0\n"
     ]
    },
    {
     "name": "stdout",
     "output_type": "stream",
     "text": [
      "[openmc.deplete] t=3726.0 (final operator evaluation)\n"
     ]
    },
    {
     "name": "stderr",
     "output_type": "stream",
     "text": [
      "/home/jon/.neutronicsworkshop_3.12/lib/python3.12/site-packages/openmc/deplete/results.py:94: FutureWarning: The ResultsList.from_hdf5(...) method is no longer necessary and will be removed in a future version of OpenMC. Use Results(...) instead.\n",
      "  warn(\n"
     ]
    },
    {
     "name": "stdout",
     "output_type": "stream",
     "text": [
      "[openmc.deplete] t=0.0 s, dt=300.0 s, source=11160000000.0\n"
     ]
    },
    {
     "name": "stdout",
     "output_type": "stream",
     "text": [
      "[openmc.deplete] t=300.0 s, dt=36.00000000000001 s, source=0.0\n"
     ]
    },
    {
     "name": "stderr",
     "output_type": "stream",
     "text": [
      "/home/jon/.neutronicsworkshop_3.12/lib/python3.12/site-packages/uncertainties/core.py:1024: UserWarning: Using UFloat objects with std_dev==0 may give unexpected results.\n",
      "  warn(\"Using UFloat objects with std_dev==0 may give unexpected results.\")\n"
     ]
    },
    {
     "name": "stdout",
     "output_type": "stream",
     "text": [
      "[openmc.deplete] t=336.0 s, dt=15.000000000000021 s, source=0.0\n"
     ]
    },
    {
     "name": "stdout",
     "output_type": "stream",
     "text": [
      "[openmc.deplete] t=351.0 s, dt=15.999999999999979 s, source=0.0\n"
     ]
    },
    {
     "name": "stdout",
     "output_type": "stream",
     "text": [
      "[openmc.deplete] t=367.0 s, dt=15.000000000000021 s, source=0.0\n"
     ]
    },
    {
     "name": "stdout",
     "output_type": "stream",
     "text": [
      "[openmc.deplete] t=382.0 s, dt=15.000000000000021 s, source=0.0\n"
     ]
    },
    {
     "name": "stdout",
     "output_type": "stream",
     "text": [
      "[openmc.deplete] t=397.0 s, dt=25.999999999999993 s, source=0.0\n"
     ]
    },
    {
     "name": "stdout",
     "output_type": "stream",
     "text": [
      "[openmc.deplete] t=423.0 s, dt=33.99999999999994 s, source=0.0\n"
     ]
    },
    {
     "name": "stdout",
     "output_type": "stream",
     "text": [
      "[openmc.deplete] t=456.99999999999994 s, dt=36.00000000000001 s, source=0.0\n"
     ]
    },
    {
     "name": "stdout",
     "output_type": "stream",
     "text": [
      "[openmc.deplete] t=492.99999999999994 s, dt=52.00000000000006 s, source=0.0\n"
     ]
    },
    {
     "name": "stdout",
     "output_type": "stream",
     "text": [
      "[openmc.deplete] t=545.0 s, dt=66.99999999999993 s, source=0.0\n"
     ]
    },
    {
     "name": "stdout",
     "output_type": "stream",
     "text": [
      "[openmc.deplete] t=611.9999999999999 s, dt=66.00000000000006 s, source=0.0\n"
     ]
    },
    {
     "name": "stdout",
     "output_type": "stream",
     "text": [
      "[openmc.deplete] t=678.0 s, dt=96.99999999999997 s, source=0.0\n"
     ]
    },
    {
     "name": "stdout",
     "output_type": "stream",
     "text": [
      "[openmc.deplete] t=775.0 s, dt=127.00000000000001 s, source=0.0\n"
     ]
    },
    {
     "name": "stdout",
     "output_type": "stream",
     "text": [
      "[openmc.deplete] t=902.0 s, dt=123.00000000000004 s, source=0.0\n"
     ]
    },
    {
     "name": "stdout",
     "output_type": "stream",
     "text": [
      "[openmc.deplete] t=1025.0 s, dt=184.9999999999999 s, source=0.0\n"
     ]
    },
    {
     "name": "stdout",
     "output_type": "stream",
     "text": [
      "[openmc.deplete] t=1210.0 s, dt=244.00000000000003 s, source=0.0\n"
     ]
    },
    {
     "name": "stdout",
     "output_type": "stream",
     "text": [
      "[openmc.deplete] t=1454.0 s, dt=246.00000000000009 s, source=0.0\n"
     ]
    },
    {
     "name": "stdout",
     "output_type": "stream",
     "text": [
      "[openmc.deplete] t=1700.0 s, dt=243.9999999999999 s, source=0.0\n"
     ]
    },
    {
     "name": "stdout",
     "output_type": "stream",
     "text": [
      "[openmc.deplete] t=1944.0 s, dt=427.0 s, source=0.0\n"
     ]
    },
    {
     "name": "stdout",
     "output_type": "stream",
     "text": [
      "[openmc.deplete] t=2371.0 s, dt=607.0 s, source=0.0\n"
     ]
    },
    {
     "name": "stdout",
     "output_type": "stream",
     "text": [
      "[openmc.deplete] t=2978.0 s, dt=606.0 s, source=0.0\n"
     ]
    },
    {
     "name": "stdout",
     "output_type": "stream",
     "text": [
      "[openmc.deplete] t=3584.0 (final operator evaluation)\n"
     ]
    },
    {
     "name": "stderr",
     "output_type": "stream",
     "text": [
      "/home/jon/.neutronicsworkshop_3.12/lib/python3.12/site-packages/openmc/deplete/results.py:94: FutureWarning: The ResultsList.from_hdf5(...) method is no longer necessary and will be removed in a future version of OpenMC. Use Results(...) instead.\n",
      "  warn(\n"
     ]
    },
    {
     "name": "stdout",
     "output_type": "stream",
     "text": [
      "[openmc.deplete] t=0.0 s, dt=27267.84 s, source=10500000000.0\n"
     ]
    },
    {
     "name": "stdout",
     "output_type": "stream",
     "text": [
      "[openmc.deplete] t=27267.84 s, dt=53827.19999999999 s, source=0.0\n"
     ]
    },
    {
     "name": "stderr",
     "output_type": "stream",
     "text": [
      "/home/jon/.neutronicsworkshop_3.12/lib/python3.12/site-packages/uncertainties/core.py:1024: UserWarning: Using UFloat objects with std_dev==0 may give unexpected results.\n",
      "  warn(\"Using UFloat objects with std_dev==0 may give unexpected results.\")\n"
     ]
    },
    {
     "name": "stdout",
     "output_type": "stream",
     "text": [
      "[openmc.deplete] t=81095.04 s, dt=58233.600000000035 s, source=0.0\n"
     ]
    },
    {
     "name": "stdout",
     "output_type": "stream",
     "text": [
      "[openmc.deplete] t=139328.64 s, dt=136512.0 s, source=0.0\n"
     ]
    },
    {
     "name": "stdout",
     "output_type": "stream",
     "text": [
      "[openmc.deplete] t=275840.64 s, dt=342921.6 s, source=0.0\n"
     ]
    },
    {
     "name": "stdout",
     "output_type": "stream",
     "text": [
      "[openmc.deplete] t=618762.24 s, dt=517881.5999999998 s, source=0.0\n"
     ]
    },
    {
     "name": "stdout",
     "output_type": "stream",
     "text": [
      "[openmc.deplete] t=1136643.8399999999 s, dt=949795.2000000003 s, source=0.0\n"
     ]
    },
    {
     "name": "stdout",
     "output_type": "stream",
     "text": [
      "[openmc.deplete] t=2086439.04 s, dt=2234044.8 s, source=0.0\n"
     ]
    },
    {
     "name": "stdout",
     "output_type": "stream",
     "text": [
      "[openmc.deplete] t=4320483.84 s, dt=4336329.6 s, source=0.0\n"
     ]
    },
    {
     "name": "stdout",
     "output_type": "stream",
     "text": [
      "[openmc.deplete] t=8656813.44 s, dt=8659007.999999998 s, source=0.0\n"
     ]
    },
    {
     "name": "stdout",
     "output_type": "stream",
     "text": [
      "[openmc.deplete] t=17315821.439999998 s, dt=17697312.0 s, source=0.0\n"
     ]
    },
    {
     "name": "stdout",
     "output_type": "stream",
     "text": [
      "[openmc.deplete] t=35013133.44 (final operator evaluation)\n"
     ]
    },
    {
     "name": "stderr",
     "output_type": "stream",
     "text": [
      "/home/jon/.neutronicsworkshop_3.12/lib/python3.12/site-packages/openmc/deplete/results.py:94: FutureWarning: The ResultsList.from_hdf5(...) method is no longer necessary and will be removed in a future version of OpenMC. Use Results(...) instead.\n",
      "  warn(\n"
     ]
    },
    {
     "name": "stdout",
     "output_type": "stream",
     "text": [
      "[openmc.deplete] t=0.0 s, dt=300.0 s, source=11160000000.0\n"
     ]
    },
    {
     "name": "stdout",
     "output_type": "stream",
     "text": [
      "[openmc.deplete] t=300.0 s, dt=68.00000000000004 s, source=0.0\n"
     ]
    },
    {
     "name": "stderr",
     "output_type": "stream",
     "text": [
      "/home/jon/.neutronicsworkshop_3.12/lib/python3.12/site-packages/uncertainties/core.py:1024: UserWarning: Using UFloat objects with std_dev==0 may give unexpected results.\n",
      "  warn(\"Using UFloat objects with std_dev==0 may give unexpected results.\")\n"
     ]
    },
    {
     "name": "stdout",
     "output_type": "stream",
     "text": [
      "[openmc.deplete] t=368.00000000000006 s, dt=15.999999999999979 s, source=0.0\n"
     ]
    },
    {
     "name": "stdout",
     "output_type": "stream",
     "text": [
      "[openmc.deplete] t=384.00000000000006 s, dt=15.999999999999979 s, source=0.0\n"
     ]
    },
    {
     "name": "stdout",
     "output_type": "stream",
     "text": [
      "[openmc.deplete] t=400.00000000000006 s, dt=27.000000000000025 s, source=0.0\n"
     ]
    },
    {
     "name": "stdout",
     "output_type": "stream",
     "text": [
      "[openmc.deplete] t=427.00000000000006 s, dt=37.99999999999999 s, source=0.0\n"
     ]
    },
    {
     "name": "stdout",
     "output_type": "stream",
     "text": [
      "[openmc.deplete] t=465.00000000000006 s, dt=37.000000000000036 s, source=0.0\n"
     ]
    },
    {
     "name": "stdout",
     "output_type": "stream",
     "text": [
      "[openmc.deplete] t=502.0000000000001 s, dt=53.99999999999997 s, source=0.0\n"
     ]
    },
    {
     "name": "stdout",
     "output_type": "stream",
     "text": [
      "[openmc.deplete] t=556.0000000000001 s, dt=67.0 s, source=0.0\n"
     ]
    },
    {
     "name": "stdout",
     "output_type": "stream",
     "text": [
      "[openmc.deplete] t=623.0000000000001 s, dt=66.99999999999993 s, source=0.0\n"
     ]
    },
    {
     "name": "stdout",
     "output_type": "stream",
     "text": [
      "[openmc.deplete] t=690.0 s, dt=98.00000000000009 s, source=0.0\n"
     ]
    },
    {
     "name": "stdout",
     "output_type": "stream",
     "text": [
      "[openmc.deplete] t=788.0000000000001 s, dt=127.00000000000001 s, source=0.0\n"
     ]
    },
    {
     "name": "stdout",
     "output_type": "stream",
     "text": [
      "[openmc.deplete] t=915.0000000000001 s, dt=127.00000000000001 s, source=0.0\n"
     ]
    },
    {
     "name": "stdout",
     "output_type": "stream",
     "text": [
      "[openmc.deplete] t=1042.0000000000002 s, dt=124.0 s, source=0.0\n"
     ]
    },
    {
     "name": "stdout",
     "output_type": "stream",
     "text": [
      "[openmc.deplete] t=1166.0000000000002 s, dt=188.00000000000006 s, source=0.0\n"
     ]
    },
    {
     "name": "stdout",
     "output_type": "stream",
     "text": [
      "[openmc.deplete] t=1354.0000000000002 s, dt=246.99999999999974 s, source=0.0\n"
     ]
    },
    {
     "name": "stdout",
     "output_type": "stream",
     "text": [
      "[openmc.deplete] t=1601.0 s, dt=248.0 s, source=0.0\n"
     ]
    },
    {
     "name": "stdout",
     "output_type": "stream",
     "text": [
      "[openmc.deplete] t=1849.0 s, dt=247.00000000000003 s, source=0.0\n"
     ]
    },
    {
     "name": "stdout",
     "output_type": "stream",
     "text": [
      "[openmc.deplete] t=2096.0 s, dt=427.99999999999994 s, source=0.0\n"
     ]
    },
    {
     "name": "stdout",
     "output_type": "stream",
     "text": [
      "[openmc.deplete] t=2524.0 s, dt=604.0000000000001 s, source=0.0\n"
     ]
    },
    {
     "name": "stdout",
     "output_type": "stream",
     "text": [
      "[openmc.deplete] t=3128.0 s, dt=605.0 s, source=0.0\n"
     ]
    },
    {
     "name": "stdout",
     "output_type": "stream",
     "text": [
      "[openmc.deplete] t=3733.0 (final operator evaluation)\n"
     ]
    },
    {
     "name": "stderr",
     "output_type": "stream",
     "text": [
      "/home/jon/.neutronicsworkshop_3.12/lib/python3.12/site-packages/openmc/deplete/results.py:94: FutureWarning: The ResultsList.from_hdf5(...) method is no longer necessary and will be removed in a future version of OpenMC. Use Results(...) instead.\n",
      "  warn(\n"
     ]
    },
    {
     "name": "stdout",
     "output_type": "stream",
     "text": [
      "[openmc.deplete] t=0.0 s, dt=300.0 s, source=11160000000.0\n"
     ]
    },
    {
     "name": "stdout",
     "output_type": "stream",
     "text": [
      "[openmc.deplete] t=300.0 s, dt=35.000000000000014 s, source=0.0\n"
     ]
    },
    {
     "name": "stderr",
     "output_type": "stream",
     "text": [
      "/home/jon/.neutronicsworkshop_3.12/lib/python3.12/site-packages/uncertainties/core.py:1024: UserWarning: Using UFloat objects with std_dev==0 may give unexpected results.\n",
      "  warn(\"Using UFloat objects with std_dev==0 may give unexpected results.\")\n"
     ]
    },
    {
     "name": "stdout",
     "output_type": "stream",
     "text": [
      "[openmc.deplete] t=335.0 s, dt=14.999999999999984 s, source=0.0\n"
     ]
    },
    {
     "name": "stdout",
     "output_type": "stream",
     "text": [
      "[openmc.deplete] t=350.0 s, dt=15.000000000000021 s, source=0.0\n"
     ]
    },
    {
     "name": "stdout",
     "output_type": "stream",
     "text": [
      "[openmc.deplete] t=365.0 s, dt=15.000000000000021 s, source=0.0\n"
     ]
    },
    {
     "name": "stdout",
     "output_type": "stream",
     "text": [
      "[openmc.deplete] t=380.0 s, dt=14.999999999999947 s, source=0.0\n"
     ]
    },
    {
     "name": "stdout",
     "output_type": "stream",
     "text": [
      "[openmc.deplete] t=394.99999999999994 s, dt=25.999999999999993 s, source=0.0\n"
     ]
    },
    {
     "name": "stdout",
     "output_type": "stream",
     "text": [
      "[openmc.deplete] t=420.99999999999994 s, dt=36.00000000000001 s, source=0.0\n"
     ]
    },
    {
     "name": "stdout",
     "output_type": "stream",
     "text": [
      "[openmc.deplete] t=456.99999999999994 s, dt=36.00000000000001 s, source=0.0\n"
     ]
    },
    {
     "name": "stdout",
     "output_type": "stream",
     "text": [
      "[openmc.deplete] t=492.99999999999994 s, dt=52.00000000000006 s, source=0.0\n"
     ]
    },
    {
     "name": "stdout",
     "output_type": "stream",
     "text": [
      "[openmc.deplete] t=545.0 s, dt=65.99999999999997 s, source=0.0\n"
     ]
    },
    {
     "name": "stdout",
     "output_type": "stream",
     "text": [
      "[openmc.deplete] t=611.0 s, dt=66.00000000000006 s, source=0.0\n"
     ]
    },
    {
     "name": "stdout",
     "output_type": "stream",
     "text": [
      "[openmc.deplete] t=677.0 s, dt=96.99999999999997 s, source=0.0\n"
     ]
    },
    {
     "name": "stdout",
     "output_type": "stream",
     "text": [
      "[openmc.deplete] t=774.0 s, dt=127.00000000000001 s, source=0.0\n"
     ]
    },
    {
     "name": "stdout",
     "output_type": "stream",
     "text": [
      "[openmc.deplete] t=901.0 s, dt=125.99999999999991 s, source=0.0\n"
     ]
    },
    {
     "name": "stdout",
     "output_type": "stream",
     "text": [
      "[openmc.deplete] t=1027.0 s, dt=187.0000000000001 s, source=0.0\n"
     ]
    },
    {
     "name": "stdout",
     "output_type": "stream",
     "text": [
      "[openmc.deplete] t=1214.0 s, dt=245.99999999999994 s, source=0.0\n"
     ]
    },
    {
     "name": "stdout",
     "output_type": "stream",
     "text": [
      "[openmc.deplete] t=1460.0 s, dt=246.00000000000009 s, source=0.0\n"
     ]
    },
    {
     "name": "stdout",
     "output_type": "stream",
     "text": [
      "[openmc.deplete] t=1706.0 s, dt=245.99999999999977 s, source=0.0\n"
     ]
    },
    {
     "name": "stdout",
     "output_type": "stream",
     "text": [
      "[openmc.deplete] t=1951.9999999999998 s, dt=428.0000000000003 s, source=0.0\n"
     ]
    },
    {
     "name": "stdout",
     "output_type": "stream",
     "text": [
      "[openmc.deplete] t=2380.0 s, dt=606.0 s, source=0.0\n"
     ]
    },
    {
     "name": "stdout",
     "output_type": "stream",
     "text": [
      "[openmc.deplete] t=2986.0 s, dt=606.0 s, source=0.0\n"
     ]
    },
    {
     "name": "stdout",
     "output_type": "stream",
     "text": [
      "[openmc.deplete] t=3592.0 (final operator evaluation)\n"
     ]
    },
    {
     "name": "stderr",
     "output_type": "stream",
     "text": [
      "/home/jon/.neutronicsworkshop_3.12/lib/python3.12/site-packages/openmc/deplete/results.py:94: FutureWarning: The ResultsList.from_hdf5(...) method is no longer necessary and will be removed in a future version of OpenMC. Use Results(...) instead.\n",
      "  warn(\n"
     ]
    },
    {
     "name": "stdout",
     "output_type": "stream",
     "text": [
      "[openmc.deplete] t=0.0 s, dt=27267.84 s, source=10500000000.0\n"
     ]
    },
    {
     "name": "stdout",
     "output_type": "stream",
     "text": [
      "[openmc.deplete] t=27267.84 s, dt=56678.4 s, source=0.0\n"
     ]
    },
    {
     "name": "stderr",
     "output_type": "stream",
     "text": [
      "/home/jon/.neutronicsworkshop_3.12/lib/python3.12/site-packages/uncertainties/core.py:1024: UserWarning: Using UFloat objects with std_dev==0 may give unexpected results.\n",
      "  warn(\"Using UFloat objects with std_dev==0 may give unexpected results.\")\n"
     ]
    },
    {
     "name": "stdout",
     "output_type": "stream",
     "text": [
      "[openmc.deplete] t=83946.24 s, dt=58752.000000000015 s, source=0.0\n"
     ]
    },
    {
     "name": "stdout",
     "output_type": "stream",
     "text": [
      "[openmc.deplete] t=142698.24000000002 s, dt=136511.99999999997 s, source=0.0\n"
     ]
    },
    {
     "name": "stdout",
     "output_type": "stream",
     "text": [
      "[openmc.deplete] t=279210.24 s, dt=346982.4 s, source=0.0\n"
     ]
    },
    {
     "name": "stdout",
     "output_type": "stream",
     "text": [
      "[openmc.deplete] t=626192.64 s, dt=515030.4 s, source=0.0\n"
     ]
    },
    {
     "name": "stdout",
     "output_type": "stream",
     "text": [
      "[openmc.deplete] t=1141223.04 s, dt=950054.3999999999 s, source=0.0\n"
     ]
    },
    {
     "name": "stdout",
     "output_type": "stream",
     "text": [
      "[openmc.deplete] t=2091277.44 s, dt=2233526.4 s, source=0.0\n"
     ]
    },
    {
     "name": "stdout",
     "output_type": "stream",
     "text": [
      "[openmc.deplete] t=4324803.84 (final operator evaluation)\n"
     ]
    },
    {
     "name": "stderr",
     "output_type": "stream",
     "text": [
      "/home/jon/.neutronicsworkshop_3.12/lib/python3.12/site-packages/openmc/deplete/results.py:94: FutureWarning: The ResultsList.from_hdf5(...) method is no longer necessary and will be removed in a future version of OpenMC. Use Results(...) instead.\n",
      "  warn(\n"
     ]
    },
    {
     "name": "stdout",
     "output_type": "stream",
     "text": [
      "[openmc.deplete] t=0.0 s, dt=300.0 s, source=11350000000.0\n"
     ]
    },
    {
     "name": "stdout",
     "output_type": "stream",
     "text": [
      "[openmc.deplete] t=300.0 s, dt=81.0 s, source=0.0\n"
     ]
    },
    {
     "name": "stderr",
     "output_type": "stream",
     "text": [
      "/home/jon/.neutronicsworkshop_3.12/lib/python3.12/site-packages/uncertainties/core.py:1024: UserWarning: Using UFloat objects with std_dev==0 may give unexpected results.\n",
      "  warn(\"Using UFloat objects with std_dev==0 may give unexpected results.\")\n"
     ]
    },
    {
     "name": "stdout",
     "output_type": "stream",
     "text": [
      "[openmc.deplete] t=381.0 s, dt=15.000000000000021 s, source=0.0\n"
     ]
    },
    {
     "name": "stdout",
     "output_type": "stream",
     "text": [
      "[openmc.deplete] t=396.0 s, dt=15.999999999999979 s, source=0.0\n"
     ]
    },
    {
     "name": "stdout",
     "output_type": "stream",
     "text": [
      "[openmc.deplete] t=412.0 s, dt=27.000000000000025 s, source=0.0\n"
     ]
    },
    {
     "name": "stdout",
     "output_type": "stream",
     "text": [
      "[openmc.deplete] t=439.0 s, dt=36.999999999999964 s, source=0.0\n"
     ]
    },
    {
     "name": "stdout",
     "output_type": "stream",
     "text": [
      "[openmc.deplete] t=475.99999999999994 s, dt=37.000000000000036 s, source=0.0\n"
     ]
    },
    {
     "name": "stdout",
     "output_type": "stream",
     "text": [
      "[openmc.deplete] t=513.0 s, dt=51.999999999999986 s, source=0.0\n"
     ]
    },
    {
     "name": "stdout",
     "output_type": "stream",
     "text": [
      "[openmc.deplete] t=565.0 s, dt=67.0 s, source=0.0\n"
     ]
    },
    {
     "name": "stdout",
     "output_type": "stream",
     "text": [
      "[openmc.deplete] t=632.0 s, dt=67.0 s, source=0.0\n"
     ]
    },
    {
     "name": "stdout",
     "output_type": "stream",
     "text": [
      "[openmc.deplete] t=699.0 s, dt=97.99999999999993 s, source=0.0\n"
     ]
    },
    {
     "name": "stdout",
     "output_type": "stream",
     "text": [
      "[openmc.deplete] t=796.9999999999999 s, dt=127.00000000000001 s, source=0.0\n"
     ]
    },
    {
     "name": "stdout",
     "output_type": "stream",
     "text": [
      "[openmc.deplete] t=923.9999999999999 s, dt=127.00000000000001 s, source=0.0\n"
     ]
    },
    {
     "name": "stdout",
     "output_type": "stream",
     "text": [
      "[openmc.deplete] t=1051.0 s, dt=127.00000000000001 s, source=0.0\n"
     ]
    },
    {
     "name": "stdout",
     "output_type": "stream",
     "text": [
      "[openmc.deplete] t=1178.0 s, dt=185.00000000000003 s, source=0.0\n"
     ]
    },
    {
     "name": "stdout",
     "output_type": "stream",
     "text": [
      "[openmc.deplete] t=1363.0 s, dt=243.9999999999999 s, source=0.0\n"
     ]
    },
    {
     "name": "stdout",
     "output_type": "stream",
     "text": [
      "[openmc.deplete] t=1607.0 s, dt=247.00000000000003 s, source=0.0\n"
     ]
    },
    {
     "name": "stdout",
     "output_type": "stream",
     "text": [
      "[openmc.deplete] t=1854.0 s, dt=247.00000000000003 s, source=0.0\n"
     ]
    },
    {
     "name": "stdout",
     "output_type": "stream",
     "text": [
      "[openmc.deplete] t=2101.0 s, dt=425.0000000000001 s, source=0.0\n"
     ]
    },
    {
     "name": "stdout",
     "output_type": "stream",
     "text": [
      "[openmc.deplete] t=2526.0 s, dt=603.9999999999998 s, source=0.0\n"
     ]
    },
    {
     "name": "stdout",
     "output_type": "stream",
     "text": [
      "[openmc.deplete] t=3130.0 s, dt=607.9999999999999 s, source=0.0\n"
     ]
    },
    {
     "name": "stdout",
     "output_type": "stream",
     "text": [
      "[openmc.deplete] t=3738.0 (final operator evaluation)\n"
     ]
    },
    {
     "name": "stderr",
     "output_type": "stream",
     "text": [
      "/home/jon/.neutronicsworkshop_3.12/lib/python3.12/site-packages/openmc/deplete/results.py:94: FutureWarning: The ResultsList.from_hdf5(...) method is no longer necessary and will be removed in a future version of OpenMC. Use Results(...) instead.\n",
      "  warn(\n"
     ]
    },
    {
     "name": "stdout",
     "output_type": "stream",
     "text": [
      "[openmc.deplete] t=0.0 s, dt=300.0 s, source=11160000000.0\n"
     ]
    },
    {
     "name": "stdout",
     "output_type": "stream",
     "text": [
      "[openmc.deplete] t=300.0 s, dt=35.000000000000014 s, source=0.0\n"
     ]
    },
    {
     "name": "stderr",
     "output_type": "stream",
     "text": [
      "/home/jon/.neutronicsworkshop_3.12/lib/python3.12/site-packages/uncertainties/core.py:1024: UserWarning: Using UFloat objects with std_dev==0 may give unexpected results.\n",
      "  warn(\"Using UFloat objects with std_dev==0 may give unexpected results.\")\n"
     ]
    },
    {
     "name": "stdout",
     "output_type": "stream",
     "text": [
      "[openmc.deplete] t=335.0 s, dt=16.000000000000014 s, source=0.0\n"
     ]
    },
    {
     "name": "stdout",
     "output_type": "stream",
     "text": [
      "[openmc.deplete] t=351.0 s, dt=15.000000000000021 s, source=0.0\n"
     ]
    },
    {
     "name": "stdout",
     "output_type": "stream",
     "text": [
      "[openmc.deplete] t=366.0 s, dt=15.999999999999979 s, source=0.0\n"
     ]
    },
    {
     "name": "stdout",
     "output_type": "stream",
     "text": [
      "[openmc.deplete] t=382.0 s, dt=15.000000000000021 s, source=0.0\n"
     ]
    },
    {
     "name": "stdout",
     "output_type": "stream",
     "text": [
      "[openmc.deplete] t=397.0 s, dt=25.999999999999993 s, source=0.0\n"
     ]
    },
    {
     "name": "stdout",
     "output_type": "stream",
     "text": [
      "[openmc.deplete] t=423.0 s, dt=36.00000000000001 s, source=0.0\n"
     ]
    },
    {
     "name": "stdout",
     "output_type": "stream",
     "text": [
      "[openmc.deplete] t=459.0 s, dt=36.999999999999964 s, source=0.0\n"
     ]
    },
    {
     "name": "stdout",
     "output_type": "stream",
     "text": [
      "[openmc.deplete] t=495.99999999999994 s, dt=51.999999999999986 s, source=0.0\n"
     ]
    },
    {
     "name": "stdout",
     "output_type": "stream",
     "text": [
      "[openmc.deplete] t=547.9999999999999 s, dt=67.0 s, source=0.0\n"
     ]
    },
    {
     "name": "stdout",
     "output_type": "stream",
     "text": [
      "[openmc.deplete] t=614.9999999999999 s, dt=66.00000000000006 s, source=0.0\n"
     ]
    },
    {
     "name": "stdout",
     "output_type": "stream",
     "text": [
      "[openmc.deplete] t=681.0 s, dt=94.99999999999991 s, source=0.0\n"
     ]
    },
    {
     "name": "stdout",
     "output_type": "stream",
     "text": [
      "[openmc.deplete] t=775.9999999999999 s, dt=126.00000000000006 s, source=0.0\n"
     ]
    },
    {
     "name": "stdout",
     "output_type": "stream",
     "text": [
      "[openmc.deplete] t=902.0 s, dt=127.00000000000001 s, source=0.0\n"
     ]
    },
    {
     "name": "stdout",
     "output_type": "stream",
     "text": [
      "[openmc.deplete] t=1029.0 s, dt=185.00000000000003 s, source=0.0\n"
     ]
    },
    {
     "name": "stdout",
     "output_type": "stream",
     "text": [
      "[openmc.deplete] t=1214.0 s, dt=245.99999999999994 s, source=0.0\n"
     ]
    },
    {
     "name": "stdout",
     "output_type": "stream",
     "text": [
      "[openmc.deplete] t=1460.0 s, dt=246.00000000000009 s, source=0.0\n"
     ]
    },
    {
     "name": "stdout",
     "output_type": "stream",
     "text": [
      "[openmc.deplete] t=1706.0 s, dt=247.00000000000003 s, source=0.0\n"
     ]
    },
    {
     "name": "stdout",
     "output_type": "stream",
     "text": [
      "[openmc.deplete] t=1953.0 s, dt=427.99999999999994 s, source=0.0\n"
     ]
    },
    {
     "name": "stdout",
     "output_type": "stream",
     "text": [
      "[openmc.deplete] t=2381.0 s, dt=604.0000000000001 s, source=0.0\n"
     ]
    },
    {
     "name": "stdout",
     "output_type": "stream",
     "text": [
      "[openmc.deplete] t=2985.0 s, dt=604.0000000000001 s, source=0.0\n"
     ]
    },
    {
     "name": "stdout",
     "output_type": "stream",
     "text": [
      "[openmc.deplete] t=3589.0 (final operator evaluation)\n"
     ]
    },
    {
     "name": "stderr",
     "output_type": "stream",
     "text": [
      "/home/jon/.neutronicsworkshop_3.12/lib/python3.12/site-packages/openmc/deplete/results.py:94: FutureWarning: The ResultsList.from_hdf5(...) method is no longer necessary and will be removed in a future version of OpenMC. Use Results(...) instead.\n",
      "  warn(\n"
     ]
    },
    {
     "name": "stdout",
     "output_type": "stream",
     "text": [
      "[openmc.deplete] t=0.0 s, dt=25799.039999999997 s, source=10500000000.0\n"
     ]
    },
    {
     "name": "stdout",
     "output_type": "stream",
     "text": [
      "[openmc.deplete] t=25799.039999999997 s, dt=59443.2 s, source=0.0\n"
     ]
    },
    {
     "name": "stderr",
     "output_type": "stream",
     "text": [
      "/home/jon/.neutronicsworkshop_3.12/lib/python3.12/site-packages/uncertainties/core.py:1024: UserWarning: Using UFloat objects with std_dev==0 may give unexpected results.\n",
      "  warn(\"Using UFloat objects with std_dev==0 may give unexpected results.\")\n"
     ]
    },
    {
     "name": "stdout",
     "output_type": "stream",
     "text": [
      "[openmc.deplete] t=85242.23999999999 s, dt=90547.20000000003 s, source=0.0\n"
     ]
    },
    {
     "name": "stdout",
     "output_type": "stream",
     "text": [
      "[openmc.deplete] t=175789.44 s, dt=186191.99999999994 s, source=0.0\n"
     ]
    },
    {
     "name": "stdout",
     "output_type": "stream",
     "text": [
      "[openmc.deplete] t=361981.43999999994 s, dt=247449.59999999998 s, source=0.0\n"
     ]
    },
    {
     "name": "stdout",
     "output_type": "stream",
     "text": [
      "[openmc.deplete] t=609431.0399999999 s, dt=470361.5999999999 s, source=0.0\n"
     ]
    },
    {
     "name": "stdout",
     "output_type": "stream",
     "text": [
      "[openmc.deplete] t=1079792.64 s, dt=1037577.6 s, source=0.0\n"
     ]
    },
    {
     "name": "stdout",
     "output_type": "stream",
     "text": [
      "[openmc.deplete] t=2117370.2399999998 s, dt=2224713.6 s, source=0.0\n"
     ]
    },
    {
     "name": "stdout",
     "output_type": "stream",
     "text": [
      "[openmc.deplete] t=4342083.84 s, dt=4331577.599999999 s, source=0.0\n"
     ]
    },
    {
     "name": "stdout",
     "output_type": "stream",
     "text": [
      "[openmc.deplete] t=8673661.439999998 s, dt=8455968.0 s, source=0.0\n"
     ]
    },
    {
     "name": "stdout",
     "output_type": "stream",
     "text": [
      "[openmc.deplete] t=17129629.439999998 (final operator evaluation)\n"
     ]
    },
    {
     "name": "stderr",
     "output_type": "stream",
     "text": [
      "/home/jon/.neutronicsworkshop_3.12/lib/python3.12/site-packages/openmc/deplete/results.py:94: FutureWarning: The ResultsList.from_hdf5(...) method is no longer necessary and will be removed in a future version of OpenMC. Use Results(...) instead.\n",
      "  warn(\n"
     ]
    },
    {
     "name": "stdout",
     "output_type": "stream",
     "text": [
      "[openmc.deplete] t=0.0 s, dt=300.0 s, source=11160000000.0\n"
     ]
    },
    {
     "name": "stdout",
     "output_type": "stream",
     "text": [
      "[openmc.deplete] t=300.0 s, dt=67.0 s, source=0.0\n"
     ]
    },
    {
     "name": "stderr",
     "output_type": "stream",
     "text": [
      "/home/jon/.neutronicsworkshop_3.12/lib/python3.12/site-packages/uncertainties/core.py:1024: UserWarning: Using UFloat objects with std_dev==0 may give unexpected results.\n",
      "  warn(\"Using UFloat objects with std_dev==0 may give unexpected results.\")\n"
     ]
    },
    {
     "name": "stdout",
     "output_type": "stream",
     "text": [
      "[openmc.deplete] t=367.0 s, dt=15.000000000000021 s, source=0.0\n"
     ]
    },
    {
     "name": "stdout",
     "output_type": "stream",
     "text": [
      "[openmc.deplete] t=382.0 s, dt=15.999999999999979 s, source=0.0\n"
     ]
    },
    {
     "name": "stdout",
     "output_type": "stream",
     "text": [
      "[openmc.deplete] t=398.0 s, dt=27.99999999999998 s, source=0.0\n"
     ]
    },
    {
     "name": "stdout",
     "output_type": "stream",
     "text": [
      "[openmc.deplete] t=426.0 s, dt=37.000000000000036 s, source=0.0\n"
     ]
    },
    {
     "name": "stdout",
     "output_type": "stream",
     "text": [
      "[openmc.deplete] t=463.00000000000006 s, dt=36.999999999999964 s, source=0.0\n"
     ]
    },
    {
     "name": "stdout",
     "output_type": "stream",
     "text": [
      "[openmc.deplete] t=500.0 s, dt=53.000000000000014 s, source=0.0\n"
     ]
    },
    {
     "name": "stdout",
     "output_type": "stream",
     "text": [
      "[openmc.deplete] t=553.0 s, dt=67.0 s, source=0.0\n"
     ]
    },
    {
     "name": "stdout",
     "output_type": "stream",
     "text": [
      "[openmc.deplete] t=620.0 s, dt=68.00000000000004 s, source=0.0\n"
     ]
    },
    {
     "name": "stdout",
     "output_type": "stream",
     "text": [
      "[openmc.deplete] t=688.0 s, dt=94.99999999999991 s, source=0.0\n"
     ]
    },
    {
     "name": "stdout",
     "output_type": "stream",
     "text": [
      "[openmc.deplete] t=782.9999999999999 s, dt=127.00000000000001 s, source=0.0\n"
     ]
    },
    {
     "name": "stdout",
     "output_type": "stream",
     "text": [
      "[openmc.deplete] t=909.9999999999999 s, dt=127.00000000000001 s, source=0.0\n"
     ]
    },
    {
     "name": "stdout",
     "output_type": "stream",
     "text": [
      "[openmc.deplete] t=1037.0 s, dt=127.99999999999997 s, source=0.0\n"
     ]
    },
    {
     "name": "stdout",
     "output_type": "stream",
     "text": [
      "[openmc.deplete] t=1165.0 s, dt=187.99999999999991 s, source=0.0\n"
     ]
    },
    {
     "name": "stdout",
     "output_type": "stream",
     "text": [
      "[openmc.deplete] t=1353.0 s, dt=248.0 s, source=0.0\n"
     ]
    },
    {
     "name": "stdout",
     "output_type": "stream",
     "text": [
      "[openmc.deplete] t=1601.0 s, dt=244.00000000000017 s, source=0.0\n"
     ]
    },
    {
     "name": "stdout",
     "output_type": "stream",
     "text": [
      "[openmc.deplete] t=1845.0000000000002 s, dt=247.00000000000003 s, source=0.0\n"
     ]
    },
    {
     "name": "stdout",
     "output_type": "stream",
     "text": [
      "[openmc.deplete] t=2092.0000000000005 s, dt=427.99999999999994 s, source=0.0\n"
     ]
    },
    {
     "name": "stdout",
     "output_type": "stream",
     "text": [
      "[openmc.deplete] t=2520.0000000000005 s, dt=607.9999999999999 s, source=0.0\n"
     ]
    },
    {
     "name": "stdout",
     "output_type": "stream",
     "text": [
      "[openmc.deplete] t=3128.0000000000005 s, dt=607.0 s, source=0.0\n"
     ]
    },
    {
     "name": "stdout",
     "output_type": "stream",
     "text": [
      "[openmc.deplete] t=3735.0000000000005 (final operator evaluation)\n"
     ]
    },
    {
     "name": "stderr",
     "output_type": "stream",
     "text": [
      "/home/jon/.neutronicsworkshop_3.12/lib/python3.12/site-packages/openmc/deplete/results.py:94: FutureWarning: The ResultsList.from_hdf5(...) method is no longer necessary and will be removed in a future version of OpenMC. Use Results(...) instead.\n",
      "  warn(\n"
     ]
    },
    {
     "name": "stdout",
     "output_type": "stream",
     "text": [
      "[openmc.deplete] t=0.0 s, dt=300.0 s, source=11160000000.0\n"
     ]
    },
    {
     "name": "stdout",
     "output_type": "stream",
     "text": [
      "[openmc.deplete] t=300.0 s, dt=37.0 s, source=0.0\n"
     ]
    },
    {
     "name": "stderr",
     "output_type": "stream",
     "text": [
      "/home/jon/.neutronicsworkshop_3.12/lib/python3.12/site-packages/uncertainties/core.py:1024: UserWarning: Using UFloat objects with std_dev==0 may give unexpected results.\n",
      "  warn(\"Using UFloat objects with std_dev==0 may give unexpected results.\")\n"
     ]
    },
    {
     "name": "stdout",
     "output_type": "stream",
     "text": [
      "[openmc.deplete] t=337.0 s, dt=16.000000000000014 s, source=0.0\n"
     ]
    },
    {
     "name": "stdout",
     "output_type": "stream",
     "text": [
      "[openmc.deplete] t=353.0 s, dt=15.000000000000021 s, source=0.0\n"
     ]
    },
    {
     "name": "stdout",
     "output_type": "stream",
     "text": [
      "[openmc.deplete] t=368.0 s, dt=15.999999999999979 s, source=0.0\n"
     ]
    },
    {
     "name": "stdout",
     "output_type": "stream",
     "text": [
      "[openmc.deplete] t=384.0 s, dt=15.999999999999979 s, source=0.0\n"
     ]
    },
    {
     "name": "stdout",
     "output_type": "stream",
     "text": [
      "[openmc.deplete] t=400.0 s, dt=25.999999999999993 s, source=0.0\n"
     ]
    },
    {
     "name": "stdout",
     "output_type": "stream",
     "text": [
      "[openmc.deplete] t=426.0 s, dt=37.000000000000036 s, source=0.0\n"
     ]
    },
    {
     "name": "stdout",
     "output_type": "stream",
     "text": [
      "[openmc.deplete] t=463.00000000000006 s, dt=36.999999999999964 s, source=0.0\n"
     ]
    },
    {
     "name": "stdout",
     "output_type": "stream",
     "text": [
      "[openmc.deplete] t=500.0 s, dt=53.000000000000014 s, source=0.0\n"
     ]
    },
    {
     "name": "stdout",
     "output_type": "stream",
     "text": [
      "[openmc.deplete] t=553.0 s, dt=63.999999999999986 s, source=0.0\n"
     ]
    },
    {
     "name": "stdout",
     "output_type": "stream",
     "text": [
      "[openmc.deplete] t=617.0 s, dt=65.99999999999997 s, source=0.0\n"
     ]
    },
    {
     "name": "stdout",
     "output_type": "stream",
     "text": [
      "[openmc.deplete] t=683.0 s, dt=98.00000000000009 s, source=0.0\n"
     ]
    },
    {
     "name": "stdout",
     "output_type": "stream",
     "text": [
      "[openmc.deplete] t=781.0000000000001 s, dt=125.99999999999991 s, source=0.0\n"
     ]
    },
    {
     "name": "stdout",
     "output_type": "stream",
     "text": [
      "[openmc.deplete] t=907.0 s, dt=127.00000000000001 s, source=0.0\n"
     ]
    },
    {
     "name": "stdout",
     "output_type": "stream",
     "text": [
      "[openmc.deplete] t=1034.0 s, dt=185.00000000000003 s, source=0.0\n"
     ]
    },
    {
     "name": "stdout",
     "output_type": "stream",
     "text": [
      "[openmc.deplete] t=1219.0 s, dt=242.99999999999991 s, source=0.0\n"
     ]
    },
    {
     "name": "stdout",
     "output_type": "stream",
     "text": [
      "[openmc.deplete] t=1462.0 s, dt=247.00000000000003 s, source=0.0\n"
     ]
    },
    {
     "name": "stdout",
     "output_type": "stream",
     "text": [
      "[openmc.deplete] t=1709.0 s, dt=248.0 s, source=0.0\n"
     ]
    },
    {
     "name": "stdout",
     "output_type": "stream",
     "text": [
      "[openmc.deplete] t=1957.0 s, dt=424.0000000000001 s, source=0.0\n"
     ]
    },
    {
     "name": "stdout",
     "output_type": "stream",
     "text": [
      "[openmc.deplete] t=2381.0 s, dt=604.0000000000001 s, source=0.0\n"
     ]
    },
    {
     "name": "stdout",
     "output_type": "stream",
     "text": [
      "[openmc.deplete] t=2985.0 s, dt=607.0 s, source=0.0\n"
     ]
    },
    {
     "name": "stdout",
     "output_type": "stream",
     "text": [
      "[openmc.deplete] t=3592.0 (final operator evaluation)\n"
     ]
    },
    {
     "name": "stderr",
     "output_type": "stream",
     "text": [
      "/home/jon/.neutronicsworkshop_3.12/lib/python3.12/site-packages/openmc/deplete/results.py:94: FutureWarning: The ResultsList.from_hdf5(...) method is no longer necessary and will be removed in a future version of OpenMC. Use Results(...) instead.\n",
      "  warn(\n"
     ]
    },
    {
     "name": "stdout",
     "output_type": "stream",
     "text": [
      "[openmc.deplete] t=0.0 s, dt=300.0 s, source=11160000000.0\n"
     ]
    },
    {
     "name": "stdout",
     "output_type": "stream",
     "text": [
      "[openmc.deplete] t=300.0 s, dt=36.00000000000001 s, source=0.0\n"
     ]
    },
    {
     "name": "stderr",
     "output_type": "stream",
     "text": [
      "/home/jon/.neutronicsworkshop_3.12/lib/python3.12/site-packages/uncertainties/core.py:1024: UserWarning: Using UFloat objects with std_dev==0 may give unexpected results.\n",
      "  warn(\"Using UFloat objects with std_dev==0 may give unexpected results.\")\n"
     ]
    },
    {
     "name": "stdout",
     "output_type": "stream",
     "text": [
      "[openmc.deplete] t=336.0 s, dt=15.000000000000021 s, source=0.0\n"
     ]
    },
    {
     "name": "stdout",
     "output_type": "stream",
     "text": [
      "[openmc.deplete] t=351.0 s, dt=15.000000000000021 s, source=0.0\n"
     ]
    },
    {
     "name": "stdout",
     "output_type": "stream",
     "text": [
      "[openmc.deplete] t=366.0 s, dt=15.999999999999979 s, source=0.0\n"
     ]
    },
    {
     "name": "stdout",
     "output_type": "stream",
     "text": [
      "[openmc.deplete] t=382.0 s, dt=15.000000000000021 s, source=0.0\n"
     ]
    },
    {
     "name": "stdout",
     "output_type": "stream",
     "text": [
      "[openmc.deplete] t=397.0 s, dt=25.999999999999993 s, source=0.0\n"
     ]
    },
    {
     "name": "stdout",
     "output_type": "stream",
     "text": [
      "[openmc.deplete] t=423.0 s, dt=36.999999999999964 s, source=0.0\n"
     ]
    },
    {
     "name": "stdout",
     "output_type": "stream",
     "text": [
      "[openmc.deplete] t=459.99999999999994 s, dt=36.00000000000001 s, source=0.0\n"
     ]
    },
    {
     "name": "stdout",
     "output_type": "stream",
     "text": [
      "[openmc.deplete] t=495.99999999999994 s, dt=51.999999999999986 s, source=0.0\n"
     ]
    },
    {
     "name": "stdout",
     "output_type": "stream",
     "text": [
      "[openmc.deplete] t=547.9999999999999 s, dt=63.999999999999986 s, source=0.0\n"
     ]
    },
    {
     "name": "stdout",
     "output_type": "stream",
     "text": [
      "[openmc.deplete] t=611.9999999999999 s, dt=66.00000000000006 s, source=0.0\n"
     ]
    },
    {
     "name": "stdout",
     "output_type": "stream",
     "text": [
      "[openmc.deplete] t=678.0 s, dt=97.99999999999993 s, source=0.0\n"
     ]
    },
    {
     "name": "stdout",
     "output_type": "stream",
     "text": [
      "[openmc.deplete] t=775.9999999999999 s, dt=126.00000000000006 s, source=0.0\n"
     ]
    },
    {
     "name": "stdout",
     "output_type": "stream",
     "text": [
      "[openmc.deplete] t=902.0 s, dt=124.0 s, source=0.0\n"
     ]
    },
    {
     "name": "stdout",
     "output_type": "stream",
     "text": [
      "[openmc.deplete] t=1026.0 s, dt=186.99999999999994 s, source=0.0\n"
     ]
    },
    {
     "name": "stdout",
     "output_type": "stream",
     "text": [
      "[openmc.deplete] t=1213.0 s, dt=247.00000000000003 s, source=0.0\n"
     ]
    },
    {
     "name": "stdout",
     "output_type": "stream",
     "text": [
      "[openmc.deplete] t=1460.0 s, dt=247.00000000000003 s, source=0.0\n"
     ]
    },
    {
     "name": "stdout",
     "output_type": "stream",
     "text": [
      "[openmc.deplete] t=1707.0 s, dt=247.00000000000003 s, source=0.0\n"
     ]
    },
    {
     "name": "stdout",
     "output_type": "stream",
     "text": [
      "[openmc.deplete] t=1954.0 s, dt=427.0 s, source=0.0\n"
     ]
    },
    {
     "name": "stdout",
     "output_type": "stream",
     "text": [
      "[openmc.deplete] t=2381.0 s, dt=604.0000000000001 s, source=0.0\n"
     ]
    },
    {
     "name": "stdout",
     "output_type": "stream",
     "text": [
      "[openmc.deplete] t=2985.0 s, dt=607.0 s, source=0.0\n"
     ]
    },
    {
     "name": "stdout",
     "output_type": "stream",
     "text": [
      "[openmc.deplete] t=3592.0 (final operator evaluation)\n"
     ]
    },
    {
     "name": "stderr",
     "output_type": "stream",
     "text": [
      "/home/jon/.neutronicsworkshop_3.12/lib/python3.12/site-packages/openmc/deplete/results.py:94: FutureWarning: The ResultsList.from_hdf5(...) method is no longer necessary and will be removed in a future version of OpenMC. Use Results(...) instead.\n",
      "  warn(\n"
     ]
    },
    {
     "name": "stdout",
     "output_type": "stream",
     "text": [
      "[openmc.deplete] t=0.0 s, dt=300.0 s, source=11160000000.0\n"
     ]
    },
    {
     "name": "stdout",
     "output_type": "stream",
     "text": [
      "[openmc.deplete] t=300.0 s, dt=36.00000000000001 s, source=0.0\n"
     ]
    },
    {
     "name": "stderr",
     "output_type": "stream",
     "text": [
      "/home/jon/.neutronicsworkshop_3.12/lib/python3.12/site-packages/uncertainties/core.py:1024: UserWarning: Using UFloat objects with std_dev==0 may give unexpected results.\n",
      "  warn(\"Using UFloat objects with std_dev==0 may give unexpected results.\")\n"
     ]
    },
    {
     "name": "stdout",
     "output_type": "stream",
     "text": [
      "[openmc.deplete] t=336.0 s, dt=15.000000000000021 s, source=0.0\n"
     ]
    },
    {
     "name": "stdout",
     "output_type": "stream",
     "text": [
      "[openmc.deplete] t=351.0 s, dt=15.000000000000021 s, source=0.0\n"
     ]
    },
    {
     "name": "stdout",
     "output_type": "stream",
     "text": [
      "[openmc.deplete] t=366.0 s, dt=14.999999999999947 s, source=0.0\n"
     ]
    },
    {
     "name": "stdout",
     "output_type": "stream",
     "text": [
      "[openmc.deplete] t=380.99999999999994 s, dt=15.000000000000021 s, source=0.0\n"
     ]
    },
    {
     "name": "stdout",
     "output_type": "stream",
     "text": [
      "[openmc.deplete] t=395.99999999999994 s, dt=25.999999999999993 s, source=0.0\n"
     ]
    },
    {
     "name": "stdout",
     "output_type": "stream",
     "text": [
      "[openmc.deplete] t=421.99999999999994 s, dt=34.00000000000002 s, source=0.0\n"
     ]
    },
    {
     "name": "stdout",
     "output_type": "stream",
     "text": [
      "[openmc.deplete] t=455.99999999999994 s, dt=36.00000000000001 s, source=0.0\n"
     ]
    },
    {
     "name": "stdout",
     "output_type": "stream",
     "text": [
      "[openmc.deplete] t=491.99999999999994 s, dt=51.999999999999986 s, source=0.0\n"
     ]
    },
    {
     "name": "stdout",
     "output_type": "stream",
     "text": [
      "[openmc.deplete] t=543.9999999999999 s, dt=65.99999999999997 s, source=0.0\n"
     ]
    },
    {
     "name": "stdout",
     "output_type": "stream",
     "text": [
      "[openmc.deplete] t=609.9999999999999 s, dt=65.99999999999997 s, source=0.0\n"
     ]
    },
    {
     "name": "stdout",
     "output_type": "stream",
     "text": [
      "[openmc.deplete] t=675.9999999999999 s, dt=94.0000000000001 s, source=0.0\n"
     ]
    },
    {
     "name": "stdout",
     "output_type": "stream",
     "text": [
      "[openmc.deplete] t=770.0 s, dt=126.99999999999987 s, source=0.0\n"
     ]
    },
    {
     "name": "stdout",
     "output_type": "stream",
     "text": [
      "[openmc.deplete] t=896.9999999999999 s, dt=126.00000000000006 s, source=0.0\n"
     ]
    },
    {
     "name": "stdout",
     "output_type": "stream",
     "text": [
      "[openmc.deplete] t=1023.0 s, dt=186.99999999999994 s, source=0.0\n"
     ]
    },
    {
     "name": "stdout",
     "output_type": "stream",
     "text": [
      "[openmc.deplete] t=1210.0 s, dt=245.99999999999994 s, source=0.0\n"
     ]
    },
    {
     "name": "stdout",
     "output_type": "stream",
     "text": [
      "[openmc.deplete] t=1456.0 s, dt=246.00000000000009 s, source=0.0\n"
     ]
    },
    {
     "name": "stdout",
     "output_type": "stream",
     "text": [
      "[openmc.deplete] t=1702.0 s, dt=244.00000000000017 s, source=0.0\n"
     ]
    },
    {
     "name": "stdout",
     "output_type": "stream",
     "text": [
      "[openmc.deplete] t=1946.0000000000002 s, dt=427.0 s, source=0.0\n"
     ]
    },
    {
     "name": "stdout",
     "output_type": "stream",
     "text": [
      "[openmc.deplete] t=2373.0 s, dt=605.9999999999997 s, source=0.0\n"
     ]
    },
    {
     "name": "stdout",
     "output_type": "stream",
     "text": [
      "[openmc.deplete] t=2978.9999999999995 s, dt=606.0 s, source=0.0\n"
     ]
    },
    {
     "name": "stdout",
     "output_type": "stream",
     "text": [
      "[openmc.deplete] t=3584.9999999999995 (final operator evaluation)\n"
     ]
    },
    {
     "name": "stderr",
     "output_type": "stream",
     "text": [
      "/home/jon/.neutronicsworkshop_3.12/lib/python3.12/site-packages/openmc/deplete/results.py:94: FutureWarning: The ResultsList.from_hdf5(...) method is no longer necessary and will be removed in a future version of OpenMC. Use Results(...) instead.\n",
      "  warn(\n"
     ]
    },
    {
     "name": "stdout",
     "output_type": "stream",
     "text": [
      "[openmc.deplete] t=0.0 s, dt=300.0 s, source=11160000000.0\n"
     ]
    },
    {
     "name": "stdout",
     "output_type": "stream",
     "text": [
      "[openmc.deplete] t=300.0 s, dt=51.00000000000003 s, source=0.0\n"
     ]
    },
    {
     "name": "stderr",
     "output_type": "stream",
     "text": [
      "/home/jon/.neutronicsworkshop_3.12/lib/python3.12/site-packages/uncertainties/core.py:1024: UserWarning: Using UFloat objects with std_dev==0 may give unexpected results.\n",
      "  warn(\"Using UFloat objects with std_dev==0 may give unexpected results.\")\n"
     ]
    },
    {
     "name": "stdout",
     "output_type": "stream",
     "text": [
      "[openmc.deplete] t=351.0 s, dt=15.999999999999979 s, source=0.0\n"
     ]
    },
    {
     "name": "stdout",
     "output_type": "stream",
     "text": [
      "[openmc.deplete] t=367.0 s, dt=15.000000000000021 s, source=0.0\n"
     ]
    },
    {
     "name": "stdout",
     "output_type": "stream",
     "text": [
      "[openmc.deplete] t=382.0 s, dt=15.000000000000021 s, source=0.0\n"
     ]
    },
    {
     "name": "stdout",
     "output_type": "stream",
     "text": [
      "[openmc.deplete] t=397.0 s, dt=26.99999999999995 s, source=0.0\n"
     ]
    },
    {
     "name": "stdout",
     "output_type": "stream",
     "text": [
      "[openmc.deplete] t=423.99999999999994 s, dt=36.00000000000001 s, source=0.0\n"
     ]
    },
    {
     "name": "stdout",
     "output_type": "stream",
     "text": [
      "[openmc.deplete] t=459.99999999999994 s, dt=34.00000000000002 s, source=0.0\n"
     ]
    },
    {
     "name": "stdout",
     "output_type": "stream",
     "text": [
      "[openmc.deplete] t=493.99999999999994 s, dt=51.999999999999986 s, source=0.0\n"
     ]
    },
    {
     "name": "stdout",
     "output_type": "stream",
     "text": [
      "[openmc.deplete] t=545.9999999999999 s, dt=65.99999999999997 s, source=0.0\n"
     ]
    },
    {
     "name": "stdout",
     "output_type": "stream",
     "text": [
      "[openmc.deplete] t=611.9999999999999 s, dt=66.00000000000006 s, source=0.0\n"
     ]
    },
    {
     "name": "stdout",
     "output_type": "stream",
     "text": [
      "[openmc.deplete] t=678.0 s, dt=96.99999999999997 s, source=0.0\n"
     ]
    },
    {
     "name": "stdout",
     "output_type": "stream",
     "text": [
      "[openmc.deplete] t=775.0 s, dt=126.00000000000006 s, source=0.0\n"
     ]
    },
    {
     "name": "stdout",
     "output_type": "stream",
     "text": [
      "[openmc.deplete] t=901.0 s, dt=127.00000000000001 s, source=0.0\n"
     ]
    },
    {
     "name": "stdout",
     "output_type": "stream",
     "text": [
      "[openmc.deplete] t=1028.0 s, dt=183.99999999999994 s, source=0.0\n"
     ]
    },
    {
     "name": "stdout",
     "output_type": "stream",
     "text": [
      "[openmc.deplete] t=1212.0 s, dt=246.00000000000009 s, source=0.0\n"
     ]
    },
    {
     "name": "stdout",
     "output_type": "stream",
     "text": [
      "[openmc.deplete] t=1458.0 s, dt=247.00000000000003 s, source=0.0\n"
     ]
    },
    {
     "name": "stdout",
     "output_type": "stream",
     "text": [
      "[openmc.deplete] t=1705.0 s, dt=246.99999999999974 s, source=0.0\n"
     ]
    },
    {
     "name": "stdout",
     "output_type": "stream",
     "text": [
      "[openmc.deplete] t=1951.9999999999998 s, dt=427.0 s, source=0.0\n"
     ]
    },
    {
     "name": "stdout",
     "output_type": "stream",
     "text": [
      "[openmc.deplete] t=2379.0 s, dt=602.9999999999999 s, source=0.0\n"
     ]
    },
    {
     "name": "stdout",
     "output_type": "stream",
     "text": [
      "[openmc.deplete] t=2982.0 s, dt=606.0 s, source=0.0\n"
     ]
    },
    {
     "name": "stdout",
     "output_type": "stream",
     "text": [
      "[openmc.deplete] t=3588.0 (final operator evaluation)\n"
     ]
    },
    {
     "name": "stderr",
     "output_type": "stream",
     "text": [
      "/home/jon/.neutronicsworkshop_3.12/lib/python3.12/site-packages/openmc/deplete/results.py:94: FutureWarning: The ResultsList.from_hdf5(...) method is no longer necessary and will be removed in a future version of OpenMC. Use Results(...) instead.\n",
      "  warn(\n"
     ]
    },
    {
     "name": "stdout",
     "output_type": "stream",
     "text": [
      "[openmc.deplete] t=0.0 s, dt=300.0 s, source=11160000000.0\n"
     ]
    },
    {
     "name": "stdout",
     "output_type": "stream",
     "text": [
      "[openmc.deplete] t=300.0 s, dt=35.000000000000014 s, source=0.0\n"
     ]
    },
    {
     "name": "stderr",
     "output_type": "stream",
     "text": [
      "/home/jon/.neutronicsworkshop_3.12/lib/python3.12/site-packages/uncertainties/core.py:1024: UserWarning: Using UFloat objects with std_dev==0 may give unexpected results.\n",
      "  warn(\"Using UFloat objects with std_dev==0 may give unexpected results.\")\n"
     ]
    },
    {
     "name": "stdout",
     "output_type": "stream",
     "text": [
      "[openmc.deplete] t=335.0 s, dt=14.999999999999984 s, source=0.0\n"
     ]
    },
    {
     "name": "stdout",
     "output_type": "stream",
     "text": [
      "[openmc.deplete] t=350.0 s, dt=15.000000000000021 s, source=0.0\n"
     ]
    },
    {
     "name": "stdout",
     "output_type": "stream",
     "text": [
      "[openmc.deplete] t=365.0 s, dt=15.999999999999979 s, source=0.0\n"
     ]
    },
    {
     "name": "stdout",
     "output_type": "stream",
     "text": [
      "[openmc.deplete] t=381.0 s, dt=15.000000000000021 s, source=0.0\n"
     ]
    },
    {
     "name": "stdout",
     "output_type": "stream",
     "text": [
      "[openmc.deplete] t=396.0 s, dt=25.999999999999993 s, source=0.0\n"
     ]
    },
    {
     "name": "stdout",
     "output_type": "stream",
     "text": [
      "[openmc.deplete] t=422.0 s, dt=36.00000000000001 s, source=0.0\n"
     ]
    },
    {
     "name": "stdout",
     "output_type": "stream",
     "text": [
      "[openmc.deplete] t=458.0 s, dt=36.00000000000001 s, source=0.0\n"
     ]
    },
    {
     "name": "stdout",
     "output_type": "stream",
     "text": [
      "[openmc.deplete] t=494.0 s, dt=51.999999999999986 s, source=0.0\n"
     ]
    },
    {
     "name": "stdout",
     "output_type": "stream",
     "text": [
      "[openmc.deplete] t=546.0 s, dt=65.99999999999997 s, source=0.0\n"
     ]
    },
    {
     "name": "stdout",
     "output_type": "stream",
     "text": [
      "[openmc.deplete] t=612.0 s, dt=67.0 s, source=0.0\n"
     ]
    },
    {
     "name": "stdout",
     "output_type": "stream",
     "text": [
      "[openmc.deplete] t=679.0 s, dt=96.99999999999997 s, source=0.0\n"
     ]
    },
    {
     "name": "stdout",
     "output_type": "stream",
     "text": [
      "[openmc.deplete] t=776.0 s, dt=123.00000000000004 s, source=0.0\n"
     ]
    },
    {
     "name": "stdout",
     "output_type": "stream",
     "text": [
      "[openmc.deplete] t=899.0 s, dt=123.00000000000004 s, source=0.0\n"
     ]
    },
    {
     "name": "stdout",
     "output_type": "stream",
     "text": [
      "[openmc.deplete] t=1022.0 s, dt=183.99999999999994 s, source=0.0\n"
     ]
    },
    {
     "name": "stdout",
     "output_type": "stream",
     "text": [
      "[openmc.deplete] t=1206.0 s, dt=246.00000000000009 s, source=0.0\n"
     ]
    },
    {
     "name": "stdout",
     "output_type": "stream",
     "text": [
      "[openmc.deplete] t=1452.0 s, dt=247.00000000000003 s, source=0.0\n"
     ]
    },
    {
     "name": "stdout",
     "output_type": "stream",
     "text": [
      "[openmc.deplete] t=1699.0 s, dt=245.99999999999977 s, source=0.0\n"
     ]
    },
    {
     "name": "stdout",
     "output_type": "stream",
     "text": [
      "[openmc.deplete] t=1944.9999999999998 s, dt=427.0 s, source=0.0\n"
     ]
    },
    {
     "name": "stdout",
     "output_type": "stream",
     "text": [
      "[openmc.deplete] t=2372.0 s, dt=607.0 s, source=0.0\n"
     ]
    },
    {
     "name": "stdout",
     "output_type": "stream",
     "text": [
      "[openmc.deplete] t=2979.0 s, dt=606.0 s, source=0.0\n"
     ]
    },
    {
     "name": "stdout",
     "output_type": "stream",
     "text": [
      "[openmc.deplete] t=3585.0 (final operator evaluation)\n"
     ]
    },
    {
     "name": "stderr",
     "output_type": "stream",
     "text": [
      "/home/jon/.neutronicsworkshop_3.12/lib/python3.12/site-packages/openmc/deplete/results.py:94: FutureWarning: The ResultsList.from_hdf5(...) method is no longer necessary and will be removed in a future version of OpenMC. Use Results(...) instead.\n",
      "  warn(\n"
     ]
    },
    {
     "name": "stdout",
     "output_type": "stream",
     "text": [
      "[openmc.deplete] t=0.0 s, dt=27267.84 s, source=10500000000.0\n"
     ]
    },
    {
     "name": "stdout",
     "output_type": "stream",
     "text": [
      "[openmc.deplete] t=27267.84 s, dt=54864.0 s, source=0.0\n"
     ]
    },
    {
     "name": "stderr",
     "output_type": "stream",
     "text": [
      "/home/jon/.neutronicsworkshop_3.12/lib/python3.12/site-packages/uncertainties/core.py:1024: UserWarning: Using UFloat objects with std_dev==0 may give unexpected results.\n",
      "  warn(\"Using UFloat objects with std_dev==0 may give unexpected results.\")\n"
     ]
    },
    {
     "name": "stdout",
     "output_type": "stream",
     "text": [
      "[openmc.deplete] t=82131.84 s, dt=57801.59999999999 s, source=0.0\n"
     ]
    },
    {
     "name": "stdout",
     "output_type": "stream",
     "text": [
      "[openmc.deplete] t=139933.44 s, dt=136598.39999999997 s, source=0.0\n"
     ]
    },
    {
     "name": "stdout",
     "output_type": "stream",
     "text": [
      "[openmc.deplete] t=276531.83999999997 s, dt=346377.6 s, source=0.0\n"
     ]
    },
    {
     "name": "stdout",
     "output_type": "stream",
     "text": [
      "[openmc.deplete] t=622909.44 s, dt=517363.2 s, source=0.0\n"
     ]
    },
    {
     "name": "stdout",
     "output_type": "stream",
     "text": [
      "[openmc.deplete] t=1140272.64 s, dt=950745.5999999996 s, source=0.0\n"
     ]
    },
    {
     "name": "stdout",
     "output_type": "stream",
     "text": [
      "[openmc.deplete] t=2091018.2399999995 s, dt=2231884.8000000003 s, source=0.0\n"
     ]
    },
    {
     "name": "stdout",
     "output_type": "stream",
     "text": [
      "[openmc.deplete] t=4322903.04 s, dt=4336675.2 s, source=0.0\n"
     ]
    },
    {
     "name": "stdout",
     "output_type": "stream",
     "text": [
      "[openmc.deplete] t=8659578.24 s, dt=8659008.000000002 s, source=0.0\n"
     ]
    },
    {
     "name": "stdout",
     "output_type": "stream",
     "text": [
      "[openmc.deplete] t=17318586.240000002 s, dt=17696448.000000004 s, source=0.0\n"
     ]
    },
    {
     "name": "stdout",
     "output_type": "stream",
     "text": [
      "[openmc.deplete] t=35015034.24000001 (final operator evaluation)\n"
     ]
    },
    {
     "name": "stderr",
     "output_type": "stream",
     "text": [
      "/home/jon/.neutronicsworkshop_3.12/lib/python3.12/site-packages/openmc/deplete/results.py:94: FutureWarning: The ResultsList.from_hdf5(...) method is no longer necessary and will be removed in a future version of OpenMC. Use Results(...) instead.\n",
      "  warn(\n"
     ]
    },
    {
     "name": "stdout",
     "output_type": "stream",
     "text": [
      "[openmc.deplete] t=0.0 s, dt=300.0 s, source=11160000000.0\n"
     ]
    },
    {
     "name": "stdout",
     "output_type": "stream",
     "text": [
      "[openmc.deplete] t=300.0 s, dt=66.00000000000006 s, source=0.0\n"
     ]
    },
    {
     "name": "stderr",
     "output_type": "stream",
     "text": [
      "/home/jon/.neutronicsworkshop_3.12/lib/python3.12/site-packages/uncertainties/core.py:1024: UserWarning: Using UFloat objects with std_dev==0 may give unexpected results.\n",
      "  warn(\"Using UFloat objects with std_dev==0 may give unexpected results.\")\n"
     ]
    },
    {
     "name": "stdout",
     "output_type": "stream",
     "text": [
      "[openmc.deplete] t=366.00000000000006 s, dt=15.999999999999979 s, source=0.0\n"
     ]
    },
    {
     "name": "stdout",
     "output_type": "stream",
     "text": [
      "[openmc.deplete] t=382.00000000000006 s, dt=15.999999999999979 s, source=0.0\n"
     ]
    },
    {
     "name": "stdout",
     "output_type": "stream",
     "text": [
      "[openmc.deplete] t=398.00000000000006 s, dt=27.000000000000025 s, source=0.0\n"
     ]
    },
    {
     "name": "stdout",
     "output_type": "stream",
     "text": [
      "[openmc.deplete] t=425.00000000000006 s, dt=36.00000000000001 s, source=0.0\n"
     ]
    },
    {
     "name": "stdout",
     "output_type": "stream",
     "text": [
      "[openmc.deplete] t=461.00000000000006 s, dt=33.99999999999994 s, source=0.0\n"
     ]
    },
    {
     "name": "stdout",
     "output_type": "stream",
     "text": [
      "[openmc.deplete] t=495.0 s, dt=53.000000000000014 s, source=0.0\n"
     ]
    },
    {
     "name": "stdout",
     "output_type": "stream",
     "text": [
      "[openmc.deplete] t=548.0 s, dt=66.00000000000006 s, source=0.0\n"
     ]
    },
    {
     "name": "stdout",
     "output_type": "stream",
     "text": [
      "[openmc.deplete] t=614.0 s, dt=67.0 s, source=0.0\n"
     ]
    },
    {
     "name": "stdout",
     "output_type": "stream",
     "text": [
      "[openmc.deplete] t=681.0 s, dt=96.00000000000001 s, source=0.0\n"
     ]
    },
    {
     "name": "stdout",
     "output_type": "stream",
     "text": [
      "[openmc.deplete] t=777.0 s, dt=126.99999999999987 s, source=0.0\n"
     ]
    },
    {
     "name": "stdout",
     "output_type": "stream",
     "text": [
      "[openmc.deplete] t=903.9999999999999 s, dt=124.00000000000014 s, source=0.0\n"
     ]
    },
    {
     "name": "stdout",
     "output_type": "stream",
     "text": [
      "[openmc.deplete] t=1028.0 s, dt=126.99999999999987 s, source=0.0\n"
     ]
    },
    {
     "name": "stdout",
     "output_type": "stream",
     "text": [
      "[openmc.deplete] t=1154.9999999999998 s, dt=185.00000000000003 s, source=0.0\n"
     ]
    },
    {
     "name": "stdout",
     "output_type": "stream",
     "text": [
      "[openmc.deplete] t=1339.9999999999998 s, dt=244.00000000000003 s, source=0.0\n"
     ]
    },
    {
     "name": "stdout",
     "output_type": "stream",
     "text": [
      "[openmc.deplete] t=1583.9999999999998 s, dt=247.00000000000003 s, source=0.0\n"
     ]
    },
    {
     "name": "stdout",
     "output_type": "stream",
     "text": [
      "[openmc.deplete] t=1830.9999999999998 s, dt=247.00000000000003 s, source=0.0\n"
     ]
    },
    {
     "name": "stdout",
     "output_type": "stream",
     "text": [
      "[openmc.deplete] t=2078.0 s, dt=427.99999999999994 s, source=0.0\n"
     ]
    },
    {
     "name": "stdout",
     "output_type": "stream",
     "text": [
      "[openmc.deplete] t=2506.0 s, dt=607.0 s, source=0.0\n"
     ]
    },
    {
     "name": "stdout",
     "output_type": "stream",
     "text": [
      "[openmc.deplete] t=3113.0 s, dt=607.9999999999999 s, source=0.0\n"
     ]
    },
    {
     "name": "stdout",
     "output_type": "stream",
     "text": [
      "[openmc.deplete] t=3721.0 (final operator evaluation)\n"
     ]
    },
    {
     "name": "stderr",
     "output_type": "stream",
     "text": [
      "/home/jon/.neutronicsworkshop_3.12/lib/python3.12/site-packages/openmc/deplete/results.py:94: FutureWarning: The ResultsList.from_hdf5(...) method is no longer necessary and will be removed in a future version of OpenMC. Use Results(...) instead.\n",
      "  warn(\n"
     ]
    },
    {
     "name": "stdout",
     "output_type": "stream",
     "text": [
      "[openmc.deplete] t=0.0 s, dt=300.0 s, source=11160000000.0\n"
     ]
    },
    {
     "name": "stdout",
     "output_type": "stream",
     "text": [
      "[openmc.deplete] t=300.0 s, dt=36.00000000000001 s, source=0.0\n"
     ]
    },
    {
     "name": "stderr",
     "output_type": "stream",
     "text": [
      "/home/jon/.neutronicsworkshop_3.12/lib/python3.12/site-packages/uncertainties/core.py:1024: UserWarning: Using UFloat objects with std_dev==0 may give unexpected results.\n",
      "  warn(\"Using UFloat objects with std_dev==0 may give unexpected results.\")\n"
     ]
    },
    {
     "name": "stdout",
     "output_type": "stream",
     "text": [
      "[openmc.deplete] t=336.0 s, dt=15.999999999999979 s, source=0.0\n"
     ]
    },
    {
     "name": "stdout",
     "output_type": "stream",
     "text": [
      "[openmc.deplete] t=352.0 s, dt=16.000000000000053 s, source=0.0\n"
     ]
    },
    {
     "name": "stdout",
     "output_type": "stream",
     "text": [
      "[openmc.deplete] t=368.00000000000006 s, dt=14.999999999999947 s, source=0.0\n"
     ]
    },
    {
     "name": "stdout",
     "output_type": "stream",
     "text": [
      "[openmc.deplete] t=383.0 s, dt=17.00000000000001 s, source=0.0\n"
     ]
    },
    {
     "name": "stdout",
     "output_type": "stream",
     "text": [
      "[openmc.deplete] t=400.0 s, dt=25.999999999999993 s, source=0.0\n"
     ]
    },
    {
     "name": "stdout",
     "output_type": "stream",
     "text": [
      "[openmc.deplete] t=426.0 s, dt=37.000000000000036 s, source=0.0\n"
     ]
    },
    {
     "name": "stdout",
     "output_type": "stream",
     "text": [
      "[openmc.deplete] t=463.00000000000006 s, dt=36.00000000000001 s, source=0.0\n"
     ]
    },
    {
     "name": "stdout",
     "output_type": "stream",
     "text": [
      "[openmc.deplete] t=499.00000000000006 s, dt=53.000000000000014 s, source=0.0\n"
     ]
    },
    {
     "name": "stdout",
     "output_type": "stream",
     "text": [
      "[openmc.deplete] t=552.0000000000001 s, dt=63.999999999999986 s, source=0.0\n"
     ]
    },
    {
     "name": "stdout",
     "output_type": "stream",
     "text": [
      "[openmc.deplete] t=616.0000000000001 s, dt=66.99999999999993 s, source=0.0\n"
     ]
    },
    {
     "name": "stdout",
     "output_type": "stream",
     "text": [
      "[openmc.deplete] t=683.0 s, dt=98.00000000000009 s, source=0.0\n"
     ]
    },
    {
     "name": "stdout",
     "output_type": "stream",
     "text": [
      "[openmc.deplete] t=781.0000000000001 s, dt=127.00000000000001 s, source=0.0\n"
     ]
    },
    {
     "name": "stdout",
     "output_type": "stream",
     "text": [
      "[openmc.deplete] t=908.0000000000001 s, dt=127.00000000000001 s, source=0.0\n"
     ]
    },
    {
     "name": "stdout",
     "output_type": "stream",
     "text": [
      "[openmc.deplete] t=1035.0000000000002 s, dt=184.9999999999999 s, source=0.0\n"
     ]
    },
    {
     "name": "stdout",
     "output_type": "stream",
     "text": [
      "[openmc.deplete] t=1220.0 s, dt=242.99999999999991 s, source=0.0\n"
     ]
    },
    {
     "name": "stdout",
     "output_type": "stream",
     "text": [
      "[openmc.deplete] t=1463.0 s, dt=244.00000000000017 s, source=0.0\n"
     ]
    },
    {
     "name": "stdout",
     "output_type": "stream",
     "text": [
      "[openmc.deplete] t=1707.0000000000002 s, dt=247.00000000000003 s, source=0.0\n"
     ]
    },
    {
     "name": "stdout",
     "output_type": "stream",
     "text": [
      "[openmc.deplete] t=1954.0000000000002 s, dt=427.99999999999994 s, source=0.0\n"
     ]
    },
    {
     "name": "stdout",
     "output_type": "stream",
     "text": [
      "[openmc.deplete] t=2382.0 s, dt=604.0000000000001 s, source=0.0\n"
     ]
    },
    {
     "name": "stdout",
     "output_type": "stream",
     "text": [
      "[openmc.deplete] t=2986.0 s, dt=605.0 s, source=0.0\n"
     ]
    },
    {
     "name": "stdout",
     "output_type": "stream",
     "text": [
      "[openmc.deplete] t=3591.0 (final operator evaluation)\n"
     ]
    },
    {
     "name": "stderr",
     "output_type": "stream",
     "text": [
      "/home/jon/.neutronicsworkshop_3.12/lib/python3.12/site-packages/openmc/deplete/results.py:94: FutureWarning: The ResultsList.from_hdf5(...) method is no longer necessary and will be removed in a future version of OpenMC. Use Results(...) instead.\n",
      "  warn(\n"
     ]
    },
    {
     "name": "stdout",
     "output_type": "stream",
     "text": [
      "[openmc.deplete] t=0.0 s, dt=300.0 s, source=11160000000.0\n"
     ]
    },
    {
     "name": "stdout",
     "output_type": "stream",
     "text": [
      "[openmc.deplete] t=300.0 s, dt=20.00000000000003 s, source=0.0\n"
     ]
    },
    {
     "name": "stderr",
     "output_type": "stream",
     "text": [
      "/home/jon/.neutronicsworkshop_3.12/lib/python3.12/site-packages/uncertainties/core.py:1024: UserWarning: Using UFloat objects with std_dev==0 may give unexpected results.\n",
      "  warn(\"Using UFloat objects with std_dev==0 may give unexpected results.\")\n"
     ]
    },
    {
     "name": "stdout",
     "output_type": "stream",
     "text": [
      "[openmc.deplete] t=320.0 s, dt=14.999999999999984 s, source=0.0\n"
     ]
    },
    {
     "name": "stdout",
     "output_type": "stream",
     "text": [
      "[openmc.deplete] t=335.0 s, dt=14.999999999999984 s, source=0.0\n"
     ]
    },
    {
     "name": "stdout",
     "output_type": "stream",
     "text": [
      "[openmc.deplete] t=350.0 s, dt=16.000000000000053 s, source=0.0\n"
     ]
    },
    {
     "name": "stdout",
     "output_type": "stream",
     "text": [
      "[openmc.deplete] t=366.00000000000006 s, dt=14.999999999999947 s, source=0.0\n"
     ]
    },
    {
     "name": "stdout",
     "output_type": "stream",
     "text": [
      "[openmc.deplete] t=381.0 s, dt=15.000000000000021 s, source=0.0\n"
     ]
    },
    {
     "name": "stdout",
     "output_type": "stream",
     "text": [
      "[openmc.deplete] t=396.0 s, dt=24.99999999999996 s, source=0.0\n"
     ]
    },
    {
     "name": "stdout",
     "output_type": "stream",
     "text": [
      "[openmc.deplete] t=420.99999999999994 s, dt=37.000000000000036 s, source=0.0\n"
     ]
    },
    {
     "name": "stdout",
     "output_type": "stream",
     "text": [
      "[openmc.deplete] t=458.0 s, dt=36.00000000000001 s, source=0.0\n"
     ]
    },
    {
     "name": "stdout",
     "output_type": "stream",
     "text": [
      "[openmc.deplete] t=494.0 s, dt=48.999999999999964 s, source=0.0\n"
     ]
    },
    {
     "name": "stdout",
     "output_type": "stream",
     "text": [
      "[openmc.deplete] t=543.0 s, dt=66.00000000000006 s, source=0.0\n"
     ]
    },
    {
     "name": "stdout",
     "output_type": "stream",
     "text": [
      "[openmc.deplete] t=609.0 s, dt=65.99999999999997 s, source=0.0\n"
     ]
    },
    {
     "name": "stdout",
     "output_type": "stream",
     "text": [
      "[openmc.deplete] t=675.0 s, dt=93.99999999999996 s, source=0.0\n"
     ]
    },
    {
     "name": "stdout",
     "output_type": "stream",
     "text": [
      "[openmc.deplete] t=769.0 s, dt=126.00000000000006 s, source=0.0\n"
     ]
    },
    {
     "name": "stdout",
     "output_type": "stream",
     "text": [
      "[openmc.deplete] t=895.0 s, dt=123.00000000000004 s, source=0.0\n"
     ]
    },
    {
     "name": "stdout",
     "output_type": "stream",
     "text": [
      "[openmc.deplete] t=1018.0 s, dt=183.99999999999994 s, source=0.0\n"
     ]
    },
    {
     "name": "stdout",
     "output_type": "stream",
     "text": [
      "[openmc.deplete] t=1202.0 s, dt=245.99999999999994 s, source=0.0\n"
     ]
    },
    {
     "name": "stdout",
     "output_type": "stream",
     "text": [
      "[openmc.deplete] t=1448.0 s, dt=247.00000000000003 s, source=0.0\n"
     ]
    },
    {
     "name": "stdout",
     "output_type": "stream",
     "text": [
      "[openmc.deplete] t=1695.0 s, dt=246.00000000000009 s, source=0.0\n"
     ]
    },
    {
     "name": "stdout",
     "output_type": "stream",
     "text": [
      "[openmc.deplete] t=1941.0 s, dt=427.0 s, source=0.0\n"
     ]
    },
    {
     "name": "stdout",
     "output_type": "stream",
     "text": [
      "[openmc.deplete] t=2368.0 s, dt=606.0 s, source=0.0\n"
     ]
    },
    {
     "name": "stdout",
     "output_type": "stream",
     "text": [
      "[openmc.deplete] t=2974.0 s, dt=607.0 s, source=0.0\n"
     ]
    },
    {
     "name": "stdout",
     "output_type": "stream",
     "text": [
      "[openmc.deplete] t=3581.0 (final operator evaluation)\n"
     ]
    },
    {
     "name": "stderr",
     "output_type": "stream",
     "text": [
      "/home/jon/.neutronicsworkshop_3.12/lib/python3.12/site-packages/openmc/deplete/results.py:94: FutureWarning: The ResultsList.from_hdf5(...) method is no longer necessary and will be removed in a future version of OpenMC. Use Results(...) instead.\n",
      "  warn(\n"
     ]
    },
    {
     "name": "stdout",
     "output_type": "stream",
     "text": [
      "[openmc.deplete] t=0.0 s, dt=300.0 s, source=11160000000.0\n"
     ]
    },
    {
     "name": "stdout",
     "output_type": "stream",
     "text": [
      "[openmc.deplete] t=300.0 s, dt=35.000000000000014 s, source=0.0\n"
     ]
    },
    {
     "name": "stderr",
     "output_type": "stream",
     "text": [
      "/home/jon/.neutronicsworkshop_3.12/lib/python3.12/site-packages/uncertainties/core.py:1024: UserWarning: Using UFloat objects with std_dev==0 may give unexpected results.\n",
      "  warn(\"Using UFloat objects with std_dev==0 may give unexpected results.\")\n"
     ]
    },
    {
     "name": "stdout",
     "output_type": "stream",
     "text": [
      "[openmc.deplete] t=335.0 s, dt=14.999999999999984 s, source=0.0\n"
     ]
    },
    {
     "name": "stdout",
     "output_type": "stream",
     "text": [
      "[openmc.deplete] t=350.0 s, dt=15.000000000000021 s, source=0.0\n"
     ]
    },
    {
     "name": "stdout",
     "output_type": "stream",
     "text": [
      "[openmc.deplete] t=365.0 s, dt=15.000000000000021 s, source=0.0\n"
     ]
    },
    {
     "name": "stdout",
     "output_type": "stream",
     "text": [
      "[openmc.deplete] t=380.0 s, dt=14.999999999999947 s, source=0.0\n"
     ]
    },
    {
     "name": "stdout",
     "output_type": "stream",
     "text": [
      "[openmc.deplete] t=394.99999999999994 s, dt=25.999999999999993 s, source=0.0\n"
     ]
    },
    {
     "name": "stdout",
     "output_type": "stream",
     "text": [
      "[openmc.deplete] t=420.99999999999994 s, dt=33.000000000000064 s, source=0.0\n"
     ]
    },
    {
     "name": "stdout",
     "output_type": "stream",
     "text": [
      "[openmc.deplete] t=454.0 s, dt=36.999999999999964 s, source=0.0\n"
     ]
    },
    {
     "name": "stdout",
     "output_type": "stream",
     "text": [
      "[openmc.deplete] t=490.99999999999994 s, dt=51.00000000000003 s, source=0.0\n"
     ]
    },
    {
     "name": "stdout",
     "output_type": "stream",
     "text": [
      "[openmc.deplete] t=542.0 s, dt=65.99999999999997 s, source=0.0\n"
     ]
    },
    {
     "name": "stdout",
     "output_type": "stream",
     "text": [
      "[openmc.deplete] t=608.0 s, dt=67.0 s, source=0.0\n"
     ]
    },
    {
     "name": "stdout",
     "output_type": "stream",
     "text": [
      "[openmc.deplete] t=675.0 s, dt=96.00000000000001 s, source=0.0\n"
     ]
    },
    {
     "name": "stdout",
     "output_type": "stream",
     "text": [
      "[openmc.deplete] t=771.0 s, dt=127.00000000000001 s, source=0.0\n"
     ]
    },
    {
     "name": "stdout",
     "output_type": "stream",
     "text": [
      "[openmc.deplete] t=898.0 s, dt=125.99999999999991 s, source=0.0\n"
     ]
    },
    {
     "name": "stdout",
     "output_type": "stream",
     "text": [
      "[openmc.deplete] t=1023.9999999999999 s, dt=187.0000000000001 s, source=0.0\n"
     ]
    },
    {
     "name": "stdout",
     "output_type": "stream",
     "text": [
      "[openmc.deplete] t=1211.0 s, dt=246.00000000000009 s, source=0.0\n"
     ]
    },
    {
     "name": "stdout",
     "output_type": "stream",
     "text": [
      "[openmc.deplete] t=1457.0 s, dt=242.99999999999991 s, source=0.0\n"
     ]
    },
    {
     "name": "stdout",
     "output_type": "stream",
     "text": [
      "[openmc.deplete] t=1700.0 s, dt=246.00000000000009 s, source=0.0\n"
     ]
    },
    {
     "name": "stdout",
     "output_type": "stream",
     "text": [
      "[openmc.deplete] t=1946.0 s, dt=423.99999999999983 s, source=0.0\n"
     ]
    },
    {
     "name": "stdout",
     "output_type": "stream",
     "text": [
      "[openmc.deplete] t=2370.0 s, dt=606.0 s, source=0.0\n"
     ]
    },
    {
     "name": "stdout",
     "output_type": "stream",
     "text": [
      "[openmc.deplete] t=2976.0 s, dt=606.0 s, source=0.0\n"
     ]
    },
    {
     "name": "stdout",
     "output_type": "stream",
     "text": [
      "[openmc.deplete] t=3582.0 (final operator evaluation)\n"
     ]
    },
    {
     "name": "stderr",
     "output_type": "stream",
     "text": [
      "/home/jon/.neutronicsworkshop_3.12/lib/python3.12/site-packages/openmc/deplete/results.py:94: FutureWarning: The ResultsList.from_hdf5(...) method is no longer necessary and will be removed in a future version of OpenMC. Use Results(...) instead.\n",
      "  warn(\n"
     ]
    },
    {
     "name": "stdout",
     "output_type": "stream",
     "text": [
      "[openmc.deplete] t=0.0 s, dt=27267.84 s, source=10500000000.0\n"
     ]
    },
    {
     "name": "stdout",
     "output_type": "stream",
     "text": [
      "[openmc.deplete] t=27267.84 s, dt=54604.8 s, source=0.0\n"
     ]
    },
    {
     "name": "stderr",
     "output_type": "stream",
     "text": [
      "/home/jon/.neutronicsworkshop_3.12/lib/python3.12/site-packages/uncertainties/core.py:1024: UserWarning: Using UFloat objects with std_dev==0 may give unexpected results.\n",
      "  warn(\"Using UFloat objects with std_dev==0 may give unexpected results.\")\n"
     ]
    },
    {
     "name": "stdout",
     "output_type": "stream",
     "text": [
      "[openmc.deplete] t=81872.64 s, dt=58320.00000000002 s, source=0.0\n"
     ]
    },
    {
     "name": "stdout",
     "output_type": "stream",
     "text": [
      "[openmc.deplete] t=140192.64 s, dt=136684.80000000002 s, source=0.0\n"
     ]
    },
    {
     "name": "stdout",
     "output_type": "stream",
     "text": [
      "[openmc.deplete] t=276877.44000000006 s, dt=342748.79999999993 s, source=0.0\n"
     ]
    },
    {
     "name": "stdout",
     "output_type": "stream",
     "text": [
      "[openmc.deplete] t=619626.24 s, dt=517968.00000000006 s, source=0.0\n"
     ]
    },
    {
     "name": "stdout",
     "output_type": "stream",
     "text": [
      "[openmc.deplete] t=1137594.24 s, dt=949708.7999999999 s, source=0.0\n"
     ]
    },
    {
     "name": "stdout",
     "output_type": "stream",
     "text": [
      "[openmc.deplete] t=2087303.04 s, dt=2233872.0000000005 s, source=0.0\n"
     ]
    },
    {
     "name": "stdout",
     "output_type": "stream",
     "text": [
      "[openmc.deplete] t=4321175.040000001 s, dt=4336415.999999999 s, source=0.0\n"
     ]
    },
    {
     "name": "stdout",
     "output_type": "stream",
     "text": [
      "[openmc.deplete] t=8657591.04 s, dt=8659008.0 s, source=0.0\n"
     ]
    },
    {
     "name": "stdout",
     "output_type": "stream",
     "text": [
      "[openmc.deplete] t=17316599.04 s, dt=17698176.0 s, source=0.0\n"
     ]
    },
    {
     "name": "stdout",
     "output_type": "stream",
     "text": [
      "[openmc.deplete] t=35014775.04 (final operator evaluation)\n"
     ]
    },
    {
     "name": "stderr",
     "output_type": "stream",
     "text": [
      "/home/jon/.neutronicsworkshop_3.12/lib/python3.12/site-packages/openmc/deplete/results.py:94: FutureWarning: The ResultsList.from_hdf5(...) method is no longer necessary and will be removed in a future version of OpenMC. Use Results(...) instead.\n",
      "  warn(\n"
     ]
    },
    {
     "name": "stdout",
     "output_type": "stream",
     "text": [
      "[openmc.deplete] t=0.0 s, dt=300.0 s, source=11160000000.0\n"
     ]
    },
    {
     "name": "stdout",
     "output_type": "stream",
     "text": [
      "[openmc.deplete] t=300.0 s, dt=35.000000000000014 s, source=0.0\n"
     ]
    },
    {
     "name": "stderr",
     "output_type": "stream",
     "text": [
      "/home/jon/.neutronicsworkshop_3.12/lib/python3.12/site-packages/uncertainties/core.py:1024: UserWarning: Using UFloat objects with std_dev==0 may give unexpected results.\n",
      "  warn(\"Using UFloat objects with std_dev==0 may give unexpected results.\")\n"
     ]
    },
    {
     "name": "stdout",
     "output_type": "stream",
     "text": [
      "[openmc.deplete] t=335.0 s, dt=14.999999999999984 s, source=0.0\n"
     ]
    },
    {
     "name": "stdout",
     "output_type": "stream",
     "text": [
      "[openmc.deplete] t=350.0 s, dt=15.000000000000021 s, source=0.0\n"
     ]
    },
    {
     "name": "stdout",
     "output_type": "stream",
     "text": [
      "[openmc.deplete] t=365.0 s, dt=15.000000000000021 s, source=0.0\n"
     ]
    },
    {
     "name": "stdout",
     "output_type": "stream",
     "text": [
      "[openmc.deplete] t=380.0 s, dt=14.999999999999947 s, source=0.0\n"
     ]
    },
    {
     "name": "stdout",
     "output_type": "stream",
     "text": [
      "[openmc.deplete] t=394.99999999999994 s, dt=25.999999999999993 s, source=0.0\n"
     ]
    },
    {
     "name": "stdout",
     "output_type": "stream",
     "text": [
      "[openmc.deplete] t=420.99999999999994 s, dt=33.000000000000064 s, source=0.0\n"
     ]
    },
    {
     "name": "stdout",
     "output_type": "stream",
     "text": [
      "[openmc.deplete] t=454.0 s, dt=36.999999999999964 s, source=0.0\n"
     ]
    },
    {
     "name": "stdout",
     "output_type": "stream",
     "text": [
      "[openmc.deplete] t=490.99999999999994 s, dt=51.00000000000003 s, source=0.0\n"
     ]
    },
    {
     "name": "stdout",
     "output_type": "stream",
     "text": [
      "[openmc.deplete] t=542.0 s, dt=65.99999999999997 s, source=0.0\n"
     ]
    },
    {
     "name": "stdout",
     "output_type": "stream",
     "text": [
      "[openmc.deplete] t=608.0 s, dt=67.0 s, source=0.0\n"
     ]
    },
    {
     "name": "stdout",
     "output_type": "stream",
     "text": [
      "[openmc.deplete] t=675.0 s, dt=96.00000000000001 s, source=0.0\n"
     ]
    },
    {
     "name": "stdout",
     "output_type": "stream",
     "text": [
      "[openmc.deplete] t=771.0 s, dt=127.00000000000001 s, source=0.0\n"
     ]
    },
    {
     "name": "stdout",
     "output_type": "stream",
     "text": [
      "[openmc.deplete] t=898.0 s, dt=125.99999999999991 s, source=0.0\n"
     ]
    },
    {
     "name": "stdout",
     "output_type": "stream",
     "text": [
      "[openmc.deplete] t=1023.9999999999999 s, dt=187.0000000000001 s, source=0.0\n"
     ]
    },
    {
     "name": "stdout",
     "output_type": "stream",
     "text": [
      "[openmc.deplete] t=1211.0 s, dt=246.00000000000009 s, source=0.0\n"
     ]
    },
    {
     "name": "stdout",
     "output_type": "stream",
     "text": [
      "[openmc.deplete] t=1457.0 s, dt=242.99999999999991 s, source=0.0\n"
     ]
    },
    {
     "name": "stdout",
     "output_type": "stream",
     "text": [
      "[openmc.deplete] t=1700.0 s, dt=246.00000000000009 s, source=0.0\n"
     ]
    },
    {
     "name": "stdout",
     "output_type": "stream",
     "text": [
      "[openmc.deplete] t=1946.0 s, dt=423.99999999999983 s, source=0.0\n"
     ]
    },
    {
     "name": "stdout",
     "output_type": "stream",
     "text": [
      "[openmc.deplete] t=2370.0 s, dt=606.0 s, source=0.0\n"
     ]
    },
    {
     "name": "stdout",
     "output_type": "stream",
     "text": [
      "[openmc.deplete] t=2976.0 s, dt=606.0 s, source=0.0\n"
     ]
    },
    {
     "name": "stdout",
     "output_type": "stream",
     "text": [
      "[openmc.deplete] t=3582.0 (final operator evaluation)\n"
     ]
    },
    {
     "name": "stderr",
     "output_type": "stream",
     "text": [
      "/home/jon/.neutronicsworkshop_3.12/lib/python3.12/site-packages/openmc/deplete/results.py:94: FutureWarning: The ResultsList.from_hdf5(...) method is no longer necessary and will be removed in a future version of OpenMC. Use Results(...) instead.\n",
      "  warn(\n"
     ]
    },
    {
     "name": "stdout",
     "output_type": "stream",
     "text": [
      "[openmc.deplete] t=0.0 s, dt=300.0 s, source=11160000000.0\n"
     ]
    },
    {
     "name": "stdout",
     "output_type": "stream",
     "text": [
      "[openmc.deplete] t=300.0 s, dt=35.000000000000014 s, source=0.0\n"
     ]
    },
    {
     "name": "stderr",
     "output_type": "stream",
     "text": [
      "/home/jon/.neutronicsworkshop_3.12/lib/python3.12/site-packages/uncertainties/core.py:1024: UserWarning: Using UFloat objects with std_dev==0 may give unexpected results.\n",
      "  warn(\"Using UFloat objects with std_dev==0 may give unexpected results.\")\n"
     ]
    },
    {
     "name": "stdout",
     "output_type": "stream",
     "text": [
      "[openmc.deplete] t=335.0 s, dt=16.000000000000014 s, source=0.0\n"
     ]
    },
    {
     "name": "stdout",
     "output_type": "stream",
     "text": [
      "[openmc.deplete] t=351.0 s, dt=15.000000000000021 s, source=0.0\n"
     ]
    },
    {
     "name": "stdout",
     "output_type": "stream",
     "text": [
      "[openmc.deplete] t=366.0 s, dt=14.999999999999947 s, source=0.0\n"
     ]
    },
    {
     "name": "stdout",
     "output_type": "stream",
     "text": [
      "[openmc.deplete] t=380.99999999999994 s, dt=15.000000000000021 s, source=0.0\n"
     ]
    },
    {
     "name": "stdout",
     "output_type": "stream",
     "text": [
      "[openmc.deplete] t=395.99999999999994 s, dt=27.000000000000025 s, source=0.0\n"
     ]
    },
    {
     "name": "stdout",
     "output_type": "stream",
     "text": [
      "[openmc.deplete] t=422.99999999999994 s, dt=36.00000000000001 s, source=0.0\n"
     ]
    },
    {
     "name": "stdout",
     "output_type": "stream",
     "text": [
      "[openmc.deplete] t=458.99999999999994 s, dt=35.99999999999993 s, source=0.0\n"
     ]
    },
    {
     "name": "stdout",
     "output_type": "stream",
     "text": [
      "[openmc.deplete] t=494.9999999999999 s, dt=52.00000000000006 s, source=0.0\n"
     ]
    },
    {
     "name": "stdout",
     "output_type": "stream",
     "text": [
      "[openmc.deplete] t=547.0 s, dt=67.0 s, source=0.0\n"
     ]
    },
    {
     "name": "stdout",
     "output_type": "stream",
     "text": [
      "[openmc.deplete] t=614.0 s, dt=65.9999999999999 s, source=0.0\n"
     ]
    },
    {
     "name": "stdout",
     "output_type": "stream",
     "text": [
      "[openmc.deplete] t=679.9999999999999 s, dt=98.00000000000009 s, source=0.0\n"
     ]
    },
    {
     "name": "stdout",
     "output_type": "stream",
     "text": [
      "[openmc.deplete] t=778.0 s, dt=125.99999999999991 s, source=0.0\n"
     ]
    },
    {
     "name": "stdout",
     "output_type": "stream",
     "text": [
      "[openmc.deplete] t=903.9999999999999 s, dt=123.00000000000004 s, source=0.0\n"
     ]
    },
    {
     "name": "stdout",
     "output_type": "stream",
     "text": [
      "[openmc.deplete] t=1027.0 s, dt=185.00000000000003 s, source=0.0\n"
     ]
    },
    {
     "name": "stdout",
     "output_type": "stream",
     "text": [
      "[openmc.deplete] t=1212.0 s, dt=242.99999999999991 s, source=0.0\n"
     ]
    },
    {
     "name": "stdout",
     "output_type": "stream",
     "text": [
      "[openmc.deplete] t=1455.0 s, dt=247.00000000000003 s, source=0.0\n"
     ]
    },
    {
     "name": "stdout",
     "output_type": "stream",
     "text": [
      "[openmc.deplete] t=1702.0 s, dt=246.00000000000009 s, source=0.0\n"
     ]
    },
    {
     "name": "stdout",
     "output_type": "stream",
     "text": [
      "[openmc.deplete] t=1948.0 s, dt=425.0000000000001 s, source=0.0\n"
     ]
    },
    {
     "name": "stdout",
     "output_type": "stream",
     "text": [
      "[openmc.deplete] t=2373.0 s, dt=605.9999999999997 s, source=0.0\n"
     ]
    },
    {
     "name": "stdout",
     "output_type": "stream",
     "text": [
      "[openmc.deplete] t=2978.9999999999995 s, dt=607.0 s, source=0.0\n"
     ]
    },
    {
     "name": "stdout",
     "output_type": "stream",
     "text": [
      "[openmc.deplete] t=3585.9999999999995 (final operator evaluation)\n"
     ]
    },
    {
     "name": "stderr",
     "output_type": "stream",
     "text": [
      "/home/jon/.neutronicsworkshop_3.12/lib/python3.12/site-packages/openmc/deplete/results.py:94: FutureWarning: The ResultsList.from_hdf5(...) method is no longer necessary and will be removed in a future version of OpenMC. Use Results(...) instead.\n",
      "  warn(\n"
     ]
    },
    {
     "name": "stdout",
     "output_type": "stream",
     "text": [
      "[openmc.deplete] t=0.0 s, dt=27267.84 s, source=10500000000.0\n"
     ]
    },
    {
     "name": "stdout",
     "output_type": "stream",
     "text": [
      "[openmc.deplete] t=27267.84 s, dt=54172.8 s, source=0.0\n"
     ]
    },
    {
     "name": "stderr",
     "output_type": "stream",
     "text": [
      "/home/jon/.neutronicsworkshop_3.12/lib/python3.12/site-packages/uncertainties/core.py:1024: UserWarning: Using UFloat objects with std_dev==0 may give unexpected results.\n",
      "  warn(\"Using UFloat objects with std_dev==0 may give unexpected results.\")\n"
     ]
    },
    {
     "name": "stdout",
     "output_type": "stream",
     "text": [
      "[openmc.deplete] t=81440.64 s, dt=58060.8 s, source=0.0\n"
     ]
    },
    {
     "name": "stdout",
     "output_type": "stream",
     "text": [
      "[openmc.deplete] t=139501.44 s, dt=136598.39999999997 s, source=0.0\n"
     ]
    },
    {
     "name": "stdout",
     "output_type": "stream",
     "text": [
      "[openmc.deplete] t=276099.83999999997 s, dt=343008.0 s, source=0.0\n"
     ]
    },
    {
     "name": "stdout",
     "output_type": "stream",
     "text": [
      "[openmc.deplete] t=619107.84 s, dt=517881.6 s, source=0.0\n"
     ]
    },
    {
     "name": "stdout",
     "output_type": "stream",
     "text": [
      "[openmc.deplete] t=1136989.44 s, dt=949795.2000000003 s, source=0.0\n"
     ]
    },
    {
     "name": "stdout",
     "output_type": "stream",
     "text": [
      "[openmc.deplete] t=2086784.6400000001 s, dt=2233958.4000000004 s, source=0.0\n"
     ]
    },
    {
     "name": "stdout",
     "output_type": "stream",
     "text": [
      "[openmc.deplete] t=4320743.040000001 s, dt=4336329.6 s, source=0.0\n"
     ]
    },
    {
     "name": "stdout",
     "output_type": "stream",
     "text": [
      "[openmc.deplete] t=8657072.64 s, dt=8659007.999999998 s, source=0.0\n"
     ]
    },
    {
     "name": "stdout",
     "output_type": "stream",
     "text": [
      "[openmc.deplete] t=17316080.64 s, dt=17697312.000000004 s, source=0.0\n"
     ]
    },
    {
     "name": "stdout",
     "output_type": "stream",
     "text": [
      "[openmc.deplete] t=35013392.64 (final operator evaluation)\n"
     ]
    },
    {
     "name": "stderr",
     "output_type": "stream",
     "text": [
      "/home/jon/.neutronicsworkshop_3.12/lib/python3.12/site-packages/openmc/deplete/results.py:94: FutureWarning: The ResultsList.from_hdf5(...) method is no longer necessary and will be removed in a future version of OpenMC. Use Results(...) instead.\n",
      "  warn(\n"
     ]
    },
    {
     "name": "stdout",
     "output_type": "stream",
     "text": [
      "[openmc.deplete] t=0.0 s, dt=300.0 s, source=11160000000.0\n"
     ]
    },
    {
     "name": "stdout",
     "output_type": "stream",
     "text": [
      "[openmc.deplete] t=300.0 s, dt=66.00000000000006 s, source=0.0\n"
     ]
    },
    {
     "name": "stderr",
     "output_type": "stream",
     "text": [
      "/home/jon/.neutronicsworkshop_3.12/lib/python3.12/site-packages/uncertainties/core.py:1024: UserWarning: Using UFloat objects with std_dev==0 may give unexpected results.\n",
      "  warn(\"Using UFloat objects with std_dev==0 may give unexpected results.\")\n"
     ]
    },
    {
     "name": "stdout",
     "output_type": "stream",
     "text": [
      "[openmc.deplete] t=366.00000000000006 s, dt=14.999999999999947 s, source=0.0\n"
     ]
    },
    {
     "name": "stdout",
     "output_type": "stream",
     "text": [
      "[openmc.deplete] t=381.0 s, dt=16.000000000000053 s, source=0.0\n"
     ]
    },
    {
     "name": "stdout",
     "output_type": "stream",
     "text": [
      "[openmc.deplete] t=397.00000000000006 s, dt=26.99999999999995 s, source=0.0\n"
     ]
    },
    {
     "name": "stdout",
     "output_type": "stream",
     "text": [
      "[openmc.deplete] t=424.0 s, dt=37.000000000000036 s, source=0.0\n"
     ]
    },
    {
     "name": "stdout",
     "output_type": "stream",
     "text": [
      "[openmc.deplete] t=461.00000000000006 s, dt=36.00000000000001 s, source=0.0\n"
     ]
    },
    {
     "name": "stdout",
     "output_type": "stream",
     "text": [
      "[openmc.deplete] t=497.00000000000006 s, dt=50.0 s, source=0.0\n"
     ]
    },
    {
     "name": "stdout",
     "output_type": "stream",
     "text": [
      "[openmc.deplete] t=547.0 s, dt=67.0 s, source=0.0\n"
     ]
    },
    {
     "name": "stdout",
     "output_type": "stream",
     "text": [
      "[openmc.deplete] t=614.0 s, dt=63.999999999999986 s, source=0.0\n"
     ]
    },
    {
     "name": "stdout",
     "output_type": "stream",
     "text": [
      "[openmc.deplete] t=678.0 s, dt=96.99999999999997 s, source=0.0\n"
     ]
    },
    {
     "name": "stdout",
     "output_type": "stream",
     "text": [
      "[openmc.deplete] t=775.0 s, dt=127.00000000000001 s, source=0.0\n"
     ]
    },
    {
     "name": "stdout",
     "output_type": "stream",
     "text": [
      "[openmc.deplete] t=902.0 s, dt=127.00000000000001 s, source=0.0\n"
     ]
    },
    {
     "name": "stdout",
     "output_type": "stream",
     "text": [
      "[openmc.deplete] t=1029.0 s, dt=124.0 s, source=0.0\n"
     ]
    },
    {
     "name": "stdout",
     "output_type": "stream",
     "text": [
      "[openmc.deplete] t=1153.0 s, dt=187.99999999999991 s, source=0.0\n"
     ]
    },
    {
     "name": "stdout",
     "output_type": "stream",
     "text": [
      "[openmc.deplete] t=1341.0 s, dt=247.0000000000002 s, source=0.0\n"
     ]
    },
    {
     "name": "stdout",
     "output_type": "stream",
     "text": [
      "[openmc.deplete] t=1588.0000000000002 s, dt=246.99999999999974 s, source=0.0\n"
     ]
    },
    {
     "name": "stdout",
     "output_type": "stream",
     "text": [
      "[openmc.deplete] t=1835.0 s, dt=247.00000000000003 s, source=0.0\n"
     ]
    },
    {
     "name": "stdout",
     "output_type": "stream",
     "text": [
      "[openmc.deplete] t=2082.0 s, dt=427.99999999999994 s, source=0.0\n"
     ]
    },
    {
     "name": "stdout",
     "output_type": "stream",
     "text": [
      "[openmc.deplete] t=2510.0 s, dt=607.9999999999999 s, source=0.0\n"
     ]
    },
    {
     "name": "stdout",
     "output_type": "stream",
     "text": [
      "[openmc.deplete] t=3118.0 s, dt=607.9999999999999 s, source=0.0\n"
     ]
    },
    {
     "name": "stdout",
     "output_type": "stream",
     "text": [
      "[openmc.deplete] t=3726.0 (final operator evaluation)\n"
     ]
    },
    {
     "name": "stderr",
     "output_type": "stream",
     "text": [
      "/home/jon/.neutronicsworkshop_3.12/lib/python3.12/site-packages/openmc/deplete/results.py:94: FutureWarning: The ResultsList.from_hdf5(...) method is no longer necessary and will be removed in a future version of OpenMC. Use Results(...) instead.\n",
      "  warn(\n"
     ]
    },
    {
     "name": "stdout",
     "output_type": "stream",
     "text": [
      "[openmc.deplete] t=0.0 s, dt=300.0 s, source=11160000000.0\n"
     ]
    },
    {
     "name": "stdout",
     "output_type": "stream",
     "text": [
      "[openmc.deplete] t=300.0 s, dt=35.000000000000014 s, source=0.0\n"
     ]
    },
    {
     "name": "stderr",
     "output_type": "stream",
     "text": [
      "/home/jon/.neutronicsworkshop_3.12/lib/python3.12/site-packages/uncertainties/core.py:1024: UserWarning: Using UFloat objects with std_dev==0 may give unexpected results.\n",
      "  warn(\"Using UFloat objects with std_dev==0 may give unexpected results.\")\n"
     ]
    },
    {
     "name": "stdout",
     "output_type": "stream",
     "text": [
      "[openmc.deplete] t=335.0 s, dt=16.000000000000014 s, source=0.0\n"
     ]
    },
    {
     "name": "stdout",
     "output_type": "stream",
     "text": [
      "[openmc.deplete] t=351.0 s, dt=15.000000000000021 s, source=0.0\n"
     ]
    },
    {
     "name": "stdout",
     "output_type": "stream",
     "text": [
      "[openmc.deplete] t=366.0 s, dt=14.999999999999947 s, source=0.0\n"
     ]
    },
    {
     "name": "stdout",
     "output_type": "stream",
     "text": [
      "[openmc.deplete] t=380.99999999999994 s, dt=15.000000000000021 s, source=0.0\n"
     ]
    },
    {
     "name": "stdout",
     "output_type": "stream",
     "text": [
      "[openmc.deplete] t=395.99999999999994 s, dt=25.999999999999993 s, source=0.0\n"
     ]
    },
    {
     "name": "stdout",
     "output_type": "stream",
     "text": [
      "[openmc.deplete] t=421.99999999999994 s, dt=36.00000000000001 s, source=0.0\n"
     ]
    },
    {
     "name": "stdout",
     "output_type": "stream",
     "text": [
      "[openmc.deplete] t=457.99999999999994 s, dt=36.00000000000001 s, source=0.0\n"
     ]
    },
    {
     "name": "stdout",
     "output_type": "stream",
     "text": [
      "[openmc.deplete] t=493.99999999999994 s, dt=51.999999999999986 s, source=0.0\n"
     ]
    },
    {
     "name": "stdout",
     "output_type": "stream",
     "text": [
      "[openmc.deplete] t=545.9999999999999 s, dt=65.99999999999997 s, source=0.0\n"
     ]
    },
    {
     "name": "stdout",
     "output_type": "stream",
     "text": [
      "[openmc.deplete] t=611.9999999999999 s, dt=66.00000000000006 s, source=0.0\n"
     ]
    },
    {
     "name": "stdout",
     "output_type": "stream",
     "text": [
      "[openmc.deplete] t=678.0 s, dt=93.99999999999996 s, source=0.0\n"
     ]
    },
    {
     "name": "stdout",
     "output_type": "stream",
     "text": [
      "[openmc.deplete] t=772.0 s, dt=127.00000000000001 s, source=0.0\n"
     ]
    },
    {
     "name": "stdout",
     "output_type": "stream",
     "text": [
      "[openmc.deplete] t=899.0 s, dt=126.00000000000006 s, source=0.0\n"
     ]
    },
    {
     "name": "stdout",
     "output_type": "stream",
     "text": [
      "[openmc.deplete] t=1025.0 s, dt=186.99999999999994 s, source=0.0\n"
     ]
    },
    {
     "name": "stdout",
     "output_type": "stream",
     "text": [
      "[openmc.deplete] t=1212.0 s, dt=246.00000000000009 s, source=0.0\n"
     ]
    },
    {
     "name": "stdout",
     "output_type": "stream",
     "text": [
      "[openmc.deplete] t=1458.0 s, dt=247.00000000000003 s, source=0.0\n"
     ]
    },
    {
     "name": "stdout",
     "output_type": "stream",
     "text": [
      "[openmc.deplete] t=1705.0 s, dt=245.99999999999977 s, source=0.0\n"
     ]
    },
    {
     "name": "stdout",
     "output_type": "stream",
     "text": [
      "[openmc.deplete] t=1950.9999999999998 s, dt=424.0000000000001 s, source=0.0\n"
     ]
    },
    {
     "name": "stdout",
     "output_type": "stream",
     "text": [
      "[openmc.deplete] t=2375.0 s, dt=606.9999999999997 s, source=0.0\n"
     ]
    },
    {
     "name": "stdout",
     "output_type": "stream",
     "text": [
      "[openmc.deplete] t=2981.9999999999995 s, dt=606.0 s, source=0.0\n"
     ]
    },
    {
     "name": "stdout",
     "output_type": "stream",
     "text": [
      "[openmc.deplete] t=3587.9999999999995 (final operator evaluation)\n"
     ]
    },
    {
     "name": "stderr",
     "output_type": "stream",
     "text": [
      "/home/jon/.neutronicsworkshop_3.12/lib/python3.12/site-packages/openmc/deplete/results.py:94: FutureWarning: The ResultsList.from_hdf5(...) method is no longer necessary and will be removed in a future version of OpenMC. Use Results(...) instead.\n",
      "  warn(\n"
     ]
    },
    {
     "name": "stdout",
     "output_type": "stream",
     "text": [
      "[openmc.deplete] t=0.0 s, dt=300.0 s, source=11160000000.0\n"
     ]
    },
    {
     "name": "stdout",
     "output_type": "stream",
     "text": [
      "[openmc.deplete] t=300.0 s, dt=35.000000000000014 s, source=0.0\n"
     ]
    },
    {
     "name": "stderr",
     "output_type": "stream",
     "text": [
      "/home/jon/.neutronicsworkshop_3.12/lib/python3.12/site-packages/uncertainties/core.py:1024: UserWarning: Using UFloat objects with std_dev==0 may give unexpected results.\n",
      "  warn(\"Using UFloat objects with std_dev==0 may give unexpected results.\")\n"
     ]
    },
    {
     "name": "stdout",
     "output_type": "stream",
     "text": [
      "[openmc.deplete] t=335.0 s, dt=14.999999999999984 s, source=0.0\n"
     ]
    },
    {
     "name": "stdout",
     "output_type": "stream",
     "text": [
      "[openmc.deplete] t=350.0 s, dt=15.000000000000021 s, source=0.0\n"
     ]
    },
    {
     "name": "stdout",
     "output_type": "stream",
     "text": [
      "[openmc.deplete] t=365.0 s, dt=15.000000000000021 s, source=0.0\n"
     ]
    },
    {
     "name": "stdout",
     "output_type": "stream",
     "text": [
      "[openmc.deplete] t=380.0 s, dt=14.999999999999947 s, source=0.0\n"
     ]
    },
    {
     "name": "stdout",
     "output_type": "stream",
     "text": [
      "[openmc.deplete] t=394.99999999999994 s, dt=25.999999999999993 s, source=0.0\n"
     ]
    },
    {
     "name": "stdout",
     "output_type": "stream",
     "text": [
      "[openmc.deplete] t=420.99999999999994 s, dt=37.000000000000036 s, source=0.0\n"
     ]
    },
    {
     "name": "stdout",
     "output_type": "stream",
     "text": [
      "[openmc.deplete] t=458.0 s, dt=36.00000000000001 s, source=0.0\n"
     ]
    },
    {
     "name": "stdout",
     "output_type": "stream",
     "text": [
      "[openmc.deplete] t=494.0 s, dt=51.999999999999986 s, source=0.0\n"
     ]
    },
    {
     "name": "stdout",
     "output_type": "stream",
     "text": [
      "[openmc.deplete] t=546.0 s, dt=65.99999999999997 s, source=0.0\n"
     ]
    },
    {
     "name": "stdout",
     "output_type": "stream",
     "text": [
      "[openmc.deplete] t=612.0 s, dt=66.00000000000006 s, source=0.0\n"
     ]
    },
    {
     "name": "stdout",
     "output_type": "stream",
     "text": [
      "[openmc.deplete] t=678.0 s, dt=96.99999999999997 s, source=0.0\n"
     ]
    },
    {
     "name": "stdout",
     "output_type": "stream",
     "text": [
      "[openmc.deplete] t=775.0 s, dt=127.00000000000001 s, source=0.0\n"
     ]
    },
    {
     "name": "stdout",
     "output_type": "stream",
     "text": [
      "[openmc.deplete] t=902.0 s, dt=126.00000000000006 s, source=0.0\n"
     ]
    },
    {
     "name": "stdout",
     "output_type": "stream",
     "text": [
      "[openmc.deplete] t=1028.0 s, dt=186.99999999999994 s, source=0.0\n"
     ]
    },
    {
     "name": "stdout",
     "output_type": "stream",
     "text": [
      "[openmc.deplete] t=1215.0 s, dt=244.00000000000003 s, source=0.0\n"
     ]
    },
    {
     "name": "stdout",
     "output_type": "stream",
     "text": [
      "[openmc.deplete] t=1459.0 s, dt=246.00000000000009 s, source=0.0\n"
     ]
    },
    {
     "name": "stdout",
     "output_type": "stream",
     "text": [
      "[openmc.deplete] t=1705.0 s, dt=245.99999999999977 s, source=0.0\n"
     ]
    },
    {
     "name": "stdout",
     "output_type": "stream",
     "text": [
      "[openmc.deplete] t=1950.9999999999998 s, dt=424.0000000000001 s, source=0.0\n"
     ]
    },
    {
     "name": "stdout",
     "output_type": "stream",
     "text": [
      "[openmc.deplete] t=2375.0 s, dt=606.9999999999997 s, source=0.0\n"
     ]
    },
    {
     "name": "stdout",
     "output_type": "stream",
     "text": [
      "[openmc.deplete] t=2981.9999999999995 s, dt=603.0000000000001 s, source=0.0\n"
     ]
    },
    {
     "name": "stdout",
     "output_type": "stream",
     "text": [
      "[openmc.deplete] t=3584.9999999999995 (final operator evaluation)\n"
     ]
    },
    {
     "name": "stderr",
     "output_type": "stream",
     "text": [
      "/home/jon/.neutronicsworkshop_3.12/lib/python3.12/site-packages/openmc/deplete/results.py:94: FutureWarning: The ResultsList.from_hdf5(...) method is no longer necessary and will be removed in a future version of OpenMC. Use Results(...) instead.\n",
      "  warn(\n"
     ]
    },
    {
     "name": "stdout",
     "output_type": "stream",
     "text": [
      "[openmc.deplete] t=0.0 s, dt=300.0 s, source=11160000000.0\n"
     ]
    },
    {
     "name": "stdout",
     "output_type": "stream",
     "text": [
      "[openmc.deplete] t=300.0 s, dt=36.00000000000001 s, source=0.0\n"
     ]
    },
    {
     "name": "stderr",
     "output_type": "stream",
     "text": [
      "/home/jon/.neutronicsworkshop_3.12/lib/python3.12/site-packages/uncertainties/core.py:1024: UserWarning: Using UFloat objects with std_dev==0 may give unexpected results.\n",
      "  warn(\"Using UFloat objects with std_dev==0 may give unexpected results.\")\n"
     ]
    },
    {
     "name": "stdout",
     "output_type": "stream",
     "text": [
      "[openmc.deplete] t=336.0 s, dt=15.000000000000021 s, source=0.0\n"
     ]
    },
    {
     "name": "stdout",
     "output_type": "stream",
     "text": [
      "[openmc.deplete] t=351.0 s, dt=15.999999999999979 s, source=0.0\n"
     ]
    },
    {
     "name": "stdout",
     "output_type": "stream",
     "text": [
      "[openmc.deplete] t=367.0 s, dt=15.999999999999979 s, source=0.0\n"
     ]
    },
    {
     "name": "stdout",
     "output_type": "stream",
     "text": [
      "[openmc.deplete] t=383.0 s, dt=15.000000000000021 s, source=0.0\n"
     ]
    },
    {
     "name": "stdout",
     "output_type": "stream",
     "text": [
      "[openmc.deplete] t=398.0 s, dt=27.000000000000025 s, source=0.0\n"
     ]
    },
    {
     "name": "stdout",
     "output_type": "stream",
     "text": [
      "[openmc.deplete] t=425.0 s, dt=36.00000000000001 s, source=0.0\n"
     ]
    },
    {
     "name": "stdout",
     "output_type": "stream",
     "text": [
      "[openmc.deplete] t=461.0 s, dt=36.999999999999964 s, source=0.0\n"
     ]
    },
    {
     "name": "stdout",
     "output_type": "stream",
     "text": [
      "[openmc.deplete] t=497.99999999999994 s, dt=51.999999999999986 s, source=0.0\n"
     ]
    },
    {
     "name": "stdout",
     "output_type": "stream",
     "text": [
      "[openmc.deplete] t=549.9999999999999 s, dt=67.0 s, source=0.0\n"
     ]
    },
    {
     "name": "stdout",
     "output_type": "stream",
     "text": [
      "[openmc.deplete] t=616.9999999999999 s, dt=65.99999999999997 s, source=0.0\n"
     ]
    },
    {
     "name": "stdout",
     "output_type": "stream",
     "text": [
      "[openmc.deplete] t=682.9999999999999 s, dt=96.99999999999997 s, source=0.0\n"
     ]
    },
    {
     "name": "stdout",
     "output_type": "stream",
     "text": [
      "[openmc.deplete] t=779.9999999999999 s, dt=126.00000000000006 s, source=0.0\n"
     ]
    },
    {
     "name": "stdout",
     "output_type": "stream",
     "text": [
      "[openmc.deplete] t=906.0 s, dt=127.00000000000001 s, source=0.0\n"
     ]
    },
    {
     "name": "stdout",
     "output_type": "stream",
     "text": [
      "[openmc.deplete] t=1033.0 s, dt=188.00000000000006 s, source=0.0\n"
     ]
    },
    {
     "name": "stdout",
     "output_type": "stream",
     "text": [
      "[openmc.deplete] t=1221.0 s, dt=244.00000000000003 s, source=0.0\n"
     ]
    },
    {
     "name": "stdout",
     "output_type": "stream",
     "text": [
      "[openmc.deplete] t=1465.0 s, dt=245.99999999999977 s, source=0.0\n"
     ]
    },
    {
     "name": "stdout",
     "output_type": "stream",
     "text": [
      "[openmc.deplete] t=1710.9999999999998 s, dt=247.00000000000003 s, source=0.0\n"
     ]
    },
    {
     "name": "stdout",
     "output_type": "stream",
     "text": [
      "[openmc.deplete] t=1957.9999999999998 s, dt=427.99999999999994 s, source=0.0\n"
     ]
    },
    {
     "name": "stdout",
     "output_type": "stream",
     "text": [
      "[openmc.deplete] t=2385.9999999999995 s, dt=604.0000000000001 s, source=0.0\n"
     ]
    },
    {
     "name": "stdout",
     "output_type": "stream",
     "text": [
      "[openmc.deplete] t=2989.9999999999995 s, dt=606.0 s, source=0.0\n"
     ]
    },
    {
     "name": "stdout",
     "output_type": "stream",
     "text": [
      "[openmc.deplete] t=3595.9999999999995 (final operator evaluation)\n"
     ]
    },
    {
     "name": "stderr",
     "output_type": "stream",
     "text": [
      "/home/jon/.neutronicsworkshop_3.12/lib/python3.12/site-packages/openmc/deplete/results.py:94: FutureWarning: The ResultsList.from_hdf5(...) method is no longer necessary and will be removed in a future version of OpenMC. Use Results(...) instead.\n",
      "  warn(\n"
     ]
    },
    {
     "name": "stdout",
     "output_type": "stream",
     "text": [
      "[openmc.deplete] t=0.0 s, dt=300.0 s, source=11160000000.0\n"
     ]
    },
    {
     "name": "stdout",
     "output_type": "stream",
     "text": [
      "[openmc.deplete] t=300.0 s, dt=50.0 s, source=0.0\n"
     ]
    },
    {
     "name": "stderr",
     "output_type": "stream",
     "text": [
      "/home/jon/.neutronicsworkshop_3.12/lib/python3.12/site-packages/uncertainties/core.py:1024: UserWarning: Using UFloat objects with std_dev==0 may give unexpected results.\n",
      "  warn(\"Using UFloat objects with std_dev==0 may give unexpected results.\")\n"
     ]
    },
    {
     "name": "stdout",
     "output_type": "stream",
     "text": [
      "[openmc.deplete] t=350.0 s, dt=15.000000000000021 s, source=0.0\n"
     ]
    },
    {
     "name": "stdout",
     "output_type": "stream",
     "text": [
      "[openmc.deplete] t=365.0 s, dt=15.000000000000021 s, source=0.0\n"
     ]
    },
    {
     "name": "stdout",
     "output_type": "stream",
     "text": [
      "[openmc.deplete] t=380.0 s, dt=14.999999999999947 s, source=0.0\n"
     ]
    },
    {
     "name": "stdout",
     "output_type": "stream",
     "text": [
      "[openmc.deplete] t=394.99999999999994 s, dt=25.999999999999993 s, source=0.0\n"
     ]
    },
    {
     "name": "stdout",
     "output_type": "stream",
     "text": [
      "[openmc.deplete] t=420.99999999999994 s, dt=36.00000000000001 s, source=0.0\n"
     ]
    },
    {
     "name": "stdout",
     "output_type": "stream",
     "text": [
      "[openmc.deplete] t=456.99999999999994 s, dt=36.00000000000001 s, source=0.0\n"
     ]
    },
    {
     "name": "stdout",
     "output_type": "stream",
     "text": [
      "[openmc.deplete] t=492.99999999999994 s, dt=52.00000000000006 s, source=0.0\n"
     ]
    },
    {
     "name": "stdout",
     "output_type": "stream",
     "text": [
      "[openmc.deplete] t=545.0 s, dt=65.99999999999997 s, source=0.0\n"
     ]
    },
    {
     "name": "stdout",
     "output_type": "stream",
     "text": [
      "[openmc.deplete] t=611.0 s, dt=67.0 s, source=0.0\n"
     ]
    },
    {
     "name": "stdout",
     "output_type": "stream",
     "text": [
      "[openmc.deplete] t=678.0 s, dt=96.99999999999997 s, source=0.0\n"
     ]
    },
    {
     "name": "stdout",
     "output_type": "stream",
     "text": [
      "[openmc.deplete] t=775.0 s, dt=123.00000000000004 s, source=0.0\n"
     ]
    },
    {
     "name": "stdout",
     "output_type": "stream",
     "text": [
      "[openmc.deplete] t=898.0 s, dt=125.99999999999991 s, source=0.0\n"
     ]
    },
    {
     "name": "stdout",
     "output_type": "stream",
     "text": [
      "[openmc.deplete] t=1023.9999999999999 s, dt=189.00000000000003 s, source=0.0\n"
     ]
    },
    {
     "name": "stdout",
     "output_type": "stream",
     "text": [
      "[openmc.deplete] t=1213.0 s, dt=246.00000000000009 s, source=0.0\n"
     ]
    },
    {
     "name": "stdout",
     "output_type": "stream",
     "text": [
      "[openmc.deplete] t=1459.0 s, dt=246.00000000000009 s, source=0.0\n"
     ]
    },
    {
     "name": "stdout",
     "output_type": "stream",
     "text": [
      "[openmc.deplete] t=1705.0 s, dt=243.9999999999999 s, source=0.0\n"
     ]
    },
    {
     "name": "stdout",
     "output_type": "stream",
     "text": [
      "[openmc.deplete] t=1949.0 s, dt=427.0 s, source=0.0\n"
     ]
    },
    {
     "name": "stdout",
     "output_type": "stream",
     "text": [
      "[openmc.deplete] t=2376.0 s, dt=605.9999999999997 s, source=0.0\n"
     ]
    },
    {
     "name": "stdout",
     "output_type": "stream",
     "text": [
      "[openmc.deplete] t=2981.9999999999995 s, dt=607.0000000000006 s, source=0.0\n"
     ]
    },
    {
     "name": "stdout",
     "output_type": "stream",
     "text": [
      "[openmc.deplete] t=3589.0 (final operator evaluation)\n"
     ]
    },
    {
     "name": "stderr",
     "output_type": "stream",
     "text": [
      "/home/jon/.neutronicsworkshop_3.12/lib/python3.12/site-packages/openmc/deplete/results.py:94: FutureWarning: The ResultsList.from_hdf5(...) method is no longer necessary and will be removed in a future version of OpenMC. Use Results(...) instead.\n",
      "  warn(\n"
     ]
    },
    {
     "name": "stdout",
     "output_type": "stream",
     "text": [
      "[openmc.deplete] t=0.0 s, dt=27267.84 s, source=10500000000.0\n"
     ]
    },
    {
     "name": "stdout",
     "output_type": "stream",
     "text": [
      "[openmc.deplete] t=27267.84 s, dt=53308.8 s, source=0.0\n"
     ]
    },
    {
     "name": "stderr",
     "output_type": "stream",
     "text": [
      "/home/jon/.neutronicsworkshop_3.12/lib/python3.12/site-packages/uncertainties/core.py:1024: UserWarning: Using UFloat objects with std_dev==0 may give unexpected results.\n",
      "  warn(\"Using UFloat objects with std_dev==0 may give unexpected results.\")\n"
     ]
    },
    {
     "name": "stdout",
     "output_type": "stream",
     "text": [
      "[openmc.deplete] t=80576.64 s, dt=60393.6 s, source=0.0\n"
     ]
    },
    {
     "name": "stdout",
     "output_type": "stream",
     "text": [
      "[openmc.deplete] t=140970.24 s, dt=136598.40000000002 s, source=0.0\n"
     ]
    },
    {
     "name": "stdout",
     "output_type": "stream",
     "text": [
      "[openmc.deplete] t=277568.64 s, dt=342748.8 s, source=0.0\n"
     ]
    },
    {
     "name": "stdout",
     "output_type": "stream",
     "text": [
      "[openmc.deplete] t=620317.44 s, dt=518140.80000000005 s, source=0.0\n"
     ]
    },
    {
     "name": "stdout",
     "output_type": "stream",
     "text": [
      "[openmc.deplete] t=1138458.24 s, dt=949708.8 s, source=0.0\n"
     ]
    },
    {
     "name": "stdout",
     "output_type": "stream",
     "text": [
      "[openmc.deplete] t=2088167.04 s, dt=2233353.6000000006 s, source=0.0\n"
     ]
    },
    {
     "name": "stdout",
     "output_type": "stream",
     "text": [
      "[openmc.deplete] t=4321520.640000001 s, dt=4336329.6 s, source=0.0\n"
     ]
    },
    {
     "name": "stdout",
     "output_type": "stream",
     "text": [
      "[openmc.deplete] t=8657850.24 (final operator evaluation)\n"
     ]
    },
    {
     "name": "stderr",
     "output_type": "stream",
     "text": [
      "/home/jon/.neutronicsworkshop_3.12/lib/python3.12/site-packages/openmc/deplete/results.py:94: FutureWarning: The ResultsList.from_hdf5(...) method is no longer necessary and will be removed in a future version of OpenMC. Use Results(...) instead.\n",
      "  warn(\n"
     ]
    },
    {
     "name": "stdout",
     "output_type": "stream",
     "text": [
      "[openmc.deplete] t=0.0 s, dt=300.0 s, source=11160000000.0\n"
     ]
    },
    {
     "name": "stdout",
     "output_type": "stream",
     "text": [
      "[openmc.deplete] t=300.0 s, dt=61.00000000000004 s, source=0.0\n"
     ]
    },
    {
     "name": "stderr",
     "output_type": "stream",
     "text": [
      "/home/jon/.neutronicsworkshop_3.12/lib/python3.12/site-packages/uncertainties/core.py:1024: UserWarning: Using UFloat objects with std_dev==0 may give unexpected results.\n",
      "  warn(\"Using UFloat objects with std_dev==0 may give unexpected results.\")\n"
     ]
    },
    {
     "name": "stdout",
     "output_type": "stream",
     "text": [
      "[openmc.deplete] t=361.00000000000006 s, dt=15.999999999999979 s, source=0.0\n"
     ]
    },
    {
     "name": "stdout",
     "output_type": "stream",
     "text": [
      "[openmc.deplete] t=377.00000000000006 s, dt=15.999999999999979 s, source=0.0\n"
     ]
    },
    {
     "name": "stdout",
     "output_type": "stream",
     "text": [
      "[openmc.deplete] t=393.00000000000006 s, dt=27.000000000000025 s, source=0.0\n"
     ]
    },
    {
     "name": "stdout",
     "output_type": "stream",
     "text": [
      "[openmc.deplete] t=420.00000000000006 s, dt=36.999999999999964 s, source=0.0\n"
     ]
    },
    {
     "name": "stdout",
     "output_type": "stream",
     "text": [
      "[openmc.deplete] t=457.0 s, dt=37.000000000000036 s, source=0.0\n"
     ]
    },
    {
     "name": "stdout",
     "output_type": "stream",
     "text": [
      "[openmc.deplete] t=494.00000000000006 s, dt=50.0 s, source=0.0\n"
     ]
    },
    {
     "name": "stdout",
     "output_type": "stream",
     "text": [
      "[openmc.deplete] t=544.0 s, dt=67.0 s, source=0.0\n"
     ]
    },
    {
     "name": "stdout",
     "output_type": "stream",
     "text": [
      "[openmc.deplete] t=611.0 s, dt=67.0 s, source=0.0\n"
     ]
    },
    {
     "name": "stdout",
     "output_type": "stream",
     "text": [
      "[openmc.deplete] t=678.0 s, dt=97.99999999999993 s, source=0.0\n"
     ]
    },
    {
     "name": "stdout",
     "output_type": "stream",
     "text": [
      "[openmc.deplete] t=775.9999999999999 s, dt=127.00000000000001 s, source=0.0\n"
     ]
    },
    {
     "name": "stdout",
     "output_type": "stream",
     "text": [
      "[openmc.deplete] t=902.9999999999999 s, dt=127.00000000000001 s, source=0.0\n"
     ]
    },
    {
     "name": "stdout",
     "output_type": "stream",
     "text": [
      "[openmc.deplete] t=1030.0 s, dt=124.0 s, source=0.0\n"
     ]
    },
    {
     "name": "stdout",
     "output_type": "stream",
     "text": [
      "[openmc.deplete] t=1154.0 s, dt=188.00000000000006 s, source=0.0\n"
     ]
    },
    {
     "name": "stdout",
     "output_type": "stream",
     "text": [
      "[openmc.deplete] t=1342.0 s, dt=248.0 s, source=0.0\n"
     ]
    },
    {
     "name": "stdout",
     "output_type": "stream",
     "text": [
      "[openmc.deplete] t=1590.0 s, dt=243.9999999999999 s, source=0.0\n"
     ]
    },
    {
     "name": "stdout",
     "output_type": "stream",
     "text": [
      "[openmc.deplete] t=1834.0 s, dt=247.00000000000003 s, source=0.0\n"
     ]
    },
    {
     "name": "stdout",
     "output_type": "stream",
     "text": [
      "[openmc.deplete] t=2081.0 s, dt=427.99999999999994 s, source=0.0\n"
     ]
    },
    {
     "name": "stdout",
     "output_type": "stream",
     "text": [
      "[openmc.deplete] t=2509.0 s, dt=605.0 s, source=0.0\n"
     ]
    },
    {
     "name": "stdout",
     "output_type": "stream",
     "text": [
      "[openmc.deplete] t=3114.0 s, dt=607.0 s, source=0.0\n"
     ]
    },
    {
     "name": "stdout",
     "output_type": "stream",
     "text": [
      "[openmc.deplete] t=3721.0 (final operator evaluation)\n"
     ]
    },
    {
     "name": "stderr",
     "output_type": "stream",
     "text": [
      "/home/jon/.neutronicsworkshop_3.12/lib/python3.12/site-packages/openmc/deplete/results.py:94: FutureWarning: The ResultsList.from_hdf5(...) method is no longer necessary and will be removed in a future version of OpenMC. Use Results(...) instead.\n",
      "  warn(\n"
     ]
    },
    {
     "name": "stdout",
     "output_type": "stream",
     "text": [
      "[openmc.deplete] t=0.0 s, dt=300.0 s, source=11160000000.0\n"
     ]
    },
    {
     "name": "stdout",
     "output_type": "stream",
     "text": [
      "[openmc.deplete] t=300.0 s, dt=51.00000000000003 s, source=0.0\n"
     ]
    },
    {
     "name": "stderr",
     "output_type": "stream",
     "text": [
      "/home/jon/.neutronicsworkshop_3.12/lib/python3.12/site-packages/uncertainties/core.py:1024: UserWarning: Using UFloat objects with std_dev==0 may give unexpected results.\n",
      "  warn(\"Using UFloat objects with std_dev==0 may give unexpected results.\")\n"
     ]
    },
    {
     "name": "stdout",
     "output_type": "stream",
     "text": [
      "[openmc.deplete] t=351.0 s, dt=15.000000000000021 s, source=0.0\n"
     ]
    },
    {
     "name": "stdout",
     "output_type": "stream",
     "text": [
      "[openmc.deplete] t=366.0 s, dt=14.999999999999947 s, source=0.0\n"
     ]
    },
    {
     "name": "stdout",
     "output_type": "stream",
     "text": [
      "[openmc.deplete] t=380.99999999999994 s, dt=16.000000000000053 s, source=0.0\n"
     ]
    },
    {
     "name": "stdout",
     "output_type": "stream",
     "text": [
      "[openmc.deplete] t=397.0 s, dt=25.999999999999993 s, source=0.0\n"
     ]
    },
    {
     "name": "stdout",
     "output_type": "stream",
     "text": [
      "[openmc.deplete] t=423.0 s, dt=36.00000000000001 s, source=0.0\n"
     ]
    },
    {
     "name": "stdout",
     "output_type": "stream",
     "text": [
      "[openmc.deplete] t=459.0 s, dt=35.99999999999993 s, source=0.0\n"
     ]
    },
    {
     "name": "stdout",
     "output_type": "stream",
     "text": [
      "[openmc.deplete] t=494.99999999999994 s, dt=52.00000000000006 s, source=0.0\n"
     ]
    },
    {
     "name": "stdout",
     "output_type": "stream",
     "text": [
      "[openmc.deplete] t=547.0 s, dt=65.99999999999997 s, source=0.0\n"
     ]
    },
    {
     "name": "stdout",
     "output_type": "stream",
     "text": [
      "[openmc.deplete] t=613.0 s, dt=66.99999999999993 s, source=0.0\n"
     ]
    },
    {
     "name": "stdout",
     "output_type": "stream",
     "text": [
      "[openmc.deplete] t=679.9999999999999 s, dt=97.00000000000013 s, source=0.0\n"
     ]
    },
    {
     "name": "stdout",
     "output_type": "stream",
     "text": [
      "[openmc.deplete] t=777.0 s, dt=125.99999999999991 s, source=0.0\n"
     ]
    },
    {
     "name": "stdout",
     "output_type": "stream",
     "text": [
      "[openmc.deplete] t=902.9999999999999 s, dt=126.00000000000006 s, source=0.0\n"
     ]
    },
    {
     "name": "stdout",
     "output_type": "stream",
     "text": [
      "[openmc.deplete] t=1029.0 s, dt=186.99999999999994 s, source=0.0\n"
     ]
    },
    {
     "name": "stdout",
     "output_type": "stream",
     "text": [
      "[openmc.deplete] t=1216.0 s, dt=245.99999999999994 s, source=0.0\n"
     ]
    },
    {
     "name": "stdout",
     "output_type": "stream",
     "text": [
      "[openmc.deplete] t=1462.0 s, dt=246.00000000000009 s, source=0.0\n"
     ]
    },
    {
     "name": "stdout",
     "output_type": "stream",
     "text": [
      "[openmc.deplete] t=1708.0 s, dt=247.00000000000003 s, source=0.0\n"
     ]
    },
    {
     "name": "stdout",
     "output_type": "stream",
     "text": [
      "[openmc.deplete] t=1955.0 s, dt=427.0 s, source=0.0\n"
     ]
    },
    {
     "name": "stdout",
     "output_type": "stream",
     "text": [
      "[openmc.deplete] t=2382.0 s, dt=606.0 s, source=0.0\n"
     ]
    },
    {
     "name": "stdout",
     "output_type": "stream",
     "text": [
      "[openmc.deplete] t=2988.0 s, dt=606.0 s, source=0.0\n"
     ]
    },
    {
     "name": "stdout",
     "output_type": "stream",
     "text": [
      "[openmc.deplete] t=3594.0 (final operator evaluation)\n"
     ]
    },
    {
     "name": "stderr",
     "output_type": "stream",
     "text": [
      "/home/jon/.neutronicsworkshop_3.12/lib/python3.12/site-packages/openmc/deplete/results.py:94: FutureWarning: The ResultsList.from_hdf5(...) method is no longer necessary and will be removed in a future version of OpenMC. Use Results(...) instead.\n",
      "  warn(\n"
     ]
    },
    {
     "name": "stdout",
     "output_type": "stream",
     "text": [
      "[openmc.deplete] t=0.0 s, dt=27267.84 s, source=10500000000.0\n"
     ]
    },
    {
     "name": "stdout",
     "output_type": "stream",
     "text": [
      "[openmc.deplete] t=27267.84 s, dt=55555.20000000001 s, source=0.0\n"
     ]
    },
    {
     "name": "stderr",
     "output_type": "stream",
     "text": [
      "/home/jon/.neutronicsworkshop_3.12/lib/python3.12/site-packages/uncertainties/core.py:1024: UserWarning: Using UFloat objects with std_dev==0 may give unexpected results.\n",
      "  warn(\"Using UFloat objects with std_dev==0 may give unexpected results.\")\n"
     ]
    },
    {
     "name": "stdout",
     "output_type": "stream",
     "text": [
      "[openmc.deplete] t=82823.04000000001 s, dt=58060.80000000001 s, source=0.0\n"
     ]
    },
    {
     "name": "stdout",
     "output_type": "stream",
     "text": [
      "[openmc.deplete] t=140883.84000000003 s, dt=136598.39999999997 s, source=0.0\n"
     ]
    },
    {
     "name": "stdout",
     "output_type": "stream",
     "text": [
      "[openmc.deplete] t=277482.24 s, dt=342748.80000000005 s, source=0.0\n"
     ]
    },
    {
     "name": "stdout",
     "output_type": "stream",
     "text": [
      "[openmc.deplete] t=620231.04 s, dt=518054.39999999997 s, source=0.0\n"
     ]
    },
    {
     "name": "stdout",
     "output_type": "stream",
     "text": [
      "[openmc.deplete] t=1138285.44 s, dt=950313.6000000001 s, source=0.0\n"
     ]
    },
    {
     "name": "stdout",
     "output_type": "stream",
     "text": [
      "[openmc.deplete] t=2088599.04 s, dt=2233871.9999999995 s, source=0.0\n"
     ]
    },
    {
     "name": "stdout",
     "output_type": "stream",
     "text": [
      "[openmc.deplete] t=4322471.039999999 s, dt=4336416.0 s, source=0.0\n"
     ]
    },
    {
     "name": "stdout",
     "output_type": "stream",
     "text": [
      "[openmc.deplete] t=8658887.04 s, dt=8660736.0 s, source=0.0\n"
     ]
    },
    {
     "name": "stdout",
     "output_type": "stream",
     "text": [
      "[openmc.deplete] t=17319623.04 (final operator evaluation)\n"
     ]
    },
    {
     "name": "stderr",
     "output_type": "stream",
     "text": [
      "/home/jon/.neutronicsworkshop_3.12/lib/python3.12/site-packages/openmc/deplete/results.py:94: FutureWarning: The ResultsList.from_hdf5(...) method is no longer necessary and will be removed in a future version of OpenMC. Use Results(...) instead.\n",
      "  warn(\n"
     ]
    },
    {
     "name": "stdout",
     "output_type": "stream",
     "text": [
      "[openmc.deplete] t=0.0 s, dt=300.0 s, source=11160000000.0\n"
     ]
    },
    {
     "name": "stdout",
     "output_type": "stream",
     "text": [
      "[openmc.deplete] t=300.0 s, dt=66.00000000000006 s, source=0.0\n"
     ]
    },
    {
     "name": "stderr",
     "output_type": "stream",
     "text": [
      "/home/jon/.neutronicsworkshop_3.12/lib/python3.12/site-packages/uncertainties/core.py:1024: UserWarning: Using UFloat objects with std_dev==0 may give unexpected results.\n",
      "  warn(\"Using UFloat objects with std_dev==0 may give unexpected results.\")\n"
     ]
    },
    {
     "name": "stdout",
     "output_type": "stream",
     "text": [
      "[openmc.deplete] t=366.00000000000006 s, dt=15.999999999999979 s, source=0.0\n"
     ]
    },
    {
     "name": "stdout",
     "output_type": "stream",
     "text": [
      "[openmc.deplete] t=382.00000000000006 s, dt=15.999999999999979 s, source=0.0\n"
     ]
    },
    {
     "name": "stdout",
     "output_type": "stream",
     "text": [
      "[openmc.deplete] t=398.00000000000006 s, dt=27.000000000000025 s, source=0.0\n"
     ]
    },
    {
     "name": "stdout",
     "output_type": "stream",
     "text": [
      "[openmc.deplete] t=425.00000000000006 s, dt=36.999999999999964 s, source=0.0\n"
     ]
    },
    {
     "name": "stdout",
     "output_type": "stream",
     "text": [
      "[openmc.deplete] t=462.0 s, dt=34.00000000000002 s, source=0.0\n"
     ]
    },
    {
     "name": "stdout",
     "output_type": "stream",
     "text": [
      "[openmc.deplete] t=496.0 s, dt=53.99999999999997 s, source=0.0\n"
     ]
    },
    {
     "name": "stdout",
     "output_type": "stream",
     "text": [
      "[openmc.deplete] t=550.0 s, dt=67.0 s, source=0.0\n"
     ]
    },
    {
     "name": "stdout",
     "output_type": "stream",
     "text": [
      "[openmc.deplete] t=617.0 s, dt=64.00000000000006 s, source=0.0\n"
     ]
    },
    {
     "name": "stdout",
     "output_type": "stream",
     "text": [
      "[openmc.deplete] t=681.0 s, dt=98.99999999999989 s, source=0.0\n"
     ]
    },
    {
     "name": "stdout",
     "output_type": "stream",
     "text": [
      "[openmc.deplete] t=779.9999999999999 s, dt=127.00000000000001 s, source=0.0\n"
     ]
    },
    {
     "name": "stdout",
     "output_type": "stream",
     "text": [
      "[openmc.deplete] t=906.9999999999999 s, dt=124.0 s, source=0.0\n"
     ]
    },
    {
     "name": "stdout",
     "output_type": "stream",
     "text": [
      "[openmc.deplete] t=1031.0 s, dt=127.00000000000001 s, source=0.0\n"
     ]
    },
    {
     "name": "stdout",
     "output_type": "stream",
     "text": [
      "[openmc.deplete] t=1158.0 s, dt=185.00000000000003 s, source=0.0\n"
     ]
    },
    {
     "name": "stdout",
     "output_type": "stream",
     "text": [
      "[openmc.deplete] t=1343.0 s, dt=243.9999999999999 s, source=0.0\n"
     ]
    },
    {
     "name": "stdout",
     "output_type": "stream",
     "text": [
      "[openmc.deplete] t=1587.0 s, dt=248.0 s, source=0.0\n"
     ]
    },
    {
     "name": "stdout",
     "output_type": "stream",
     "text": [
      "[openmc.deplete] t=1835.0 s, dt=244.00000000000017 s, source=0.0\n"
     ]
    },
    {
     "name": "stdout",
     "output_type": "stream",
     "text": [
      "[openmc.deplete] t=2079.0 s, dt=427.99999999999994 s, source=0.0\n"
     ]
    },
    {
     "name": "stdout",
     "output_type": "stream",
     "text": [
      "[openmc.deplete] t=2507.0 s, dt=605.0 s, source=0.0\n"
     ]
    },
    {
     "name": "stdout",
     "output_type": "stream",
     "text": [
      "[openmc.deplete] t=3112.0 s, dt=607.0 s, source=0.0\n"
     ]
    },
    {
     "name": "stdout",
     "output_type": "stream",
     "text": [
      "[openmc.deplete] t=3719.0 (final operator evaluation)\n"
     ]
    },
    {
     "name": "stderr",
     "output_type": "stream",
     "text": [
      "/home/jon/.neutronicsworkshop_3.12/lib/python3.12/site-packages/openmc/deplete/results.py:94: FutureWarning: The ResultsList.from_hdf5(...) method is no longer necessary and will be removed in a future version of OpenMC. Use Results(...) instead.\n",
      "  warn(\n"
     ]
    },
    {
     "name": "stdout",
     "output_type": "stream",
     "text": [
      "[openmc.deplete] t=0.0 s, dt=300.0 s, source=11160000000.0\n"
     ]
    },
    {
     "name": "stdout",
     "output_type": "stream",
     "text": [
      "[openmc.deplete] t=300.0 s, dt=36.00000000000001 s, source=0.0\n"
     ]
    },
    {
     "name": "stderr",
     "output_type": "stream",
     "text": [
      "/home/jon/.neutronicsworkshop_3.12/lib/python3.12/site-packages/uncertainties/core.py:1024: UserWarning: Using UFloat objects with std_dev==0 may give unexpected results.\n",
      "  warn(\"Using UFloat objects with std_dev==0 may give unexpected results.\")\n"
     ]
    },
    {
     "name": "stdout",
     "output_type": "stream",
     "text": [
      "[openmc.deplete] t=336.0 s, dt=15.999999999999979 s, source=0.0\n"
     ]
    },
    {
     "name": "stdout",
     "output_type": "stream",
     "text": [
      "[openmc.deplete] t=352.0 s, dt=16.000000000000053 s, source=0.0\n"
     ]
    },
    {
     "name": "stdout",
     "output_type": "stream",
     "text": [
      "[openmc.deplete] t=368.00000000000006 s, dt=14.999999999999947 s, source=0.0\n"
     ]
    },
    {
     "name": "stdout",
     "output_type": "stream",
     "text": [
      "[openmc.deplete] t=383.0 s, dt=16.000000000000053 s, source=0.0\n"
     ]
    },
    {
     "name": "stdout",
     "output_type": "stream",
     "text": [
      "[openmc.deplete] t=399.00000000000006 s, dt=26.99999999999995 s, source=0.0\n"
     ]
    },
    {
     "name": "stdout",
     "output_type": "stream",
     "text": [
      "[openmc.deplete] t=426.0 s, dt=36.00000000000001 s, source=0.0\n"
     ]
    },
    {
     "name": "stdout",
     "output_type": "stream",
     "text": [
      "[openmc.deplete] t=462.0 s, dt=37.000000000000036 s, source=0.0\n"
     ]
    },
    {
     "name": "stdout",
     "output_type": "stream",
     "text": [
      "[openmc.deplete] t=499.00000000000006 s, dt=53.000000000000014 s, source=0.0\n"
     ]
    },
    {
     "name": "stdout",
     "output_type": "stream",
     "text": [
      "[openmc.deplete] t=552.0000000000001 s, dt=65.99999999999997 s, source=0.0\n"
     ]
    },
    {
     "name": "stdout",
     "output_type": "stream",
     "text": [
      "[openmc.deplete] t=618.0000000000001 s, dt=67.0 s, source=0.0\n"
     ]
    },
    {
     "name": "stdout",
     "output_type": "stream",
     "text": [
      "[openmc.deplete] t=685.0000000000001 s, dt=96.99999999999997 s, source=0.0\n"
     ]
    },
    {
     "name": "stdout",
     "output_type": "stream",
     "text": [
      "[openmc.deplete] t=782.0000000000001 s, dt=127.00000000000001 s, source=0.0\n"
     ]
    },
    {
     "name": "stdout",
     "output_type": "stream",
     "text": [
      "[openmc.deplete] t=909.0000000000001 s, dt=126.00000000000006 s, source=0.0\n"
     ]
    },
    {
     "name": "stdout",
     "output_type": "stream",
     "text": [
      "[openmc.deplete] t=1035.0000000000002 s, dt=184.9999999999999 s, source=0.0\n"
     ]
    },
    {
     "name": "stdout",
     "output_type": "stream",
     "text": [
      "[openmc.deplete] t=1220.0 s, dt=247.00000000000003 s, source=0.0\n"
     ]
    },
    {
     "name": "stdout",
     "output_type": "stream",
     "text": [
      "[openmc.deplete] t=1467.0 s, dt=246.00000000000009 s, source=0.0\n"
     ]
    },
    {
     "name": "stdout",
     "output_type": "stream",
     "text": [
      "[openmc.deplete] t=1713.0 s, dt=245.99999999999977 s, source=0.0\n"
     ]
    },
    {
     "name": "stdout",
     "output_type": "stream",
     "text": [
      "[openmc.deplete] t=1958.9999999999998 s, dt=428.0000000000003 s, source=0.0\n"
     ]
    },
    {
     "name": "stdout",
     "output_type": "stream",
     "text": [
      "[openmc.deplete] t=2387.0 s, dt=606.9999999999997 s, source=0.0\n"
     ]
    },
    {
     "name": "stdout",
     "output_type": "stream",
     "text": [
      "[openmc.deplete] t=2993.9999999999995 s, dt=606.0 s, source=0.0\n"
     ]
    },
    {
     "name": "stdout",
     "output_type": "stream",
     "text": [
      "[openmc.deplete] t=3599.9999999999995 (final operator evaluation)\n"
     ]
    },
    {
     "name": "stderr",
     "output_type": "stream",
     "text": [
      "/home/jon/.neutronicsworkshop_3.12/lib/python3.12/site-packages/openmc/deplete/results.py:94: FutureWarning: The ResultsList.from_hdf5(...) method is no longer necessary and will be removed in a future version of OpenMC. Use Results(...) instead.\n",
      "  warn(\n"
     ]
    },
    {
     "name": "stdout",
     "output_type": "stream",
     "text": [
      "[openmc.deplete] t=0.0 s, dt=300.0 s, source=11160000000.0\n"
     ]
    },
    {
     "name": "stdout",
     "output_type": "stream",
     "text": [
      "[openmc.deplete] t=300.0 s, dt=36.00000000000001 s, source=0.0\n"
     ]
    },
    {
     "name": "stderr",
     "output_type": "stream",
     "text": [
      "/home/jon/.neutronicsworkshop_3.12/lib/python3.12/site-packages/uncertainties/core.py:1024: UserWarning: Using UFloat objects with std_dev==0 may give unexpected results.\n",
      "  warn(\"Using UFloat objects with std_dev==0 may give unexpected results.\")\n"
     ]
    },
    {
     "name": "stdout",
     "output_type": "stream",
     "text": [
      "[openmc.deplete] t=336.0 s, dt=15.999999999999979 s, source=0.0\n"
     ]
    },
    {
     "name": "stdout",
     "output_type": "stream",
     "text": [
      "[openmc.deplete] t=352.0 s, dt=16.000000000000053 s, source=0.0\n"
     ]
    },
    {
     "name": "stdout",
     "output_type": "stream",
     "text": [
      "[openmc.deplete] t=368.00000000000006 s, dt=15.999999999999979 s, source=0.0\n"
     ]
    },
    {
     "name": "stdout",
     "output_type": "stream",
     "text": [
      "[openmc.deplete] t=384.00000000000006 s, dt=15.000000000000021 s, source=0.0\n"
     ]
    },
    {
     "name": "stdout",
     "output_type": "stream",
     "text": [
      "[openmc.deplete] t=399.00000000000006 s, dt=26.99999999999995 s, source=0.0\n"
     ]
    },
    {
     "name": "stdout",
     "output_type": "stream",
     "text": [
      "[openmc.deplete] t=426.0 s, dt=37.000000000000036 s, source=0.0\n"
     ]
    },
    {
     "name": "stdout",
     "output_type": "stream",
     "text": [
      "[openmc.deplete] t=463.00000000000006 s, dt=36.999999999999964 s, source=0.0\n"
     ]
    },
    {
     "name": "stdout",
     "output_type": "stream",
     "text": [
      "[openmc.deplete] t=500.0 s, dt=52.00000000000006 s, source=0.0\n"
     ]
    },
    {
     "name": "stdout",
     "output_type": "stream",
     "text": [
      "[openmc.deplete] t=552.0 s, dt=66.99999999999993 s, source=0.0\n"
     ]
    },
    {
     "name": "stdout",
     "output_type": "stream",
     "text": [
      "[openmc.deplete] t=618.9999999999999 s, dt=67.0 s, source=0.0\n"
     ]
    },
    {
     "name": "stdout",
     "output_type": "stream",
     "text": [
      "[openmc.deplete] t=685.9999999999999 s, dt=98.00000000000009 s, source=0.0\n"
     ]
    },
    {
     "name": "stdout",
     "output_type": "stream",
     "text": [
      "[openmc.deplete] t=784.0 s, dt=127.00000000000001 s, source=0.0\n"
     ]
    },
    {
     "name": "stdout",
     "output_type": "stream",
     "text": [
      "[openmc.deplete] t=911.0 s, dt=124.0 s, source=0.0\n"
     ]
    },
    {
     "name": "stdout",
     "output_type": "stream",
     "text": [
      "[openmc.deplete] t=1035.0 s, dt=186.99999999999994 s, source=0.0\n"
     ]
    },
    {
     "name": "stdout",
     "output_type": "stream",
     "text": [
      "[openmc.deplete] t=1222.0 s, dt=246.9999999999999 s, source=0.0\n"
     ]
    },
    {
     "name": "stdout",
     "output_type": "stream",
     "text": [
      "[openmc.deplete] t=1469.0 s, dt=247.00000000000003 s, source=0.0\n"
     ]
    },
    {
     "name": "stdout",
     "output_type": "stream",
     "text": [
      "[openmc.deplete] t=1716.0 s, dt=247.00000000000003 s, source=0.0\n"
     ]
    },
    {
     "name": "stdout",
     "output_type": "stream",
     "text": [
      "[openmc.deplete] t=1963.0 s, dt=427.0 s, source=0.0\n"
     ]
    },
    {
     "name": "stdout",
     "output_type": "stream",
     "text": [
      "[openmc.deplete] t=2390.0 s, dt=607.0000000000002 s, source=0.0\n"
     ]
    },
    {
     "name": "stdout",
     "output_type": "stream",
     "text": [
      "[openmc.deplete] t=2997.0 s, dt=607.9999999999999 s, source=0.0\n"
     ]
    },
    {
     "name": "stdout",
     "output_type": "stream",
     "text": [
      "[openmc.deplete] t=3605.0 (final operator evaluation)\n"
     ]
    },
    {
     "name": "stderr",
     "output_type": "stream",
     "text": [
      "/home/jon/.neutronicsworkshop_3.12/lib/python3.12/site-packages/openmc/deplete/results.py:94: FutureWarning: The ResultsList.from_hdf5(...) method is no longer necessary and will be removed in a future version of OpenMC. Use Results(...) instead.\n",
      "  warn(\n"
     ]
    },
    {
     "name": "stdout",
     "output_type": "stream",
     "text": [
      "[openmc.deplete] t=0.0 s, dt=300.0 s, source=11160000000.0\n"
     ]
    },
    {
     "name": "stdout",
     "output_type": "stream",
     "text": [
      "[openmc.deplete] t=300.0 s, dt=36.00000000000001 s, source=0.0\n"
     ]
    },
    {
     "name": "stderr",
     "output_type": "stream",
     "text": [
      "/home/jon/.neutronicsworkshop_3.12/lib/python3.12/site-packages/uncertainties/core.py:1024: UserWarning: Using UFloat objects with std_dev==0 may give unexpected results.\n",
      "  warn(\"Using UFloat objects with std_dev==0 may give unexpected results.\")\n"
     ]
    },
    {
     "name": "stdout",
     "output_type": "stream",
     "text": [
      "[openmc.deplete] t=336.0 s, dt=15.000000000000021 s, source=0.0\n"
     ]
    },
    {
     "name": "stdout",
     "output_type": "stream",
     "text": [
      "[openmc.deplete] t=351.0 s, dt=15.999999999999979 s, source=0.0\n"
     ]
    },
    {
     "name": "stdout",
     "output_type": "stream",
     "text": [
      "[openmc.deplete] t=367.0 s, dt=15.999999999999979 s, source=0.0\n"
     ]
    },
    {
     "name": "stdout",
     "output_type": "stream",
     "text": [
      "[openmc.deplete] t=383.0 s, dt=15.000000000000021 s, source=0.0\n"
     ]
    },
    {
     "name": "stdout",
     "output_type": "stream",
     "text": [
      "[openmc.deplete] t=398.0 s, dt=27.000000000000025 s, source=0.0\n"
     ]
    },
    {
     "name": "stdout",
     "output_type": "stream",
     "text": [
      "[openmc.deplete] t=425.0 s, dt=36.999999999999964 s, source=0.0\n"
     ]
    },
    {
     "name": "stdout",
     "output_type": "stream",
     "text": [
      "[openmc.deplete] t=461.99999999999994 s, dt=37.000000000000036 s, source=0.0\n"
     ]
    },
    {
     "name": "stdout",
     "output_type": "stream",
     "text": [
      "[openmc.deplete] t=499.0 s, dt=53.000000000000014 s, source=0.0\n"
     ]
    },
    {
     "name": "stdout",
     "output_type": "stream",
     "text": [
      "[openmc.deplete] t=552.0 s, dt=66.99999999999993 s, source=0.0\n"
     ]
    },
    {
     "name": "stdout",
     "output_type": "stream",
     "text": [
      "[openmc.deplete] t=618.9999999999999 s, dt=66.00000000000006 s, source=0.0\n"
     ]
    },
    {
     "name": "stdout",
     "output_type": "stream",
     "text": [
      "[openmc.deplete] t=685.0 s, dt=97.99999999999993 s, source=0.0\n"
     ]
    },
    {
     "name": "stdout",
     "output_type": "stream",
     "text": [
      "[openmc.deplete] t=782.9999999999999 s, dt=127.00000000000001 s, source=0.0\n"
     ]
    },
    {
     "name": "stdout",
     "output_type": "stream",
     "text": [
      "[openmc.deplete] t=909.9999999999999 s, dt=124.0 s, source=0.0\n"
     ]
    },
    {
     "name": "stdout",
     "output_type": "stream",
     "text": [
      "[openmc.deplete] t=1034.0 s, dt=188.00000000000006 s, source=0.0\n"
     ]
    },
    {
     "name": "stdout",
     "output_type": "stream",
     "text": [
      "[openmc.deplete] t=1222.0 s, dt=244.00000000000003 s, source=0.0\n"
     ]
    },
    {
     "name": "stdout",
     "output_type": "stream",
     "text": [
      "[openmc.deplete] t=1466.0 s, dt=246.00000000000009 s, source=0.0\n"
     ]
    },
    {
     "name": "stdout",
     "output_type": "stream",
     "text": [
      "[openmc.deplete] t=1712.0 s, dt=246.99999999999974 s, source=0.0\n"
     ]
    },
    {
     "name": "stdout",
     "output_type": "stream",
     "text": [
      "[openmc.deplete] t=1958.9999999999998 s, dt=428.0000000000003 s, source=0.0\n"
     ]
    },
    {
     "name": "stdout",
     "output_type": "stream",
     "text": [
      "[openmc.deplete] t=2387.0 s, dt=603.9999999999998 s, source=0.0\n"
     ]
    },
    {
     "name": "stdout",
     "output_type": "stream",
     "text": [
      "[openmc.deplete] t=2991.0 s, dt=607.0 s, source=0.0\n"
     ]
    },
    {
     "name": "stdout",
     "output_type": "stream",
     "text": [
      "[openmc.deplete] t=3598.0 (final operator evaluation)\n"
     ]
    },
    {
     "name": "stderr",
     "output_type": "stream",
     "text": [
      "/home/jon/.neutronicsworkshop_3.12/lib/python3.12/site-packages/openmc/deplete/results.py:94: FutureWarning: The ResultsList.from_hdf5(...) method is no longer necessary and will be removed in a future version of OpenMC. Use Results(...) instead.\n",
      "  warn(\n"
     ]
    },
    {
     "name": "stdout",
     "output_type": "stream",
     "text": [
      "[openmc.deplete] t=0.0 s, dt=25799.039999999997 s, source=10500000000.0\n"
     ]
    },
    {
     "name": "stdout",
     "output_type": "stream",
     "text": [
      "[openmc.deplete] t=25799.039999999997 s, dt=58406.4 s, source=0.0\n"
     ]
    },
    {
     "name": "stderr",
     "output_type": "stream",
     "text": [
      "/home/jon/.neutronicsworkshop_3.12/lib/python3.12/site-packages/uncertainties/core.py:1024: UserWarning: Using UFloat objects with std_dev==0 may give unexpected results.\n",
      "  warn(\"Using UFloat objects with std_dev==0 may give unexpected results.\")\n"
     ]
    },
    {
     "name": "stdout",
     "output_type": "stream",
     "text": [
      "[openmc.deplete] t=84205.44 s, dt=91324.79999999999 s, source=0.0\n"
     ]
    },
    {
     "name": "stdout",
     "output_type": "stream",
     "text": [
      "[openmc.deplete] t=175530.24 s, dt=186278.39999999997 s, source=0.0\n"
     ]
    },
    {
     "name": "stdout",
     "output_type": "stream",
     "text": [
      "[openmc.deplete] t=361808.63999999996 s, dt=247795.19999999995 s, source=0.0\n"
     ]
    },
    {
     "name": "stdout",
     "output_type": "stream",
     "text": [
      "[openmc.deplete] t=609603.8399999999 s, dt=470534.4000000001 s, source=0.0\n"
     ]
    },
    {
     "name": "stdout",
     "output_type": "stream",
     "text": [
      "[openmc.deplete] t=1080138.24 s, dt=1037577.5999999997 s, source=0.0\n"
     ]
    },
    {
     "name": "stdout",
     "output_type": "stream",
     "text": [
      "[openmc.deplete] t=2117715.84 s, dt=2224627.2 s, source=0.0\n"
     ]
    },
    {
     "name": "stdout",
     "output_type": "stream",
     "text": [
      "[openmc.deplete] t=4342343.04 s, dt=4331577.6 s, source=0.0\n"
     ]
    },
    {
     "name": "stdout",
     "output_type": "stream",
     "text": [
      "[openmc.deplete] t=8673920.64 s, dt=8455968.000000002 s, source=0.0\n"
     ]
    },
    {
     "name": "stdout",
     "output_type": "stream",
     "text": [
      "[openmc.deplete] t=17129888.64 s, dt=17643744.0 s, source=0.0\n"
     ]
    },
    {
     "name": "stdout",
     "output_type": "stream",
     "text": [
      "[openmc.deplete] t=34773632.64 (final operator evaluation)\n"
     ]
    },
    {
     "name": "stderr",
     "output_type": "stream",
     "text": [
      "/home/jon/.neutronicsworkshop_3.12/lib/python3.12/site-packages/openmc/deplete/results.py:94: FutureWarning: The ResultsList.from_hdf5(...) method is no longer necessary and will be removed in a future version of OpenMC. Use Results(...) instead.\n",
      "  warn(\n"
     ]
    },
    {
     "name": "stdout",
     "output_type": "stream",
     "text": [
      "[openmc.deplete] t=0.0 s, dt=300.0 s, source=11160000000.0\n"
     ]
    },
    {
     "name": "stdout",
     "output_type": "stream",
     "text": [
      "[openmc.deplete] t=300.0 s, dt=66.00000000000006 s, source=0.0\n"
     ]
    },
    {
     "name": "stderr",
     "output_type": "stream",
     "text": [
      "/home/jon/.neutronicsworkshop_3.12/lib/python3.12/site-packages/uncertainties/core.py:1024: UserWarning: Using UFloat objects with std_dev==0 may give unexpected results.\n",
      "  warn(\"Using UFloat objects with std_dev==0 may give unexpected results.\")\n"
     ]
    },
    {
     "name": "stdout",
     "output_type": "stream",
     "text": [
      "[openmc.deplete] t=366.00000000000006 s, dt=15.999999999999979 s, source=0.0\n"
     ]
    },
    {
     "name": "stdout",
     "output_type": "stream",
     "text": [
      "[openmc.deplete] t=382.00000000000006 s, dt=15.999999999999979 s, source=0.0\n"
     ]
    },
    {
     "name": "stdout",
     "output_type": "stream",
     "text": [
      "[openmc.deplete] t=398.00000000000006 s, dt=27.000000000000025 s, source=0.0\n"
     ]
    },
    {
     "name": "stdout",
     "output_type": "stream",
     "text": [
      "[openmc.deplete] t=425.00000000000006 s, dt=36.999999999999964 s, source=0.0\n"
     ]
    },
    {
     "name": "stdout",
     "output_type": "stream",
     "text": [
      "[openmc.deplete] t=462.0 s, dt=34.00000000000002 s, source=0.0\n"
     ]
    },
    {
     "name": "stdout",
     "output_type": "stream",
     "text": [
      "[openmc.deplete] t=496.0 s, dt=53.000000000000014 s, source=0.0\n"
     ]
    },
    {
     "name": "stdout",
     "output_type": "stream",
     "text": [
      "[openmc.deplete] t=549.0 s, dt=67.0 s, source=0.0\n"
     ]
    },
    {
     "name": "stdout",
     "output_type": "stream",
     "text": [
      "[openmc.deplete] t=616.0 s, dt=66.99999999999993 s, source=0.0\n"
     ]
    },
    {
     "name": "stdout",
     "output_type": "stream",
     "text": [
      "[openmc.deplete] t=682.9999999999999 s, dt=99.00000000000004 s, source=0.0\n"
     ]
    },
    {
     "name": "stdout",
     "output_type": "stream",
     "text": [
      "[openmc.deplete] t=781.9999999999999 s, dt=127.00000000000001 s, source=0.0\n"
     ]
    },
    {
     "name": "stdout",
     "output_type": "stream",
     "text": [
      "[openmc.deplete] t=908.9999999999999 s, dt=127.00000000000001 s, source=0.0\n"
     ]
    },
    {
     "name": "stdout",
     "output_type": "stream",
     "text": [
      "[openmc.deplete] t=1036.0 s, dt=124.0 s, source=0.0\n"
     ]
    },
    {
     "name": "stdout",
     "output_type": "stream",
     "text": [
      "[openmc.deplete] t=1160.0 s, dt=187.99999999999991 s, source=0.0\n"
     ]
    },
    {
     "name": "stdout",
     "output_type": "stream",
     "text": [
      "[openmc.deplete] t=1348.0 s, dt=244.99999999999997 s, source=0.0\n"
     ]
    },
    {
     "name": "stdout",
     "output_type": "stream",
     "text": [
      "[openmc.deplete] t=1593.0 s, dt=247.00000000000003 s, source=0.0\n"
     ]
    },
    {
     "name": "stdout",
     "output_type": "stream",
     "text": [
      "[openmc.deplete] t=1840.0 s, dt=247.00000000000003 s, source=0.0\n"
     ]
    },
    {
     "name": "stdout",
     "output_type": "stream",
     "text": [
      "[openmc.deplete] t=2087.0 s, dt=425.0000000000001 s, source=0.0\n"
     ]
    },
    {
     "name": "stdout",
     "output_type": "stream",
     "text": [
      "[openmc.deplete] t=2512.0 s, dt=607.9999999999997 s, source=0.0\n"
     ]
    },
    {
     "name": "stdout",
     "output_type": "stream",
     "text": [
      "[openmc.deplete] t=3119.9999999999995 s, dt=607.0000000000006 s, source=0.0\n"
     ]
    },
    {
     "name": "stdout",
     "output_type": "stream",
     "text": [
      "[openmc.deplete] t=3727.0 (final operator evaluation)\n"
     ]
    },
    {
     "name": "stderr",
     "output_type": "stream",
     "text": [
      "/home/jon/.neutronicsworkshop_3.12/lib/python3.12/site-packages/openmc/deplete/results.py:94: FutureWarning: The ResultsList.from_hdf5(...) method is no longer necessary and will be removed in a future version of OpenMC. Use Results(...) instead.\n",
      "  warn(\n"
     ]
    },
    {
     "name": "stdout",
     "output_type": "stream",
     "text": [
      "[openmc.deplete] t=0.0 s, dt=300.0 s, source=11160000000.0\n"
     ]
    },
    {
     "name": "stdout",
     "output_type": "stream",
     "text": [
      "[openmc.deplete] t=300.0 s, dt=20.00000000000003 s, source=0.0\n"
     ]
    },
    {
     "name": "stderr",
     "output_type": "stream",
     "text": [
      "/home/jon/.neutronicsworkshop_3.12/lib/python3.12/site-packages/uncertainties/core.py:1024: UserWarning: Using UFloat objects with std_dev==0 may give unexpected results.\n",
      "  warn(\"Using UFloat objects with std_dev==0 may give unexpected results.\")\n"
     ]
    },
    {
     "name": "stdout",
     "output_type": "stream",
     "text": [
      "[openmc.deplete] t=320.0 s, dt=15.999999999999979 s, source=0.0\n"
     ]
    },
    {
     "name": "stdout",
     "output_type": "stream",
     "text": [
      "[openmc.deplete] t=336.0 s, dt=15.000000000000021 s, source=0.0\n"
     ]
    },
    {
     "name": "stdout",
     "output_type": "stream",
     "text": [
      "[openmc.deplete] t=351.0 s, dt=15.999999999999979 s, source=0.0\n"
     ]
    },
    {
     "name": "stdout",
     "output_type": "stream",
     "text": [
      "[openmc.deplete] t=367.0 s, dt=15.000000000000021 s, source=0.0\n"
     ]
    },
    {
     "name": "stdout",
     "output_type": "stream",
     "text": [
      "[openmc.deplete] t=382.0 s, dt=15.999999999999979 s, source=0.0\n"
     ]
    },
    {
     "name": "stdout",
     "output_type": "stream",
     "text": [
      "[openmc.deplete] t=398.0 s, dt=25.999999999999993 s, source=0.0\n"
     ]
    },
    {
     "name": "stdout",
     "output_type": "stream",
     "text": [
      "[openmc.deplete] t=424.0 s, dt=36.00000000000001 s, source=0.0\n"
     ]
    },
    {
     "name": "stdout",
     "output_type": "stream",
     "text": [
      "[openmc.deplete] t=460.0 s, dt=37.000000000000036 s, source=0.0\n"
     ]
    },
    {
     "name": "stdout",
     "output_type": "stream",
     "text": [
      "[openmc.deplete] t=497.00000000000006 s, dt=51.999999999999986 s, source=0.0\n"
     ]
    },
    {
     "name": "stdout",
     "output_type": "stream",
     "text": [
      "[openmc.deplete] t=549.0 s, dt=65.99999999999997 s, source=0.0\n"
     ]
    },
    {
     "name": "stdout",
     "output_type": "stream",
     "text": [
      "[openmc.deplete] t=615.0 s, dt=66.00000000000006 s, source=0.0\n"
     ]
    },
    {
     "name": "stdout",
     "output_type": "stream",
     "text": [
      "[openmc.deplete] t=681.0 s, dt=97.99999999999993 s, source=0.0\n"
     ]
    },
    {
     "name": "stdout",
     "output_type": "stream",
     "text": [
      "[openmc.deplete] t=778.9999999999999 s, dt=126.00000000000006 s, source=0.0\n"
     ]
    },
    {
     "name": "stdout",
     "output_type": "stream",
     "text": [
      "[openmc.deplete] t=905.0 s, dt=127.00000000000001 s, source=0.0\n"
     ]
    },
    {
     "name": "stdout",
     "output_type": "stream",
     "text": [
      "[openmc.deplete] t=1032.0 s, dt=186.99999999999994 s, source=0.0\n"
     ]
    },
    {
     "name": "stdout",
     "output_type": "stream",
     "text": [
      "[openmc.deplete] t=1219.0 s, dt=247.00000000000003 s, source=0.0\n"
     ]
    },
    {
     "name": "stdout",
     "output_type": "stream",
     "text": [
      "[openmc.deplete] t=1466.0 s, dt=247.00000000000003 s, source=0.0\n"
     ]
    },
    {
     "name": "stdout",
     "output_type": "stream",
     "text": [
      "[openmc.deplete] t=1713.0 s, dt=247.00000000000003 s, source=0.0\n"
     ]
    },
    {
     "name": "stdout",
     "output_type": "stream",
     "text": [
      "[openmc.deplete] t=1960.0 s, dt=427.0 s, source=0.0\n"
     ]
    },
    {
     "name": "stdout",
     "output_type": "stream",
     "text": [
      "[openmc.deplete] t=2387.0 s, dt=606.9999999999997 s, source=0.0\n"
     ]
    },
    {
     "name": "stdout",
     "output_type": "stream",
     "text": [
      "[openmc.deplete] t=2993.9999999999995 s, dt=603.0000000000001 s, source=0.0\n"
     ]
    },
    {
     "name": "stdout",
     "output_type": "stream",
     "text": [
      "[openmc.deplete] t=3596.9999999999995 (final operator evaluation)\n"
     ]
    },
    {
     "name": "stderr",
     "output_type": "stream",
     "text": [
      "/home/jon/.neutronicsworkshop_3.12/lib/python3.12/site-packages/openmc/deplete/results.py:94: FutureWarning: The ResultsList.from_hdf5(...) method is no longer necessary and will be removed in a future version of OpenMC. Use Results(...) instead.\n",
      "  warn(\n"
     ]
    },
    {
     "name": "stdout",
     "output_type": "stream",
     "text": [
      "[openmc.deplete] t=0.0 s, dt=300.0 s, source=11160000000.0\n"
     ]
    },
    {
     "name": "stdout",
     "output_type": "stream",
     "text": [
      "[openmc.deplete] t=300.0 s, dt=36.00000000000001 s, source=0.0\n"
     ]
    },
    {
     "name": "stderr",
     "output_type": "stream",
     "text": [
      "/home/jon/.neutronicsworkshop_3.12/lib/python3.12/site-packages/uncertainties/core.py:1024: UserWarning: Using UFloat objects with std_dev==0 may give unexpected results.\n",
      "  warn(\"Using UFloat objects with std_dev==0 may give unexpected results.\")\n"
     ]
    },
    {
     "name": "stdout",
     "output_type": "stream",
     "text": [
      "[openmc.deplete] t=336.0 s, dt=15.000000000000021 s, source=0.0\n"
     ]
    },
    {
     "name": "stdout",
     "output_type": "stream",
     "text": [
      "[openmc.deplete] t=351.0 s, dt=15.999999999999979 s, source=0.0\n"
     ]
    },
    {
     "name": "stdout",
     "output_type": "stream",
     "text": [
      "[openmc.deplete] t=367.0 s, dt=15.000000000000021 s, source=0.0\n"
     ]
    },
    {
     "name": "stdout",
     "output_type": "stream",
     "text": [
      "[openmc.deplete] t=382.0 s, dt=15.000000000000021 s, source=0.0\n"
     ]
    },
    {
     "name": "stdout",
     "output_type": "stream",
     "text": [
      "[openmc.deplete] t=397.0 s, dt=25.999999999999993 s, source=0.0\n"
     ]
    },
    {
     "name": "stdout",
     "output_type": "stream",
     "text": [
      "[openmc.deplete] t=423.0 s, dt=32.999999999999986 s, source=0.0\n"
     ]
    },
    {
     "name": "stdout",
     "output_type": "stream",
     "text": [
      "[openmc.deplete] t=456.0 s, dt=36.00000000000001 s, source=0.0\n"
     ]
    },
    {
     "name": "stdout",
     "output_type": "stream",
     "text": [
      "[openmc.deplete] t=492.0 s, dt=53.000000000000014 s, source=0.0\n"
     ]
    },
    {
     "name": "stdout",
     "output_type": "stream",
     "text": [
      "[openmc.deplete] t=545.0 s, dt=65.99999999999997 s, source=0.0\n"
     ]
    },
    {
     "name": "stdout",
     "output_type": "stream",
     "text": [
      "[openmc.deplete] t=611.0 s, dt=66.00000000000006 s, source=0.0\n"
     ]
    },
    {
     "name": "stdout",
     "output_type": "stream",
     "text": [
      "[openmc.deplete] t=677.0 s, dt=96.99999999999997 s, source=0.0\n"
     ]
    },
    {
     "name": "stdout",
     "output_type": "stream",
     "text": [
      "[openmc.deplete] t=774.0 s, dt=127.00000000000001 s, source=0.0\n"
     ]
    },
    {
     "name": "stdout",
     "output_type": "stream",
     "text": [
      "[openmc.deplete] t=901.0 s, dt=125.99999999999991 s, source=0.0\n"
     ]
    },
    {
     "name": "stdout",
     "output_type": "stream",
     "text": [
      "[openmc.deplete] t=1027.0 s, dt=187.0000000000001 s, source=0.0\n"
     ]
    },
    {
     "name": "stdout",
     "output_type": "stream",
     "text": [
      "[openmc.deplete] t=1214.0 s, dt=245.99999999999994 s, source=0.0\n"
     ]
    },
    {
     "name": "stdout",
     "output_type": "stream",
     "text": [
      "[openmc.deplete] t=1460.0 s, dt=243.9999999999999 s, source=0.0\n"
     ]
    },
    {
     "name": "stdout",
     "output_type": "stream",
     "text": [
      "[openmc.deplete] t=1704.0 s, dt=246.00000000000009 s, source=0.0\n"
     ]
    },
    {
     "name": "stdout",
     "output_type": "stream",
     "text": [
      "[openmc.deplete] t=1950.0 s, dt=427.99999999999994 s, source=0.0\n"
     ]
    },
    {
     "name": "stdout",
     "output_type": "stream",
     "text": [
      "[openmc.deplete] t=2378.0 s, dt=606.0000000000003 s, source=0.0\n"
     ]
    },
    {
     "name": "stdout",
     "output_type": "stream",
     "text": [
      "[openmc.deplete] t=2984.0000000000005 s, dt=607.0 s, source=0.0\n"
     ]
    },
    {
     "name": "stdout",
     "output_type": "stream",
     "text": [
      "[openmc.deplete] t=3591.0000000000005 (final operator evaluation)\n"
     ]
    },
    {
     "name": "stderr",
     "output_type": "stream",
     "text": [
      "/home/jon/.neutronicsworkshop_3.12/lib/python3.12/site-packages/openmc/deplete/results.py:94: FutureWarning: The ResultsList.from_hdf5(...) method is no longer necessary and will be removed in a future version of OpenMC. Use Results(...) instead.\n",
      "  warn(\n"
     ]
    },
    {
     "name": "stdout",
     "output_type": "stream",
     "text": [
      "[openmc.deplete] t=0.0 s, dt=27267.84 s, source=10500000000.0\n"
     ]
    },
    {
     "name": "stdout",
     "output_type": "stream",
     "text": [
      "[openmc.deplete] t=27267.84 s, dt=53568.0 s, source=0.0\n"
     ]
    },
    {
     "name": "stderr",
     "output_type": "stream",
     "text": [
      "/home/jon/.neutronicsworkshop_3.12/lib/python3.12/site-packages/uncertainties/core.py:1024: UserWarning: Using UFloat objects with std_dev==0 may give unexpected results.\n",
      "  warn(\"Using UFloat objects with std_dev==0 may give unexpected results.\")\n"
     ]
    },
    {
     "name": "stdout",
     "output_type": "stream",
     "text": [
      "[openmc.deplete] t=80835.84 s, dt=59702.39999999999 s, source=0.0\n"
     ]
    },
    {
     "name": "stdout",
     "output_type": "stream",
     "text": [
      "[openmc.deplete] t=140538.24 s, dt=136684.80000000008 s, source=0.0\n"
     ]
    },
    {
     "name": "stdout",
     "output_type": "stream",
     "text": [
      "[openmc.deplete] t=277223.04000000004 s, dt=342748.80000000005 s, source=0.0\n"
     ]
    },
    {
     "name": "stdout",
     "output_type": "stream",
     "text": [
      "[openmc.deplete] t=619971.8400000001 s, dt=518054.4000000002 s, source=0.0\n"
     ]
    },
    {
     "name": "stdout",
     "output_type": "stream",
     "text": [
      "[openmc.deplete] t=1138026.2400000002 s, dt=948931.2000000002 s, source=0.0\n"
     ]
    },
    {
     "name": "stdout",
     "output_type": "stream",
     "text": [
      "[openmc.deplete] t=2086957.4400000004 s, dt=2233872.0 s, source=0.0\n"
     ]
    },
    {
     "name": "stdout",
     "output_type": "stream",
     "text": [
      "[openmc.deplete] t=4320829.44 s, dt=4336416.000000001 s, source=0.0\n"
     ]
    },
    {
     "name": "stdout",
     "output_type": "stream",
     "text": [
      "[openmc.deplete] t=8657245.440000001 s, dt=8659872.0 s, source=0.0\n"
     ]
    },
    {
     "name": "stdout",
     "output_type": "stream",
     "text": [
      "[openmc.deplete] t=17317117.44 s, dt=17697311.999999996 s, source=0.0\n"
     ]
    },
    {
     "name": "stdout",
     "output_type": "stream",
     "text": [
      "[openmc.deplete] t=35014429.44 (final operator evaluation)\n"
     ]
    },
    {
     "name": "stderr",
     "output_type": "stream",
     "text": [
      "/home/jon/.neutronicsworkshop_3.12/lib/python3.12/site-packages/openmc/deplete/results.py:94: FutureWarning: The ResultsList.from_hdf5(...) method is no longer necessary and will be removed in a future version of OpenMC. Use Results(...) instead.\n",
      "  warn(\n"
     ]
    },
    {
     "name": "stdout",
     "output_type": "stream",
     "text": [
      "[openmc.deplete] t=0.0 s, dt=300.0 s, source=11160000000.0\n"
     ]
    },
    {
     "name": "stdout",
     "output_type": "stream",
     "text": [
      "[openmc.deplete] t=300.0 s, dt=66.00000000000006 s, source=0.0\n"
     ]
    },
    {
     "name": "stderr",
     "output_type": "stream",
     "text": [
      "/home/jon/.neutronicsworkshop_3.12/lib/python3.12/site-packages/uncertainties/core.py:1024: UserWarning: Using UFloat objects with std_dev==0 may give unexpected results.\n",
      "  warn(\"Using UFloat objects with std_dev==0 may give unexpected results.\")\n"
     ]
    },
    {
     "name": "stdout",
     "output_type": "stream",
     "text": [
      "[openmc.deplete] t=366.00000000000006 s, dt=14.999999999999947 s, source=0.0\n"
     ]
    },
    {
     "name": "stdout",
     "output_type": "stream",
     "text": [
      "[openmc.deplete] t=381.0 s, dt=16.000000000000053 s, source=0.0\n"
     ]
    },
    {
     "name": "stdout",
     "output_type": "stream",
     "text": [
      "[openmc.deplete] t=397.00000000000006 s, dt=25.999999999999993 s, source=0.0\n"
     ]
    },
    {
     "name": "stdout",
     "output_type": "stream",
     "text": [
      "[openmc.deplete] t=423.00000000000006 s, dt=36.999999999999964 s, source=0.0\n"
     ]
    },
    {
     "name": "stdout",
     "output_type": "stream",
     "text": [
      "[openmc.deplete] t=460.0 s, dt=37.000000000000036 s, source=0.0\n"
     ]
    },
    {
     "name": "stdout",
     "output_type": "stream",
     "text": [
      "[openmc.deplete] t=497.00000000000006 s, dt=52.99999999999994 s, source=0.0\n"
     ]
    },
    {
     "name": "stdout",
     "output_type": "stream",
     "text": [
      "[openmc.deplete] t=550.0 s, dt=67.0 s, source=0.0\n"
     ]
    },
    {
     "name": "stdout",
     "output_type": "stream",
     "text": [
      "[openmc.deplete] t=617.0 s, dt=67.00000000000009 s, source=0.0\n"
     ]
    },
    {
     "name": "stdout",
     "output_type": "stream",
     "text": [
      "[openmc.deplete] t=684.0000000000001 s, dt=97.99999999999993 s, source=0.0\n"
     ]
    },
    {
     "name": "stdout",
     "output_type": "stream",
     "text": [
      "[openmc.deplete] t=782.0 s, dt=126.00000000000006 s, source=0.0\n"
     ]
    },
    {
     "name": "stdout",
     "output_type": "stream",
     "text": [
      "[openmc.deplete] t=908.0 s, dt=127.99999999999997 s, source=0.0\n"
     ]
    },
    {
     "name": "stdout",
     "output_type": "stream",
     "text": [
      "[openmc.deplete] t=1036.0 s, dt=127.00000000000001 s, source=0.0\n"
     ]
    },
    {
     "name": "stdout",
     "output_type": "stream",
     "text": [
      "[openmc.deplete] t=1163.0 s, dt=184.9999999999999 s, source=0.0\n"
     ]
    },
    {
     "name": "stdout",
     "output_type": "stream",
     "text": [
      "[openmc.deplete] t=1348.0 s, dt=247.0000000000002 s, source=0.0\n"
     ]
    },
    {
     "name": "stdout",
     "output_type": "stream",
     "text": [
      "[openmc.deplete] t=1595.0000000000002 s, dt=246.99999999999974 s, source=0.0\n"
     ]
    },
    {
     "name": "stdout",
     "output_type": "stream",
     "text": [
      "[openmc.deplete] t=1842.0 s, dt=247.00000000000003 s, source=0.0\n"
     ]
    },
    {
     "name": "stdout",
     "output_type": "stream",
     "text": [
      "[openmc.deplete] t=2089.0 s, dt=427.99999999999994 s, source=0.0\n"
     ]
    },
    {
     "name": "stdout",
     "output_type": "stream",
     "text": [
      "[openmc.deplete] t=2517.0 s, dt=607.0000000000002 s, source=0.0\n"
     ]
    },
    {
     "name": "stdout",
     "output_type": "stream",
     "text": [
      "[openmc.deplete] t=3124.0 s, dt=607.0 s, source=0.0\n"
     ]
    },
    {
     "name": "stdout",
     "output_type": "stream",
     "text": [
      "[openmc.deplete] t=3731.0 (final operator evaluation)\n"
     ]
    },
    {
     "name": "stderr",
     "output_type": "stream",
     "text": [
      "/home/jon/.neutronicsworkshop_3.12/lib/python3.12/site-packages/openmc/deplete/results.py:94: FutureWarning: The ResultsList.from_hdf5(...) method is no longer necessary and will be removed in a future version of OpenMC. Use Results(...) instead.\n",
      "  warn(\n"
     ]
    },
    {
     "name": "stdout",
     "output_type": "stream",
     "text": [
      "[openmc.deplete] t=0.0 s, dt=300.0 s, source=11160000000.0\n"
     ]
    },
    {
     "name": "stdout",
     "output_type": "stream",
     "text": [
      "[openmc.deplete] t=300.0 s, dt=36.00000000000001 s, source=0.0\n"
     ]
    },
    {
     "name": "stderr",
     "output_type": "stream",
     "text": [
      "/home/jon/.neutronicsworkshop_3.12/lib/python3.12/site-packages/uncertainties/core.py:1024: UserWarning: Using UFloat objects with std_dev==0 may give unexpected results.\n",
      "  warn(\"Using UFloat objects with std_dev==0 may give unexpected results.\")\n"
     ]
    },
    {
     "name": "stdout",
     "output_type": "stream",
     "text": [
      "[openmc.deplete] t=336.0 s, dt=15.999999999999979 s, source=0.0\n"
     ]
    },
    {
     "name": "stdout",
     "output_type": "stream",
     "text": [
      "[openmc.deplete] t=352.0 s, dt=16.000000000000053 s, source=0.0\n"
     ]
    },
    {
     "name": "stdout",
     "output_type": "stream",
     "text": [
      "[openmc.deplete] t=368.00000000000006 s, dt=14.999999999999947 s, source=0.0\n"
     ]
    },
    {
     "name": "stdout",
     "output_type": "stream",
     "text": [
      "[openmc.deplete] t=383.0 s, dt=16.000000000000053 s, source=0.0\n"
     ]
    },
    {
     "name": "stdout",
     "output_type": "stream",
     "text": [
      "[openmc.deplete] t=399.00000000000006 s, dt=26.99999999999995 s, source=0.0\n"
     ]
    },
    {
     "name": "stdout",
     "output_type": "stream",
     "text": [
      "[openmc.deplete] t=426.0 s, dt=36.00000000000001 s, source=0.0\n"
     ]
    },
    {
     "name": "stdout",
     "output_type": "stream",
     "text": [
      "[openmc.deplete] t=462.0 s, dt=37.000000000000036 s, source=0.0\n"
     ]
    },
    {
     "name": "stdout",
     "output_type": "stream",
     "text": [
      "[openmc.deplete] t=499.00000000000006 s, dt=53.000000000000014 s, source=0.0\n"
     ]
    },
    {
     "name": "stdout",
     "output_type": "stream",
     "text": [
      "[openmc.deplete] t=552.0000000000001 s, dt=65.99999999999997 s, source=0.0\n"
     ]
    },
    {
     "name": "stdout",
     "output_type": "stream",
     "text": [
      "[openmc.deplete] t=618.0000000000001 s, dt=67.0 s, source=0.0\n"
     ]
    },
    {
     "name": "stdout",
     "output_type": "stream",
     "text": [
      "[openmc.deplete] t=685.0000000000001 s, dt=96.99999999999997 s, source=0.0\n"
     ]
    },
    {
     "name": "stdout",
     "output_type": "stream",
     "text": [
      "[openmc.deplete] t=782.0000000000001 s, dt=127.00000000000001 s, source=0.0\n"
     ]
    },
    {
     "name": "stdout",
     "output_type": "stream",
     "text": [
      "[openmc.deplete] t=909.0000000000001 s, dt=126.00000000000006 s, source=0.0\n"
     ]
    },
    {
     "name": "stdout",
     "output_type": "stream",
     "text": [
      "[openmc.deplete] t=1035.0000000000002 s, dt=184.9999999999999 s, source=0.0\n"
     ]
    },
    {
     "name": "stdout",
     "output_type": "stream",
     "text": [
      "[openmc.deplete] t=1220.0 s, dt=247.00000000000003 s, source=0.0\n"
     ]
    },
    {
     "name": "stdout",
     "output_type": "stream",
     "text": [
      "[openmc.deplete] t=1467.0 s, dt=246.00000000000009 s, source=0.0\n"
     ]
    },
    {
     "name": "stdout",
     "output_type": "stream",
     "text": [
      "[openmc.deplete] t=1713.0 s, dt=245.99999999999977 s, source=0.0\n"
     ]
    },
    {
     "name": "stdout",
     "output_type": "stream",
     "text": [
      "[openmc.deplete] t=1958.9999999999998 s, dt=428.0000000000003 s, source=0.0\n"
     ]
    },
    {
     "name": "stdout",
     "output_type": "stream",
     "text": [
      "[openmc.deplete] t=2387.0 s, dt=606.9999999999997 s, source=0.0\n"
     ]
    },
    {
     "name": "stdout",
     "output_type": "stream",
     "text": [
      "[openmc.deplete] t=2993.9999999999995 s, dt=606.0 s, source=0.0\n"
     ]
    },
    {
     "name": "stdout",
     "output_type": "stream",
     "text": [
      "[openmc.deplete] t=3599.9999999999995 (final operator evaluation)\n"
     ]
    },
    {
     "name": "stderr",
     "output_type": "stream",
     "text": [
      "/home/jon/.neutronicsworkshop_3.12/lib/python3.12/site-packages/openmc/deplete/results.py:94: FutureWarning: The ResultsList.from_hdf5(...) method is no longer necessary and will be removed in a future version of OpenMC. Use Results(...) instead.\n",
      "  warn(\n"
     ]
    },
    {
     "name": "stdout",
     "output_type": "stream",
     "text": [
      "[openmc.deplete] t=0.0 s, dt=300.0 s, source=11160000000.0\n"
     ]
    },
    {
     "name": "stdout",
     "output_type": "stream",
     "text": [
      "[openmc.deplete] t=300.0 s, dt=66.00000000000006 s, source=0.0\n"
     ]
    },
    {
     "name": "stderr",
     "output_type": "stream",
     "text": [
      "/home/jon/.neutronicsworkshop_3.12/lib/python3.12/site-packages/uncertainties/core.py:1024: UserWarning: Using UFloat objects with std_dev==0 may give unexpected results.\n",
      "  warn(\"Using UFloat objects with std_dev==0 may give unexpected results.\")\n"
     ]
    },
    {
     "name": "stdout",
     "output_type": "stream",
     "text": [
      "[openmc.deplete] t=366.00000000000006 s, dt=14.999999999999947 s, source=0.0\n"
     ]
    },
    {
     "name": "stdout",
     "output_type": "stream",
     "text": [
      "[openmc.deplete] t=381.0 s, dt=15.000000000000021 s, source=0.0\n"
     ]
    },
    {
     "name": "stdout",
     "output_type": "stream",
     "text": [
      "[openmc.deplete] t=396.0 s, dt=25.999999999999993 s, source=0.0\n"
     ]
    },
    {
     "name": "stdout",
     "output_type": "stream",
     "text": [
      "[openmc.deplete] t=422.0 s, dt=36.00000000000001 s, source=0.0\n"
     ]
    },
    {
     "name": "stdout",
     "output_type": "stream",
     "text": [
      "[openmc.deplete] t=458.0 s, dt=36.999999999999964 s, source=0.0\n"
     ]
    },
    {
     "name": "stdout",
     "output_type": "stream",
     "text": [
      "[openmc.deplete] t=494.99999999999994 s, dt=52.00000000000006 s, source=0.0\n"
     ]
    },
    {
     "name": "stdout",
     "output_type": "stream",
     "text": [
      "[openmc.deplete] t=547.0 s, dt=65.99999999999997 s, source=0.0\n"
     ]
    },
    {
     "name": "stdout",
     "output_type": "stream",
     "text": [
      "[openmc.deplete] t=613.0 s, dt=65.99999999999997 s, source=0.0\n"
     ]
    },
    {
     "name": "stdout",
     "output_type": "stream",
     "text": [
      "[openmc.deplete] t=679.0 s, dt=96.99999999999997 s, source=0.0\n"
     ]
    },
    {
     "name": "stdout",
     "output_type": "stream",
     "text": [
      "[openmc.deplete] t=776.0 s, dt=127.00000000000001 s, source=0.0\n"
     ]
    },
    {
     "name": "stdout",
     "output_type": "stream",
     "text": [
      "[openmc.deplete] t=903.0 s, dt=126.00000000000006 s, source=0.0\n"
     ]
    },
    {
     "name": "stdout",
     "output_type": "stream",
     "text": [
      "[openmc.deplete] t=1029.0 s, dt=186.99999999999994 s, source=0.0\n"
     ]
    },
    {
     "name": "stdout",
     "output_type": "stream",
     "text": [
      "[openmc.deplete] t=1216.0 s, dt=245.99999999999994 s, source=0.0\n"
     ]
    },
    {
     "name": "stdout",
     "output_type": "stream",
     "text": [
      "[openmc.deplete] t=1462.0 s, dt=247.00000000000003 s, source=0.0\n"
     ]
    },
    {
     "name": "stdout",
     "output_type": "stream",
     "text": [
      "[openmc.deplete] t=1709.0 s, dt=247.00000000000003 s, source=0.0\n"
     ]
    },
    {
     "name": "stdout",
     "output_type": "stream",
     "text": [
      "[openmc.deplete] t=1956.0 s, dt=427.0 s, source=0.0\n"
     ]
    },
    {
     "name": "stdout",
     "output_type": "stream",
     "text": [
      "[openmc.deplete] t=2383.0 s, dt=607.0 s, source=0.0\n"
     ]
    },
    {
     "name": "stdout",
     "output_type": "stream",
     "text": [
      "[openmc.deplete] t=2990.0 s, dt=606.0 s, source=0.0\n"
     ]
    },
    {
     "name": "stdout",
     "output_type": "stream",
     "text": [
      "[openmc.deplete] t=3596.0 (final operator evaluation)\n"
     ]
    },
    {
     "name": "stderr",
     "output_type": "stream",
     "text": [
      "/home/jon/.neutronicsworkshop_3.12/lib/python3.12/site-packages/openmc/deplete/results.py:94: FutureWarning: The ResultsList.from_hdf5(...) method is no longer necessary and will be removed in a future version of OpenMC. Use Results(...) instead.\n",
      "  warn(\n"
     ]
    },
    {
     "name": "stdout",
     "output_type": "stream",
     "text": [
      "[openmc.deplete] t=0.0 s, dt=300.0 s, source=11160000000.0\n"
     ]
    },
    {
     "name": "stdout",
     "output_type": "stream",
     "text": [
      "[openmc.deplete] t=300.0 s, dt=37.0 s, source=0.0\n"
     ]
    },
    {
     "name": "stderr",
     "output_type": "stream",
     "text": [
      "/home/jon/.neutronicsworkshop_3.12/lib/python3.12/site-packages/uncertainties/core.py:1024: UserWarning: Using UFloat objects with std_dev==0 may give unexpected results.\n",
      "  warn(\"Using UFloat objects with std_dev==0 may give unexpected results.\")\n"
     ]
    },
    {
     "name": "stdout",
     "output_type": "stream",
     "text": [
      "[openmc.deplete] t=337.0 s, dt=14.999999999999984 s, source=0.0\n"
     ]
    },
    {
     "name": "stdout",
     "output_type": "stream",
     "text": [
      "[openmc.deplete] t=352.0 s, dt=16.000000000000053 s, source=0.0\n"
     ]
    },
    {
     "name": "stdout",
     "output_type": "stream",
     "text": [
      "[openmc.deplete] t=368.00000000000006 s, dt=15.999999999999979 s, source=0.0\n"
     ]
    },
    {
     "name": "stdout",
     "output_type": "stream",
     "text": [
      "[openmc.deplete] t=384.00000000000006 s, dt=15.999999999999979 s, source=0.0\n"
     ]
    },
    {
     "name": "stdout",
     "output_type": "stream",
     "text": [
      "[openmc.deplete] t=400.00000000000006 s, dt=27.000000000000025 s, source=0.0\n"
     ]
    },
    {
     "name": "stdout",
     "output_type": "stream",
     "text": [
      "[openmc.deplete] t=427.00000000000006 s, dt=36.999999999999964 s, source=0.0\n"
     ]
    },
    {
     "name": "stdout",
     "output_type": "stream",
     "text": [
      "[openmc.deplete] t=464.0 s, dt=36.00000000000001 s, source=0.0\n"
     ]
    },
    {
     "name": "stdout",
     "output_type": "stream",
     "text": [
      "[openmc.deplete] t=500.0 s, dt=53.000000000000014 s, source=0.0\n"
     ]
    },
    {
     "name": "stdout",
     "output_type": "stream",
     "text": [
      "[openmc.deplete] t=553.0 s, dt=67.0 s, source=0.0\n"
     ]
    },
    {
     "name": "stdout",
     "output_type": "stream",
     "text": [
      "[openmc.deplete] t=620.0 s, dt=66.99999999999993 s, source=0.0\n"
     ]
    },
    {
     "name": "stdout",
     "output_type": "stream",
     "text": [
      "[openmc.deplete] t=686.9999999999999 s, dt=98.00000000000009 s, source=0.0\n"
     ]
    },
    {
     "name": "stdout",
     "output_type": "stream",
     "text": [
      "[openmc.deplete] t=785.0 s, dt=127.00000000000001 s, source=0.0\n"
     ]
    },
    {
     "name": "stdout",
     "output_type": "stream",
     "text": [
      "[openmc.deplete] t=912.0 s, dt=127.00000000000001 s, source=0.0\n"
     ]
    },
    {
     "name": "stdout",
     "output_type": "stream",
     "text": [
      "[openmc.deplete] t=1039.0 s, dt=186.99999999999994 s, source=0.0\n"
     ]
    },
    {
     "name": "stdout",
     "output_type": "stream",
     "text": [
      "[openmc.deplete] t=1226.0 s, dt=247.00000000000003 s, source=0.0\n"
     ]
    },
    {
     "name": "stdout",
     "output_type": "stream",
     "text": [
      "[openmc.deplete] t=1473.0 s, dt=247.00000000000003 s, source=0.0\n"
     ]
    },
    {
     "name": "stdout",
     "output_type": "stream",
     "text": [
      "[openmc.deplete] t=1720.0 s, dt=247.00000000000003 s, source=0.0\n"
     ]
    },
    {
     "name": "stdout",
     "output_type": "stream",
     "text": [
      "[openmc.deplete] t=1967.0 s, dt=424.9999999999998 s, source=0.0\n"
     ]
    },
    {
     "name": "stdout",
     "output_type": "stream",
     "text": [
      "[openmc.deplete] t=2392.0 s, dt=605.0000000000003 s, source=0.0\n"
     ]
    },
    {
     "name": "stdout",
     "output_type": "stream",
     "text": [
      "[openmc.deplete] t=2997.0000000000005 s, dt=607.0 s, source=0.0\n"
     ]
    },
    {
     "name": "stdout",
     "output_type": "stream",
     "text": [
      "[openmc.deplete] t=3604.0000000000005 (final operator evaluation)\n"
     ]
    },
    {
     "name": "stderr",
     "output_type": "stream",
     "text": [
      "/home/jon/.neutronicsworkshop_3.12/lib/python3.12/site-packages/openmc/deplete/results.py:94: FutureWarning: The ResultsList.from_hdf5(...) method is no longer necessary and will be removed in a future version of OpenMC. Use Results(...) instead.\n",
      "  warn(\n"
     ]
    },
    {
     "name": "stdout",
     "output_type": "stream",
     "text": [
      "[openmc.deplete] t=0.0 s, dt=25799.039999999997 s, source=10500000000.0\n"
     ]
    },
    {
     "name": "stdout",
     "output_type": "stream",
     "text": [
      "[openmc.deplete] t=25799.039999999997 s, dt=57196.8 s, source=0.0\n"
     ]
    },
    {
     "name": "stderr",
     "output_type": "stream",
     "text": [
      "/home/jon/.neutronicsworkshop_3.12/lib/python3.12/site-packages/uncertainties/core.py:1024: UserWarning: Using UFloat objects with std_dev==0 may give unexpected results.\n",
      "  warn(\"Using UFloat objects with std_dev==0 may give unexpected results.\")\n"
     ]
    },
    {
     "name": "stdout",
     "output_type": "stream",
     "text": [
      "[openmc.deplete] t=82995.84 s, dt=90201.6 s, source=0.0\n"
     ]
    },
    {
     "name": "stdout",
     "output_type": "stream",
     "text": [
      "[openmc.deplete] t=173197.44 s, dt=186883.2 s, source=0.0\n"
     ]
    },
    {
     "name": "stdout",
     "output_type": "stream",
     "text": [
      "[openmc.deplete] t=360080.64 s, dt=247536.00000000003 s, source=0.0\n"
     ]
    },
    {
     "name": "stdout",
     "output_type": "stream",
     "text": [
      "[openmc.deplete] t=607616.64 s, dt=470620.79999999993 s, source=0.0\n"
     ]
    },
    {
     "name": "stdout",
     "output_type": "stream",
     "text": [
      "[openmc.deplete] t=1078237.44 s, dt=1037232.0000000001 s, source=0.0\n"
     ]
    },
    {
     "name": "stdout",
     "output_type": "stream",
     "text": [
      "[openmc.deplete] t=2115469.44 (final operator evaluation)\n"
     ]
    },
    {
     "name": "stderr",
     "output_type": "stream",
     "text": [
      "/home/jon/.neutronicsworkshop_3.12/lib/python3.12/site-packages/openmc/deplete/results.py:94: FutureWarning: The ResultsList.from_hdf5(...) method is no longer necessary and will be removed in a future version of OpenMC. Use Results(...) instead.\n",
      "  warn(\n"
     ]
    },
    {
     "name": "stdout",
     "output_type": "stream",
     "text": [
      "[openmc.deplete] t=0.0 s, dt=300.0 s, source=11160000000.0\n"
     ]
    },
    {
     "name": "stdout",
     "output_type": "stream",
     "text": [
      "[openmc.deplete] t=300.0 s, dt=66.00000000000006 s, source=0.0\n"
     ]
    },
    {
     "name": "stderr",
     "output_type": "stream",
     "text": [
      "/home/jon/.neutronicsworkshop_3.12/lib/python3.12/site-packages/uncertainties/core.py:1024: UserWarning: Using UFloat objects with std_dev==0 may give unexpected results.\n",
      "  warn(\"Using UFloat objects with std_dev==0 may give unexpected results.\")\n"
     ]
    },
    {
     "name": "stdout",
     "output_type": "stream",
     "text": [
      "[openmc.deplete] t=366.00000000000006 s, dt=15.999999999999979 s, source=0.0\n"
     ]
    },
    {
     "name": "stdout",
     "output_type": "stream",
     "text": [
      "[openmc.deplete] t=382.00000000000006 s, dt=15.999999999999979 s, source=0.0\n"
     ]
    },
    {
     "name": "stdout",
     "output_type": "stream",
     "text": [
      "[openmc.deplete] t=398.00000000000006 s, dt=27.000000000000025 s, source=0.0\n"
     ]
    },
    {
     "name": "stdout",
     "output_type": "stream",
     "text": [
      "[openmc.deplete] t=425.00000000000006 s, dt=36.999999999999964 s, source=0.0\n"
     ]
    },
    {
     "name": "stdout",
     "output_type": "stream",
     "text": [
      "[openmc.deplete] t=462.0 s, dt=37.000000000000036 s, source=0.0\n"
     ]
    },
    {
     "name": "stdout",
     "output_type": "stream",
     "text": [
      "[openmc.deplete] t=499.00000000000006 s, dt=50.0 s, source=0.0\n"
     ]
    },
    {
     "name": "stdout",
     "output_type": "stream",
     "text": [
      "[openmc.deplete] t=549.0 s, dt=63.999999999999986 s, source=0.0\n"
     ]
    },
    {
     "name": "stdout",
     "output_type": "stream",
     "text": [
      "[openmc.deplete] t=613.0 s, dt=66.99999999999993 s, source=0.0\n"
     ]
    },
    {
     "name": "stdout",
     "output_type": "stream",
     "text": [
      "[openmc.deplete] t=679.9999999999999 s, dt=98.00000000000009 s, source=0.0\n"
     ]
    },
    {
     "name": "stdout",
     "output_type": "stream",
     "text": [
      "[openmc.deplete] t=778.0 s, dt=124.99999999999996 s, source=0.0\n"
     ]
    },
    {
     "name": "stdout",
     "output_type": "stream",
     "text": [
      "[openmc.deplete] t=903.0 s, dt=127.99999999999997 s, source=0.0\n"
     ]
    },
    {
     "name": "stdout",
     "output_type": "stream",
     "text": [
      "[openmc.deplete] t=1031.0 s, dt=124.0 s, source=0.0\n"
     ]
    },
    {
     "name": "stdout",
     "output_type": "stream",
     "text": [
      "[openmc.deplete] t=1155.0 s, dt=188.00000000000006 s, source=0.0\n"
     ]
    },
    {
     "name": "stdout",
     "output_type": "stream",
     "text": [
      "[openmc.deplete] t=1343.0 s, dt=243.9999999999999 s, source=0.0\n"
     ]
    },
    {
     "name": "stdout",
     "output_type": "stream",
     "text": [
      "[openmc.deplete] t=1587.0 s, dt=247.00000000000003 s, source=0.0\n"
     ]
    },
    {
     "name": "stdout",
     "output_type": "stream",
     "text": [
      "[openmc.deplete] t=1834.0 s, dt=248.0 s, source=0.0\n"
     ]
    },
    {
     "name": "stdout",
     "output_type": "stream",
     "text": [
      "[openmc.deplete] t=2082.0 s, dt=425.0000000000001 s, source=0.0\n"
     ]
    },
    {
     "name": "stdout",
     "output_type": "stream",
     "text": [
      "[openmc.deplete] t=2507.0 s, dt=607.0 s, source=0.0\n"
     ]
    },
    {
     "name": "stdout",
     "output_type": "stream",
     "text": [
      "[openmc.deplete] t=3114.0 s, dt=605.0 s, source=0.0\n"
     ]
    },
    {
     "name": "stdout",
     "output_type": "stream",
     "text": [
      "[openmc.deplete] t=3719.0 (final operator evaluation)\n"
     ]
    },
    {
     "name": "stderr",
     "output_type": "stream",
     "text": [
      "/home/jon/.neutronicsworkshop_3.12/lib/python3.12/site-packages/openmc/deplete/results.py:94: FutureWarning: The ResultsList.from_hdf5(...) method is no longer necessary and will be removed in a future version of OpenMC. Use Results(...) instead.\n",
      "  warn(\n"
     ]
    },
    {
     "name": "stdout",
     "output_type": "stream",
     "text": [
      "[openmc.deplete] t=0.0 s, dt=300.0 s, source=11160000000.0\n"
     ]
    },
    {
     "name": "stdout",
     "output_type": "stream",
     "text": [
      "[openmc.deplete] t=300.0 s, dt=36.00000000000001 s, source=0.0\n"
     ]
    },
    {
     "name": "stderr",
     "output_type": "stream",
     "text": [
      "/home/jon/.neutronicsworkshop_3.12/lib/python3.12/site-packages/uncertainties/core.py:1024: UserWarning: Using UFloat objects with std_dev==0 may give unexpected results.\n",
      "  warn(\"Using UFloat objects with std_dev==0 may give unexpected results.\")\n"
     ]
    },
    {
     "name": "stdout",
     "output_type": "stream",
     "text": [
      "[openmc.deplete] t=336.0 s, dt=15.000000000000021 s, source=0.0\n"
     ]
    },
    {
     "name": "stdout",
     "output_type": "stream",
     "text": [
      "[openmc.deplete] t=351.0 s, dt=15.000000000000021 s, source=0.0\n"
     ]
    },
    {
     "name": "stdout",
     "output_type": "stream",
     "text": [
      "[openmc.deplete] t=366.0 s, dt=14.999999999999947 s, source=0.0\n"
     ]
    },
    {
     "name": "stdout",
     "output_type": "stream",
     "text": [
      "[openmc.deplete] t=380.99999999999994 s, dt=15.000000000000021 s, source=0.0\n"
     ]
    },
    {
     "name": "stdout",
     "output_type": "stream",
     "text": [
      "[openmc.deplete] t=395.99999999999994 s, dt=25.999999999999993 s, source=0.0\n"
     ]
    },
    {
     "name": "stdout",
     "output_type": "stream",
     "text": [
      "[openmc.deplete] t=421.99999999999994 s, dt=36.00000000000001 s, source=0.0\n"
     ]
    },
    {
     "name": "stdout",
     "output_type": "stream",
     "text": [
      "[openmc.deplete] t=457.99999999999994 s, dt=32.999999999999986 s, source=0.0\n"
     ]
    },
    {
     "name": "stdout",
     "output_type": "stream",
     "text": [
      "[openmc.deplete] t=490.99999999999994 s, dt=51.999999999999986 s, source=0.0\n"
     ]
    },
    {
     "name": "stdout",
     "output_type": "stream",
     "text": [
      "[openmc.deplete] t=542.9999999999999 s, dt=66.00000000000006 s, source=0.0\n"
     ]
    },
    {
     "name": "stdout",
     "output_type": "stream",
     "text": [
      "[openmc.deplete] t=609.0 s, dt=65.99999999999997 s, source=0.0\n"
     ]
    },
    {
     "name": "stdout",
     "output_type": "stream",
     "text": [
      "[openmc.deplete] t=675.0 s, dt=96.99999999999997 s, source=0.0\n"
     ]
    },
    {
     "name": "stdout",
     "output_type": "stream",
     "text": [
      "[openmc.deplete] t=772.0 s, dt=126.00000000000006 s, source=0.0\n"
     ]
    },
    {
     "name": "stdout",
     "output_type": "stream",
     "text": [
      "[openmc.deplete] t=898.0 s, dt=122.99999999999989 s, source=0.0\n"
     ]
    },
    {
     "name": "stdout",
     "output_type": "stream",
     "text": [
      "[openmc.deplete] t=1020.9999999999999 s, dt=184.00000000000009 s, source=0.0\n"
     ]
    },
    {
     "name": "stdout",
     "output_type": "stream",
     "text": [
      "[openmc.deplete] t=1205.0 s, dt=246.00000000000009 s, source=0.0\n"
     ]
    },
    {
     "name": "stdout",
     "output_type": "stream",
     "text": [
      "[openmc.deplete] t=1451.0 s, dt=245.99999999999977 s, source=0.0\n"
     ]
    },
    {
     "name": "stdout",
     "output_type": "stream",
     "text": [
      "[openmc.deplete] t=1696.9999999999998 s, dt=246.00000000000009 s, source=0.0\n"
     ]
    },
    {
     "name": "stdout",
     "output_type": "stream",
     "text": [
      "[openmc.deplete] t=1942.9999999999998 s, dt=424.0000000000001 s, source=0.0\n"
     ]
    },
    {
     "name": "stdout",
     "output_type": "stream",
     "text": [
      "[openmc.deplete] t=2367.0 s, dt=607.0 s, source=0.0\n"
     ]
    },
    {
     "name": "stdout",
     "output_type": "stream",
     "text": [
      "[openmc.deplete] t=2974.0 s, dt=606.0 s, source=0.0\n"
     ]
    },
    {
     "name": "stdout",
     "output_type": "stream",
     "text": [
      "[openmc.deplete] t=3580.0 (final operator evaluation)\n"
     ]
    },
    {
     "name": "stderr",
     "output_type": "stream",
     "text": [
      "/home/jon/.neutronicsworkshop_3.12/lib/python3.12/site-packages/openmc/deplete/results.py:94: FutureWarning: The ResultsList.from_hdf5(...) method is no longer necessary and will be removed in a future version of OpenMC. Use Results(...) instead.\n",
      "  warn(\n"
     ]
    },
    {
     "name": "stdout",
     "output_type": "stream",
     "text": [
      "[openmc.deplete] t=0.0 s, dt=300.0 s, source=11160000000.0\n"
     ]
    },
    {
     "name": "stdout",
     "output_type": "stream",
     "text": [
      "[openmc.deplete] t=300.0 s, dt=36.00000000000001 s, source=0.0\n"
     ]
    },
    {
     "name": "stderr",
     "output_type": "stream",
     "text": [
      "/home/jon/.neutronicsworkshop_3.12/lib/python3.12/site-packages/uncertainties/core.py:1024: UserWarning: Using UFloat objects with std_dev==0 may give unexpected results.\n",
      "  warn(\"Using UFloat objects with std_dev==0 may give unexpected results.\")\n"
     ]
    },
    {
     "name": "stdout",
     "output_type": "stream",
     "text": [
      "[openmc.deplete] t=336.0 s, dt=15.999999999999979 s, source=0.0\n"
     ]
    },
    {
     "name": "stdout",
     "output_type": "stream",
     "text": [
      "[openmc.deplete] t=352.0 s, dt=16.000000000000053 s, source=0.0\n"
     ]
    },
    {
     "name": "stdout",
     "output_type": "stream",
     "text": [
      "[openmc.deplete] t=368.00000000000006 s, dt=14.999999999999947 s, source=0.0\n"
     ]
    },
    {
     "name": "stdout",
     "output_type": "stream",
     "text": [
      "[openmc.deplete] t=383.0 s, dt=16.000000000000053 s, source=0.0\n"
     ]
    },
    {
     "name": "stdout",
     "output_type": "stream",
     "text": [
      "[openmc.deplete] t=399.00000000000006 s, dt=26.99999999999995 s, source=0.0\n"
     ]
    },
    {
     "name": "stdout",
     "output_type": "stream",
     "text": [
      "[openmc.deplete] t=426.0 s, dt=37.000000000000036 s, source=0.0\n"
     ]
    },
    {
     "name": "stdout",
     "output_type": "stream",
     "text": [
      "[openmc.deplete] t=463.00000000000006 s, dt=36.00000000000001 s, source=0.0\n"
     ]
    },
    {
     "name": "stdout",
     "output_type": "stream",
     "text": [
      "[openmc.deplete] t=499.00000000000006 s, dt=53.000000000000014 s, source=0.0\n"
     ]
    },
    {
     "name": "stdout",
     "output_type": "stream",
     "text": [
      "[openmc.deplete] t=552.0000000000001 s, dt=65.99999999999997 s, source=0.0\n"
     ]
    },
    {
     "name": "stdout",
     "output_type": "stream",
     "text": [
      "[openmc.deplete] t=618.0000000000001 s, dt=67.0 s, source=0.0\n"
     ]
    },
    {
     "name": "stdout",
     "output_type": "stream",
     "text": [
      "[openmc.deplete] t=685.0000000000001 s, dt=96.99999999999997 s, source=0.0\n"
     ]
    },
    {
     "name": "stdout",
     "output_type": "stream",
     "text": [
      "[openmc.deplete] t=782.0000000000001 s, dt=127.00000000000001 s, source=0.0\n"
     ]
    },
    {
     "name": "stdout",
     "output_type": "stream",
     "text": [
      "[openmc.deplete] t=909.0000000000001 s, dt=124.0 s, source=0.0\n"
     ]
    },
    {
     "name": "stdout",
     "output_type": "stream",
     "text": [
      "[openmc.deplete] t=1033.0 s, dt=185.00000000000003 s, source=0.0\n"
     ]
    },
    {
     "name": "stdout",
     "output_type": "stream",
     "text": [
      "[openmc.deplete] t=1218.0 s, dt=243.9999999999999 s, source=0.0\n"
     ]
    },
    {
     "name": "stdout",
     "output_type": "stream",
     "text": [
      "[openmc.deplete] t=1462.0 s, dt=244.00000000000017 s, source=0.0\n"
     ]
    },
    {
     "name": "stdout",
     "output_type": "stream",
     "text": [
      "[openmc.deplete] t=1706.0000000000002 s, dt=247.00000000000003 s, source=0.0\n"
     ]
    },
    {
     "name": "stdout",
     "output_type": "stream",
     "text": [
      "[openmc.deplete] t=1953.0000000000002 s, dt=427.0 s, source=0.0\n"
     ]
    },
    {
     "name": "stdout",
     "output_type": "stream",
     "text": [
      "[openmc.deplete] t=2380.0 s, dt=607.0 s, source=0.0\n"
     ]
    },
    {
     "name": "stdout",
     "output_type": "stream",
     "text": [
      "[openmc.deplete] t=2987.0 s, dt=607.0 s, source=0.0\n"
     ]
    },
    {
     "name": "stdout",
     "output_type": "stream",
     "text": [
      "[openmc.deplete] t=3594.0 (final operator evaluation)\n"
     ]
    },
    {
     "name": "stderr",
     "output_type": "stream",
     "text": [
      "/home/jon/.neutronicsworkshop_3.12/lib/python3.12/site-packages/openmc/deplete/results.py:94: FutureWarning: The ResultsList.from_hdf5(...) method is no longer necessary and will be removed in a future version of OpenMC. Use Results(...) instead.\n",
      "  warn(\n"
     ]
    },
    {
     "name": "stdout",
     "output_type": "stream",
     "text": [
      "[openmc.deplete] t=0.0 s, dt=300.0 s, source=11160000000.0\n"
     ]
    },
    {
     "name": "stdout",
     "output_type": "stream",
     "text": [
      "[openmc.deplete] t=300.0 s, dt=36.00000000000001 s, source=0.0\n"
     ]
    },
    {
     "name": "stderr",
     "output_type": "stream",
     "text": [
      "/home/jon/.neutronicsworkshop_3.12/lib/python3.12/site-packages/uncertainties/core.py:1024: UserWarning: Using UFloat objects with std_dev==0 may give unexpected results.\n",
      "  warn(\"Using UFloat objects with std_dev==0 may give unexpected results.\")\n"
     ]
    },
    {
     "name": "stdout",
     "output_type": "stream",
     "text": [
      "[openmc.deplete] t=336.0 s, dt=15.000000000000021 s, source=0.0\n"
     ]
    },
    {
     "name": "stdout",
     "output_type": "stream",
     "text": [
      "[openmc.deplete] t=351.0 s, dt=15.999999999999979 s, source=0.0\n"
     ]
    },
    {
     "name": "stdout",
     "output_type": "stream",
     "text": [
      "[openmc.deplete] t=367.0 s, dt=15.000000000000021 s, source=0.0\n"
     ]
    },
    {
     "name": "stdout",
     "output_type": "stream",
     "text": [
      "[openmc.deplete] t=382.0 s, dt=15.000000000000021 s, source=0.0\n"
     ]
    },
    {
     "name": "stdout",
     "output_type": "stream",
     "text": [
      "[openmc.deplete] t=397.0 s, dt=26.99999999999995 s, source=0.0\n"
     ]
    },
    {
     "name": "stdout",
     "output_type": "stream",
     "text": [
      "[openmc.deplete] t=423.99999999999994 s, dt=36.00000000000001 s, source=0.0\n"
     ]
    },
    {
     "name": "stdout",
     "output_type": "stream",
     "text": [
      "[openmc.deplete] t=459.99999999999994 s, dt=37.000000000000036 s, source=0.0\n"
     ]
    },
    {
     "name": "stdout",
     "output_type": "stream",
     "text": [
      "[openmc.deplete] t=497.0 s, dt=51.999999999999986 s, source=0.0\n"
     ]
    },
    {
     "name": "stdout",
     "output_type": "stream",
     "text": [
      "[openmc.deplete] t=549.0 s, dt=65.99999999999997 s, source=0.0\n"
     ]
    },
    {
     "name": "stdout",
     "output_type": "stream",
     "text": [
      "[openmc.deplete] t=615.0 s, dt=67.0 s, source=0.0\n"
     ]
    },
    {
     "name": "stdout",
     "output_type": "stream",
     "text": [
      "[openmc.deplete] t=682.0 s, dt=96.99999999999997 s, source=0.0\n"
     ]
    },
    {
     "name": "stdout",
     "output_type": "stream",
     "text": [
      "[openmc.deplete] t=779.0 s, dt=126.00000000000006 s, source=0.0\n"
     ]
    },
    {
     "name": "stdout",
     "output_type": "stream",
     "text": [
      "[openmc.deplete] t=905.0 s, dt=127.00000000000001 s, source=0.0\n"
     ]
    },
    {
     "name": "stdout",
     "output_type": "stream",
     "text": [
      "[openmc.deplete] t=1032.0 s, dt=186.99999999999994 s, source=0.0\n"
     ]
    },
    {
     "name": "stdout",
     "output_type": "stream",
     "text": [
      "[openmc.deplete] t=1219.0 s, dt=246.00000000000009 s, source=0.0\n"
     ]
    },
    {
     "name": "stdout",
     "output_type": "stream",
     "text": [
      "[openmc.deplete] t=1465.0 s, dt=247.00000000000003 s, source=0.0\n"
     ]
    },
    {
     "name": "stdout",
     "output_type": "stream",
     "text": [
      "[openmc.deplete] t=1712.0 s, dt=246.99999999999974 s, source=0.0\n"
     ]
    },
    {
     "name": "stdout",
     "output_type": "stream",
     "text": [
      "[openmc.deplete] t=1958.9999999999998 s, dt=427.0 s, source=0.0\n"
     ]
    },
    {
     "name": "stdout",
     "output_type": "stream",
     "text": [
      "[openmc.deplete] t=2386.0 s, dt=607.0 s, source=0.0\n"
     ]
    },
    {
     "name": "stdout",
     "output_type": "stream",
     "text": [
      "[openmc.deplete] t=2993.0 s, dt=606.0 s, source=0.0\n"
     ]
    },
    {
     "name": "stdout",
     "output_type": "stream",
     "text": [
      "[openmc.deplete] t=3599.0 (final operator evaluation)\n"
     ]
    },
    {
     "name": "stderr",
     "output_type": "stream",
     "text": [
      "/home/jon/.neutronicsworkshop_3.12/lib/python3.12/site-packages/openmc/deplete/results.py:94: FutureWarning: The ResultsList.from_hdf5(...) method is no longer necessary and will be removed in a future version of OpenMC. Use Results(...) instead.\n",
      "  warn(\n"
     ]
    },
    {
     "name": "stdout",
     "output_type": "stream",
     "text": [
      "[openmc.deplete] t=0.0 s, dt=300.0 s, source=11160000000.0\n"
     ]
    },
    {
     "name": "stdout",
     "output_type": "stream",
     "text": [
      "[openmc.deplete] t=300.0 s, dt=36.00000000000001 s, source=0.0\n"
     ]
    },
    {
     "name": "stderr",
     "output_type": "stream",
     "text": [
      "/home/jon/.neutronicsworkshop_3.12/lib/python3.12/site-packages/uncertainties/core.py:1024: UserWarning: Using UFloat objects with std_dev==0 may give unexpected results.\n",
      "  warn(\"Using UFloat objects with std_dev==0 may give unexpected results.\")\n"
     ]
    },
    {
     "name": "stdout",
     "output_type": "stream",
     "text": [
      "[openmc.deplete] t=336.0 s, dt=15.999999999999979 s, source=0.0\n"
     ]
    },
    {
     "name": "stdout",
     "output_type": "stream",
     "text": [
      "[openmc.deplete] t=352.0 s, dt=15.000000000000021 s, source=0.0\n"
     ]
    },
    {
     "name": "stdout",
     "output_type": "stream",
     "text": [
      "[openmc.deplete] t=367.0 s, dt=15.999999999999979 s, source=0.0\n"
     ]
    },
    {
     "name": "stdout",
     "output_type": "stream",
     "text": [
      "[openmc.deplete] t=383.0 s, dt=15.000000000000021 s, source=0.0\n"
     ]
    },
    {
     "name": "stdout",
     "output_type": "stream",
     "text": [
      "[openmc.deplete] t=398.0 s, dt=25.999999999999993 s, source=0.0\n"
     ]
    },
    {
     "name": "stdout",
     "output_type": "stream",
     "text": [
      "[openmc.deplete] t=424.0 s, dt=37.000000000000036 s, source=0.0\n"
     ]
    },
    {
     "name": "stdout",
     "output_type": "stream",
     "text": [
      "[openmc.deplete] t=461.00000000000006 s, dt=33.99999999999994 s, source=0.0\n"
     ]
    },
    {
     "name": "stdout",
     "output_type": "stream",
     "text": [
      "[openmc.deplete] t=495.0 s, dt=52.00000000000006 s, source=0.0\n"
     ]
    },
    {
     "name": "stdout",
     "output_type": "stream",
     "text": [
      "[openmc.deplete] t=547.0 s, dt=65.99999999999997 s, source=0.0\n"
     ]
    },
    {
     "name": "stdout",
     "output_type": "stream",
     "text": [
      "[openmc.deplete] t=613.0 s, dt=66.99999999999993 s, source=0.0\n"
     ]
    },
    {
     "name": "stdout",
     "output_type": "stream",
     "text": [
      "[openmc.deplete] t=679.9999999999999 s, dt=97.00000000000013 s, source=0.0\n"
     ]
    },
    {
     "name": "stdout",
     "output_type": "stream",
     "text": [
      "[openmc.deplete] t=777.0 s, dt=126.99999999999987 s, source=0.0\n"
     ]
    },
    {
     "name": "stdout",
     "output_type": "stream",
     "text": [
      "[openmc.deplete] t=903.9999999999999 s, dt=124.00000000000014 s, source=0.0\n"
     ]
    },
    {
     "name": "stdout",
     "output_type": "stream",
     "text": [
      "[openmc.deplete] t=1028.0 s, dt=186.99999999999994 s, source=0.0\n"
     ]
    },
    {
     "name": "stdout",
     "output_type": "stream",
     "text": [
      "[openmc.deplete] t=1215.0 s, dt=246.9999999999999 s, source=0.0\n"
     ]
    },
    {
     "name": "stdout",
     "output_type": "stream",
     "text": [
      "[openmc.deplete] t=1462.0 s, dt=244.00000000000017 s, source=0.0\n"
     ]
    },
    {
     "name": "stdout",
     "output_type": "stream",
     "text": [
      "[openmc.deplete] t=1706.0000000000002 s, dt=247.00000000000003 s, source=0.0\n"
     ]
    },
    {
     "name": "stdout",
     "output_type": "stream",
     "text": [
      "[openmc.deplete] t=1953.0000000000002 s, dt=427.0 s, source=0.0\n"
     ]
    },
    {
     "name": "stdout",
     "output_type": "stream",
     "text": [
      "[openmc.deplete] t=2380.0 s, dt=604.0000000000001 s, source=0.0\n"
     ]
    },
    {
     "name": "stdout",
     "output_type": "stream",
     "text": [
      "[openmc.deplete] t=2984.0 s, dt=603.9999999999995 s, source=0.0\n"
     ]
    },
    {
     "name": "stdout",
     "output_type": "stream",
     "text": [
      "[openmc.deplete] t=3587.9999999999995 (final operator evaluation)\n"
     ]
    },
    {
     "name": "stderr",
     "output_type": "stream",
     "text": [
      "/home/jon/.neutronicsworkshop_3.12/lib/python3.12/site-packages/openmc/deplete/results.py:94: FutureWarning: The ResultsList.from_hdf5(...) method is no longer necessary and will be removed in a future version of OpenMC. Use Results(...) instead.\n",
      "  warn(\n"
     ]
    },
    {
     "name": "stdout",
     "output_type": "stream",
     "text": [
      "[openmc.deplete] t=0.0 s, dt=300.0 s, source=11160000000.0\n"
     ]
    },
    {
     "name": "stdout",
     "output_type": "stream",
     "text": [
      "[openmc.deplete] t=300.0 s, dt=35.000000000000014 s, source=0.0\n"
     ]
    },
    {
     "name": "stderr",
     "output_type": "stream",
     "text": [
      "/home/jon/.neutronicsworkshop_3.12/lib/python3.12/site-packages/uncertainties/core.py:1024: UserWarning: Using UFloat objects with std_dev==0 may give unexpected results.\n",
      "  warn(\"Using UFloat objects with std_dev==0 may give unexpected results.\")\n"
     ]
    },
    {
     "name": "stdout",
     "output_type": "stream",
     "text": [
      "[openmc.deplete] t=335.0 s, dt=16.000000000000014 s, source=0.0\n"
     ]
    },
    {
     "name": "stdout",
     "output_type": "stream",
     "text": [
      "[openmc.deplete] t=351.0 s, dt=15.000000000000021 s, source=0.0\n"
     ]
    },
    {
     "name": "stdout",
     "output_type": "stream",
     "text": [
      "[openmc.deplete] t=366.0 s, dt=14.999999999999947 s, source=0.0\n"
     ]
    },
    {
     "name": "stdout",
     "output_type": "stream",
     "text": [
      "[openmc.deplete] t=380.99999999999994 s, dt=15.000000000000021 s, source=0.0\n"
     ]
    },
    {
     "name": "stdout",
     "output_type": "stream",
     "text": [
      "[openmc.deplete] t=395.99999999999994 s, dt=25.999999999999993 s, source=0.0\n"
     ]
    },
    {
     "name": "stdout",
     "output_type": "stream",
     "text": [
      "[openmc.deplete] t=421.99999999999994 s, dt=36.00000000000001 s, source=0.0\n"
     ]
    },
    {
     "name": "stdout",
     "output_type": "stream",
     "text": [
      "[openmc.deplete] t=457.99999999999994 s, dt=36.00000000000001 s, source=0.0\n"
     ]
    },
    {
     "name": "stdout",
     "output_type": "stream",
     "text": [
      "[openmc.deplete] t=493.99999999999994 s, dt=51.999999999999986 s, source=0.0\n"
     ]
    },
    {
     "name": "stdout",
     "output_type": "stream",
     "text": [
      "[openmc.deplete] t=545.9999999999999 s, dt=65.99999999999997 s, source=0.0\n"
     ]
    },
    {
     "name": "stdout",
     "output_type": "stream",
     "text": [
      "[openmc.deplete] t=611.9999999999999 s, dt=66.00000000000006 s, source=0.0\n"
     ]
    },
    {
     "name": "stdout",
     "output_type": "stream",
     "text": [
      "[openmc.deplete] t=678.0 s, dt=96.99999999999997 s, source=0.0\n"
     ]
    },
    {
     "name": "stdout",
     "output_type": "stream",
     "text": [
      "[openmc.deplete] t=775.0 s, dt=126.00000000000006 s, source=0.0\n"
     ]
    },
    {
     "name": "stdout",
     "output_type": "stream",
     "text": [
      "[openmc.deplete] t=901.0 s, dt=125.99999999999991 s, source=0.0\n"
     ]
    },
    {
     "name": "stdout",
     "output_type": "stream",
     "text": [
      "[openmc.deplete] t=1027.0 s, dt=187.0000000000001 s, source=0.0\n"
     ]
    },
    {
     "name": "stdout",
     "output_type": "stream",
     "text": [
      "[openmc.deplete] t=1214.0 s, dt=246.9999999999999 s, source=0.0\n"
     ]
    },
    {
     "name": "stdout",
     "output_type": "stream",
     "text": [
      "[openmc.deplete] t=1461.0 s, dt=246.00000000000009 s, source=0.0\n"
     ]
    },
    {
     "name": "stdout",
     "output_type": "stream",
     "text": [
      "[openmc.deplete] t=1707.0 s, dt=242.99999999999991 s, source=0.0\n"
     ]
    },
    {
     "name": "stdout",
     "output_type": "stream",
     "text": [
      "[openmc.deplete] t=1950.0 s, dt=427.0 s, source=0.0\n"
     ]
    },
    {
     "name": "stdout",
     "output_type": "stream",
     "text": [
      "[openmc.deplete] t=2377.0 s, dt=607.0000000000002 s, source=0.0\n"
     ]
    },
    {
     "name": "stdout",
     "output_type": "stream",
     "text": [
      "[openmc.deplete] t=2984.0 s, dt=606.0 s, source=0.0\n"
     ]
    },
    {
     "name": "stdout",
     "output_type": "stream",
     "text": [
      "[openmc.deplete] t=3590.0 (final operator evaluation)\n"
     ]
    },
    {
     "name": "stderr",
     "output_type": "stream",
     "text": [
      "/home/jon/.neutronicsworkshop_3.12/lib/python3.12/site-packages/openmc/deplete/results.py:94: FutureWarning: The ResultsList.from_hdf5(...) method is no longer necessary and will be removed in a future version of OpenMC. Use Results(...) instead.\n",
      "  warn(\n"
     ]
    },
    {
     "name": "stdout",
     "output_type": "stream",
     "text": [
      "[openmc.deplete] t=0.0 s, dt=27267.84 s, source=10500000000.0\n"
     ]
    },
    {
     "name": "stdout",
     "output_type": "stream",
     "text": [
      "[openmc.deplete] t=27267.84 s, dt=52790.40000000001 s, source=0.0\n"
     ]
    },
    {
     "name": "stderr",
     "output_type": "stream",
     "text": [
      "/home/jon/.neutronicsworkshop_3.12/lib/python3.12/site-packages/uncertainties/core.py:1024: UserWarning: Using UFloat objects with std_dev==0 may give unexpected results.\n",
      "  warn(\"Using UFloat objects with std_dev==0 may give unexpected results.\")\n"
     ]
    },
    {
     "name": "stdout",
     "output_type": "stream",
     "text": [
      "[openmc.deplete] t=80058.24 s, dt=62294.40000000001 s, source=0.0\n"
     ]
    },
    {
     "name": "stdout",
     "output_type": "stream",
     "text": [
      "[openmc.deplete] t=142352.64 s, dt=136512.0 s, source=0.0\n"
     ]
    },
    {
     "name": "stdout",
     "output_type": "stream",
     "text": [
      "[openmc.deplete] t=278864.64 s, dt=343094.4 s, source=0.0\n"
     ]
    },
    {
     "name": "stdout",
     "output_type": "stream",
     "text": [
      "[openmc.deplete] t=621959.04 s, dt=517881.60000000015 s, source=0.0\n"
     ]
    },
    {
     "name": "stdout",
     "output_type": "stream",
     "text": [
      "[openmc.deplete] t=1139840.6400000001 s, dt=948239.9999999998 s, source=0.0\n"
     ]
    },
    {
     "name": "stdout",
     "output_type": "stream",
     "text": [
      "[openmc.deplete] t=2088080.64 s, dt=2234044.7999999993 s, source=0.0\n"
     ]
    },
    {
     "name": "stdout",
     "output_type": "stream",
     "text": [
      "[openmc.deplete] t=4322125.4399999995 s, dt=4336416.0 s, source=0.0\n"
     ]
    },
    {
     "name": "stdout",
     "output_type": "stream",
     "text": [
      "[openmc.deplete] t=8658541.44 s, dt=8659007.999999998 s, source=0.0\n"
     ]
    },
    {
     "name": "stdout",
     "output_type": "stream",
     "text": [
      "[openmc.deplete] t=17317549.439999998 s, dt=17698176.0 s, source=0.0\n"
     ]
    },
    {
     "name": "stdout",
     "output_type": "stream",
     "text": [
      "[openmc.deplete] t=35015725.44 (final operator evaluation)\n"
     ]
    },
    {
     "name": "stderr",
     "output_type": "stream",
     "text": [
      "/home/jon/.neutronicsworkshop_3.12/lib/python3.12/site-packages/openmc/deplete/results.py:94: FutureWarning: The ResultsList.from_hdf5(...) method is no longer necessary and will be removed in a future version of OpenMC. Use Results(...) instead.\n",
      "  warn(\n"
     ]
    },
    {
     "name": "stdout",
     "output_type": "stream",
     "text": [
      "[openmc.deplete] t=0.0 s, dt=300.0 s, source=11350000000.0\n"
     ]
    },
    {
     "name": "stdout",
     "output_type": "stream",
     "text": [
      "[openmc.deplete] t=300.0 s, dt=82.00000000000003 s, source=0.0\n"
     ]
    },
    {
     "name": "stderr",
     "output_type": "stream",
     "text": [
      "/home/jon/.neutronicsworkshop_3.12/lib/python3.12/site-packages/uncertainties/core.py:1024: UserWarning: Using UFloat objects with std_dev==0 may give unexpected results.\n",
      "  warn(\"Using UFloat objects with std_dev==0 may give unexpected results.\")\n"
     ]
    },
    {
     "name": "stdout",
     "output_type": "stream",
     "text": [
      "[openmc.deplete] t=382.0 s, dt=15.999999999999979 s, source=0.0\n"
     ]
    },
    {
     "name": "stdout",
     "output_type": "stream",
     "text": [
      "[openmc.deplete] t=398.0 s, dt=15.000000000000021 s, source=0.0\n"
     ]
    },
    {
     "name": "stdout",
     "output_type": "stream",
     "text": [
      "[openmc.deplete] t=413.0 s, dt=27.000000000000025 s, source=0.0\n"
     ]
    },
    {
     "name": "stdout",
     "output_type": "stream",
     "text": [
      "[openmc.deplete] t=440.0 s, dt=36.999999999999964 s, source=0.0\n"
     ]
    },
    {
     "name": "stdout",
     "output_type": "stream",
     "text": [
      "[openmc.deplete] t=476.99999999999994 s, dt=37.000000000000036 s, source=0.0\n"
     ]
    },
    {
     "name": "stdout",
     "output_type": "stream",
     "text": [
      "[openmc.deplete] t=514.0 s, dt=52.99999999999994 s, source=0.0\n"
     ]
    },
    {
     "name": "stdout",
     "output_type": "stream",
     "text": [
      "[openmc.deplete] t=567.0 s, dt=67.0 s, source=0.0\n"
     ]
    },
    {
     "name": "stdout",
     "output_type": "stream",
     "text": [
      "[openmc.deplete] t=634.0 s, dt=67.00000000000009 s, source=0.0\n"
     ]
    },
    {
     "name": "stdout",
     "output_type": "stream",
     "text": [
      "[openmc.deplete] t=701.0000000000001 s, dt=97.99999999999993 s, source=0.0\n"
     ]
    },
    {
     "name": "stdout",
     "output_type": "stream",
     "text": [
      "[openmc.deplete] t=799.0 s, dt=127.00000000000001 s, source=0.0\n"
     ]
    },
    {
     "name": "stdout",
     "output_type": "stream",
     "text": [
      "[openmc.deplete] t=926.0 s, dt=124.0 s, source=0.0\n"
     ]
    },
    {
     "name": "stdout",
     "output_type": "stream",
     "text": [
      "[openmc.deplete] t=1050.0 s, dt=124.0 s, source=0.0\n"
     ]
    },
    {
     "name": "stdout",
     "output_type": "stream",
     "text": [
      "[openmc.deplete] t=1174.0 s, dt=188.00000000000006 s, source=0.0\n"
     ]
    },
    {
     "name": "stdout",
     "output_type": "stream",
     "text": [
      "[openmc.deplete] t=1362.0 s, dt=247.00000000000003 s, source=0.0\n"
     ]
    },
    {
     "name": "stdout",
     "output_type": "stream",
     "text": [
      "[openmc.deplete] t=1609.0 s, dt=248.0 s, source=0.0\n"
     ]
    },
    {
     "name": "stdout",
     "output_type": "stream",
     "text": [
      "[openmc.deplete] t=1857.0 s, dt=246.99999999999974 s, source=0.0\n"
     ]
    },
    {
     "name": "stdout",
     "output_type": "stream",
     "text": [
      "[openmc.deplete] t=2103.9999999999995 s, dt=428.0000000000003 s, source=0.0\n"
     ]
    },
    {
     "name": "stdout",
     "output_type": "stream",
     "text": [
      "[openmc.deplete] t=2532.0 s, dt=607.9999999999999 s, source=0.0\n"
     ]
    },
    {
     "name": "stdout",
     "output_type": "stream",
     "text": [
      "[openmc.deplete] t=3140.0 s, dt=604.0000000000001 s, source=0.0\n"
     ]
    },
    {
     "name": "stdout",
     "output_type": "stream",
     "text": [
      "[openmc.deplete] t=3744.0 (final operator evaluation)\n"
     ]
    },
    {
     "name": "stderr",
     "output_type": "stream",
     "text": [
      "/home/jon/.neutronicsworkshop_3.12/lib/python3.12/site-packages/openmc/deplete/results.py:94: FutureWarning: The ResultsList.from_hdf5(...) method is no longer necessary and will be removed in a future version of OpenMC. Use Results(...) instead.\n",
      "  warn(\n"
     ]
    },
    {
     "name": "stdout",
     "output_type": "stream",
     "text": [
      "[openmc.deplete] t=0.0 s, dt=300.0 s, source=11160000000.0\n"
     ]
    },
    {
     "name": "stdout",
     "output_type": "stream",
     "text": [
      "[openmc.deplete] t=300.0 s, dt=36.00000000000001 s, source=0.0\n"
     ]
    },
    {
     "name": "stderr",
     "output_type": "stream",
     "text": [
      "/home/jon/.neutronicsworkshop_3.12/lib/python3.12/site-packages/uncertainties/core.py:1024: UserWarning: Using UFloat objects with std_dev==0 may give unexpected results.\n",
      "  warn(\"Using UFloat objects with std_dev==0 may give unexpected results.\")\n"
     ]
    },
    {
     "name": "stdout",
     "output_type": "stream",
     "text": [
      "[openmc.deplete] t=336.0 s, dt=15.000000000000021 s, source=0.0\n"
     ]
    },
    {
     "name": "stdout",
     "output_type": "stream",
     "text": [
      "[openmc.deplete] t=351.0 s, dt=15.999999999999979 s, source=0.0\n"
     ]
    },
    {
     "name": "stdout",
     "output_type": "stream",
     "text": [
      "[openmc.deplete] t=367.0 s, dt=15.000000000000021 s, source=0.0\n"
     ]
    },
    {
     "name": "stdout",
     "output_type": "stream",
     "text": [
      "[openmc.deplete] t=382.0 s, dt=15.999999999999979 s, source=0.0\n"
     ]
    },
    {
     "name": "stdout",
     "output_type": "stream",
     "text": [
      "[openmc.deplete] t=398.0 s, dt=25.999999999999993 s, source=0.0\n"
     ]
    },
    {
     "name": "stdout",
     "output_type": "stream",
     "text": [
      "[openmc.deplete] t=424.0 s, dt=37.000000000000036 s, source=0.0\n"
     ]
    },
    {
     "name": "stdout",
     "output_type": "stream",
     "text": [
      "[openmc.deplete] t=461.00000000000006 s, dt=36.00000000000001 s, source=0.0\n"
     ]
    },
    {
     "name": "stdout",
     "output_type": "stream",
     "text": [
      "[openmc.deplete] t=497.00000000000006 s, dt=52.99999999999994 s, source=0.0\n"
     ]
    },
    {
     "name": "stdout",
     "output_type": "stream",
     "text": [
      "[openmc.deplete] t=550.0 s, dt=66.00000000000006 s, source=0.0\n"
     ]
    },
    {
     "name": "stdout",
     "output_type": "stream",
     "text": [
      "[openmc.deplete] t=616.0 s, dt=66.99999999999993 s, source=0.0\n"
     ]
    },
    {
     "name": "stdout",
     "output_type": "stream",
     "text": [
      "[openmc.deplete] t=682.9999999999999 s, dt=98.00000000000009 s, source=0.0\n"
     ]
    },
    {
     "name": "stdout",
     "output_type": "stream",
     "text": [
      "[openmc.deplete] t=781.0 s, dt=127.00000000000001 s, source=0.0\n"
     ]
    },
    {
     "name": "stdout",
     "output_type": "stream",
     "text": [
      "[openmc.deplete] t=908.0 s, dt=127.00000000000001 s, source=0.0\n"
     ]
    },
    {
     "name": "stdout",
     "output_type": "stream",
     "text": [
      "[openmc.deplete] t=1035.0 s, dt=183.99999999999994 s, source=0.0\n"
     ]
    },
    {
     "name": "stdout",
     "output_type": "stream",
     "text": [
      "[openmc.deplete] t=1219.0 s, dt=247.00000000000003 s, source=0.0\n"
     ]
    },
    {
     "name": "stdout",
     "output_type": "stream",
     "text": [
      "[openmc.deplete] t=1466.0 s, dt=247.00000000000003 s, source=0.0\n"
     ]
    },
    {
     "name": "stdout",
     "output_type": "stream",
     "text": [
      "[openmc.deplete] t=1713.0 s, dt=243.9999999999999 s, source=0.0\n"
     ]
    },
    {
     "name": "stdout",
     "output_type": "stream",
     "text": [
      "[openmc.deplete] t=1957.0 s, dt=427.0 s, source=0.0\n"
     ]
    },
    {
     "name": "stdout",
     "output_type": "stream",
     "text": [
      "[openmc.deplete] t=2384.0 s, dt=607.0 s, source=0.0\n"
     ]
    },
    {
     "name": "stdout",
     "output_type": "stream",
     "text": [
      "[openmc.deplete] t=2991.0 s, dt=604.0000000000001 s, source=0.0\n"
     ]
    },
    {
     "name": "stdout",
     "output_type": "stream",
     "text": [
      "[openmc.deplete] t=3595.0 (final operator evaluation)\n"
     ]
    },
    {
     "name": "stderr",
     "output_type": "stream",
     "text": [
      "/home/jon/.neutronicsworkshop_3.12/lib/python3.12/site-packages/openmc/deplete/results.py:94: FutureWarning: The ResultsList.from_hdf5(...) method is no longer necessary and will be removed in a future version of OpenMC. Use Results(...) instead.\n",
      "  warn(\n"
     ]
    },
    {
     "name": "stdout",
     "output_type": "stream",
     "text": [
      "[openmc.deplete] t=0.0 s, dt=300.0 s, source=11160000000.0\n"
     ]
    },
    {
     "name": "stdout",
     "output_type": "stream",
     "text": [
      "[openmc.deplete] t=300.0 s, dt=35.000000000000014 s, source=0.0\n"
     ]
    },
    {
     "name": "stderr",
     "output_type": "stream",
     "text": [
      "/home/jon/.neutronicsworkshop_3.12/lib/python3.12/site-packages/uncertainties/core.py:1024: UserWarning: Using UFloat objects with std_dev==0 may give unexpected results.\n",
      "  warn(\"Using UFloat objects with std_dev==0 may give unexpected results.\")\n"
     ]
    },
    {
     "name": "stdout",
     "output_type": "stream",
     "text": [
      "[openmc.deplete] t=335.0 s, dt=14.999999999999984 s, source=0.0\n"
     ]
    },
    {
     "name": "stdout",
     "output_type": "stream",
     "text": [
      "[openmc.deplete] t=350.0 s, dt=15.000000000000021 s, source=0.0\n"
     ]
    },
    {
     "name": "stdout",
     "output_type": "stream",
     "text": [
      "[openmc.deplete] t=365.0 s, dt=15.000000000000021 s, source=0.0\n"
     ]
    },
    {
     "name": "stdout",
     "output_type": "stream",
     "text": [
      "[openmc.deplete] t=380.0 s, dt=14.999999999999947 s, source=0.0\n"
     ]
    },
    {
     "name": "stdout",
     "output_type": "stream",
     "text": [
      "[openmc.deplete] t=394.99999999999994 s, dt=25.999999999999993 s, source=0.0\n"
     ]
    },
    {
     "name": "stdout",
     "output_type": "stream",
     "text": [
      "[openmc.deplete] t=420.99999999999994 s, dt=36.00000000000001 s, source=0.0\n"
     ]
    },
    {
     "name": "stdout",
     "output_type": "stream",
     "text": [
      "[openmc.deplete] t=456.99999999999994 s, dt=36.00000000000001 s, source=0.0\n"
     ]
    },
    {
     "name": "stdout",
     "output_type": "stream",
     "text": [
      "[openmc.deplete] t=492.99999999999994 s, dt=52.00000000000006 s, source=0.0\n"
     ]
    },
    {
     "name": "stdout",
     "output_type": "stream",
     "text": [
      "[openmc.deplete] t=545.0 s, dt=65.99999999999997 s, source=0.0\n"
     ]
    },
    {
     "name": "stdout",
     "output_type": "stream",
     "text": [
      "[openmc.deplete] t=611.0 s, dt=66.00000000000006 s, source=0.0\n"
     ]
    },
    {
     "name": "stdout",
     "output_type": "stream",
     "text": [
      "[openmc.deplete] t=677.0 s, dt=96.99999999999997 s, source=0.0\n"
     ]
    },
    {
     "name": "stdout",
     "output_type": "stream",
     "text": [
      "[openmc.deplete] t=774.0 s, dt=125.99999999999991 s, source=0.0\n"
     ]
    },
    {
     "name": "stdout",
     "output_type": "stream",
     "text": [
      "[openmc.deplete] t=899.9999999999999 s, dt=126.00000000000006 s, source=0.0\n"
     ]
    },
    {
     "name": "stdout",
     "output_type": "stream",
     "text": [
      "[openmc.deplete] t=1026.0 s, dt=186.99999999999994 s, source=0.0\n"
     ]
    },
    {
     "name": "stdout",
     "output_type": "stream",
     "text": [
      "[openmc.deplete] t=1213.0 s, dt=246.00000000000009 s, source=0.0\n"
     ]
    },
    {
     "name": "stdout",
     "output_type": "stream",
     "text": [
      "[openmc.deplete] t=1459.0 s, dt=246.00000000000009 s, source=0.0\n"
     ]
    },
    {
     "name": "stdout",
     "output_type": "stream",
     "text": [
      "[openmc.deplete] t=1705.0 s, dt=243.9999999999999 s, source=0.0\n"
     ]
    },
    {
     "name": "stdout",
     "output_type": "stream",
     "text": [
      "[openmc.deplete] t=1949.0 s, dt=427.0 s, source=0.0\n"
     ]
    },
    {
     "name": "stdout",
     "output_type": "stream",
     "text": [
      "[openmc.deplete] t=2376.0 s, dt=605.9999999999997 s, source=0.0\n"
     ]
    },
    {
     "name": "stdout",
     "output_type": "stream",
     "text": [
      "[openmc.deplete] t=2981.9999999999995 s, dt=606.0 s, source=0.0\n"
     ]
    },
    {
     "name": "stdout",
     "output_type": "stream",
     "text": [
      "[openmc.deplete] t=3587.9999999999995 (final operator evaluation)\n"
     ]
    },
    {
     "name": "stderr",
     "output_type": "stream",
     "text": [
      "/home/jon/.neutronicsworkshop_3.12/lib/python3.12/site-packages/openmc/deplete/results.py:94: FutureWarning: The ResultsList.from_hdf5(...) method is no longer necessary and will be removed in a future version of OpenMC. Use Results(...) instead.\n",
      "  warn(\n"
     ]
    },
    {
     "name": "stdout",
     "output_type": "stream",
     "text": [
      "[openmc.deplete] t=0.0 s, dt=27267.84 s, source=10500000000.0\n"
     ]
    },
    {
     "name": "stdout",
     "output_type": "stream",
     "text": [
      "[openmc.deplete] t=27267.84 s, dt=56505.600000000006 s, source=0.0\n"
     ]
    },
    {
     "name": "stderr",
     "output_type": "stream",
     "text": [
      "/home/jon/.neutronicsworkshop_3.12/lib/python3.12/site-packages/uncertainties/core.py:1024: UserWarning: Using UFloat objects with std_dev==0 may give unexpected results.\n",
      "  warn(\"Using UFloat objects with std_dev==0 may give unexpected results.\")\n"
     ]
    },
    {
     "name": "stdout",
     "output_type": "stream",
     "text": [
      "[openmc.deplete] t=83773.44 s, dt=57887.99999999999 s, source=0.0\n"
     ]
    },
    {
     "name": "stdout",
     "output_type": "stream",
     "text": [
      "[openmc.deplete] t=141661.44 s, dt=136512.00000000003 s, source=0.0\n"
     ]
    },
    {
     "name": "stdout",
     "output_type": "stream",
     "text": [
      "[openmc.deplete] t=278173.44000000006 s, dt=342921.6 s, source=0.0\n"
     ]
    },
    {
     "name": "stdout",
     "output_type": "stream",
     "text": [
      "[openmc.deplete] t=621095.04 s, dt=517881.60000000003 s, source=0.0\n"
     ]
    },
    {
     "name": "stdout",
     "output_type": "stream",
     "text": [
      "[openmc.deplete] t=1138976.6400000001 s, dt=949795.2000000002 s, source=0.0\n"
     ]
    },
    {
     "name": "stdout",
     "output_type": "stream",
     "text": [
      "[openmc.deplete] t=2088771.8400000003 s, dt=2233353.6 s, source=0.0\n"
     ]
    },
    {
     "name": "stdout",
     "output_type": "stream",
     "text": [
      "[openmc.deplete] t=4322125.44 s, dt=4336416.000000001 s, source=0.0\n"
     ]
    },
    {
     "name": "stdout",
     "output_type": "stream",
     "text": [
      "[openmc.deplete] t=8658541.440000001 s, dt=8659008.0 s, source=0.0\n"
     ]
    },
    {
     "name": "stdout",
     "output_type": "stream",
     "text": [
      "[openmc.deplete] t=17317549.44 s, dt=17525375.999999996 s, source=0.0\n"
     ]
    },
    {
     "name": "stdout",
     "output_type": "stream",
     "text": [
      "[openmc.deplete] t=34842925.44 (final operator evaluation)\n"
     ]
    },
    {
     "name": "stderr",
     "output_type": "stream",
     "text": [
      "/home/jon/.neutronicsworkshop_3.12/lib/python3.12/site-packages/openmc/deplete/results.py:94: FutureWarning: The ResultsList.from_hdf5(...) method is no longer necessary and will be removed in a future version of OpenMC. Use Results(...) instead.\n",
      "  warn(\n"
     ]
    },
    {
     "name": "stdout",
     "output_type": "stream",
     "text": [
      "[openmc.deplete] t=0.0 s, dt=300.0 s, source=11160000000.0\n"
     ]
    },
    {
     "name": "stdout",
     "output_type": "stream",
     "text": [
      "[openmc.deplete] t=300.0 s, dt=66.00000000000006 s, source=0.0\n"
     ]
    },
    {
     "name": "stderr",
     "output_type": "stream",
     "text": [
      "/home/jon/.neutronicsworkshop_3.12/lib/python3.12/site-packages/uncertainties/core.py:1024: UserWarning: Using UFloat objects with std_dev==0 may give unexpected results.\n",
      "  warn(\"Using UFloat objects with std_dev==0 may give unexpected results.\")\n"
     ]
    },
    {
     "name": "stdout",
     "output_type": "stream",
     "text": [
      "[openmc.deplete] t=366.00000000000006 s, dt=15.999999999999979 s, source=0.0\n"
     ]
    },
    {
     "name": "stdout",
     "output_type": "stream",
     "text": [
      "[openmc.deplete] t=382.00000000000006 s, dt=15.999999999999979 s, source=0.0\n"
     ]
    },
    {
     "name": "stdout",
     "output_type": "stream",
     "text": [
      "[openmc.deplete] t=398.00000000000006 s, dt=27.000000000000025 s, source=0.0\n"
     ]
    },
    {
     "name": "stdout",
     "output_type": "stream",
     "text": [
      "[openmc.deplete] t=425.00000000000006 s, dt=34.00000000000002 s, source=0.0\n"
     ]
    },
    {
     "name": "stdout",
     "output_type": "stream",
     "text": [
      "[openmc.deplete] t=459.00000000000006 s, dt=36.999999999999964 s, source=0.0\n"
     ]
    },
    {
     "name": "stdout",
     "output_type": "stream",
     "text": [
      "[openmc.deplete] t=496.0 s, dt=53.000000000000014 s, source=0.0\n"
     ]
    },
    {
     "name": "stdout",
     "output_type": "stream",
     "text": [
      "[openmc.deplete] t=549.0 s, dt=67.0 s, source=0.0\n"
     ]
    },
    {
     "name": "stdout",
     "output_type": "stream",
     "text": [
      "[openmc.deplete] t=616.0 s, dt=66.99999999999993 s, source=0.0\n"
     ]
    },
    {
     "name": "stdout",
     "output_type": "stream",
     "text": [
      "[openmc.deplete] t=682.9999999999999 s, dt=98.00000000000009 s, source=0.0\n"
     ]
    },
    {
     "name": "stdout",
     "output_type": "stream",
     "text": [
      "[openmc.deplete] t=781.0 s, dt=127.00000000000001 s, source=0.0\n"
     ]
    },
    {
     "name": "stdout",
     "output_type": "stream",
     "text": [
      "[openmc.deplete] t=908.0 s, dt=127.00000000000001 s, source=0.0\n"
     ]
    },
    {
     "name": "stdout",
     "output_type": "stream",
     "text": [
      "[openmc.deplete] t=1035.0 s, dt=126.99999999999987 s, source=0.0\n"
     ]
    },
    {
     "name": "stdout",
     "output_type": "stream",
     "text": [
      "[openmc.deplete] t=1161.9999999999998 s, dt=188.00000000000006 s, source=0.0\n"
     ]
    },
    {
     "name": "stdout",
     "output_type": "stream",
     "text": [
      "[openmc.deplete] t=1349.9999999999998 s, dt=243.9999999999999 s, source=0.0\n"
     ]
    },
    {
     "name": "stdout",
     "output_type": "stream",
     "text": [
      "[openmc.deplete] t=1593.9999999999995 s, dt=247.00000000000003 s, source=0.0\n"
     ]
    },
    {
     "name": "stdout",
     "output_type": "stream",
     "text": [
      "[openmc.deplete] t=1840.9999999999995 s, dt=247.00000000000003 s, source=0.0\n"
     ]
    },
    {
     "name": "stdout",
     "output_type": "stream",
     "text": [
      "[openmc.deplete] t=2087.9999999999995 s, dt=427.99999999999994 s, source=0.0\n"
     ]
    },
    {
     "name": "stdout",
     "output_type": "stream",
     "text": [
      "[openmc.deplete] t=2515.9999999999995 s, dt=605.0000000000003 s, source=0.0\n"
     ]
    },
    {
     "name": "stdout",
     "output_type": "stream",
     "text": [
      "[openmc.deplete] t=3121.0 s, dt=607.0 s, source=0.0\n"
     ]
    },
    {
     "name": "stdout",
     "output_type": "stream",
     "text": [
      "[openmc.deplete] t=3728.0 (final operator evaluation)\n"
     ]
    },
    {
     "name": "stderr",
     "output_type": "stream",
     "text": [
      "/home/jon/.neutronicsworkshop_3.12/lib/python3.12/site-packages/openmc/deplete/results.py:94: FutureWarning: The ResultsList.from_hdf5(...) method is no longer necessary and will be removed in a future version of OpenMC. Use Results(...) instead.\n",
      "  warn(\n"
     ]
    },
    {
     "name": "stdout",
     "output_type": "stream",
     "text": [
      "[openmc.deplete] t=0.0 s, dt=300.0 s, source=11160000000.0\n"
     ]
    },
    {
     "name": "stdout",
     "output_type": "stream",
     "text": [
      "[openmc.deplete] t=300.0 s, dt=36.00000000000001 s, source=0.0\n"
     ]
    },
    {
     "name": "stderr",
     "output_type": "stream",
     "text": [
      "/home/jon/.neutronicsworkshop_3.12/lib/python3.12/site-packages/uncertainties/core.py:1024: UserWarning: Using UFloat objects with std_dev==0 may give unexpected results.\n",
      "  warn(\"Using UFloat objects with std_dev==0 may give unexpected results.\")\n"
     ]
    },
    {
     "name": "stdout",
     "output_type": "stream",
     "text": [
      "[openmc.deplete] t=336.0 s, dt=15.000000000000021 s, source=0.0\n"
     ]
    },
    {
     "name": "stdout",
     "output_type": "stream",
     "text": [
      "[openmc.deplete] t=351.0 s, dt=15.999999999999979 s, source=0.0\n"
     ]
    },
    {
     "name": "stdout",
     "output_type": "stream",
     "text": [
      "[openmc.deplete] t=367.0 s, dt=15.000000000000021 s, source=0.0\n"
     ]
    },
    {
     "name": "stdout",
     "output_type": "stream",
     "text": [
      "[openmc.deplete] t=382.0 s, dt=15.999999999999979 s, source=0.0\n"
     ]
    },
    {
     "name": "stdout",
     "output_type": "stream",
     "text": [
      "[openmc.deplete] t=398.0 s, dt=27.000000000000025 s, source=0.0\n"
     ]
    },
    {
     "name": "stdout",
     "output_type": "stream",
     "text": [
      "[openmc.deplete] t=425.0 s, dt=36.999999999999964 s, source=0.0\n"
     ]
    },
    {
     "name": "stdout",
     "output_type": "stream",
     "text": [
      "[openmc.deplete] t=461.99999999999994 s, dt=36.00000000000001 s, source=0.0\n"
     ]
    },
    {
     "name": "stdout",
     "output_type": "stream",
     "text": [
      "[openmc.deplete] t=497.99999999999994 s, dt=51.999999999999986 s, source=0.0\n"
     ]
    },
    {
     "name": "stdout",
     "output_type": "stream",
     "text": [
      "[openmc.deplete] t=549.9999999999999 s, dt=66.00000000000006 s, source=0.0\n"
     ]
    },
    {
     "name": "stdout",
     "output_type": "stream",
     "text": [
      "[openmc.deplete] t=616.0 s, dt=66.99999999999993 s, source=0.0\n"
     ]
    },
    {
     "name": "stdout",
     "output_type": "stream",
     "text": [
      "[openmc.deplete] t=682.9999999999999 s, dt=96.99999999999997 s, source=0.0\n"
     ]
    },
    {
     "name": "stdout",
     "output_type": "stream",
     "text": [
      "[openmc.deplete] t=779.9999999999999 s, dt=126.00000000000006 s, source=0.0\n"
     ]
    },
    {
     "name": "stdout",
     "output_type": "stream",
     "text": [
      "[openmc.deplete] t=906.0 s, dt=127.00000000000001 s, source=0.0\n"
     ]
    },
    {
     "name": "stdout",
     "output_type": "stream",
     "text": [
      "[openmc.deplete] t=1033.0 s, dt=188.00000000000006 s, source=0.0\n"
     ]
    },
    {
     "name": "stdout",
     "output_type": "stream",
     "text": [
      "[openmc.deplete] t=1221.0 s, dt=245.99999999999994 s, source=0.0\n"
     ]
    },
    {
     "name": "stdout",
     "output_type": "stream",
     "text": [
      "[openmc.deplete] t=1467.0 s, dt=243.9999999999999 s, source=0.0\n"
     ]
    },
    {
     "name": "stdout",
     "output_type": "stream",
     "text": [
      "[openmc.deplete] t=1711.0 s, dt=247.00000000000003 s, source=0.0\n"
     ]
    },
    {
     "name": "stdout",
     "output_type": "stream",
     "text": [
      "[openmc.deplete] t=1958.0 s, dt=427.0 s, source=0.0\n"
     ]
    },
    {
     "name": "stdout",
     "output_type": "stream",
     "text": [
      "[openmc.deplete] t=2385.0 s, dt=607.0 s, source=0.0\n"
     ]
    },
    {
     "name": "stdout",
     "output_type": "stream",
     "text": [
      "[openmc.deplete] t=2992.0 s, dt=607.0 s, source=0.0\n"
     ]
    },
    {
     "name": "stdout",
     "output_type": "stream",
     "text": [
      "[openmc.deplete] t=3599.0 (final operator evaluation)\n"
     ]
    },
    {
     "name": "stderr",
     "output_type": "stream",
     "text": [
      "/home/jon/.neutronicsworkshop_3.12/lib/python3.12/site-packages/openmc/deplete/results.py:94: FutureWarning: The ResultsList.from_hdf5(...) method is no longer necessary and will be removed in a future version of OpenMC. Use Results(...) instead.\n",
      "  warn(\n"
     ]
    },
    {
     "name": "stdout",
     "output_type": "stream",
     "text": [
      "[openmc.deplete] t=0.0 s, dt=300.0 s, source=11160000000.0\n"
     ]
    },
    {
     "name": "stdout",
     "output_type": "stream",
     "text": [
      "[openmc.deplete] t=300.0 s, dt=36.00000000000001 s, source=0.0\n"
     ]
    },
    {
     "name": "stderr",
     "output_type": "stream",
     "text": [
      "/home/jon/.neutronicsworkshop_3.12/lib/python3.12/site-packages/uncertainties/core.py:1024: UserWarning: Using UFloat objects with std_dev==0 may give unexpected results.\n",
      "  warn(\"Using UFloat objects with std_dev==0 may give unexpected results.\")\n"
     ]
    },
    {
     "name": "stdout",
     "output_type": "stream",
     "text": [
      "[openmc.deplete] t=336.0 s, dt=15.000000000000021 s, source=0.0\n"
     ]
    },
    {
     "name": "stdout",
     "output_type": "stream",
     "text": [
      "[openmc.deplete] t=351.0 s, dt=15.999999999999979 s, source=0.0\n"
     ]
    },
    {
     "name": "stdout",
     "output_type": "stream",
     "text": [
      "[openmc.deplete] t=367.0 s, dt=15.000000000000021 s, source=0.0\n"
     ]
    },
    {
     "name": "stdout",
     "output_type": "stream",
     "text": [
      "[openmc.deplete] t=382.0 s, dt=15.999999999999979 s, source=0.0\n"
     ]
    },
    {
     "name": "stdout",
     "output_type": "stream",
     "text": [
      "[openmc.deplete] t=398.0 s, dt=25.999999999999993 s, source=0.0\n"
     ]
    },
    {
     "name": "stdout",
     "output_type": "stream",
     "text": [
      "[openmc.deplete] t=424.0 s, dt=36.00000000000001 s, source=0.0\n"
     ]
    },
    {
     "name": "stdout",
     "output_type": "stream",
     "text": [
      "[openmc.deplete] t=460.0 s, dt=36.00000000000001 s, source=0.0\n"
     ]
    },
    {
     "name": "stdout",
     "output_type": "stream",
     "text": [
      "[openmc.deplete] t=496.0 s, dt=53.000000000000014 s, source=0.0\n"
     ]
    },
    {
     "name": "stdout",
     "output_type": "stream",
     "text": [
      "[openmc.deplete] t=549.0 s, dt=65.99999999999997 s, source=0.0\n"
     ]
    },
    {
     "name": "stdout",
     "output_type": "stream",
     "text": [
      "[openmc.deplete] t=615.0 s, dt=66.00000000000006 s, source=0.0\n"
     ]
    },
    {
     "name": "stdout",
     "output_type": "stream",
     "text": [
      "[openmc.deplete] t=681.0 s, dt=96.99999999999997 s, source=0.0\n"
     ]
    },
    {
     "name": "stdout",
     "output_type": "stream",
     "text": [
      "[openmc.deplete] t=778.0 s, dt=127.00000000000001 s, source=0.0\n"
     ]
    },
    {
     "name": "stdout",
     "output_type": "stream",
     "text": [
      "[openmc.deplete] t=905.0 s, dt=125.99999999999991 s, source=0.0\n"
     ]
    },
    {
     "name": "stdout",
     "output_type": "stream",
     "text": [
      "[openmc.deplete] t=1031.0 s, dt=187.0000000000001 s, source=0.0\n"
     ]
    },
    {
     "name": "stdout",
     "output_type": "stream",
     "text": [
      "[openmc.deplete] t=1218.0 s, dt=247.00000000000003 s, source=0.0\n"
     ]
    },
    {
     "name": "stdout",
     "output_type": "stream",
     "text": [
      "[openmc.deplete] t=1465.0 s, dt=245.99999999999977 s, source=0.0\n"
     ]
    },
    {
     "name": "stdout",
     "output_type": "stream",
     "text": [
      "[openmc.deplete] t=1710.9999999999998 s, dt=247.00000000000003 s, source=0.0\n"
     ]
    },
    {
     "name": "stdout",
     "output_type": "stream",
     "text": [
      "[openmc.deplete] t=1957.9999999999998 s, dt=427.0 s, source=0.0\n"
     ]
    },
    {
     "name": "stdout",
     "output_type": "stream",
     "text": [
      "[openmc.deplete] t=2385.0 s, dt=607.0 s, source=0.0\n"
     ]
    },
    {
     "name": "stdout",
     "output_type": "stream",
     "text": [
      "[openmc.deplete] t=2992.0 s, dt=604.0000000000001 s, source=0.0\n"
     ]
    },
    {
     "name": "stdout",
     "output_type": "stream",
     "text": [
      "[openmc.deplete] t=3596.0 (final operator evaluation)\n"
     ]
    },
    {
     "name": "stderr",
     "output_type": "stream",
     "text": [
      "/home/jon/.neutronicsworkshop_3.12/lib/python3.12/site-packages/openmc/deplete/results.py:94: FutureWarning: The ResultsList.from_hdf5(...) method is no longer necessary and will be removed in a future version of OpenMC. Use Results(...) instead.\n",
      "  warn(\n"
     ]
    },
    {
     "name": "stdout",
     "output_type": "stream",
     "text": [
      "[openmc.deplete] t=0.0 s, dt=300.0 s, source=11160000000.0\n"
     ]
    },
    {
     "name": "stdout",
     "output_type": "stream",
     "text": [
      "[openmc.deplete] t=300.0 s, dt=35.000000000000014 s, source=0.0\n"
     ]
    },
    {
     "name": "stderr",
     "output_type": "stream",
     "text": [
      "/home/jon/.neutronicsworkshop_3.12/lib/python3.12/site-packages/uncertainties/core.py:1024: UserWarning: Using UFloat objects with std_dev==0 may give unexpected results.\n",
      "  warn(\"Using UFloat objects with std_dev==0 may give unexpected results.\")\n"
     ]
    },
    {
     "name": "stdout",
     "output_type": "stream",
     "text": [
      "[openmc.deplete] t=335.0 s, dt=16.000000000000014 s, source=0.0\n"
     ]
    },
    {
     "name": "stdout",
     "output_type": "stream",
     "text": [
      "[openmc.deplete] t=351.0 s, dt=15.000000000000021 s, source=0.0\n"
     ]
    },
    {
     "name": "stdout",
     "output_type": "stream",
     "text": [
      "[openmc.deplete] t=366.0 s, dt=14.999999999999947 s, source=0.0\n"
     ]
    },
    {
     "name": "stdout",
     "output_type": "stream",
     "text": [
      "[openmc.deplete] t=380.99999999999994 s, dt=15.000000000000021 s, source=0.0\n"
     ]
    },
    {
     "name": "stdout",
     "output_type": "stream",
     "text": [
      "[openmc.deplete] t=395.99999999999994 s, dt=27.000000000000025 s, source=0.0\n"
     ]
    },
    {
     "name": "stdout",
     "output_type": "stream",
     "text": [
      "[openmc.deplete] t=422.99999999999994 s, dt=36.00000000000001 s, source=0.0\n"
     ]
    },
    {
     "name": "stdout",
     "output_type": "stream",
     "text": [
      "[openmc.deplete] t=458.99999999999994 s, dt=35.99999999999993 s, source=0.0\n"
     ]
    },
    {
     "name": "stdout",
     "output_type": "stream",
     "text": [
      "[openmc.deplete] t=494.9999999999999 s, dt=53.000000000000014 s, source=0.0\n"
     ]
    },
    {
     "name": "stdout",
     "output_type": "stream",
     "text": [
      "[openmc.deplete] t=547.9999999999999 s, dt=63.00000000000003 s, source=0.0\n"
     ]
    },
    {
     "name": "stdout",
     "output_type": "stream",
     "text": [
      "[openmc.deplete] t=610.9999999999999 s, dt=66.00000000000006 s, source=0.0\n"
     ]
    },
    {
     "name": "stdout",
     "output_type": "stream",
     "text": [
      "[openmc.deplete] t=677.0 s, dt=97.99999999999993 s, source=0.0\n"
     ]
    },
    {
     "name": "stdout",
     "output_type": "stream",
     "text": [
      "[openmc.deplete] t=774.9999999999999 s, dt=126.00000000000006 s, source=0.0\n"
     ]
    },
    {
     "name": "stdout",
     "output_type": "stream",
     "text": [
      "[openmc.deplete] t=901.0 s, dt=127.00000000000001 s, source=0.0\n"
     ]
    },
    {
     "name": "stdout",
     "output_type": "stream",
     "text": [
      "[openmc.deplete] t=1028.0 s, dt=186.99999999999994 s, source=0.0\n"
     ]
    },
    {
     "name": "stdout",
     "output_type": "stream",
     "text": [
      "[openmc.deplete] t=1215.0 s, dt=245.99999999999994 s, source=0.0\n"
     ]
    },
    {
     "name": "stdout",
     "output_type": "stream",
     "text": [
      "[openmc.deplete] t=1461.0 s, dt=247.00000000000003 s, source=0.0\n"
     ]
    },
    {
     "name": "stdout",
     "output_type": "stream",
     "text": [
      "[openmc.deplete] t=1708.0 s, dt=246.00000000000009 s, source=0.0\n"
     ]
    },
    {
     "name": "stdout",
     "output_type": "stream",
     "text": [
      "[openmc.deplete] t=1954.0 s, dt=424.9999999999998 s, source=0.0\n"
     ]
    },
    {
     "name": "stdout",
     "output_type": "stream",
     "text": [
      "[openmc.deplete] t=2379.0 s, dt=604.0000000000003 s, source=0.0\n"
     ]
    },
    {
     "name": "stdout",
     "output_type": "stream",
     "text": [
      "[openmc.deplete] t=2983.0000000000005 s, dt=607.0 s, source=0.0\n"
     ]
    },
    {
     "name": "stdout",
     "output_type": "stream",
     "text": [
      "[openmc.deplete] t=3590.0000000000005 (final operator evaluation)\n"
     ]
    },
    {
     "name": "stderr",
     "output_type": "stream",
     "text": [
      "/home/jon/.neutronicsworkshop_3.12/lib/python3.12/site-packages/openmc/deplete/results.py:94: FutureWarning: The ResultsList.from_hdf5(...) method is no longer necessary and will be removed in a future version of OpenMC. Use Results(...) instead.\n",
      "  warn(\n"
     ]
    }
   ],
   "source": [
    "obj = OpenmcActivator(\n",
    "    activation_data=all_activation_data,\n",
    "    timestep_units='d',\n",
    "    chain_file=openmc.config['chain_file'],\n",
    ")\n",
    "\n",
    "all_metric_dict = obj.activate(metric_list=['mass', 'decay_heat'])"
   ]
  },
  {
   "cell_type": "code",
   "execution_count": 11,
   "metadata": {
    "execution": {
     "iopub.execute_input": "2025-06-14T22:33:58.940540Z",
     "iopub.status.busy": "2025-06-14T22:33:58.940214Z",
     "iopub.status.idle": "2025-06-14T22:33:58.970633Z",
     "shell.execute_reply": "2025-06-14T22:33:58.969535Z"
    }
   },
   "outputs": [],
   "source": [
    "for entry, (k,exp) in zip(all_metric_dict, element_exp_names):\n",
    "\n",
    "    openmc_result_dict[k][exp] = entry"
   ]
  },
  {
   "cell_type": "markdown",
   "metadata": {},
   "source": [
    "Next we process the Fispact simulations results from the IAEA Conderc benchmarks so that they are ready to plot next to the OpenMC simulation results and the experimental benchmark results."
   ]
  },
  {
   "cell_type": "code",
   "execution_count": 12,
   "metadata": {
    "execution": {
     "iopub.execute_input": "2025-06-14T22:33:58.973828Z",
     "iopub.status.busy": "2025-06-14T22:33:58.973576Z",
     "iopub.status.idle": "2025-06-14T22:33:59.009295Z",
     "shell.execute_reply": "2025-06-14T22:33:59.008401Z"
    }
   },
   "outputs": [],
   "source": [
    "def read_fispact_output(filepath):\n",
    "    lines = open(filepath).readlines()\n",
    "    # don't read empty lines\n",
    "    read = False\n",
    "\n",
    "    lines = [q for q in lines if q.strip()]\n",
    "    step = 0\n",
    "    # get header\n",
    "    # usually the last # line\n",
    "    for indx, line in enumerate(lines):\n",
    "        if read:\n",
    "            spl = line.strip().split()\n",
    "            now_step = int(spl[0])\n",
    "            assert(step +1 == now_step)\n",
    "            step = now_step\n",
    "            assert(len(spl) == len(col_names)), print(len(spl), len(col_names), '\\n', col_names)\n",
    "            for indx, val in enumerate(spl):\n",
    "                key = col_names[indx]\n",
    "                if key == 'step':\n",
    "                    d[key].append(int(val))\n",
    "                else:\n",
    "                    d[key].append(float(val))\n",
    "            continue\n",
    "        if line[0] == '#' and lines[indx+1][0] != '#':\n",
    "            # this line with the column names\n",
    "            # terrible\n",
    "            l = line.strip().split()[1:]\n",
    "            indx = 0\n",
    "            new_l = []\n",
    "            while True:\n",
    "                if indx >= len(l):\n",
    "                    break\n",
    "                if l[indx].isalpha():\n",
    "                    if l[indx+1][-1] == 'm': # metastable\n",
    "                        if l[indx+1][:-1].isnumeric():\n",
    "                            new_l.append(l[indx]+l[indx+1])\n",
    "                            indx += 2\n",
    "                        else:\n",
    "                            new_l.append(l[indx])\n",
    "                            indx += 1\n",
    "                    else:\n",
    "                        if l[indx+1].isnumeric(): # metastable\n",
    "                            new_l.append(l[indx]+l[indx+1])\n",
    "                            indx += 2\n",
    "                        else:\n",
    "                            new_l.append(l[indx])\n",
    "                            indx += 1\n",
    "                else:\n",
    "                    new_l.append(l[indx])\n",
    "                    indx += 1\n",
    "            d = {k:[] for k in new_l}\n",
    "            read = True\n",
    "            col_names = copy.deepcopy(new_l)\n",
    "            continue\n",
    "    return d\n",
    "\n",
    "\n",
    "fispact_result_dict = {}\n",
    "for k,l in experiments.items():\n",
    "    fispact_result_dict[k] = {}\n",
    "    for exp in l:\n",
    "        output_path = here / k / f'TENDL-2017_{exp}.nuclides'\n",
    "        fispact_result_dict[k][exp] = read_fispact_output(output_path.resolve())"
   ]
  },
  {
   "cell_type": "markdown",
   "metadata": {},
   "source": [
    "We combine the Fispact results (which are per nuclide) so that we have the total values for decay heat."
   ]
  },
  {
   "cell_type": "code",
   "execution_count": 13,
   "metadata": {
    "execution": {
     "iopub.execute_input": "2025-06-14T22:33:59.011957Z",
     "iopub.status.busy": "2025-06-14T22:33:59.011745Z",
     "iopub.status.idle": "2025-06-14T22:33:59.019756Z",
     "shell.execute_reply": "2025-06-14T22:33:59.018818Z"
    }
   },
   "outputs": [],
   "source": [
    "fispact_imp_nuclides = {}\n",
    "for k,l in experiments.items():\n",
    "    fispact_imp_nuclides[k] = {}\n",
    "    for exp in l:\n",
    "        tot = fispact_result_dict[k][exp]['Total']\n",
    "        indices = [1, len(tot)//2, -1]\n",
    "        fispact_imp_nuclides[k][exp] = {}\n",
    "        for i in indices:\n",
    "            td = {k:v[i] for k,v in fispact_result_dict[k][exp].items() if k not in ['step', 'time', 'uncert', 'Total']}\n",
    "            td = {k:v for k,v in sorted(td.items(), key=lambda item:item[1], reverse=True)}\n",
    "            fispact_imp_nuclides[k][exp][i] = td"
   ]
  },
  {
   "cell_type": "markdown",
   "metadata": {},
   "source": [
    "We now have the OpenMC outputs, Fispact and experimental results in a convenient form  ready for plotting.\n",
    "\n",
    "The next code block plots the results so that they can be compared."
   ]
  },
  {
   "cell_type": "code",
   "execution_count": 14,
   "metadata": {
    "execution": {
     "iopub.execute_input": "2025-06-14T22:33:59.022654Z",
     "iopub.status.busy": "2025-06-14T22:33:59.022422Z",
     "iopub.status.idle": "2025-06-14T22:34:27.371626Z",
     "shell.execute_reply": "2025-06-14T22:34:27.370639Z"
    }
   },
   "outputs": [
    {
     "name": "stdout",
     "output_type": "stream",
     "text": [
      "1 {'N16': 2.93543e-09, 'Tl206': 2.59978e-09, 'Hg205': 1.69815e-09, 'Tl206m': 9.04255e-10, 'Au202': 6.3949e-10, 'Tl202': 2.50339e-10, 'Au200': 7.02249e-11, 'Tl204': 2.96395e-12, 'Au201': 1.01883e-12, 'Au200m': 7.9626e-13, 'Hg203': 3.36274e-13, 'Tl201': 1.8115e-13}\n",
      "10 {'Tl206': 1.11914e-09, 'Hg205': 8.1943e-10, 'Tl206m': 3.30089e-10, 'Tl202': 2.50285e-10, 'Au200': 6.49417e-11, 'Tl204': 2.96395e-12, 'Au201': 8.80656e-13, 'Au200m': 7.93575e-13, 'Hg203': 3.36255e-13, 'Tl201': 1.80994e-13, 'Au202': 0.0, 'N16': 0.0}\n",
      "-1 {'Tl202': 2.49809e-10, 'Au200': 3.24796e-11, 'Tl204': 2.9639e-12, 'Hg205': 1.28057e-12, 'Au200m': 7.70167e-13, 'Tl206': 4.92166e-13, 'Hg203': 3.36087e-13, 'Au201': 2.42018e-13, 'Tl201': 1.79611e-13, 'Au202': 0.0, 'Tl206m': 0.0, 'N16': 0.0}\n"
     ]
    },
    {
     "name": "stdout",
     "output_type": "stream",
     "text": [
      "1 {'Rh104': 3.7077e-07, 'Tc100': 4.27197e-08, 'Rh103m': 7.88226e-09, 'Rh104m': 2.5918e-09, 'Rh102m': 4.38424e-11, 'Rh102': 2.92536e-11, 'Tc99m': 7.81155e-12, 'Ru103': 7.38588e-12}\n",
      "10 {'Rh104': 1.4617e-08, 'Rh103m': 7.44077e-09, 'Rh104m': 1.23002e-09, 'Rh102m': 4.3842e-11, 'Rh102': 2.92535e-11, 'Tc99m': 7.74179e-12, 'Ru103': 7.38546e-12, 'Tc100': 0.0}\n",
      "-1 {'Rh103m': 5.16968e-09, 'Rh104': 9.98399e-11, 'Rh102m': 4.3839e-11, 'Rh102': 2.92532e-11, 'Rh104m': 1.10789e-11, 'Ru103': 7.38279e-12, 'Tc99m': 7.31525e-12, 'Tc100': 0.0}\n",
      "1 {'F20': 2.57833e-06, 'N16': 1.06675e-06, 'Ne23': 9.2788e-07, 'Na24': 1.21286e-10, 'Na22': 4.39192e-12}\n",
      "11 {'Ne23': 3.87633e-09, 'Na24': 1.20828e-10, 'Na22': 4.3919e-12, 'N16': 0.0, 'F20': 0.0}\n",
      "-1 {'Na24': 1.16275e-10, 'Na22': 4.39179e-12, 'Ne23': 0.0, 'N16': 0.0, 'F20': 0.0}\n"
     ]
    },
    {
     "name": "stdout",
     "output_type": "stream",
     "text": [
      "1 {'Na24': 2.74677e-09, 'Na22': 3.19227e-10}\n",
      "5 {'Na22': 3.16556e-10, 'Na24': 0.0}\n",
      "-1 {'Na22': 2.38209e-10, 'Na24': 0.0}\n"
     ]
    },
    {
     "name": "stdout",
     "output_type": "stream",
     "text": [
      "1 {'Ne23': 3.52125e-07, 'F20': 9.81968e-08, 'N16': 6.79188e-09, 'Na24': 1.21205e-10, 'Na22': 4.39191e-12}\n",
      "10 {'Ne23': 1.53772e-10, 'Na24': 1.20559e-10, 'Na22': 4.3919e-12, 'N16': 0.0, 'F20': 0.0}\n",
      "-1 {'Na24': 1.1607e-10, 'Na22': 4.39179e-12, 'N16': 0.0, 'F20': 0.0, 'Ne23': 0.0}\n"
     ]
    },
    {
     "name": "stdout",
     "output_type": "stream",
     "text": [
      "1 {'Tl208': 4.48778e-09, 'Tl206m': 9.25759e-10, 'Tl207': 8.99051e-10, 'Pb204m': 7.27546e-10, 'Tl206': 7.16148e-10, 'Pb203m': 2.25806e-10, 'Hg205': 7.86423e-11, 'Pb203': 5.65573e-11, 'Pb209': 8.86775e-12}\n",
      "10 {'Tl208': 1.28677e-09, 'Pb204m': 6.87594e-10, 'Tl207': 4.04221e-10, 'Tl206': 3.54567e-10, 'Tl206m': 3.35764e-10, 'Pb203': 5.64914e-11, 'Hg205': 3.77752e-11, 'Pb209': 8.69623e-12, 'Pb203m': 0.0}\n",
      "-1 {'Pb204m': 4.17364e-10, 'Pb203': 5.58832e-11, 'Pb209': 7.31726e-12, 'Tl207': 3.87437e-13, 'Tl206': 2.74051e-13, 'Hg205': 0.0, 'Pb203m': 0.0, 'Tl206m': 0.0, 'Tl208': 0.0}\n"
     ]
    },
    {
     "name": "stdout",
     "output_type": "stream",
     "text": [
      "1 {'Pb203': 3.99161e-09, 'Pb209': 1.71261e-11, 'Pb204m': 1.67222e-12, 'Hg203': 1.02638e-12, 'Tl204': 1.05943e-14, 'Tl202': 1.48545e-15}\n",
      "4 {'Pb203': 5.36321e-10, 'Hg203': 9.35113e-13, 'Tl204': 1.05611e-14, 'Tl202': 1.04202e-15, 'Pb204m': 0.0, 'Pb209': 0.0}\n",
      "-1 {'Hg203': 4.94398e-13, 'Tl204': 1.03368e-14, 'Pb203': 6.11287e-16, 'Tl202': 9.20564e-17, 'Pb204m': 0.0, 'Pb209': 0.0}\n"
     ]
    },
    {
     "name": "stdout",
     "output_type": "stream",
     "text": [
      "1 {'Tl208': 4.24015e-09, 'Tl206m': 8.84062e-10, 'Tl207': 8.66976e-10, 'Pb204m': 7.2568e-10, 'Tl206': 6.94665e-10, 'Hg205': 7.60647e-11, 'Pb203': 5.65568e-11, 'Pb203m': 4.53498e-11, 'Pb209': 8.85988e-12}\n",
      "10 {'Tl208': 8.82069e-10, 'Pb204m': 6.75926e-10, 'Tl207': 3.17333e-10, 'Tl206': 2.83429e-10, 'Tl206m': 2.4704e-10, 'Pb203': 5.64704e-11, 'Hg205': 3.0254e-11, 'Pb209': 8.64491e-12, 'Pb203m': 0.0}\n",
      "-1 {'Pb204m': 4.08461e-10, 'Pb203': 5.58571e-11, 'Pb209': 7.26289e-12, 'Tl207': 2.50926e-13, 'Pb203m': 0.0, 'Hg205': 0.0, 'Tl206': 0.0, 'Tl206m': 0.0, 'Tl208': 0.0}\n"
     ]
    },
    {
     "name": "stdout",
     "output_type": "stream",
     "text": [
      "1 {'Ti51': 2.85195e-07, 'V52': 6.96955e-08, 'Sc48': 1.50424e-09, 'Sc47': 5.85056e-13}\n",
      "11 {'Ti51': 1.44025e-07, 'V52': 2.4193e-08, 'Sc48': 1.50197e-09, 'Sc47': 5.84576e-13}\n",
      "-1 {'Sc48': 1.4828e-09, 'Ti51': 4.35186e-10, 'V52': 3.03844e-12, 'Sc47': 5.80514e-13}\n",
      "1 {'Sc48': 9.76341e-08, 'Sc47': 3.72591e-11, 'V49': 9.38361e-14, 'Sc46': 1.74626e-14, 'H3': 2.30013e-16}\n",
      "4 {'Sc48': 9.1321e-09, 'Sc47': 1.02913e-11, 'V49': 9.26182e-14, 'Sc46': 1.65868e-14, 'H3': 2.29793e-16}\n",
      "-1 {'V49': 8.46441e-14, 'Sc46': 1.16351e-14, 'Sc47': 1.45591e-15, 'H3': 2.28282e-16, 'Sc48': 0.0}\n"
     ]
    },
    {
     "name": "stdout",
     "output_type": "stream",
     "text": [
      "1 {'Ti51': 2.59583e-07, 'V52': 6.17547e-08, 'Sc48': 1.52846e-09, 'Sc47': 6.62173e-13}\n",
      "10 {'Ti51': 1.129e-07, 'V52': 1.70089e-08, 'Sc48': 1.52564e-09, 'Sc47': 6.6151e-13}\n",
      "-1 {'Sc48': 1.50597e-09, 'Ti51': 3.20562e-10, 'V52': 1.92861e-12, 'Sc47': 6.56864e-13}\n",
      "1 {'N16': 1.46727e-07, 'Rb88': 4.57528e-08, 'Sr87m': 1.13092e-08, 'Rb86m': 3.52189e-09, 'Sr85m': 1.90296e-09, 'Rb84m': 1.05991e-10, 'Sr83': 3.92595e-11, 'Kr85m': 3.78644e-11, 'Sr85': 8.83614e-12, 'Rb86': 2.95618e-12}\n",
      "11 {'Rb88': 3.64794e-08, 'Sr87m': 1.10425e-08, 'Sr85m': 1.7928e-09, 'Rb84m': 8.6983e-11, 'Rb86m': 6.67537e-11, 'Sr83': 3.9179e-11, 'Kr85m': 3.73007e-11, 'Sr85': 8.99472e-12, 'Rb86': 3.13225e-12, 'N16': 0.0}\n",
      "-1 {'Sr87m': 9.04835e-09, 'Rb88': 5.50832e-09, 'Sr85m': 1.08985e-09, 'Sr83': 3.85068e-11, 'Kr85m': 3.29114e-11, 'Rb84m': 1.67123e-11, 'Sr85': 1.00056e-11, 'Rb86': 3.13173e-12, 'Rb86m': 0.0, 'N16': 0.0}\n"
     ]
    },
    {
     "name": "stdout",
     "output_type": "stream",
     "text": [
      "1 {'Sr87m': 8.36784e-09, 'Sr83': 2.08212e-09, 'Sr85': 9.53252e-10, 'Rb86': 2.5257e-10, 'Kr85m': 1.46358e-10, 'Sr89': 3.13786e-11, 'Rb84': 2.24422e-11, 'Rb83': 1.46117e-11, 'Sr85m': 1.72457e-12, 'Kr83m': 9.73892e-13, 'Kr85': 1.59051e-13}\n",
      "5 {'Sr85': 8.42816e-10, 'Rb86': 1.64565e-10, 'Rb83': 2.97478e-11, 'Sr89': 2.67952e-11, 'Rb84': 1.76827e-11, 'Sr83': 5.63047e-12, 'Kr83m': 1.84989e-12, 'Kr85': 1.59559e-13, 'Sr85m': 0.0, 'Kr85m': 0.0, 'Sr87m': 0.0}\n",
      "-1 {'Sr85': 1.3048e-11, 'Rb83': 1.29523e-12, 'Kr85': 1.48946e-13, 'Sr89': 1.27865e-13, 'Kr83m': 8.05526e-14, 'Rb84': 5.54066e-15, 'Rb86': 8.46581e-17, 'Sr85m': 0.0, 'Kr85m': 0.0, 'Sr83': 0.0, 'Sr87m': 0.0}\n"
     ]
    },
    {
     "name": "stdout",
     "output_type": "stream",
     "text": [
      "1 {'Rb88': 4.48997e-08, 'Sr87m': 1.12868e-08, 'N16': 8.79893e-09, 'Rb86m': 2.53317e-09, 'Sr85m': 1.89356e-09, 'Rb84m': 1.04264e-10, 'Sr83': 3.92536e-11, 'Kr85m': 3.78173e-11, 'Sr85': 8.84968e-12, 'Rb86': 3.00666e-12}\n",
      "10 {'Rb88': 3.44543e-08, 'Sr87m': 1.09763e-08, 'Sr85m': 1.76604e-09, 'Rb84m': 8.27545e-11, 'Sr83': 3.91585e-11, 'Kr85m': 3.71599e-11, 'Rb86m': 2.45328e-11, 'Sr85': 9.03323e-12, 'Rb86': 3.13429e-12, 'N16': 0.0}\n",
      "-1 {'Sr87m': 8.97502e-09, 'Rb88': 5.09867e-09, 'Sr85m': 1.06791e-09, 'Sr83': 3.84796e-11, 'Kr85m': 3.27435e-11, 'Rb84m': 1.56227e-11, 'Sr85': 1.00372e-11, 'Rb86': 3.13157e-12, 'Rb86m': 0.0, 'N16': 0.0}\n",
      "1 {'Ta180': 4.68643e-09, 'Lu178m': 4.43753e-10, 'Lu178': 3.81151e-10, 'Ta182n': 6.28864e-11, 'Ta182': 1.58328e-11, 'Hf179m': 1.0659e-11, 'Hf180m': 2.8397e-12, 'Ta178': 9.50705e-13, 'Hf181': 8.64136e-13}\n",
      "11 {'Ta180': 4.64817e-09, 'Lu178m': 3.73614e-10, 'Lu178': 3.31378e-10, 'Ta182n': 4.89314e-11, 'Ta182': 1.58365e-11, 'Hf180m': 2.8057e-12, 'Hf181': 8.6408e-13, 'Ta178': 6.19743e-13, 'Hf179m': 0.0}\n",
      "-1 {'Ta180': 4.33708e-09, 'Lu178': 1.0158e-10, 'Lu178m': 8.73222e-11, 'Ta182': 1.58457e-11, 'Ta182n': 5.87767e-12, 'Hf180m': 2.53422e-12, 'Hf181': 8.63605e-13, 'Ta178': 0.0, 'Hf179m': 0.0}\n"
     ]
    },
    {
     "name": "stdout",
     "output_type": "stream",
     "text": [
      "1 {'Ta180': 9.34737e-08, 'Ta182': 8.85478e-11, 'Hf181': 7.15053e-11, 'Hf180m': 1.9776e-11, 'Ta179': 2.34999e-12, 'Lu177': 1.17139e-12}\n",
      "5 {'Ta182': 8.22156e-11, 'Hf181': 5.8496e-11, 'Ta179': 2.31622e-12, 'Lu177': 3.25859e-13, 'Hf180m': 0.0, 'Ta180': 0.0}\n",
      "-1 {'Ta182': 7.68988e-12, 'Ta179': 1.45898e-12, 'Hf181': 9.59742e-14, 'Lu177': 7.25242e-17, 'Hf180m': 0.0, 'Ta180': 0.0}\n",
      "1 {'Ta180': 4.68319e-09, 'Lu178m': 4.37364e-10, 'Lu178': 3.76681e-10, 'Ta182n': 6.15703e-11, 'Ta182': 1.58332e-11, 'Hf179m': 3.85682e-12, 'Hf180m': 2.83681e-12, 'Ta178': 9.17031e-13, 'Hf181': 8.64131e-13}\n",
      "10 {'Ta180': 4.63688e-09, 'Lu178m': 3.55035e-10, 'Lu178': 3.17911e-10, 'Ta182n': 4.5424e-11, 'Ta182': 1.58374e-11, 'Hf180m': 2.7957e-12, 'Hf181': 8.64063e-13, 'Ta178': 5.45948e-13, 'Hf179m': 0.0}\n",
      "-1 {'Ta180': 4.32305e-09, 'Lu178': 9.61057e-11, 'Lu178m': 8.15667e-11, 'Ta182': 1.58457e-11, 'Ta182n': 5.31836e-12, 'Hf180m': 2.52219e-12, 'Hf181': 8.63582e-13, 'Ta178': 0.0, 'Hf179m': 0.0}\n"
     ]
    },
    {
     "name": "stdout",
     "output_type": "stream",
     "text": [
      "1 {'N16': 1.58083e-08, 'Eu152n': 7.18159e-09, 'Eu152m': 6.97921e-09, 'Eu150m': 2.17706e-09, 'Pm150': 2.66404e-10, 'Eu154m': 2.85382e-11, 'Sm153': 1.14678e-11, 'Pm148': 9.72543e-12, 'Eu152': 3.33325e-12}\n",
      "10 {'Eu152m': 6.93228e-09, 'Eu152n': 6.90614e-09, 'Eu150m': 2.16644e-09, 'Pm150': 2.60256e-10, 'Eu154m': 2.63199e-11, 'Sm153': 1.14523e-11, 'Pm148': 9.72072e-12, 'Eu152': 3.3656e-12, 'N16': 0.0}\n",
      "-1 {'Eu152m': 6.52631e-09, 'Eu152n': 4.86754e-09, 'Eu150m': 2.07375e-09, 'Pm150': 2.11202e-10, 'Eu154m': 1.27631e-11, 'Sm153': 1.13147e-11, 'Pm148': 9.67875e-12, 'Eu152': 3.60498e-12, 'N16': 0.0}\n"
     ]
    },
    {
     "name": "stdout",
     "output_type": "stream",
     "text": [
      "1 {'N16': 1.05574e-07, 'In120m': 3.15075e-08, 'In118m': 2.20536e-08, 'Sn123m': 1.00728e-08, 'Sn111': 4.8136e-09, 'In116m': 3.93794e-09, 'In119': 3.40901e-09, 'In120n': 2.63812e-09, 'In116': 2.22707e-09, 'Sn113m': 4.83038e-10, 'In119m': 4.78684e-10, 'In117': 4.50743e-10, 'Sn125m': 2.56774e-10, 'In114': 1.83763e-10, 'In112': 1.3413e-10, 'In111m': 9.18299e-11, 'Sn117m': 7.39434e-11, 'Cd119m': 6.11253e-11, 'In122m': 6.0595e-11, 'In112m': 5.25332e-11, 'Sn121': 3.88995e-11, 'Cd117m': 3.50746e-11, 'In117m': 3.30758e-11, 'Cd117': 1.64365e-11, 'In115m': 4.94599e-12, 'Sn123': 4.37204e-12, 'In111': 2.65382e-12}\n",
      "11 {'Sn123m': 9.12419e-09, 'In118m': 9.05612e-09, 'Sn111': 4.30248e-09, 'In116m': 3.66228e-09, 'In119': 6.74443e-10, 'In117': 4.15053e-10, 'Sn113m': 3.99615e-10, 'In119m': 3.85538e-10, 'In120m': 1.87051e-10, 'Sn125m': 1.69424e-10, 'In112': 1.40854e-10, 'Sn117m': 7.39285e-11, 'In111m': 5.68632e-11, 'In112m': 4.33809e-11, 'Sn121': 3.88051e-11, 'Cd117m': 3.4392e-11, 'In117m': 3.21442e-11, 'Cd117': 1.60063e-11, 'In120n': 1.56618e-11, 'Cd119m': 1.0095e-11, 'In114': 6.7847e-12, 'In111': 5.52633e-12, 'In115m': 4.87882e-12, 'Sn123': 4.37195e-12, 'In122m': 0.0, 'In116': 0.0, 'N16': 0.0}\n",
      "-1 {'Sn123m': 3.93655e-09, 'In116m': 1.97648e-09, 'Sn111': 1.65734e-09, 'In117': 2.1099e-10, 'Sn113m': 7.97774e-11, 'Sn117m': 7.38021e-11, 'In112': 6.29996e-11, 'In119m': 5.94583e-11, 'Sn121': 3.80068e-11, 'Cd117m': 2.91013e-11, 'In117m': 2.52271e-11, 'In111': 2.0095e-11, 'Cd117': 1.27762e-11, 'In112m': 8.52659e-12, 'Sn125m': 4.94631e-12, 'In118m': 4.62259e-12, 'Sn123': 4.37116e-12, 'In115m': 4.34595e-12, 'In111m': 2.243e-12, 'In119': 2.22839e-12, 'In122m': 0.0, 'Cd119m': 0.0, 'In114': 0.0, 'In116': 0.0, 'In120n': 0.0, 'In120m': 0.0, 'N16': 0.0}\n",
      "1 {'Sn117m': 5.95073e-09, 'In111': 2.02617e-09, 'Sn121': 2.00818e-09, 'Sn123': 3.72068e-10, 'Sn119m': 8.67609e-11, 'Cd117m': 4.61582e-11, 'In115m': 3.79157e-11, 'In117': 3.67676e-11, 'In113m': 3.25639e-11, 'Cd115': 3.1577e-11, 'In117m': 9.51404e-12, 'Cd117': 5.76988e-12, 'Sn125': 5.18936e-12, 'Cd115m': 3.23641e-12, 'In114': 2.77224e-12, 'Sn113': 2.45351e-12, 'In114m': 8.53675e-13, 'Sn121m': 1.75967e-13, 'Cd109': 2.66011e-14, 'Sb125': 1.92191e-14}\n",
      "5 {'Sn117m': 3.30895e-09, 'Sn123': 3.49778e-10, 'In111': 1.17697e-10, 'Sn119m': 8.44294e-11, 'In113m': 3.03619e-11, 'Cd115m': 2.70446e-12, 'In114': 2.36322e-12, 'Sn113': 2.28912e-12, 'Sn125': 2.26742e-12, 'Sn121': 2.05076e-12, 'Cd115': 8.77416e-13, 'In114m': 7.27721e-13, 'In115m': 6.30873e-13, 'Sn121m': 1.7588e-13, 'Sb125': 3.22195e-14, 'Cd109': 2.61461e-14, 'Cd117': 0.0, 'In117m': 0.0, 'In117': 0.0, 'Cd117m': 0.0}\n",
      "-1 {'Sn123': 4.31791e-11, 'Sn119m': 3.35642e-11, 'In113m': 2.90017e-12, 'Sn121': 3.8313e-13, 'Sn113': 2.18657e-13, 'Sn121m': 1.7294e-13, 'Sb125': 3.25542e-14, 'Cd109': 1.45769e-14, 'Cd115m': 6.18554e-15, 'In114m': 3.26862e-15, 'In114': 0.0, 'Sn125': 0.0, 'Cd117': 0.0, 'In117m': 0.0, 'Cd115': 0.0, 'In117': 0.0, 'In115m': 0.0, 'Cd117m': 0.0, 'In111': 0.0, 'Sn117m': 0.0}\n"
     ]
    },
    {
     "name": "stdout",
     "output_type": "stream",
     "text": [
      "1 {'In118m': 2.04086e-08, 'In120m': 2.00881e-08, 'Sn123m': 9.98608e-09, 'N16': 5.75697e-09, 'Sn111': 4.76657e-09, 'In116m': 3.91302e-09, 'In119': 2.95659e-09, 'In120n': 1.68198e-09, 'In116': 5.14976e-10, 'Sn113m': 4.75094e-10, 'In119m': 4.69811e-10, 'In117': 4.47493e-10, 'Sn125m': 2.47604e-10, 'In114': 1.3762e-10, 'In112': 1.3515e-10, 'In111m': 8.80326e-11, 'Sn117m': 7.39421e-11, 'Cd119m': 5.22161e-11, 'In112m': 5.1661e-11, 'Sn121': 3.88913e-11, 'Cd117m': 3.50144e-11, 'In117m': 3.29932e-11, 'Cd117': 1.63985e-11, 'In115m': 4.94007e-12, 'Sn123': 4.37204e-12, 'In111': 2.91918e-12}\n",
      "10 {'Sn123m': 8.8495e-09, 'In118m': 6.87742e-09, 'Sn111': 4.15579e-09, 'In116m': 3.58105e-09, 'In119': 4.11255e-10, 'In117': 4.0465e-10, 'Sn113m': 3.76874e-10, 'In119m': 3.60355e-10, 'Sn125m': 1.48995e-10, 'In112': 1.41089e-10, 'Sn117m': 7.39239e-11, 'In111m': 4.91236e-11, 'In112m': 4.08891e-11, 'Sn121': 3.87758e-11, 'In120m': 3.71055e-11, 'Cd117m': 3.41837e-11, 'In117m': 3.18617e-11, 'Cd117': 1.58757e-11, 'In111': 6.34646e-12, 'Cd119m': 5.78431e-12, 'In115m': 4.85826e-12, 'Sn123': 4.37192e-12, 'In114': 2.45421e-12, 'In116': 0.0, 'In120n': 0.0, 'N16': 0.0}\n",
      "-1 {'Sn123m': 3.78624e-09, 'In116m': 1.92083e-09, 'Sn111': 1.58571e-09, 'In117': 2.04731e-10, 'Sn113m': 7.4041e-11, 'Sn117m': 7.37962e-11, 'In112': 5.94791e-11, 'In119m': 5.45238e-11, 'Sn121': 3.79703e-11, 'Cd117m': 2.8877e-11, 'In117m': 2.49461e-11, 'In111': 2.04828e-11, 'Cd117': 1.26435e-11, 'In112m': 7.90779e-12, 'Sn123': 4.37112e-12, 'In115m': 4.32284e-12, 'Sn125m': 4.20074e-12, 'In118m': 3.29685e-12, 'In111m': 2.04512e-12, 'In119': 2.04334e-12, 'Cd119m': 0.0, 'In114': 0.0, 'In116': 0.0, 'In120n': 0.0, 'N16': 0.0, 'In120m': 0.0}\n",
      "1 {'N16': 1.20678e-07, 'Ge75m': 1.0814e-08, 'Ge75': 3.53857e-09, 'Ga72': 1.52791e-09, 'As74': 1.39673e-09, 'As76': 5.91825e-10}\n",
      "11 {'Ge75': 3.69595e-09, 'Ga72': 1.52071e-09, 'As74': 1.39651e-09, 'As76': 5.90323e-10, 'Ge75m': 7.31756e-11, 'N16': 0.0}\n",
      "-1 {'Ge75': 2.46152e-09, 'Ga72': 1.46133e-09, 'As74': 1.39467e-09, 'As76': 5.77813e-10, 'Ge75m': 0.0, 'N16': 0.0}\n"
     ]
    },
    {
     "name": "stdout",
     "output_type": "stream",
     "text": [
      "1 {'N16': 8.07261e-08, 'Cs132': 2.19935e-09, 'I130m': 1.97163e-10, 'I130': 6.50229e-11, 'Cs134m': 1.81624e-11, 'Xe133m': 1.1324e-11, 'Xe133': 2.22671e-12, 'Cs134': 1.80553e-12}\n",
      "11 {'Cs132': 2.19843e-09, 'I130m': 1.27433e-10, 'I130': 7.01693e-11, 'Cs134m': 1.77581e-11, 'Xe133m': 1.13099e-11, 'Xe133': 2.23012e-12, 'Cs134': 1.80633e-12, 'N16': 0.0}\n",
      "-1 {'Cs132': 2.19056e-09, 'I130': 7.65429e-11, 'Cs134m': 1.46383e-11, 'Xe133m': 1.11896e-11, 'I130m': 3.00798e-12, 'Xe133': 2.25914e-12, 'Cs134': 1.81247e-12, 'N16': 0.0}\n"
     ]
    },
    {
     "name": "stdout",
     "output_type": "stream",
     "text": [
      "1 {'N16': 6.58326e-08, 'Gd161': 3.81259e-09, 'Eu160': 3.46817e-09, 'Gd159': 2.53946e-09, 'Eu158': 6.83798e-10, 'Sm157': 1.70898e-10, 'Sm155': 1.53086e-10, 'Eu159': 3.2823e-11, 'Eu157': 1.36737e-11, 'Eu154m': 2.97098e-12, 'Eu156': 2.07129e-12, 'Sm153': 1.82916e-12, 'Gd153': 3.08933e-13, 'Tb161': 2.47042e-13}\n",
      "11 {'Gd159': 2.53025e-09, 'Gd161': 1.26315e-09, 'Eu158': 6.26139e-10, 'Sm155': 1.277e-10, 'Sm157': 1.03526e-10, 'Eu159': 2.62519e-11, 'Eu157': 1.43601e-11, 'Eu154m': 2.72305e-12, 'Eu156': 2.07095e-12, 'Sm153': 1.8265e-12, 'Tb161': 4.72206e-13, 'Gd153': 3.08929e-13, 'Eu160': 0.0, 'N16': 0.0}\n",
      "-1 {'Gd159': 2.45466e-09, 'Eu158': 3.00637e-10, 'Sm155': 2.8207e-11, 'Eu157': 1.49398e-11, 'Eu159': 4.08456e-12, 'Eu156': 2.06813e-12, 'Sm153': 1.80448e-12, 'Sm157': 1.59119e-12, 'Eu154m': 1.31783e-12, 'Tb161': 5.81895e-13, 'Gd153': 3.08899e-13, 'Eu160': 0.0, 'Gd161': 0.0, 'N16': 0.0}\n",
      "1 {'O19': 7.76717e-07, 'N16': 2.94959e-07, 'F18': 7.88356e-08, 'F20': 1.24181e-09}\n",
      "11 {'F18': 7.60555e-08, 'O19': 1.20644e-10, 'F20': 0.0, 'N16': 0.0}\n",
      "-1 {'F18': 5.59676e-08, 'F20': 0.0, 'N16': 0.0, 'O19': 0.0}\n"
     ]
    },
    {
     "name": "stdout",
     "output_type": "stream",
     "text": [
      "1 {'O19': 3.40639e-07, 'F18': 7.85705e-08, 'N16': 1.31907e-08, 'F20': 1.66263e-10}\n",
      "10 {'F18': 7.51956e-08, 'F20': 0.0, 'N16': 0.0, 'O19': 0.0}\n",
      "-1 {'F18': 5.51488e-08, 'F20': 0.0, 'N16': 0.0, 'O19': 0.0}\n"
     ]
    },
    {
     "name": "stdout",
     "output_type": "stream",
     "text": [
      "1 {'W185m': 1.31555e-07, 'Ta186': 2.01334e-09, 'W183m': 4.47776e-10, 'W179m': 1.86188e-10, 'W187': 1.76019e-10, 'W179': 6.21416e-11, 'Ta184': 6.06748e-11, 'Hf183': 5.10685e-11, 'Ta182n': 3.1202e-11, 'Ta185': 1.46515e-11, 'W185': 9.60881e-12, 'W181': 3.12e-12, 'Ta183': 1.75075e-12, 'Hf180m': 6.98918e-13, 'Hf177n': 3.63789e-13, 'Ta182': 2.28127e-13, 'Ta180': 6.16133e-14, 'Hf181': 5.6262e-14}\n",
      "10 {'W185m': 1.35435e-08, 'Ta186': 1.40343e-09, 'W187': 1.75554e-10, 'W179m': 1.02996e-10, 'W179': 6.11708e-11, 'Ta184': 6.0236e-11, 'Hf183': 4.81336e-11, 'Ta182n': 2.45639e-11, 'Ta185': 1.35612e-11, 'W185': 1.07753e-11, 'W181': 3.11993e-12, 'Ta183': 1.76364e-12, 'Hf180m': 6.90939e-13, 'Hf177n': 3.37935e-13, 'Ta182': 2.30036e-13, 'Ta180': 6.11336e-14, 'Hf181': 5.62585e-14, 'W183m': 0.0}\n",
      "-1 {'W187': 1.71473e-10, 'Ta186': 5.68995e-11, 'Ta184': 5.64752e-11, 'Hf183': 2.84551e-11, 'W179': 2.78583e-11, 'W185': 1.09063e-11, 'Ta185': 6.82388e-12, 'W181': 3.11933e-12, 'Ta182n': 2.93592e-12, 'Ta183': 1.84785e-12, 'Hf180m': 6.23953e-13, 'W179m': 5.32661e-13, 'Ta182': 2.36228e-13, 'Hf177n': 1.75588e-13, 'Ta180': 5.70339e-14, 'Hf181': 5.62275e-14, 'W183m': 0.0, 'W185m': 0.0}\n",
      "1 {'Ta184': 1.1548e-09, 'W185': 1.01734e-09, 'W187': 4.62287e-10, 'W181': 2.81287e-10, 'Ta183': 1.45322e-10, 'Ta182': 1.93943e-11, 'Hf180m': 5.58522e-12, 'Hf181': 4.46088e-12, 'Hf179n': 1.25325e-12, 'Ta180': 1.03929e-12, 'Ta179': 1.69763e-13}\n",
      "5 {'W185': 9.08437e-10, 'W181': 2.62196e-10, 'Ta183': 2.73428e-11, 'Ta182': 1.80085e-11, 'Hf181': 3.64995e-12, 'Hf179n': 8.93134e-13, 'Ta179': 1.67326e-13, 'W187': 8.91469e-14, 'Ta180': 0.0, 'Hf180m': 0.0, 'Ta184': 0.0}\n",
      "-1 {'W181': 2.77363e-11, 'W185': 2.43622e-11, 'Ta182': 1.68455e-12, 'Ta179': 1.054e-13, 'Hf181': 5.9899e-15, 'Ta180': 0.0, 'Hf179n': 0.0, 'Hf180m': 0.0, 'Ta183': 0.0, 'W187': 0.0, 'Ta184': 0.0}\n"
     ]
    },
    {
     "name": "stdout",
     "output_type": "stream",
     "text": [
      "1 {'W185m': 1.15656e-07, 'Ta186': 2.07793e-09, 'W187': 1.91161e-10, 'W179m': 1.81109e-10, 'Ta184': 6.30675e-11, 'W179': 6.22441e-11, 'Hf183': 5.32618e-11, 'W183m': 4.79316e-11, 'Ta182n': 3.24056e-11, 'Ta185': 1.6324e-11, 'W185': 9.63529e-12, 'W181': 3.12228e-12, 'Ta183': 1.81738e-12, 'Hf180m': 7.34074e-13, 'Hf177n': 3.69623e-13, 'Ta182': 2.35947e-13, 'Ta180': 6.4322e-14, 'Hf181': 5.85366e-14}\n",
      "10 {'W185m': 6.24926e-09, 'Ta186': 1.30758e-09, 'W187': 1.90512e-10, 'W179m': 8.47043e-11, 'Ta184': 6.24826e-11, 'W179': 6.0361e-11, 'Hf183': 4.93654e-11, 'Ta182n': 2.38386e-11, 'Ta185': 1.47815e-11, 'W185': 1.07167e-11, 'W181': 3.1222e-12, 'Ta183': 1.83449e-12, 'Hf180m': 7.23334e-13, 'Hf177n': 3.36252e-13, 'Ta182': 2.38411e-13, 'Ta180': 6.368e-14, 'Hf181': 5.85319e-14, 'W183m': 0.0}\n",
      "-1 {'W187': 1.86048e-10, 'Ta184': 5.85504e-11, 'Ta186': 5.16448e-11, 'Hf183': 2.90572e-11, 'W179': 2.67646e-11, 'W185': 1.07756e-11, 'Ta185': 7.39599e-12, 'W181': 3.12159e-12, 'Ta182n': 2.79999e-12, 'Ta183': 1.92125e-12, 'Hf180m': 6.52659e-13, 'W179m': 4.212e-13, 'Ta182': 2.44432e-13, 'Hf177n': 1.73774e-13, 'Ta180': 5.93756e-14, 'Hf181': 5.84994e-14, 'W183m': 0.0, 'W185m': 0.0}\n",
      "1 {'Na25': 1.26657e-07, 'Ne23': 8.70174e-08, 'Na24': 5.92377e-08, 'N16': 9.74581e-09, 'Mg27': 2.27749e-10}\n",
      "10 {'Na24': 5.89251e-08, 'Na25': 1.0671e-09, 'Mg27': 1.37859e-10, 'Ne23': 4.22023e-11, 'N16': 0.0}\n",
      "-1 {'Na24': 5.68325e-08, 'Mg27': 4.45564e-12, 'N16': 0.0, 'Ne23': 0.0, 'Na25': 0.0}\n"
     ]
    },
    {
     "name": "stdout",
     "output_type": "stream",
     "text": [
      "1 {'Rb86m': 3.91804e-07, 'Rb84m': 1.92877e-07, 'N16': 1.03351e-07, 'Br84m': 9.57695e-09, 'Kr87': 2.92387e-09, 'Rb88': 2.24855e-09, 'Br84': 1.13616e-09, 'Br82m': 6.63494e-10, 'Rb84': 2.9512e-10, 'Rb86': 2.50964e-10, 'Kr85m': 1.51354e-10, 'Br82': 9.87168e-11, 'Rb87': 8.67619e-12}\n",
      "11 {'Rb84m': 1.58737e-07, 'Rb86m': 7.86018e-09, 'Br84m': 4.93829e-09, 'Kr87': 2.77548e-09, 'Rb88': 1.79863e-09, 'Br84': 1.00268e-09, 'Br82m': 3.45491e-10, 'Rb84': 3.27247e-10, 'Rb86': 2.70541e-10, 'Kr85m': 1.49133e-10, 'Br82': 1.30187e-10, 'Rb87': 8.67619e-12, 'N16': 0.0}\n",
      "-1 {'Rb84m': 3.0566e-08, 'Kr87': 1.78671e-09, 'Rb84': 4.47675e-10, 'Br84': 3.48501e-10, 'Rb88': 2.7227e-10, 'Rb86': 2.70603e-10, 'Br82': 1.61983e-10, 'Kr85m': 1.31606e-10, 'Br84m': 1.82282e-11, 'Rb87': 8.67619e-12, 'Br82m': 1.38539e-12, 'N16': 0.0, 'Rb86m': 0.0}\n",
      "1 {'N16': 7.20487e-07, 'Ga74': 7.02142e-08, 'Ge75m': 6.35907e-08, 'Ge75': 1.39873e-08, 'Ga70': 1.08903e-08, 'Zn71': 8.53084e-09, 'Ga76': 6.81443e-09, 'Zn73': 2.23505e-09, 'Ge69': 1.56349e-09, 'Ga72': 1.18498e-09, 'Zn71m': 4.06783e-10, 'Ge77m': 3.03344e-10, 'Ga73': 2.78659e-10, 'Zn69': 2.73604e-10, 'Ga75': 2.08904e-10, 'Ga74m': 1.42226e-10, 'Zn69m': 3.48168e-11, 'Ge73m': 2.24504e-11, 'Ge77': 1.00047e-11, 'Ge71': 4.28466e-12}\n",
      "11 {'Ga74': 4.63378e-08, 'Ge75': 1.53314e-08, 'Ga70': 9.27392e-09, 'Zn71': 2.13271e-09, 'Ge69': 1.56122e-09, 'Ga72': 1.18023e-09, 'Ge75m': 9.11098e-10, 'Zn71m': 4.01009e-10, 'Ga73': 2.76657e-10, 'Zn69': 2.59107e-10, 'Ga75': 4.36719e-11, 'Zn69m': 3.46741e-11, 'Ge73m': 2.23076e-11, 'Ge77': 1.00756e-11, 'Ge77m': 6.44009e-12, 'Ge71': 4.28377e-12, 'Ga74m': 0.0, 'Zn73': 0.0, 'Ga76': 0.0, 'N16': 0.0}\n",
      "-1 {'Ge75': 1.0133e-08, 'Ga70': 1.81878e-09, 'Ge69': 1.53844e-09, 'Ga72': 1.13316e-09, 'Ga74': 6.66862e-10, 'Zn71m': 3.46903e-10, 'Ga73': 2.4584e-10, 'Zn69': 1.52094e-10, 'Zn69m': 3.32595e-11, 'Ge73m': 1.98227e-11, 'Ge77': 9.57909e-12, 'Ge71': 4.27482e-12, 'Ga74m': 0.0, 'Ga75': 0.0, 'Ge77m': 0.0, 'Zn73': 0.0, 'Ga76': 0.0, 'Zn71': 0.0, 'Ge75m': 0.0, 'N16': 0.0}\n"
     ]
    },
    {
     "name": "stdout",
     "output_type": "stream",
     "text": [
      "1 {'P34': 6.43029e-09, 'Si31': 2.83541e-09, 'P32': 7.63704e-10, 'P30': 2.52746e-10, 'Al28': 7.28588e-11, 'P35': 6.93254e-12, 'S37': 2.7905e-12, 'P33': 6.50488e-13}\n",
      "10 {'Si31': 2.75165e-09, 'P32': 7.63529e-10, 'P30': 3.80613e-11, 'Al28': 8.81533e-12, 'P33': 6.50405e-13, 'S37': 0.0, 'P35': 0.0, 'P34': 0.0}\n",
      "-1 {'Si31': 2.23777e-09, 'P32': 7.62322e-10, 'P33': 6.49827e-13, 'S37': 0.0, 'P35': 0.0, 'Al28': 0.0, 'P30': 0.0, 'P34': 0.0}\n",
      "1 {'P32': 6.31874e-08, 'Si31': 1.38568e-09, 'P33': 4.88281e-11, 'S35': 6.13705e-13}\n",
      "5 {'P32': 3.61054e-08, 'P33': 3.56471e-11, 'S35': 5.60065e-13, 'Si31': 0.0}\n",
      "-1 {'P32': 4.36036e-12, 'P33': 2.23522e-13, 'S35': 1.28214e-13, 'Si31': 0.0}\n"
     ]
    },
    {
     "name": "stdout",
     "output_type": "stream",
     "text": [
      "1 {'P34': 6.79977e-09, 'Si31': 2.83562e-09, 'P32': 7.63705e-10, 'P30': 2.53918e-10, 'Al28': 7.32354e-11, 'P35': 7.03488e-12, 'S37': 2.79696e-12, 'P33': 6.50489e-13}\n",
      "10 {'Si31': 2.75064e-09, 'P32': 7.63527e-10, 'P30': 3.74392e-11, 'Al28': 8.67111e-12, 'P33': 6.50404e-13, 'S37': 0.0, 'P35': 0.0, 'P34': 0.0}\n",
      "-1 {'Si31': 2.21583e-09, 'P32': 7.62265e-10, 'P33': 6.49799e-13, 'S37': 0.0, 'P35': 0.0, 'Al28': 0.0, 'P30': 0.0, 'P34': 0.0}\n",
      "1 {'Zn63': 1.76681e-07, 'Cu66': 1.46435e-07, 'Cu68': 8.82582e-08, 'Cu68m': 1.14796e-08, 'Cu64': 1.62963e-09, 'Cu70': 8.48797e-10, 'Zn69': 8.17678e-10, 'Ni65': 7.54537e-10, 'Ni67': 4.21548e-10, 'Cu70m': 3.17662e-10, 'Cu62': 2.78285e-10, 'Zn69m': 1.15959e-10, 'Cu69': 8.24075e-11, 'Zn71': 6.79481e-11, 'Zn65': 1.62834e-11, 'Cu67': 1.17187e-11}\n",
      "11 {'Zn63': 1.59599e-07, 'Cu66': 6.8098e-08, 'Cu68': 7.6157e-09, 'Cu68m': 4.0524e-09, 'Cu64': 1.6213e-09, 'Zn69': 7.69357e-10, 'Ni65': 7.35301e-10, 'Cu62': 1.86449e-10, 'Zn69m': 1.15413e-10, 'Cu69': 2.09386e-11, 'Zn65': 1.62832e-11, 'Zn71': 1.38042e-11, 'Cu67': 1.17132e-11, 'Cu70m': 0.0, 'Ni67': 0.0, 'Cu70': 0.0}\n",
      "-1 {'Zn63': 6.64801e-08, 'Cu64': 1.55131e-09, 'Ni65': 5.88669e-10, 'Zn69': 4.61245e-10, 'Zn69m': 1.10813e-10, 'Cu66': 9.32969e-11, 'Zn65': 1.62817e-11, 'Cu67': 1.16076e-11, 'Cu62': 5.9242e-12, 'Zn71': 0.0, 'Cu69': 0.0, 'Cu70m': 0.0, 'Ni67': 0.0, 'Cu70': 0.0, 'Cu68m': 0.0, 'Cu68': 0.0}\n"
     ]
    },
    {
     "name": "stdout",
     "output_type": "stream",
     "text": [
      "1 {'Ho164': 1.26902e-07, 'N16': 6.96025e-08, 'Ho164m': 5.90644e-08, 'Tb162': 5.35494e-09, 'Ho166': 7.69009e-10, 'Dy165m': 7.16401e-10, 'Dy165': 4.54089e-10}\n",
      "11 {'Ho164': 1.21414e-07, 'Ho164m': 5.30913e-08, 'Tb162': 3.15996e-09, 'Ho166': 7.67094e-10, 'Dy165': 4.63705e-10, 'Dy165m': 2.95935e-11, 'N16': 0.0}\n",
      "-1 {'Ho164': 7.12343e-08, 'Ho164m': 2.17068e-08, 'Ho166': 7.51218e-10, 'Dy165': 3.65495e-10, 'Tb162': 3.79367e-11, 'Dy165m': 0.0, 'N16': 0.0}\n",
      "1 {'Pr140': 5.89022e-06, 'N16': 8.56972e-08, 'Ce139m': 8.72057e-10, 'Pr142': 9.01352e-11, 'Pr142m': 1.07075e-11, 'Ce141': 1.13738e-12}\n",
      "11 {'Pr140': 1.81157e-06, 'Pr142': 9.74942e-11, 'Ce139m': 1.21236e-11, 'Pr142m': 8.14305e-12, 'Ce141': 1.13728e-12, 'N16': 0.0}\n",
      "-1 {'Pr142': 1.16218e-10, 'Pr140': 8.78639e-11, 'Ce141': 1.13646e-12, 'Pr142m': 8.11096e-13, 'Ce139m': 0.0, 'N16': 0.0}\n"
     ]
    },
    {
     "name": "stdout",
     "output_type": "stream",
     "text": [
      "1 {'Tl206m': 2.04764e-09, 'Tl206': 1.28371e-09, 'Pb209': 3.81192e-11, 'Bi210': 3.44488e-13, 'Bi207': 1.39365e-14}\n",
      "10 {'Tl206m': 7.544e-10, 'Tl206': 6.70171e-10, 'Pb209': 3.7393e-11, 'Bi210': 3.44309e-13, 'Bi207': 1.39365e-14}\n",
      "-1 {'Pb209': 3.1471e-11, 'Tl206': 4.79086e-13, 'Bi210': 3.42707e-13, 'Bi207': 1.39365e-14, 'Tl206m': 0.0}\n"
     ]
    },
    {
     "name": "stdout",
     "output_type": "stream",
     "text": [
      "1 {'Pb209': 5.44438e-11, 'Bi210': 1.88843e-11, 'Po210': 1.11881e-12, 'Bi207': 4.39481e-13, 'Bi208': 4.41714e-14}\n",
      "3 {'Bi210': 1.21379e-11, 'Po210': 4.47403e-12, 'Bi207': 4.39397e-13, 'Bi208': 4.41714e-14, 'Pb209': 0.0}\n",
      "-1 {'Po210': 8.37365e-12, 'Bi210': 3.84034e-12, 'Bi207': 4.39179e-13, 'Bi208': 4.41714e-14, 'Pb209': 0.0}\n"
     ]
    },
    {
     "name": "stdout",
     "output_type": "stream",
     "text": [
      "1 {'Tl206m': 1.95541e-09, 'Tl206': 1.24832e-09, 'Pb209': 3.80854e-11, 'Bi210': 3.4448e-13, 'Bi207': 1.39365e-14}\n",
      "10 {'Tl206m': 5.44276e-10, 'Tl206': 5.33578e-10, 'Pb209': 3.71591e-11, 'Bi210': 3.4425e-13, 'Bi207': 1.39365e-14}\n",
      "-1 {'Pb209': 3.12223e-11, 'Tl206': 3.5355e-13, 'Bi210': 3.42634e-13, 'Bi207': 1.39365e-14, 'Tl206m': 0.0}\n"
     ]
    },
    {
     "name": "stdout",
     "output_type": "stream",
     "text": [
      "1 {'Sb120': 7.13011e-07, 'Sb122m': 1.43155e-07, 'In118m': 1.89095e-08, 'Sb124m': 9.89469e-09, 'In120m': 4.66709e-09, 'Sb122': 4.14785e-09, 'Sb120m': 2.11817e-09, 'In120n': 1.17298e-09, 'Sn123m': 2.30427e-10, 'In117': 6.13443e-11}\n",
      "11 {'Sb120': 5.56943e-07, 'Sb122m': 5.60642e-08, 'In118m': 7.83293e-09, 'Sb122': 4.72023e-09, 'Sb120m': 2.11716e-09, 'Sb124m': 1.29465e-09, 'Sn123m': 2.08906e-10, 'In117': 5.61442e-11, 'In120m': 2.843e-11, 'In120n': 0.0}\n",
      "-1 {'Sb120': 6.75255e-08, 'Sb122': 5.04814e-09, 'Sb120m': 2.10862e-09, 'Sb124m': 1.07144e-10, 'Sn123m': 9.04172e-11, 'In117': 2.65097e-11, 'Sb122m': 1.86817e-11, 'In118m': 4.16696e-12, 'In120n': 0.0, 'In120m': 0.0}\n",
      "1 {'Co62': 3.14782e-08, 'Co62m': 8.61403e-09, 'Co60m': 5.55446e-09, 'Ni57': 1.3929e-09, 'Fe61': 9.00271e-10, 'Co61': 3.64943e-10, 'Co58m': 2.72294e-10, 'Co58': 6.05421e-11, 'Co63': 2.97186e-11, 'Co57': 1.01549e-11, 'Ni65': 4.99482e-12, 'Fe59': 1.04702e-12, 'Co60': 9.93127e-13}\n",
      "11 {'Co62m': 6.48951e-09, 'Co60m': 3.81273e-09, 'Co62': 2.33407e-09, 'Ni57': 1.39036e-09, 'Fe61': 4.65883e-10, 'Co61': 3.56618e-10, 'Co58m': 2.70292e-10, 'Co58': 6.09791e-11, 'Co57': 1.01558e-11, 'Ni65': 4.86637e-12, 'Co60': 1.26626e-12, 'Fe59': 1.04696e-12, 'Co63': 0.0}\n",
      "-1 {'Ni57': 1.36886e-09, 'Co62m': 5.81318e-10, 'Co61': 2.58977e-10, 'Co58m': 2.53828e-10, 'Co60m': 1.54588e-10, 'Co58': 6.45733e-11, 'Co57': 1.0163e-11, 'Co62': 5.69149e-12, 'Ni65': 3.89772e-12, 'Co60': 1.83989e-12, 'Fe61': 1.70214e-12, 'Fe59': 1.04641e-12, 'Co63': 0.0}\n"
     ]
    },
    {
     "name": "stdout",
     "output_type": "stream",
     "text": [
      "1 {'Ni57': 7.97537e-08, 'Co58': 9.5766e-09, 'Co58m': 6.25721e-09, 'Co57': 9.17159e-10, 'Co60': 1.75728e-10, 'Fe59': 9.21027e-11, 'Co61': 2.40033e-11, 'Mn54': 2.5373e-12, 'Co56': 1.49614e-12, 'Fe55': 1.41589e-12}\n",
      "5 {'Co58': 9.71974e-09, 'Co57': 9.18103e-10, 'Ni57': 2.72578e-10, 'Co60': 1.74955e-10, 'Fe59': 7.60959e-11, 'Mn54': 2.46918e-12, 'Fe55': 1.4039e-12, 'Co56': 1.34046e-12, 'Co61': 0.0, 'Co58m': 0.0}\n",
      "-1 {'Co57': 3.37821e-10, 'Co58': 2.09883e-10, 'Co60': 1.51921e-10, 'Fe55': 1.0695e-12, 'Mn54': 1.03373e-12, 'Fe59': 1.69339e-13, 'Co56': 3.98607e-14, 'Co61': 0.0, 'Co58m': 0.0, 'Ni57': 0.0}\n",
      "1 {'Co62': 2.48095e-08, 'Co62m': 8.39509e-09, 'Co60m': 5.36768e-09, 'Ni57': 1.39267e-09, 'Fe61': 8.47939e-10, 'Co61': 3.64352e-10, 'Co58m': 2.72111e-10, 'Co58': 6.05819e-11, 'Co63': 1.36402e-11, 'Co57': 1.0155e-11, 'Ni65': 4.983e-12, 'Fe59': 1.04702e-12, 'Co60': 1.02242e-12}\n",
      "10 {'Co62m': 5.94264e-09, 'Co60m': 3.39189e-09, 'Ni57': 1.38957e-09, 'Co62': 1.0625e-09, 'Fe61': 3.79617e-10, 'Co61': 3.53427e-10, 'Co58m': 2.69673e-10, 'Co58': 6.11143e-11, 'Co57': 1.0156e-11, 'Ni65': 4.82711e-12, 'Co60': 1.33225e-12, 'Fe59': 1.04694e-12, 'Co63': 0.0}\n",
      "-1 {'Ni57': 1.3678e-09, 'Co62m': 5.15362e-10, 'Co61': 2.54638e-10, 'Co58m': 2.53033e-10, 'Co60m': 1.31731e-10, 'Co58': 6.47467e-11, 'Co57': 1.01633e-11, 'Co62': 5.04575e-12, 'Ni65': 3.85477e-12, 'Co60': 1.84347e-12, 'Fe61': 1.28613e-12, 'Fe59': 1.04639e-12, 'Co63': 0.0}\n"
     ]
    },
    {
     "name": "stdout",
     "output_type": "stream",
     "text": [
      "1 {'N16': 1.9067e-07, 'Sc44': 9.86977e-08, 'K42': 5.98464e-09, 'Sc44m': 5.17381e-10, 'Sc46m': 5.0211e-10}\n",
      "11 {'Sc44': 9.71306e-08, 'K42': 5.95247e-09, 'Sc44m': 5.16794e-10, 'Sc46m': 0.0, 'N16': 0.0}\n",
      "-1 {'Sc44': 8.49191e-08, 'K42': 5.68819e-09, 'Sc44m': 5.11868e-10, 'Sc46m': 0.0, 'N16': 0.0}\n",
      "1 {'Ag108': 1.09653e-06, 'Ag106': 5.65171e-07, 'Ag110': 1.87006e-07, 'Ag107m': 5.66618e-08, 'Ag109m': 4.56189e-08, 'Rh104': 3.4799e-08, 'Rh106': 5.32129e-09, 'Pd109m': 3.1127e-09, 'Rh104m': 2.80227e-09, 'Ag106m': 2.09887e-09, 'Pd107m': 1.55064e-09, 'Rh106m': 9.91648e-10, 'Pd109': 8.62904e-11}\n",
      "10 {'Ag106': 4.8286e-07, 'Ag108': 2.27213e-07, 'Rh104': 1.06202e-08, 'Ag106m': 2.09822e-09, 'Pd109m': 1.391e-09, 'Rh104m': 1.17351e-09, 'Rh106m': 9.63671e-10, 'Ag107m': 3.39797e-10, 'Ag109m': 1.76068e-10, 'Pd109': 1.04779e-10, 'Ag110': 1.83549e-11, 'Pd107m': 0.0, 'Rh106': 0.0}\n",
      "-1 {'Ag106': 1.19558e-07, 'Ag106m': 2.09246e-09, 'Rh106m': 7.47658e-10, 'Pd109': 1.15353e-10, 'Ag109m': 2.8106e-11, 'Rh104': 4.68759e-12, 'Pd109m': 1.09772e-12, 'Rh104m': 5.20174e-13, 'Pd107m': 0.0, 'Rh106': 0.0, 'Ag107m': 0.0, 'Ag110': 0.0, 'Ag108': 0.0}\n"
     ]
    },
    {
     "name": "stdout",
     "output_type": "stream",
     "text": [
      "1 {'N16': 6.60901e-08, 'Lu176m': 3.08036e-09, 'Yb176m': 2.48232e-11, 'Lu174m': 1.33228e-11, 'Tm172': 1.24231e-11, 'Yb175': 5.90306e-12, 'Lu176': 5.36708e-12, 'Lu177': 3.95682e-12, 'Tm173': 1.57072e-12, 'Lu174': 1.46915e-12}\n",
      "11 {'Lu176m': 3.0241e-09, 'Lu174m': 1.33226e-11, 'Tm172': 1.241e-11, 'Yb175': 5.89912e-12, 'Lu176': 5.36708e-12, 'Lu177': 3.95516e-12, 'Tm173': 1.558e-12, 'Lu174': 1.46917e-12, 'Yb176m': 0.0, 'N16': 0.0}\n",
      "-1 {'Lu176m': 2.59156e-09, 'Lu174m': 1.33204e-11, 'Tm172': 1.2301e-11, 'Yb175': 5.86626e-12, 'Lu176': 5.36708e-12, 'Lu177': 3.94127e-12, 'Lu174': 1.46936e-12, 'Tm173': 1.45544e-12, 'Yb176m': 0.0, 'N16': 0.0}\n"
     ]
    },
    {
     "name": "stdout",
     "output_type": "stream",
     "text": [
      "1 {'V52': 3.61042e-07, 'V53': 2.63532e-08, 'Co62': 2.50834e-08, 'Co62m': 6.91133e-09, 'V54': 6.49302e-09, 'Co60m': 4.45531e-09, 'Ni57': 1.11849e-09, 'Fe61': 7.21523e-10, 'Ti51': 5.80385e-10, 'Cr49': 5.61634e-10, 'Co61': 2.93034e-10, 'Co58m': 2.18647e-10, 'Cr55': 5.76824e-11, 'Mn56': 5.6282e-11, 'Co58': 4.86163e-11, 'Co57': 8.1544e-12, 'Ni65': 4.01053e-12, 'Cr51': 3.72822e-12, 'Fe59': 8.40764e-13, 'Co60': 7.98253e-13}\n",
      "11 {'V52': 1.24555e-07, 'Co62m': 5.18948e-09, 'Co60m': 3.04478e-09, 'V53': 2.25084e-09, 'Co62': 1.80563e-09, 'Ni57': 1.11643e-09, 'Cr49': 5.10672e-10, 'Fe61': 3.70509e-10, 'Ti51': 2.91932e-10, 'Co61': 2.86247e-10, 'Co58m': 2.17021e-10, 'Mn56': 5.48527e-11, 'V54': 5.31823e-11, 'Co58': 4.89714e-11, 'Cr55': 1.87104e-11, 'Co57': 8.15509e-12, 'Ni65': 3.9062e-12, 'Cr51': 3.72784e-12, 'Co60': 1.01944e-12, 'Fe59': 8.40712e-13}\n",
      "-1 {'Ni57': 1.09914e-09, 'Co62m': 4.62935e-10, 'Cr49': 2.28926e-10, 'Co61': 2.07716e-10, 'Co58m': 2.0378e-10, 'Co60m': 1.22768e-10, 'Co58': 5.1862e-11, 'Mn56': 4.41541e-11, 'V52': 1.5612e-11, 'Co57': 8.1609e-12, 'Co62': 4.53244e-12, 'Cr51': 3.7247e-12, 'Ni65': 3.12747e-12, 'Co60': 1.47765e-12, 'Fe61': 1.3399e-12, 'Ti51': 8.86627e-13, 'Fe59': 8.40271e-13, 'Cr55': 0.0, 'V54': 0.0, 'V53': 0.0}\n",
      "1 {'Ni57': 6.2837e-08, 'Co58': 7.76829e-09, 'Co58m': 4.65387e-09, 'Co57': 7.36856e-10, 'Cr51': 3.03963e-10, 'Co60': 1.41108e-10, 'Fe59': 7.39114e-11, 'Mn56': 3.70456e-11, 'Co61': 1.27454e-11, 'Mn54': 2.14746e-12, 'Co56': 1.20096e-12, 'Fe55': 1.14289e-12, 'V49': 2.63967e-13}\n",
      "5 {'Co58': 7.80541e-09, 'Co57': 7.37247e-10, 'Cr51': 2.23957e-10, 'Ni57': 2.1949e-10, 'Co60': 1.40489e-10, 'Fe59': 6.11109e-11, 'Mn54': 2.09002e-12, 'Fe55': 1.13325e-12, 'Co56': 1.07645e-12, 'V49': 2.57284e-13, 'Co61': 0.0, 'Mn56': 0.0, 'Co58m': 0.0}\n",
      "-1 {'Co57': 2.7127e-10, 'Co58': 1.68535e-10, 'Co60': 1.21992e-10, 'Mn54': 8.74985e-13, 'Fe55': 8.63312e-13, 'Fe59': 1.35964e-13, 'V49': 1.12912e-13, 'Co56': 3.20081e-14, 'Cr51': 1.22915e-14, 'Co61': 0.0, 'Mn56': 0.0, 'Co58m': 0.0, 'Ni57': 0.0}\n"
     ]
    },
    {
     "name": "stdout",
     "output_type": "stream",
     "text": [
      "1 {'V52': 3.22891e-07, 'V53': 2.11658e-08, 'Co62': 2.01235e-08, 'Co62m': 6.8688e-09, 'V54': 4.39557e-09, 'Co60m': 4.20159e-09, 'Ni57': 1.1778e-09, 'Fe61': 7.0244e-10, 'Cr49': 6.13834e-10, 'Ti51': 5.52982e-10, 'Co61': 3.02329e-10, 'Co58m': 2.13509e-10, 'Mn56': 5.53561e-11, 'Cr55': 5.43903e-11, 'Co58': 4.76897e-11, 'Co57': 8.25147e-12, 'Ni65': 4.09706e-12, 'Cr51': 3.88774e-12, 'Fe59': 8.49566e-13, 'Co60': 8.05454e-13}\n",
      "10 {'V52': 9.03153e-08, 'Co62m': 4.87435e-09, 'Co60m': 2.66383e-09, 'Ni57': 1.1752e-09, 'V53': 1.11319e-09, 'Co62': 8.81135e-10, 'Cr49': 5.47769e-10, 'Fe61': 3.16305e-10, 'Co61': 2.93332e-10, 'Ti51': 2.42915e-10, 'Co58m': 2.1161e-10, 'Mn56': 5.36775e-11, 'Co58': 4.81044e-11, 'Cr55': 1.41314e-11, 'V54': 1.40255e-11, 'Co57': 8.25235e-12, 'Ni65': 3.9698e-12, 'Cr51': 3.88728e-12, 'Co60': 1.0466e-12, 'Fe59': 8.49503e-13}\n",
      "-1 {'Ni57': 1.15672e-09, 'Co62m': 4.1922e-10, 'Cr49': 2.42595e-10, 'Co61': 2.11107e-10, 'Co58m': 1.9851e-10, 'Co60m': 1.02318e-10, 'Co58': 5.09641e-11, 'Mn56': 4.30666e-11, 'V52': 9.88098e-12, 'Co57': 8.25859e-12, 'Co62': 4.10448e-12, 'Cr51': 3.88396e-12, 'Ni65': 3.16773e-12, 'Co60': 1.44827e-12, 'Fe61': 1.05064e-12, 'Fe59': 8.49051e-13, 'Ti51': 6.75832e-13, 'Cr55': 0.0, 'V54': 0.0, 'V53': 0.0}\n",
      "1 {'Sm143': 5.65094e-08, 'Sm143m': 3.82775e-08, 'N16': 1.59239e-08, 'Pm152': 7.78047e-09, 'Pm154m': 4.68983e-09, 'Pm152m': 1.88338e-09, 'Pm154': 1.62134e-09, 'Sm155': 1.52117e-09, 'Sm153': 1.14727e-09, 'Pm152n': 7.03986e-10, 'Nd151': 4.40716e-10, 'Nd141m': 3.48102e-10, 'Pm150': 1.22304e-10, 'Nd149': 1.17171e-10, 'Pm153': 8.9113e-11, 'Sm147': 3.9724e-11, 'Pm149': 4.30736e-12, 'Pm148': 3.74459e-12, 'Nd141': 2.94387e-12, 'Pm151': 1.76582e-12, 'Pm148m': 4.52513e-13, 'Pm143': 1.49815e-13}\n",
      "10 {'Sm143': 4.08866e-08, 'Pm152': 3.06697e-09, 'Sm155': 1.28081e-09, 'Sm143m': 1.17131e-09, 'Sm153': 1.14572e-09, 'Pm154m': 1.13301e-09, 'Pm152m': 1.13093e-09, 'Pm152n': 5.39375e-10, 'Nd151': 3.23787e-10, 'Pm154': 1.69846e-10, 'Pm150': 1.19421e-10, 'Nd149': 1.12916e-10, 'Pm153': 4.29205e-11, 'Sm147': 3.9724e-11, 'Nd141m': 8.50619e-12, 'Pm149': 4.36218e-12, 'Pm148': 3.74274e-12, 'Nd141': 3.1558e-12, 'Pm151': 2.1324e-12, 'Pm148m': 4.52484e-13, 'Pm143': 3.12321e-13, 'N16': 0.0}\n",
      "-1 {'Sm153': 1.13196e-09, 'Sm143': 8.79472e-10, 'Sm155': 2.83353e-10, 'Pm150': 9.68778e-11, 'Nd149': 8.16283e-11, 'Pm152n': 5.21566e-11, 'Sm147': 3.9724e-11, 'Nd151': 2.16684e-11, 'Pm152m': 1.2902e-11, 'Pm149': 4.75535e-12, 'Pm148': 3.72654e-12, 'Pm151': 3.03611e-12, 'Nd141': 2.52465e-12, 'Pm152': 8.76341e-13, 'Pm143': 6.12639e-13, 'Pm148m': 4.52226e-13, 'Pm153': 0.0, 'Nd141m': 0.0, 'Pm154': 0.0, 'Pm154m': 0.0, 'N16': 0.0, 'Sm143m': 0.0}\n"
     ]
    },
    {
     "name": "stdout",
     "output_type": "stream",
     "text": [
      "1 {'Al28': 3.97628e-06, 'P30': 6.43187e-07, 'N13': 9.57055e-08, 'Si31': 2.09434e-08, 'P32': 2.9772e-12}\n",
      "10 {'Al28': 7.25554e-07, 'P30': 1.39811e-07, 'N13': 6.52863e-08, 'Si31': 2.04416e-08, 'P32': 2.97665e-12}\n",
      "-1 {'Si31': 1.65023e-08, 'N13': 2.2309e-09, 'P32': 2.97178e-12, 'P30': 0.0, 'Al28': 0.0}\n",
      "1 {'Pt197m': 5.6776e-09, 'Ir196': 9.92862e-10, 'Pt199': 3.3954e-10, 'Pt197': 2.78743e-10, 'Pt195m': 2.59863e-10, 'Au197m': 1.95277e-10, 'Pt193m': 1.8233e-10, 'Ir195': 7.49294e-11, 'Ir195m': 2.84527e-11, 'Pt191': 2.31268e-11, 'Ir194': 1.93214e-11, 'Os195': 9.44376e-12, 'Ir196m': 9.35353e-12, 'Pt199m': 6.37198e-12, 'Pt189': 3.97164e-12, 'Ir197': 2.00955e-12, 'Os193': 9.8824e-13, 'Ir192m': 9.38801e-13, 'Au199': 5.7635e-14}\n",
      "10 {'Pt197m': 5.45563e-09, 'Pt199': 3.00197e-10, 'Pt197': 2.89998e-10, 'Pt195m': 2.59695e-10, 'Au197m': 1.87729e-10, 'Pt193m': 1.8222e-10, 'Ir195': 7.31699e-11, 'Ir195m': 2.79823e-11, 'Pt191': 2.3105e-11, 'Ir194': 1.92581e-11, 'Ir196': 1.24474e-11, 'Ir196m': 8.93974e-12, 'Os195': 5.26259e-12, 'Pt189': 3.94856e-12, 'Ir197': 1.04433e-12, 'Os193': 9.86163e-13, 'Au199': 1.44055e-13, 'Ir192m': 0.0, 'Pt199m': 0.0}\n",
      "-1 {'Pt197m': 3.83209e-09, 'Pt197': 3.69552e-10, 'Pt195m': 2.58215e-10, 'Pt193m': 1.81241e-10, 'Au197m': 1.31863e-10, 'Pt199': 1.00629e-10, 'Ir195': 5.8736e-11, 'Ir195m': 2.41413e-11, 'Pt191': 2.29131e-11, 'Ir194': 1.87063e-11, 'Ir196m': 5.98793e-12, 'Pt189': 3.74992e-12, 'Os193': 9.67957e-13, 'Au199': 5.78939e-13, 'Ir192m': 0.0, 'Ir197': 0.0, 'Pt199m': 0.0, 'Os195': 0.0, 'Ir196': 0.0}\n"
     ]
    },
    {
     "name": "stdout",
     "output_type": "stream",
     "text": [
      "1 {'N16': 1.90348e-07, 'K38': 1.14719e-07, 'Cl38': 8.94999e-09, 'Ar41': 2.14765e-09, 'K42': 2.1813e-11, 'K40': 1.72781e-12}\n",
      "11 {'K38': 6.7947e-08, 'Cl38': 8.04068e-09, 'Ar41': 2.07095e-09, 'K42': 2.16961e-11, 'K40': 1.72781e-12, 'N16': 0.0}\n",
      "-1 {'Cl38': 3.25601e-09, 'Ar41': 1.52375e-09, 'K38': 8.18536e-10, 'K42': 2.07341e-11, 'K40': 1.72781e-12, 'N16': 0.0}\n",
      "1 {'K42': 5.22452e-10, 'Ar41': 1.75038e-10, 'S35': 3.02406e-12, 'K40': 1.72781e-12, 'P32': 8.06634e-13, 'Ar39': 5.79121e-13, 'Ar37': 2.72204e-14, 'Cl36': 1.01835e-15, 'H3': 7.76778e-16}\n",
      "4 {'S35': 2.88159e-12, 'K40': 1.72781e-12, 'P32': 6.00397e-13, 'Ar39': 5.79096e-13, 'K42': 1.44719e-13, 'Ar37': 2.41363e-14, 'Cl36': 1.01835e-15, 'H3': 7.76051e-16, 'Ar41': 0.0}\n",
      "-1 {'K40': 1.72781e-12, 'S35': 1.37358e-12, 'Ar39': 5.78715e-13, 'P32': 6.44598e-15, 'Ar37': 3.80881e-15, 'Cl36': 1.01835e-15, 'H3': 7.64982e-16, 'Ar41': 0.0, 'K42': 0.0}\n"
     ]
    },
    {
     "name": "stdout",
     "output_type": "stream",
     "text": [
      "1 {'K38': 1.09445e-07, 'N16': 9.40848e-09, 'Cl38': 8.86425e-09, 'Ar41': 2.14064e-09, 'K42': 2.18025e-11, 'K40': 1.72781e-12}\n",
      "10 {'K38': 5.83788e-08, 'Cl38': 7.79481e-09, 'Ar41': 2.04924e-09, 'K42': 2.16623e-11, 'K40': 1.72781e-12, 'N16': 0.0}\n",
      "-1 {'Cl38': 3.11748e-09, 'Ar41': 1.50143e-09, 'K38': 6.61789e-10, 'K42': 2.0689e-11, 'K40': 1.72781e-12, 'N16': 0.0}\n",
      "1 {'Ba137m': 1.62733e-06, 'N16': 5.19748e-07, 'Cs138': 2.9115e-09, 'Cs138m': 1.91398e-09, 'Xe135m': 5.09841e-10, 'Ba139': 3.98761e-10, 'Ba135m': 2.5101e-10, 'Cs136m': 2.46005e-10, 'Ba129m': 2.17049e-10, 'Ba131m': 1.71933e-10, 'Ba133m': 4.36155e-11, 'Xe135': 2.17214e-11, 'Ba129': 1.74347e-11, 'Cs135m': 1.15463e-11, 'Cs130': 5.17241e-12, 'Cs136': 1.07385e-12, 'Cs134m': 4.11549e-13, 'Ba131': 3.69555e-13, 'Cs129': 1.23307e-13}\n",
      "11 {'Ba137m': 4.28069e-07, 'Cs138': 3.05758e-09, 'Cs138m': 5.9337e-10, 'Xe135m': 4.07977e-10, 'Ba139': 3.82731e-10, 'Ba135m': 2.50514e-10, 'Ba129m': 2.11364e-10, 'Ba131m': 1.3614e-10, 'Ba133m': 4.35507e-11, 'Xe135': 2.4639e-11, 'Ba129': 1.70236e-11, 'Cs135m': 1.08272e-11, 'Cs130': 6.29952e-12, 'Cs136': 1.0775e-12, 'Ba131': 4.54342e-13, 'Cs134m': 4.03588e-13, 'Cs129': 2.27362e-13, 'Cs136m': 0.0, 'N16': 0.0}\n",
      "-1 {'Cs138': 1.17024e-09, 'Ba139': 2.52795e-10, 'Ba135m': 2.45552e-10, 'Ba129m': 1.61626e-10, 'Ba133m': 4.2901e-11, 'Xe135m': 4.28687e-11, 'Xe135': 3.36609e-11, 'Ba129': 1.33746e-11, 'Ba131m': 1.28602e-11, 'Cs135m': 5.65235e-12, 'Cs130': 2.31413e-12, 'Cs129': 1.12989e-12, 'Cs136': 1.07553e-12, 'Ba131': 7.45309e-13, 'Ba137m': 6.13644e-13, 'Cs134m': 3.31277e-13, 'Cs136m': 0.0, 'Cs138m': 0.0, 'N16': 0.0}\n"
     ]
    },
    {
     "name": "stdout",
     "output_type": "stream",
     "text": [
      "1 {'Ba135m': 1.30214e-08, 'Ba133m': 2.58526e-09, 'Xe135': 6.62268e-10, 'Cs129': 2.47874e-10, 'Cs136': 7.90932e-11, 'Ba131': 6.07264e-11, 'Ba129m': 3.93383e-11, 'Ba129': 5.94152e-12, 'Xe133m': 2.95034e-12, 'Ba133': 2.85572e-12, 'Ba139': 2.85203e-12, 'Cs132': 1.66542e-12, 'Xe133': 1.22125e-12, 'Xe131m': 1.02552e-12, 'Cs134': 4.91441e-13, 'Xe127': 3.32715e-13, 'Cs131': 2.30439e-13, 'Xe129m': 1.27618e-13, 'Cs137': 1.99123e-14}\n",
      "3 {'Ba135m': 2.02697e-09, 'Ba133m': 6.3913e-10, 'Cs136': 6.6681e-11, 'Ba131': 5.00888e-11, 'Cs129': 4.74023e-11, 'Ba133': 4.12282e-12, 'Xe135': 1.92596e-12, 'Xe133': 1.27932e-12, 'Cs132': 1.18465e-12, 'Xe133m': 1.0675e-12, 'Xe131m': 8.51085e-13, 'Cs131': 8.41339e-13, 'Cs134': 4.90633e-13, 'Xe127': 3.12992e-13, 'Xe129m': 9.93407e-14, 'Cs137': 1.99082e-14, 'Ba139': 0.0, 'Ba129': 0.0, 'Ba129m': 0.0}\n",
      "-1 {'Cs136': 2.26496e-11, 'Ba131': 1.48153e-11, 'Ba133': 4.52319e-12, 'Cs131': 1.31538e-12, 'Cs134': 4.81566e-13, 'Xe131m': 2.61693e-13, 'Xe127': 2.12651e-13, 'Cs132': 1.37361e-13, 'Xe133': 1.27107e-13, 'Ba133m': 9.26818e-14, 'Xe129m': 2.03718e-14, 'Cs137': 1.98827e-14, 'Ba135m': 1.58383e-14, 'Xe133m': 1.72093e-15, 'Cs129': 1.32632e-15, 'Ba139': 0.0, 'Ba129': 0.0, 'Ba129m': 0.0, 'Xe135': 0.0}\n"
     ]
    },
    {
     "name": "stdout",
     "output_type": "stream",
     "text": [
      "1 {'Ba137m': 1.32742e-06, 'N16': 6.57779e-09, 'Cs138': 2.97359e-09, 'Cs138m': 1.60086e-09, 'Xe135m': 4.92798e-10, 'Ba139': 3.96273e-10, 'Ba135m': 2.50934e-10, 'Ba129m': 2.16172e-10, 'Ba131m': 1.65919e-10, 'Ba133m': 4.36056e-11, 'Xe135': 2.22129e-11, 'Ba129': 1.73714e-11, 'Cs135m': 1.14336e-11, 'Cs130': 5.48156e-12, 'Cs136': 1.07692e-12, 'Cs134m': 4.10324e-13, 'Ba131': 3.83804e-13, 'Cs129': 1.39369e-13}\n",
      "10 {'Ba137m': 2.00998e-07, 'Cs138': 2.98201e-09, 'Ba139': 3.73944e-10, 'Xe135m': 3.59614e-10, 'Cs138m': 3.05771e-10, 'Ba135m': 2.50233e-10, 'Ba129m': 2.08212e-10, 'Ba131m': 1.19288e-10, 'Ba133m': 4.3514e-11, 'Xe135': 2.60037e-11, 'Ba129': 1.67951e-11, 'Cs135m': 1.04402e-11, 'Cs130': 6.3429e-12, 'Cs136': 1.07739e-12, 'Ba131': 4.94246e-13, 'Cs134m': 3.9915e-13, 'Cs129': 2.84989e-13, 'N16': 0.0}\n",
      "-1 {'Cs138': 1.11841e-09, 'Ba139': 2.48231e-10, 'Ba135m': 2.45336e-10, 'Ba129m': 1.59732e-10, 'Ba133m': 4.28727e-11, 'Xe135m': 3.88301e-11, 'Xe135': 3.36893e-11, 'Ba129': 1.32336e-11, 'Ba131m': 1.15943e-11, 'Cs135m': 5.49324e-12, 'Cs130': 2.19731e-12, 'Cs129': 1.1639e-12, 'Cs136': 1.07544e-12, 'Ba131': 7.48243e-13, 'Cs134m': 3.28416e-13, 'Cs138m': 0.0, 'N16': 0.0, 'Ba137m': 0.0}\n",
      "1 {'V52': 6.69072e-07, 'Cr55': 3.43434e-07, 'Mn56': 4.92963e-09, 'Mn54': 8.58636e-11}\n",
      "11 {'V52': 2.70983e-07, 'Cr55': 1.32002e-07, 'Mn56': 4.82311e-09, 'Mn54': 8.5863e-11}\n",
      "-1 {'Mn56': 3.86161e-09, 'Mn54': 8.58564e-11, 'V52': 2.72774e-11, 'Cr55': 7.78715e-12}\n"
     ]
    },
    {
     "name": "stdout",
     "output_type": "stream",
     "text": [
      "1 {'Mn54': 7.28969e-09, 'Mn56': 4.11292e-10}\n",
      "5 {'Mn54': 7.10552e-09, 'Mn56': 0.0}\n",
      "-1 {'Mn54': 2.98874e-09, 'Mn56': 0.0}\n",
      "1 {'V52': 5.8056e-07, 'Cr55': 2.95562e-07, 'Mn56': 4.91275e-09, 'Mn54': 8.58635e-11}\n",
      "10 {'V52': 1.5941e-07, 'Cr55': 7.53028e-08, 'Mn56': 4.76165e-09, 'Mn54': 8.58626e-11}\n",
      "-1 {'Mn56': 3.82094e-09, 'Mn54': 8.58561e-11, 'V52': 1.74158e-11, 'Cr55': 4.81428e-12}\n"
     ]
    },
    {
     "name": "stdout",
     "output_type": "stream",
     "text": [
      "1 {'Re186': 1.45173e-09, 'Re188': 6.78495e-10, 'W185m': 4.45923e-10, 'Re188m': 4.41476e-10, 'Re184': 2.21729e-10, 'Ta182n': 5.71508e-11, 'Ta184': 3.35914e-11, 'W187': 2.84004e-11, 'Re184m': 5.84254e-12, 'Re183': 9.86228e-13}\n",
      "10 {'Re186': 1.45072e-09, 'Re188': 6.83899e-10, 'Re188m': 3.60779e-10, 'Re184': 2.21713e-10, 'W185m': 4.68904e-11, 'Ta182n': 4.50901e-11, 'Ta184': 3.33507e-11, 'W187': 2.8326e-11, 'Re184m': 5.84245e-12, 'Re183': 9.86191e-13}\n",
      "-1 {'Re186': 1.44174e-09, 'Re188': 6.90685e-10, 'Re184': 2.21572e-10, 'Re188m': 5.94257e-11, 'Ta184': 3.12747e-11, 'W187': 2.76697e-11, 'Re184m': 5.84164e-12, 'Ta182n': 5.42475e-12, 'Re183': 9.85863e-13, 'W185m': 0.0}\n",
      "1 {'Re186': 1.05751e-07, 'Re184': 1.90477e-08, 'Re188': 2.99743e-09, 'W187': 1.2523e-09, 'Ta184': 5.17154e-10, 'Re184m': 4.99899e-10, 'Re183': 3.56218e-11, 'Ta182': 6.73642e-12, 'W185': 3.64061e-12, 'Re187': 1.081e-13}\n",
      "5 {'Re184': 1.53332e-08, 'Re186': 1.25638e-08, 'Re184m': 4.76684e-10, 'Re183': 3.178e-11, 'Ta182': 6.28321e-12, 'W185': 3.27324e-12, 'W187': 4.0409e-13, 'Re187': 1.081e-13, 'Re188': 3.74242e-14, 'Ta184': 0.0}\n",
      "-1 {'Re184': 1.70613e-10, 'Re184m': 9.53864e-11, 'Re183': 6.68602e-13, 'Ta182': 5.95302e-13, 'Re187': 1.081e-13, 'W185': 8.95106e-14, 'Re186': 4.04553e-16, 'Ta184': 0.0, 'W187': 0.0, 'Re188': 0.0}\n"
     ]
    },
    {
     "name": "stdout",
     "output_type": "stream",
     "text": [
      "1 {'Re186': 1.45168e-09, 'Re188': 6.78782e-10, 'Re188m': 4.37382e-10, 'W185m': 4.01889e-10, 'Re184': 2.21728e-10, 'Ta182n': 5.6529e-11, 'Ta184': 3.35803e-11, 'W187': 2.8397e-11, 'Re184m': 5.84253e-12, 'Re183': 9.86226e-13}\n",
      "10 {'Re186': 1.45039e-09, 'Re188': 6.85331e-10, 'Re188m': 3.37791e-10, 'Re184': 2.21708e-10, 'Ta182n': 4.17356e-11, 'Ta184': 3.32725e-11, 'W187': 2.83018e-11, 'W185m': 2.24872e-11, 'Re184m': 5.84242e-12, 'Re183': 9.86179e-13}\n",
      "-1 {'Re186': 1.4413e-09, 'Re188': 6.90061e-10, 'Re184': 2.21565e-10, 'Re188m': 5.43716e-11, 'Ta184': 3.11759e-11, 'W187': 2.76377e-11, 'Re184m': 5.8416e-12, 'Ta182n': 4.88685e-12, 'Re183': 9.85847e-13, 'W185m': 0.0}\n",
      "1 {'Au196m': 2.63689e-08, 'Au197m': 9.29255e-09, 'Au196n': 1.97641e-09, 'Au196': 1.92347e-09, 'Au195m': 1.77735e-09, 'Au198': 5.48428e-10, 'Pt197m': 9.86642e-11, 'Pt197': 8.04694e-12, 'Ir194': 6.62254e-12}\n",
      "11 {'Au196n': 1.96286e-09, 'Au196': 1.92595e-09, 'Au198': 5.47868e-10, 'Au196m': 3.01096e-10, 'Pt197m': 9.46459e-11, 'Pt197': 8.24e-12, 'Ir194': 6.59992e-12, 'Au195m': 0.0, 'Au197m': 0.0}\n",
      "-1 {'Au196': 1.92576e-09, 'Au196n': 1.85151e-09, 'Au198': 5.43141e-10, 'Au196m': 2.84015e-10, 'Pt197m': 6.64962e-11, 'Pt197': 9.53015e-12, 'Ir194': 6.41094e-12, 'Au195m': 0.0, 'Au197m': 0.0}\n"
     ]
    },
    {
     "name": "stdout",
     "output_type": "stream",
     "text": [
      "1 {'Hf179m': 3.92475e-08, 'Lu180': 4.22579e-09, 'Hf180m': 7.42654e-10, 'Lu178': 4.32899e-10, 'Lu178m': 2.65545e-10, 'Hf177n': 1.31307e-10, 'Hf178m': 5.92646e-11, 'Yb177': 4.19025e-11, 'Lu179': 3.76841e-11, 'Hf173': 1.95469e-11, 'Lu176m': 1.92627e-11, 'Hf179n': 1.81412e-11, 'Yb176m': 1.19733e-11, 'Hf175': 7.96918e-12, 'Hf181': 9.46075e-13, 'Lu177': 8.0617e-13, 'Yb175': 7.72455e-13}\n",
      "10 {'Lu180': 2.16492e-09, 'Hf180m': 7.34123e-10, 'Lu178': 3.78519e-10, 'Lu178m': 2.25146e-10, 'Hf177n': 1.2192e-10, 'Yb177': 4.05326e-11, 'Lu179': 3.71661e-11, 'Hf173': 1.9495e-11, 'Lu176m': 1.8929e-11, 'Hf179n': 1.81393e-11, 'Hf175': 7.96888e-12, 'Hf181': 9.46016e-13, 'Lu177': 8.10595e-13, 'Yb175': 7.71967e-13, 'Yb176m': 0.0, 'Hf178m': 0.0, 'Hf179m': 0.0}\n",
      "-1 {'Hf180m': 6.62881e-10, 'Lu178': 1.15599e-10, 'Hf177n': 6.33059e-11, 'Lu178m': 5.23785e-11, 'Lu179': 3.28869e-11, 'Yb177': 3.02141e-11, 'Hf173': 1.90423e-11, 'Hf179n': 1.81224e-11, 'Lu176m': 1.62199e-11, 'Hf175': 7.96622e-12, 'Lu180': 5.98387e-12, 'Hf181': 9.45494e-13, 'Lu177': 8.43425e-13, 'Yb175': 7.67663e-13, 'Yb176m': 0.0, 'Hf178m': 0.0, 'Hf179m': 0.0}\n",
      "1 {'Cu62': 3.7427e-06, 'Co62': 6.21748e-08, 'Co62m': 2.04572e-08, 'Cu64': 6.4538e-09, 'Cu66': 5.71794e-09, 'Co60m': 3.92572e-09, 'Ni65': 2.19416e-09, 'Co61': 1.89273e-10}\n",
      "11 {'Cu62': 2.50165e-06, 'Co62m': 1.54246e-08, 'Cu64': 6.42062e-09, 'Co62': 4.66954e-09, 'Co60m': 2.69769e-09, 'Cu66': 2.64705e-09, 'Ni65': 2.1379e-09, 'Co61': 1.81911e-10}\n",
      "-1 {'Cu62': 8.01461e-08, 'Cu64': 6.1441e-09, 'Ni65': 1.71248e-09, 'Co62m': 1.38285e-09, 'Co61': 1.29625e-10, 'Co60m': 1.09499e-10, 'Co62': 1.35381e-11, 'Cu66': 3.6795e-12}\n"
     ]
    },
    {
     "name": "stdout",
     "output_type": "stream",
     "text": [
      "1 {'Cu64': 2.02338e-07, 'Ni65': 1.21635e-09, 'Co60': 1.32481e-10, 'Ni63': 6.81572e-14, 'Fe59': 4.42619e-14}\n",
      "5 {'Co60': 1.31898e-10, 'Ni63': 6.81415e-14, 'Fe59': 3.65786e-14, 'Cu64': 2.2261e-14, 'Ni65': 0.0}\n",
      "-1 {'Co60': 1.14533e-10, 'Ni63': 6.76394e-14, 'Fe59': 9.16082e-17, 'Ni65': 0.0, 'Cu64': 0.0}\n"
     ]
    },
    {
     "name": "stdout",
     "output_type": "stream",
     "text": [
      "1 {'Cu62': 3.69788e-06, 'Co62': 4.89429e-08, 'Co62m': 2.01241e-08, 'Cu64': 6.52269e-09, 'Cu66': 5.57995e-09, 'Co60m': 3.70604e-09, 'Ni65': 2.16489e-09, 'Co61': 2.19156e-10}\n",
      "10 {'Cu62': 2.26421e-06, 'Co62m': 1.4269e-08, 'Cu64': 6.48188e-09, 'Co60m': 2.34706e-09, 'Cu66': 2.18451e-09, 'Co62': 2.14941e-09, 'Ni65': 2.09748e-09, 'Co61': 2.0882e-10}\n",
      "-1 {'Cu62': 6.90175e-08, 'Cu64': 6.19877e-09, 'Ni65': 1.67472e-09, 'Co62m': 1.23539e-09, 'Co61': 1.48072e-10, 'Co60m': 9.09527e-11, 'Co62': 1.20954e-11, 'Cu66': 2.76205e-12}\n",
      "1 {'V52': 3.45212e-07, 'Al28': 1.45082e-07, 'Mn56': 5.98423e-08, 'V53': 2.45284e-08, 'Mn57': 1.24706e-08, 'V54': 6.04362e-09, 'Cr55': 5.15029e-09, 'Fe53': 5.02235e-09, 'Co62': 4.21391e-09, 'Mo91': 3.30785e-09, 'Al29': 1.91409e-09, 'Co62m': 1.16107e-09, 'Mn58': 1.10788e-09, 'Mo91m': 1.0489e-09, 'Co60m': 7.48471e-10, 'Ti51': 5.40196e-10, 'Cr49': 5.22743e-10, 'Mg27': 3.72687e-10, 'Ni57': 1.87901e-10, 'Fe61': 1.21212e-10, 'Nb98m': 7.06766e-11, 'Co61': 4.92283e-11, 'Mo101': 4.58427e-11, 'Co58m': 3.67316e-11, 'Nb97': 2.78146e-11, 'Mo99': 1.48156e-11, 'Co58': 8.1673e-12, 'Nb96': 5.45203e-12, 'Tc101': 2.77317e-12}\n",
      "11 {'V52': 1.20202e-07, 'Mn56': 5.83357e-08, 'Al28': 2.48868e-08, 'Fe53': 3.15702e-09, 'Mo91': 2.59985e-09, 'V53': 2.14091e-09, 'Cr55': 1.68705e-09, 'Al29': 1.04809e-09, 'Co62m': 8.73982e-10, 'Mn57': 7.77217e-10, 'Co60m': 5.13204e-10, 'Cr49': 4.75703e-10, 'Co62': 3.10376e-10, 'Ti51': 2.73346e-10, 'Mg27': 2.45428e-10, 'Ni57': 1.87557e-10, 'Nb98m': 6.54377e-11, 'Fe61': 6.26054e-11, 'V54': 5.19544e-11, 'Co61': 4.81e-11, 'Co58m': 3.64608e-11, 'Mo101': 3.49804e-11, 'Mn58': 2.92428e-11, 'Nb97': 2.75161e-11, 'Mo91m': 2.6768e-11, 'Mo99': 1.48012e-11, 'Co58': 8.22643e-12, 'Tc101': 6.11298e-12, 'Nb96': 5.43668e-12}\n",
      "-1 {'Mn56': 4.69717e-08, 'Mo91': 2.97796e-10, 'Cr49': 2.13485e-10, 'Ni57': 1.84656e-10, 'Co62m': 7.8227e-11, 'Fe53': 6.11073e-11, 'Co61': 3.49238e-11, 'Co58m': 3.42392e-11, 'Nb98m': 3.4011e-11, 'Co60m': 2.07868e-11, 'Nb97': 1.73721e-11, 'V52': 1.54137e-11, 'Mo99': 1.46762e-11, 'Co58': 8.71142e-12, 'Mg27': 7.05405e-12, 'Al29': 6.28153e-12, 'Nb96': 5.30795e-12, 'Tc101': 3.90291e-12, 'Mo101': 3.51477e-12, 'Ti51': 8.38038e-13, 'Fe61': 0.0, 'Mo91m': 0.0, 'Mn58': 0.0, 'Co62': 0.0, 'Cr55': 0.0, 'V54': 0.0, 'Mn57': 0.0, 'V53': 0.0, 'Al28': 0.0}\n"
     ]
    },
    {
     "name": "stdout",
     "output_type": "stream",
     "text": [
      "1 {'Mn56': 4.3623e-08, 'Ni57': 1.06349e-08, 'Co58': 1.30003e-09, 'Mo99': 1.10121e-09, 'Co58m': 8.05561e-10, 'Cr51': 2.99338e-10, 'Nb96': 2.71741e-10, 'Tc99m': 2.39097e-10, 'Mn54': 2.28324e-10, 'Co57': 1.23764e-10, 'Y89m': 5.0128e-11, 'Nb92m': 4.28239e-11, 'Mo93m': 3.56376e-11, 'Co60': 2.37055e-11, 'Zr89': 1.91482e-11, 'Fe59': 1.26394e-11, 'Nb97': 1.0753e-11, 'Zr97': 7.51494e-12, 'Nb95': 7.13888e-12, 'Fe55': 6.52621e-12, 'Nb91m': 3.89541e-12, 'Nb95m': 3.58821e-12, 'Zr95': 1.00271e-12, 'V49': 2.45696e-13}\n",
      "5 {'Co58': 1.31136e-09, 'Mn54': 2.22213e-10, 'Cr51': 2.205e-10, 'Co57': 1.23856e-10, 'Mo99': 5.05029e-11, 'Ni57': 3.69936e-11, 'Co60': 2.36015e-11, 'Nb92m': 1.85931e-11, 'Tc99m': 1.28208e-11, 'Fe59': 1.0449e-11, 'Nb95': 6.66563e-12, 'Fe55': 6.47112e-12, 'Nb91m': 3.38972e-12, 'Zr89': 1.4332e-12, 'Zr95': 8.78497e-13, 'Nb95m': 3.45908e-13, 'V49': 2.39471e-13, 'Nb96': 4.51011e-14, 'Zr97': 0.0, 'Nb97': 0.0, 'Mo93m': 0.0, 'Y89m': 0.0, 'Co58m': 0.0, 'Mn56': 0.0}\n",
      "-1 {'Mn54': 9.30302e-11, 'Co57': 4.55733e-11, 'Co58': 2.83161e-11, 'Co60': 2.04942e-11, 'Fe55': 4.92973e-12, 'V49': 1.05096e-13, 'Nb91m': 3.90895e-14, 'Nb95': 2.84524e-14, 'Fe59': 2.32492e-14, 'Zr95': 1.26018e-14, 'Cr51': 1.2103e-14, 'Nb95m': 0.0, 'Zr97': 0.0, 'Nb97': 0.0, 'Zr89': 0.0, 'Mo93m': 0.0, 'Nb92m': 0.0, 'Y89m': 0.0, 'Tc99m': 0.0, 'Nb96': 0.0, 'Co58m': 0.0, 'Mo99': 0.0, 'Ni57': 0.0, 'Mn56': 0.0}\n"
     ]
    },
    {
     "name": "stdout",
     "output_type": "stream",
     "text": [
      "1 {'V52': 3.09573e-07, 'Al28': 1.21083e-07, 'Mn56': 5.92086e-08, 'V53': 1.95228e-08, 'Mn57': 9.52756e-09, 'Fe53': 5.32169e-09, 'Cr55': 4.63705e-09, 'V54': 3.95227e-09, 'Mo91': 3.35748e-09, 'Co62': 3.33067e-09, 'Al29': 1.80405e-09, 'Co62m': 1.14838e-09, 'Mn58': 7.99533e-10, 'Mo91m': 7.99116e-10, 'Co60m': 7.09814e-10, 'Cr49': 5.49601e-10, 'Ti51': 5.12236e-10, 'Mg27': 3.59555e-10, 'Ni57': 1.94649e-10, 'Fe61': 1.16573e-10, 'Nb98m': 7.13936e-11, 'Co61': 5.00219e-11, 'Mo101': 4.60025e-11, 'Co58m': 3.56348e-11, 'Nb97': 2.90698e-11, 'Mo99': 1.48455e-11, 'Co58': 7.86307e-12, 'Nb96': 5.55544e-12, 'Tc101': 3.2764e-12}\n",
      "10 {'V52': 8.47402e-08, 'Mn56': 5.73833e-08, 'Al28': 1.38922e-08, 'Fe53': 3.00908e-09, 'Mo91': 2.48145e-09, 'Cr55': 1.17756e-09, 'V53': 9.7664e-10, 'Al29': 8.61048e-10, 'Co62m': 8.10211e-10, 'Cr49': 4.89504e-10, 'Co60m': 4.46563e-10, 'Mn57': 3.15057e-10, 'Ti51': 2.219e-10, 'Mg27': 2.15263e-10, 'Ni57': 1.94211e-10, 'Co62': 1.386e-10, 'Nb98m': 6.49506e-11, 'Fe61': 5.17872e-11, 'Co61': 4.85061e-11, 'Co58m': 3.53125e-11, 'Mo101': 3.30028e-11, 'Nb97': 2.79803e-11, 'Mo99': 1.48276e-11, 'Mn58': 9.18763e-12, 'Mo91m': 8.80932e-12, 'Co58': 7.93347e-12, 'Tc101': 6.97401e-12, 'Nb96': 5.53623e-12, 'V54': 0.0}\n",
      "-1 {'Mn56': 4.60707e-08, 'Mo91': 2.75998e-10, 'Cr49': 2.17329e-10, 'Ni57': 1.91168e-10, 'Co62m': 7.02074e-11, 'Fe53': 5.52378e-11, 'Co61': 3.49404e-11, 'Nb98m': 3.34627e-11, 'Co58m': 3.31329e-11, 'Nb97': 1.75502e-11, 'Co60m': 1.73254e-11, 'Mo99': 1.47007e-11, 'V52': 9.65698e-12, 'Co58': 8.40929e-12, 'Mg27': 5.89905e-12, 'Nb96': 5.40341e-12, 'Al29': 4.81744e-12, 'Tc101': 3.7194e-12, 'Mo101': 3.21535e-12, 'Ti51': 6.29368e-13, 'Fe61': 0.0, 'Mo91m': 0.0, 'Mn58': 0.0, 'Co62': 0.0, 'V54': 0.0, 'Cr55': 0.0, 'Mn57': 0.0, 'V53': 0.0, 'Al28': 0.0}\n",
      "1 {'Mg27': 1.14355e-06, 'Na24': 7.15579e-08, 'Al28': 4.07125e-08, 'Al26m': 2.11365e-09}\n",
      "11 {'Mg27': 7.53069e-07, 'Na24': 7.12436e-08, 'Al28': 6.98459e-09, 'Al26m': 0.0}\n",
      "-1 {'Na24': 6.86198e-08, 'Mg27': 2.14056e-08, 'Al26m': 0.0, 'Al28': 0.0}\n"
     ]
    },
    {
     "name": "stdout",
     "output_type": "stream",
     "text": [
      "1 {'Na24': 2.72551e-06, 'H3': 2.3575e-14, 'Al26': 2.33398e-15}\n",
      "4 {'Na24': 2.53526e-09, 'H3': 2.35523e-14, 'Al26': 2.33398e-15}\n",
      "-1 {'H3': 2.33976e-14, 'Al26': 2.33398e-15, 'Na24': 0.0}\n",
      "1 {'Mg27': 1.0638e-06, 'Na24': 7.04159e-08, 'Al28': 3.34036e-08}\n",
      "10 {'Mg27': 6.40009e-07, 'Na24': 7.00398e-08, 'Al28': 3.91252e-09}\n",
      "-1 {'Na24': 6.74378e-08, 'Mg27': 1.76227e-08, 'Al28': 0.0}\n"
     ]
    },
    {
     "name": "stdout",
     "output_type": "stream",
     "text": [
      "1 {'V52': 1.84398e-06, 'V53': 1.3514e-07, 'V54': 3.35223e-08, 'Ti51': 2.96101e-09, 'Cr49': 2.86043e-09, 'Cr55': 2.92719e-10, 'Cr51': 1.89819e-11}\n",
      "11 {'V52': 6.34191e-07, 'V53': 1.14607e-08, 'Cr49': 2.60016e-09, 'Ti51': 1.48641e-09, 'V54': 2.71429e-10, 'Cr55': 9.46396e-11, 'Cr51': 1.898e-11}\n",
      "-1 {'Cr49': 1.16625e-09, 'V52': 8.12381e-11, 'Cr51': 1.8964e-11, 'Ti51': 4.54206e-12, 'Cr55': 0.0, 'V54': 0.0, 'V53': 0.0}\n",
      "1 {'Cr51': 1.46275e-09, 'V49': 1.27152e-12}\n",
      "5 {'Cr51': 1.0967e-09, 'V49': 1.24115e-12}\n",
      "-1 {'Cr51': 1.05085e-11, 'V49': 8.40173e-13}\n"
     ]
    },
    {
     "name": "stdout",
     "output_type": "stream",
     "text": [
      "1 {'V52': 1.67065e-06, 'V53': 1.07568e-07, 'V54': 2.14758e-08, 'Cr49': 2.8353e-09, 'Ti51': 2.77817e-09, 'Cr55': 2.63693e-10, 'Cr51': 1.89817e-11}\n",
      "10 {'V52': 4.62991e-07, 'V53': 5.53803e-09, 'Cr49': 2.52806e-09, 'Ti51': 1.21313e-09, 'Cr55': 6.78441e-11, 'V54': 6.5681e-11, 'Cr51': 1.89794e-11}\n",
      "-1 {'Cr49': 1.12024e-09, 'V52': 5.12577e-11, 'Cr51': 1.89632e-11, 'Ti51': 3.38998e-12, 'Cr55': 0.0, 'V54': 0.0, 'V53': 0.0}\n",
      "1 {'Tc102m': 3.94253e-08, 'Ru95': 1.41224e-08, 'Tc100': 1.33762e-08, 'Tc101': 8.1693e-09, 'Tc104': 7.5737e-09, 'Mo101': 2.61937e-09, 'Tc103': 4.65846e-10, 'Tc102': 3.77563e-10, 'Tc95': 3.75134e-10, 'Ru105': 1.92175e-10, 'Tc96': 9.22368e-11, 'Ru103': 8.79549e-11, 'Tc96m': 4.59486e-11, 'Ru97': 4.44899e-11, 'Tc99m': 2.27233e-11, 'Mo93m': 1.56893e-11, 'Mo99': 9.77176e-12, 'Rh105m': 5.25428e-12, 'Rh103m': 2.1781e-13}\n",
      "11 {'Tc102m': 1.57295e-08, 'Ru95': 1.35613e-08, 'Tc101': 6.39629e-09, 'Tc104': 6.08762e-09, 'Mo101': 1.99241e-09, 'Tc95': 4.01148e-10, 'Ru105': 1.89313e-10, 'Tc96': 9.37355e-11, 'Ru103': 8.7952e-11, 'Ru97': 4.44473e-11, 'Tc96m': 4.25172e-11, 'Tc99m': 2.24977e-11, 'Mo93m': 1.55375e-11, 'Mo99': 9.76189e-12, 'Rh105m': 5.75969e-12, 'Tc103': 5.64625e-12, 'Rh103m': 6.00981e-13, 'Tc102': 0.0, 'Tc100': 0.0}\n",
      "-1 {'Ru95': 9.6438e-09, 'Tc104': 9.70306e-10, 'Tc101': 7.8925e-10, 'Tc95': 5.77904e-10, 'Mo101': 1.99712e-10, 'Ru105': 1.66876e-10, 'Tc96': 1.02456e-10, 'Ru103': 8.78998e-11, 'Ru97': 4.40911e-11, 'Tc96m': 2.21395e-11, 'Tc99m': 2.06953e-11, 'Mo93m': 1.43176e-11, 'Mo99': 9.67932e-12, 'Tc102m': 6.88307e-12, 'Rh105m': 5.07843e-12, 'Rh103m': 2.93849e-12, 'Tc102': 0.0, 'Tc103': 0.0, 'Tc100': 0.0}\n"
     ]
    },
    {
     "name": "stdout",
     "output_type": "stream",
     "text": [
      "1 {'Al28': 1.51126e-05, 'Al29': 1.99385e-07, 'Mg27': 3.88215e-08, 'Si31': 9.17248e-12}\n",
      "11 {'Al28': 2.59221e-06, 'Al29': 1.09176e-07, 'Mg27': 2.55654e-08, 'Si31': 8.94482e-12}\n",
      "-1 {'Mg27': 7.27533e-10, 'Al29': 6.4469e-10, 'Si31': 7.22053e-12, 'Al28': 0.0}\n"
     ]
    },
    {
     "name": "stdout",
     "output_type": "stream",
     "text": [
      "1 {'Hg199m': 4.95426e-08, 'N16': 3.67416e-08, 'Au202': 1.26219e-09, 'Hg197m': 3.79415e-10, 'Au204': 3.2388e-10, 'Au200': 2.69987e-10, 'Hg205': 2.05254e-10, 'Au201': 1.41218e-10, 'Au197m': 4.99027e-11, 'Hg197': 4.92469e-11, 'Hg203': 1.13237e-11, 'Pt199': 8.55704e-12, 'Pt201': 8.28567e-12, 'Hg195': 6.10917e-12, 'Hg195m': 4.51011e-12, 'Au200m': 2.39685e-12}\n",
      "11 {'Hg199m': 4.51295e-08, 'Hg197m': 3.78377e-10, 'Au200': 2.48957e-10, 'Au201': 1.21566e-10, 'Hg205': 9.64318e-11, 'Hg197': 4.93767e-11, 'Au197m': 4.78596e-11, 'Hg203': 1.1323e-11, 'Pt199': 7.56174e-12, 'Hg195': 6.08109e-12, 'Hg195m': 4.50303e-12, 'Au200m': 2.38847e-12, 'Pt201': 1.72122e-12, 'Au204': 0.0, 'Au202': 0.0, 'N16': 0.0}\n",
      "-1 {'Hg199m': 2.03136e-08, 'Hg197m': 3.69613e-10, 'Au200': 1.24427e-10, 'Hg197': 5.04617e-11, 'Au197m': 4.67393e-11, 'Au201': 3.33914e-11, 'Hg203': 1.13174e-11, 'Hg195': 5.84752e-12, 'Hg195m': 4.4429e-12, 'Pt199': 2.53957e-12, 'Au200m': 2.31797e-12, 'Pt201': 0.0, 'Hg205': 0.0, 'Au204': 0.0, 'Au202': 0.0, 'N16': 0.0}\n",
      "1 {'Dy165m': 1.56509e-08, 'N16': 1.49189e-08, 'Tb164': 5.20741e-09, 'Tb162': 3.32332e-09, 'Dy165': 3.00873e-09, 'Gd161': 1.66495e-09, 'Tb163': 9.5251e-10, 'Dy157': 2.7818e-11, 'Dy155': 1.98644e-11, 'Gd159': 3.56213e-12, 'Tb161': 8.65994e-13}\n",
      "10 {'Dy165': 3.41512e-09, 'Tb162': 2.02163e-09, 'Tb164': 1.47826e-09, 'Tb163': 7.84758e-10, 'Dy165m': 7.7705e-10, 'Gd161': 5.93126e-10, 'Dy157': 2.76036e-11, 'Dy155': 1.97385e-11, 'Gd159': 3.55002e-12, 'Tb161': 9.60371e-13, 'N16': 0.0}\n",
      "-1 {'Dy165': 2.70684e-09, 'Tb163': 1.39964e-10, 'Dy157': 2.57675e-11, 'Tb162': 2.42237e-11, 'Dy155': 1.86524e-11, 'Gd159': 3.444e-12, 'Tb161': 1.00938e-12, 'Gd161': 0.0, 'Tb164': 0.0, 'N16': 0.0, 'Dy165m': 0.0}\n"
     ]
    },
    {
     "name": "stdout",
     "output_type": "stream",
     "text": [
      "1 {'Mn56': 9.38103e-08, 'Mn57': 1.973e-08, 'Fe53': 7.89261e-09, 'Mn58': 1.75715e-09, 'Cr55': 6.34682e-10}\n",
      "11 {'Mn56': 9.14348e-08, 'Fe53': 4.94779e-09, 'Mn57': 1.20999e-09, 'Cr55': 2.06547e-10, 'Mn58': 4.542e-11}\n",
      "-1 {'Mn56': 7.3623e-08, 'Fe53': 9.58478e-11, 'Cr55': 0.0, 'Mn58': 0.0, 'Mn57': 0.0}\n",
      "1 {'Mn56': 6.33547e-08, 'Mn54': 1.83647e-10, 'Cr51': 2.56116e-11, 'Fe55': 9.94217e-12, 'Fe59': 3.44603e-13}\n",
      "5 {'Mn54': 1.78719e-10, 'Cr51': 1.8852e-11, 'Fe55': 9.85804e-12, 'Fe59': 2.84749e-13, 'Mn56': 0.0}\n",
      "-1 {'Mn54': 7.48247e-11, 'Fe55': 7.51001e-12, 'Cr51': 1.03596e-15, 'Fe59': 6.33789e-16, 'Mn56': 0.0}\n"
     ]
    },
    {
     "name": "stdout",
     "output_type": "stream",
     "text": [
      "1 {'Mn56': 9.28213e-08, 'Mn57': 1.51965e-08, 'Fe53': 8.37438e-09, 'Mn58': 1.28163e-09, 'Cr55': 5.81561e-10}\n",
      "10 {'Mn56': 9.00201e-08, 'Fe53': 4.79339e-09, 'Mn57': 5.40576e-10, 'Cr55': 1.52087e-10, 'Mn58': 1.62054e-11}\n",
      "-1 {'Mn56': 7.22789e-08, 'Fe53': 8.80539e-11, 'Cr55': 0.0, 'Mn58': 0.0, 'Mn57': 0.0}\n",
      "1 {'Ce139m': 2.1563e-06, 'N16': 9.24577e-08, 'Ba137m': 6.70609e-09, 'Ce135m': 1.09566e-09, 'La142': 3.90885e-10, 'La140': 1.9223e-10, 'Ba139': 1.50809e-10, 'La136': 4.57898e-11, 'Ce135': 4.07216e-11, 'Ce139': 2.28346e-11, 'Ce141': 1.99635e-11, 'La141': 1.1553e-11, 'Ce137m': 5.65434e-12, 'Ce137': 2.74718e-12, 'Ce143': 1.65753e-12, 'La135': 2.16566e-14}\n",
      "11 {'Ce139m': 2.96296e-08, 'Ba137m': 1.39404e-09, 'La142': 3.74058e-10, 'La140': 1.91912e-10, 'Ba139': 1.43703e-10, 'Ce135': 4.12171e-11, 'La136': 3.05056e-11, 'Ce139': 2.53979e-11, 'Ce141': 1.9962e-11, 'La141': 1.13577e-11, 'Ce137m': 5.64337e-12, 'Ce137': 2.73498e-12, 'Ce143': 1.65418e-12, 'La135': 2.83745e-14, 'Ce135m': 0.0, 'N16': 0.0}\n",
      "-1 {'La142': 2.58694e-10, 'La140': 1.89263e-10, 'Ba139': 9.58985e-11, 'Ce135': 3.99337e-11, 'Ce139': 2.54293e-11, 'Ce141': 1.99496e-11, 'La141': 9.84601e-12, 'Ce137m': 5.55226e-12, 'Ce137': 2.63561e-12, 'Ce143': 1.62638e-12, 'La136': 1.01803e-12, 'La135': 8.28613e-14, 'Ce135m': 0.0, 'Ba137m': 0.0, 'N16': 0.0, 'Ce139m': 0.0}\n"
     ]
    },
    {
     "name": "stdout",
     "output_type": "stream",
     "text": [
      "1 {'Cd111m': 4.03247e-08, 'Ag110': 1.58526e-08, 'Cd105': 8.55528e-09, 'Ag113m': 5.55352e-09, 'Ag116': 2.45607e-09, 'Ag114': 1.62407e-09, 'Ag112': 1.40449e-09, 'Ag111m': 1.38613e-09, 'Ag108': 1.07966e-09, 'Ag106': 1.04896e-09, 'Ag116m': 5.48245e-10, 'Pd107m': 5.24374e-10, 'Ag109m': 4.1391e-10, 'Pd109m': 3.58024e-10, 'Pd113': 2.84472e-10, 'Pd111': 2.49235e-10, 'Cd115': 2.37476e-10, 'Ag107m': 2.1341e-10, 'Ag113': 1.35938e-10, 'Ag105m': 1.17149e-10, 'Cd117': 4.74346e-11, 'Cd117m': 3.96844e-11, 'Cd107': 2.34807e-11, 'Cd115m': 2.10214e-11, 'Ag115': 9.59073e-12, 'Pd109': 6.90225e-12, 'Pd111m': 5.08965e-12, 'Ag106m': 5.07077e-12, 'Ag111': 3.70614e-12, 'In115m': 1.13607e-12, 'In117': 8.58659e-13, 'In117m': 2.56179e-13}\n",
      "11 {'Cd111m': 3.76549e-08, 'Cd105': 8.0558e-09, 'Ag112': 1.37974e-09, 'Ag106': 9.12737e-10, 'Ag116': 7.07283e-10, 'Ag113m': 3.19433e-10, 'Ag108': 2.68625e-10, 'Cd115': 2.37234e-10, 'Pd111': 2.16871e-10, 'Pd109m': 1.75692e-10, 'Ag113': 1.57686e-10, 'Ag107m': 7.93307e-11, 'Ag111m': 7.84353e-11, 'Ag105m': 7.38226e-11, 'Cd117': 4.63863e-11, 'Cd117m': 3.90326e-11, 'Pd113': 3.14836e-11, 'Cd107': 2.32812e-11, 'Cd115m': 2.10203e-11, 'Pd109': 8.87483e-12, 'Ag115': 8.27812e-12, 'Ag109m': 5.40567e-12, 'Ag106m': 5.06938e-12, 'Pd111m': 5.03841e-12, 'Ag111': 4.52215e-12, 'In115m': 3.0489e-12, 'In117': 2.24192e-12, 'In117m': 6.75922e-13, 'Pd107m': 0.0, 'Ag116m': 0.0, 'Ag114': 0.0, 'Ag110': 0.0}\n",
      "-1 {'Cd111m': 1.86162e-08, 'Cd105': 4.33952e-09, 'Ag112': 1.14921e-09, 'Cd115': 2.34721e-10, 'Ag106': 2.18299e-10, 'Ag113': 1.43057e-10, 'Ag107m': 7.13182e-11, 'Pd111': 5.41921e-11, 'Cd117': 3.68624e-11, 'Cd117m': 3.29203e-11, 'Cd107': 2.1325e-11, 'In115m': 2.12919e-11, 'Cd115m': 2.10091e-11, 'In117': 1.16397e-11, 'Pd109': 1.03742e-11, 'Ag106m': 5.05512e-12, 'Ag111': 4.71401e-12, 'Pd111m': 4.54055e-12, 'Ag111m': 4.12244e-12, 'In117m': 3.89234e-12, 'Ag109m': 3.18592e-12, 'Ag115': 1.48724e-12, 'Ag105m': 6.39409e-13, 'Pd109m': 1.16234e-13, 'Pd113': 0.0, 'Pd107m': 0.0, 'Ag116m': 0.0, 'Ag108': 0.0, 'Ag114': 0.0, 'Ag116': 0.0, 'Ag113m': 0.0, 'Ag110': 0.0}\n",
      "1 {'Mn56': 2.8253e-08, 'Co60m': 3.29148e-09, 'Co58m': 1.17574e-09, 'Co58': 1.63751e-10, 'Fe59': 5.36758e-11}\n",
      "11 {'Mn56': 2.75458e-08, 'Co60m': 2.26185e-09, 'Co58m': 1.16712e-09, 'Co58': 1.65636e-10, 'Fe59': 5.36726e-11}\n",
      "-1 {'Mn56': 2.21781e-08, 'Co58m': 1.09598e-09, 'Co58': 1.81198e-10, 'Co60m': 9.1506e-11, 'Fe59': 5.36444e-11}\n"
     ]
    },
    {
     "name": "stdout",
     "output_type": "stream",
     "text": [
      "1 {'Co58': 3.21835e-08, 'Co58m': 2.45655e-08, 'Mn56': 1.91844e-08, 'Fe59': 4.90611e-09, 'Co60': 5.98875e-12}\n",
      "5 {'Co58': 3.33688e-08, 'Fe59': 4.05574e-09, 'Co60': 5.96246e-12, 'Mn56': 0.0, 'Co58m': 0.0}\n",
      "-1 {'Co58': 7.20475e-10, 'Fe59': 9.023e-12, 'Co60': 5.17745e-12, 'Mn56': 0.0, 'Co58m': 0.0}\n",
      "1 {'Mn56': 2.81995e-08, 'Co60m': 3.26853e-09, 'Co58m': 1.18892e-09, 'Co58': 1.65896e-10, 'Fe59': 5.31283e-11}\n",
      "11 {'Mn56': 2.74936e-08, 'Co60m': 2.24608e-09, 'Co58m': 1.1802e-09, 'Co58': 1.67803e-10, 'Fe59': 5.31251e-11}\n",
      "-1 {'Mn56': 2.21361e-08, 'Co58m': 1.10827e-09, 'Co58': 1.83539e-10, 'Co60m': 9.08695e-11, 'Fe59': 5.30972e-11}\n"
     ]
    },
    {
     "name": "stdout",
     "output_type": "stream",
     "text": [
      "1 {'V52': 3.41484e-07, 'Al28': 8.35492e-08, 'Mn56': 6.68357e-08, 'V53': 2.43526e-08, 'Mn57': 1.40422e-08, 'V54': 6.04118e-09, 'Fe53': 5.61717e-09, 'Cr55': 5.21365e-09, 'Co62': 2.77638e-09, 'Mn58': 1.25064e-09, 'Al29': 1.09855e-09, 'Co62m': 7.59758e-10, 'Ti51': 5.33574e-10, 'Cr49': 5.1545e-10, 'Co60m': 4.89903e-10, 'Mg27': 2.13779e-10, 'Ni57': 1.22854e-10, 'Fe61': 7.94039e-11, 'Co61': 3.2188e-11, 'Co58m': 2.40163e-11, 'Co58': 5.33981e-12}\n",
      "11 {'V52': 1.17809e-07, 'Mn56': 6.51384e-08, 'Al28': 1.41119e-08, 'Fe53': 3.51657e-09, 'V53': 2.08062e-09, 'Cr55': 1.69116e-09, 'Mn57': 8.5414e-10, 'Al29': 5.98356e-10, 'Co62m': 5.70477e-10, 'Cr49': 4.68679e-10, 'Co60m': 3.34802e-10, 'Ti51': 2.68386e-10, 'Co62': 1.99909e-10, 'Mg27': 1.40267e-10, 'Ni57': 1.22627e-10, 'V54': 4.98218e-11, 'Fe61': 4.07747e-11, 'Mn58': 3.19777e-11, 'Co61': 3.14435e-11, 'Co58m': 2.38377e-11, 'Co58': 5.37881e-12}\n",
      "-1 {'Mn56': 5.24492e-08, 'Cr49': 2.10333e-10, 'Ni57': 1.2073e-10, 'Fe53': 6.80864e-11, 'Co62m': 5.10631e-11, 'Co61': 2.28285e-11, 'Co58m': 2.23852e-11, 'V52': 1.52717e-11, 'Co60m': 1.35625e-11, 'Co58': 5.69589e-12, 'Mg27': 4.03226e-12, 'Al29': 3.58932e-12, 'Ti51': 8.24086e-13, 'Fe61': 0.0, 'Mn58': 0.0, 'Co62': 0.0, 'Cr55': 0.0, 'V54': 0.0, 'Mn57': 0.0, 'V53': 0.0, 'Al28': 0.0}\n",
      "1 {'Mn56': 4.74829e-08, 'Ni57': 6.94038e-09, 'Co58': 8.50809e-10, 'Co58m': 5.22767e-10, 'Cr51': 2.97192e-10, 'Mn54': 2.41886e-10, 'Co57': 8.09228e-11, 'Co60': 1.54991e-11, 'Fe59': 8.36507e-12, 'Fe55': 7.20076e-12, 'V49': 2.42199e-13}\n",
      "5 {'Co58': 8.57356e-10, 'Mn54': 2.35412e-10, 'Cr51': 2.18919e-10, 'Co57': 8.09785e-11, 'Ni57': 2.4143e-11, 'Co60': 1.5431e-11, 'Fe55': 7.13998e-12, 'Fe59': 6.91538e-12, 'V49': 2.36063e-13, 'Co58m': 0.0, 'Mn56': 0.0}\n",
      "-1 {'Mn54': 9.8556e-11, 'Co57': 2.97964e-11, 'Co58': 1.85131e-11, 'Co60': 1.33995e-11, 'Fe55': 5.43928e-12, 'V49': 1.036e-13, 'Fe59': 1.53871e-14, 'Cr51': 1.20165e-14, 'Co58m': 0.0, 'Ni57': 0.0, 'Mn56': 0.0}\n"
     ]
    },
    {
     "name": "stdout",
     "output_type": "stream",
     "text": [
      "1 {'V52': 3.07178e-07, 'Al28': 7.00892e-08, 'Mn56': 6.61327e-08, 'V53': 1.95214e-08, 'Mn57': 1.08155e-08, 'Fe53': 5.96005e-09, 'Cr55': 4.71005e-09, 'V54': 4.0056e-09, 'Co62': 2.21133e-09, 'Al29': 1.03722e-09, 'Mn58': 9.12173e-10, 'Co62m': 7.52082e-10, 'Cr49': 5.42083e-10, 'Ti51': 5.06966e-10, 'Co60m': 4.65114e-10, 'Mg27': 2.06499e-10, 'Ni57': 1.27266e-10, 'Fe61': 7.65127e-11, 'Co61': 3.27087e-11, 'Co58m': 2.32997e-11, 'Co58': 5.1408e-12}\n",
      "10 {'V52': 8.69867e-08, 'Mn56': 6.41464e-08, 'Al28': 8.51081e-09, 'Fe53': 3.42073e-09, 'Cr55': 1.23982e-09, 'V53': 1.0563e-09, 'Co62m': 5.35481e-10, 'Al29': 5.04733e-10, 'Cr49': 4.84275e-10, 'Mn57': 3.91072e-10, 'Co60m': 2.96189e-10, 'Ti51': 2.24482e-10, 'Ni57': 1.26988e-10, 'Mg27': 1.25302e-10, 'Co62': 9.96753e-11, 'Fe61': 3.47205e-11, 'Co61': 3.17503e-11, 'Co58m': 2.30944e-11, 'V54': 1.34485e-11, 'Mn58': 1.1785e-11, 'Co58': 5.18562e-12}\n",
      "-1 {'Mn56': 5.14775e-08, 'Cr49': 2.14652e-10, 'Ni57': 1.24994e-10, 'Fe53': 6.22957e-11, 'Co62m': 4.61713e-11, 'Co61': 2.28633e-11, 'Co58m': 2.16661e-11, 'Co60m': 1.14162e-11, 'V52': 9.86756e-12, 'Co58': 5.49743e-12, 'Mg27': 3.40904e-12, 'Al29': 2.79581e-12, 'Ti51': 6.29769e-13, 'Fe61': 0.0, 'Mn58': 0.0, 'Co62': 0.0, 'V54': 0.0, 'Cr55': 0.0, 'Mn57': 0.0, 'V53': 0.0, 'Al28': 0.0}\n",
      "1 {'Re190': 2.65578e-09, 'Os192m': 6.99874e-10, 'Os191m': 5.97163e-10, 'Os189m': 4.29433e-10, 'W189': 7.5656e-11, 'Ir191m': 6.12702e-11, 'W185m': 3.74919e-11, 'Re188m': 2.69445e-11, 'Re191': 2.3879e-11, 'Os193': 1.54939e-11, 'Re190m': 1.48351e-11, 'Os191': 1.34387e-11, 'Re189': 7.4046e-12, 'Re188': 7.15575e-12, 'Os183': 4.38552e-12, 'W187': 3.32054e-12, 'Os185': 3.21157e-12, 'Os183m': 2.71664e-12, 'Re186': 1.22243e-13}\n",
      "11 {'Re190': 7.47928e-10, 'Os191m': 5.94161e-10, 'Os189m': 4.2458e-10, 'Ir191m': 6.15163e-11, 'W189': 5.36045e-11, 'Re188m': 2.17745e-11, 'Re191': 1.5871e-11, 'Os193': 1.546e-11, 'Re190m': 1.45315e-11, 'Os191': 1.34905e-11, 'Re188': 7.63402e-12, 'Re189': 7.41704e-12, 'Os183': 4.3647e-12, 'W185m': 3.48857e-12, 'W187': 3.31135e-12, 'Os185': 3.21147e-12, 'Os183m': 2.69855e-12, 'Re186': 1.22153e-13, 'Os192m': 0.0}\n",
      "-1 {'Os191m': 5.69284e-10, 'Os189m': 3.85553e-10, 'Ir191m': 6.34643e-11, 'Os193': 1.51749e-11, 'Os191': 1.39176e-11, 'Re190m': 1.21937e-11, 'Re190': 9.48276e-12, 'Re188': 9.13425e-12, 'Re189': 7.3217e-12, 'Os183': 4.19188e-12, 'Re188m': 3.5709e-12, 'W187': 3.23447e-12, 'Os185': 3.21067e-12, 'W189': 2.88214e-12, 'Os183m': 2.54991e-12, 'Re191': 4.97243e-13, 'Re186': 1.21395e-13, 'W185m': 0.0, 'Os192m': 0.0}\n"
     ]
    },
    {
     "name": "stdout",
     "output_type": "stream",
     "text": [
      "1 {'Br78': 1.79107e-06, 'Br80': 1.4768e-07, 'N16': 8.72517e-08, 'Se81': 4.76059e-09, 'Br80m': 1.74943e-09, 'As78': 1.30649e-09, 'Br82m': 1.14589e-09, 'Br79m': 1.14363e-09, 'Se79m': 9.22877e-10, 'Se81m': 2.44235e-10, 'As76': 9.49103e-11, 'Br82': 6.17312e-11}\n",
      "11 {'Br78': 9.69889e-07, 'Br80': 1.21167e-07, 'Se81': 4.11043e-09, 'Br80m': 1.72343e-09, 'As78': 1.25064e-09, 'Br82m': 5.97814e-10, 'Se79m': 3.34113e-10, 'Se81m': 2.27911e-10, 'Br82': 1.16173e-10, 'As76': 9.46715e-11, 'Br79m': 0.0, 'N16': 0.0}\n",
      "-1 {'Br80': 3.05692e-08, 'Br78': 5.35768e-09, 'Br80m': 1.518e-09, 'Se81': 1.45385e-09, 'As78': 8.63634e-10, 'Br82': 1.72908e-10, 'Se81m': 1.26806e-10, 'As76': 9.2672e-11, 'Br82m': 2.4079e-12, 'Se79m': 6.06236e-14, 'Br79m': 0.0, 'N16': 0.0}\n",
      "1 {'Se77m': 8.69976e-08, 'Se79m': 5.45792e-08, 'Se81': 3.66066e-08, 'As80': 3.56518e-08, 'As78': 6.6598e-09, 'Se81m': 5.90465e-09, 'Ge77m': 2.26524e-09, 'As82': 2.01782e-09, 'Ge75m': 1.39103e-09, 'As82m': 1.2524e-09, 'As79': 1.17279e-09, 'Se73m': 8.35613e-10, 'Se83m': 5.18525e-10, 'Se83': 4.54786e-10, 'Ge75': 4.04669e-10, 'Ge79m': 3.20778e-10, 'Se73': 2.93387e-10, 'As76': 2.22343e-10, 'Ge77': 1.99133e-10, 'Ge79': 1.83807e-10, 'As81': 1.01438e-10, 'As77': 1.96012e-11, 'Se75': 7.86405e-12, 'Br83': 2.90356e-12}\n",
      "11 {'Se81': 3.60944e-08, 'Se79m': 1.95899e-08, 'As78': 6.37187e-09, 'Se81m': 5.50555e-09, 'As79': 7.5911e-10, 'Se73m': 7.55549e-10, 'Ge75': 4.2724e-10, 'Se83': 3.80061e-10, 'Se73': 3.09242e-10, 'As76': 2.21777e-10, 'Ge77': 1.98871e-10, 'Ge77m': 2.40077e-11, 'As77': 1.97682e-11, 'Se83m': 1.67733e-11, 'Ge75m': 9.26608e-12, 'Se75': 7.86387e-12, 'Br83': 4.67456e-12, 'As81': 0.0, 'Ge79': 0.0, 'Ge79m': 0.0, 'As82m': 0.0, 'As82': 0.0, 'As80': 0.0, 'Se77m': 0.0}\n",
      "-1 {'Se81': 2.49178e-08, 'As78': 4.39676e-09, 'Se81m': 3.0595e-09, 'Se73': 3.82092e-10, 'Se73m': 3.24378e-10, 'Ge75': 2.8472e-10, 'As76': 2.17084e-10, 'Ge77': 1.8925e-10, 'Se83': 8.42268e-11, 'As77': 1.98644e-11, 'As79': 1.81224e-11, 'Br83': 8.10397e-12, 'Se75': 7.86233e-12, 'Se79m': 6.89319e-12, 'As81': 0.0, 'Ge79': 0.0, 'Ge79m': 0.0, 'Se83m': 0.0, 'As82m': 0.0, 'Ge75m': 0.0, 'As82': 0.0, 'Ge77m': 0.0, 'As80': 0.0, 'Se77m': 0.0}\n"
     ]
    },
    {
     "name": "stdout",
     "output_type": "stream",
     "text": [
      "1 {'Y89m': 2.60179e-09, 'Nb92m': 1.09936e-09, 'Nb94m': 9.40979e-10, 'Y90m': 7.36859e-10, 'Y90': 5.82384e-11}\n",
      "10 {'Nb92m': 1.09907e-09, 'Y90m': 7.22415e-10, 'Nb94m': 5.1369e-10, 'Y90': 5.91664e-11, 'Y89m': 0.0}\n",
      "-1 {'Nb92m': 1.09655e-09, 'Y90m': 6.06011e-10, 'Y90': 6.656e-11, 'Nb94m': 2.38646e-12, 'Y89m': 0.0}\n",
      "1 {'Nb92m': 9.51738e-08, 'Y90': 8.02396e-09, 'Y90m': 1.29793e-09, 'Nb93m': 5.27097e-13}\n",
      "4 {'Nb92m': 6.21217e-08, 'Y90': 1.60032e-09, 'Nb93m': 5.2671e-13, 'Y90m': 0.0}\n",
      "-1 {'Nb92m': 1.08203e-10, 'Nb93m': 5.20973e-13, 'Y90m': 0.0, 'Y90': 0.0}\n"
     ]
    },
    {
     "name": "stdout",
     "output_type": "stream",
     "text": [
      "1 {'Y89m': 1.59828e-09, 'Nb92m': 1.09935e-09, 'Nb94m': 9.2207e-10, 'Y90m': 7.3637e-10, 'Y90': 5.82699e-11}\n",
      "10 {'Nb92m': 1.09899e-09, 'Y90m': 7.18154e-10, 'Nb94m': 4.28704e-10, 'Y90': 5.94397e-11, 'Y89m': 0.0}\n",
      "-1 {'Nb92m': 1.09643e-09, 'Y90m': 6.01202e-10, 'Y90': 6.68617e-11, 'Nb94m': 1.8687e-12, 'Y89m': 0.0}\n",
      "1 {'Mo91': 1.55346e-07, 'Mo91m': 4.23205e-08, 'Zr89m': 4.29855e-09, 'Nb98m': 3.33831e-09, 'Nb97m': 2.59683e-09, 'Mo101': 2.14702e-09, 'Nb97': 1.32558e-09, 'Nb94m': 8.00758e-10, 'Mo99': 7.02133e-10, 'Nb96': 2.58358e-10, 'Tc101': 1.4068e-10, 'Mo93m': 1.38264e-10, 'Nb99m': 9.78616e-11, 'Y89m': 2.65579e-11, 'Nb92m': 2.28821e-11, 'Zr89': 1.03376e-11, 'Zr97': 8.92944e-12, 'Nb95': 3.83111e-12, 'Nb95m': 2.2276e-12, 'Nb91m': 2.06425e-12, 'Tc99m': 1.03943e-12}\n",
      "10 {'Mo91': 1.23033e-07, 'Nb98m': 3.09991e-09, 'Zr89m': 1.73154e-09, 'Mo101': 1.65522e-09, 'Nb97': 1.30368e-09, 'Mo91m': 1.24065e-09, 'Mo99': 7.01473e-10, 'Nb94m': 4.36335e-10, 'Tc101': 2.90358e-10, 'Nb96': 2.57658e-10, 'Mo93m': 1.36991e-10, 'Nb97m': 4.15224e-11, 'Y89m': 2.97906e-11, 'Nb92m': 2.28762e-11, 'Nb99m': 2.26858e-11, 'Zr89': 1.14291e-11, 'Zr97': 8.89572e-12, 'Nb95': 3.83138e-12, 'Tc99m': 2.72626e-12, 'Nb95m': 2.22598e-12, 'Nb91m': 2.08134e-12}\n",
      "-1 {'Mo91': 1.40084e-08, 'Nb98m': 1.60827e-09, 'Nb97': 8.22024e-10, 'Mo99': 6.95533e-10, 'Nb96': 2.51541e-10, 'Tc101': 1.84032e-10, 'Mo101': 1.65261e-10, 'Mo93m': 1.26218e-10, 'Y89m': 3.1637e-11, 'Nb92m': 2.28236e-11, 'Tc99m': 1.68466e-11, 'Zr89': 1.20849e-11, 'Zr97': 8.60258e-12, 'Nb97m': 7.05338e-12, 'Nb95': 3.83369e-12, 'Nb95m': 2.21161e-12, 'Nb91m': 2.08141e-12, 'Nb94m': 2.01533e-12, 'Zr89m': 5.50186e-13, 'Nb99m': 0.0, 'Mo91m': 0.0}\n"
     ]
    },
    {
     "name": "stdout",
     "output_type": "stream",
     "text": [
      "1 {'Mo99': 5.19275e-08, 'Nb96': 1.26965e-08, 'Tc99m': 1.13682e-08, 'Y89m': 2.36567e-09, 'Nb92m': 2.0268e-09, 'Mo93m': 1.60891e-09, 'Zr89': 9.03656e-10, 'Nb97': 4.98559e-10, 'Zr97': 3.49151e-10, 'Nb95': 3.38425e-10, 'Nb97m': 2.86274e-10, 'Nb91m': 1.84575e-10, 'Nb95m': 1.69406e-10, 'Zr95': 4.75115e-11, 'Zr88': 2.45696e-13, 'Y88': 2.93444e-14, 'Nb91': 1.93038e-14, 'Nb93m': 9.54857e-15, 'Mo98': 5.97032e-15}\n",
      "5 {'Mo99': 2.38205e-09, 'Nb92m': 8.80049e-10, 'Tc99m': 6.04712e-10, 'Nb95': 3.15821e-10, 'Y89m': 1.77103e-10, 'Nb91m': 1.60616e-10, 'Zr89': 6.76509e-11, 'Zr95': 4.16264e-11, 'Nb95m': 1.63345e-11, 'Nb96': 2.1088e-12, 'Zr88': 2.21867e-13, 'Y88': 1.45694e-13, 'Nb91': 2.01074e-14, 'Nb93m': 9.5412e-15, 'Mo98': 5.97032e-15, 'Zr97': 1.87478e-15, 'Nb97m': 0.0, 'Nb97': 0.0, 'Mo93m': 0.0}\n",
      "-1 {'Nb91m': 1.90563e-11, 'Nb95': 1.72038e-11, 'Zr95': 5.48151e-12, 'Y88': 4.92779e-13, 'Zr88': 4.64342e-14, 'Nb91': 2.48477e-14, 'Nb95m': 1.83479e-14, 'Nb93m': 9.42953e-15, 'Mo98': 5.97032e-15, 'Nb92m': 2.45908e-15, 'Nb97m': 0.0, 'Zr97': 0.0, 'Nb97': 0.0, 'Zr89': 0.0, 'Mo93m': 0.0, 'Y89m': 0.0, 'Tc99m': 0.0, 'Nb96': 0.0, 'Mo99': 0.0}\n"
     ]
    },
    {
     "name": "stdout",
     "output_type": "stream",
     "text": [
      "1 {'Mo91': 1.59324e-07, 'Mo91m': 3.86914e-08, 'Zr89m': 4.15228e-09, 'Nb98m': 3.38511e-09, 'Nb97m': 2.19065e-09, 'Mo101': 2.18367e-09, 'Nb97': 1.37711e-09, 'Nb94m': 7.95292e-10, 'Mo99': 7.03582e-10, 'Nb96': 2.63295e-10, 'Tc101': 1.54062e-10, 'Mo93m': 1.4431e-10, 'Nb99m': 1.02831e-10, 'Y89m': 2.72544e-11, 'Nb92m': 2.22744e-11, 'Zr89': 1.05664e-11, 'Zr97': 9.11876e-12, 'Nb95': 3.89174e-12, 'Nb95m': 2.25034e-12, 'Nb91m': 2.09048e-12, 'Tc99m': 1.11911e-12}\n",
      "10 {'Mo91': 1.18306e-07, 'Nb98m': 3.08378e-09, 'Mo101': 1.57404e-09, 'Nb97': 1.32775e-09, 'Zr89m': 1.32242e-09, 'Mo99': 7.02747e-10, 'Mo91m': 4.56207e-10, 'Nb94m': 3.70441e-10, 'Tc101': 3.28439e-10, 'Nb96': 2.62398e-10, 'Mo93m': 1.42641e-10, 'Y89m': 3.07084e-11, 'Nb92m': 2.22672e-11, 'Nb97m': 1.69095e-11, 'Nb99m': 1.63394e-11, 'Zr89': 1.1768e-11, 'Zr97': 9.07545e-12, 'Nb95': 3.89207e-12, 'Tc99m': 3.24195e-12, 'Nb95m': 2.24827e-12, 'Nb91m': 2.10639e-12}\n",
      "-1 {'Mo91': 1.32175e-08, 'Nb98m': 1.59092e-09, 'Nb97': 8.33607e-10, 'Mo99': 6.96745e-10, 'Nb96': 2.56115e-10, 'Tc101': 1.7757e-10, 'Mo101': 1.54078e-10, 'Mo93m': 1.31331e-10, 'Y89m': 3.20598e-11, 'Nb92m': 2.22155e-11, 'Tc99m': 1.74572e-11, 'Zr89': 1.22464e-11, 'Zr97': 8.77386e-12, 'Nb97m': 7.19384e-12, 'Nb95': 3.89442e-12, 'Nb95m': 2.23364e-12, 'Nb91m': 2.1061e-12, 'Nb94m': 1.63168e-12, 'Zr89m': 3.90489e-13, 'Nb99m': 0.0, 'Mo91m': 0.0}\n",
      "1 {'N16': 6.18562e-08, 'Tm168': 3.38718e-10, 'Ho166': 1.28647e-11, 'Tm170': 4.75897e-12, 'Er169': 1.5566e-12, 'Tm167': 2.64719e-13}\n",
      "11 {'Tm168': 3.38708e-10, 'Ho166': 1.28324e-11, 'Tm170': 4.75887e-12, 'Er169': 1.55614e-12, 'Tm167': 2.64639e-13, 'N16': 0.0}\n",
      "-1 {'Tm168': 3.38623e-10, 'Ho166': 1.25665e-11, 'Tm170': 4.758e-12, 'Er169': 1.55227e-12, 'Tm167': 2.63971e-13, 'N16': 0.0}\n"
     ]
    },
    {
     "name": "stdout",
     "output_type": "stream",
     "text": [
      "1 {'N16': 7.32489e-08, 'Cs136m': 1.00667e-09, 'Ba139': 9.3126e-10, 'Ba137m': 1.61618e-10, 'La140': 1.12365e-10, 'Cs136': 5.8278e-12, 'Cs135m': 4.31871e-12, 'La138': 1.44904e-13}\n",
      "11 {'Ba139': 8.87012e-10, 'La140': 1.12177e-10, 'Ba137m': 3.30412e-11, 'Cs136': 5.8423e-12, 'Cs135m': 4.00149e-12, 'La138': 1.44904e-13, 'Cs136m': 0.0, 'N16': 0.0}\n",
      "-1 {'Ba139': 5.91029e-10, 'La140': 1.10623e-10, 'Cs136': 5.83181e-12, 'Cs135m': 2.11786e-12, 'La138': 1.44904e-13, 'Ba137m': 0.0, 'Cs136m': 0.0, 'N16': 0.0}\n",
      "1 {'Y89m': 7.35364e-07, 'N16': 1.05743e-07, 'Rb86m': 8.23165e-09, 'Y88': 5.15409e-10, 'Y90m': 5.20523e-11, 'Y90': 1.25087e-11, 'Rb86': 6.71784e-12, 'Sr89': 5.34924e-12, 'Sr87m': 1.31936e-12}\n",
      "11 {'Y88': 5.15395e-10, 'Rb86m': 1.56464e-10, 'Y90m': 5.09672e-11, 'Y90': 1.25695e-11, 'Rb86': 7.12936e-12, 'Sr89': 5.34894e-12, 'Sr87m': 1.28825e-12, 'N16': 0.0, 'Y89m': 0.0}\n",
      "-1 {'Y88': 5.15282e-10, 'Y90m': 4.27507e-11, 'Y90': 1.30182e-11, 'Rb86': 7.12841e-12, 'Sr89': 5.34647e-12, 'Sr87m': 1.05563e-12, 'Rb86m': 0.0, 'N16': 0.0, 'Y89m': 0.0}\n"
     ]
    },
    {
     "name": "stdout",
     "output_type": "stream",
     "text": [
      "1 {'Y88': 4.2568e-08, 'Y90': 8.27529e-10, 'Rb86': 5.6119e-10, 'Sr89': 4.53817e-10, 'Y90m': 6.47552e-11}\n",
      "5 {'Y88': 3.94948e-08, 'Sr89': 3.87493e-10, 'Rb86': 3.65555e-10, 'Y90': 4.15891e-11, 'Y90m': 0.0}\n",
      "-1 {'Y88': 3.13035e-09, 'Sr89': 1.84872e-12, 'Rb86': 1.84691e-16, 'Y90m': 0.0, 'Y90': 0.0}\n",
      "1 {'Y89m': 1.94957e-07, 'Rb86m': 5.85382e-09, 'N16': 5.75336e-09, 'Y88': 5.15408e-10, 'Y90m': 5.19581e-11, 'Y90': 1.2514e-11, 'Rb86': 6.83924e-12, 'Sr89': 5.34921e-12, 'Sr87m': 1.31666e-12}\n",
      "10 {'Y88': 5.15391e-10, 'Rb86m': 5.21378e-11, 'Y90m': 5.06697e-11, 'Y90': 1.25862e-11, 'Rb86': 7.13439e-12, 'Sr89': 5.34886e-12, 'Sr87m': 1.27974e-12, 'N16': 0.0, 'Y89m': 0.0}"
     ]
    },
    {
     "name": "stdout",
     "output_type": "stream",
     "text": [
      "\n",
      "-1 {'Y88': 5.15277e-10, 'Y90m': 4.24177e-11, 'Y90': 1.30358e-11, 'Rb86': 7.12802e-12, 'Sr89': 5.34636e-12, 'Sr87m': 1.04632e-12, 'N16': 0.0, 'Rb86m': 0.0, 'Y89m': 0.0}\n"
     ]
    },
    {
     "name": "stdout",
     "output_type": "stream",
     "text": [
      "1 {'N16': 6.03187e-07, 'Ga68': 4.64314e-07, 'Ga70': 4.21969e-07, 'Cu66': 7.06583e-08, 'Cu68': 4.41725e-08, 'Zn71': 2.93367e-08, 'Cu68m': 6.23854e-09, 'Zn71m': 1.70524e-09, 'Zn69': 1.11563e-09, 'Ga72': 5.81343e-10, 'Zn69m': 2.76672e-10}\n",
      "11 {'Ga68': 4.41503e-07, 'Ga70': 3.59144e-07, 'Cu66': 3.62205e-08, 'Zn71': 7.29972e-09, 'Cu68': 4.74829e-09, 'Cu68m': 2.5142e-09, 'Zn71m': 1.68095e-09, 'Zn69': 1.06212e-09, 'Ga72': 5.79006e-10, 'Zn69m': 2.75534e-10, 'N16': 0.0}\n",
      "-1 {'Ga68': 2.65325e-07, 'Ga70': 7.03961e-08, 'Zn71m': 1.45408e-09, 'Zn69': 6.6719e-10, 'Ga72': 5.55902e-10, 'Zn69m': 2.6429e-10, 'Cu66': 4.22326e-11, 'Cu68m': 0.0, 'Zn71': 0.0, 'Cu68': 0.0, 'N16': 0.0}\n",
      "1 {'V52': 2.9606e-07, 'Co62': 2.3684e-08, 'V53': 2.14288e-08, 'Mn56': 7.35462e-09, 'Co62m': 6.52574e-09, 'V54': 5.27975e-09, 'Co60m': 4.20675e-09, 'Mn57': 1.53045e-09, 'Cr55': 1.36732e-09, 'Ni57': 1.05609e-09, 'Fe61': 6.81268e-10, 'Fe53': 6.16365e-10, 'Ti51': 4.71933e-10, 'Cr49': 4.56685e-10, 'Co61': 2.76686e-10, 'Co58m': 2.06449e-10, 'Mn58': 1.35963e-10, 'Co58': 4.5904e-11, 'Co57': 7.69946e-12, 'Ni65': 3.78678e-12, 'Cr51': 3.05405e-12, 'Co60': 7.53717e-13}\n",
      "11 {'V52': 1.03406e-07, 'Mn56': 7.16999e-09, 'Co62m': 4.91626e-09, 'Co60m': 2.88763e-09, 'V53': 1.88334e-09, 'Co62': 1.75707e-09, 'Ni57': 1.05416e-09, 'Cr55': 4.49345e-10, 'Cr49': 4.15705e-10, 'Fe53': 3.87969e-10, 'Fe61': 3.52552e-10, 'Co61': 2.70366e-10, 'Ti51': 2.3928e-10, 'Co58m': 2.04931e-10, 'Mn57': 9.61215e-11, 'Co58': 4.62354e-11, 'V54': 4.57151e-11, 'Co57': 7.7001e-12, 'Ni65': 3.6894e-12, 'Cr51': 3.05374e-12, 'Co60': 9.60575e-13, 'Mn58': 0.0}\n",
      "-1 {'Mn56': 5.76981e-09, 'Ni57': 1.03782e-09, 'Co62m': 4.37107e-10, 'Co61': 1.96128e-10, 'Co58m': 1.92411e-10, 'Cr49': 1.86148e-10, 'Co60m': 1.15919e-10, 'Co58': 4.89685e-11, 'V52': 1.27966e-11, 'Co57': 7.7056e-12, 'Fe53': 7.4263e-12, 'Co62': 4.27957e-12, 'Cr51': 3.05117e-12, 'Ni65': 2.95299e-12, 'Co60': 1.39521e-12, 'Fe61': 1.26509e-12, 'Ti51': 7.20908e-13, 'Mn58': 0.0, 'Cr55': 0.0, 'Mn57': 0.0, 'V54': 0.0, 'V53': 0.0}\n"
     ]
    },
    {
     "name": "stdout",
     "output_type": "stream",
     "text": [
      "1 {'Ni57': 5.9856e-08, 'Co58': 7.30137e-09, 'Mn56': 5.45938e-09, 'Co58m': 4.55309e-09, 'Co57': 6.95582e-10, 'Cr51': 2.49272e-10, 'Co60': 1.33236e-10, 'Fe59': 6.98353e-11, 'Mn54': 4.6337e-11, 'Co61': 1.45772e-11, 'Fe55': 1.85099e-12, 'Co56': 1.13415e-12, 'V49': 2.14649e-13}\n",
      "5 {'Co58': 7.36929e-09, 'Co57': 6.961e-10, 'Ni57': 2.06382e-10, 'Cr51': 1.83533e-10, 'Co60': 1.3265e-10, 'Fe59': 5.77155e-11, 'Mn54': 4.50949e-11, 'Fe55': 1.83535e-12, 'Co56': 1.01631e-12, 'V49': 2.09203e-13, 'Co61': 0.0, 'Co58m': 0.0, 'Mn56': 0.0}\n",
      "-1 {'Co57': 2.56133e-10, 'Co58': 1.59126e-10, 'Co60': 1.15186e-10, 'Mn54': 1.88791e-11, 'Fe55': 1.39818e-12, 'Fe59': 1.2842e-13, 'V49': 9.18122e-14, 'Co56': 3.02212e-14, 'Cr51': 1.00744e-14, 'Co61': 0.0, 'Co58m': 0.0, 'Mn56': 0.0, 'Ni57': 0.0}\n",
      "1 {'V52': 2.67089e-07, 'Co62': 1.90096e-08, 'V53': 1.73007e-08, 'Mn56': 7.27805e-09, 'Co62m': 6.46517e-09, 'Co60m': 3.9983e-09, 'V54': 3.55017e-09, 'Cr55': 1.23875e-09, 'Mn57': 1.1884e-09, 'Ni57': 1.09403e-09, 'Fe61': 6.57732e-10, 'Fe53': 6.54877e-10, 'Cr49': 4.80415e-10, 'Ti51': 4.49292e-10, 'Co61': 2.81176e-10, 'Co58m': 2.00293e-10, 'Mn58': 1.0023e-10, 'Co58': 4.41922e-11, 'Co57': 7.79228e-12, 'Ni65': 3.75287e-12, 'Cr51': 3.14682e-12, 'Fe59': 8.02134e-13, 'Co60': 7.66476e-13}\n",
      "10 {'V52': 7.40194e-08, 'Mn56': 7.05578e-09, 'Co62m': 4.57651e-09, 'Co60m': 2.52656e-09, 'Ni57': 1.09159e-09, 'V53': 8.90825e-10, 'Co62': 8.14304e-10, 'Cr49': 4.28355e-10, 'Fe53': 3.72308e-10, 'Cr55': 3.18714e-10, 'Fe61': 2.94462e-10, 'Co61': 2.72771e-10, 'Co58m': 1.98498e-10, 'Ti51': 1.9619e-10, 'Co58': 4.45841e-11, 'Mn57': 4.06178e-11, 'Co57': 7.79311e-12, 'Ni65': 3.63546e-12, 'Cr51': 3.14644e-12, 'Co60': 9.97265e-13, 'Fe59': 8.02074e-13, 'Mn58': 0.0, 'V54': 0.0}\n",
      "-1 {'Mn56': 5.66311e-09, 'Ni57': 1.07446e-09, 'Co62m': 3.9524e-10, 'Co61': 1.96427e-10, 'Cr49': 1.8997e-10, 'Co58m': 1.8623e-10, 'Co60m': 9.75809e-11, 'Co58': 4.72623e-11, 'V52': 8.19583e-12, 'Co57': 7.79888e-12, 'Fe53': 6.79555e-12, 'Cr51': 3.14375e-12, 'Ni65': 2.90205e-12, 'Co60': 1.37815e-12, 'Fe61': 9.87302e-13, 'Fe59': 8.01648e-13, 'Ti51': 5.51117e-13, 'Mn58': 0.0, 'Mn57': 0.0, 'Cr55': 0.0, 'V54': 0.0, 'V53': 0.0, 'Co62': 0.0}\n"
     ]
    },
    {
     "name": "stdout",
     "output_type": "stream",
     "text": [
      "1 {'N16': 6.05637e-08, 'Tm174': 3.40484e-09, 'Tm176': 1.67264e-09, 'Yb176m': 1.41723e-09, 'Yb169m': 1.0872e-09, 'Yb167': 7.31461e-10, 'Er173': 4.26122e-10, 'Yb175': 1.21495e-10, 'Tm173': 5.25479e-11, 'Yb177': 5.18673e-11, 'Tm175': 2.81003e-11, 'Er171': 1.08991e-11, 'Yb169': 9.29617e-12, 'Tm172': 6.75001e-12, 'Er169': 6.83978e-14, 'Tm167': 2.6241e-14, 'Lu177': 3.33843e-15}\n",
      "11 {'Tm174': 1.61376e-09, 'Yb167': 5.80944e-10, 'Tm176': 2.00363e-10, 'Yb175': 1.21416e-10, 'Tm173': 5.26385e-11, 'Yb177': 5.00852e-11, 'Er173': 2.39209e-11, 'Tm175': 2.15408e-11, 'Er171': 1.08021e-11, 'Yb169': 9.61123e-12, 'Tm172': 6.7429e-12, 'Yb169m': 5.64045e-12, 'Er169': 6.83775e-14, 'Tm167': 6.75548e-14, 'Lu177': 9.54482e-15, 'Yb176m': 0.0, 'N16': 0.0}\n",
      "-1 {'Yb175': 1.20746e-10, 'Yb167': 8.48057e-11, 'Tm173': 4.92014e-11, 'Yb177': 3.73386e-11, 'Er171': 1.00249e-11, 'Yb169': 9.60585e-12, 'Tm172': 6.68384e-12, 'Tm174': 3.1622e-12, 'Tm175': 2.33876e-12, 'Tm167': 2.03388e-13, 'Er169': 6.82076e-14, 'Lu177': 5.3584e-14, 'Er173': 0.0, 'Yb169m': 0.0, 'Yb176m': 0.0, 'Tm176': 0.0, 'N16': 0.0}\n",
      "1 {'Ir192m': 2.89252e-08, 'Ir190': 1.01146e-09, 'Ir194': 9.28339e-10, 'Re190': 9.21297e-10, 'Ir190m': 6.62466e-10, 'Ir192': 2.08063e-10, 'Re188m': 2.46173e-11, 'Re190m': 1.40712e-11, 'Ir193m': 1.03837e-11, 'Os193': 9.35706e-12, 'Ir191m': 9.03445e-12, 'Re188': 4.75182e-12, 'Os191m': 6.22238e-13, 'Ir189': 4.83834e-13}\n",
      "10 {'Ir192m': 1.07835e-09, 'Ir190': 1.02159e-09, 'Ir194': 9.2455e-10, 'Ir190m': 6.1738e-10, 'Ir192': 2.14909e-10, 'Re190': 2.0818e-10, 'Re188m': 1.9083e-11, 'Re190m': 1.37277e-11, 'Ir193m': 1.03805e-11, 'Os193': 9.33256e-12, 'Re188': 5.27127e-12, 'Os191m': 6.185e-13, 'Ir189': 4.83714e-13, 'Ir191m': 0.0}\n",
      "-1 {'Ir190': 1.07435e-09, 'Ir194': 8.98902e-10, 'Ir190m': 3.80199e-10, 'Ir192': 2.15109e-10, 'Re190m': 1.15819e-11, 'Ir193m': 1.03582e-11, 'Os193': 9.16578e-12, 'Re190': 8.98041e-12, 'Re188': 6.62098e-12, 'Re188m': 3.31203e-12, 'Os191m': 5.93389e-13, 'Ir189': 4.82885e-13, 'Ir191m': 0.0, 'Ir192m': 0.0}\n"
     ]
    },
    {
     "name": "stdout",
     "output_type": "stream",
     "text": [
      "1 {'N16': 1.28761e-07, 'K44': 8.34941e-09, 'Ar41': 5.55914e-10, 'K42': 1.70703e-10, 'K38': 3.0011e-11, 'Ca49': 2.42423e-11, 'Ca47': 2.2995e-11, 'K46': 1.91156e-11, 'K43': 1.27844e-11, 'K45': 6.90243e-12, 'Ar43': 2.22093e-12, 'Ar37': 3.24981e-13, 'Sc49': 2.00748e-13}\n",
      "11 {'K44': 6.95507e-09, 'Ar41': 5.35779e-10, 'K42': 1.69775e-10, 'Ca47': 2.29808e-11, 'K38': 1.76366e-11, 'Ca49': 1.52447e-11, 'K43': 1.27478e-11, 'K45': 5.66349e-12, 'Ar43': 1.0452e-12, 'Sc49': 4.56403e-13, 'Ar37': 3.24955e-13, 'K46': 0.0, 'N16': 0.0}\n",
      "-1 {'K44': 1.51686e-09, 'Ar41': 3.93961e-10, 'K42': 1.62232e-10, 'Ca47': 2.28626e-11, 'K43': 1.24312e-11, 'K45': 8.07347e-13, 'Sc49': 5.51749e-13, 'Ar37': 3.24739e-13, 'Ar43': 0.0, 'K46': 0.0, 'Ca49': 0.0, 'K38': 0.0, 'N16': 0.0}\n"
     ]
    },
    {
     "name": "stdout",
     "output_type": "stream",
     "text": [
      "1 {'K42': 5.11933e-09, 'Ca47': 1.73449e-09, 'K43': 5.25767e-10, 'Sc47': 5.48313e-11, 'Ar41': 3.94932e-11, 'Ar37': 2.80057e-11, 'Ar39': 2.28489e-13, 'Ca45': 8.24821e-14}\n",
      "3 {'Ca47': 1.06276e-09, 'Sc47': 1.53061e-10, 'K42': 6.83133e-11, 'K43': 4.75461e-11, 'Ar37': 2.62842e-11, 'Ar39': 2.28484e-13, 'Ca45': 8.13649e-14, 'Ar41': 0.0}\n",
      "-1 {'Ca47': 4.77199e-11, 'Sc47': 2.57521e-11, 'Ar37': 1.75853e-11, 'Ar39': 2.28451e-13, 'Ca45': 7.46303e-14, 'Ar41': 0.0, 'K43': 0.0, 'K42': 0.0}\n"
     ]
    },
    {
     "name": "stdout",
     "output_type": "stream",
     "text": [
      "1 {'K44': 8.22396e-09, 'N16': 7.72454e-09, 'Ar41': 5.54217e-10, 'K42': 1.70626e-10, 'K38': 2.87185e-11, 'Ca49': 2.33286e-11, 'Ca47': 2.29938e-11, 'K46': 1.5785e-11, 'K43': 1.27815e-11, 'K45': 6.91858e-12, 'Ar43': 2.0866e-12, 'Ar37': 3.24979e-13, 'Sc49': 2.279e-13}\n",
      "10 {'K44': 6.63239e-09, 'Ar41': 5.30664e-10, 'K42': 1.69534e-10, 'Ca47': 2.29771e-11, 'K38': 1.53608e-11, 'Ca49': 1.35132e-11, 'K43': 1.27381e-11, 'K45': 5.32957e-12, 'Sc49': 5.01425e-13, 'Ar37': 3.24949e-13, 'Ar43': 0.0, 'K46': 0.0, 'N16': 0.0}\n",
      "-1 {'K44': 1.4287e-09, 'Ar41': 3.89215e-10, 'K42': 1.61942e-10, 'Ca47': 2.28579e-11, 'K43': 1.24188e-11, 'K45': 7.47946e-13, 'Sc49': 5.40419e-13, 'Ar37': 3.2473e-13, 'Ar43': 0.0, 'K46': 0.0, 'Ca49': 0.0, 'K38': 0.0, 'N16': 0.0}\n",
      "1 {'Pd107m': 7.74614e-08, 'Pd109m': 4.56504e-08, 'Rh104': 3.158e-08, 'Rh106': 1.82921e-08, 'Rh108m': 1.57504e-08, 'Rh108': 9.90275e-09, 'Rh105m': 2.39263e-09, 'Rh106m': 2.37613e-09, 'Pd109': 2.18951e-09, 'Rh104m': 2.01626e-09, 'Ru107': 1.7392e-09, 'Rh110': 1.25191e-09, 'Pd111': 5.15365e-10, 'Rh107': 4.73614e-10, 'Ag109m': 4.69126e-10, 'Pd101': 2.37404e-10, 'Rh109': 1.76317e-10, 'Ru105': 1.04972e-10, 'Rh103m': 4.43923e-11, 'Rh105': 3.62972e-11, 'Ag111m': 2.99128e-11, 'Pd103': 3.41054e-12, 'Pd111m': 3.29085e-12, 'Rh101m': 9.71069e-13}\n",
      "11 {'Pd109m': 1.9806e-08, 'Rh108m': 8.20014e-09, 'Rh104': 7.42162e-09, 'Pd109': 2.46263e-09, 'Rh106m': 2.30666e-09, 'Rh104m': 8.17809e-10, 'Ru107': 6.12063e-10, 'Ag109m': 5.91197e-10, 'Rh107': 4.86751e-10, 'Pd111': 4.36525e-10, 'Pd101': 2.35582e-10, 'Ru105': 1.0344e-10, 'Rh103m': 4.18212e-11, 'Rh105': 3.76258e-11, 'Ag111m': 3.23743e-11, 'Rh105m': 9.86089e-12, 'Rh109': 9.34713e-12, 'Rh106': 7.23423e-12, 'Pd103': 3.41e-12, 'Pd111m': 3.25203e-12, 'Pd107m': 1.192e-12, 'Rh101m': 1.09612e-12, 'Rh110': 0.0, 'Rh108': 0.0}\n",
      "-1 {'Pd109': 2.57424e-09, 'Rh106m': 1.78883e-09, 'Ag109m': 6.27223e-10, 'Pd101': 2.20528e-10, 'Rh107': 1.17838e-10, 'Pd111': 1.06711e-10, 'Ru105': 9.11967e-11, 'Rh105': 3.73356e-11, 'Rh108m': 3.05261e-11, 'Rh103m': 2.58078e-11, 'Pd109m': 1.54533e-11, 'Ag111m': 8.00868e-12, 'Pd103': 3.40532e-12, 'Rh104': 3.22812e-12, 'Pd111m': 2.93757e-12, 'Rh105m': 2.77532e-12, 'Rh101m': 2.12576e-12, 'Rh104m': 3.58219e-13, 'Rh109': 0.0, 'Rh110': 0.0, 'Ru107': 0.0, 'Rh108': 0.0, 'Rh106': 0.0, 'Pd107m': 0.0}\n"
     ]
    },
    {
     "name": "stdout",
     "output_type": "stream",
     "text": [
      "1 {'Nd141m': 4.72168e-07, 'N16': 7.09043e-08, 'Nd149': 1.52171e-08, 'Nd141': 4.69381e-09, 'Pr144': 2.88734e-09, 'Ce139m': 2.27324e-09, 'Pr146': 1.41819e-09, 'Pr148': 9.97808e-10, 'Nd151': 8.77413e-10, 'Ce145': 5.60451e-10, 'Pr148m': 2.26648e-10, 'Ce147': 2.19006e-10, 'Pr147': 9.68886e-11, 'Pr144m': 9.66781e-11, 'Nd147': 4.83032e-11, 'Pr145': 3.35116e-11, 'Pr149': 1.99821e-11, 'Pr142': 1.7108e-11, 'Pr142m': 1.51192e-11, 'Pm149': 4.48408e-12, 'Ce143': 3.64347e-12, 'Pm151': 5.13806e-13}\n",
      "11 {'Nd149': 1.46368e-08, 'Nd141m': 9.54098e-09, 'Nd141': 4.95868e-09, 'Pr144': 2.59197e-09, 'Pr146': 1.20131e-09, 'Nd151': 6.34525e-10, 'Pr148': 1.71563e-10, 'Ce145': 1.42883e-10, 'Pr147': 8.52076e-11, 'Pr144m': 5.38966e-11, 'Nd147': 4.8297e-11, 'Pr145': 3.48264e-11, 'Pr148m': 3.07982e-11, 'Ce139m': 3.0474e-11, 'Pr142': 2.79631e-11, 'Pm149': 1.26622e-11, 'Pr142m': 1.14709e-11, 'Ce143': 3.63606e-12, 'Pr149': 3.35635e-12, 'Ce147': 3.14275e-12, 'Pm151': 1.28227e-12, 'N16': 0.0}\n",
      "-1 {'Nd149': 1.05847e-08, 'Nd141': 3.96523e-09, 'Pr144': 4.69031e-10, 'Pr146': 3.00137e-10, 'Pm149': 6.93861e-11, 'Pr142': 5.74907e-11, 'Nd147': 4.82116e-11, 'Nd151': 4.25791e-11, 'Pr145': 3.22489e-11, 'Pr147': 7.22147e-12, 'Ce143': 3.57494e-12, 'Pm151': 3.10959e-12, 'Pr142m': 1.14798e-12, 'Pr144m': 4.12702e-13, 'Pr149': 0.0, 'Ce147': 0.0, 'Pr148m': 0.0, 'Ce145': 0.0, 'Pr148': 0.0, 'Ce139m': 0.0, 'N16': 0.0, 'Nd141m': 0.0}\n",
      "1 {'In116m': 6.00743e-06, 'In114': 1.16973e-06, 'In116': 1.05469e-06, 'In112': 1.48534e-08, 'In112m': 1.00779e-08, 'In115m': 2.93443e-09, 'Ag112': 1.05918e-09}\n",
      "11 {'In116m': 5.58335e-06, 'In114': 4.20164e-08, 'In112': 1.87363e-08, 'In112m': 8.3082e-09, 'In115m': 2.89127e-09, 'Ag112': 1.03687e-09, 'In116': 0.0}\n",
      "-1 {'In116m': 3.01199e-06, 'In112': 1.12229e-08, 'In115m': 2.55179e-09, 'In112m': 1.63117e-09, 'Ag112': 8.66557e-10, 'In114': 3.9574e-10, 'In116': 0.0}\n"
     ]
    },
    {
     "name": "stdout",
     "output_type": "stream",
     "text": [
      "1 {'N16': 6.24067e-08, 'Ho168': 2.92535e-09, 'Ho170': 1.28156e-09, 'Er165': 8.03779e-10, 'Dy167': 3.81452e-10, 'Er161': 3.51306e-10, 'Er163': 3.50755e-10, 'Ho170m': 1.26244e-10, 'Ho168m': 7.25121e-11, 'Ho167': 6.02069e-11, 'Ho169': 5.73592e-11, 'Er171': 5.69836e-11, 'Dy165m': 5.04213e-11, 'Er169': 3.70903e-11, 'Dy165': 2.85637e-11, 'Ho166': 8.71535e-12, 'Ho164': 2.56194e-12, 'Ho162': 2.21753e-12, 'Ho162m': 1.47679e-12, 'Ho164m': 7.31533e-13, 'Ho161': 3.41724e-13}\n",
      "11 {'Ho168': 1.26363e-09, 'Er165': 7.98656e-10, 'Er161': 3.44134e-10, 'Er163': 3.32653e-10, 'Ho170': 3.06779e-10, 'Dy167': 2.00937e-10, 'Ho167': 6.17862e-11, 'Er171': 5.64836e-11, 'Er169': 3.70805e-11, 'Dy165': 2.93417e-11, 'Ho169': 2.3245e-11, 'Ho168m': 1.19056e-11, 'Ho166': 8.69389e-12, 'Ho164': 2.36613e-12, 'Dy165m': 2.13823e-12, 'Ho162': 1.72934e-12, 'Ho162m': 1.39174e-12, 'Ho161': 8.74755e-13, 'Ho164m': 6.58161e-13, 'Ho170m': 0.0, 'N16': 0.0}\n",
      "-1 {'Er165': 7.56638e-10, 'Er161': 2.89069e-10, 'Er163': 2.12549e-10, 'Ho167': 5.43351e-11, 'Er171': 5.24287e-11, 'Er169': 3.69893e-11, 'Dy165': 2.31401e-11, 'Ho166': 8.51461e-12, 'Ho161': 4.46101e-12, 'Ho164': 1.14964e-12, 'Dy167': 9.21127e-13, 'Ho162m': 8.42944e-13, 'Ho162': 3.10265e-13, 'Ho164m': 2.69346e-13, 'Dy165m': 0.0, 'Ho169': 0.0, 'Ho168m': 0.0, 'Ho170m': 0.0, 'Ho170': 0.0, 'Ho168': 0.0, 'N16': 0.0}\n",
      "1 {'Zr89m': 2.68926e-07, 'Y89m': 3.10039e-08, 'Y94': 8.26591e-09, 'Y90m': 1.15026e-09, 'Y92': 1.11265e-09, 'Y91m': 1.04081e-09, 'Zr89': 9.59598e-10, 'Sr93': 4.18027e-10, 'Y90': 1.46901e-10, 'Sr87m': 1.44709e-10, 'Sr91': 9.30423e-11, 'Y93': 2.71762e-11, 'Y95': 2.0695e-11, 'Zr95': 1.46774e-11, 'Zr97': 4.20944e-12, 'Nb97m': 2.90891e-12, 'Nb97': 1.08437e-13}\n",
      "11 {'Zr89m': 1.04217e-07, 'Y94': 6.68751e-09, 'Y89m': 2.68698e-09, 'Y90m': 1.12669e-09, 'Y92': 1.09209e-09, 'Zr89': 1.02936e-09, 'Y91m': 9.62781e-10, 'Sr93': 2.45117e-10, 'Y90': 1.48357e-10, 'Sr87m': 1.41354e-10, 'Sr91': 9.24064e-11, 'Y93': 2.78818e-11, 'Zr95': 1.4677e-11, 'Y95': 1.40861e-11, 'Zr97': 4.19287e-12, 'Nb97m': 3.43181e-12, 'Nb97': 3.88731e-13}\n",
      "-1 {'Y89m': 2.79172e-09, 'Y94': 1.10658e-09, 'Zr89': 1.0664e-09, 'Y90m': 9.45088e-10, 'Y92': 9.32169e-10, 'Y91m': 4.9995e-10, 'Y90': 1.59402e-10, 'Sr87m': 1.15835e-10, 'Sr91': 8.718e-11, 'Zr89m': 3.33202e-11, 'Y93': 2.75752e-11, 'Zr95': 1.46721e-11, 'Zr97': 4.05479e-12, 'Nb97m': 3.32458e-12, 'Sr93': 2.63734e-12, 'Nb97': 2.26437e-12, 'Y95': 5.37456e-13}\n"
     ]
    },
    {
     "name": "stdout",
     "output_type": "stream",
     "text": [
      "1 {'Y89m': 2.0521e-07, 'Zr89': 7.83876e-08, 'Y90': 1.69535e-08, 'Y92': 2.91698e-09, 'Sr91': 2.22016e-09, 'Y90m': 2.10962e-09, 'Zr95': 1.32127e-09, 'Y91m': 5.85108e-10, 'Y93': 5.63997e-10, 'Nb97': 1.58813e-10, 'Sr87m': 1.56402e-10, 'Zr97': 1.12031e-10, 'Y91': 1.10751e-10, 'Nb97m': 9.18557e-11, 'Sr89': 4.38977e-11, 'Nb95': 1.88267e-11, 'Nb95m': 5.74733e-13, 'Sr90': 8.10292e-15}\n",
      "5 {'Y89m': 1.52007e-08, 'Zr89': 5.80645e-09, 'Zr95': 1.15698e-09, 'Y90': 7.05487e-10, 'Nb95': 2.66329e-10, 'Y91': 1.02063e-10, 'Sr89': 3.71044e-11, 'Nb95m': 3.50801e-12, 'Sr90': 8.09637e-15, 'Nb97m': 0.0, 'Zr97': 0.0, 'Sr87m': 0.0, 'Nb97': 0.0, 'Y93': 0.0, 'Y91m': 0.0, 'Y90m': 0.0, 'Sr91': 0.0, 'Y92': 0.0}\n",
      "-1 {'Nb95': 3.3802e-11, 'Zr95': 1.65979e-11, 'Y91': 9.80923e-13, 'Sr89': 1.71977e-13, 'Nb95m': 5.55571e-14, 'Y90': 4.23388e-14, 'Sr90': 7.8898e-15, 'Nb97m': 0.0, 'Zr97': 0.0, 'Sr87m': 0.0, 'Nb97': 0.0, 'Y93': 0.0, 'Y91m': 0.0, 'Y90m': 0.0, 'Sr91': 0.0, 'Y92': 0.0, 'Zr89': 0.0, 'Y89m': 0.0}\n"
     ]
    },
    {
     "name": "stdout",
     "output_type": "stream",
     "text": [
      "1 {'Zr89m': 2.50297e-07, 'Y94': 8.20548e-09, 'Y89m': 6.39044e-09, 'Y90m': 1.15742e-09, 'Y92': 1.13016e-09, 'Y91m': 1.05228e-09, 'Zr89': 1.00025e-09, 'Sr93': 4.12422e-10, 'Sr87m': 1.4779e-10, 'Y90': 1.46386e-10, 'Sr91': 9.42933e-11, 'Y93': 3.18134e-11, 'Y95': 2.51531e-11, 'Zr95': 1.46682e-11, 'Zr97': 4.31997e-12, 'Nb97m': 3.24181e-12, 'Y91': 4.15784e-13, 'Nb97': 1.48419e-13}\n",
      "10 {'Zr89m': 7.90575e-08, 'Y94': 6.34196e-09, 'Y89m': 2.80199e-09, 'Y90m': 1.12865e-09, 'Y92': 1.10482e-09, 'Zr89': 1.07258e-09, 'Y91m': 9.57178e-10, 'Sr93': 2.15523e-10, 'Y90': 1.48164e-10, 'Sr87m': 1.43636e-10, 'Sr91': 9.35104e-11, 'Y93': 3.25662e-11, 'Y95': 1.57569e-11, 'Zr95': 1.46678e-11, 'Zr97': 4.2993e-12, 'Nb97m': 3.52381e-12, 'Nb97': 5.00111e-13, 'Y91': 4.79801e-13}\n",
      "-1 {'Y89m': 2.8758e-09, 'Zr89': 1.09852e-09, 'Y94': 1.02823e-09, 'Y90m': 9.44848e-10, 'Y92': 9.4136e-10, 'Y91m': 4.93593e-10, 'Y90': 1.59346e-10, 'Sr87m': 1.17439e-10, 'Sr91': 8.81633e-11, 'Y93': 3.18458e-11, 'Zr89m': 2.3116e-11, 'Zr95': 1.4663e-11, 'Zr97': 4.15615e-12, 'Nb97m': 3.40768e-12, 'Nb97': 2.40184e-12, 'Sr93': 2.20336e-12, 'Y91': 7.96439e-13, 'Y95': 5.794e-13}\n",
      "1 {'N16': 7.44964e-08, 'Tb158m': 1.52016e-08, 'Gd159': 3.59563e-11, 'Tb160': 1.89747e-11, 'Eu156': 2.32359e-12, 'Tb158': 3.39989e-13}\n",
      "11 {'Gd159': 3.58265e-11, 'Tb160': 1.89739e-11, 'Eu156': 2.32317e-12, 'Tb158': 3.40231e-13, 'Tb158m': 0.0, 'N16': 0.0}\n",
      "-1 {'Gd159': 3.47558e-11, 'Tb160': 1.89678e-11, 'Eu156': 2.3196e-12, 'Tb158': 3.40231e-13, 'Tb158m': 0.0, 'N16': 0.0}\n"
     ]
    },
    {
     "name": "stdout",
     "output_type": "stream",
     "text": [
      "1 {'Sc50': 5.25902e-08, 'Sc46m': 4.51329e-09, 'Sc48': 4.28504e-09, 'Sc49': 2.16438e-09, 'Ti45': 1.94007e-09, 'Ti51': 4.02114e-10, 'Sc47': 7.49254e-11, 'Sc46': 2.96222e-11, 'Ca47': 5.13477e-12}\n",
      "11 {'Sc50': 5.20803e-09, 'Sc48': 4.27858e-09, 'Sc49': 2.01992e-09, 'Ti45': 1.89903e-09, 'Ti51': 2.03475e-10, 'Sc47': 7.48649e-11, 'Sc46': 2.97956e-11, 'Ca47': 5.13166e-12, 'Sc46m': 0.0}\n",
      "-1 {'Sc48': 4.22402e-09, 'Ti45': 1.58307e-09, 'Sc49': 1.12203e-09, 'Sc47': 7.43518e-11, 'Sc46': 2.97872e-11, 'Ca47': 5.10532e-12, 'Ti51': 6.3243e-13, 'Sc46m': 0.0, 'Sc50': 0.0}\n",
      "1 {'Sc48': 2.8934e-07, 'Sc47': 4.96655e-09, 'Sc46': 2.64665e-09, 'Ti45': 1.85665e-09, 'Ca47': 3.8148e-10, 'Ca45': 5.71372e-11}\n",
      "5 {'Sc48': 2.75999e-09, 'Sc46': 2.39231e-09, 'Sc47': 4.1818e-10, 'Ca47': 5.90632e-11, 'Ca45': 5.42456e-11, 'Ti45': 0.0}\n",
      "-1 {'Sc46': 9.491e-11, 'Ca45': 1.03262e-11, 'Ca47': 0.0, 'Ti45': 0.0, 'Sc47': 0.0, 'Sc48': 0.0}\n"
     ]
    },
    {
     "name": "stdout",
     "output_type": "stream",
     "text": [
      "1 {'Sc50': 4.26444e-08, 'Sc48': 4.28445e-09, 'Sc49': 2.15087e-09, 'Ti45': 1.93631e-09, 'Sc46m': 1.42977e-09, 'Ti51': 3.78036e-10, 'Sc47': 7.49199e-11, 'Sc46': 2.97412e-11, 'Ca47': 5.13449e-12}\n",
      "10 {'Sc48': 4.27662e-09, 'Sc50': 2.57915e-09, 'Sc49': 1.97794e-09, 'Ti45': 1.88672e-09, 'Ti51': 1.65405e-10, 'Sc47': 7.48465e-11, 'Sc46': 2.97953e-11, 'Ca47': 5.13072e-12, 'Sc46m': 0.0}\n",
      "-1 {'Sc48': 4.22141e-09, 'Ti45': 1.56928e-09, 'Sc49': 1.09075e-09, 'Sc47': 7.43272e-11, 'Sc46': 2.97868e-11, 'Ca47': 5.10406e-12, 'Ti51': 4.78864e-13, 'Sc46m': 0.0, 'Sc50': 0.0}\n",
      "1 {'N16': 3.61432e-08, 'I128': 1.71788e-08, 'Sb124m': 1.9346e-09, 'I126': 7.04029e-10, 'Te127': 3.63613e-11, 'Sb124n': 2.16576e-11, 'Sb124': 1.02653e-12}\n",
      "11 {'I128': 1.46328e-08, 'I126': 7.03878e-10, 'Sb124m': 5.14729e-10, 'Te127': 3.61043e-11, 'Sb124n': 1.77593e-11, 'Sb124': 1.16176e-12, 'N16': 0.0}\n",
      "-1 {'I128': 3.80096e-09, 'I126': 7.02611e-10, 'Sb124m': 7.66799e-11, 'Te127': 3.40153e-11, 'Sb124n': 3.35096e-12, 'Sb124': 1.40027e-12, 'N16': 0.0}\n"
     ]
    },
    {
     "name": "stdout",
     "output_type": "stream",
     "text": [
      "1 {'N16': 9.97167e-08, 'Te129': 3.60915e-08, 'Sb130m': 3.62218e-09, 'Sb128m': 2.98078e-09, 'Sb126m': 1.78809e-09, 'Te127': 1.60342e-09, 'Sn127m': 6.00892e-10, 'Sb124m': 4.66476e-10, 'Sn125m': 4.57015e-10, 'Sb130': 3.82023e-10, 'Te131': 2.51191e-10, 'Sn127': 7.17795e-11, 'Sb128': 6.8597e-11, 'Te129m': 5.14894e-11, 'Sn123m': 4.51811e-11, 'Sb122m': 3.46628e-11, 'Sb120': 3.00509e-11, 'Te119': 8.90218e-12, 'Te121': 8.47821e-12, 'Te125m': 7.68053e-12, 'Sb129': 7.42897e-12, 'Te127m': 4.2326e-12, 'Te131m': 3.39928e-12, 'Te119m': 3.01396e-12}\n",
      "11 {'Te129': 3.40865e-08, 'Sb128m': 2.03186e-09, 'Sb130m': 1.92408e-09, 'Te127': 1.59214e-09, 'Sb126m': 1.45667e-09, 'Sb130': 3.45357e-10, 'Sn125m': 3.00817e-10, 'Sn127m': 2.2893e-10, 'Te131': 2.14249e-10, 'Sb124m': 8.8571e-11, 'Sn127': 6.95446e-11, 'Sb128': 6.89098e-11, 'Te129m': 5.14852e-11, 'Sn123m': 4.09024e-11, 'Sb120': 2.3388e-11, 'Sb122m': 1.33897e-11, 'Te119': 8.86541e-12, 'Te121': 8.47711e-12, 'Te125m': 7.68016e-12, 'Sb129': 7.3174e-12, 'Te127m': 4.23249e-12, 'Te131m': 3.39176e-12, 'Te119m': 3.01218e-12, 'N16': 0.0}\n",
      "-1 {'Te129': 2.1037e-08, 'Te127': 1.49998e-09, 'Sb126m': 2.4985e-10, 'Sb130': 1.47237e-10, 'Sb128m': 7.97887e-11, 'Sb128': 6.636e-11, 'Te131': 5.60827e-11, 'Sn127': 5.32343e-11, 'Te129m': 5.14495e-11, 'Sn123m': 1.7647e-11, 'Sb124m': 1.10034e-11, 'Sb130m': 9.22822e-12, 'Sn125m': 8.79224e-12, 'Te119': 8.56075e-12, 'Te121': 8.46785e-12, 'Te125m': 7.67703e-12, 'Sb129': 6.43591e-12, 'Te127m': 4.23159e-12, 'Te131m': 3.3289e-12, 'Te119m': 2.99723e-12, 'Sb120': 2.81341e-12, 'Sb122m': 0.0, 'Sn127m': 0.0, 'N16': 0.0}\n",
      "1 {'S37': 1.61435e-07, 'P34': 5.60299e-08, 'Cl34m': 3.59943e-08, 'Cl34': 2.19507e-08, 'Cl38': 6.46658e-10, 'P32': 2.30431e-10, 'Si31': 7.98452e-11}\n",
      "11 {'S37': 7.31372e-08, 'Cl34m': 3.18259e-08, 'Cl34': 1.94096e-08, 'Cl38': 5.81499e-10, 'P32': 2.30387e-10, 'Si31': 7.78634e-11, 'P34': 0.0}\n",
      "-1 {'Cl34m': 1.11554e-08, 'Cl34': 6.80331e-09, 'Cl38': 2.35328e-10, 'P32': 2.3001e-10, 'S37': 8.62314e-11, 'Si31': 6.28583e-11, 'P34': 0.0}\n"
     ]
    }
   ],
   "source": [
    "for k,l in openmc_result_dict.items():\n",
    "    for exp in l:\n",
    "        fispact = fispact_result_dict[k][exp] # results in watts per gram\n",
    "        t_fispact = np.array(fispact['time']) * 365.25 * 60 * 24 # minutes\n",
    "        fispact_microwatt_gram = np.array(fispact['Total']) * 1e6\n",
    "        fispact_uncert = np.array(fispact['uncert'])  * 1e6\n",
    "\n",
    "        # openmc \n",
    "        t_openmc = openmc_result_dict[k][exp]['mass']['meta_time_d']\n",
    "        # t_openmc = np.diff(t_openmc)\n",
    "        decay_indx = 1\n",
    "        t0 = t_openmc[decay_indx]\n",
    "        t_openmc = t_openmc[decay_indx:] - t0\n",
    "        openmc = openmc_result_dict[k][exp]['decay_heat']['meta_total']\n",
    "        mass = openmc_result_dict[k][exp]['mass']['meta_total']\n",
    "        openmc = np.array(openmc) / np.array(mass)\n",
    "        openmc = openmc[decay_indx:] * 1e6 # watts to microwatts\n",
    "        # days to minutes\n",
    "        t_openmc = t_openmc * (60*24)\n",
    "        # add on 0\n",
    "        plt.plot(t_openmc, openmc, label='OPENMC', marker='x', alpha=0.5)\n",
    "\n",
    "        measured = exp_data_dict['data'][k][exp]\n",
    "        t_measured = exp_data_dict['minutes'][k][exp]\n",
    "        unc_measured = exp_data_dict['unc'][k][exp]\n",
    "        # add irradiation time to t_measured\n",
    "        t_measured = np.array(t_measured)\n",
    "\n",
    "        for index,sorted_dict in fispact_imp_nuclides[k][exp].items():\n",
    "            print(index, sorted_dict)\n",
    "\n",
    "        if 'hour' not in exp:\n",
    "            t_measured = t_measured / (60*24)\n",
    "        # plt.errorbar(t_measured, measured, unc_measured, label='Measured', linestyle='--', marker='x')\n",
    "        plt.fill_between(t_measured, measured-(3*unc_measured), measured+(3*unc_measured),\n",
    "                         alpha=0.4, label='Measured')\n",
    "        plt.errorbar(t_fispact, fispact_microwatt_gram, fispact_uncert, label='FISPACT', marker='o', alpha=0.5)\n",
    "        # plt.plot(t_origen, origen, label='ORIGEN', marker='1', alpha=0.5)\n",
    "        plt.yscale('log')\n",
    "        plt.xlabel('Minutes')\n",
    "        plt.ylabel(r'Specific heat [$\\frac{\\mu W}{g}$]')\n",
    "        plt.legend()\n",
    "        plt.grid()\n",
    "        plt.title(k + ' (%s)' %(exp))\n",
    "        plt.savefig(Path('docs') / f'{k}_{exp}.png')\n",
    "        plt.close()"
   ]
  },
  {
   "cell_type": "code",
   "execution_count": null,
   "metadata": {},
   "outputs": [],
   "source": []
  }
 ],
 "metadata": {
  "kernelspec": {
   "display_name": ".neutronicsworkshop",
   "language": "python",
   "name": "python3"
  },
  "language_info": {
   "codemirror_mode": {
    "name": "ipython",
    "version": 3
   },
   "file_extension": ".py",
   "mimetype": "text/x-python",
   "name": "python",
   "nbconvert_exporter": "python",
   "pygments_lexer": "ipython3",
   "version": "3.12.0"
  }
 },
 "nbformat": 4,
 "nbformat_minor": 4
}
