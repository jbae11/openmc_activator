{
 "cells": [
  {
   "cell_type": "markdown",
   "metadata": {},
   "source": [
    "# Simulate depletion\n",
    "\n",
    "This notebook process the CoNDERC data that contains both experimental and simulation.\n",
    "\n",
    "Running this notebook also performs OpenMC depletion simulations for every experiment.\n",
    "\n",
    "This can take over an hour on a typical laptop but is needed for production of all the results."
   ]
  },
  {
   "cell_type": "code",
   "execution_count": 1,
   "metadata": {},
   "outputs": [
    {
     "data": {
      "text/html": [
       "        <script type=\"text/javascript\">\n",
       "        window.PlotlyConfig = {MathJaxConfig: 'local'};\n",
       "        if (window.MathJax && window.MathJax.Hub && window.MathJax.Hub.Config) {window.MathJax.Hub.Config({SVG: {font: \"STIX-Web\"}});}\n",
       "        </script>\n",
       "        <script type=\"module\">import \"https://cdn.plot.ly/plotly-3.0.1.min\"</script>\n",
       "        "
      ]
     },
     "metadata": {},
     "output_type": "display_data"
    }
   ],
   "source": [
    "import copy\n",
    "import shutil\n",
    "\n",
    "from pathlib import Path\n",
    "\n",
    "import numpy as np\n",
    "import matplotlib.pyplot as plt\n",
    "\n",
    "from urllib.request import urlopen, Request\n",
    "from zipfile import ZipFile\n",
    "\n",
    "import openmc\n",
    "import pypact as pp  # needs latest version which can be installed with pip install git+https://github.com/fispact/pypact\n",
    "\n",
    "# allows notebook rendering of plotly plots in the HTML made by jupyter-book\n",
    "import plotly.graph_objects as go\n",
    "import plotly.offline as pyo\n",
    "pyo.init_notebook_mode(connected=True)\n",
    "\n",
    "from openmc_activator import OpenmcActivator, write_markdown_file"
   ]
  },
  {
   "cell_type": "markdown",
   "metadata": {},
   "source": [
    "This downloads and extracts the CoNDERC data. This contains the FNS experimental data and FISPACT inputs and outputs."
   ]
  },
  {
   "cell_type": "code",
   "execution_count": 2,
   "metadata": {},
   "outputs": [],
   "source": [
    "# download zip file\n",
    "conderc_url = 'https://nds.iaea.org/conderc/fusion/files/fns.zip'\n",
    "p = Request(conderc_url, headers={'User-Agent': 'Mozilla/5.0'})\n",
    "with urlopen(p) as response, open('fns.zip', 'wb') as out_file:\n",
    "    shutil.copyfileobj(response, out_file)\n",
    "\n",
    "# unzip\n",
    "with ZipFile('fns.zip', 'r') as f:\n",
    "    f.extractall('.')"
   ]
  },
  {
   "cell_type": "markdown",
   "metadata": {},
   "source": [
    "Read all the experiments from unzipped fns folder."
   ]
  },
  {
   "cell_type": "code",
   "execution_count": 3,
   "metadata": {},
   "outputs": [],
   "source": [
    "here = Path('./fns')\n",
    "assert(here.exists()), 'fns folder does not seem to exist. Run `download_fns_fusion_decay.py` first to download and unzip FNS benchmark files.'\n",
    "experiments = {}\n",
    "files = [q for q in here.glob('*') if q.is_dir()]\n",
    "for f in files:\n",
    "    if '_' in f.name: continue\n",
    "    l = list(f.glob('*fluxes*'))\n",
    "    experiments[f.name] = []\n",
    "    for name in l:\n",
    "        x = name.name.replace('_fluxes', '')\n",
    "        experiments[f.name].append(x)"
   ]
  },
  {
   "cell_type": "markdown",
   "metadata": {},
   "source": [
    "Reads the Fispact fluxes file that contains the neutron spectra"
   ]
  },
  {
   "cell_type": "code",
   "execution_count": 4,
   "metadata": {},
   "outputs": [],
   "source": [
    "# read flux data\n",
    "flux_dict = {}\n",
    "for k,l in experiments.items():\n",
    "    flux_dict[k] = {}\n",
    "    for exp in l:\n",
    "        ff = pp.FluxesFile()\n",
    "        pp.from_file(ff, here / k / (exp+'_fluxes'))\n",
    "        assert(len(ff.values) == 709)\n",
    "        ebins = ff.boundaries\n",
    "        flux_dict[k][exp] = ff.values"
   ]
  },
  {
   "cell_type": "markdown",
   "metadata": {},
   "source": [
    "Plot and example irradiation neutron spectra.\n",
    "\n",
    "This example plots the neutron spectra used to irradiate silver (Ag) in the 2000 experimental campaign for 5 minutes of irradiation."
   ]
  },
  {
   "cell_type": "code",
   "execution_count": 5,
   "metadata": {},
   "outputs": [],
   "source": [
    "# in this case we plot the silver Ag experiment spectrum but you could plot others\n",
    "plt.stairs(values=flux_dict['Ag']['2000exp_5min'], edges=ebins)\n",
    "plt.yscale('log')\n",
    "plt.xscale('log')\n",
    "plt.xlabel('Energy [eV]')  #TODO check these units\n",
    "plt.ylabel('Flux [n/cm$^2$/s]')  #TODO check these units\n",
    "plt.close()"
   ]
  },
  {
   "cell_type": "markdown",
   "metadata": {},
   "source": [
    "Next we read in the experimental data so that it is in a more accessible form.\n",
    "The times, data and uncertainties are read in."
   ]
  },
  {
   "cell_type": "code",
   "execution_count": 6,
   "metadata": {},
   "outputs": [],
   "source": [
    "def read_experimental_data(exp_file):\n",
    "    lines = open(exp_file).readlines()\n",
    "    minutes = [float(q.strip().split()[0]) for q in lines]\n",
    "    # it's not always days actually, check other file\n",
    "    vals = [float(q.strip().split()[1]) for q in lines]\n",
    "    unc = [float(q.strip().split()[2]) for q in lines]\n",
    "    return (minutes, vals, unc)\n",
    "\n",
    "# TODO consider replacing with pypact\n",
    "def is_days(input_file):\n",
    "    lines = open(input_file, 'r').readlines()\n",
    "    lines = [q for q in lines if 'TIME' in lines]\n",
    "    day_cnt = 0\n",
    "    for line in lines:\n",
    "        if 'DAYS' in line: day_cnt += 1\n",
    "    if day_cnt == len(lines):\n",
    "        return True\n",
    "    elif day_cnt == 0:\n",
    "        return False\n",
    "    else:\n",
    "        raise ValueError('Something is not right')\n",
    "\n",
    "exp_data_dict = {'time': {}, 'data': {}, 'uncert': {}}\n",
    "for k,l in experiments.items():\n",
    "    for k_ in exp_data_dict:\n",
    "        exp_data_dict[k_][k] = {}\n",
    "    for exp in l:\n",
    "        exp_path = here / k / (exp+'.exp')\n",
    "        exp_path = str(exp_path.absolute())\n",
    "        input_path = here / k / ('TENDL-2017_' + exp + '.i')\n",
    "        input_path = str(input_path.absolute())\n",
    "        mins, vals, uncs = read_experimental_data(exp_path)\n",
    "        if is_days(input_path):\n",
    "            exp_data_dict['time'][k][exp] = (np.array(mins) * 60 * 24).tolist()\n",
    "        else:\n",
    "            exp_data_dict['time'][k][exp] = mins\n",
    "        exp_data_dict['data'][k][exp] = vals\n",
    "        exp_data_dict['uncert'][k][exp] = uncs\n",
    "        assert(len(mins) == len(vals))"
   ]
  },
  {
   "cell_type": "markdown",
   "metadata": {},
   "source": [
    "Now we get the irradiation setup including the flux and timesteps"
   ]
  },
  {
   "cell_type": "code",
   "execution_count": 7,
   "metadata": {},
   "outputs": [],
   "source": [
    "def read_irr_setup(filepath):\n",
    "    ff = pp.InputData()\n",
    "    pp.from_file(ff, filepath)\n",
    "    cleaned_irradschedule = [item for item in ff._irradschedule if item != (0.0, 0.0)]\n",
    "    flux_mag_list = [val[1] for val in cleaned_irradschedule] + [0.0] * len(ff._coolingschedule)\n",
    "    days_list = np.cumsum([val[0] for val in cleaned_irradschedule] + ff._coolingschedule)/ (24*60*60)\n",
    "    return days_list.tolist(), flux_mag_list\n",
    "\n",
    "def read_mat_setup(filepath):\n",
    "    ff = pp.InputData()\n",
    "    pp.from_file(ff, filepath)\n",
    "    return ff._inventorymass.entries\n",
    "\n",
    "def read_density(filepath):\n",
    "    ff = pp.InputData()\n",
    "    pp.from_file(ff, filepath)\n",
    "    return ff._density\n",
    "\n",
    "setup_dict = {'days': {}, 'flux_mag': {}, 'mass': {}, 'density': {}}\n",
    "for k,l in experiments.items():\n",
    "    for k_ in setup_dict:\n",
    "        setup_dict[k_][k] = {}\n",
    "    for exp in l:\n",
    "        input_path = here / k / ('TENDL-2017_' + exp + '.i')\n",
    "        input_path = str(input_path.absolute())\n",
    "        days, flux_mag = read_irr_setup(input_path)\n",
    "        mass_dict = {k:v/100 for k,v in read_mat_setup(input_path)}\n",
    "        setup_dict['days'][k][exp] = days\n",
    "        setup_dict['flux_mag'][k][exp] = flux_mag\n",
    "        setup_dict['mass'][k][exp] = mass_dict\n",
    "        setup_dict['density'][k][exp] = read_density(input_path)\n",
    "        assert(len(days) == len(flux_mag))\n",
    "        assert(isinstance(mass_dict, dict))\n",
    "    \n",
    "            \n",
    "setup_dict['mg_flux'] = flux_dict\n",
    "setup_dict['ebins'] = ebins"
   ]
  },
  {
   "cell_type": "markdown",
   "metadata": {},
   "source": [
    "Now we can carry out depletion simulations in OpenMC\n",
    "\n",
    "Set the chain file and cross sections to let OpenMC know where to find the data.\n",
    "\n",
    "The nuclear data used can have an impact on how closely the results match.\n",
    "\n",
    "To make this a fair comparison we recommend using the same nuclear data as the original Fispact simulations (Tendl 2017) and the chain file provided within the repository."
   ]
  },
  {
   "cell_type": "code",
   "execution_count": 8,
   "metadata": {},
   "outputs": [],
   "source": [
    "# Setting the cross section path to the location used by the CI.\n",
    "# If you are running this locally you will have to change this path to your local cross section path.\n",
    "openmc.config['cross_sections'] = Path.home() / 'nuclear_data' / 'cross_sections.xml'\n",
    "\n",
    "# Setting the chain file to the relative path of the chain file included in the repository.\n",
    "# Also resolving the chain file to the absolute path which is needed till the next release of OpenMC.\n",
    "openmc.config['chain_file'] = Path('./fns_spectrum.chain.xml').resolve()"
   ]
  },
  {
   "cell_type": "markdown",
   "metadata": {},
   "source": [
    "Next we use the experiment descriptions to make OpenMC simulations\n",
    "\n",
    "The irradiation duration, spectra, flux, material and mass are found from the IAEA Conderc benchmarks and passed to OpenMC functions to perform simulations of the experimental setup."
   ]
  },
  {
   "cell_type": "code",
   "execution_count": 9,
   "metadata": {},
   "outputs": [
    {
     "name": "stdout",
     "output_type": "stream",
     "text": [
      "Running OpenMC for Ag ['2000exp_5min']\n",
      "Running OpenMC for Al ['2000exp_5min', '1996exp_7hour', '1996exp_5min']\n"
     ]
    }
   ],
   "source": [
    "openmc_result_dict = {}\n",
    "all_activation_data = []\n",
    "element_exp_names = []\n",
    "for k, l in experiments.items():\n",
    "\n",
    "    # this loop currently just simulates the all materials in the benchmark suite\n",
    "    # it can be changed to simulate a single material by commenting the line below.\n",
    "    # if k != 'Ag': continue\n",
    "    # or it it can be changed to simulate a two materials by commenting the line below.\n",
    "    if k not in ['Ag', 'Al']: continue\n",
    "\n",
    "    print(f'Running OpenMC for {k} {l}')\n",
    "    \n",
    "    if k not in openmc_result_dict:\n",
    "        openmc_result_dict[k] = {}\n",
    "    for exp in l:\n",
    "        if exp in openmc_result_dict[k]:\n",
    "            continue\n",
    "        ccfe_flux = flux_dict[k][exp]\n",
    "        # ebins is ccfs 709 flux bins\n",
    "        # low to high\n",
    "        # create new chain file\n",
    "\n",
    "        # mass in grams\n",
    "        mass_dict = setup_dict['mass'][k][exp]\n",
    "        days_list = setup_dict['days'][k][exp]\n",
    "        # days are cumulative, so we gotta provide diffs\n",
    "        days_list = np.append(days_list[0], np.diff(days_list))\n",
    "        flux_mag_list = setup_dict['flux_mag'][k][exp]\n",
    "\n",
    "        # make openmc material\n",
    "        mat = openmc.Material()\n",
    "        for el, md in mass_dict.items():\n",
    "            el = el.lower().capitalize()\n",
    "            mat.add_element(el, md, percent_type='wo')\n",
    "        mat.set_density('g/cm3', setup_dict['density'][k][exp])\n",
    "        mat.depletable = True\n",
    "        mat.temperature = 294\n",
    "        tot_mass = sum(mass_dict.values())\n",
    "        mat.volume = tot_mass / mat.density\n",
    "\n",
    "        activation_data = {\n",
    "            'materials': mat,\n",
    "            'multigroup_flux': ccfe_flux,\n",
    "            'energy': ebins,\n",
    "            'source_rate': flux_mag_list,\n",
    "            'timesteps': days_list.tolist()\n",
    "        }\n",
    "        element_exp_names.append((k,exp))\n",
    "        all_activation_data.append(activation_data)"
   ]
  },
  {
   "cell_type": "code",
   "execution_count": null,
   "metadata": {},
   "outputs": [
    {
     "name": "stderr",
     "output_type": "stream",
     "text": [
      " WARNING: Negative value(s) found on probability table for nuclide Na22 at 294K\n",
      " WARNING: Negative value(s) found on probability table for nuclide Ar36 at 294K\n",
      " WARNING: Negative value(s) found on probability table for nuclide Se79 at 294K\n"
     ]
    }
   ],
   "source": [
    "obj = OpenmcActivator(\n",
    "    activation_data=all_activation_data,\n",
    "    timestep_units='d',\n",
    "    chain_file=openmc.config['chain_file'],\n",
    ")\n",
    "\n",
    "all_metric_dict = obj.activate(metric_list=['mass', 'decay_heat'])"
   ]
  },
  {
   "cell_type": "code",
   "execution_count": null,
   "metadata": {},
   "outputs": [],
   "source": [
    "for entry, (k,exp) in zip(all_metric_dict, element_exp_names):\n",
    "\n",
    "    openmc_result_dict[k][exp] = entry"
   ]
  },
  {
   "cell_type": "markdown",
   "metadata": {},
   "source": [
    "Next we process the Fispact simulations results from the IAEA Conderc benchmarks so that they are ready to plot next to the OpenMC simulation results and the experimental benchmark results."
   ]
  },
  {
   "cell_type": "code",
   "execution_count": null,
   "metadata": {},
   "outputs": [],
   "source": [
    "def read_fispact_output(filepath):\n",
    "    lines = open(filepath).readlines()\n",
    "    # don't read empty lines\n",
    "    read = False\n",
    "\n",
    "    lines = [q for q in lines if q.strip()]\n",
    "    step = 0\n",
    "    # get header\n",
    "    # usually the last # line\n",
    "    for indx, line in enumerate(lines):\n",
    "        if read:\n",
    "            spl = line.strip().split()\n",
    "            now_step = int(spl[0])\n",
    "            assert(step +1 == now_step)\n",
    "            step = now_step\n",
    "            assert(len(spl) == len(col_names)), print(len(spl), len(col_names), '\\n', col_names)\n",
    "            for indx, val in enumerate(spl):\n",
    "                key = col_names[indx]\n",
    "                if key == 'step':\n",
    "                    d[key].append(int(val))\n",
    "                else:\n",
    "                    d[key].append(float(val))\n",
    "            continue\n",
    "        if line[0] == '#' and lines[indx+1][0] != '#':\n",
    "            # this line with the column names\n",
    "            # terrible\n",
    "            l = line.strip().split()[1:]\n",
    "            indx = 0\n",
    "            new_l = []\n",
    "            while True:\n",
    "                if indx >= len(l):\n",
    "                    break\n",
    "                if l[indx].isalpha():\n",
    "                    if l[indx+1][-1] == 'm': # metastable\n",
    "                        if l[indx+1][:-1].isnumeric():\n",
    "                            new_l.append(l[indx]+l[indx+1])\n",
    "                            indx += 2\n",
    "                        else:\n",
    "                            new_l.append(l[indx])\n",
    "                            indx += 1\n",
    "                    else:\n",
    "                        if l[indx+1].isnumeric(): # metastable\n",
    "                            new_l.append(l[indx]+l[indx+1])\n",
    "                            indx += 2\n",
    "                        else:\n",
    "                            new_l.append(l[indx])\n",
    "                            indx += 1\n",
    "                else:\n",
    "                    new_l.append(l[indx])\n",
    "                    indx += 1\n",
    "            d = {k:[] for k in new_l}\n",
    "            read = True\n",
    "            col_names = copy.deepcopy(new_l)\n",
    "            continue\n",
    "    # rename total to decay heat for consistence with OpenMC and experimental results dictionaries\n",
    "    d['decay_heat'] = d.pop('Total')\n",
    "    d['time'] = (np.array(d['time']) * 365.25 * 60 * 24).tolist() # years to minutes\n",
    "    return d\n",
    "\n",
    "\n",
    "fispact_result_dict = {}\n",
    "for k,l in experiments.items():\n",
    "    fispact_result_dict[k] = {}\n",
    "    for exp in l:\n",
    "        output_path = here / k / f'TENDL-2017_{exp}.nuclides'\n",
    "        fispact_result_dict[k][exp] = read_fispact_output(output_path.resolve())"
   ]
  },
  {
   "cell_type": "markdown",
   "metadata": {},
   "source": [
    "We combine the Fispact results (which are per nuclide) so that we have the total values for decay heat."
   ]
  },
  {
   "cell_type": "code",
   "execution_count": null,
   "metadata": {},
   "outputs": [],
   "source": [
    "fispact_imp_nuclides = {}\n",
    "for k,l in experiments.items():\n",
    "    fispact_imp_nuclides[k] = {}\n",
    "    for exp in l:\n",
    "        tot = fispact_result_dict[k][exp]['decay_heat']\n",
    "        indices = [1, len(tot)//2, -1]\n",
    "        fispact_imp_nuclides[k][exp] = {}\n",
    "        for i in indices:\n",
    "            td = {k:v[i] for k,v in fispact_result_dict[k][exp].items() if k not in ['step', 'time', 'uncert', 'decay_heat']}\n",
    "            td = {k:v for k,v in sorted(td.items(), key=lambda item:item[1], reverse=True)}\n",
    "            fispact_imp_nuclides[k][exp][i] = td"
   ]
  },
  {
   "cell_type": "markdown",
   "metadata": {},
   "source": [
    "We define some plotting functions that will be used later"
   ]
  },
  {
   "cell_type": "code",
   "execution_count": null,
   "metadata": {},
   "outputs": [],
   "source": [
    "def plot_with_matplotlib(\n",
    "    fispact_time,\n",
    "    fispact,\n",
    "    fispact_uncert,\n",
    "    openmc_time,\n",
    "    openmc,\n",
    "    measured_time,\n",
    "    measured,   \n",
    "    measured_uncert\n",
    "):\n",
    "        # plt.errorbar(measured_time, measured, measured_uncert, label='Measured', linestyle='--', marker='x')\n",
    "        plt.fill_between(measured_time, measured-(3*measured_uncert), measured+(3*measured_uncert),\n",
    "                         alpha=0.4, label='Measured', color=(200/255, 200/255, 200/255))\n",
    "        plt.plot(openmc_time, openmc, label='OpenMC 0.15.3-dev', marker='x', alpha=0.5, color='red')\n",
    "        plt.errorbar(fispact_time, fispact, fispact_uncert, label='FISPACT II', marker='o', alpha=0.5, color='blue')\n",
    "\n",
    "        plt.yscale('log')\n",
    "        plt.xlabel('Minutes')\n",
    "        plt.ylabel(r'Specific heat [$\\frac{\\mu W}{g}$]')\n",
    "        plt.legend()\n",
    "        plt.grid()\n",
    "        plt.title(f'{k} {exp}')\n",
    "        plt.savefig(Path('docs') / f'{k}_{exp}.png')\n",
    "        plt.close()\n",
    "\n",
    "def plot_with_plotly(\n",
    "    fispact_time,\n",
    "    fispact,\n",
    "    fispact_uncert,\n",
    "    openmc_time,\n",
    "    openmc,\n",
    "    measured_time,\n",
    "    measured,\n",
    "    measured_uncert,\n",
    "):\n",
    "    fig = go.Figure()\n",
    "\n",
    "    # Measured data uncertainty band (3 sigma)\n",
    "    fig.add_traces([\n",
    "        go.Scatter(\n",
    "            x=measured_time,\n",
    "            y=measured - 3 * measured_uncert,\n",
    "            mode='lines',\n",
    "            line=dict(width=0),\n",
    "            showlegend=False,\n",
    "            hoverinfo='skip'\n",
    "        ),\n",
    "        go.Scatter(\n",
    "            x=measured_time,\n",
    "            y=measured + 3 * measured_uncert,\n",
    "            mode='lines',\n",
    "            fill='tonexty',\n",
    "            fillcolor='rgba(200,200,200,0.4)',\n",
    "            name='Measured (3σ band)',\n",
    "            line=dict(width=0),\n",
    "            hoverinfo='skip'\n",
    "        )\n",
    "    ])\n",
    "\n",
    "    # OpenMC results\n",
    "    fig.add_trace(go.Scatter(\n",
    "        x=openmc_time,\n",
    "        y=openmc,\n",
    "        mode='lines+markers',\n",
    "        name='OpenMC 0.15.3-dev',\n",
    "        marker=dict(symbol='x'),\n",
    "        line=dict(dash='solid', color='red'),\n",
    "        opacity=0.7,\n",
    "    ))\n",
    "\n",
    "    # FISPACT II results with error bars\n",
    "    fig.add_trace(go.Scatter(\n",
    "        x=fispact_time,\n",
    "        y=fispact,\n",
    "        mode='markers+lines',\n",
    "        name='FISPACT II',\n",
    "        error_y=dict(\n",
    "            type='data',\n",
    "            array=fispact_uncert,\n",
    "            visible=True\n",
    "        ),\n",
    "        line=dict(dash='solid', color='blue'),\n",
    "        marker=dict(symbol='circle'),\n",
    "        opacity=0.7\n",
    "    ))\n",
    "\n",
    "    fig.update_layout(\n",
    "        yaxis_type=\"log\",\n",
    "        xaxis_title=\"Minutes\",\n",
    "        yaxis_title=r\"Specific heat [μW/g]\",\n",
    "        legend=dict(title=None),\n",
    "        title=f\"{k} {exp}\" if k and exp else \"\",\n",
    "        template=\"plotly_white\"\n",
    "    )\n",
    "    Path('plotly_files').mkdir(exist_ok=True, parents=True)\n",
    "    fig.write_html(Path('plotly_files') / f'{k}_{exp}.html')"
   ]
  },
  {
   "cell_type": "markdown",
   "metadata": {},
   "source": [
    "We now have the OpenMC outputs, Fispact and experimental results in a convenient form  ready for plotting.\n",
    "\n",
    "The next code block plots the results so that they can be compared."
   ]
  },
  {
   "cell_type": "code",
   "execution_count": null,
   "metadata": {},
   "outputs": [
    {
     "name": "stdout",
     "output_type": "stream",
     "text": [
      "1 {'Ag108': 1.09653e-06, 'Ag106': 5.65171e-07, 'Ag110': 1.87006e-07, 'Ag107m': 5.66618e-08, 'Ag109m': 4.56189e-08, 'Rh104': 3.4799e-08, 'Rh106': 5.32129e-09, 'Pd109m': 3.1127e-09, 'Rh104m': 2.80227e-09, 'Ag106m': 2.09887e-09, 'Pd107m': 1.55064e-09, 'Rh106m': 9.91648e-10, 'Pd109': 8.62904e-11}\n",
      "10 {'Ag106': 4.8286e-07, 'Ag108': 2.27213e-07, 'Rh104': 1.06202e-08, 'Ag106m': 2.09822e-09, 'Pd109m': 1.391e-09, 'Rh104m': 1.17351e-09, 'Rh106m': 9.63671e-10, 'Ag107m': 3.39797e-10, 'Ag109m': 1.76068e-10, 'Pd109': 1.04779e-10, 'Ag110': 1.83549e-11, 'Pd107m': 0.0, 'Rh106': 0.0}\n",
      "-1 {'Ag106': 1.19558e-07, 'Ag106m': 2.09246e-09, 'Rh106m': 7.47658e-10, 'Pd109': 1.15353e-10, 'Ag109m': 2.8106e-11, 'Rh104': 4.68759e-12, 'Pd109m': 1.09772e-12, 'Rh104m': 5.20174e-13, 'Pd107m': 0.0, 'Rh106': 0.0, 'Ag107m': 0.0, 'Ag110': 0.0, 'Ag108': 0.0}\n"
     ]
    },
    {
     "ename": "NameError",
     "evalue": "name 'k' is not defined",
     "output_type": "error",
     "traceback": [
      "\u001b[31m---------------------------------------------------------------------------\u001b[39m",
      "\u001b[31mNameError\u001b[39m                                 Traceback (most recent call last)",
      "\u001b[36mCell\u001b[39m\u001b[36m \u001b[39m\u001b[32mIn[17]\u001b[39m\u001b[32m, line 51\u001b[39m\n\u001b[32m     40\u001b[39m     plot_with_matplotlib(\n\u001b[32m     41\u001b[39m         fispact_time,\n\u001b[32m     42\u001b[39m         fispact,\n\u001b[32m   (...)\u001b[39m\u001b[32m     48\u001b[39m         measured_uncert\n\u001b[32m     49\u001b[39m     )\n\u001b[32m     50\u001b[39m \u001b[38;5;66;03m# uncomment to write markdown files for each material, needed for local rendering of the jupyter book\u001b[39;00m\n\u001b[32m---> \u001b[39m\u001b[32m51\u001b[39m \u001b[43mwrite_markdown_file\u001b[49m\u001b[43m(\u001b[49m\n\u001b[32m     52\u001b[39m \u001b[43m    \u001b[49m\u001b[43mexperiment_names\u001b[49m\u001b[43m=\u001b[49m\u001b[38;5;28;43mlist\u001b[39;49m\u001b[43m(\u001b[49m\u001b[43ml\u001b[49m\u001b[43m.\u001b[49m\u001b[43mkeys\u001b[49m\u001b[43m(\u001b[49m\u001b[43m)\u001b[49m\u001b[43m)\u001b[49m\u001b[43m,\u001b[49m\n\u001b[32m     53\u001b[39m \u001b[43m    \u001b[49m\u001b[43mmaterial_name\u001b[49m\u001b[43m=\u001b[49m\u001b[43mk\u001b[49m\n\u001b[32m     54\u001b[39m \u001b[43m\u001b[49m\u001b[43m)\u001b[49m\n",
      "\u001b[36mFile \u001b[39m\u001b[32m~/openmc_activator/openmc_activator.py:284\u001b[39m, in \u001b[36mwrite_markdown_file\u001b[39m\u001b[34m(experiment_names, material_name)\u001b[39m\n\u001b[32m    281\u001b[39m \u001b[38;5;28;01mfor\u001b[39;00m exp \u001b[38;5;129;01min\u001b[39;00m experiment_names:\n\u001b[32m    282\u001b[39m     f.write(\u001b[33mf\u001b[39m\u001b[33m'\u001b[39m\u001b[33m## \u001b[39m\u001b[38;5;132;01m{\u001b[39;00mexp\u001b[38;5;132;01m}\u001b[39;00m\u001b[38;5;130;01m\\n\u001b[39;00m\u001b[38;5;130;01m\\n\u001b[39;00m\u001b[33m'\u001b[39m)\n\u001b[32m--> \u001b[39m\u001b[32m284\u001b[39m     f.write(\u001b[33mf\u001b[39m\u001b[33m'\u001b[39m\u001b[33m<iframe src=\u001b[39m\u001b[33m\"\u001b[39m\u001b[33m../../html/\u001b[39m\u001b[38;5;132;01m{\u001b[39;00m\u001b[43mk\u001b[49m\u001b[38;5;132;01m}\u001b[39;00m\u001b[33m_\u001b[39m\u001b[38;5;132;01m{\u001b[39;00mexp\u001b[38;5;132;01m}\u001b[39;00m\u001b[33m.html\u001b[39m\u001b[33m\"\u001b[39m\u001b[33m width=\u001b[39m\u001b[33m\"\u001b[39m\u001b[33m100%\u001b[39m\u001b[33m\"\u001b[39m\u001b[33m height=\u001b[39m\u001b[33m\"\u001b[39m\u001b[33m600px\u001b[39m\u001b[33m\"\u001b[39m\u001b[33m frameborder=\u001b[39m\u001b[33m\"\u001b[39m\u001b[33m0\u001b[39m\u001b[33m\"\u001b[39m\u001b[33m></iframe>\u001b[39m\u001b[38;5;130;01m\\n\u001b[39;00m\u001b[38;5;130;01m\\n\u001b[39;00m\u001b[33m'\u001b[39m)\n\u001b[32m    286\u001b[39m     f.write(\u001b[33mf\u001b[39m\u001b[33m'\u001b[39m\u001b[33m![Alt text](\u001b[39m\u001b[38;5;132;01m{\u001b[39;00mmaterial_name\u001b[38;5;132;01m}\u001b[39;00m\u001b[33m_\u001b[39m\u001b[38;5;132;01m{\u001b[39;00mexp\u001b[38;5;132;01m}\u001b[39;00m\u001b[33m.png)\u001b[39m\u001b[38;5;130;01m\\n\u001b[39;00m\u001b[38;5;130;01m\\n\u001b[39;00m\u001b[33m'\u001b[39m)\n",
      "\u001b[31mNameError\u001b[39m: name 'k' is not defined"
     ]
    }
   ],
   "source": [
    "for k,l in openmc_result_dict.items():\n",
    "    for exp in l:\n",
    "        fispact_time = np.array(fispact_result_dict[k][exp]['time'])\n",
    "        # results in watts per gram\n",
    "        fispact_uncert = np.array(fispact_result_dict[k][exp]['uncert'])  * 1e6\n",
    "        fispact = np.array(fispact_result_dict[k][exp]['decay_heat']) * 1e6\n",
    "\n",
    "        # openmc \n",
    "        openmc_time = openmc_result_dict[k][exp]['mass']['meta_time_d']\n",
    "        decay_indx = 1\n",
    "        t0 = openmc_time[decay_indx]\n",
    "        openmc_time = np.array(openmc_time[decay_indx:]) - t0\n",
    "        openmc_time = openmc_time * (60*24) # days to minutes\n",
    "        openmc = openmc_result_dict[k][exp]['decay_heat']['meta_total']\n",
    "        mass = openmc_result_dict[k][exp]['mass']['meta_total']\n",
    "        openmc = np.array(openmc) / np.array(mass)\n",
    "        openmc = openmc[decay_indx:] * 1e6 # watts to microwatts\n",
    "\n",
    "        measured = np.array(exp_data_dict['data'][k][exp])\n",
    "        measured_time = np.array(exp_data_dict['time'][k][exp])\n",
    "        measured_uncert = np.array(exp_data_dict['uncert'][k][exp])\n",
    "        # add irradiation time to measured_time\n",
    "\n",
    "        for index,sorted_dict in fispact_imp_nuclides[k][exp].items():\n",
    "            print(index, sorted_dict)\n",
    "\n",
    "        if 'hour' not in exp:\n",
    "            measured_time = measured_time / (60*24)\n",
    "\n",
    "        plot_with_plotly(\n",
    "            fispact_time,\n",
    "            fispact,\n",
    "            fispact_uncert,\n",
    "            openmc_time,\n",
    "            openmc,\n",
    "            measured_time,\n",
    "            measured,   \n",
    "            measured_uncert\n",
    "        )\n",
    "        plot_with_matplotlib(\n",
    "            fispact_time,\n",
    "            fispact,\n",
    "            fispact_uncert,\n",
    "            openmc_time,\n",
    "            openmc,\n",
    "            measured_time,\n",
    "            measured,   \n",
    "            measured_uncert\n",
    "        )\n",
    "    # uncomment to write markdown files for each material, needed for local rendering of the jupyter book\n",
    "    write_markdown_file(\n",
    "        experiment_names=l,\n",
    "        material_name=k\n",
    "    )\n"
   ]
  },
  {
   "cell_type": "code",
   "execution_count": null,
   "metadata": {},
   "outputs": [
    {
     "ename": "NameError",
     "evalue": "name 'write_markdown_file' is not defined",
     "output_type": "error",
     "traceback": [
      "\u001b[31m---------------------------------------------------------------------------\u001b[39m",
      "\u001b[31mNameError\u001b[39m                                 Traceback (most recent call last)",
      "\u001b[36mCell\u001b[39m\u001b[36m \u001b[39m\u001b[32mIn[16]\u001b[39m\u001b[32m, line 1\u001b[39m\n\u001b[32m----> \u001b[39m\u001b[32m1\u001b[39m \u001b[43mwrite_markdown_file\u001b[49m(\n\u001b[32m      2\u001b[39m     experiment_names=\u001b[38;5;28mlist\u001b[39m(l.keys()),\n\u001b[32m      3\u001b[39m     material_name=k\n\u001b[32m      4\u001b[39m )\n",
      "\u001b[31mNameError\u001b[39m: name 'write_markdown_file' is not defined"
     ]
    }
   ],
   "source": [
    "\n",
    "\n",
    "\n"
   ]
  },
  {
   "cell_type": "code",
   "execution_count": null,
   "metadata": {},
   "outputs": [],
   "source": [
    "import json\n",
    "with open('openmc_result_dict.json', 'w') as f:\n",
    "    json.dump(openmc_result_dict, f, indent=2)\n",
    "with open('exp_data_dict.json', 'w') as f:\n",
    "    json.dump(exp_data_dict, f, indent=2)\n",
    "with open('fispact_result_dict.json', 'w') as f:\n",
    "    json.dump(fispact_result_dict, f, indent=2)"
   ]
  },
  {
   "cell_type": "code",
   "execution_count": null,
   "metadata": {},
   "outputs": [],
   "source": []
  }
 ],
 "metadata": {
  "kernelspec": {
   "display_name": ".new_env",
   "language": "python",
   "name": "python3"
  },
  "language_info": {
   "codemirror_mode": {
    "name": "ipython",
    "version": 3
   },
   "file_extension": ".py",
   "mimetype": "text/x-python",
   "name": "python",
   "nbconvert_exporter": "python",
   "pygments_lexer": "ipython3",
   "version": "3.12.0"
  }
 },
 "nbformat": 4,
 "nbformat_minor": 4
}
