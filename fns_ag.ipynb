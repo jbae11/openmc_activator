{
 "cells": [
  {
   "cell_type": "markdown",
   "metadata": {},
   "source": [
    "\n",
    "# Use activator"
   ]
  },
  {
   "cell_type": "code",
   "execution_count": 6,
   "metadata": {},
   "outputs": [
    {
     "data": {
      "text/plain": [
       "'0.14.0-dev'"
      ]
     },
     "execution_count": 6,
     "metadata": {},
     "output_type": "execute_result"
    }
   ],
   "source": [
    "# this is using the \n",
    "# https://github.com/openmc-dev/openmc/pull/2755\n",
    "openmc.__version__"
   ]
  },
  {
   "cell_type": "code",
   "execution_count": 7,
   "metadata": {},
   "outputs": [
    {
     "name": "stderr",
     "output_type": "stream",
     "text": [
      " WARNING: Negative value(s) found on probability table for nuclide Na22 at 250K\n",
      " WARNING: Negative value(s) found on probability table for nuclide Na22 at 294K\n",
      " WARNING: Negative value(s) found on probability table for nuclide Na22 at 600K\n",
      " WARNING: Negative value(s) found on probability table for nuclide Na22 at 900K\n",
      " WARNING: Negative value(s) found on probability table for nuclide Na22 at 1200K\n",
      " WARNING: Negative value(s) found on probability table for nuclide Na22 at 2500K\n",
      " WARNING: Negative value(s) found on probability table for nuclide Ar36 at 250K\n",
      " WARNING: Negative value(s) found on probability table for nuclide Ar36 at 294K\n",
      " WARNING: Negative value(s) found on probability table for nuclide Ar36 at 600K\n",
      " WARNING: Negative value(s) found on probability table for nuclide Ar36 at 900K\n",
      " WARNING: Negative value(s) found on probability table for nuclide Ar36 at 1200K\n",
      " WARNING: Negative value(s) found on probability table for nuclide Ar36 at 2500K\n",
      " WARNING: Negative value(s) found on probability table for nuclide Se79 at 250K\n",
      " WARNING: Negative value(s) found on probability table for nuclide Se79 at 294K\n",
      " WARNING: Negative value(s) found on probability table for nuclide Se79 at 600K\n",
      " WARNING: Negative value(s) found on probability table for nuclide Se79 at 900K\n",
      " WARNING: Negative value(s) found on probability table for nuclide Se79 at 1200K\n",
      " WARNING: Negative value(s) found on probability table for nuclide Nb94 at 250K\n",
      " WARNING: Negative value(s) found on probability table for nuclide Nb94 at 294K\n",
      " WARNING: Negative value(s) found on probability table for nuclide Nb94 at 600K\n",
      " WARNING: Negative value(s) found on probability table for nuclide Nb94 at 900K\n",
      " WARNING: Negative value(s) found on probability table for nuclide Nb94 at 1200K\n",
      " WARNING: Negative value(s) found on probability table for nuclide Nb94 at 2500K\n",
      " WARNING: Negative value(s) found on probability table for nuclide Nb95 at 250K\n",
      " WARNING: Negative value(s) found on probability table for nuclide Nb95 at 294K\n",
      " WARNING: Negative value(s) found on probability table for nuclide Nb95 at 600K\n",
      " WARNING: Negative value(s) found on probability table for nuclide Nb95 at 900K\n",
      " WARNING: Negative value(s) found on probability table for nuclide Nb95 at 1200K\n",
      " WARNING: Negative value(s) found on probability table for nuclide Mo99 at 250K\n",
      " WARNING: Negative value(s) found on probability table for nuclide Mo99 at 294K\n",
      " WARNING: Negative value(s) found on probability table for nuclide Mo99 at 600K\n",
      " WARNING: Negative value(s) found on probability table for nuclide Mo99 at 900K\n",
      " WARNING: Negative value(s) found on probability table for nuclide Mo99 at 1200K\n",
      " WARNING: Negative value(s) found on probability table for nuclide Mo99 at 2500K\n",
      " WARNING: Negative value(s) found on probability table for nuclide Cd106 at 250K\n",
      " WARNING: Negative value(s) found on probability table for nuclide Cd106 at 294K\n",
      " WARNING: Negative value(s) found on probability table for nuclide Cd106 at 600K\n",
      " WARNING: Negative value(s) found on probability table for nuclide Cd106 at 900K\n",
      " WARNING: Negative value(s) found on probability table for nuclide Cd106 at\n",
      "          1200K\n",
      " WARNING: Negative value(s) found on probability table for nuclide Cd106 at\n",
      "          2500K\n",
      " WARNING: Negative value(s) found on probability table for nuclide Sn123 at 250K\n",
      " WARNING: Negative value(s) found on probability table for nuclide Sn123 at 294K\n",
      " WARNING: Negative value(s) found on probability table for nuclide Sn123 at 600K\n",
      " WARNING: Negative value(s) found on probability table for nuclide Sn123 at 900K\n",
      " WARNING: Negative value(s) found on probability table for nuclide Sn123 at\n",
      "          1200K\n",
      " WARNING: Negative value(s) found on probability table for nuclide Sn123 at\n",
      "          2500K\n",
      " WARNING: Negative value(s) found on probability table for nuclide Te120 at 600K\n",
      " WARNING: Negative value(s) found on probability table for nuclide Te120 at 900K\n",
      " WARNING: Negative value(s) found on probability table for nuclide Te120 at\n",
      "          1200K\n",
      " WARNING: Negative value(s) found on probability table for nuclide Te120 at\n",
      "          2500K\n",
      " WARNING: Negative value(s) found on probability table for nuclide I131 at 250K\n",
      " WARNING: Negative value(s) found on probability table for nuclide I131 at 294K\n",
      " WARNING: Negative value(s) found on probability table for nuclide I131 at 600K\n",
      " WARNING: Negative value(s) found on probability table for nuclide I131 at 900K\n",
      " WARNING: Negative value(s) found on probability table for nuclide I131 at 1200K\n",
      " WARNING: Negative value(s) found on probability table for nuclide I131 at 2500K\n",
      " WARNING: Negative value(s) found on probability table for nuclide Xe133 at\n",
      "          2500K\n",
      " WARNING: Negative value(s) found on probability table for nuclide Cs136 at 250K\n",
      " WARNING: Negative value(s) found on probability table for nuclide Cs136 at 294K\n",
      " WARNING: Negative value(s) found on probability table for nuclide Cs136 at 600K\n",
      " WARNING: Negative value(s) found on probability table for nuclide Cs136 at 900K\n",
      " WARNING: Negative value(s) found on probability table for nuclide Cs136 at\n",
      "          1200K\n",
      " WARNING: Negative value(s) found on probability table for nuclide Cs136 at\n",
      "          2500K\n",
      " WARNING: Negative value(s) found on probability table for nuclide Eu156 at 250K\n",
      " WARNING: Negative value(s) found on probability table for nuclide Eu156 at 294K\n",
      " WARNING: Negative value(s) found on probability table for nuclide Eu156 at 600K\n",
      " WARNING: Negative value(s) found on probability table for nuclide Eu156 at 900K\n",
      " WARNING: Negative value(s) found on probability table for nuclide Eu156 at\n",
      "          1200K\n",
      " WARNING: Negative value(s) found on probability table for nuclide Eu156 at\n",
      "          2500K\n",
      " WARNING: Negative value(s) found on probability table for nuclide Cf250 at 250K\n",
      " WARNING: Negative value(s) found on probability table for nuclide Cf250 at 294K\n",
      " WARNING: Negative value(s) found on probability table for nuclide Cf250 at 900K\n",
      " WARNING: Negative value(s) found on probability table for nuclide Cf250 at\n",
      "          1200K\n"
     ]
    }
   ],
   "source": [
    "import pickle\n",
    "import numpy as np\n",
    "import openmc\n",
    "import openmc.deplete\n",
    "import math\n",
    "\n",
    "# data from FNS dataset\n",
    "data = pickle.load(open('./irradiation_setup.pkl', 'rb'))\n",
    "ebins = data['ebins']\n",
    "fluxes = data['fluxes']\n",
    "\n",
    "fispact_result_dict = pickle.load(open('fispact_result_dict.pkl', 'rb'))\n",
    "fr = fispact_result_dict['Ag']['2000exp_5min']\n",
    "\n",
    "# set your config files\n",
    "openmc.config['chain_file'] = '/home/4ib/git/fermi/fermi/data/openmc/chain_endf_b8.0.xml'\n",
    "openmc.config['chain_file'] = '/home/4ib/Downloads/chain_endfb71_pwr.xml'\n",
    "openmc.config['cross_sections'] = '/home/4ib/git/openmc/data/endfb71_hdf5/cross_sections.xml'\n",
    "\n",
    "from openmc_activator import OpenmcActivator\n",
    "obj = OpenmcActivator(ebins[::-1], fluxes[::-1])"
   ]
  },
  {
   "cell_type": "code",
   "execution_count": 8,
   "metadata": {},
   "outputs": [],
   "source": [
    "timesteps = np.array(data['days_list'])\n",
    "# to dt\n",
    "timesteps = [timesteps[0]] + list(timesteps[1:] - timesteps[:-1])\n",
    "source_rates = np.array(data['flux_mag_list'])"
   ]
  },
  {
   "cell_type": "code",
   "execution_count": 9,
   "metadata": {},
   "outputs": [],
   "source": [
    "\n",
    "# makes a simple material from Silver\n",
    "# dummy material (FNS uses a gram of silver)\n",
    "# with density 10.49 g/cc\n",
    "my_material = openmc.Material() \n",
    "my_material.add_element('Ag', 1, percent_type='ao')\n",
    "#my_material.set_density('g/cm3', 10.49)\n",
    "#my_material.volume = 1/10.49\n",
    "my_material.set_density('g/cm3', 1)\n",
    "my_material.volume = 1\n",
    "my_material.depletable=True"
   ]
  },
  {
   "cell_type": "code",
   "execution_count": 10,
   "metadata": {},
   "outputs": [
    {
     "name": "stdout",
     "output_type": "stream",
     "text": [
      "[openmc.deplete] t=0.0 s, dt=29.999999999999996 s, source=11160000000.0\n",
      "[openmc.deplete] t=29.999999999999996 s, dt=29.999999999999996 s, source=11160000000.0\n",
      "[openmc.deplete] t=59.99999999999999 s, dt=29.999999999999996 s, source=11160000000.0\n",
      "[openmc.deplete] t=89.99999999999999 s, dt=29.999999999999996 s, source=11160000000.0\n",
      "[openmc.deplete] t=119.99999999999999 s, dt=29.999999999999996 s, source=11160000000.0\n",
      "[openmc.deplete] t=149.99999999999997 s, dt=29.999999999999996 s, source=11160000000.0\n",
      "[openmc.deplete] t=179.99999999999997 s, dt=29.999999999999996 s, source=11160000000.0\n",
      "[openmc.deplete] t=209.99999999999997 s, dt=29.999999999999996 s, source=11160000000.0\n",
      "[openmc.deplete] t=239.99999999999997 s, dt=29.999999999999996 s, source=11160000000.0\n",
      "[openmc.deplete] t=269.99999999999994 s, dt=29.999999999999996 s, source=11160000000.0\n",
      "[openmc.deplete] t=299.99999999999994 s, dt=50.0 s, source=0.0\n",
      "[openmc.deplete] t=349.99999999999994 s, dt=15.000000000000021 s, source=0.0\n",
      "[openmc.deplete] t=364.99999999999994 s, dt=15.000000000000021 s, source=0.0\n",
      "[openmc.deplete] t=379.99999999999994 s, dt=15.000000000000021 s, source=0.0\n",
      "[openmc.deplete] t=394.99999999999994 s, dt=25.999999999999993 s, source=0.0\n",
      "[openmc.deplete] t=420.99999999999994 s, dt=36.00000000000001 s, source=0.0\n",
      "[openmc.deplete] t=456.99999999999994 s, dt=36.00000000000001 s, source=0.0\n",
      "[openmc.deplete] t=492.99999999999994 s, dt=51.999999999999986 s, source=0.0\n",
      "[openmc.deplete] t=544.9999999999999 s, dt=65.99999999999997 s, source=0.0\n",
      "[openmc.deplete] t=610.9999999999999 s, dt=66.00000000000006 s, source=0.0\n",
      "[openmc.deplete] t=677.0 s, dt=93.99999999999996 s, source=0.0\n",
      "[openmc.deplete] t=771.0 s, dt=127.00000000000001 s, source=0.0\n",
      "[openmc.deplete] t=898.0 s, dt=123.00000000000004 s, source=0.0\n",
      "[openmc.deplete] t=1021.0 s, dt=186.99999999999994 s, source=0.0\n",
      "[openmc.deplete] t=1208.0 s, dt=243.00000000000006 s, source=0.0\n",
      "[openmc.deplete] t=1451.0 s, dt=246.00000000000009 s, source=0.0\n",
      "[openmc.deplete] t=1697.0 s, dt=242.99999999999991 s, source=0.0\n",
      "[openmc.deplete] t=1940.0 s, dt=427.0 s, source=0.0\n",
      "[openmc.deplete] t=2367.0 s, dt=607.0 s, source=0.0\n",
      "[openmc.deplete] t=2974.0 s, dt=603.0000000000001 s, source=0.0\n",
      "[openmc.deplete] t=3577.0 (final operator evaluation)\n"
     ]
    },
    {
     "name": "stderr",
     "output_type": "stream",
     "text": [
      "/home/4ib/anaconda3/envs/dev_openmc/lib/python3.12/site-packages/openmc/deplete/results.py:91: FutureWarning: The ResultsList.from_hdf5(...) method is no longer necessary and will be removed in a future version of OpenMC. Use Results(...) instead.\n",
      "  warn(\n"
     ]
    }
   ],
   "source": [
    "metric_dict = obj.activate(my_material, source_rates, timesteps,\n",
    "                           metric_list=['mass','decay_heat'],\n",
    "                           split_irr=10)"
   ]
  },
  {
   "cell_type": "code",
   "execution_count": 11,
   "metadata": {},
   "outputs": [
    {
     "name": "stdout",
     "output_type": "stream",
     "text": [
      "[openmc.deplete] t=0.0 s, dt=300.0 s, source=11160000000.0\n",
      "[openmc.deplete] t=300.0 s, dt=50.0 s, source=0.0\n",
      "[openmc.deplete] t=350.0 s, dt=15.000000000000021 s, source=0.0\n",
      "[openmc.deplete] t=365.0 s, dt=15.000000000000021 s, source=0.0\n",
      "[openmc.deplete] t=380.0 s, dt=15.000000000000021 s, source=0.0\n",
      "[openmc.deplete] t=395.0 s, dt=25.999999999999993 s, source=0.0\n",
      "[openmc.deplete] t=421.0 s, dt=36.00000000000001 s, source=0.0\n",
      "[openmc.deplete] t=457.0 s, dt=36.00000000000001 s, source=0.0\n",
      "[openmc.deplete] t=493.0 s, dt=51.999999999999986 s, source=0.0\n",
      "[openmc.deplete] t=545.0 s, dt=65.99999999999997 s, source=0.0\n",
      "[openmc.deplete] t=611.0 s, dt=66.00000000000006 s, source=0.0\n",
      "[openmc.deplete] t=677.0 s, dt=93.99999999999996 s, source=0.0\n",
      "[openmc.deplete] t=771.0 s, dt=127.00000000000001 s, source=0.0\n",
      "[openmc.deplete] t=898.0 s, dt=123.00000000000004 s, source=0.0\n",
      "[openmc.deplete] t=1021.0 s, dt=186.99999999999994 s, source=0.0\n",
      "[openmc.deplete] t=1208.0 s, dt=243.00000000000006 s, source=0.0\n",
      "[openmc.deplete] t=1451.0 s, dt=246.00000000000009 s, source=0.0\n",
      "[openmc.deplete] t=1697.0 s, dt=242.99999999999991 s, source=0.0\n",
      "[openmc.deplete] t=1940.0 s, dt=427.0 s, source=0.0\n",
      "[openmc.deplete] t=2367.0 s, dt=607.0 s, source=0.0\n",
      "[openmc.deplete] t=2974.0 s, dt=603.0000000000001 s, source=0.0\n",
      "[openmc.deplete] t=3577.0 (final operator evaluation)\n"
     ]
    },
    {
     "name": "stderr",
     "output_type": "stream",
     "text": [
      "/home/4ib/anaconda3/envs/dev_openmc/lib/python3.12/site-packages/openmc/deplete/results.py:91: FutureWarning: The ResultsList.from_hdf5(...) method is no longer necessary and will be removed in a future version of OpenMC. Use Results(...) instead.\n",
      "  warn(\n"
     ]
    }
   ],
   "source": [
    "metric_dict2 = obj.activate(my_material, source_rates, timesteps,\n",
    "                           metric_list=['mass','decay_heat'])"
   ]
  },
  {
   "cell_type": "code",
   "execution_count": 13,
   "metadata": {},
   "outputs": [
    {
     "data": {
      "text/plain": [
       "Text(0.5, 1.0, 'Ag')"
      ]
     },
     "execution_count": 13,
     "metadata": {},
     "output_type": "execute_result"
    },
    {
     "data": {
      "image/png": "[encoded data removed]",
      "text/plain": [
       "<Figure size 640x480 with 1 Axes>"
      ]
     },
     "metadata": {},
     "output_type": "display_data"
    }
   ],
   "source": [
    "import matplotlib.pyplot as plt\n",
    "# fispact only has just decay\n",
    "plt.scatter(data['days_list'][0] + np.array(fr['time']) * 365.25, fr['Total'], label='FISPACT')\n",
    "\n",
    "plt.scatter(np.cumsum(metric_dict['decay_heat']['meta_days']), metric_dict['decay_heat']['meta_total'], label='10split+5reduce_chain', marker='x', alpha=0.3)\n",
    "plt.scatter(np.cumsum(metric_dict2['decay_heat']['meta_days']), metric_dict2['decay_heat']['meta_total'], label='5reduce_chain', marker='o', alpha=0.3)\n",
    "plt.legend()\n",
    "plt.yscale('log')\n",
    "plt.xlabel('Days')\n",
    "plt.ylabel('W/g')\n",
    "plt.grid()\n",
    "plt.title('Ag')"
   ]
  },
  {
   "cell_type": "code",
   "execution_count": null,
   "metadata": {},
   "outputs": [],
   "source": []
  }
 ],
 "metadata": {
  "kernelspec": {
   "display_name": "env_neutronics",
   "language": "python",
   "name": "python3"
  },
  "language_info": {
   "codemirror_mode": {
    "name": "ipython",
    "version": 3
   },
   "file_extension": ".py",
   "mimetype": "text/x-python",
   "name": "python",
   "nbconvert_exporter": "python",
   "pygments_lexer": "ipython3",
   "version": "3.12.0"
  }
 },
 "nbformat": 4,
 "nbformat_minor": 2
}
